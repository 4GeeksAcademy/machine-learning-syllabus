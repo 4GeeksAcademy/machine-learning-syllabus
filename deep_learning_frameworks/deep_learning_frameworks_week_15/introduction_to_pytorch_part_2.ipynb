{
  "nbformat": 4,
  "nbformat_minor": 0,
  "metadata": {
    "colab": {
      "name": "introduction_to_pytorch_part_2.ipynb",
      "provenance": [],
      "collapsed_sections": []
    },
    "kernelspec": {
      "name": "python3",
      "display_name": "Python 3"
    },
    "language_info": {
      "name": "python"
    },
    "accelerator": "GPU",
    "widgets": {
      "application/vnd.jupyter.widget-state+json": {
        "72726e15e64a4140b1d97ebbe8bd87e7": {
          "model_module": "@jupyter-widgets/controls",
          "model_name": "HBoxModel",
          "model_module_version": "1.5.0",
          "state": {
            "_dom_classes": [],
            "_model_module": "@jupyter-widgets/controls",
            "_model_module_version": "1.5.0",
            "_model_name": "HBoxModel",
            "_view_count": null,
            "_view_module": "@jupyter-widgets/controls",
            "_view_module_version": "1.5.0",
            "_view_name": "HBoxView",
            "box_style": "",
            "children": [
              "IPY_MODEL_a29993f9ab1745b0afaf064b9498f520",
              "IPY_MODEL_000c141a23cd4407903a77e71c029a1a",
              "IPY_MODEL_4e651eedd0f74c75bc9c334af4f32ead"
            ],
            "layout": "IPY_MODEL_5dd92693151a4ab7b14e7994c4837a55"
          }
        },
        "a29993f9ab1745b0afaf064b9498f520": {
          "model_module": "@jupyter-widgets/controls",
          "model_name": "HTMLModel",
          "model_module_version": "1.5.0",
          "state": {
            "_dom_classes": [],
            "_model_module": "@jupyter-widgets/controls",
            "_model_module_version": "1.5.0",
            "_model_name": "HTMLModel",
            "_view_count": null,
            "_view_module": "@jupyter-widgets/controls",
            "_view_module_version": "1.5.0",
            "_view_name": "HTMLView",
            "description": "",
            "description_tooltip": null,
            "layout": "IPY_MODEL_612802eb958a4e4f95c0ef8166b8335f",
            "placeholder": "​",
            "style": "IPY_MODEL_526515a4889d4081831e1fb5756afc34",
            "value": ""
          }
        },
        "000c141a23cd4407903a77e71c029a1a": {
          "model_module": "@jupyter-widgets/controls",
          "model_name": "FloatProgressModel",
          "model_module_version": "1.5.0",
          "state": {
            "_dom_classes": [],
            "_model_module": "@jupyter-widgets/controls",
            "_model_module_version": "1.5.0",
            "_model_name": "FloatProgressModel",
            "_view_count": null,
            "_view_module": "@jupyter-widgets/controls",
            "_view_module_version": "1.5.0",
            "_view_name": "ProgressView",
            "bar_style": "success",
            "description": "",
            "description_tooltip": null,
            "layout": "IPY_MODEL_5289c517bd1149beb1d078222db87106",
            "max": 170498071,
            "min": 0,
            "orientation": "horizontal",
            "style": "IPY_MODEL_4ee776221703445ca3d5041f8a8ca078",
            "value": 170498071
          }
        },
        "4e651eedd0f74c75bc9c334af4f32ead": {
          "model_module": "@jupyter-widgets/controls",
          "model_name": "HTMLModel",
          "model_module_version": "1.5.0",
          "state": {
            "_dom_classes": [],
            "_model_module": "@jupyter-widgets/controls",
            "_model_module_version": "1.5.0",
            "_model_name": "HTMLModel",
            "_view_count": null,
            "_view_module": "@jupyter-widgets/controls",
            "_view_module_version": "1.5.0",
            "_view_name": "HTMLView",
            "description": "",
            "description_tooltip": null,
            "layout": "IPY_MODEL_f5a3890c0b6948fca465bf0055a0b7da",
            "placeholder": "​",
            "style": "IPY_MODEL_aaf44488565d4f45b0a559a17f2e4d61",
            "value": " 170499072/? [00:01&lt;00:00, 100364776.00it/s]"
          }
        },
        "5dd92693151a4ab7b14e7994c4837a55": {
          "model_module": "@jupyter-widgets/base",
          "model_name": "LayoutModel",
          "model_module_version": "1.2.0",
          "state": {
            "_model_module": "@jupyter-widgets/base",
            "_model_module_version": "1.2.0",
            "_model_name": "LayoutModel",
            "_view_count": null,
            "_view_module": "@jupyter-widgets/base",
            "_view_module_version": "1.2.0",
            "_view_name": "LayoutView",
            "align_content": null,
            "align_items": null,
            "align_self": null,
            "border": null,
            "bottom": null,
            "display": null,
            "flex": null,
            "flex_flow": null,
            "grid_area": null,
            "grid_auto_columns": null,
            "grid_auto_flow": null,
            "grid_auto_rows": null,
            "grid_column": null,
            "grid_gap": null,
            "grid_row": null,
            "grid_template_areas": null,
            "grid_template_columns": null,
            "grid_template_rows": null,
            "height": null,
            "justify_content": null,
            "justify_items": null,
            "left": null,
            "margin": null,
            "max_height": null,
            "max_width": null,
            "min_height": null,
            "min_width": null,
            "object_fit": null,
            "object_position": null,
            "order": null,
            "overflow": null,
            "overflow_x": null,
            "overflow_y": null,
            "padding": null,
            "right": null,
            "top": null,
            "visibility": null,
            "width": null
          }
        },
        "612802eb958a4e4f95c0ef8166b8335f": {
          "model_module": "@jupyter-widgets/base",
          "model_name": "LayoutModel",
          "model_module_version": "1.2.0",
          "state": {
            "_model_module": "@jupyter-widgets/base",
            "_model_module_version": "1.2.0",
            "_model_name": "LayoutModel",
            "_view_count": null,
            "_view_module": "@jupyter-widgets/base",
            "_view_module_version": "1.2.0",
            "_view_name": "LayoutView",
            "align_content": null,
            "align_items": null,
            "align_self": null,
            "border": null,
            "bottom": null,
            "display": null,
            "flex": null,
            "flex_flow": null,
            "grid_area": null,
            "grid_auto_columns": null,
            "grid_auto_flow": null,
            "grid_auto_rows": null,
            "grid_column": null,
            "grid_gap": null,
            "grid_row": null,
            "grid_template_areas": null,
            "grid_template_columns": null,
            "grid_template_rows": null,
            "height": null,
            "justify_content": null,
            "justify_items": null,
            "left": null,
            "margin": null,
            "max_height": null,
            "max_width": null,
            "min_height": null,
            "min_width": null,
            "object_fit": null,
            "object_position": null,
            "order": null,
            "overflow": null,
            "overflow_x": null,
            "overflow_y": null,
            "padding": null,
            "right": null,
            "top": null,
            "visibility": null,
            "width": null
          }
        },
        "526515a4889d4081831e1fb5756afc34": {
          "model_module": "@jupyter-widgets/controls",
          "model_name": "DescriptionStyleModel",
          "model_module_version": "1.5.0",
          "state": {
            "_model_module": "@jupyter-widgets/controls",
            "_model_module_version": "1.5.0",
            "_model_name": "DescriptionStyleModel",
            "_view_count": null,
            "_view_module": "@jupyter-widgets/base",
            "_view_module_version": "1.2.0",
            "_view_name": "StyleView",
            "description_width": ""
          }
        },
        "5289c517bd1149beb1d078222db87106": {
          "model_module": "@jupyter-widgets/base",
          "model_name": "LayoutModel",
          "model_module_version": "1.2.0",
          "state": {
            "_model_module": "@jupyter-widgets/base",
            "_model_module_version": "1.2.0",
            "_model_name": "LayoutModel",
            "_view_count": null,
            "_view_module": "@jupyter-widgets/base",
            "_view_module_version": "1.2.0",
            "_view_name": "LayoutView",
            "align_content": null,
            "align_items": null,
            "align_self": null,
            "border": null,
            "bottom": null,
            "display": null,
            "flex": null,
            "flex_flow": null,
            "grid_area": null,
            "grid_auto_columns": null,
            "grid_auto_flow": null,
            "grid_auto_rows": null,
            "grid_column": null,
            "grid_gap": null,
            "grid_row": null,
            "grid_template_areas": null,
            "grid_template_columns": null,
            "grid_template_rows": null,
            "height": null,
            "justify_content": null,
            "justify_items": null,
            "left": null,
            "margin": null,
            "max_height": null,
            "max_width": null,
            "min_height": null,
            "min_width": null,
            "object_fit": null,
            "object_position": null,
            "order": null,
            "overflow": null,
            "overflow_x": null,
            "overflow_y": null,
            "padding": null,
            "right": null,
            "top": null,
            "visibility": null,
            "width": null
          }
        },
        "4ee776221703445ca3d5041f8a8ca078": {
          "model_module": "@jupyter-widgets/controls",
          "model_name": "ProgressStyleModel",
          "model_module_version": "1.5.0",
          "state": {
            "_model_module": "@jupyter-widgets/controls",
            "_model_module_version": "1.5.0",
            "_model_name": "ProgressStyleModel",
            "_view_count": null,
            "_view_module": "@jupyter-widgets/base",
            "_view_module_version": "1.2.0",
            "_view_name": "StyleView",
            "bar_color": null,
            "description_width": ""
          }
        },
        "f5a3890c0b6948fca465bf0055a0b7da": {
          "model_module": "@jupyter-widgets/base",
          "model_name": "LayoutModel",
          "model_module_version": "1.2.0",
          "state": {
            "_model_module": "@jupyter-widgets/base",
            "_model_module_version": "1.2.0",
            "_model_name": "LayoutModel",
            "_view_count": null,
            "_view_module": "@jupyter-widgets/base",
            "_view_module_version": "1.2.0",
            "_view_name": "LayoutView",
            "align_content": null,
            "align_items": null,
            "align_self": null,
            "border": null,
            "bottom": null,
            "display": null,
            "flex": null,
            "flex_flow": null,
            "grid_area": null,
            "grid_auto_columns": null,
            "grid_auto_flow": null,
            "grid_auto_rows": null,
            "grid_column": null,
            "grid_gap": null,
            "grid_row": null,
            "grid_template_areas": null,
            "grid_template_columns": null,
            "grid_template_rows": null,
            "height": null,
            "justify_content": null,
            "justify_items": null,
            "left": null,
            "margin": null,
            "max_height": null,
            "max_width": null,
            "min_height": null,
            "min_width": null,
            "object_fit": null,
            "object_position": null,
            "order": null,
            "overflow": null,
            "overflow_x": null,
            "overflow_y": null,
            "padding": null,
            "right": null,
            "top": null,
            "visibility": null,
            "width": null
          }
        },
        "aaf44488565d4f45b0a559a17f2e4d61": {
          "model_module": "@jupyter-widgets/controls",
          "model_name": "DescriptionStyleModel",
          "model_module_version": "1.5.0",
          "state": {
            "_model_module": "@jupyter-widgets/controls",
            "_model_module_version": "1.5.0",
            "_model_name": "DescriptionStyleModel",
            "_view_count": null,
            "_view_module": "@jupyter-widgets/base",
            "_view_module_version": "1.2.0",
            "_view_name": "StyleView",
            "description_width": ""
          }
        },
        "0c6e70664ba343a2b44bc0eeff7aec47": {
          "model_module": "@jupyter-widgets/controls",
          "model_name": "HBoxModel",
          "model_module_version": "1.5.0",
          "state": {
            "_dom_classes": [],
            "_model_module": "@jupyter-widgets/controls",
            "_model_module_version": "1.5.0",
            "_model_name": "HBoxModel",
            "_view_count": null,
            "_view_module": "@jupyter-widgets/controls",
            "_view_module_version": "1.5.0",
            "_view_name": "HBoxView",
            "box_style": "",
            "children": [
              "IPY_MODEL_c5c3c3269abd4a378dce4932917f0d0b",
              "IPY_MODEL_8040ce13700542d79f8f11424ee6dcd9",
              "IPY_MODEL_04eece801b4e46298ea71ebec85ed42b"
            ],
            "layout": "IPY_MODEL_944ca18b4af1444fa21aa6b51e699150"
          }
        },
        "c5c3c3269abd4a378dce4932917f0d0b": {
          "model_module": "@jupyter-widgets/controls",
          "model_name": "HTMLModel",
          "model_module_version": "1.5.0",
          "state": {
            "_dom_classes": [],
            "_model_module": "@jupyter-widgets/controls",
            "_model_module_version": "1.5.0",
            "_model_name": "HTMLModel",
            "_view_count": null,
            "_view_module": "@jupyter-widgets/controls",
            "_view_module_version": "1.5.0",
            "_view_name": "HTMLView",
            "description": "",
            "description_tooltip": null,
            "layout": "IPY_MODEL_a83d0450f52241efbdba23ed9fc7dc89",
            "placeholder": "​",
            "style": "IPY_MODEL_ed0a8af07ddf4034a7cf674dc41b2718",
            "value": ""
          }
        },
        "8040ce13700542d79f8f11424ee6dcd9": {
          "model_module": "@jupyter-widgets/controls",
          "model_name": "FloatProgressModel",
          "model_module_version": "1.5.0",
          "state": {
            "_dom_classes": [],
            "_model_module": "@jupyter-widgets/controls",
            "_model_module_version": "1.5.0",
            "_model_name": "FloatProgressModel",
            "_view_count": null,
            "_view_module": "@jupyter-widgets/controls",
            "_view_module_version": "1.5.0",
            "_view_name": "ProgressView",
            "bar_style": "success",
            "description": "",
            "description_tooltip": null,
            "layout": "IPY_MODEL_ec170e0414314a5794a3192df160a656",
            "max": 9912422,
            "min": 0,
            "orientation": "horizontal",
            "style": "IPY_MODEL_fdfa40ea82624d488ffa960835ad5311",
            "value": 9912422
          }
        },
        "04eece801b4e46298ea71ebec85ed42b": {
          "model_module": "@jupyter-widgets/controls",
          "model_name": "HTMLModel",
          "model_module_version": "1.5.0",
          "state": {
            "_dom_classes": [],
            "_model_module": "@jupyter-widgets/controls",
            "_model_module_version": "1.5.0",
            "_model_name": "HTMLModel",
            "_view_count": null,
            "_view_module": "@jupyter-widgets/controls",
            "_view_module_version": "1.5.0",
            "_view_name": "HTMLView",
            "description": "",
            "description_tooltip": null,
            "layout": "IPY_MODEL_faa7d3b834354254acaa119addf32624",
            "placeholder": "​",
            "style": "IPY_MODEL_ce7bf1bfbf17457c96612e929beffe87",
            "value": " 9913344/? [00:00&lt;00:00, 85196271.88it/s]"
          }
        },
        "944ca18b4af1444fa21aa6b51e699150": {
          "model_module": "@jupyter-widgets/base",
          "model_name": "LayoutModel",
          "model_module_version": "1.2.0",
          "state": {
            "_model_module": "@jupyter-widgets/base",
            "_model_module_version": "1.2.0",
            "_model_name": "LayoutModel",
            "_view_count": null,
            "_view_module": "@jupyter-widgets/base",
            "_view_module_version": "1.2.0",
            "_view_name": "LayoutView",
            "align_content": null,
            "align_items": null,
            "align_self": null,
            "border": null,
            "bottom": null,
            "display": null,
            "flex": null,
            "flex_flow": null,
            "grid_area": null,
            "grid_auto_columns": null,
            "grid_auto_flow": null,
            "grid_auto_rows": null,
            "grid_column": null,
            "grid_gap": null,
            "grid_row": null,
            "grid_template_areas": null,
            "grid_template_columns": null,
            "grid_template_rows": null,
            "height": null,
            "justify_content": null,
            "justify_items": null,
            "left": null,
            "margin": null,
            "max_height": null,
            "max_width": null,
            "min_height": null,
            "min_width": null,
            "object_fit": null,
            "object_position": null,
            "order": null,
            "overflow": null,
            "overflow_x": null,
            "overflow_y": null,
            "padding": null,
            "right": null,
            "top": null,
            "visibility": null,
            "width": null
          }
        },
        "a83d0450f52241efbdba23ed9fc7dc89": {
          "model_module": "@jupyter-widgets/base",
          "model_name": "LayoutModel",
          "model_module_version": "1.2.0",
          "state": {
            "_model_module": "@jupyter-widgets/base",
            "_model_module_version": "1.2.0",
            "_model_name": "LayoutModel",
            "_view_count": null,
            "_view_module": "@jupyter-widgets/base",
            "_view_module_version": "1.2.0",
            "_view_name": "LayoutView",
            "align_content": null,
            "align_items": null,
            "align_self": null,
            "border": null,
            "bottom": null,
            "display": null,
            "flex": null,
            "flex_flow": null,
            "grid_area": null,
            "grid_auto_columns": null,
            "grid_auto_flow": null,
            "grid_auto_rows": null,
            "grid_column": null,
            "grid_gap": null,
            "grid_row": null,
            "grid_template_areas": null,
            "grid_template_columns": null,
            "grid_template_rows": null,
            "height": null,
            "justify_content": null,
            "justify_items": null,
            "left": null,
            "margin": null,
            "max_height": null,
            "max_width": null,
            "min_height": null,
            "min_width": null,
            "object_fit": null,
            "object_position": null,
            "order": null,
            "overflow": null,
            "overflow_x": null,
            "overflow_y": null,
            "padding": null,
            "right": null,
            "top": null,
            "visibility": null,
            "width": null
          }
        },
        "ed0a8af07ddf4034a7cf674dc41b2718": {
          "model_module": "@jupyter-widgets/controls",
          "model_name": "DescriptionStyleModel",
          "model_module_version": "1.5.0",
          "state": {
            "_model_module": "@jupyter-widgets/controls",
            "_model_module_version": "1.5.0",
            "_model_name": "DescriptionStyleModel",
            "_view_count": null,
            "_view_module": "@jupyter-widgets/base",
            "_view_module_version": "1.2.0",
            "_view_name": "StyleView",
            "description_width": ""
          }
        },
        "ec170e0414314a5794a3192df160a656": {
          "model_module": "@jupyter-widgets/base",
          "model_name": "LayoutModel",
          "model_module_version": "1.2.0",
          "state": {
            "_model_module": "@jupyter-widgets/base",
            "_model_module_version": "1.2.0",
            "_model_name": "LayoutModel",
            "_view_count": null,
            "_view_module": "@jupyter-widgets/base",
            "_view_module_version": "1.2.0",
            "_view_name": "LayoutView",
            "align_content": null,
            "align_items": null,
            "align_self": null,
            "border": null,
            "bottom": null,
            "display": null,
            "flex": null,
            "flex_flow": null,
            "grid_area": null,
            "grid_auto_columns": null,
            "grid_auto_flow": null,
            "grid_auto_rows": null,
            "grid_column": null,
            "grid_gap": null,
            "grid_row": null,
            "grid_template_areas": null,
            "grid_template_columns": null,
            "grid_template_rows": null,
            "height": null,
            "justify_content": null,
            "justify_items": null,
            "left": null,
            "margin": null,
            "max_height": null,
            "max_width": null,
            "min_height": null,
            "min_width": null,
            "object_fit": null,
            "object_position": null,
            "order": null,
            "overflow": null,
            "overflow_x": null,
            "overflow_y": null,
            "padding": null,
            "right": null,
            "top": null,
            "visibility": null,
            "width": null
          }
        },
        "fdfa40ea82624d488ffa960835ad5311": {
          "model_module": "@jupyter-widgets/controls",
          "model_name": "ProgressStyleModel",
          "model_module_version": "1.5.0",
          "state": {
            "_model_module": "@jupyter-widgets/controls",
            "_model_module_version": "1.5.0",
            "_model_name": "ProgressStyleModel",
            "_view_count": null,
            "_view_module": "@jupyter-widgets/base",
            "_view_module_version": "1.2.0",
            "_view_name": "StyleView",
            "bar_color": null,
            "description_width": ""
          }
        },
        "faa7d3b834354254acaa119addf32624": {
          "model_module": "@jupyter-widgets/base",
          "model_name": "LayoutModel",
          "model_module_version": "1.2.0",
          "state": {
            "_model_module": "@jupyter-widgets/base",
            "_model_module_version": "1.2.0",
            "_model_name": "LayoutModel",
            "_view_count": null,
            "_view_module": "@jupyter-widgets/base",
            "_view_module_version": "1.2.0",
            "_view_name": "LayoutView",
            "align_content": null,
            "align_items": null,
            "align_self": null,
            "border": null,
            "bottom": null,
            "display": null,
            "flex": null,
            "flex_flow": null,
            "grid_area": null,
            "grid_auto_columns": null,
            "grid_auto_flow": null,
            "grid_auto_rows": null,
            "grid_column": null,
            "grid_gap": null,
            "grid_row": null,
            "grid_template_areas": null,
            "grid_template_columns": null,
            "grid_template_rows": null,
            "height": null,
            "justify_content": null,
            "justify_items": null,
            "left": null,
            "margin": null,
            "max_height": null,
            "max_width": null,
            "min_height": null,
            "min_width": null,
            "object_fit": null,
            "object_position": null,
            "order": null,
            "overflow": null,
            "overflow_x": null,
            "overflow_y": null,
            "padding": null,
            "right": null,
            "top": null,
            "visibility": null,
            "width": null
          }
        },
        "ce7bf1bfbf17457c96612e929beffe87": {
          "model_module": "@jupyter-widgets/controls",
          "model_name": "DescriptionStyleModel",
          "model_module_version": "1.5.0",
          "state": {
            "_model_module": "@jupyter-widgets/controls",
            "_model_module_version": "1.5.0",
            "_model_name": "DescriptionStyleModel",
            "_view_count": null,
            "_view_module": "@jupyter-widgets/base",
            "_view_module_version": "1.2.0",
            "_view_name": "StyleView",
            "description_width": ""
          }
        },
        "dbfea7aa1aa84e8dbe8c81e6ffd967d0": {
          "model_module": "@jupyter-widgets/controls",
          "model_name": "HBoxModel",
          "model_module_version": "1.5.0",
          "state": {
            "_dom_classes": [],
            "_model_module": "@jupyter-widgets/controls",
            "_model_module_version": "1.5.0",
            "_model_name": "HBoxModel",
            "_view_count": null,
            "_view_module": "@jupyter-widgets/controls",
            "_view_module_version": "1.5.0",
            "_view_name": "HBoxView",
            "box_style": "",
            "children": [
              "IPY_MODEL_1235aa6fede54f648fcf90503cff7ff0",
              "IPY_MODEL_39c49781e0ea4a94a2e551b67ae4d44f",
              "IPY_MODEL_6ebb36ffc3ba4bbabccb4d0f84eee200"
            ],
            "layout": "IPY_MODEL_809a195b35bc4184a66d4f37934a0e70"
          }
        },
        "1235aa6fede54f648fcf90503cff7ff0": {
          "model_module": "@jupyter-widgets/controls",
          "model_name": "HTMLModel",
          "model_module_version": "1.5.0",
          "state": {
            "_dom_classes": [],
            "_model_module": "@jupyter-widgets/controls",
            "_model_module_version": "1.5.0",
            "_model_name": "HTMLModel",
            "_view_count": null,
            "_view_module": "@jupyter-widgets/controls",
            "_view_module_version": "1.5.0",
            "_view_name": "HTMLView",
            "description": "",
            "description_tooltip": null,
            "layout": "IPY_MODEL_15fdf35197fb47b9a880f021190a2acd",
            "placeholder": "​",
            "style": "IPY_MODEL_8491c2c8cfdb4026a0a0372b49a707ea",
            "value": ""
          }
        },
        "39c49781e0ea4a94a2e551b67ae4d44f": {
          "model_module": "@jupyter-widgets/controls",
          "model_name": "FloatProgressModel",
          "model_module_version": "1.5.0",
          "state": {
            "_dom_classes": [],
            "_model_module": "@jupyter-widgets/controls",
            "_model_module_version": "1.5.0",
            "_model_name": "FloatProgressModel",
            "_view_count": null,
            "_view_module": "@jupyter-widgets/controls",
            "_view_module_version": "1.5.0",
            "_view_name": "ProgressView",
            "bar_style": "success",
            "description": "",
            "description_tooltip": null,
            "layout": "IPY_MODEL_39db6b20e70143f79f126ea70393dec7",
            "max": 28881,
            "min": 0,
            "orientation": "horizontal",
            "style": "IPY_MODEL_9a6111166984444d9eeb09deeddcf4a7",
            "value": 28881
          }
        },
        "6ebb36ffc3ba4bbabccb4d0f84eee200": {
          "model_module": "@jupyter-widgets/controls",
          "model_name": "HTMLModel",
          "model_module_version": "1.5.0",
          "state": {
            "_dom_classes": [],
            "_model_module": "@jupyter-widgets/controls",
            "_model_module_version": "1.5.0",
            "_model_name": "HTMLModel",
            "_view_count": null,
            "_view_module": "@jupyter-widgets/controls",
            "_view_module_version": "1.5.0",
            "_view_name": "HTMLView",
            "description": "",
            "description_tooltip": null,
            "layout": "IPY_MODEL_808296bbf8de4af19d949ec2b494e8e2",
            "placeholder": "​",
            "style": "IPY_MODEL_6ec165a568af4dd7a682dfc572c80d7a",
            "value": " 29696/? [00:00&lt;00:00, 838031.12it/s]"
          }
        },
        "809a195b35bc4184a66d4f37934a0e70": {
          "model_module": "@jupyter-widgets/base",
          "model_name": "LayoutModel",
          "model_module_version": "1.2.0",
          "state": {
            "_model_module": "@jupyter-widgets/base",
            "_model_module_version": "1.2.0",
            "_model_name": "LayoutModel",
            "_view_count": null,
            "_view_module": "@jupyter-widgets/base",
            "_view_module_version": "1.2.0",
            "_view_name": "LayoutView",
            "align_content": null,
            "align_items": null,
            "align_self": null,
            "border": null,
            "bottom": null,
            "display": null,
            "flex": null,
            "flex_flow": null,
            "grid_area": null,
            "grid_auto_columns": null,
            "grid_auto_flow": null,
            "grid_auto_rows": null,
            "grid_column": null,
            "grid_gap": null,
            "grid_row": null,
            "grid_template_areas": null,
            "grid_template_columns": null,
            "grid_template_rows": null,
            "height": null,
            "justify_content": null,
            "justify_items": null,
            "left": null,
            "margin": null,
            "max_height": null,
            "max_width": null,
            "min_height": null,
            "min_width": null,
            "object_fit": null,
            "object_position": null,
            "order": null,
            "overflow": null,
            "overflow_x": null,
            "overflow_y": null,
            "padding": null,
            "right": null,
            "top": null,
            "visibility": null,
            "width": null
          }
        },
        "15fdf35197fb47b9a880f021190a2acd": {
          "model_module": "@jupyter-widgets/base",
          "model_name": "LayoutModel",
          "model_module_version": "1.2.0",
          "state": {
            "_model_module": "@jupyter-widgets/base",
            "_model_module_version": "1.2.0",
            "_model_name": "LayoutModel",
            "_view_count": null,
            "_view_module": "@jupyter-widgets/base",
            "_view_module_version": "1.2.0",
            "_view_name": "LayoutView",
            "align_content": null,
            "align_items": null,
            "align_self": null,
            "border": null,
            "bottom": null,
            "display": null,
            "flex": null,
            "flex_flow": null,
            "grid_area": null,
            "grid_auto_columns": null,
            "grid_auto_flow": null,
            "grid_auto_rows": null,
            "grid_column": null,
            "grid_gap": null,
            "grid_row": null,
            "grid_template_areas": null,
            "grid_template_columns": null,
            "grid_template_rows": null,
            "height": null,
            "justify_content": null,
            "justify_items": null,
            "left": null,
            "margin": null,
            "max_height": null,
            "max_width": null,
            "min_height": null,
            "min_width": null,
            "object_fit": null,
            "object_position": null,
            "order": null,
            "overflow": null,
            "overflow_x": null,
            "overflow_y": null,
            "padding": null,
            "right": null,
            "top": null,
            "visibility": null,
            "width": null
          }
        },
        "8491c2c8cfdb4026a0a0372b49a707ea": {
          "model_module": "@jupyter-widgets/controls",
          "model_name": "DescriptionStyleModel",
          "model_module_version": "1.5.0",
          "state": {
            "_model_module": "@jupyter-widgets/controls",
            "_model_module_version": "1.5.0",
            "_model_name": "DescriptionStyleModel",
            "_view_count": null,
            "_view_module": "@jupyter-widgets/base",
            "_view_module_version": "1.2.0",
            "_view_name": "StyleView",
            "description_width": ""
          }
        },
        "39db6b20e70143f79f126ea70393dec7": {
          "model_module": "@jupyter-widgets/base",
          "model_name": "LayoutModel",
          "model_module_version": "1.2.0",
          "state": {
            "_model_module": "@jupyter-widgets/base",
            "_model_module_version": "1.2.0",
            "_model_name": "LayoutModel",
            "_view_count": null,
            "_view_module": "@jupyter-widgets/base",
            "_view_module_version": "1.2.0",
            "_view_name": "LayoutView",
            "align_content": null,
            "align_items": null,
            "align_self": null,
            "border": null,
            "bottom": null,
            "display": null,
            "flex": null,
            "flex_flow": null,
            "grid_area": null,
            "grid_auto_columns": null,
            "grid_auto_flow": null,
            "grid_auto_rows": null,
            "grid_column": null,
            "grid_gap": null,
            "grid_row": null,
            "grid_template_areas": null,
            "grid_template_columns": null,
            "grid_template_rows": null,
            "height": null,
            "justify_content": null,
            "justify_items": null,
            "left": null,
            "margin": null,
            "max_height": null,
            "max_width": null,
            "min_height": null,
            "min_width": null,
            "object_fit": null,
            "object_position": null,
            "order": null,
            "overflow": null,
            "overflow_x": null,
            "overflow_y": null,
            "padding": null,
            "right": null,
            "top": null,
            "visibility": null,
            "width": null
          }
        },
        "9a6111166984444d9eeb09deeddcf4a7": {
          "model_module": "@jupyter-widgets/controls",
          "model_name": "ProgressStyleModel",
          "model_module_version": "1.5.0",
          "state": {
            "_model_module": "@jupyter-widgets/controls",
            "_model_module_version": "1.5.0",
            "_model_name": "ProgressStyleModel",
            "_view_count": null,
            "_view_module": "@jupyter-widgets/base",
            "_view_module_version": "1.2.0",
            "_view_name": "StyleView",
            "bar_color": null,
            "description_width": ""
          }
        },
        "808296bbf8de4af19d949ec2b494e8e2": {
          "model_module": "@jupyter-widgets/base",
          "model_name": "LayoutModel",
          "model_module_version": "1.2.0",
          "state": {
            "_model_module": "@jupyter-widgets/base",
            "_model_module_version": "1.2.0",
            "_model_name": "LayoutModel",
            "_view_count": null,
            "_view_module": "@jupyter-widgets/base",
            "_view_module_version": "1.2.0",
            "_view_name": "LayoutView",
            "align_content": null,
            "align_items": null,
            "align_self": null,
            "border": null,
            "bottom": null,
            "display": null,
            "flex": null,
            "flex_flow": null,
            "grid_area": null,
            "grid_auto_columns": null,
            "grid_auto_flow": null,
            "grid_auto_rows": null,
            "grid_column": null,
            "grid_gap": null,
            "grid_row": null,
            "grid_template_areas": null,
            "grid_template_columns": null,
            "grid_template_rows": null,
            "height": null,
            "justify_content": null,
            "justify_items": null,
            "left": null,
            "margin": null,
            "max_height": null,
            "max_width": null,
            "min_height": null,
            "min_width": null,
            "object_fit": null,
            "object_position": null,
            "order": null,
            "overflow": null,
            "overflow_x": null,
            "overflow_y": null,
            "padding": null,
            "right": null,
            "top": null,
            "visibility": null,
            "width": null
          }
        },
        "6ec165a568af4dd7a682dfc572c80d7a": {
          "model_module": "@jupyter-widgets/controls",
          "model_name": "DescriptionStyleModel",
          "model_module_version": "1.5.0",
          "state": {
            "_model_module": "@jupyter-widgets/controls",
            "_model_module_version": "1.5.0",
            "_model_name": "DescriptionStyleModel",
            "_view_count": null,
            "_view_module": "@jupyter-widgets/base",
            "_view_module_version": "1.2.0",
            "_view_name": "StyleView",
            "description_width": ""
          }
        },
        "80bc78e9c09e4c4bace22d7d5c06319e": {
          "model_module": "@jupyter-widgets/controls",
          "model_name": "HBoxModel",
          "model_module_version": "1.5.0",
          "state": {
            "_dom_classes": [],
            "_model_module": "@jupyter-widgets/controls",
            "_model_module_version": "1.5.0",
            "_model_name": "HBoxModel",
            "_view_count": null,
            "_view_module": "@jupyter-widgets/controls",
            "_view_module_version": "1.5.0",
            "_view_name": "HBoxView",
            "box_style": "",
            "children": [
              "IPY_MODEL_0a7aef857c124a70b3fe53322f363098",
              "IPY_MODEL_6e8ae8adff064c53ac5e3f93e499d112",
              "IPY_MODEL_84d476bb50c94597a3ed98d985803fee"
            ],
            "layout": "IPY_MODEL_7fedd9a9d8694066a1f3d15552286fc5"
          }
        },
        "0a7aef857c124a70b3fe53322f363098": {
          "model_module": "@jupyter-widgets/controls",
          "model_name": "HTMLModel",
          "model_module_version": "1.5.0",
          "state": {
            "_dom_classes": [],
            "_model_module": "@jupyter-widgets/controls",
            "_model_module_version": "1.5.0",
            "_model_name": "HTMLModel",
            "_view_count": null,
            "_view_module": "@jupyter-widgets/controls",
            "_view_module_version": "1.5.0",
            "_view_name": "HTMLView",
            "description": "",
            "description_tooltip": null,
            "layout": "IPY_MODEL_530c3bd093e442c4b6e2c087e555ff96",
            "placeholder": "​",
            "style": "IPY_MODEL_e89bdb55b611449a8fababedf3482348",
            "value": ""
          }
        },
        "6e8ae8adff064c53ac5e3f93e499d112": {
          "model_module": "@jupyter-widgets/controls",
          "model_name": "FloatProgressModel",
          "model_module_version": "1.5.0",
          "state": {
            "_dom_classes": [],
            "_model_module": "@jupyter-widgets/controls",
            "_model_module_version": "1.5.0",
            "_model_name": "FloatProgressModel",
            "_view_count": null,
            "_view_module": "@jupyter-widgets/controls",
            "_view_module_version": "1.5.0",
            "_view_name": "ProgressView",
            "bar_style": "success",
            "description": "",
            "description_tooltip": null,
            "layout": "IPY_MODEL_8ba5d60790644a7784a00ae2918747ea",
            "max": 1648877,
            "min": 0,
            "orientation": "horizontal",
            "style": "IPY_MODEL_6becb61194fb400a838a6e0aa4b86491",
            "value": 1648877
          }
        },
        "84d476bb50c94597a3ed98d985803fee": {
          "model_module": "@jupyter-widgets/controls",
          "model_name": "HTMLModel",
          "model_module_version": "1.5.0",
          "state": {
            "_dom_classes": [],
            "_model_module": "@jupyter-widgets/controls",
            "_model_module_version": "1.5.0",
            "_model_name": "HTMLModel",
            "_view_count": null,
            "_view_module": "@jupyter-widgets/controls",
            "_view_module_version": "1.5.0",
            "_view_name": "HTMLView",
            "description": "",
            "description_tooltip": null,
            "layout": "IPY_MODEL_1d15ed904b9d40c8a32ec9bdf587104e",
            "placeholder": "​",
            "style": "IPY_MODEL_dfa2d1102d4a4cbd873753ae18c9e1fb",
            "value": " 1649664/? [00:00&lt;00:00, 25582200.97it/s]"
          }
        },
        "7fedd9a9d8694066a1f3d15552286fc5": {
          "model_module": "@jupyter-widgets/base",
          "model_name": "LayoutModel",
          "model_module_version": "1.2.0",
          "state": {
            "_model_module": "@jupyter-widgets/base",
            "_model_module_version": "1.2.0",
            "_model_name": "LayoutModel",
            "_view_count": null,
            "_view_module": "@jupyter-widgets/base",
            "_view_module_version": "1.2.0",
            "_view_name": "LayoutView",
            "align_content": null,
            "align_items": null,
            "align_self": null,
            "border": null,
            "bottom": null,
            "display": null,
            "flex": null,
            "flex_flow": null,
            "grid_area": null,
            "grid_auto_columns": null,
            "grid_auto_flow": null,
            "grid_auto_rows": null,
            "grid_column": null,
            "grid_gap": null,
            "grid_row": null,
            "grid_template_areas": null,
            "grid_template_columns": null,
            "grid_template_rows": null,
            "height": null,
            "justify_content": null,
            "justify_items": null,
            "left": null,
            "margin": null,
            "max_height": null,
            "max_width": null,
            "min_height": null,
            "min_width": null,
            "object_fit": null,
            "object_position": null,
            "order": null,
            "overflow": null,
            "overflow_x": null,
            "overflow_y": null,
            "padding": null,
            "right": null,
            "top": null,
            "visibility": null,
            "width": null
          }
        },
        "530c3bd093e442c4b6e2c087e555ff96": {
          "model_module": "@jupyter-widgets/base",
          "model_name": "LayoutModel",
          "model_module_version": "1.2.0",
          "state": {
            "_model_module": "@jupyter-widgets/base",
            "_model_module_version": "1.2.0",
            "_model_name": "LayoutModel",
            "_view_count": null,
            "_view_module": "@jupyter-widgets/base",
            "_view_module_version": "1.2.0",
            "_view_name": "LayoutView",
            "align_content": null,
            "align_items": null,
            "align_self": null,
            "border": null,
            "bottom": null,
            "display": null,
            "flex": null,
            "flex_flow": null,
            "grid_area": null,
            "grid_auto_columns": null,
            "grid_auto_flow": null,
            "grid_auto_rows": null,
            "grid_column": null,
            "grid_gap": null,
            "grid_row": null,
            "grid_template_areas": null,
            "grid_template_columns": null,
            "grid_template_rows": null,
            "height": null,
            "justify_content": null,
            "justify_items": null,
            "left": null,
            "margin": null,
            "max_height": null,
            "max_width": null,
            "min_height": null,
            "min_width": null,
            "object_fit": null,
            "object_position": null,
            "order": null,
            "overflow": null,
            "overflow_x": null,
            "overflow_y": null,
            "padding": null,
            "right": null,
            "top": null,
            "visibility": null,
            "width": null
          }
        },
        "e89bdb55b611449a8fababedf3482348": {
          "model_module": "@jupyter-widgets/controls",
          "model_name": "DescriptionStyleModel",
          "model_module_version": "1.5.0",
          "state": {
            "_model_module": "@jupyter-widgets/controls",
            "_model_module_version": "1.5.0",
            "_model_name": "DescriptionStyleModel",
            "_view_count": null,
            "_view_module": "@jupyter-widgets/base",
            "_view_module_version": "1.2.0",
            "_view_name": "StyleView",
            "description_width": ""
          }
        },
        "8ba5d60790644a7784a00ae2918747ea": {
          "model_module": "@jupyter-widgets/base",
          "model_name": "LayoutModel",
          "model_module_version": "1.2.0",
          "state": {
            "_model_module": "@jupyter-widgets/base",
            "_model_module_version": "1.2.0",
            "_model_name": "LayoutModel",
            "_view_count": null,
            "_view_module": "@jupyter-widgets/base",
            "_view_module_version": "1.2.0",
            "_view_name": "LayoutView",
            "align_content": null,
            "align_items": null,
            "align_self": null,
            "border": null,
            "bottom": null,
            "display": null,
            "flex": null,
            "flex_flow": null,
            "grid_area": null,
            "grid_auto_columns": null,
            "grid_auto_flow": null,
            "grid_auto_rows": null,
            "grid_column": null,
            "grid_gap": null,
            "grid_row": null,
            "grid_template_areas": null,
            "grid_template_columns": null,
            "grid_template_rows": null,
            "height": null,
            "justify_content": null,
            "justify_items": null,
            "left": null,
            "margin": null,
            "max_height": null,
            "max_width": null,
            "min_height": null,
            "min_width": null,
            "object_fit": null,
            "object_position": null,
            "order": null,
            "overflow": null,
            "overflow_x": null,
            "overflow_y": null,
            "padding": null,
            "right": null,
            "top": null,
            "visibility": null,
            "width": null
          }
        },
        "6becb61194fb400a838a6e0aa4b86491": {
          "model_module": "@jupyter-widgets/controls",
          "model_name": "ProgressStyleModel",
          "model_module_version": "1.5.0",
          "state": {
            "_model_module": "@jupyter-widgets/controls",
            "_model_module_version": "1.5.0",
            "_model_name": "ProgressStyleModel",
            "_view_count": null,
            "_view_module": "@jupyter-widgets/base",
            "_view_module_version": "1.2.0",
            "_view_name": "StyleView",
            "bar_color": null,
            "description_width": ""
          }
        },
        "1d15ed904b9d40c8a32ec9bdf587104e": {
          "model_module": "@jupyter-widgets/base",
          "model_name": "LayoutModel",
          "model_module_version": "1.2.0",
          "state": {
            "_model_module": "@jupyter-widgets/base",
            "_model_module_version": "1.2.0",
            "_model_name": "LayoutModel",
            "_view_count": null,
            "_view_module": "@jupyter-widgets/base",
            "_view_module_version": "1.2.0",
            "_view_name": "LayoutView",
            "align_content": null,
            "align_items": null,
            "align_self": null,
            "border": null,
            "bottom": null,
            "display": null,
            "flex": null,
            "flex_flow": null,
            "grid_area": null,
            "grid_auto_columns": null,
            "grid_auto_flow": null,
            "grid_auto_rows": null,
            "grid_column": null,
            "grid_gap": null,
            "grid_row": null,
            "grid_template_areas": null,
            "grid_template_columns": null,
            "grid_template_rows": null,
            "height": null,
            "justify_content": null,
            "justify_items": null,
            "left": null,
            "margin": null,
            "max_height": null,
            "max_width": null,
            "min_height": null,
            "min_width": null,
            "object_fit": null,
            "object_position": null,
            "order": null,
            "overflow": null,
            "overflow_x": null,
            "overflow_y": null,
            "padding": null,
            "right": null,
            "top": null,
            "visibility": null,
            "width": null
          }
        },
        "dfa2d1102d4a4cbd873753ae18c9e1fb": {
          "model_module": "@jupyter-widgets/controls",
          "model_name": "DescriptionStyleModel",
          "model_module_version": "1.5.0",
          "state": {
            "_model_module": "@jupyter-widgets/controls",
            "_model_module_version": "1.5.0",
            "_model_name": "DescriptionStyleModel",
            "_view_count": null,
            "_view_module": "@jupyter-widgets/base",
            "_view_module_version": "1.2.0",
            "_view_name": "StyleView",
            "description_width": ""
          }
        },
        "4d66d91885934746883f8262f9c2a315": {
          "model_module": "@jupyter-widgets/controls",
          "model_name": "HBoxModel",
          "model_module_version": "1.5.0",
          "state": {
            "_dom_classes": [],
            "_model_module": "@jupyter-widgets/controls",
            "_model_module_version": "1.5.0",
            "_model_name": "HBoxModel",
            "_view_count": null,
            "_view_module": "@jupyter-widgets/controls",
            "_view_module_version": "1.5.0",
            "_view_name": "HBoxView",
            "box_style": "",
            "children": [
              "IPY_MODEL_72787cd1d6614446850392790529ef53",
              "IPY_MODEL_737361133a36477399f061cfe43f583f",
              "IPY_MODEL_2cb9d3808dc844ffb869e431ed43b668"
            ],
            "layout": "IPY_MODEL_4455ea465db54abf8eec1b151fced3fd"
          }
        },
        "72787cd1d6614446850392790529ef53": {
          "model_module": "@jupyter-widgets/controls",
          "model_name": "HTMLModel",
          "model_module_version": "1.5.0",
          "state": {
            "_dom_classes": [],
            "_model_module": "@jupyter-widgets/controls",
            "_model_module_version": "1.5.0",
            "_model_name": "HTMLModel",
            "_view_count": null,
            "_view_module": "@jupyter-widgets/controls",
            "_view_module_version": "1.5.0",
            "_view_name": "HTMLView",
            "description": "",
            "description_tooltip": null,
            "layout": "IPY_MODEL_3fbd38cb11b84191adcebea1ee29597f",
            "placeholder": "​",
            "style": "IPY_MODEL_e22820071a98449d89e32210f7f0e7db",
            "value": ""
          }
        },
        "737361133a36477399f061cfe43f583f": {
          "model_module": "@jupyter-widgets/controls",
          "model_name": "FloatProgressModel",
          "model_module_version": "1.5.0",
          "state": {
            "_dom_classes": [],
            "_model_module": "@jupyter-widgets/controls",
            "_model_module_version": "1.5.0",
            "_model_name": "FloatProgressModel",
            "_view_count": null,
            "_view_module": "@jupyter-widgets/controls",
            "_view_module_version": "1.5.0",
            "_view_name": "ProgressView",
            "bar_style": "success",
            "description": "",
            "description_tooltip": null,
            "layout": "IPY_MODEL_673a316a44de4e25a4623e2d465cf80c",
            "max": 4542,
            "min": 0,
            "orientation": "horizontal",
            "style": "IPY_MODEL_0360c648a5b141bc92a40f1665b274a2",
            "value": 4542
          }
        },
        "2cb9d3808dc844ffb869e431ed43b668": {
          "model_module": "@jupyter-widgets/controls",
          "model_name": "HTMLModel",
          "model_module_version": "1.5.0",
          "state": {
            "_dom_classes": [],
            "_model_module": "@jupyter-widgets/controls",
            "_model_module_version": "1.5.0",
            "_model_name": "HTMLModel",
            "_view_count": null,
            "_view_module": "@jupyter-widgets/controls",
            "_view_module_version": "1.5.0",
            "_view_name": "HTMLView",
            "description": "",
            "description_tooltip": null,
            "layout": "IPY_MODEL_fa7a4a4472c346599fdaee9cb293f2a8",
            "placeholder": "​",
            "style": "IPY_MODEL_7d0831494ba64517b6e9f26f4cfa3762",
            "value": " 5120/? [00:00&lt;00:00, 157620.42it/s]"
          }
        },
        "4455ea465db54abf8eec1b151fced3fd": {
          "model_module": "@jupyter-widgets/base",
          "model_name": "LayoutModel",
          "model_module_version": "1.2.0",
          "state": {
            "_model_module": "@jupyter-widgets/base",
            "_model_module_version": "1.2.0",
            "_model_name": "LayoutModel",
            "_view_count": null,
            "_view_module": "@jupyter-widgets/base",
            "_view_module_version": "1.2.0",
            "_view_name": "LayoutView",
            "align_content": null,
            "align_items": null,
            "align_self": null,
            "border": null,
            "bottom": null,
            "display": null,
            "flex": null,
            "flex_flow": null,
            "grid_area": null,
            "grid_auto_columns": null,
            "grid_auto_flow": null,
            "grid_auto_rows": null,
            "grid_column": null,
            "grid_gap": null,
            "grid_row": null,
            "grid_template_areas": null,
            "grid_template_columns": null,
            "grid_template_rows": null,
            "height": null,
            "justify_content": null,
            "justify_items": null,
            "left": null,
            "margin": null,
            "max_height": null,
            "max_width": null,
            "min_height": null,
            "min_width": null,
            "object_fit": null,
            "object_position": null,
            "order": null,
            "overflow": null,
            "overflow_x": null,
            "overflow_y": null,
            "padding": null,
            "right": null,
            "top": null,
            "visibility": null,
            "width": null
          }
        },
        "3fbd38cb11b84191adcebea1ee29597f": {
          "model_module": "@jupyter-widgets/base",
          "model_name": "LayoutModel",
          "model_module_version": "1.2.0",
          "state": {
            "_model_module": "@jupyter-widgets/base",
            "_model_module_version": "1.2.0",
            "_model_name": "LayoutModel",
            "_view_count": null,
            "_view_module": "@jupyter-widgets/base",
            "_view_module_version": "1.2.0",
            "_view_name": "LayoutView",
            "align_content": null,
            "align_items": null,
            "align_self": null,
            "border": null,
            "bottom": null,
            "display": null,
            "flex": null,
            "flex_flow": null,
            "grid_area": null,
            "grid_auto_columns": null,
            "grid_auto_flow": null,
            "grid_auto_rows": null,
            "grid_column": null,
            "grid_gap": null,
            "grid_row": null,
            "grid_template_areas": null,
            "grid_template_columns": null,
            "grid_template_rows": null,
            "height": null,
            "justify_content": null,
            "justify_items": null,
            "left": null,
            "margin": null,
            "max_height": null,
            "max_width": null,
            "min_height": null,
            "min_width": null,
            "object_fit": null,
            "object_position": null,
            "order": null,
            "overflow": null,
            "overflow_x": null,
            "overflow_y": null,
            "padding": null,
            "right": null,
            "top": null,
            "visibility": null,
            "width": null
          }
        },
        "e22820071a98449d89e32210f7f0e7db": {
          "model_module": "@jupyter-widgets/controls",
          "model_name": "DescriptionStyleModel",
          "model_module_version": "1.5.0",
          "state": {
            "_model_module": "@jupyter-widgets/controls",
            "_model_module_version": "1.5.0",
            "_model_name": "DescriptionStyleModel",
            "_view_count": null,
            "_view_module": "@jupyter-widgets/base",
            "_view_module_version": "1.2.0",
            "_view_name": "StyleView",
            "description_width": ""
          }
        },
        "673a316a44de4e25a4623e2d465cf80c": {
          "model_module": "@jupyter-widgets/base",
          "model_name": "LayoutModel",
          "model_module_version": "1.2.0",
          "state": {
            "_model_module": "@jupyter-widgets/base",
            "_model_module_version": "1.2.0",
            "_model_name": "LayoutModel",
            "_view_count": null,
            "_view_module": "@jupyter-widgets/base",
            "_view_module_version": "1.2.0",
            "_view_name": "LayoutView",
            "align_content": null,
            "align_items": null,
            "align_self": null,
            "border": null,
            "bottom": null,
            "display": null,
            "flex": null,
            "flex_flow": null,
            "grid_area": null,
            "grid_auto_columns": null,
            "grid_auto_flow": null,
            "grid_auto_rows": null,
            "grid_column": null,
            "grid_gap": null,
            "grid_row": null,
            "grid_template_areas": null,
            "grid_template_columns": null,
            "grid_template_rows": null,
            "height": null,
            "justify_content": null,
            "justify_items": null,
            "left": null,
            "margin": null,
            "max_height": null,
            "max_width": null,
            "min_height": null,
            "min_width": null,
            "object_fit": null,
            "object_position": null,
            "order": null,
            "overflow": null,
            "overflow_x": null,
            "overflow_y": null,
            "padding": null,
            "right": null,
            "top": null,
            "visibility": null,
            "width": null
          }
        },
        "0360c648a5b141bc92a40f1665b274a2": {
          "model_module": "@jupyter-widgets/controls",
          "model_name": "ProgressStyleModel",
          "model_module_version": "1.5.0",
          "state": {
            "_model_module": "@jupyter-widgets/controls",
            "_model_module_version": "1.5.0",
            "_model_name": "ProgressStyleModel",
            "_view_count": null,
            "_view_module": "@jupyter-widgets/base",
            "_view_module_version": "1.2.0",
            "_view_name": "StyleView",
            "bar_color": null,
            "description_width": ""
          }
        },
        "fa7a4a4472c346599fdaee9cb293f2a8": {
          "model_module": "@jupyter-widgets/base",
          "model_name": "LayoutModel",
          "model_module_version": "1.2.0",
          "state": {
            "_model_module": "@jupyter-widgets/base",
            "_model_module_version": "1.2.0",
            "_model_name": "LayoutModel",
            "_view_count": null,
            "_view_module": "@jupyter-widgets/base",
            "_view_module_version": "1.2.0",
            "_view_name": "LayoutView",
            "align_content": null,
            "align_items": null,
            "align_self": null,
            "border": null,
            "bottom": null,
            "display": null,
            "flex": null,
            "flex_flow": null,
            "grid_area": null,
            "grid_auto_columns": null,
            "grid_auto_flow": null,
            "grid_auto_rows": null,
            "grid_column": null,
            "grid_gap": null,
            "grid_row": null,
            "grid_template_areas": null,
            "grid_template_columns": null,
            "grid_template_rows": null,
            "height": null,
            "justify_content": null,
            "justify_items": null,
            "left": null,
            "margin": null,
            "max_height": null,
            "max_width": null,
            "min_height": null,
            "min_width": null,
            "object_fit": null,
            "object_position": null,
            "order": null,
            "overflow": null,
            "overflow_x": null,
            "overflow_y": null,
            "padding": null,
            "right": null,
            "top": null,
            "visibility": null,
            "width": null
          }
        },
        "7d0831494ba64517b6e9f26f4cfa3762": {
          "model_module": "@jupyter-widgets/controls",
          "model_name": "DescriptionStyleModel",
          "model_module_version": "1.5.0",
          "state": {
            "_model_module": "@jupyter-widgets/controls",
            "_model_module_version": "1.5.0",
            "_model_name": "DescriptionStyleModel",
            "_view_count": null,
            "_view_module": "@jupyter-widgets/base",
            "_view_module_version": "1.2.0",
            "_view_name": "StyleView",
            "description_width": ""
          }
        }
      }
    }
  },
  "cells": [
    {
      "cell_type": "markdown",
      "source": [
        "#**Introduction to PyTorch Part 2**\n",
        "\n"
      ],
      "metadata": {
        "id": "tGWnuC4uXf3h"
      }
    },
    {
      "cell_type": "markdown",
      "source": [
        "#**All General Imports**"
      ],
      "metadata": {
        "id": "I7wlszd0eIxF"
      }
    },
    {
      "cell_type": "code",
      "source": [
        "import numpy as np\n",
        "%matplotlib inline\n",
        "from matplotlib import pyplot as plt"
      ],
      "metadata": {
        "id": "-sy0LdeheDn2"
      },
      "execution_count": 1,
      "outputs": []
    },
    {
      "cell_type": "markdown",
      "source": [
        "#**All PyTorch Imports**"
      ],
      "metadata": {
        "id": "AYxK-TfHeJzX"
      }
    },
    {
      "cell_type": "code",
      "source": [
        "import torch\n",
        "import torch.nn as nn\n",
        "import torch.nn.functional as F\n",
        "import torch.optim as optim\n",
        "from torch.utils.data import DataLoader\n",
        "from torchvision import datasets, transforms"
      ],
      "metadata": {
        "id": "duco_K2veGIa"
      },
      "execution_count": 2,
      "outputs": []
    },
    {
      "cell_type": "markdown",
      "source": [
        "#**Softmax**"
      ],
      "metadata": {
        "id": "nTzwpP_gddqF"
      }
    },
    {
      "cell_type": "markdown",
      "source": [
        "We need our network output a single scalar value (so n_out = 1), cast the labels to floats (0.0 for airplane and 1.0 for bird), and use those as a target for MSELoss (the average of squared differences in the batch). Doing so, we would cast the problem into a regression problem. However, looking more closely, we are now dealing with something a bit different in nature. We need to recognize that the output is categorical: it’s either a bird or an airplane (or something else if we had all 10 of the original classes in case of Cifa10). We have to represent a categorical variable, we should switch to a one-hot-encoding representation of that variable, such as [1, 0] for airplane or [0, 1] for bird (the order is arbitrary). This will still work if we have 10 classes, as in the full CIFAR-10 dataset; we’ll just have a vector of length 10.In the ideal case, the network would output torch.tensor([1.0, 0.0]) for an airplane and torch.tensor([0.0, 1.0]) for a bird. Practically speaking, since our classifier will not be perfect, we can expect the network to output something in between. The key realization in this case is that we can interpret our output as probabilities: the first entry is the probability of “airplane,” and the second is the probability of “bird.” Converting the problem in terms of probabilities imposes a few extra constraints on the outputs of our network: Each element of the output must be in the [0.0, 1.0] range (a probability of an outcome cannot be less than 0 or greater than 1). The elements of the output must add up to 1.0 (we’re certain that one of the two outcomes will occur). It sounds like a tough constraint to enforce in a differentiable way on a vector of numbers. Yet there’s a very smart trick that does exactly that, and it’s differentiable: it’s called softmax. Representing the output as probabilities, Softmax is a function that takes a vector of values and produces another vector of the same dimension, where the values satisfy the constraints we just listed to represent probabilities. That is, we take the elements of the vector, compute the elementwise exponential, and divide each element by the sum of exponentials:"
      ],
      "metadata": {
        "id": "FoPs8SDhdeki"
      }
    },
    {
      "cell_type": "markdown",
      "source": [
        "![pasted image 0.png](data:image/png;base64,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)"
      ],
      "metadata": {
        "id": "2B5QPeTafUjr"
      }
    },
    {
      "cell_type": "code",
      "source": [
        "def softmax(x):\n",
        "    return torch.exp(x) / torch.exp(x).sum()\n",
        "\n",
        "x = torch.tensor([1.0, 2.0, 3.0])\n",
        "\n",
        "print(softmax(x))\n",
        "print(softmax(x).sum())"
      ],
      "metadata": {
        "id": "owE051HFdfOy"
      },
      "execution_count": null,
      "outputs": []
    },
    {
      "cell_type": "markdown",
      "source": [
        "Softmax is a monotone function, in that lower values in the input will correspond to lower values in the output. However, it’s not scale invariant, in that the ratio between values is not preserved. In fact, the ratio between the first and second elements of the input is 0.5, while the ratio between the same elements in the output is 0.3678. This is not a real issue, since the learning process will drive the parameters of the model in a way that values have appropriate ratios. "
      ],
      "metadata": {
        "id": "S8ENyfZih9fT"
      }
    },
    {
      "cell_type": "markdown",
      "source": [
        "The nn module of PyTorch makes softmax available as a module. Since, as usual, input tensors may have an additional batch 0th dimension, or have dimensions along which they encode probabilities and others in which they don’t, **nn.Softmax** requires us to specify the dimension along which the softmax function is applied.\n"
      ],
      "metadata": {
        "id": "-FS-2hvcmVir"
      }
    },
    {
      "cell_type": "markdown",
      "source": [
        "**nn.Softmax:** applies the Softmax function to an n-dimensional input Tensor rescaling them so that the elements of the n-dimensional output Tensor lie in the range [0,1] and sum to 1."
      ],
      "metadata": {
        "id": "4JXo3mN5e2of"
      }
    },
    {
      "cell_type": "code",
      "source": [
        "softmax = nn.Softmax(dim=1)\n",
        "\n",
        "x = torch.tensor([[1.0, 2.0, 3.0],\n",
        "                  [1.0, 2.0, 3.0]])\n",
        "\n",
        "softmax(x)"
      ],
      "metadata": {
        "id": "ls6dGc15d-fz"
      },
      "execution_count": null,
      "outputs": []
    },
    {
      "cell_type": "markdown",
      "source": [
        "#**Pytorch nn module**"
      ],
      "metadata": {
        "id": "ziKxL2fcR_rl"
      }
    },
    {
      "cell_type": "markdown",
      "source": [
        "**PyTorch** has a whole submodule dedicated to neural networks, called torch.nn. It contains the building blocks needed to create all sorts of neural network architectures. Those building blocks are called modules in PyTorch (such building blocks are often referred to as layers in other frameworks). A PyTorch module is a Python class deriving from the nn.Module base class. A module can have one or more Parameter instances as attributes, which are tensors whose values are optimized during the training process (think w and b in our linear model). A module can also have one or more submodules (subclasses of nn.Module) as attributes, and it will be able to track their parameters as well. Unsurprisingly, we can find a subclass of nn.Module called **nn**.**Linear**, which applies an affine transformation to its input (via the parameter attributes weight and bias) and is equivalent to Dense layers without activation layer in Keras.\n"
      ],
      "metadata": {
        "id": "ccrcTmogSEl0"
      }
    },
    {
      "cell_type": "markdown",
      "source": [
        "All PyTorch-provided subclasses of **nn.Module** have their __call__ method defined. This allows us to instantiate an nn.Linear and call it as if it was a function. "
      ],
      "metadata": {
        "id": "_9Izm4SEVR6p"
      }
    },
    {
      "cell_type": "code",
      "source": [
        "t_c = [0.5,  14.0, 15.0, 28.0, 11.0,  8.0,  3.0, -4.0,  6.0, 13.0, 21.0]\n",
        "t_u = [35.7, 55.9, 58.2, 81.9, 56.3, 48.9, 33.9, 21.8, 48.4, 60.4, 68.4]\n",
        "t_c = torch.tensor(t_c).unsqueeze(1)\n",
        "t_u = torch.tensor(t_u).unsqueeze(1)\n",
        "\n",
        "t_u.shape"
      ],
      "metadata": {
        "colab": {
          "base_uri": "https://localhost:8080/"
        },
        "id": "CV_u5pUZWDON",
        "outputId": "29e4ebbd-62d1-4902-855c-ba491fc0c4e4"
      },
      "execution_count": null,
      "outputs": [
        {
          "output_type": "execute_result",
          "data": {
            "text/plain": [
              "torch.Size([11, 1])"
            ]
          },
          "metadata": {},
          "execution_count": 5
        }
      ]
    },
    {
      "cell_type": "code",
      "source": [
        "n_samples = t_u.shape[0]\n",
        "n_val = int(0.2 * n_samples)\n",
        "\n",
        "shuffled_indices = torch.randperm(n_samples)\n",
        "\n",
        "train_indices = shuffled_indices[:-n_val]\n",
        "val_indices = shuffled_indices[-n_val:]\n",
        "\n",
        "train_indices, val_indices"
      ],
      "metadata": {
        "colab": {
          "base_uri": "https://localhost:8080/"
        },
        "id": "7FpKT1AQWMh5",
        "outputId": "2cc56adb-6c10-43e6-930c-0e5a9ddeb259"
      },
      "execution_count": null,
      "outputs": [
        {
          "output_type": "execute_result",
          "data": {
            "text/plain": [
              "(tensor([ 2,  0, 10,  1,  7,  3,  8,  4,  6]), tensor([9, 5]))"
            ]
          },
          "metadata": {},
          "execution_count": 6
        }
      ]
    },
    {
      "cell_type": "code",
      "source": [
        "t_u_train = t_u[train_indices]\n",
        "t_c_train = t_c[train_indices]\n",
        "\n",
        "t_u_val = t_u[val_indices]\n",
        "t_c_val = t_c[val_indices]\n",
        "\n",
        "t_un_train = 0.1 * t_u_train\n",
        "t_un_val = 0.1 * t_u_val"
      ],
      "metadata": {
        "id": "TbJAardsWRJl"
      },
      "execution_count": null,
      "outputs": []
    },
    {
      "cell_type": "markdown",
      "source": [
        "**nn.Linear:** applies a linear transformation to the incoming data: y = xA^T + b. https://pytorch.org/docs/stable/generated/torch.nn.Linear.html"
      ],
      "metadata": {
        "id": "xAuJtJQhWtrt"
      }
    },
    {
      "cell_type": "markdown",
      "source": [
        "The constructor to nn.Linear accepts three arguments: the number of input features, the number of output features, and whether the linear model includes a bias or not (defaulting to True, here). "
      ],
      "metadata": {
        "id": "LjAKqQDiWhwm"
      }
    },
    {
      "cell_type": "code",
      "source": [
        "import torch.nn as nn\n",
        "linear_model = nn.Linear(1, 1)\n",
        "linear_model(t_un_val)"
      ],
      "metadata": {
        "colab": {
          "base_uri": "https://localhost:8080/"
        },
        "id": "5ifgEAfyVaBm",
        "outputId": "89c934e5-c788-4b7a-b26f-32d0f21df61b"
      },
      "execution_count": null,
      "outputs": [
        {
          "output_type": "execute_result",
          "data": {
            "text/plain": [
              "tensor([[-2.1046],\n",
              "        [-1.8615]], grad_fn=<AddmmBackward0>)"
            ]
          },
          "metadata": {},
          "execution_count": 10
        }
      ]
    },
    {
      "cell_type": "markdown",
      "source": [
        "Calling an instance of nn.Module with a set of arguments ends up calling a method named forward with the same arguments. The forward method is what executes the forward computation, while __call__ does other rather important chores before and after calling forward. So, it is technically possible to call forward directly, and it will produce the same output as __call__, but this should not be done from user code:"
      ],
      "metadata": {
        "id": "LtgMVIZHVonC"
      }
    },
    {
      "cell_type": "code",
      "source": [
        "y = model(x)       \n",
        "y = model.forward(x)"
      ],
      "metadata": {
        "id": "q8jyZqfBVxFD"
      },
      "execution_count": null,
      "outputs": []
    },
    {
      "cell_type": "markdown",
      "source": [
        "#**Initializations**"
      ],
      "metadata": {
        "id": "Sp6f9C8gSPNO"
      }
    },
    {
      "cell_type": "code",
      "source": [
        "torch.set_printoptions(edgeitems=2)\n",
        "torch.manual_seed(123)"
      ],
      "metadata": {
        "colab": {
          "base_uri": "https://localhost:8080/"
        },
        "id": "kStg34-lLIaO",
        "outputId": "e401cc48-9cb3-4f06-bcca-38a2d6752cc4"
      },
      "execution_count": 3,
      "outputs": [
        {
          "output_type": "execute_result",
          "data": {
            "text/plain": [
              "<torch._C.Generator at 0x7f96e0d32eb0>"
            ]
          },
          "metadata": {},
          "execution_count": 3
        }
      ]
    },
    {
      "cell_type": "markdown",
      "source": [
        "#**Globals**"
      ],
      "metadata": {
        "id": "IaqMHseEST0I"
      }
    },
    {
      "cell_type": "code",
      "source": [
        "data_path = './'\n",
        "model_path = './'\n",
        "class_names = ['airplane','automobile','bird','cat','deer', 'dog','frog','horse','ship','truck']"
      ],
      "metadata": {
        "id": "HISIjprFLlB-"
      },
      "execution_count": 4,
      "outputs": []
    },
    {
      "cell_type": "markdown",
      "source": [
        "#**Hyper-parameters**"
      ],
      "metadata": {
        "id": "gmMUHEONYcwR"
      }
    },
    {
      "cell_type": "code",
      "source": [
        "n_epochs = 4\n",
        "learning_rate = 1e-2\n",
        "n_out = 2"
      ],
      "metadata": {
        "id": "LtWjjV7fYf7g"
      },
      "execution_count": 18,
      "outputs": []
    },
    {
      "cell_type": "markdown",
      "source": [
        "#**Datasets Downloads**"
      ],
      "metadata": {
        "id": "36o2U2GqYjJr"
      }
    },
    {
      "cell_type": "code",
      "source": [
        "cifar10 = datasets.CIFAR10(\n",
        "    data_path, train=True, download=True,\n",
        "    transform=transforms.Compose([\n",
        "        transforms.ToTensor(),\n",
        "        transforms.Normalize((0.4915, 0.4823, 0.4468),\n",
        "                             (0.2470, 0.2435, 0.2616))\n",
        "    ]))"
      ],
      "metadata": {
        "colab": {
          "base_uri": "https://localhost:8080/",
          "height": 85,
          "referenced_widgets": [
            "72726e15e64a4140b1d97ebbe8bd87e7",
            "a29993f9ab1745b0afaf064b9498f520",
            "000c141a23cd4407903a77e71c029a1a",
            "4e651eedd0f74c75bc9c334af4f32ead",
            "5dd92693151a4ab7b14e7994c4837a55",
            "612802eb958a4e4f95c0ef8166b8335f",
            "526515a4889d4081831e1fb5756afc34",
            "5289c517bd1149beb1d078222db87106",
            "4ee776221703445ca3d5041f8a8ca078",
            "f5a3890c0b6948fca465bf0055a0b7da",
            "aaf44488565d4f45b0a559a17f2e4d61"
          ]
        },
        "id": "QPH9e8XvUBwl",
        "outputId": "dfd67ad2-60ed-4139-c2dc-af9ea44253fc"
      },
      "execution_count": 6,
      "outputs": [
        {
          "output_type": "stream",
          "name": "stdout",
          "text": [
            "Downloading https://www.cs.toronto.edu/~kriz/cifar-10-python.tar.gz to ./cifar-10-python.tar.gz\n"
          ]
        },
        {
          "output_type": "display_data",
          "data": {
            "text/plain": [
              "  0%|          | 0/170498071 [00:00<?, ?it/s]"
            ],
            "application/vnd.jupyter.widget-view+json": {
              "version_major": 2,
              "version_minor": 0,
              "model_id": "72726e15e64a4140b1d97ebbe8bd87e7"
            }
          },
          "metadata": {}
        },
        {
          "output_type": "stream",
          "name": "stdout",
          "text": [
            "Extracting ./cifar-10-python.tar.gz to ./\n"
          ]
        }
      ]
    },
    {
      "cell_type": "code",
      "source": [
        "cifar10_val = datasets.CIFAR10(\n",
        "    data_path, train=False, download=True,\n",
        "    transform=transforms.Compose([\n",
        "        transforms.ToTensor(),\n",
        "        transforms.Normalize((0.4915, 0.4823, 0.4468),\n",
        "                             (0.2470, 0.2435, 0.2616))\n",
        "    ]))"
      ],
      "metadata": {
        "colab": {
          "base_uri": "https://localhost:8080/"
        },
        "id": "qWA1dqKtUD-D",
        "outputId": "73429bca-95a4-459b-fd4f-0a218995d0fa"
      },
      "execution_count": 7,
      "outputs": [
        {
          "output_type": "stream",
          "name": "stdout",
          "text": [
            "Files already downloaded and verified\n"
          ]
        }
      ]
    },
    {
      "cell_type": "code",
      "source": [
        "len(cifar10)"
      ],
      "metadata": {
        "colab": {
          "base_uri": "https://localhost:8080/"
        },
        "id": "HfZWeHPSWUNb",
        "outputId": "6b35ab54-4911-4977-9154-7ac3404880e4"
      },
      "execution_count": 8,
      "outputs": [
        {
          "output_type": "execute_result",
          "data": {
            "text/plain": [
              "50000"
            ]
          },
          "metadata": {},
          "execution_count": 8
        }
      ]
    },
    {
      "cell_type": "code",
      "source": [
        "len(cifar10_val)"
      ],
      "metadata": {
        "colab": {
          "base_uri": "https://localhost:8080/"
        },
        "id": "xJiJc-chWQgQ",
        "outputId": "ddb5c83f-e238-4918-e655-4fd6c416c6d7"
      },
      "execution_count": 9,
      "outputs": [
        {
          "output_type": "execute_result",
          "data": {
            "text/plain": [
              "10000"
            ]
          },
          "metadata": {},
          "execution_count": 9
        }
      ]
    },
    {
      "cell_type": "markdown",
      "source": [
        "#**Data Preparation**"
      ],
      "metadata": {
        "id": "Ear18tSFYpTZ"
      }
    },
    {
      "cell_type": "markdown",
      "source": [
        "We are willing to discriminate between **airplanes** and **birds** in order to detect them during the flight, for example. "
      ],
      "metadata": {
        "id": "AxcHY1pAW91V"
      }
    },
    {
      "cell_type": "markdown",
      "source": [
        "So we create subclasses that only includes birds and airplanes. So we take a shortcut and just filter the data in cifar10 and remap the labels so they are contiguous. "
      ],
      "metadata": {
        "id": "8F2Q3vcxXWML"
      }
    },
    {
      "cell_type": "code",
      "source": [
        "label_map = {0: 0, 2: 1}\n",
        "class_names = ['airplane', 'bird']"
      ],
      "metadata": {
        "id": "_MhHI3BOWduf"
      },
      "execution_count": 10,
      "outputs": []
    },
    {
      "cell_type": "markdown",
      "source": [
        "We then create a **cifar2** object which satisfies the basic requirements for a Dataset--that is, __len__ and __getitem__ are defined--so we’re going to use that. We should be aware, however, that this is a clever shortcut and we might wish to implement a proper Dataset if we hit limitations with it. "
      ],
      "metadata": {
        "id": "YDo5v0ErX2uf"
      }
    },
    {
      "cell_type": "code",
      "source": [
        "cifar2 = [(img, label_map[label]) for img, label in cifar10 if label in [0, 2]]\n",
        "cifar2_val = [(img, label_map[label]) for img, label in cifar10_val if label in [0, 2]]"
      ],
      "metadata": {
        "id": "onaQRU_IWcUu"
      },
      "execution_count": 11,
      "outputs": []
    },
    {
      "cell_type": "markdown",
      "source": [
        "#**Fully Connected Layers**"
      ],
      "metadata": {
        "id": "bXJt5LRT8Okn"
      }
    },
    {
      "cell_type": "markdown",
      "source": [
        "#**Model Definition**"
      ],
      "metadata": {
        "id": "n_np5AtdYttJ"
      }
    },
    {
      "cell_type": "markdown",
      "source": [
        "Number of Features:**32 × 32 × 3** which is **3,072** input features per sample. Our model is an nn.Linear with 3,072 input features and some number of hidden features, followed by an activation, and then another nn.Linear that tapers the network down to an appropriate output number of features (2, for this use case). We create 512 hidden features. A neural network like an MLP (Multi Layer Perceptron) needs at least one hidden layer (of activations, so two modules) with a nonlinearity in between in order to be able to learn arbitrary functions, it would just be a linear model. "
      ],
      "metadata": {
        "id": "-exyJIVDWxXQ"
      }
    },
    {
      "cell_type": "markdown",
      "source": [
        "**nn.Sequential:** represents a **Sequential** container. The value a Sequential provides over manually calling a sequence of modules is that it allows treating the whole container as a single module, such that performing a transformation on the Sequential applies to each of the modules it stores. https://pytorch.org/docs/stable/generated/torch.nn.Sequential.html"
      ],
      "metadata": {
        "id": "ZyZk3hfZZuSO"
      }
    },
    {
      "cell_type": "markdown",
      "source": [
        "**nn.Tanh:** applies the Hyperbolic Tangent (Tanh) function element-wise. https://pytorch.org/docs/stable/generated/torch.nn.Tanh.html"
      ],
      "metadata": {
        "id": "2uyhhGSMbKhU"
      }
    },
    {
      "cell_type": "markdown",
      "source": [
        "The **hidden features** represent \"learned\" relations between the inputs encoded through the weight matrix. As such, the model might learn to “compare” vector elements 176 and 208, but it does not a priori focus on them because it is structurally unaware that these are, indeed (row 5, pixel 16) and (row 6, pixel 16), and thus adjacent. So we have a model. "
      ],
      "metadata": {
        "id": "prZgek1RZiin"
      }
    },
    {
      "cell_type": "code",
      "source": [
        "model = nn.Sequential(\n",
        "            nn.Linear(3072, 512),\n",
        "            nn.Tanh(),\n",
        "            nn.Linear(512, 2),\n",
        "            nn.Softmax(dim=1))"
      ],
      "metadata": {
        "id": "Bj32acIHYMA_"
      },
      "execution_count": 12,
      "outputs": []
    },
    {
      "cell_type": "markdown",
      "source": [
        "Let’s do it, just to see what comes out. We first build a batch of one image, our bird"
      ],
      "metadata": {
        "id": "gSweWTaDdJ5A"
      }
    },
    {
      "cell_type": "code",
      "source": [
        "img, _ = cifar2[0]\n",
        "\n",
        "plt.imshow(img.permute(1, 2, 0))\n",
        "plt.show()"
      ],
      "metadata": {
        "id": "XWUFSbIcYLtq",
        "colab": {
          "base_uri": "https://localhost:8080/",
          "height": 284
        },
        "outputId": "bc96c4aa-23d7-43cd-8805-8c97c8683e0d"
      },
      "execution_count": 13,
      "outputs": [
        {
          "output_type": "stream",
          "name": "stderr",
          "text": [
            "Clipping input data to the valid range for imshow with RGB data ([0..1] for floats or [0..255] for integers).\n"
          ]
        },
        {
          "output_type": "display_data",
          "data": {
            "text/plain": [
              "<Figure size 432x288 with 1 Axes>"
            ],
            "image/png": "[encoded data removed]"
          },
          "metadata": {
            "needs_background": "light"
          }
        }
      ]
    },
    {
      "cell_type": "markdown",
      "source": [
        "In order to call the model, we need to make the input have the right dimensions. We recall that our model expects 3,072 features in the input, and that nn works with data organized into batches along the zeroth dimension. So we need to turn our 3 × 32 × 32 image into a 1D tensor and then add an extra dimension in the zeroth position. "
      ],
      "metadata": {
        "id": "r7jIl33jnkSW"
      }
    },
    {
      "cell_type": "code",
      "source": [
        "img_batch = img.view(-1).unsqueeze(0)"
      ],
      "metadata": {
        "id": "KLGR39ldYLqA"
      },
      "execution_count": 14,
      "outputs": []
    },
    {
      "cell_type": "markdown",
      "source": [
        "Now we can call our model. So, we get probabilities. At moment, the weights and biases of our linear layers have not been trained at all. Their elements are initialized randomly by PyTorch between -1.0 and 1.0. Interestingly, we also see grad_fn for the output, which is the tip of the backward computation graph In addition, while we know which output probability is supposed to be which (recall our class_names), our network has no indication of that. Is the first entry “airplane” and the second “bird,” or the other way around? The network can’t even tell that at this point. It’s the loss function that associates a meaning with these two numbers, after backpropagation. "
      ],
      "metadata": {
        "id": "dWiKjdTtIcXZ"
      }
    },
    {
      "cell_type": "code",
      "source": [
        "out = model(img_batch)\n",
        "out"
      ],
      "metadata": {
        "id": "EYhBAqvuYLm2",
        "colab": {
          "base_uri": "https://localhost:8080/"
        },
        "outputId": "394503f1-6b78-4d89-f123-444c0d0117bd"
      },
      "execution_count": 15,
      "outputs": [
        {
          "output_type": "execute_result",
          "data": {
            "text/plain": [
              "tensor([[0.3700, 0.6300]], grad_fn=<SoftmaxBackward0>)"
            ]
          },
          "metadata": {},
          "execution_count": 15
        }
      ]
    },
    {
      "cell_type": "markdown",
      "source": [
        "Thus, after training, we will be able to get the label as an index by computing the argmax of theoutput probabilities: that is, the index at which we get the maximum probability. Conveniently, when supplied with a dimension, torch.max returns the maximum element along that dimension as well as the index at which that value occurs. In our case, we need to take the max along the probability vector (not across batches), therefore, dimension 1. "
      ],
      "metadata": {
        "id": "Jy78hrAkJdXc"
      }
    },
    {
      "cell_type": "code",
      "source": [
        "_, index = torch.max(out, dim=1)\n",
        "\n",
        "index"
      ],
      "metadata": {
        "id": "Ll3gTltXnZpc",
        "colab": {
          "base_uri": "https://localhost:8080/"
        },
        "outputId": "6b74d35d-f361-405f-ab86-0c1bef31e375"
      },
      "execution_count": 16,
      "outputs": [
        {
          "output_type": "execute_result",
          "data": {
            "text/plain": [
              "tensor([1])"
            ]
          },
          "metadata": {},
          "execution_count": 16
        }
      ]
    },
    {
      "cell_type": "markdown",
      "source": [
        "#**Model Training**"
      ],
      "metadata": {
        "id": "6CGjxtA2Prml"
      }
    },
    {
      "cell_type": "markdown",
      "source": [
        "We apply changes to parameters based on a very partial estimation of the gradient on a single sample. However, what is a good direction for reducing the loss based on one sample might not be a good direction for others. By shuffling samples at each epoch and estimating the gradient on one or (preferably, for stability) a few samples at a time, we are effectively introducing randomness in our gradient descent. SGD stands for stochastic gradient descent, and this is what the S is about: working on small batches (aka minibatches) of shuffled data. It turns out that following gradients estimated over minibatches, which are poorer approximations of gradients estimated across the whole dataset, helps convergence and prevents the optimization process from getting stuck in local minima it encounters along the way. Gradients from minibatches are randomly off the ideal trajectory, which is part of the reason why we want to use a reasonably small learning rate. Shuffling the dataset at each epoch helps ensure that the sequence of gradients estimated over minibatches is representative of the gradients computed across the full dataset. Typically, minibatches are a constant size that we need to set prior to training, just like the learning rate. These are the hyperparameters, to distinguish them from the parameters of a model.\n"
      ],
      "metadata": {
        "id": "wbhvJLOsQi1j"
      }
    },
    {
      "cell_type": "markdown",
      "source": [
        "**nn.NLLLoss**:The negative log likelihood loss. It is useful to train a classification problem with C classes. Obtaining log-probabilities in a neural network is easily achieved by adding a LogSoftmax layer in the last layer of your network. You may use CrossEntropyLoss instead, if you prefer not to add an extra layer. https://pytorch.org/docs/stable/generated/torch.nn.NLLLoss.html"
      ],
      "metadata": {
        "id": "qUbVS39cRUqI"
      }
    },
    {
      "cell_type": "code",
      "source": [
        "model = nn.Sequential(\n",
        "            nn.Linear(3072, 512),\n",
        "            nn.Tanh(),\n",
        "            nn.Linear(512, 2),\n",
        "            nn.LogSoftmax(dim=1))\n",
        "\n",
        "optimizer = optim.SGD(model.parameters(), lr=learning_rate)\n",
        "\n",
        "loss_fn = nn.NLLLoss()\n",
        "\n",
        "for epoch in range(n_epochs):\n",
        "    for img, label in cifar2:\n",
        "        out = model(img.view(-1).unsqueeze(0))\n",
        "        loss = loss_fn(out, torch.tensor([label]))\n",
        "                \n",
        "        optimizer.zero_grad()\n",
        "        loss.backward()\n",
        "        optimizer.step()\n",
        "\n",
        "    print(\"Epoch: %d, Loss: %f\" % (epoch, float(loss)))"
      ],
      "metadata": {
        "id": "QbaYLKqAnZl0",
        "colab": {
          "base_uri": "https://localhost:8080/"
        },
        "outputId": "3c08af6e-6a8b-4635-cae8-72ebcdf0b32d"
      },
      "execution_count": 19,
      "outputs": [
        {
          "output_type": "stream",
          "name": "stdout",
          "text": [
            "Epoch: 0, Loss: 2.808479\n",
            "Epoch: 1, Loss: 2.832569\n",
            "Epoch: 2, Loss: 5.176270\n",
            "Epoch: 3, Loss: 5.776686\n"
          ]
        }
      ]
    },
    {
      "cell_type": "markdown",
      "source": [
        "In our previous training code, we chose minibatches of size 1 by picking one item at a time from the dataset. The torch.utils.data module has a class that helps with shuffling and organizing the data in minibatches: **DataLoader**. The job of a data loader is to sample minibatches from a dataset, giving us the flexibility to choose from different sampling strategies. A very common strategy is uniform sampling after shuffling the data at each epoch."
      ],
      "metadata": {
        "id": "k-S2TKVu23si"
      }
    },
    {
      "cell_type": "markdown",
      "source": [
        "At each inner iteration, imgs is a tensor of size 64 × 3 × 32 × 32--that is, a minibatch of 64 (32 × 32) RGB images--while labels is a tensor of size 64 containing label indices."
      ],
      "metadata": {
        "id": "LDoiXVbn3j_x"
      }
    },
    {
      "cell_type": "markdown",
      "source": [
        "At a minimum, the **DataLoader** constructor takes a Dataset object as input, along with batch_size and a shuffle Boolean that indicates whether the data needs to be shuffled at the beginning of each epoch:"
      ],
      "metadata": {
        "id": "SjFRkGZp2d7W"
      }
    },
    {
      "cell_type": "code",
      "source": [
        "train_loader = DataLoader(cifar2, batch_size=64, shuffle=True)"
      ],
      "metadata": {
        "id": "fwoQB-QpnZhk"
      },
      "execution_count": 20,
      "outputs": []
    },
    {
      "cell_type": "markdown",
      "source": [
        "The combination of nn.LogSoftmax and nn.NLLLoss is equivalent to using nn.CrossEntropyLoss. This terminology is a particularity of PyTorch, as the nn.NLLoss computes, in fact, the cross entropy but with log probability predictions as inputs where nn.CrossEntropyLoss takes scores (sometimes called logits). Technically, nn.NLLLoss is the cross entropy between the Dirac distribution, putting all mass on the target, and the predicted distribution given by the log probability inputs."
      ],
      "metadata": {
        "id": "HJD-9ie76Ga-"
      }
    },
    {
      "cell_type": "code",
      "source": [
        "model = nn.Sequential(\n",
        "            nn.Linear(3072, 128),           # after training check with 512\n",
        "            nn.Tanh(),\n",
        "            nn.Linear(128, 2),\n",
        "            nn.LogSoftmax(dim=1))\n",
        "\n",
        "optimizer = optim.SGD(model.parameters(), lr=learning_rate)\n",
        "\n",
        "loss_fn = nn.NLLLoss()\n",
        "\n",
        "for epoch in range(n_epochs):\n",
        "    for imgs, labels in train_loader:\n",
        "        outputs = model(imgs.view(imgs.shape[0], -1))\n",
        "        loss = loss_fn(outputs, labels)\n",
        "\n",
        "        optimizer.zero_grad()\n",
        "        loss.backward()\n",
        "        optimizer.step()\n",
        "\n",
        "    print(\"Epoch: %d, Loss: %f\" % (epoch, float(loss)))"
      ],
      "metadata": {
        "id": "35uezGpinZeP",
        "colab": {
          "base_uri": "https://localhost:8080/"
        },
        "outputId": "c3155c91-32eb-4f89-d8df-09c542ab75d9"
      },
      "execution_count": 21,
      "outputs": [
        {
          "output_type": "stream",
          "name": "stdout",
          "text": [
            "Epoch: 0, Loss: 0.572484\n",
            "Epoch: 1, Loss: 0.428618\n",
            "Epoch: 2, Loss: 0.478573\n",
            "Epoch: 3, Loss: 0.493837\n"
          ]
        }
      ]
    },
    {
      "cell_type": "markdown",
      "source": [
        "We can compute the accuracy of our model on the training set and validation set in terms of the number of correct classifications over the total."
      ],
      "metadata": {
        "id": "wR8ThyMN5HEb"
      }
    },
    {
      "cell_type": "markdown",
      "source": [
        "**torch.no_grad():** Context-manager that disabled gradient calculation.Disabling gradient calculation is useful for inference, when you are sure that you will not call Tensor.backward()"
      ],
      "metadata": {
        "id": "vF__H4H55oOI"
      }
    },
    {
      "cell_type": "code",
      "source": [
        "train_loader = torch.utils.data.DataLoader(cifar2, batch_size=64,\n",
        "                                           shuffle=False)\n",
        "\n",
        "correct = 0\n",
        "total = 0\n",
        "\n",
        "with torch.no_grad():\n",
        "    for imgs, labels in train_loader:\n",
        "        outputs = model(imgs.view(imgs.shape[0], -1))\n",
        "        _, predicted = torch.max(outputs, dim=1)\n",
        "        total += labels.shape[0]\n",
        "        correct += int((predicted == labels).sum())\n",
        "        \n",
        "print(\"Accuracy: %f\" % (correct / total))"
      ],
      "metadata": {
        "colab": {
          "base_uri": "https://localhost:8080/"
        },
        "id": "-OlIbSXV3_Z8",
        "outputId": "fda186d9-7a91-420a-d8bc-010fc521135d"
      },
      "execution_count": 22,
      "outputs": [
        {
          "output_type": "stream",
          "name": "stdout",
          "text": [
            "Accuracy: 0.817600\n"
          ]
        }
      ]
    },
    {
      "cell_type": "code",
      "source": [
        "val_loader = torch.utils.data.DataLoader(cifar2_val, batch_size=64,\n",
        "                                         shuffle=False)\n",
        "\n",
        "correct = 0\n",
        "total = 0\n",
        "\n",
        "with torch.no_grad():\n",
        "    for imgs, labels in val_loader:\n",
        "        outputs = model(imgs.view(imgs.shape[0], -1))\n",
        "        _, predicted = torch.max(outputs, dim=1)\n",
        "        total += labels.shape[0]\n",
        "        correct += int((predicted == labels).sum())\n",
        "        \n",
        "print(\"Accuracy: %f\" % (correct / total))"
      ],
      "metadata": {
        "colab": {
          "base_uri": "https://localhost:8080/"
        },
        "id": "KUX0XWrE4966",
        "outputId": "8a470e98-1cd0-4f8f-9b67-cfc02b36d9d0"
      },
      "execution_count": 23,
      "outputs": [
        {
          "output_type": "stream",
          "name": "stdout",
          "text": [
            "Accuracy: 0.806000\n"
          ]
        }
      ]
    },
    {
      "cell_type": "markdown",
      "source": [
        "This cross entropy can be interpreted as a negative log likelihood of the predicted distribution under the target distribution as an outcome. So both losses are the negative log likelihood of the model parameters given the data when our model predicts the (softmax-applied) probabilities."
      ],
      "metadata": {
        "id": "N7fQrqk16X20"
      }
    },
    {
      "cell_type": "code",
      "source": [
        "train_loader = torch.utils.data.DataLoader(cifar2, batch_size=64, shuffle=True)\n",
        "\n",
        "model = nn.Sequential(\n",
        "            nn.Linear(3072, 1024),\n",
        "            nn.Tanh(),\n",
        "            nn.Linear(1024, 512),\n",
        "            nn.Tanh(),\n",
        "            nn.Linear(512, 128),\n",
        "            nn.Tanh(),\n",
        "            nn.Linear(128, 2))\n",
        "\n",
        "optimizer = optim.SGD(model.parameters(), lr=learning_rate)\n",
        "\n",
        "loss_fn = nn.CrossEntropyLoss()\n",
        "\n",
        "for epoch in range(n_epochs):\n",
        "    for imgs, labels in train_loader:\n",
        "        outputs = model(imgs.view(imgs.shape[0], -1))\n",
        "        loss = loss_fn(outputs, labels)\n",
        "\n",
        "        optimizer.zero_grad()\n",
        "        loss.backward()\n",
        "        optimizer.step()\n",
        "\n",
        "    print(\"Epoch: %d, Loss: %f\" % (epoch, float(loss)))"
      ],
      "metadata": {
        "colab": {
          "base_uri": "https://localhost:8080/"
        },
        "id": "Eam8ypLk3_Wi",
        "outputId": "1fa80d29-7340-437b-a901-f53487bbe9ee"
      },
      "execution_count": 24,
      "outputs": [
        {
          "output_type": "stream",
          "name": "stdout",
          "text": [
            "Epoch: 0, Loss: 0.385799\n",
            "Epoch: 1, Loss: 0.542206\n",
            "Epoch: 2, Loss: 0.578028\n",
            "Epoch: 3, Loss: 0.503629\n"
          ]
        }
      ]
    },
    {
      "cell_type": "code",
      "source": [
        "train_loader = torch.utils.data.DataLoader(cifar2, batch_size=64,\n",
        "                                           shuffle=False)\n",
        "\n",
        "correct = 0\n",
        "total = 0\n",
        "\n",
        "with torch.no_grad():\n",
        "    for imgs, labels in train_loader:\n",
        "        outputs = model(imgs.view(imgs.shape[0], -1))\n",
        "        _, predicted = torch.max(outputs, dim=1)\n",
        "        total += labels.shape[0]\n",
        "        correct += int((predicted == labels).sum())\n",
        "        \n",
        "print(\"Accuracy: %f\" % (correct / total))"
      ],
      "metadata": {
        "colab": {
          "base_uri": "https://localhost:8080/"
        },
        "id": "wRKVknp73_TI",
        "outputId": "e094288f-02e7-49fa-d6e2-cf96bc47650a"
      },
      "execution_count": 25,
      "outputs": [
        {
          "output_type": "stream",
          "name": "stdout",
          "text": [
            "Accuracy: 0.806400\n"
          ]
        }
      ]
    },
    {
      "cell_type": "code",
      "source": [
        "val_loader = torch.utils.data.DataLoader(cifar2_val, batch_size=64,\n",
        "                                         shuffle=False)\n",
        "\n",
        "correct = 0\n",
        "total = 0\n",
        "\n",
        "with torch.no_grad():\n",
        "    for imgs, labels in val_loader:\n",
        "        outputs = model(imgs.view(imgs.shape[0], -1))\n",
        "        _, predicted = torch.max(outputs, dim=1)\n",
        "        total += labels.shape[0]\n",
        "        correct += int((predicted == labels).sum())\n",
        "        \n",
        "print(\"Accuracy: %f\" % (correct / total))"
      ],
      "metadata": {
        "colab": {
          "base_uri": "https://localhost:8080/"
        },
        "id": "TcLRG54m3_O2",
        "outputId": "88339a42-cb0a-4215-d11a-037460a4384f"
      },
      "execution_count": 26,
      "outputs": [
        {
          "output_type": "stream",
          "name": "stdout",
          "text": [
            "Accuracy: 0.799500\n"
          ]
        }
      ]
    },
    {
      "cell_type": "markdown",
      "source": [
        "PyTorch offers a quick way to determine how many parameters a model has through the parameters() method of nn.Model (the same method we use to provide the parameters to the optimizer). To find out how many elements are in each tensor instance, we can call the numel method. Summing those gives us our total count. Depending on our use case, counting parameters might require us to check whether a parameter has requires_grad set to True, as well. We might want to differentiate the number of trainable parameters from the overall model size."
      ],
      "metadata": {
        "id": "ropfRHwD7Fx9"
      }
    },
    {
      "cell_type": "code",
      "source": [
        "sum([p.numel() for p in model.parameters()])"
      ],
      "metadata": {
        "colab": {
          "base_uri": "https://localhost:8080/"
        },
        "id": "w3pZxdju3_KA",
        "outputId": "73f1ef9c-a39b-471c-c152-d24920a94415"
      },
      "execution_count": 27,
      "outputs": [
        {
          "output_type": "execute_result",
          "data": {
            "text/plain": [
              "3737474"
            ]
          },
          "metadata": {},
          "execution_count": 27
        }
      ]
    },
    {
      "cell_type": "code",
      "source": [
        "sum([p.numel() for p in nn.Linear(3072, 512).parameters()])"
      ],
      "metadata": {
        "id": "4X8IVoiknZWC",
        "colab": {
          "base_uri": "https://localhost:8080/"
        },
        "outputId": "c693217a-d4d1-433c-9fad-7aa237d4bc8a"
      },
      "execution_count": 28,
      "outputs": [
        {
          "output_type": "execute_result",
          "data": {
            "text/plain": [
              "1573376"
            ]
          },
          "metadata": {},
          "execution_count": 28
        }
      ]
    },
    {
      "cell_type": "markdown",
      "source": [
        "#**Convolutional Layers**"
      ],
      "metadata": {
        "id": "c9QcVtY992yJ"
      }
    },
    {
      "cell_type": "markdown",
      "source": [
        "The torch.nn module provides convolutions for 1, 2, and 3 dimensions: **nn.Conv1d** for time series, **nn.Conv2d** for images, and **nn.Conv3d** for volumes or videos.\n"
      ],
      "metadata": {
        "id": "QpWO7yPt_Gur"
      }
    },
    {
      "cell_type": "markdown",
      "source": [
        "At a minimum, the arguments we provide to nn.Conv2d are the number of input features (or channels, since we’re dealing with multichannel images: that is, more than one value per pixel), the number of output features, and the size of the kernel. For instance, for our first convolutional module, we’ll have 3 input features per pixel (the RGB channels) and an arbitrary number of channels in the output--say, 16. The more channels in the output image, the more the capacity of the network. We need the channels to be able to detect many different types of features. Also, because we are randomly initializing them, some of the features we’ll get, even after training, will turn out to be useless.2 Let’s stick to a kernel size of 3 × 3.It is very common to have kernel sizes that are the same in all directions, so PyTorch has a shortcut for this: whenever kernel_size=3 is specified for a 2D convolution, it means 3 × 3 (provided as a tuple (3, 3) in Python)."
      ],
      "metadata": {
        "id": "whzMiKK9AzKg"
      }
    },
    {
      "cell_type": "code",
      "source": [
        "train_loader = torch.utils.data.DataLoader(cifar2, batch_size=64, shuffle=True)\n",
        "\n",
        "class Net(nn.Module):\n",
        "    def __init__(self):\n",
        "        super(Net, self).__init__()\n",
        "        self.conv1 = nn.Conv2d(3, 16, kernel_size=3, padding=1)\n",
        "        self.conv2 = nn.Conv2d(16, 8, kernel_size=3, padding=1)\n",
        "        self.fc1 = nn.Linear(8 * 8 * 8, 32)\n",
        "        self.fc2 = nn.Linear(32, 2)\n",
        "        \n",
        "    def forward(self, x):\n",
        "        out = F.max_pool2d(torch.relu(self.conv1(x)), 2)\n",
        "        out = F.max_pool2d(torch.relu(self.conv2(out)), 2)\n",
        "        out = out.view(-1, 8 * 8 * 8)\n",
        "        out = torch.tanh(self.fc1(out))\n",
        "        out = self.fc2(out)\n",
        "        return out\n",
        "    \n",
        "model = Net()\n",
        "\n",
        "optimizer = optim.SGD(model.parameters(), lr=learning_rate)\n",
        "\n",
        "loss_fn = nn.CrossEntropyLoss()\n",
        "\n",
        "for epoch in range(n_epochs):\n",
        "    for imgs, labels in train_loader:\n",
        "        outputs = model(imgs)\n",
        "        loss = loss_fn(outputs, labels)\n",
        "                \n",
        "        optimizer.zero_grad()\n",
        "        loss.backward()\n",
        "        optimizer.step()\n",
        "\n",
        "    print(\"Epoch: %d, Loss: %f\" % (epoch, float(loss)))\n"
      ],
      "metadata": {
        "colab": {
          "base_uri": "https://localhost:8080/"
        },
        "id": "Ku7-3jpb7aWs",
        "outputId": "5d726b5e-88e8-45a9-b278-fb7df2356ec9"
      },
      "execution_count": 29,
      "outputs": [
        {
          "output_type": "stream",
          "name": "stdout",
          "text": [
            "Epoch: 0, Loss: 0.620399\n",
            "Epoch: 1, Loss: 0.402316\n",
            "Epoch: 2, Loss: 0.225405\n",
            "Epoch: 3, Loss: 0.305665\n"
          ]
        }
      ]
    },
    {
      "cell_type": "code",
      "source": [
        "train_loader = torch.utils.data.DataLoader(cifar2, batch_size=64,\n",
        "                                           shuffle=False)\n",
        "\n",
        "correct = 0\n",
        "total = 0\n",
        "\n",
        "with torch.no_grad():\n",
        "    for imgs, labels in train_loader:\n",
        "        outputs = model(imgs)\n",
        "        _, predicted = torch.max(outputs, dim=1)\n",
        "        total += labels.shape[0]\n",
        "        correct += int((predicted == labels).sum())\n",
        "        \n",
        "print(\"Accuracy: %f\" % (correct / total))"
      ],
      "metadata": {
        "colab": {
          "base_uri": "https://localhost:8080/"
        },
        "id": "thco4uso7aT8",
        "outputId": "437bed84-146c-47dc-bdca-7d71e704be40"
      },
      "execution_count": 30,
      "outputs": [
        {
          "output_type": "stream",
          "name": "stdout",
          "text": [
            "Accuracy: 0.839800\n"
          ]
        }
      ]
    },
    {
      "cell_type": "code",
      "source": [
        "val_loader = torch.utils.data.DataLoader(cifar2_val, batch_size=64,\n",
        "                                         shuffle=False)\n",
        "\n",
        "correct = 0\n",
        "total = 0\n",
        "\n",
        "with torch.no_grad():\n",
        "    for imgs, labels in val_loader:\n",
        "        outputs = model(imgs)\n",
        "        _, predicted = torch.max(outputs, dim=1)\n",
        "        total += labels.shape[0]\n",
        "        correct += int((predicted == labels).sum())\n",
        "        \n",
        "print(\"Accuracy: %f\" % (correct / total))"
      ],
      "metadata": {
        "colab": {
          "base_uri": "https://localhost:8080/"
        },
        "id": "ROB9SBr67aRE",
        "outputId": "0a6a26a4-605a-4de3-c42d-b6a28555afdf"
      },
      "execution_count": 31,
      "outputs": [
        {
          "output_type": "stream",
          "name": "stdout",
          "text": [
            "Accuracy: 0.838500\n"
          ]
        }
      ]
    },
    {
      "cell_type": "code",
      "source": [
        "model = Net()\n",
        "sum([p.numel() for p in model.parameters()])"
      ],
      "metadata": {
        "colab": {
          "base_uri": "https://localhost:8080/"
        },
        "id": "jFmAKu2p7aOQ",
        "outputId": "0d429bdd-0099-40d3-8434-6c82f2630ab8"
      },
      "execution_count": 32,
      "outputs": [
        {
          "output_type": "execute_result",
          "data": {
            "text/plain": [
              "18090"
            ]
          },
          "metadata": {},
          "execution_count": 32
        }
      ]
    },
    {
      "cell_type": "markdown",
      "source": [
        "#**Display Validation Accuracy for each epoch**"
      ],
      "metadata": {
        "id": "F4P1XNzxFalm"
      }
    },
    {
      "cell_type": "code",
      "source": [
        "model = Net()\n",
        "\n",
        "optimizer = optim.SGD(model.parameters(), lr=learning_rate)\n",
        "\n",
        "loss_fn = nn.CrossEntropyLoss()\n",
        "\n",
        "for epoch in range(n_epochs):\n",
        "    for (imgs, labels), (val_imgs, val_labels) in zip(train_loader, val_loader):\n",
        "        outputs = model(imgs)\n",
        "        val_outputs = model(val_imgs)\n",
        "        loss = loss_fn(outputs, labels)\n",
        "                \n",
        "        optimizer.zero_grad()\n",
        "        loss.backward()\n",
        "        optimizer.step()\n",
        "\n",
        "    #Accuracy\n",
        "    val_outputs = (val_outputs > 0.5).float()\n",
        "    correct = (val_outputs == val_labels).float().sum()\n",
        "    print(\"Epoch: %d, Loss: %f Accuracy: %f\" % (epoch, float(loss), correct/val_cifar2.shape[0]))"
      ],
      "metadata": {
        "colab": {
          "base_uri": "https://localhost:8080/",
          "height": 223
        },
        "id": "JhHpgLfm7Z_e",
        "outputId": "e143a755-1d2b-4f9f-e8cb-75d3880630f9"
      },
      "execution_count": 36,
      "outputs": [
        {
          "output_type": "error",
          "ename": "RuntimeError",
          "evalue": "ignored",
          "traceback": [
            "\u001b[0;31m---------------------------------------------------------------------------\u001b[0m",
            "\u001b[0;31mRuntimeError\u001b[0m                              Traceback (most recent call last)",
            "\u001b[0;32m<ipython-input-36-92254ab84900>\u001b[0m in \u001b[0;36m<module>\u001b[0;34m()\u001b[0m\n\u001b[1;32m     17\u001b[0m     \u001b[0;31m#Accuracy\u001b[0m\u001b[0;34m\u001b[0m\u001b[0;34m\u001b[0m\u001b[0;34m\u001b[0m\u001b[0m\n\u001b[1;32m     18\u001b[0m     \u001b[0mval_outputs\u001b[0m \u001b[0;34m=\u001b[0m \u001b[0;34m(\u001b[0m\u001b[0mval_outputs\u001b[0m \u001b[0;34m>\u001b[0m \u001b[0;36m0.5\u001b[0m\u001b[0;34m)\u001b[0m\u001b[0;34m.\u001b[0m\u001b[0mfloat\u001b[0m\u001b[0;34m(\u001b[0m\u001b[0;34m)\u001b[0m\u001b[0;34m\u001b[0m\u001b[0;34m\u001b[0m\u001b[0m\n\u001b[0;32m---> 19\u001b[0;31m     \u001b[0mcorrect\u001b[0m \u001b[0;34m=\u001b[0m \u001b[0;34m(\u001b[0m\u001b[0mval_outputs\u001b[0m \u001b[0;34m==\u001b[0m \u001b[0mval_labels\u001b[0m\u001b[0;34m)\u001b[0m\u001b[0;34m.\u001b[0m\u001b[0mfloat\u001b[0m\u001b[0;34m(\u001b[0m\u001b[0;34m)\u001b[0m\u001b[0;34m.\u001b[0m\u001b[0msum\u001b[0m\u001b[0;34m(\u001b[0m\u001b[0;34m)\u001b[0m\u001b[0;34m\u001b[0m\u001b[0;34m\u001b[0m\u001b[0m\n\u001b[0m\u001b[1;32m     20\u001b[0m     \u001b[0mprint\u001b[0m\u001b[0;34m(\u001b[0m\u001b[0;34m\"Epoch: %d, Loss: %f Accuracy: %f\"\u001b[0m \u001b[0;34m%\u001b[0m \u001b[0;34m(\u001b[0m\u001b[0mepoch\u001b[0m\u001b[0;34m,\u001b[0m \u001b[0mfloat\u001b[0m\u001b[0;34m(\u001b[0m\u001b[0mloss\u001b[0m\u001b[0;34m)\u001b[0m\u001b[0;34m,\u001b[0m \u001b[0mcorrect\u001b[0m\u001b[0;34m/\u001b[0m\u001b[0mcifar2\u001b[0m\u001b[0;34m.\u001b[0m\u001b[0mshape\u001b[0m\u001b[0;34m[\u001b[0m\u001b[0;36m0\u001b[0m\u001b[0;34m]\u001b[0m\u001b[0;34m)\u001b[0m\u001b[0;34m)\u001b[0m\u001b[0;34m\u001b[0m\u001b[0;34m\u001b[0m\u001b[0m\n",
            "\u001b[0;31mRuntimeError\u001b[0m: The size of tensor a (2) must match the size of tensor b (16) at non-singleton dimension 1"
          ]
        }
      ]
    },
    {
      "cell_type": "markdown",
      "source": [
        "#**Mnist Training**"
      ],
      "metadata": {
        "id": "YLgMW3zmFTiQ"
      }
    },
    {
      "cell_type": "code",
      "source": [
        "train_loader = torch.utils.data.DataLoader(\n",
        "    datasets.MNIST(data_path, train=True, download=True,\n",
        "                   transform=transforms.Compose([\n",
        "                       transforms.ToTensor()#,\n",
        "                       #transforms.Normalize((0.1307,), (0.3081,))\n",
        "                   ])),\n",
        "    batch_size=64, shuffle=True)"
      ],
      "metadata": {
        "colab": {
          "base_uri": "https://localhost:8080/",
          "height": 432,
          "referenced_widgets": [
            "0c6e70664ba343a2b44bc0eeff7aec47",
            "c5c3c3269abd4a378dce4932917f0d0b",
            "8040ce13700542d79f8f11424ee6dcd9",
            "04eece801b4e46298ea71ebec85ed42b",
            "944ca18b4af1444fa21aa6b51e699150",
            "a83d0450f52241efbdba23ed9fc7dc89",
            "ed0a8af07ddf4034a7cf674dc41b2718",
            "ec170e0414314a5794a3192df160a656",
            "fdfa40ea82624d488ffa960835ad5311",
            "faa7d3b834354254acaa119addf32624",
            "ce7bf1bfbf17457c96612e929beffe87",
            "dbfea7aa1aa84e8dbe8c81e6ffd967d0",
            "1235aa6fede54f648fcf90503cff7ff0",
            "39c49781e0ea4a94a2e551b67ae4d44f",
            "6ebb36ffc3ba4bbabccb4d0f84eee200",
            "809a195b35bc4184a66d4f37934a0e70",
            "15fdf35197fb47b9a880f021190a2acd",
            "8491c2c8cfdb4026a0a0372b49a707ea",
            "39db6b20e70143f79f126ea70393dec7",
            "9a6111166984444d9eeb09deeddcf4a7",
            "808296bbf8de4af19d949ec2b494e8e2",
            "6ec165a568af4dd7a682dfc572c80d7a",
            "80bc78e9c09e4c4bace22d7d5c06319e",
            "0a7aef857c124a70b3fe53322f363098",
            "6e8ae8adff064c53ac5e3f93e499d112",
            "84d476bb50c94597a3ed98d985803fee",
            "7fedd9a9d8694066a1f3d15552286fc5",
            "530c3bd093e442c4b6e2c087e555ff96",
            "e89bdb55b611449a8fababedf3482348",
            "8ba5d60790644a7784a00ae2918747ea",
            "6becb61194fb400a838a6e0aa4b86491",
            "1d15ed904b9d40c8a32ec9bdf587104e",
            "dfa2d1102d4a4cbd873753ae18c9e1fb",
            "4d66d91885934746883f8262f9c2a315",
            "72787cd1d6614446850392790529ef53",
            "737361133a36477399f061cfe43f583f",
            "2cb9d3808dc844ffb869e431ed43b668",
            "4455ea465db54abf8eec1b151fced3fd",
            "3fbd38cb11b84191adcebea1ee29597f",
            "e22820071a98449d89e32210f7f0e7db",
            "673a316a44de4e25a4623e2d465cf80c",
            "0360c648a5b141bc92a40f1665b274a2",
            "fa7a4a4472c346599fdaee9cb293f2a8",
            "7d0831494ba64517b6e9f26f4cfa3762"
          ]
        },
        "id": "C9uP43c0LLD1",
        "outputId": "d4841927-2581-416e-b371-ac4bb3b22c01"
      },
      "execution_count": 37,
      "outputs": [
        {
          "output_type": "stream",
          "name": "stdout",
          "text": [
            "Downloading http://yann.lecun.com/exdb/mnist/train-images-idx3-ubyte.gz\n",
            "Downloading http://yann.lecun.com/exdb/mnist/train-images-idx3-ubyte.gz to ./MNIST/raw/train-images-idx3-ubyte.gz\n"
          ]
        },
        {
          "output_type": "display_data",
          "data": {
            "text/plain": [
              "  0%|          | 0/9912422 [00:00<?, ?it/s]"
            ],
            "application/vnd.jupyter.widget-view+json": {
              "version_major": 2,
              "version_minor": 0,
              "model_id": "0c6e70664ba343a2b44bc0eeff7aec47"
            }
          },
          "metadata": {}
        },
        {
          "output_type": "stream",
          "name": "stdout",
          "text": [
            "Extracting ./MNIST/raw/train-images-idx3-ubyte.gz to ./MNIST/raw\n",
            "\n",
            "Downloading http://yann.lecun.com/exdb/mnist/train-labels-idx1-ubyte.gz\n",
            "Downloading http://yann.lecun.com/exdb/mnist/train-labels-idx1-ubyte.gz to ./MNIST/raw/train-labels-idx1-ubyte.gz\n"
          ]
        },
        {
          "output_type": "display_data",
          "data": {
            "text/plain": [
              "  0%|          | 0/28881 [00:00<?, ?it/s]"
            ],
            "application/vnd.jupyter.widget-view+json": {
              "version_major": 2,
              "version_minor": 0,
              "model_id": "dbfea7aa1aa84e8dbe8c81e6ffd967d0"
            }
          },
          "metadata": {}
        },
        {
          "output_type": "stream",
          "name": "stdout",
          "text": [
            "Extracting ./MNIST/raw/train-labels-idx1-ubyte.gz to ./MNIST/raw\n",
            "\n",
            "Downloading http://yann.lecun.com/exdb/mnist/t10k-images-idx3-ubyte.gz\n",
            "Downloading http://yann.lecun.com/exdb/mnist/t10k-images-idx3-ubyte.gz to ./MNIST/raw/t10k-images-idx3-ubyte.gz\n"
          ]
        },
        {
          "output_type": "display_data",
          "data": {
            "text/plain": [
              "  0%|          | 0/1648877 [00:00<?, ?it/s]"
            ],
            "application/vnd.jupyter.widget-view+json": {
              "version_major": 2,
              "version_minor": 0,
              "model_id": "80bc78e9c09e4c4bace22d7d5c06319e"
            }
          },
          "metadata": {}
        },
        {
          "output_type": "stream",
          "name": "stdout",
          "text": [
            "Extracting ./MNIST/raw/t10k-images-idx3-ubyte.gz to ./MNIST/raw\n",
            "\n",
            "Downloading http://yann.lecun.com/exdb/mnist/t10k-labels-idx1-ubyte.gz\n",
            "Downloading http://yann.lecun.com/exdb/mnist/t10k-labels-idx1-ubyte.gz to ./MNIST/raw/t10k-labels-idx1-ubyte.gz\n"
          ]
        },
        {
          "output_type": "display_data",
          "data": {
            "text/plain": [
              "  0%|          | 0/4542 [00:00<?, ?it/s]"
            ],
            "application/vnd.jupyter.widget-view+json": {
              "version_major": 2,
              "version_minor": 0,
              "model_id": "4d66d91885934746883f8262f9c2a315"
            }
          },
          "metadata": {}
        },
        {
          "output_type": "stream",
          "name": "stdout",
          "text": [
            "Extracting ./MNIST/raw/t10k-labels-idx1-ubyte.gz to ./MNIST/raw\n",
            "\n"
          ]
        }
      ]
    },
    {
      "cell_type": "code",
      "source": [
        "class Net(nn.Module):\n",
        "    def __init__(self):\n",
        "        super(Net, self).__init__()\n",
        "        self.conv1 = nn.Conv2d(1, 10, kernel_size=5)\n",
        "        self.conv2 = nn.Conv2d(10, 20, kernel_size=5)\n",
        "        self.conv2_drop = nn.Dropout2d()\n",
        "        self.fc1 = nn.Linear(320, 50)\n",
        "        self.fc2 = nn.Linear(50, 10)\n",
        "\n",
        "    def forward(self, x):\n",
        "        x = F.relu(F.max_pool2d(self.conv1(x), 2))\n",
        "        x = F.relu(F.max_pool2d(self.conv2_drop(self.conv2(x)), 2))\n",
        "        x = x.view(-1, 320)\n",
        "        x = F.relu(self.fc1(x))\n",
        "        x = F.dropout(x, training=self.training)\n",
        "        x = self.fc2(x)\n",
        "        return F.log_softmax(x, dim=1)"
      ],
      "metadata": {
        "id": "F-MQHFwbLoiH"
      },
      "execution_count": 38,
      "outputs": []
    },
    {
      "cell_type": "code",
      "source": [
        "model = Net()"
      ],
      "metadata": {
        "id": "djXnp1dpLxGP"
      },
      "execution_count": 39,
      "outputs": []
    },
    {
      "cell_type": "code",
      "source": [
        "optimizer = optim.SGD(model.parameters(), lr=0.01, momentum=0.5)"
      ],
      "metadata": {
        "id": "k6zWNIpAL0O9"
      },
      "execution_count": 40,
      "outputs": []
    },
    {
      "cell_type": "code",
      "source": [
        "for epoch in range(10):\n",
        "    for batch_idx, (data, target) in enumerate(train_loader):\n",
        "        optimizer.zero_grad()\n",
        "        output = model(data)\n",
        "        loss = F.nll_loss(output, target)\n",
        "        loss.backward()\n",
        "        optimizer.step()\n",
        "    print('Current loss', float(loss))"
      ],
      "metadata": {
        "colab": {
          "base_uri": "https://localhost:8080/"
        },
        "id": "itPT3v9BNNkV",
        "outputId": "1816b02c-81d1-4e6c-b534-d8af7cb47d94"
      },
      "execution_count": 41,
      "outputs": [
        {
          "output_type": "stream",
          "name": "stdout",
          "text": [
            "Current loss 0.4957163333892822\n",
            "Current loss 0.2549054026603699\n",
            "Current loss 0.22899316251277924\n",
            "Current loss 0.3364781141281128\n",
            "Current loss 0.09036285430192947\n",
            "Current loss 0.19089177250862122\n",
            "Current loss 0.06591050326824188\n",
            "Current loss 0.3240581154823303\n",
            "Current loss 0.23053310811519623\n",
            "Current loss 0.1638336330652237\n"
          ]
        }
      ]
    },
    {
      "cell_type": "code",
      "source": [
        "torch.save(model.state_dict(), model_path+'mnist.pth')"
      ],
      "metadata": {
        "id": "N9TMV9C3NR6m"
      },
      "execution_count": 42,
      "outputs": []
    },
    {
      "cell_type": "code",
      "source": [
        "pretrained_model = Net()\n",
        "pretrained_model.load_state_dict(torch.load(model_path+'mnist.pth'))"
      ],
      "metadata": {
        "colab": {
          "base_uri": "https://localhost:8080/"
        },
        "id": "Ri3wCujeNaQe",
        "outputId": "51a5aefb-d8c5-4524-914f-82ab7332c7b5"
      },
      "execution_count": 43,
      "outputs": [
        {
          "output_type": "execute_result",
          "data": {
            "text/plain": [
              "<All keys matched successfully>"
            ]
          },
          "metadata": {},
          "execution_count": 43
        }
      ]
    }
  ]
}