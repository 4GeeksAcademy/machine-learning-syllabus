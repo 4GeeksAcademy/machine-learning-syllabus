{
  "cells": [
    {
      "cell_type": "markdown",
      "metadata": {
        "id": "7Sb5Jdd2y7OL"
      },
      "source": [
        "# All General Imports"
      ]
    },
    {
      "cell_type": "code",
      "execution_count": 1,
      "metadata": {
        "id": "pIt-wlxWzGHS"
      },
      "outputs": [],
      "source": [
        "import warnings\n",
        "import numpy as np\n",
        "import os\n",
        "import platform\n",
        "import timeit"
      ]
    },
    {
      "cell_type": "markdown",
      "metadata": {
        "id": "vMiPUuwd973c"
      },
      "source": [
        "# All Functions Definitions"
      ]
    },
    {
      "cell_type": "code",
      "execution_count": 2,
      "metadata": {
        "id": "6oaB1h2396xL"
      },
      "outputs": [],
      "source": [
        "def data_download(file_to_download, gdrive_code):\n",
        "  if not os.path.exists(file_to_download):\n",
        "    os.system('gdown --id \"'+gdrive_code+'\" --output '+file_to_download)\n",
        "    if OS == \"Linux\":\n",
        "        os.system('unzip -o -n \"./'+file_to_download+'\" -d \"./\"')"
      ]
    },
    {
      "cell_type": "markdown",
      "metadata": {
        "id": "tcpsoSldzYsC"
      },
      "source": [
        "# All Downloads"
      ]
    },
    {
      "cell_type": "code",
      "execution_count": 3,
      "metadata": {
        "colab": {
          "base_uri": "https://localhost:8080/"
        },
        "id": "N2ZAWwrGRMp3",
        "outputId": "a8320fb6-f586-468d-fdba-24b315ad3e07"
      },
      "outputs": [
        {
          "output_type": "stream",
          "name": "stdout",
          "text": [
            "Elapsed Time:  4.759441395999829\n"
          ]
        }
      ],
      "source": [
        "start_time = timeit.default_timer()\n",
        "# Operating System\n",
        "OS = platform.system()                           # returns 'Windows', 'Linux', etc\n",
        "\n",
        "os.system('pip install --upgrade --no-cache-dir gdown')\n",
        "\n",
        "data_download(\"./Garbage_Data_Set.zip\", \"1e0RJH5HLdRVmPnDaamQLn0WVYFz4gOrE\")\n",
        "\n",
        "data_download(\"./Garbage_Libs.zip\", \"1ZoMU2QGYLKhIaGZS8y4IYvmHofeqvAMz\")\n",
        "\n",
        "print(\"Elapsed Time: \", timeit.default_timer() - start_time)"
      ]
    },
    {
      "cell_type": "markdown",
      "metadata": {
        "id": "RGaa_NINPzar"
      },
      "source": [
        "# All Imports"
      ]
    },
    {
      "cell_type": "markdown",
      "source": [
        "Keras imports and Program Imports"
      ],
      "metadata": {
        "id": "WsmEQvqwK6Kk"
      }
    },
    {
      "cell_type": "code",
      "execution_count": 4,
      "metadata": {
        "id": "zYtZjbXtPul-"
      },
      "outputs": [],
      "source": [
        "from tensorflow.keras.datasets import cifar10\n",
        "from tensorflow.keras.optimizers import SGD, Adam \n",
        "from tensorflow.keras.losses import categorical_crossentropy\n",
        "from tensorflow.keras.utils import to_categorical\n",
        "from tensorflow.keras.callbacks import ModelCheckpoint, EarlyStopping, CSVLogger, ReduceLROnPlateau\n",
        "\n",
        "from Preprocessing.preprocessing import LoadData\n",
        "from Models.convnet import Lenet5\n",
        "from Utils.view import View"
      ]
    },
    {
      "cell_type": "markdown",
      "metadata": {
        "id": "FlMBjPGMSh0S"
      },
      "source": [
        "# Initializations"
      ]
    },
    {
      "cell_type": "markdown",
      "source": [
        "Initialization of Globals, Hyperparameter, Dataset Parameters and Normalization\n"
      ],
      "metadata": {
        "id": "hMYfF7nAKgdo"
      }
    },
    {
      "cell_type": "code",
      "execution_count": 5,
      "metadata": {
        "id": "wEp5smThP6M_",
        "colab": {
          "base_uri": "https://localhost:8080/"
        },
        "outputId": "735964c2-fb2e-45d3-bef7-f386e8ab5406"
      },
      "outputs": [
        {
          "output_type": "stream",
          "name": "stdout",
          "text": [
            "\n",
            "\n",
            "Loading time: 0.12 minutes\n",
            "\n"
          ]
        }
      ],
      "source": [
        "with warnings.catch_warnings():\n",
        "    warnings.filterwarnings(\"ignore\", category=Warning)\n",
        "\n",
        "default_callbacks = []\n",
        "\n",
        "labels_garbage_list = [\"glass\", \"metal\", \"paper\", \"plastic\", \"trash\"]\n",
        "\n",
        "learning_rate = 0.001\n",
        "epochs = 100\n",
        "limit = None\n",
        "batch_size = 32\n",
        "normalization = True\n",
        "data_augmentation = False\n",
        "save_best_model = True\n",
        "early_stopping = False\n",
        "log = True\n",
        "R_LR_P = False\n",
        "\n",
        "cifar10_ds = False\n",
        "garbage_ds = True\n",
        "develop = False\n",
        "dest_input_size = 32\n",
        "\n",
        "if develop: \n",
        "    limit = 1000\n",
        "    epochs = 10\n",
        "\n",
        "if cifar10_ds: \n",
        "    (x_train, y_train), (x_test, y_test) = cifar10.load_data()\n",
        "    input_size = x_train.shape[1]\n",
        "    depth = x_train.shape[3]\n",
        "    classes = len(np.unique(y_train))\n",
        "    \n",
        "if garbage_ds:\n",
        "    [x_train, y_train, x_val, y_val, x_test, y_test] = LoadData.load_dataset_cv('./Garbage_Data_Set', labels_garbage_list, 0.1, 0.1, True, limit, dest_input_size, True)\n",
        "    input_size = x_train.shape[1]\n",
        "    depth = x_train.shape[3]\n",
        "    classes = len(np.unique(y_train))\n",
        "\n",
        "if cifar10_ds and limit is not None: \n",
        "    x_train = x_train[0:limit]\n",
        "    y_train = y_train[0:limit]\n",
        "    x_test = x_test[0:limit]\n",
        "    y_test = y_test[0:limit]\n",
        "    \n",
        "if normalization: \n",
        "    x_train = x_train / 255.0\n",
        "    x_test = x_test / 255.0 "
      ]
    },
    {
      "cell_type": "markdown",
      "source": [
        "# Model Compiling"
      ],
      "metadata": {
        "id": "ML9Bf_ERGbkk"
      }
    },
    {
      "cell_type": "markdown",
      "source": [
        "One-hot encoding of the output\n"
      ],
      "metadata": {
        "id": "Ga-8o-0dJ5Jj"
      }
    },
    {
      "cell_type": "code",
      "source": [
        "if cifar10_ds or garbage_ds: \n",
        "    y_train = to_categorical(y_train, num_classes = classes)\n",
        "    y_val = to_categorical(y_val, num_classes = classes)\n",
        "    y_test = to_categorical(y_test, num_classes = classes)\n",
        "\n",
        "model = Lenet5.build(depth, input_size, input_size, classes,True)\n",
        "#sgd = SGD(lr = learning_rate)\n",
        "sgd = Adam(lr = learning_rate)\n",
        "\n",
        "model.compile(optimizer = sgd, loss = \"categorical_crossentropy\", metrics = [\"accuracy\"])"
      ],
      "metadata": {
        "colab": {
          "base_uri": "https://localhost:8080/"
        },
        "id": "JLhDl-uPGFk6",
        "outputId": "5f548c22-474b-42af-beae-965f0f14ed92"
      },
      "execution_count": 6,
      "outputs": [
        {
          "output_type": "stream",
          "name": "stdout",
          "text": [
            "Model: \"sequential\"\n",
            "_________________________________________________________________\n",
            " Layer (type)                Output Shape              Param #   \n",
            "=================================================================\n",
            " conv2d (Conv2D)             (None, 32, 32, 20)        1520      \n",
            "                                                                 \n",
            " activation (Activation)     (None, 32, 32, 20)        0         \n",
            "                                                                 \n",
            " max_pooling2d (MaxPooling2D  (None, 16, 16, 20)       0         \n",
            " )                                                               \n",
            "                                                                 \n",
            " conv2d_1 (Conv2D)           (None, 16, 16, 50)        25050     \n",
            "                                                                 \n",
            " activation_1 (Activation)   (None, 16, 16, 50)        0         \n",
            "                                                                 \n",
            " max_pooling2d_1 (MaxPooling  (None, 8, 8, 50)         0         \n",
            " 2D)                                                             \n",
            "                                                                 \n",
            " flatten (Flatten)           (None, 3200)              0         \n",
            "                                                                 \n",
            " dense (Dense)               (None, 512)               1638912   \n",
            "                                                                 \n",
            " activation_2 (Activation)   (None, 512)               0         \n",
            "                                                                 \n",
            " dropout (Dropout)           (None, 512)               0         \n",
            "                                                                 \n",
            " dense_1 (Dense)             (None, 256)               131328    \n",
            "                                                                 \n",
            " activation_3 (Activation)   (None, 256)               0         \n",
            "                                                                 \n",
            " dropout_1 (Dropout)         (None, 256)               0         \n",
            "                                                                 \n",
            " dense_2 (Dense)             (None, 5)                 1285      \n",
            "                                                                 \n",
            " activation_4 (Activation)   (None, 5)                 0         \n",
            "                                                                 \n",
            "=================================================================\n",
            "Total params: 1,798,095\n",
            "Trainable params: 1,798,095\n",
            "Non-trainable params: 0\n",
            "_________________________________________________________________\n"
          ]
        },
        {
          "output_type": "stream",
          "name": "stderr",
          "text": [
            "/usr/local/lib/python3.7/dist-packages/keras/optimizer_v2/adam.py:105: UserWarning: The `lr` argument is deprecated, use `learning_rate` instead.\n",
            "  super(Adam, self).__init__(name, **kwargs)\n"
          ]
        }
      ]
    },
    {
      "cell_type": "markdown",
      "source": [
        "# Callback Definitions"
      ],
      "metadata": {
        "id": "4Kt65ShpGSzh"
      }
    },
    {
      "cell_type": "markdown",
      "source": [
        "Save Best Model, Early Stopping, Csv Logger and Reduce On Plateau"
      ],
      "metadata": {
        "id": "jTcbfmupLEb3"
      }
    },
    {
      "cell_type": "code",
      "source": [
        "if save_best_model: \n",
        "  check_point = ModelCheckpoint(\"best_epoch_model.hdf5\", save_weights_only = True, monitor = \"val_accuracy\", verbose = 1, save_best_only = True, mode = \"max\")\n",
        "  default_callbacks = default_callbacks + [check_point]\n",
        "\n",
        "if early_stopping: \n",
        "  earlyStopping = EarlyStopping(monitor = 'val_loss', min_delta = 0.001, patience = 10, verbose = 0, mode = 'min') \n",
        "  default_callbacks = default_callbacks + [earlyStopping]\n",
        "\n",
        "if log: \n",
        "  csv_logger = CSVLogger('history.log')\n",
        "  default_callbacks = default_callbacks + [csv_logger]\n",
        "\n",
        "if R_LR_P: \n",
        "  reduce_lr_plateau = ReduceLROnPlateau(factor=0.1, patience=3, verbose=1, min_lr=0.001, min_delta=0.01)\n",
        "  default_callbacks = default_callbacks + [reduce_lr_plateau]\n"
      ],
      "metadata": {
        "id": "9gEnfuMYGRxv"
      },
      "execution_count": 7,
      "outputs": []
    },
    {
      "cell_type": "markdown",
      "source": [
        "# Model Training"
      ],
      "metadata": {
        "id": "kCVeSAk2Gng0"
      }
    },
    {
      "cell_type": "markdown",
      "source": [
        "Train the model, iterating on the data in batches"
      ],
      "metadata": {
        "id": "T-JXHQ4HJyCu"
      }
    },
    {
      "cell_type": "code",
      "source": [
        "if data_augmentation == False: \n",
        "\thistory = model.fit(x_train, y_train, batch_size = batch_size, epochs = epochs, validation_data = (x_val, y_val), callbacks = default_callbacks, verbose = 2)\n",
        "else:\n",
        "\tdatagen = ImageDataGenerator(zoom_range = 0.2, horizontal_flip = True, vertical_flip = True, rotation_range = 30)                                   \n",
        "\n",
        "\thistory = model.fit_generator(datagen.flow(x_train, y_train, batch_size = batch_size), steps_per_epoch = x_train.shape[0]/batch_size, epochs = epochs, validation_data = (x_val, y_val), callbacks = default_callbacks, verbose = 2)\n",
        "\n",
        "score = model.evaluate(x_test, y_test, batch_size=64)\n",
        "print(score)\n",
        "\n",
        "model.save_weights('last_epoch_model.hdf5')\n",
        "    \n",
        "View.plot_loss(history)\n",
        "View.plot_acc(history)"
      ],
      "metadata": {
        "colab": {
          "base_uri": "https://localhost:8080/",
          "height": 1000
        },
        "id": "nCVeuj4vGqSs",
        "outputId": "ec150bc9-679e-4daf-8266-803adeb5dd22"
      },
      "execution_count": 8,
      "outputs": [
        {
          "output_type": "stream",
          "name": "stdout",
          "text": [
            "Epoch 1/100\n",
            "\n",
            "Epoch 1: val_accuracy improved from -inf to 0.27358, saving model to best_epoch_model.hdf5\n",
            "54/54 - 3s - loss: 1.5215 - accuracy: 0.2882 - val_loss: 206.9257 - val_accuracy: 0.2736 - 3s/epoch - 51ms/step\n",
            "Epoch 2/100\n",
            "\n",
            "Epoch 2: val_accuracy improved from 0.27358 to 0.42453, saving model to best_epoch_model.hdf5\n",
            "54/54 - 0s - loss: 1.4034 - accuracy: 0.3629 - val_loss: 85.1767 - val_accuracy: 0.4245 - 474ms/epoch - 9ms/step\n",
            "Epoch 3/100\n",
            "\n",
            "Epoch 3: val_accuracy did not improve from 0.42453\n",
            "54/54 - 0s - loss: 1.3477 - accuracy: 0.4071 - val_loss: 105.1828 - val_accuracy: 0.4057 - 424ms/epoch - 8ms/step\n",
            "Epoch 4/100\n",
            "\n",
            "Epoch 4: val_accuracy did not improve from 0.42453\n",
            "54/54 - 0s - loss: 1.2716 - accuracy: 0.4429 - val_loss: 128.2338 - val_accuracy: 0.3585 - 428ms/epoch - 8ms/step\n",
            "Epoch 5/100\n",
            "\n",
            "Epoch 5: val_accuracy improved from 0.42453 to 0.42925, saving model to best_epoch_model.hdf5\n",
            "54/54 - 0s - loss: 1.2499 - accuracy: 0.4576 - val_loss: 138.1225 - val_accuracy: 0.4292 - 475ms/epoch - 9ms/step\n",
            "Epoch 6/100\n",
            "\n",
            "Epoch 6: val_accuracy improved from 0.42925 to 0.46226, saving model to best_epoch_model.hdf5\n",
            "54/54 - 0s - loss: 1.1342 - accuracy: 0.5324 - val_loss: 169.7782 - val_accuracy: 0.4623 - 469ms/epoch - 9ms/step\n",
            "Epoch 7/100\n",
            "\n",
            "Epoch 7: val_accuracy improved from 0.46226 to 0.50472, saving model to best_epoch_model.hdf5\n",
            "54/54 - 0s - loss: 1.0659 - accuracy: 0.5635 - val_loss: 202.6735 - val_accuracy: 0.5047 - 467ms/epoch - 9ms/step\n",
            "Epoch 8/100\n",
            "\n",
            "Epoch 8: val_accuracy did not improve from 0.50472\n",
            "54/54 - 0s - loss: 0.9582 - accuracy: 0.6188 - val_loss: 334.4189 - val_accuracy: 0.4057 - 393ms/epoch - 7ms/step\n",
            "Epoch 9/100\n",
            "\n",
            "Epoch 9: val_accuracy improved from 0.50472 to 0.52830, saving model to best_epoch_model.hdf5\n",
            "54/54 - 0s - loss: 0.9839 - accuracy: 0.6029 - val_loss: 232.7794 - val_accuracy: 0.5283 - 447ms/epoch - 8ms/step\n",
            "Epoch 10/100\n",
            "\n",
            "Epoch 10: val_accuracy improved from 0.52830 to 0.60377, saving model to best_epoch_model.hdf5\n",
            "54/54 - 0s - loss: 0.8678 - accuracy: 0.6835 - val_loss: 193.9224 - val_accuracy: 0.6038 - 467ms/epoch - 9ms/step\n",
            "Epoch 11/100\n",
            "\n",
            "Epoch 11: val_accuracy did not improve from 0.60377\n",
            "54/54 - 0s - loss: 0.7622 - accuracy: 0.6965 - val_loss: 182.1300 - val_accuracy: 0.5755 - 415ms/epoch - 8ms/step\n",
            "Epoch 12/100\n",
            "\n",
            "Epoch 12: val_accuracy did not improve from 0.60377\n",
            "54/54 - 0s - loss: 0.7047 - accuracy: 0.7176 - val_loss: 254.4745 - val_accuracy: 0.5708 - 389ms/epoch - 7ms/step\n",
            "Epoch 13/100\n",
            "\n",
            "Epoch 13: val_accuracy did not improve from 0.60377\n",
            "54/54 - 0s - loss: 0.6332 - accuracy: 0.7547 - val_loss: 213.3457 - val_accuracy: 0.5566 - 428ms/epoch - 8ms/step\n",
            "Epoch 14/100\n",
            "\n",
            "Epoch 14: val_accuracy did not improve from 0.60377\n",
            "54/54 - 0s - loss: 0.5655 - accuracy: 0.7829 - val_loss: 403.7589 - val_accuracy: 0.5377 - 440ms/epoch - 8ms/step\n",
            "Epoch 15/100\n",
            "\n",
            "Epoch 15: val_accuracy did not improve from 0.60377\n",
            "54/54 - 0s - loss: 0.4920 - accuracy: 0.8124 - val_loss: 416.8932 - val_accuracy: 0.5330 - 389ms/epoch - 7ms/step\n",
            "Epoch 16/100\n",
            "\n",
            "Epoch 16: val_accuracy did not improve from 0.60377\n",
            "54/54 - 0s - loss: 0.4524 - accuracy: 0.8341 - val_loss: 404.8595 - val_accuracy: 0.5802 - 399ms/epoch - 7ms/step\n",
            "Epoch 17/100\n",
            "\n",
            "Epoch 17: val_accuracy improved from 0.60377 to 0.63679, saving model to best_epoch_model.hdf5\n",
            "54/54 - 0s - loss: 0.3424 - accuracy: 0.8747 - val_loss: 331.4498 - val_accuracy: 0.6368 - 464ms/epoch - 9ms/step\n",
            "Epoch 18/100\n",
            "\n",
            "Epoch 18: val_accuracy did not improve from 0.63679\n",
            "54/54 - 0s - loss: 0.3594 - accuracy: 0.8718 - val_loss: 410.6099 - val_accuracy: 0.5708 - 404ms/epoch - 7ms/step\n",
            "Epoch 19/100\n",
            "\n",
            "Epoch 19: val_accuracy did not improve from 0.63679\n",
            "54/54 - 0s - loss: 0.3148 - accuracy: 0.8894 - val_loss: 474.1806 - val_accuracy: 0.5660 - 439ms/epoch - 8ms/step\n",
            "Epoch 20/100\n",
            "\n",
            "Epoch 20: val_accuracy did not improve from 0.63679\n",
            "54/54 - 0s - loss: 0.3208 - accuracy: 0.8835 - val_loss: 427.7714 - val_accuracy: 0.5660 - 433ms/epoch - 8ms/step\n",
            "Epoch 21/100\n",
            "\n",
            "Epoch 21: val_accuracy did not improve from 0.63679\n",
            "54/54 - 0s - loss: 0.2480 - accuracy: 0.9147 - val_loss: 456.7921 - val_accuracy: 0.5613 - 410ms/epoch - 8ms/step\n",
            "Epoch 22/100\n",
            "\n",
            "Epoch 22: val_accuracy did not improve from 0.63679\n",
            "54/54 - 0s - loss: 0.2005 - accuracy: 0.9324 - val_loss: 575.7185 - val_accuracy: 0.5377 - 397ms/epoch - 7ms/step\n",
            "Epoch 23/100\n",
            "\n",
            "Epoch 23: val_accuracy did not improve from 0.63679\n",
            "54/54 - 0s - loss: 0.1617 - accuracy: 0.9459 - val_loss: 580.5822 - val_accuracy: 0.5519 - 402ms/epoch - 7ms/step\n",
            "Epoch 24/100\n",
            "\n",
            "Epoch 24: val_accuracy did not improve from 0.63679\n",
            "54/54 - 0s - loss: 0.1825 - accuracy: 0.9412 - val_loss: 644.4071 - val_accuracy: 0.5849 - 396ms/epoch - 7ms/step\n",
            "Epoch 25/100\n",
            "\n",
            "Epoch 25: val_accuracy did not improve from 0.63679\n",
            "54/54 - 0s - loss: 0.1892 - accuracy: 0.9306 - val_loss: 955.0022 - val_accuracy: 0.4434 - 395ms/epoch - 7ms/step\n",
            "Epoch 26/100\n",
            "\n",
            "Epoch 26: val_accuracy did not improve from 0.63679\n",
            "54/54 - 0s - loss: 0.3206 - accuracy: 0.8912 - val_loss: 477.7966 - val_accuracy: 0.5613 - 401ms/epoch - 7ms/step\n",
            "Epoch 27/100\n",
            "\n",
            "Epoch 27: val_accuracy did not improve from 0.63679\n",
            "54/54 - 0s - loss: 0.1777 - accuracy: 0.9400 - val_loss: 609.3911 - val_accuracy: 0.5755 - 401ms/epoch - 7ms/step\n",
            "Epoch 28/100\n",
            "\n",
            "Epoch 28: val_accuracy did not improve from 0.63679\n",
            "54/54 - 0s - loss: 0.1083 - accuracy: 0.9618 - val_loss: 711.4349 - val_accuracy: 0.5330 - 404ms/epoch - 7ms/step\n",
            "Epoch 29/100\n",
            "\n",
            "Epoch 29: val_accuracy did not improve from 0.63679\n",
            "54/54 - 0s - loss: 0.1363 - accuracy: 0.9547 - val_loss: 673.2955 - val_accuracy: 0.5377 - 431ms/epoch - 8ms/step\n",
            "Epoch 30/100\n",
            "\n",
            "Epoch 30: val_accuracy did not improve from 0.63679\n",
            "54/54 - 0s - loss: 0.1252 - accuracy: 0.9571 - val_loss: 585.3679 - val_accuracy: 0.5991 - 431ms/epoch - 8ms/step\n",
            "Epoch 31/100\n",
            "\n",
            "Epoch 31: val_accuracy did not improve from 0.63679\n",
            "54/54 - 0s - loss: 0.0896 - accuracy: 0.9735 - val_loss: 676.3954 - val_accuracy: 0.5566 - 393ms/epoch - 7ms/step\n",
            "Epoch 32/100\n",
            "\n",
            "Epoch 32: val_accuracy did not improve from 0.63679\n",
            "54/54 - 0s - loss: 0.0757 - accuracy: 0.9782 - val_loss: 771.5555 - val_accuracy: 0.5613 - 387ms/epoch - 7ms/step\n",
            "Epoch 33/100\n",
            "\n",
            "Epoch 33: val_accuracy did not improve from 0.63679\n",
            "54/54 - 0s - loss: 0.0565 - accuracy: 0.9841 - val_loss: 835.9169 - val_accuracy: 0.5519 - 394ms/epoch - 7ms/step\n",
            "Epoch 34/100\n",
            "\n",
            "Epoch 34: val_accuracy did not improve from 0.63679\n",
            "54/54 - 0s - loss: 0.0631 - accuracy: 0.9794 - val_loss: 805.1274 - val_accuracy: 0.5519 - 403ms/epoch - 7ms/step\n",
            "Epoch 35/100\n",
            "\n",
            "Epoch 35: val_accuracy did not improve from 0.63679\n",
            "54/54 - 0s - loss: 0.1094 - accuracy: 0.9618 - val_loss: 742.6414 - val_accuracy: 0.5189 - 428ms/epoch - 8ms/step\n",
            "Epoch 36/100\n",
            "\n",
            "Epoch 36: val_accuracy did not improve from 0.63679\n",
            "54/54 - 0s - loss: 0.1132 - accuracy: 0.9612 - val_loss: 728.5611 - val_accuracy: 0.5283 - 432ms/epoch - 8ms/step\n",
            "Epoch 37/100\n",
            "\n",
            "Epoch 37: val_accuracy did not improve from 0.63679\n",
            "54/54 - 0s - loss: 0.1016 - accuracy: 0.9653 - val_loss: 696.6638 - val_accuracy: 0.5566 - 422ms/epoch - 8ms/step\n",
            "Epoch 38/100\n",
            "\n",
            "Epoch 38: val_accuracy did not improve from 0.63679\n",
            "54/54 - 0s - loss: 0.0760 - accuracy: 0.9782 - val_loss: 814.7910 - val_accuracy: 0.5425 - 434ms/epoch - 8ms/step\n",
            "Epoch 39/100\n",
            "\n",
            "Epoch 39: val_accuracy did not improve from 0.63679\n",
            "54/54 - 0s - loss: 0.1341 - accuracy: 0.9635 - val_loss: 702.3050 - val_accuracy: 0.5472 - 439ms/epoch - 8ms/step\n",
            "Epoch 40/100\n",
            "\n",
            "Epoch 40: val_accuracy did not improve from 0.63679\n",
            "54/54 - 0s - loss: 0.1320 - accuracy: 0.9612 - val_loss: 614.4222 - val_accuracy: 0.5708 - 409ms/epoch - 8ms/step\n",
            "Epoch 41/100\n",
            "\n",
            "Epoch 41: val_accuracy did not improve from 0.63679\n",
            "54/54 - 0s - loss: 0.0668 - accuracy: 0.9829 - val_loss: 738.1844 - val_accuracy: 0.5613 - 434ms/epoch - 8ms/step\n",
            "Epoch 42/100\n",
            "\n",
            "Epoch 42: val_accuracy did not improve from 0.63679\n",
            "54/54 - 0s - loss: 0.0746 - accuracy: 0.9776 - val_loss: 1000.2801 - val_accuracy: 0.5236 - 423ms/epoch - 8ms/step\n",
            "Epoch 43/100\n",
            "\n",
            "Epoch 43: val_accuracy did not improve from 0.63679\n",
            "54/54 - 0s - loss: 0.1017 - accuracy: 0.9653 - val_loss: 871.9797 - val_accuracy: 0.5425 - 407ms/epoch - 8ms/step\n",
            "Epoch 44/100\n",
            "\n",
            "Epoch 44: val_accuracy did not improve from 0.63679\n",
            "54/54 - 0s - loss: 0.0577 - accuracy: 0.9812 - val_loss: 782.8676 - val_accuracy: 0.5755 - 397ms/epoch - 7ms/step\n",
            "Epoch 45/100\n",
            "\n",
            "Epoch 45: val_accuracy did not improve from 0.63679\n",
            "54/54 - 0s - loss: 0.1114 - accuracy: 0.9629 - val_loss: 889.9214 - val_accuracy: 0.5236 - 400ms/epoch - 7ms/step\n",
            "Epoch 46/100\n",
            "\n",
            "Epoch 46: val_accuracy did not improve from 0.63679\n",
            "54/54 - 0s - loss: 0.0463 - accuracy: 0.9847 - val_loss: 790.7547 - val_accuracy: 0.5660 - 428ms/epoch - 8ms/step\n",
            "Epoch 47/100\n",
            "\n",
            "Epoch 47: val_accuracy did not improve from 0.63679\n",
            "54/54 - 0s - loss: 0.0576 - accuracy: 0.9812 - val_loss: 731.1984 - val_accuracy: 0.5755 - 436ms/epoch - 8ms/step\n",
            "Epoch 48/100\n",
            "\n",
            "Epoch 48: val_accuracy did not improve from 0.63679\n",
            "54/54 - 0s - loss: 0.0762 - accuracy: 0.9741 - val_loss: 784.4815 - val_accuracy: 0.5755 - 442ms/epoch - 8ms/step\n",
            "Epoch 49/100\n",
            "\n",
            "Epoch 49: val_accuracy did not improve from 0.63679\n",
            "54/54 - 0s - loss: 0.0472 - accuracy: 0.9871 - val_loss: 835.3469 - val_accuracy: 0.5566 - 401ms/epoch - 7ms/step\n",
            "Epoch 50/100\n",
            "\n",
            "Epoch 50: val_accuracy did not improve from 0.63679\n",
            "54/54 - 0s - loss: 0.0692 - accuracy: 0.9794 - val_loss: 675.1442 - val_accuracy: 0.5660 - 448ms/epoch - 8ms/step\n",
            "Epoch 51/100\n",
            "\n",
            "Epoch 51: val_accuracy did not improve from 0.63679\n",
            "54/54 - 0s - loss: 0.0662 - accuracy: 0.9782 - val_loss: 842.8119 - val_accuracy: 0.5566 - 431ms/epoch - 8ms/step\n",
            "Epoch 52/100\n",
            "\n",
            "Epoch 52: val_accuracy did not improve from 0.63679\n",
            "54/54 - 0s - loss: 0.0515 - accuracy: 0.9835 - val_loss: 728.9364 - val_accuracy: 0.5566 - 442ms/epoch - 8ms/step\n",
            "Epoch 53/100\n",
            "\n",
            "Epoch 53: val_accuracy did not improve from 0.63679\n",
            "54/54 - 0s - loss: 0.0345 - accuracy: 0.9900 - val_loss: 1147.8120 - val_accuracy: 0.5566 - 430ms/epoch - 8ms/step\n",
            "Epoch 54/100\n",
            "\n",
            "Epoch 54: val_accuracy did not improve from 0.63679\n",
            "54/54 - 0s - loss: 0.0721 - accuracy: 0.9724 - val_loss: 859.8577 - val_accuracy: 0.5377 - 428ms/epoch - 8ms/step\n",
            "Epoch 55/100\n",
            "\n",
            "Epoch 55: val_accuracy did not improve from 0.63679\n",
            "54/54 - 0s - loss: 0.0658 - accuracy: 0.9794 - val_loss: 676.4973 - val_accuracy: 0.5330 - 428ms/epoch - 8ms/step\n",
            "Epoch 56/100\n",
            "\n",
            "Epoch 56: val_accuracy did not improve from 0.63679\n",
            "54/54 - 0s - loss: 0.0398 - accuracy: 0.9865 - val_loss: 662.0743 - val_accuracy: 0.5802 - 436ms/epoch - 8ms/step\n",
            "Epoch 57/100\n",
            "\n",
            "Epoch 57: val_accuracy did not improve from 0.63679\n",
            "54/54 - 0s - loss: 0.0563 - accuracy: 0.9824 - val_loss: 955.7351 - val_accuracy: 0.5142 - 411ms/epoch - 8ms/step\n",
            "Epoch 58/100\n",
            "\n",
            "Epoch 58: val_accuracy did not improve from 0.63679\n",
            "54/54 - 0s - loss: 0.2045 - accuracy: 0.9335 - val_loss: 641.3323 - val_accuracy: 0.5519 - 390ms/epoch - 7ms/step\n",
            "Epoch 59/100\n",
            "\n",
            "Epoch 59: val_accuracy did not improve from 0.63679\n",
            "54/54 - 0s - loss: 0.0921 - accuracy: 0.9700 - val_loss: 561.0623 - val_accuracy: 0.6274 - 400ms/epoch - 7ms/step\n",
            "Epoch 60/100\n",
            "\n",
            "Epoch 60: val_accuracy did not improve from 0.63679\n",
            "54/54 - 0s - loss: 0.0532 - accuracy: 0.9824 - val_loss: 699.0618 - val_accuracy: 0.5802 - 399ms/epoch - 7ms/step\n",
            "Epoch 61/100\n",
            "\n",
            "Epoch 61: val_accuracy did not improve from 0.63679\n",
            "54/54 - 0s - loss: 0.0475 - accuracy: 0.9835 - val_loss: 850.0423 - val_accuracy: 0.5566 - 396ms/epoch - 7ms/step\n",
            "Epoch 62/100\n",
            "\n",
            "Epoch 62: val_accuracy did not improve from 0.63679\n",
            "54/54 - 0s - loss: 0.0759 - accuracy: 0.9782 - val_loss: 793.6991 - val_accuracy: 0.5425 - 405ms/epoch - 8ms/step\n",
            "Epoch 63/100\n",
            "\n",
            "Epoch 63: val_accuracy did not improve from 0.63679\n",
            "54/54 - 0s - loss: 0.0603 - accuracy: 0.9812 - val_loss: 989.9635 - val_accuracy: 0.5094 - 395ms/epoch - 7ms/step\n",
            "Epoch 64/100\n",
            "\n",
            "Epoch 64: val_accuracy did not improve from 0.63679\n",
            "54/54 - 0s - loss: 0.0620 - accuracy: 0.9812 - val_loss: 637.7468 - val_accuracy: 0.5283 - 407ms/epoch - 8ms/step\n",
            "Epoch 65/100\n",
            "\n",
            "Epoch 65: val_accuracy did not improve from 0.63679\n",
            "54/54 - 0s - loss: 0.0617 - accuracy: 0.9800 - val_loss: 712.0177 - val_accuracy: 0.5472 - 431ms/epoch - 8ms/step\n",
            "Epoch 66/100\n",
            "\n",
            "Epoch 66: val_accuracy did not improve from 0.63679\n",
            "54/54 - 0s - loss: 0.0444 - accuracy: 0.9859 - val_loss: 602.2911 - val_accuracy: 0.5708 - 442ms/epoch - 8ms/step\n",
            "Epoch 67/100\n",
            "\n",
            "Epoch 67: val_accuracy did not improve from 0.63679\n",
            "54/54 - 0s - loss: 0.0298 - accuracy: 0.9906 - val_loss: 711.7532 - val_accuracy: 0.5708 - 394ms/epoch - 7ms/step\n",
            "Epoch 68/100\n",
            "\n",
            "Epoch 68: val_accuracy did not improve from 0.63679\n",
            "54/54 - 0s - loss: 0.0292 - accuracy: 0.9924 - val_loss: 587.8448 - val_accuracy: 0.5943 - 428ms/epoch - 8ms/step\n",
            "Epoch 69/100\n",
            "\n",
            "Epoch 69: val_accuracy did not improve from 0.63679\n",
            "54/54 - 0s - loss: 0.0173 - accuracy: 0.9965 - val_loss: 699.4578 - val_accuracy: 0.5896 - 430ms/epoch - 8ms/step\n",
            "Epoch 70/100\n",
            "\n",
            "Epoch 70: val_accuracy did not improve from 0.63679\n",
            "54/54 - 0s - loss: 0.2230 - accuracy: 0.9259 - val_loss: 531.8775 - val_accuracy: 0.5755 - 429ms/epoch - 8ms/step\n",
            "Epoch 71/100\n",
            "\n",
            "Epoch 71: val_accuracy did not improve from 0.63679\n",
            "54/54 - 0s - loss: 0.1171 - accuracy: 0.9665 - val_loss: 730.8860 - val_accuracy: 0.5047 - 396ms/epoch - 7ms/step\n",
            "Epoch 72/100\n",
            "\n",
            "Epoch 72: val_accuracy did not improve from 0.63679\n",
            "54/54 - 0s - loss: 0.0608 - accuracy: 0.9794 - val_loss: 676.0970 - val_accuracy: 0.5943 - 444ms/epoch - 8ms/step\n",
            "Epoch 73/100\n",
            "\n",
            "Epoch 73: val_accuracy did not improve from 0.63679\n",
            "54/54 - 0s - loss: 0.0282 - accuracy: 0.9912 - val_loss: 772.3687 - val_accuracy: 0.5660 - 399ms/epoch - 7ms/step\n",
            "Epoch 74/100\n",
            "\n",
            "Epoch 74: val_accuracy did not improve from 0.63679\n",
            "54/54 - 0s - loss: 0.0357 - accuracy: 0.9882 - val_loss: 698.7382 - val_accuracy: 0.5613 - 443ms/epoch - 8ms/step\n",
            "Epoch 75/100\n",
            "\n",
            "Epoch 75: val_accuracy did not improve from 0.63679\n",
            "54/54 - 0s - loss: 0.0257 - accuracy: 0.9918 - val_loss: 795.1624 - val_accuracy: 0.5896 - 429ms/epoch - 8ms/step\n",
            "Epoch 76/100\n",
            "\n",
            "Epoch 76: val_accuracy did not improve from 0.63679\n",
            "54/54 - 0s - loss: 0.0165 - accuracy: 0.9953 - val_loss: 977.0672 - val_accuracy: 0.5330 - 485ms/epoch - 9ms/step\n",
            "Epoch 77/100\n",
            "\n",
            "Epoch 77: val_accuracy did not improve from 0.63679\n",
            "54/54 - 0s - loss: 0.0265 - accuracy: 0.9924 - val_loss: 799.4003 - val_accuracy: 0.5236 - 436ms/epoch - 8ms/step\n",
            "Epoch 78/100\n",
            "\n",
            "Epoch 78: val_accuracy did not improve from 0.63679\n",
            "54/54 - 0s - loss: 0.0598 - accuracy: 0.9824 - val_loss: 1101.5814 - val_accuracy: 0.5189 - 455ms/epoch - 8ms/step\n",
            "Epoch 79/100\n",
            "\n",
            "Epoch 79: val_accuracy did not improve from 0.63679\n",
            "54/54 - 0s - loss: 0.0487 - accuracy: 0.9829 - val_loss: 992.0690 - val_accuracy: 0.4953 - 430ms/epoch - 8ms/step\n",
            "Epoch 80/100\n",
            "\n",
            "Epoch 80: val_accuracy did not improve from 0.63679\n",
            "54/54 - 0s - loss: 0.0300 - accuracy: 0.9882 - val_loss: 1084.9998 - val_accuracy: 0.5377 - 429ms/epoch - 8ms/step\n",
            "Epoch 81/100\n",
            "\n",
            "Epoch 81: val_accuracy did not improve from 0.63679\n",
            "54/54 - 0s - loss: 0.0525 - accuracy: 0.9882 - val_loss: 747.3622 - val_accuracy: 0.5708 - 430ms/epoch - 8ms/step\n",
            "Epoch 82/100\n",
            "\n",
            "Epoch 82: val_accuracy did not improve from 0.63679\n",
            "54/54 - 0s - loss: 0.0631 - accuracy: 0.9806 - val_loss: 888.6826 - val_accuracy: 0.5094 - 432ms/epoch - 8ms/step\n",
            "Epoch 83/100\n",
            "\n",
            "Epoch 83: val_accuracy did not improve from 0.63679\n",
            "54/54 - 0s - loss: 0.0255 - accuracy: 0.9906 - val_loss: 701.4227 - val_accuracy: 0.5755 - 408ms/epoch - 8ms/step\n",
            "Epoch 84/100\n",
            "\n",
            "Epoch 84: val_accuracy did not improve from 0.63679\n",
            "54/54 - 0s - loss: 0.0315 - accuracy: 0.9906 - val_loss: 864.2661 - val_accuracy: 0.5519 - 396ms/epoch - 7ms/step\n",
            "Epoch 85/100\n",
            "\n",
            "Epoch 85: val_accuracy did not improve from 0.63679\n",
            "54/54 - 0s - loss: 0.0098 - accuracy: 0.9965 - val_loss: 976.2819 - val_accuracy: 0.5472 - 403ms/epoch - 7ms/step\n",
            "Epoch 86/100\n",
            "\n",
            "Epoch 86: val_accuracy did not improve from 0.63679\n",
            "54/54 - 0s - loss: 0.0137 - accuracy: 0.9929 - val_loss: 1008.3962 - val_accuracy: 0.5377 - 431ms/epoch - 8ms/step\n",
            "Epoch 87/100\n",
            "\n",
            "Epoch 87: val_accuracy did not improve from 0.63679\n",
            "54/54 - 0s - loss: 0.0331 - accuracy: 0.9871 - val_loss: 1222.2157 - val_accuracy: 0.5047 - 386ms/epoch - 7ms/step\n",
            "Epoch 88/100\n",
            "\n",
            "Epoch 88: val_accuracy did not improve from 0.63679\n",
            "54/54 - 0s - loss: 0.0231 - accuracy: 0.9912 - val_loss: 961.2148 - val_accuracy: 0.5425 - 400ms/epoch - 7ms/step\n",
            "Epoch 89/100\n",
            "\n",
            "Epoch 89: val_accuracy did not improve from 0.63679\n",
            "54/54 - 0s - loss: 0.0259 - accuracy: 0.9924 - val_loss: 932.0701 - val_accuracy: 0.5472 - 399ms/epoch - 7ms/step\n",
            "Epoch 90/100\n",
            "\n",
            "Epoch 90: val_accuracy did not improve from 0.63679\n",
            "54/54 - 0s - loss: 0.0251 - accuracy: 0.9929 - val_loss: 877.3024 - val_accuracy: 0.5519 - 410ms/epoch - 8ms/step\n",
            "Epoch 91/100\n",
            "\n",
            "Epoch 91: val_accuracy did not improve from 0.63679\n",
            "54/54 - 0s - loss: 0.0170 - accuracy: 0.9947 - val_loss: 1053.6855 - val_accuracy: 0.5566 - 446ms/epoch - 8ms/step\n",
            "Epoch 92/100\n",
            "\n",
            "Epoch 92: val_accuracy did not improve from 0.63679\n",
            "54/54 - 0s - loss: 0.0393 - accuracy: 0.9859 - val_loss: 1079.9854 - val_accuracy: 0.4906 - 400ms/epoch - 7ms/step\n",
            "Epoch 93/100\n",
            "\n",
            "Epoch 93: val_accuracy did not improve from 0.63679\n",
            "54/54 - 0s - loss: 0.0916 - accuracy: 0.9712 - val_loss: 737.0472 - val_accuracy: 0.5708 - 447ms/epoch - 8ms/step\n",
            "Epoch 94/100\n",
            "\n",
            "Epoch 94: val_accuracy did not improve from 0.63679\n",
            "54/54 - 0s - loss: 0.0318 - accuracy: 0.9912 - val_loss: 815.7358 - val_accuracy: 0.5613 - 442ms/epoch - 8ms/step\n",
            "Epoch 95/100\n",
            "\n",
            "Epoch 95: val_accuracy did not improve from 0.63679\n",
            "54/54 - 0s - loss: 0.0414 - accuracy: 0.9829 - val_loss: 843.8676 - val_accuracy: 0.5472 - 401ms/epoch - 7ms/step\n",
            "Epoch 96/100\n",
            "\n",
            "Epoch 96: val_accuracy did not improve from 0.63679\n",
            "54/54 - 0s - loss: 0.0283 - accuracy: 0.9912 - val_loss: 815.4634 - val_accuracy: 0.5708 - 388ms/epoch - 7ms/step\n",
            "Epoch 97/100\n",
            "\n",
            "Epoch 97: val_accuracy did not improve from 0.63679\n",
            "54/54 - 0s - loss: 0.1302 - accuracy: 0.9529 - val_loss: 790.6168 - val_accuracy: 0.5708 - 407ms/epoch - 8ms/step\n",
            "Epoch 98/100\n",
            "\n",
            "Epoch 98: val_accuracy did not improve from 0.63679\n",
            "54/54 - 0s - loss: 0.0516 - accuracy: 0.9824 - val_loss: 761.5903 - val_accuracy: 0.5283 - 436ms/epoch - 8ms/step\n",
            "Epoch 99/100\n",
            "\n",
            "Epoch 99: val_accuracy did not improve from 0.63679\n",
            "54/54 - 0s - loss: 0.0482 - accuracy: 0.9829 - val_loss: 732.0883 - val_accuracy: 0.5472 - 396ms/epoch - 7ms/step\n",
            "Epoch 100/100\n",
            "\n",
            "Epoch 100: val_accuracy did not improve from 0.63679\n",
            "54/54 - 0s - loss: 0.0252 - accuracy: 0.9941 - val_loss: 702.5992 - val_accuracy: 0.5991 - 410ms/epoch - 8ms/step\n",
            "4/4 [==============================] - 0s 8ms/step - loss: 3.1954 - accuracy: 0.6462\n",
            "[3.1953859329223633, 0.6462264060974121]\n"
          ]
        },
        {
          "output_type": "display_data",
          "data": {
            "image/png": "[encoded data removed]",
            "text/plain": [
              "<Figure size 432x288 with 1 Axes>"
            ]
          },
          "metadata": {
            "needs_background": "light"
          }
        },
        {
          "output_type": "display_data",
          "data": {
            "image/png": "[encoded data removed]",
            "text/plain": [
              "<Figure size 432x288 with 1 Axes>"
            ]
          },
          "metadata": {
            "needs_background": "light"
          }
        }
      ]
    },
    {
      "cell_type": "markdown",
      "source": [
        "# Homeworks"
      ],
      "metadata": {
        "id": "JNXI7sse4rsC"
      }
    },
    {
      "cell_type": "markdown",
      "source": [
        "1) Implement the Garbage Classifier with advanced models that we see last times and make practice in order to find the best model.\n",
        "\n",
        "2) Make some exploratory analysis on Input Data.\n",
        "\n",
        "3) Make some exploratory analysis on Output Data.\n",
        "\n",
        "4) Find the best hyperparameters for Data Augmentation.\n",
        "\n",
        "5) Try to manually fine-tune all hyper-parameters in order to achieve the best accuracy on validation set\n",
        "\n",
        "6) Save the best model and write an Inference code, where you give one external garbage image (downloaded from google, etc.) and classify it with the best model."
      ],
      "metadata": {
        "id": "4n4Gvm5v4t7D"
      }
    },
    {
      "cell_type": "code",
      "source": [
        ""
      ],
      "metadata": {
        "id": "bJjRI4GC6QWV"
      },
      "execution_count": 8,
      "outputs": []
    }
  ],
  "metadata": {
    "accelerator": "GPU",
    "colab": {
      "collapsed_sections": [],
      "name": "garbage_classifier_cv_train.ipynb",
      "provenance": []
    },
    "kernelspec": {
      "display_name": "Python 3",
      "name": "python3"
    },
    "language_info": {
      "name": "python"
    }
  },
  "nbformat": 4,
  "nbformat_minor": 0
}