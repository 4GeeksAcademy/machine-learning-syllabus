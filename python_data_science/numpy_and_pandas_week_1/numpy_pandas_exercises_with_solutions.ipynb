{
 "cells": [
  {
   "cell_type": "markdown",
   "metadata": {
    "colab_type": "text",
    "id": "01NQRNJdAtk7"
   },
   "source": [
    "### This notebook contains solutions for practice exercises for Part 1 of Python libraries: \n",
    "#### 1) Numpy\n",
    "#### 2) Pandas\n"
   ]
  },
  {
   "cell_type": "markdown",
   "metadata": {
    "colab_type": "text",
    "id": "sXcRArmlBoz5"
   },
   "source": [
    "# Numpy"
   ]
  },
  {
   "cell_type": "code",
   "execution_count": 0,
   "metadata": {
    "colab": {},
    "colab_type": "code",
    "collapsed": true,
    "id": "W_-Kpcj-G5RC"
   },
   "outputs": [],
   "source": [
    "# Import Numpy\n",
    "import numpy as np"
   ]
  },
  {
   "cell_type": "markdown",
   "metadata": {
    "colab_type": "text",
    "id": "zTr8gscQGf2b"
   },
   "source": [
    "#### Exercise 1: Create an array of 64 values starting with 10 and ending with 15 and assign it to x\n",
    "\n",
    "#### **Remember**: The third parameter to linspace is the number of values to obtain from the real line interval starting from 10 to 15 in this case."
   ]
  },
  {
   "cell_type": "code",
   "execution_count": 8,
   "metadata": {
    "colab": {
     "base_uri": "https://localhost:8080/",
     "height": 238
    },
    "colab_type": "code",
    "executionInfo": {
     "elapsed": 828,
     "status": "ok",
     "timestamp": 1582714221307,
     "user": {
      "displayName": "vamsi krishna varma Gunturi",
      "photoUrl": "https://lh3.googleusercontent.com/a-/AAuE7mDVkOmeh-heN1CRRvocTxwJHmqAgsnqRMpzM2K4=s64",
      "userId": "07556360944980168619"
     },
     "user_tz": -60
    },
    "id": "kZ3YYanuAbua",
    "outputId": "76a010d9-2c32-446a-e060-d25d1cb29ce8"
   },
   "outputs": [
    {
     "data": {
      "text/plain": [
       "array([10.        , 10.07936508, 10.15873016, 10.23809524, 10.31746032,\n",
       "       10.3968254 , 10.47619048, 10.55555556, 10.63492063, 10.71428571,\n",
       "       10.79365079, 10.87301587, 10.95238095, 11.03174603, 11.11111111,\n",
       "       11.19047619, 11.26984127, 11.34920635, 11.42857143, 11.50793651,\n",
       "       11.58730159, 11.66666667, 11.74603175, 11.82539683, 11.9047619 ,\n",
       "       11.98412698, 12.06349206, 12.14285714, 12.22222222, 12.3015873 ,\n",
       "       12.38095238, 12.46031746, 12.53968254, 12.61904762, 12.6984127 ,\n",
       "       12.77777778, 12.85714286, 12.93650794, 13.01587302, 13.0952381 ,\n",
       "       13.17460317, 13.25396825, 13.33333333, 13.41269841, 13.49206349,\n",
       "       13.57142857, 13.65079365, 13.73015873, 13.80952381, 13.88888889,\n",
       "       13.96825397, 14.04761905, 14.12698413, 14.20634921, 14.28571429,\n",
       "       14.36507937, 14.44444444, 14.52380952, 14.6031746 , 14.68253968,\n",
       "       14.76190476, 14.84126984, 14.92063492, 15.        ])"
      ]
     },
     "execution_count": 8,
     "metadata": {
      "tags": []
     },
     "output_type": "execute_result"
    }
   ],
   "source": [
    "# Exercise 1 solution:\n",
    "x = np.linspace(10,15,64)\n",
    "x\n"
   ]
  },
  {
   "cell_type": "markdown",
   "metadata": {
    "colab_type": "text",
    "id": "zsLlTVoNHLKp"
   },
   "source": [
    "#### Exercise 2: Reshape x into a 3-Dimensional Array"
   ]
  },
  {
   "cell_type": "code",
   "execution_count": 9,
   "metadata": {
    "colab": {
     "base_uri": "https://localhost:8080/",
     "height": 51
    },
    "colab_type": "code",
    "executionInfo": {
     "elapsed": 798,
     "status": "ok",
     "timestamp": 1582714224174,
     "user": {
      "displayName": "vamsi krishna varma Gunturi",
      "photoUrl": "https://lh3.googleusercontent.com/a-/AAuE7mDVkOmeh-heN1CRRvocTxwJHmqAgsnqRMpzM2K4=s64",
      "userId": "07556360944980168619"
     },
     "user_tz": -60
    },
    "id": "AyiylELZHVWX",
    "outputId": "4f3ce5a1-b556-4913-d035-628a0008ce40"
   },
   "outputs": [
    {
     "name": "stdout",
     "output_type": "stream",
     "text": [
      "(64,)\n",
      "(4, 4, 4)\n"
     ]
    }
   ],
   "source": [
    "# Exercise 2 solution:\n",
    "\n",
    "# Find the shape of x\n",
    "print(x.shape)\n",
    "\n",
    "# Do reshaping to a 3 D array\n",
    "x = x.reshape(4,4,4)\n",
    "\n",
    "# Print the new shape\n",
    "print(x.shape)"
   ]
  },
  {
   "cell_type": "markdown",
   "metadata": {
    "colab_type": "text",
    "id": "Rbq8wKfuIoGi"
   },
   "source": [
    "\n",
    "#### Exercise 3: Get the slice with first row of x (Numpy array slicing) "
   ]
  },
  {
   "cell_type": "code",
   "execution_count": 15,
   "metadata": {
    "colab": {
     "base_uri": "https://localhost:8080/",
     "height": 68
    },
    "colab_type": "code",
    "executionInfo": {
     "elapsed": 772,
     "status": "ok",
     "timestamp": 1582715607118,
     "user": {
      "displayName": "vamsi krishna varma Gunturi",
      "photoUrl": "https://lh3.googleusercontent.com/a-/AAuE7mDVkOmeh-heN1CRRvocTxwJHmqAgsnqRMpzM2K4=s64",
      "userId": "07556360944980168619"
     },
     "user_tz": -60
    },
    "id": "wHiu-mDBI02o",
    "outputId": "0d789054-c793-47e9-ecf4-53e27316d1f7"
   },
   "outputs": [
    {
     "name": "stdout",
     "output_type": "stream",
     "text": [
      "(1, 4, 4)\n",
      "(4, 4)\n",
      "(2, 4, 4)\n"
     ]
    }
   ],
   "source": [
    "# Exercise 3 solution\n",
    "\n",
    "# First row\n",
    "print(x[:1,])\n",
    "\n",
    "# Second row\n",
    "print(x[1,])\n",
    "\n",
    "# First 2 rows\n",
    "print(x[:2,])"
   ]
  },
  {
   "cell_type": "markdown",
   "metadata": {
    "colab_type": "text",
    "id": "aRoq4qAnCFYo"
   },
   "source": [
    "# Pandas\n",
    "\n",
    "##### Note: Basics can be found [link here](https://colab.research.google.com/drive/1qm3w99JlIe7wOJikRrb37kJMJYDyqqCR)"
   ]
  },
  {
   "cell_type": "markdown",
   "metadata": {
    "colab_type": "text",
    "id": "iCeXZObJNslE"
   },
   "source": [
    "#### Loading libraries and dataset\n"
   ]
  },
  {
   "cell_type": "code",
   "execution_count": 17,
   "metadata": {
    "colab": {
     "base_uri": "https://localhost:8080/",
     "height": 255
    },
    "colab_type": "code",
    "executionInfo": {
     "elapsed": 963,
     "status": "ok",
     "timestamp": 1582715893222,
     "user": {
      "displayName": "vamsi krishna varma Gunturi",
      "photoUrl": "https://lh3.googleusercontent.com/a-/AAuE7mDVkOmeh-heN1CRRvocTxwJHmqAgsnqRMpzM2K4=s64",
      "userId": "07556360944980168619"
     },
     "user_tz": -60
    },
    "id": "eq9PJ1zJCGO2",
    "outputId": "9f6d5b6c-f2e9-4781-a07d-f506445bf75f"
   },
   "outputs": [
    {
     "name": "stdout",
     "output_type": "stream",
     "text": [
      "     survived  pclass     sex   age  ...  deck  embark_town  alive  alone\n",
      "0           0       3    male  22.0  ...   NaN  Southampton     no  False\n",
      "1           1       1  female  38.0  ...     C    Cherbourg    yes  False\n",
      "2           1       3  female  26.0  ...   NaN  Southampton    yes   True\n",
      "3           1       1  female  35.0  ...     C  Southampton    yes  False\n",
      "4           0       3    male  35.0  ...   NaN  Southampton     no   True\n",
      "..        ...     ...     ...   ...  ...   ...          ...    ...    ...\n",
      "886         0       2    male  27.0  ...   NaN  Southampton     no   True\n",
      "887         1       1  female  19.0  ...     B  Southampton    yes   True\n",
      "888         0       3  female   NaN  ...   NaN  Southampton     no  False\n",
      "889         1       1    male  26.0  ...     C    Cherbourg    yes   True\n",
      "890         0       3    male  32.0  ...   NaN   Queenstown     no   True\n",
      "\n",
      "[891 rows x 15 columns]\n"
     ]
    }
   ],
   "source": [
    "import pandas as pd\n",
    "\n",
    "# Loading the titanic dataset from internet\n",
    "df = pd.read_csv(\"https://raw.githubusercontent.com/mwaskom/seaborn-data/master/titanic.csv\") \n",
    "\n",
    "print(df)\n"
   ]
  },
  {
   "cell_type": "markdown",
   "metadata": {
    "colab_type": "text",
    "id": "U8faGJ1QO0KJ"
   },
   "source": [
    "## Practice section 1: Knowing your data"
   ]
  },
  {
   "cell_type": "markdown",
   "metadata": {
    "colab_type": "text",
    "id": "BTzhz7B7S_dS"
   },
   "source": [
    "#### Exercise 1: Getting the first 10 rows of the dataset\n"
   ]
  },
  {
   "cell_type": "code",
   "execution_count": 0,
   "metadata": {
    "colab": {},
    "colab_type": "code",
    "collapsed": true,
    "id": "DTA7rBQAS_r7"
   },
   "outputs": [],
   "source": [
    "#Solution\n",
    "df.head(10)"
   ]
  },
  {
   "cell_type": "markdown",
   "metadata": {
    "colab_type": "text",
    "id": "ZLhUzEdYS_2x"
   },
   "source": [
    "#### Exercise 2: What is the number of observations in the dataset ?"
   ]
  },
  {
   "cell_type": "code",
   "execution_count": 30,
   "metadata": {
    "colab": {
     "base_uri": "https://localhost:8080/",
     "height": 374
    },
    "colab_type": "code",
    "executionInfo": {
     "elapsed": 815,
     "status": "ok",
     "timestamp": 1582717744317,
     "user": {
      "displayName": "vamsi krishna varma Gunturi",
      "photoUrl": "https://lh3.googleusercontent.com/a-/AAuE7mDVkOmeh-heN1CRRvocTxwJHmqAgsnqRMpzM2K4=s64",
      "userId": "07556360944980168619"
     },
     "user_tz": -60
    },
    "id": "ssoiTnn_TAB_",
    "outputId": "599ea103-ac39-4d66-d51d-0b9368b9a8b6"
   },
   "outputs": [
    {
     "name": "stdout",
     "output_type": "stream",
     "text": [
      "891\n",
      "<class 'pandas.core.frame.DataFrame'>\n",
      "RangeIndex: 891 entries, 0 to 890\n",
      "Data columns (total 15 columns):\n",
      "survived       891 non-null int64\n",
      "pclass         891 non-null int64\n",
      "sex            891 non-null object\n",
      "age            714 non-null float64\n",
      "sibsp          891 non-null int64\n",
      "parch          891 non-null int64\n",
      "fare           891 non-null float64\n",
      "embarked       889 non-null object\n",
      "class          891 non-null object\n",
      "who            891 non-null object\n",
      "adult_male     891 non-null bool\n",
      "deck           203 non-null object\n",
      "embark_town    889 non-null object\n",
      "alive          891 non-null object\n",
      "alone          891 non-null bool\n",
      "dtypes: bool(2), float64(2), int64(4), object(7)\n",
      "memory usage: 92.4+ KB\n"
     ]
    }
   ],
   "source": [
    "print(df.shape[0])\n",
    "df.info()"
   ]
  },
  {
   "cell_type": "markdown",
   "metadata": {
    "colab_type": "text",
    "id": "5QBRNN5bTAMw"
   },
   "source": [
    "#### Exercise 3: What is the number of columns in the dataset?\n"
   ]
  },
  {
   "cell_type": "code",
   "execution_count": 32,
   "metadata": {
    "colab": {
     "base_uri": "https://localhost:8080/",
     "height": 34
    },
    "colab_type": "code",
    "executionInfo": {
     "elapsed": 960,
     "status": "ok",
     "timestamp": 1582723942008,
     "user": {
      "displayName": "vamsi krishna varma Gunturi",
      "photoUrl": "https://lh3.googleusercontent.com/a-/AAuE7mDVkOmeh-heN1CRRvocTxwJHmqAgsnqRMpzM2K4=s64",
      "userId": "07556360944980168619"
     },
     "user_tz": -60
    },
    "id": "vu_5LAUsTAYe",
    "outputId": "d1dcddbe-6be5-4ce6-9814-83a5eb3d0790"
   },
   "outputs": [
    {
     "name": "stdout",
     "output_type": "stream",
     "text": [
      "15\n"
     ]
    }
   ],
   "source": [
    "# Exercise 3 solution\n",
    "print(df.shape[1])"
   ]
  },
  {
   "cell_type": "markdown",
   "metadata": {
    "colab_type": "text",
    "id": "4fBqzT4RTAk5"
   },
   "source": [
    "#### Exercise 4: What are the names of columns ?"
   ]
  },
  {
   "cell_type": "code",
   "execution_count": 31,
   "metadata": {
    "colab": {
     "base_uri": "https://localhost:8080/",
     "height": 85
    },
    "colab_type": "code",
    "executionInfo": {
     "elapsed": 838,
     "status": "ok",
     "timestamp": 1582723939005,
     "user": {
      "displayName": "vamsi krishna varma Gunturi",
      "photoUrl": "https://lh3.googleusercontent.com/a-/AAuE7mDVkOmeh-heN1CRRvocTxwJHmqAgsnqRMpzM2K4=s64",
      "userId": "07556360944980168619"
     },
     "user_tz": -60
    },
    "id": "nwiF9BGTTBBZ",
    "outputId": "9865266d-d68c-4175-abe9-dd7e776c9f98"
   },
   "outputs": [
    {
     "data": {
      "text/plain": [
       "Index(['survived', 'pclass', 'sex', 'age', 'sibsp', 'parch', 'fare',\n",
       "       'embarked', 'class', 'who', 'adult_male', 'deck', 'embark_town',\n",
       "       'alive', 'alone'],\n",
       "      dtype='object')"
      ]
     },
     "execution_count": 31,
     "metadata": {
      "tags": []
     },
     "output_type": "execute_result"
    }
   ],
   "source": [
    "# Exercise 4 solution\n",
    "df.columns"
   ]
  },
  {
   "cell_type": "markdown",
   "metadata": {
    "colab_type": "text",
    "id": "eClhbxBiTB8y"
   },
   "source": [
    "#### Exercise 5: How is the dataset indexed ?"
   ]
  },
  {
   "cell_type": "code",
   "execution_count": 33,
   "metadata": {
    "colab": {
     "base_uri": "https://localhost:8080/",
     "height": 34
    },
    "colab_type": "code",
    "executionInfo": {
     "elapsed": 735,
     "status": "ok",
     "timestamp": 1582723996045,
     "user": {
      "displayName": "vamsi krishna varma Gunturi",
      "photoUrl": "https://lh3.googleusercontent.com/a-/AAuE7mDVkOmeh-heN1CRRvocTxwJHmqAgsnqRMpzM2K4=s64",
      "userId": "07556360944980168619"
     },
     "user_tz": -60
    },
    "id": "_MTfFvBATCJm",
    "outputId": "3d0f8a64-2d0c-428d-e932-113a33f52e5e"
   },
   "outputs": [
    {
     "data": {
      "text/plain": [
       "RangeIndex(start=0, stop=891, step=1)"
      ]
     },
     "execution_count": 33,
     "metadata": {
      "tags": []
     },
     "output_type": "execute_result"
    }
   ],
   "source": [
    "# Exercise 5 solution\n",
    "df.index"
   ]
  },
  {
   "cell_type": "code",
   "execution_count": 34,
   "metadata": {
    "colab": {
     "base_uri": "https://localhost:8080/",
     "height": 34
    },
    "colab_type": "code",
    "executionInfo": {
     "elapsed": 996,
     "status": "ok",
     "timestamp": 1582724388749,
     "user": {
      "displayName": "vamsi krishna varma Gunturi",
      "photoUrl": "https://lh3.googleusercontent.com/a-/AAuE7mDVkOmeh-heN1CRRvocTxwJHmqAgsnqRMpzM2K4=s64",
      "userId": "07556360944980168619"
     },
     "user_tz": -60
    },
    "id": "C8R24evJPX1w",
    "outputId": "c6b1f43d-149e-4875-91a9-b718118bffe2"
   },
   "outputs": [
    {
     "data": {
      "text/plain": [
       "342"
      ]
     },
     "execution_count": 34,
     "metadata": {
      "tags": []
     },
     "output_type": "execute_result"
    }
   ],
   "source": []
  },
  {
   "cell_type": "markdown",
   "metadata": {
    "colab_type": "text",
    "id": "J3WtRqSpudgL"
   },
   "source": [
    "#### Exercise 6: How many people survived?"
   ]
  },
  {
   "cell_type": "code",
   "execution_count": 0,
   "metadata": {
    "colab": {},
    "colab_type": "code",
    "collapsed": true,
    "id": "2CJX8mCDudxM"
   },
   "outputs": [],
   "source": [
    "# Exercise 6 solution\n",
    "total_survived = df.survived.sum()\n",
    "total_survived"
   ]
  },
  {
   "cell_type": "markdown",
   "metadata": {
    "colab_type": "text",
    "id": "fTBFzhJRueJA"
   },
   "source": [
    "#### Exercise 7: Print unique towns in Embark town field ?"
   ]
  },
  {
   "cell_type": "code",
   "execution_count": 35,
   "metadata": {
    "colab": {
     "base_uri": "https://localhost:8080/",
     "height": 34
    },
    "colab_type": "code",
    "executionInfo": {
     "elapsed": 742,
     "status": "ok",
     "timestamp": 1582724559756,
     "user": {
      "displayName": "vamsi krishna varma Gunturi",
      "photoUrl": "https://lh3.googleusercontent.com/a-/AAuE7mDVkOmeh-heN1CRRvocTxwJHmqAgsnqRMpzM2K4=s64",
      "userId": "07556360944980168619"
     },
     "user_tz": -60
    },
    "id": "1AXT5l1queZW",
    "outputId": "d5899d30-3093-4c45-d89b-8fe7dc8df42b"
   },
   "outputs": [
    {
     "data": {
      "text/plain": [
       "array(['Southampton', 'Cherbourg', 'Queenstown', nan], dtype=object)"
      ]
     },
     "execution_count": 35,
     "metadata": {
      "tags": []
     },
     "output_type": "execute_result"
    }
   ],
   "source": [
    "# Exercise 7 solution\n",
    "embark_town_list = df['embark_town'].unique()\n",
    "embark_town_list"
   ]
  },
  {
   "cell_type": "markdown",
   "metadata": {
    "colab_type": "text",
    "id": "Wxpc0jAivdwK"
   },
   "source": [
    "#### Exercise 8: Find the data type of age field ?"
   ]
  },
  {
   "cell_type": "code",
   "execution_count": 36,
   "metadata": {
    "colab": {
     "base_uri": "https://localhost:8080/",
     "height": 34
    },
    "colab_type": "code",
    "executionInfo": {
     "elapsed": 1006,
     "status": "ok",
     "timestamp": 1582724771419,
     "user": {
      "displayName": "vamsi krishna varma Gunturi",
      "photoUrl": "https://lh3.googleusercontent.com/a-/AAuE7mDVkOmeh-heN1CRRvocTxwJHmqAgsnqRMpzM2K4=s64",
      "userId": "07556360944980168619"
     },
     "user_tz": -60
    },
    "id": "Fcr4R42JveGq",
    "outputId": "50a2f425-cea0-4f5d-ec50-9877777da6db"
   },
   "outputs": [
    {
     "data": {
      "text/plain": [
       "dtype('float64')"
      ]
     },
     "execution_count": 36,
     "metadata": {
      "tags": []
     },
     "output_type": "execute_result"
    }
   ],
   "source": [
    "# Exercise 8 solution\n",
    "df.age.dtype"
   ]
  },
  {
   "cell_type": "markdown",
   "metadata": {
    "colab_type": "text",
    "id": "Zs34lnLTv4OB"
   },
   "source": [
    "#### Exercise 9: Find the distribution of values in the alive field ?"
   ]
  },
  {
   "cell_type": "code",
   "execution_count": 38,
   "metadata": {
    "colab": {
     "base_uri": "https://localhost:8080/",
     "height": 68
    },
    "colab_type": "code",
    "executionInfo": {
     "elapsed": 844,
     "status": "ok",
     "timestamp": 1582724865214,
     "user": {
      "displayName": "vamsi krishna varma Gunturi",
      "photoUrl": "https://lh3.googleusercontent.com/a-/AAuE7mDVkOmeh-heN1CRRvocTxwJHmqAgsnqRMpzM2K4=s64",
      "userId": "07556360944980168619"
     },
     "user_tz": -60
    },
    "id": "Y7Pwx0Kdv4gZ",
    "outputId": "237f8344-46e3-419b-8ce1-5b7a02063dd1"
   },
   "outputs": [
    {
     "data": {
      "text/plain": [
       "no     549\n",
       "yes    342\n",
       "Name: alive, dtype: int64"
      ]
     },
     "execution_count": 38,
     "metadata": {
      "tags": []
     },
     "output_type": "execute_result"
    }
   ],
   "source": [
    "# Exercise 9 solution\n",
    "df.alive.value_counts()"
   ]
  },
  {
   "cell_type": "markdown",
   "metadata": {
    "colab_type": "text",
    "id": "TTqFOJgLv43-"
   },
   "source": [
    "#### Exercise 10: What is the town with most passengers ?"
   ]
  },
  {
   "cell_type": "code",
   "execution_count": 40,
   "metadata": {
    "colab": {
     "base_uri": "https://localhost:8080/",
     "height": 85
    },
    "colab_type": "code",
    "executionInfo": {
     "elapsed": 843,
     "status": "ok",
     "timestamp": 1582725206414,
     "user": {
      "displayName": "vamsi krishna varma Gunturi",
      "photoUrl": "https://lh3.googleusercontent.com/a-/AAuE7mDVkOmeh-heN1CRRvocTxwJHmqAgsnqRMpzM2K4=s64",
      "userId": "07556360944980168619"
     },
     "user_tz": -60
    },
    "id": "63NNwFMOv5OJ",
    "outputId": "049d2370-4695-45c4-9f40-d97d7e7c9695"
   },
   "outputs": [
    {
     "data": {
      "text/plain": [
       "Southampton    644\n",
       "Cherbourg      168\n",
       "Queenstown      77\n",
       "Name: embark_town, dtype: int64"
      ]
     },
     "execution_count": 40,
     "metadata": {
      "tags": []
     },
     "output_type": "execute_result"
    }
   ],
   "source": [
    "# Exercise 10 solution\n",
    "# Top town name\n",
    "df.embark_town.value_counts().head(1).index[0]\n",
    "\n",
    "# Top 3 \n",
    "df.embark_town.value_counts().head(3)"
   ]
  },
  {
   "cell_type": "markdown",
   "metadata": {
    "colab_type": "text",
    "id": "4w0DPQsjxtHk"
   },
   "source": [
    "#### Exercise 11: Summarise the dataframe"
   ]
  },
  {
   "cell_type": "code",
   "execution_count": 43,
   "metadata": {
    "colab": {
     "base_uri": "https://localhost:8080/",
     "height": 297
    },
    "colab_type": "code",
    "executionInfo": {
     "elapsed": 711,
     "status": "ok",
     "timestamp": 1582725462535,
     "user": {
      "displayName": "vamsi krishna varma Gunturi",
      "photoUrl": "https://lh3.googleusercontent.com/a-/AAuE7mDVkOmeh-heN1CRRvocTxwJHmqAgsnqRMpzM2K4=s64",
      "userId": "07556360944980168619"
     },
     "user_tz": -60
    },
    "id": "CGdnn1n7xtaU",
    "outputId": "cbe4c56c-86bb-49f9-a15c-83c3f9256538"
   },
   "outputs": [
    {
     "data": {
      "text/html": [
       "<div>\n",
       "<style scoped>\n",
       "    .dataframe tbody tr th:only-of-type {\n",
       "        vertical-align: middle;\n",
       "    }\n",
       "\n",
       "    .dataframe tbody tr th {\n",
       "        vertical-align: top;\n",
       "    }\n",
       "\n",
       "    .dataframe thead th {\n",
       "        text-align: right;\n",
       "    }\n",
       "</style>\n",
       "<table border=\"1\" class=\"dataframe\">\n",
       "  <thead>\n",
       "    <tr style=\"text-align: right;\">\n",
       "      <th></th>\n",
       "      <th>survived</th>\n",
       "      <th>pclass</th>\n",
       "      <th>age</th>\n",
       "      <th>sibsp</th>\n",
       "      <th>parch</th>\n",
       "      <th>fare</th>\n",
       "    </tr>\n",
       "  </thead>\n",
       "  <tbody>\n",
       "    <tr>\n",
       "      <th>count</th>\n",
       "      <td>891.000000</td>\n",
       "      <td>891.000000</td>\n",
       "      <td>714.000000</td>\n",
       "      <td>891.000000</td>\n",
       "      <td>891.000000</td>\n",
       "      <td>891.000000</td>\n",
       "    </tr>\n",
       "    <tr>\n",
       "      <th>mean</th>\n",
       "      <td>0.383838</td>\n",
       "      <td>2.308642</td>\n",
       "      <td>29.699118</td>\n",
       "      <td>0.523008</td>\n",
       "      <td>0.381594</td>\n",
       "      <td>32.204208</td>\n",
       "    </tr>\n",
       "    <tr>\n",
       "      <th>std</th>\n",
       "      <td>0.486592</td>\n",
       "      <td>0.836071</td>\n",
       "      <td>14.526497</td>\n",
       "      <td>1.102743</td>\n",
       "      <td>0.806057</td>\n",
       "      <td>49.693429</td>\n",
       "    </tr>\n",
       "    <tr>\n",
       "      <th>min</th>\n",
       "      <td>0.000000</td>\n",
       "      <td>1.000000</td>\n",
       "      <td>0.420000</td>\n",
       "      <td>0.000000</td>\n",
       "      <td>0.000000</td>\n",
       "      <td>0.000000</td>\n",
       "    </tr>\n",
       "    <tr>\n",
       "      <th>25%</th>\n",
       "      <td>0.000000</td>\n",
       "      <td>2.000000</td>\n",
       "      <td>20.125000</td>\n",
       "      <td>0.000000</td>\n",
       "      <td>0.000000</td>\n",
       "      <td>7.910400</td>\n",
       "    </tr>\n",
       "    <tr>\n",
       "      <th>50%</th>\n",
       "      <td>0.000000</td>\n",
       "      <td>3.000000</td>\n",
       "      <td>28.000000</td>\n",
       "      <td>0.000000</td>\n",
       "      <td>0.000000</td>\n",
       "      <td>14.454200</td>\n",
       "    </tr>\n",
       "    <tr>\n",
       "      <th>75%</th>\n",
       "      <td>1.000000</td>\n",
       "      <td>3.000000</td>\n",
       "      <td>38.000000</td>\n",
       "      <td>1.000000</td>\n",
       "      <td>0.000000</td>\n",
       "      <td>31.000000</td>\n",
       "    </tr>\n",
       "    <tr>\n",
       "      <th>max</th>\n",
       "      <td>1.000000</td>\n",
       "      <td>3.000000</td>\n",
       "      <td>80.000000</td>\n",
       "      <td>8.000000</td>\n",
       "      <td>6.000000</td>\n",
       "      <td>512.329200</td>\n",
       "    </tr>\n",
       "  </tbody>\n",
       "</table>\n",
       "</div>"
      ],
      "text/plain": [
       "         survived      pclass         age       sibsp       parch        fare\n",
       "count  891.000000  891.000000  714.000000  891.000000  891.000000  891.000000\n",
       "mean     0.383838    2.308642   29.699118    0.523008    0.381594   32.204208\n",
       "std      0.486592    0.836071   14.526497    1.102743    0.806057   49.693429\n",
       "min      0.000000    1.000000    0.420000    0.000000    0.000000    0.000000\n",
       "25%      0.000000    2.000000   20.125000    0.000000    0.000000    7.910400\n",
       "50%      0.000000    3.000000   28.000000    0.000000    0.000000   14.454200\n",
       "75%      1.000000    3.000000   38.000000    1.000000    0.000000   31.000000\n",
       "max      1.000000    3.000000   80.000000    8.000000    6.000000  512.329200"
      ]
     },
     "execution_count": 43,
     "metadata": {
      "tags": []
     },
     "output_type": "execute_result"
    }
   ],
   "source": [
    "# Exercise 11 solution\n",
    "df.describe()"
   ]
  },
  {
   "cell_type": "markdown",
   "metadata": {
    "colab_type": "text",
    "id": "Zl21ey4fyP90"
   },
   "source": [
    "#### Exercise 12: Summarise all the columns"
   ]
  },
  {
   "cell_type": "code",
   "execution_count": 44,
   "metadata": {
    "colab": {
     "base_uri": "https://localhost:8080/",
     "height": 390
    },
    "colab_type": "code",
    "executionInfo": {
     "elapsed": 880,
     "status": "ok",
     "timestamp": 1582725467127,
     "user": {
      "displayName": "vamsi krishna varma Gunturi",
      "photoUrl": "https://lh3.googleusercontent.com/a-/AAuE7mDVkOmeh-heN1CRRvocTxwJHmqAgsnqRMpzM2K4=s64",
      "userId": "07556360944980168619"
     },
     "user_tz": -60
    },
    "id": "_fXeleLhyQVS",
    "outputId": "718d56f8-f483-40ff-e2ee-4bf6b4108f39"
   },
   "outputs": [
    {
     "data": {
      "text/html": [
       "<div>\n",
       "<style scoped>\n",
       "    .dataframe tbody tr th:only-of-type {\n",
       "        vertical-align: middle;\n",
       "    }\n",
       "\n",
       "    .dataframe tbody tr th {\n",
       "        vertical-align: top;\n",
       "    }\n",
       "\n",
       "    .dataframe thead th {\n",
       "        text-align: right;\n",
       "    }\n",
       "</style>\n",
       "<table border=\"1\" class=\"dataframe\">\n",
       "  <thead>\n",
       "    <tr style=\"text-align: right;\">\n",
       "      <th></th>\n",
       "      <th>survived</th>\n",
       "      <th>pclass</th>\n",
       "      <th>sex</th>\n",
       "      <th>age</th>\n",
       "      <th>sibsp</th>\n",
       "      <th>parch</th>\n",
       "      <th>fare</th>\n",
       "      <th>embarked</th>\n",
       "      <th>class</th>\n",
       "      <th>who</th>\n",
       "      <th>adult_male</th>\n",
       "      <th>deck</th>\n",
       "      <th>embark_town</th>\n",
       "      <th>alive</th>\n",
       "      <th>alone</th>\n",
       "    </tr>\n",
       "  </thead>\n",
       "  <tbody>\n",
       "    <tr>\n",
       "      <th>count</th>\n",
       "      <td>891.000000</td>\n",
       "      <td>891.000000</td>\n",
       "      <td>891</td>\n",
       "      <td>714.000000</td>\n",
       "      <td>891.000000</td>\n",
       "      <td>891.000000</td>\n",
       "      <td>891.000000</td>\n",
       "      <td>889</td>\n",
       "      <td>891</td>\n",
       "      <td>891</td>\n",
       "      <td>891</td>\n",
       "      <td>203</td>\n",
       "      <td>889</td>\n",
       "      <td>891</td>\n",
       "      <td>891</td>\n",
       "    </tr>\n",
       "    <tr>\n",
       "      <th>unique</th>\n",
       "      <td>NaN</td>\n",
       "      <td>NaN</td>\n",
       "      <td>2</td>\n",
       "      <td>NaN</td>\n",
       "      <td>NaN</td>\n",
       "      <td>NaN</td>\n",
       "      <td>NaN</td>\n",
       "      <td>3</td>\n",
       "      <td>3</td>\n",
       "      <td>3</td>\n",
       "      <td>2</td>\n",
       "      <td>7</td>\n",
       "      <td>3</td>\n",
       "      <td>2</td>\n",
       "      <td>2</td>\n",
       "    </tr>\n",
       "    <tr>\n",
       "      <th>top</th>\n",
       "      <td>NaN</td>\n",
       "      <td>NaN</td>\n",
       "      <td>male</td>\n",
       "      <td>NaN</td>\n",
       "      <td>NaN</td>\n",
       "      <td>NaN</td>\n",
       "      <td>NaN</td>\n",
       "      <td>S</td>\n",
       "      <td>Third</td>\n",
       "      <td>man</td>\n",
       "      <td>True</td>\n",
       "      <td>C</td>\n",
       "      <td>Southampton</td>\n",
       "      <td>no</td>\n",
       "      <td>True</td>\n",
       "    </tr>\n",
       "    <tr>\n",
       "      <th>freq</th>\n",
       "      <td>NaN</td>\n",
       "      <td>NaN</td>\n",
       "      <td>577</td>\n",
       "      <td>NaN</td>\n",
       "      <td>NaN</td>\n",
       "      <td>NaN</td>\n",
       "      <td>NaN</td>\n",
       "      <td>644</td>\n",
       "      <td>491</td>\n",
       "      <td>537</td>\n",
       "      <td>537</td>\n",
       "      <td>59</td>\n",
       "      <td>644</td>\n",
       "      <td>549</td>\n",
       "      <td>537</td>\n",
       "    </tr>\n",
       "    <tr>\n",
       "      <th>mean</th>\n",
       "      <td>0.383838</td>\n",
       "      <td>2.308642</td>\n",
       "      <td>NaN</td>\n",
       "      <td>29.699118</td>\n",
       "      <td>0.523008</td>\n",
       "      <td>0.381594</td>\n",
       "      <td>32.204208</td>\n",
       "      <td>NaN</td>\n",
       "      <td>NaN</td>\n",
       "      <td>NaN</td>\n",
       "      <td>NaN</td>\n",
       "      <td>NaN</td>\n",
       "      <td>NaN</td>\n",
       "      <td>NaN</td>\n",
       "      <td>NaN</td>\n",
       "    </tr>\n",
       "    <tr>\n",
       "      <th>std</th>\n",
       "      <td>0.486592</td>\n",
       "      <td>0.836071</td>\n",
       "      <td>NaN</td>\n",
       "      <td>14.526497</td>\n",
       "      <td>1.102743</td>\n",
       "      <td>0.806057</td>\n",
       "      <td>49.693429</td>\n",
       "      <td>NaN</td>\n",
       "      <td>NaN</td>\n",
       "      <td>NaN</td>\n",
       "      <td>NaN</td>\n",
       "      <td>NaN</td>\n",
       "      <td>NaN</td>\n",
       "      <td>NaN</td>\n",
       "      <td>NaN</td>\n",
       "    </tr>\n",
       "    <tr>\n",
       "      <th>min</th>\n",
       "      <td>0.000000</td>\n",
       "      <td>1.000000</td>\n",
       "      <td>NaN</td>\n",
       "      <td>0.420000</td>\n",
       "      <td>0.000000</td>\n",
       "      <td>0.000000</td>\n",
       "      <td>0.000000</td>\n",
       "      <td>NaN</td>\n",
       "      <td>NaN</td>\n",
       "      <td>NaN</td>\n",
       "      <td>NaN</td>\n",
       "      <td>NaN</td>\n",
       "      <td>NaN</td>\n",
       "      <td>NaN</td>\n",
       "      <td>NaN</td>\n",
       "    </tr>\n",
       "    <tr>\n",
       "      <th>25%</th>\n",
       "      <td>0.000000</td>\n",
       "      <td>2.000000</td>\n",
       "      <td>NaN</td>\n",
       "      <td>20.125000</td>\n",
       "      <td>0.000000</td>\n",
       "      <td>0.000000</td>\n",
       "      <td>7.910400</td>\n",
       "      <td>NaN</td>\n",
       "      <td>NaN</td>\n",
       "      <td>NaN</td>\n",
       "      <td>NaN</td>\n",
       "      <td>NaN</td>\n",
       "      <td>NaN</td>\n",
       "      <td>NaN</td>\n",
       "      <td>NaN</td>\n",
       "    </tr>\n",
       "    <tr>\n",
       "      <th>50%</th>\n",
       "      <td>0.000000</td>\n",
       "      <td>3.000000</td>\n",
       "      <td>NaN</td>\n",
       "      <td>28.000000</td>\n",
       "      <td>0.000000</td>\n",
       "      <td>0.000000</td>\n",
       "      <td>14.454200</td>\n",
       "      <td>NaN</td>\n",
       "      <td>NaN</td>\n",
       "      <td>NaN</td>\n",
       "      <td>NaN</td>\n",
       "      <td>NaN</td>\n",
       "      <td>NaN</td>\n",
       "      <td>NaN</td>\n",
       "      <td>NaN</td>\n",
       "    </tr>\n",
       "    <tr>\n",
       "      <th>75%</th>\n",
       "      <td>1.000000</td>\n",
       "      <td>3.000000</td>\n",
       "      <td>NaN</td>\n",
       "      <td>38.000000</td>\n",
       "      <td>1.000000</td>\n",
       "      <td>0.000000</td>\n",
       "      <td>31.000000</td>\n",
       "      <td>NaN</td>\n",
       "      <td>NaN</td>\n",
       "      <td>NaN</td>\n",
       "      <td>NaN</td>\n",
       "      <td>NaN</td>\n",
       "      <td>NaN</td>\n",
       "      <td>NaN</td>\n",
       "      <td>NaN</td>\n",
       "    </tr>\n",
       "    <tr>\n",
       "      <th>max</th>\n",
       "      <td>1.000000</td>\n",
       "      <td>3.000000</td>\n",
       "      <td>NaN</td>\n",
       "      <td>80.000000</td>\n",
       "      <td>8.000000</td>\n",
       "      <td>6.000000</td>\n",
       "      <td>512.329200</td>\n",
       "      <td>NaN</td>\n",
       "      <td>NaN</td>\n",
       "      <td>NaN</td>\n",
       "      <td>NaN</td>\n",
       "      <td>NaN</td>\n",
       "      <td>NaN</td>\n",
       "      <td>NaN</td>\n",
       "      <td>NaN</td>\n",
       "    </tr>\n",
       "  </tbody>\n",
       "</table>\n",
       "</div>"
      ],
      "text/plain": [
       "          survived      pclass   sex         age  ...  deck  embark_town  alive alone\n",
       "count   891.000000  891.000000   891  714.000000  ...   203          889    891   891\n",
       "unique         NaN         NaN     2         NaN  ...     7            3      2     2\n",
       "top            NaN         NaN  male         NaN  ...     C  Southampton     no  True\n",
       "freq           NaN         NaN   577         NaN  ...    59          644    549   537\n",
       "mean      0.383838    2.308642   NaN   29.699118  ...   NaN          NaN    NaN   NaN\n",
       "std       0.486592    0.836071   NaN   14.526497  ...   NaN          NaN    NaN   NaN\n",
       "min       0.000000    1.000000   NaN    0.420000  ...   NaN          NaN    NaN   NaN\n",
       "25%       0.000000    2.000000   NaN   20.125000  ...   NaN          NaN    NaN   NaN\n",
       "50%       0.000000    3.000000   NaN   28.000000  ...   NaN          NaN    NaN   NaN\n",
       "75%       1.000000    3.000000   NaN   38.000000  ...   NaN          NaN    NaN   NaN\n",
       "max       1.000000    3.000000   NaN   80.000000  ...   NaN          NaN    NaN   NaN\n",
       "\n",
       "[11 rows x 15 columns]"
      ]
     },
     "execution_count": 44,
     "metadata": {
      "tags": []
     },
     "output_type": "execute_result"
    }
   ],
   "source": [
    "# Exercise 12 solution\n",
    "# Summarise all the columns. Notice: By default, only the numeric columns are returned.\n",
    "df.describe(include = \"all\")"
   ]
  },
  {
   "cell_type": "markdown",
   "metadata": {
    "colab_type": "text",
    "id": "j3ki7BHYyuvp"
   },
   "source": [
    "#### Exercise 13: Summarize only the survived column"
   ]
  },
  {
   "cell_type": "code",
   "execution_count": 46,
   "metadata": {
    "colab": {
     "base_uri": "https://localhost:8080/",
     "height": 170
    },
    "colab_type": "code",
    "executionInfo": {
     "elapsed": 833,
     "status": "ok",
     "timestamp": 1582725953690,
     "user": {
      "displayName": "vamsi krishna varma Gunturi",
      "photoUrl": "https://lh3.googleusercontent.com/a-/AAuE7mDVkOmeh-heN1CRRvocTxwJHmqAgsnqRMpzM2K4=s64",
      "userId": "07556360944980168619"
     },
     "user_tz": -60
    },
    "id": "N6QVoGHlyvD1",
    "outputId": "e7d06a1b-6894-4306-8013-28cda267f610"
   },
   "outputs": [
    {
     "data": {
      "text/plain": [
       "count    891.000000\n",
       "mean       0.383838\n",
       "std        0.486592\n",
       "min        0.000000\n",
       "25%        0.000000\n",
       "50%        0.000000\n",
       "75%        1.000000\n",
       "max        1.000000\n",
       "Name: survived, dtype: float64"
      ]
     },
     "execution_count": 46,
     "metadata": {
      "tags": []
     },
     "output_type": "execute_result"
    }
   ],
   "source": [
    "# Exercise 13 solution\n",
    "df.survived.describe()"
   ]
  },
  {
   "cell_type": "markdown",
   "metadata": {
    "colab_type": "text",
    "id": "X_TuI0Zmyv_B"
   },
   "source": [
    "#### Exercise 14: What is the mean age of passengers?"
   ]
  },
  {
   "cell_type": "code",
   "execution_count": 47,
   "metadata": {
    "colab": {
     "base_uri": "https://localhost:8080/",
     "height": 34
    },
    "colab_type": "code",
    "executionInfo": {
     "elapsed": 843,
     "status": "ok",
     "timestamp": 1582725961519,
     "user": {
      "displayName": "vamsi krishna varma Gunturi",
      "photoUrl": "https://lh3.googleusercontent.com/a-/AAuE7mDVkOmeh-heN1CRRvocTxwJHmqAgsnqRMpzM2K4=s64",
      "userId": "07556360944980168619"
     },
     "user_tz": -60
    },
    "id": "JcMvwv6kywQw",
    "outputId": "a6e16a3b-7a2e-4779-bf04-73a2fb137ee7"
   },
   "outputs": [
    {
     "data": {
      "text/plain": [
       "30"
      ]
     },
     "execution_count": 47,
     "metadata": {
      "tags": []
     },
     "output_type": "execute_result"
    }
   ],
   "source": [
    "# Exercise 14 solution\n",
    "round(df.age.mean())"
   ]
  },
  {
   "cell_type": "markdown",
   "metadata": {
    "colab_type": "text",
    "id": "6l_h69xEywln"
   },
   "source": [
    "#### Exercise 15: What is the age with least occurrence?"
   ]
  },
  {
   "cell_type": "code",
   "execution_count": 50,
   "metadata": {
    "colab": {
     "base_uri": "https://localhost:8080/",
     "height": 119
    },
    "colab_type": "code",
    "executionInfo": {
     "elapsed": 907,
     "status": "ok",
     "timestamp": 1582726001297,
     "user": {
      "displayName": "vamsi krishna varma Gunturi",
      "photoUrl": "https://lh3.googleusercontent.com/a-/AAuE7mDVkOmeh-heN1CRRvocTxwJHmqAgsnqRMpzM2K4=s64",
      "userId": "07556360944980168619"
     },
     "user_tz": -60
    },
    "id": "BocKlOebyw1X",
    "outputId": "52f19d08-02f9-4db6-c164-b1035844e266"
   },
   "outputs": [
    {
     "data": {
      "text/plain": [
       "55.50    1\n",
       "70.50    1\n",
       "66.00    1\n",
       "23.50    1\n",
       "0.42     1\n",
       "Name: age, dtype: int64"
      ]
     },
     "execution_count": 50,
     "metadata": {
      "tags": []
     },
     "output_type": "execute_result"
    }
   ],
   "source": [
    "# Exercise 15 solution\n",
    "df.age.value_counts().tail() \n"
   ]
  },
  {
   "cell_type": "markdown",
   "metadata": {
    "colab_type": "text",
    "id": "2WNVLbDZO0bI"
   },
   "source": [
    "## Practice section 2: Filtering and Sorting"
   ]
  },
  {
   "cell_type": "markdown",
   "metadata": {
    "colab_type": "text",
    "id": "afHeQgv23fX8"
   },
   "source": [
    "#### Loading the nations dataset"
   ]
  },
  {
   "cell_type": "code",
   "execution_count": 52,
   "metadata": {
    "colab": {
     "base_uri": "https://localhost:8080/",
     "height": 289
    },
    "colab_type": "code",
    "executionInfo": {
     "elapsed": 866,
     "status": "ok",
     "timestamp": 1582726968313,
     "user": {
      "displayName": "vamsi krishna varma Gunturi",
      "photoUrl": "https://lh3.googleusercontent.com/a-/AAuE7mDVkOmeh-heN1CRRvocTxwJHmqAgsnqRMpzM2K4=s64",
      "userId": "07556360944980168619"
     },
     "user_tz": -60
    },
    "id": "OZNhCHDM3f86",
    "outputId": "a6e70c5a-bae0-413b-a939-fdfd123bfe63"
   },
   "outputs": [
    {
     "name": "stdout",
     "output_type": "stream",
     "text": [
      "<class 'pandas.core.frame.DataFrame'>\n",
      "RangeIndex: 5275 entries, 0 to 5274\n",
      "Data columns (total 11 columns):\n",
      "iso2c                 5250 non-null object\n",
      "iso3c                 5275 non-null object\n",
      "country               5275 non-null object\n",
      "year                  5275 non-null int64\n",
      "gdp_percap            4509 non-null float64\n",
      "life_expect           4882 non-null float64\n",
      "population            5261 non-null float64\n",
      "birth_rate            4980 non-null float64\n",
      "neonat_mortal_rate    4750 non-null float64\n",
      "region                5275 non-null object\n",
      "income                5275 non-null object\n",
      "dtypes: float64(5), int64(1), object(5)\n",
      "memory usage: 453.4+ KB\n"
     ]
    }
   ],
   "source": [
    "# Loading the titanic dataset from internet\n",
    "df = pd.read_csv(\"https://raw.githubusercontent.com/vamsivarma/datasets/master/data_science/pandas/nations.csv\") \n",
    "\n",
    "#print(df)\n",
    "\n",
    "df.info()"
   ]
  },
  {
   "cell_type": "markdown",
   "metadata": {
    "colab_type": "text",
    "id": "2V432xxk32qa"
   },
   "source": [
    "#### Exercise 1: Sort the dataset by country name"
   ]
  },
  {
   "cell_type": "code",
   "execution_count": 53,
   "metadata": {
    "colab": {
     "base_uri": "https://localhost:8080/",
     "height": 419
    },
    "colab_type": "code",
    "executionInfo": {
     "elapsed": 803,
     "status": "ok",
     "timestamp": 1582727033547,
     "user": {
      "displayName": "vamsi krishna varma Gunturi",
      "photoUrl": "https://lh3.googleusercontent.com/a-/AAuE7mDVkOmeh-heN1CRRvocTxwJHmqAgsnqRMpzM2K4=s64",
      "userId": "07556360944980168619"
     },
     "user_tz": -60
    },
    "id": "zrRyRFbX328b",
    "outputId": "1362e151-c1f5-4c2a-9801-f2efcdf79eb6"
   },
   "outputs": [
    {
     "data": {
      "text/html": [
       "<div>\n",
       "<style scoped>\n",
       "    .dataframe tbody tr th:only-of-type {\n",
       "        vertical-align: middle;\n",
       "    }\n",
       "\n",
       "    .dataframe tbody tr th {\n",
       "        vertical-align: top;\n",
       "    }\n",
       "\n",
       "    .dataframe thead th {\n",
       "        text-align: right;\n",
       "    }\n",
       "</style>\n",
       "<table border=\"1\" class=\"dataframe\">\n",
       "  <thead>\n",
       "    <tr style=\"text-align: right;\">\n",
       "      <th></th>\n",
       "      <th>iso2c</th>\n",
       "      <th>iso3c</th>\n",
       "      <th>country</th>\n",
       "      <th>year</th>\n",
       "      <th>gdp_percap</th>\n",
       "      <th>life_expect</th>\n",
       "      <th>population</th>\n",
       "      <th>birth_rate</th>\n",
       "      <th>neonat_mortal_rate</th>\n",
       "      <th>region</th>\n",
       "      <th>income</th>\n",
       "    </tr>\n",
       "  </thead>\n",
       "  <tbody>\n",
       "    <tr>\n",
       "      <th>74</th>\n",
       "      <td>AF</td>\n",
       "      <td>AFG</td>\n",
       "      <td>Afghanistan</td>\n",
       "      <td>1998</td>\n",
       "      <td>NaN</td>\n",
       "      <td>54.402732</td>\n",
       "      <td>18511480.0</td>\n",
       "      <td>48.930</td>\n",
       "      <td>46.1</td>\n",
       "      <td>South Asia</td>\n",
       "      <td>Low income</td>\n",
       "    </tr>\n",
       "    <tr>\n",
       "      <th>72</th>\n",
       "      <td>AF</td>\n",
       "      <td>AFG</td>\n",
       "      <td>Afghanistan</td>\n",
       "      <td>1999</td>\n",
       "      <td>NaN</td>\n",
       "      <td>54.767268</td>\n",
       "      <td>19038420.0</td>\n",
       "      <td>48.699</td>\n",
       "      <td>45.6</td>\n",
       "      <td>South Asia</td>\n",
       "      <td>Low income</td>\n",
       "    </tr>\n",
       "    <tr>\n",
       "      <th>71</th>\n",
       "      <td>AF</td>\n",
       "      <td>AFG</td>\n",
       "      <td>Afghanistan</td>\n",
       "      <td>2008</td>\n",
       "      <td>1283.040986</td>\n",
       "      <td>58.225024</td>\n",
       "      <td>26528741.0</td>\n",
       "      <td>41.560</td>\n",
       "      <td>39.8</td>\n",
       "      <td>South Asia</td>\n",
       "      <td>Low income</td>\n",
       "    </tr>\n",
       "    <tr>\n",
       "      <th>70</th>\n",
       "      <td>AF</td>\n",
       "      <td>AFG</td>\n",
       "      <td>Afghanistan</td>\n",
       "      <td>2007</td>\n",
       "      <td>1245.059223</td>\n",
       "      <td>57.833829</td>\n",
       "      <td>25877544.0</td>\n",
       "      <td>42.779</td>\n",
       "      <td>40.4</td>\n",
       "      <td>South Asia</td>\n",
       "      <td>Low income</td>\n",
       "    </tr>\n",
       "    <tr>\n",
       "      <th>69</th>\n",
       "      <td>AF</td>\n",
       "      <td>AFG</td>\n",
       "      <td>Afghanistan</td>\n",
       "      <td>1990</td>\n",
       "      <td>NaN</td>\n",
       "      <td>49.861049</td>\n",
       "      <td>12067570.0</td>\n",
       "      <td>49.029</td>\n",
       "      <td>52.8</td>\n",
       "      <td>South Asia</td>\n",
       "      <td>Low income</td>\n",
       "    </tr>\n",
       "    <tr>\n",
       "      <th>...</th>\n",
       "      <td>...</td>\n",
       "      <td>...</td>\n",
       "      <td>...</td>\n",
       "      <td>...</td>\n",
       "      <td>...</td>\n",
       "      <td>...</td>\n",
       "      <td>...</td>\n",
       "      <td>...</td>\n",
       "      <td>...</td>\n",
       "      <td>...</td>\n",
       "      <td>...</td>\n",
       "    </tr>\n",
       "    <tr>\n",
       "      <th>5251</th>\n",
       "      <td>ZW</td>\n",
       "      <td>ZWE</td>\n",
       "      <td>Zimbabwe</td>\n",
       "      <td>1991</td>\n",
       "      <td>1734.321973</td>\n",
       "      <td>58.197171</td>\n",
       "      <td>10763036.0</td>\n",
       "      <td>36.439</td>\n",
       "      <td>21.3</td>\n",
       "      <td>Sub-Saharan Africa</td>\n",
       "      <td>Low income</td>\n",
       "    </tr>\n",
       "    <tr>\n",
       "      <th>5250</th>\n",
       "      <td>ZW</td>\n",
       "      <td>ZWE</td>\n",
       "      <td>Zimbabwe</td>\n",
       "      <td>1990</td>\n",
       "      <td>1632.683930</td>\n",
       "      <td>59.583073</td>\n",
       "      <td>10484771.0</td>\n",
       "      <td>37.249</td>\n",
       "      <td>22.0</td>\n",
       "      <td>Sub-Saharan Africa</td>\n",
       "      <td>Low income</td>\n",
       "    </tr>\n",
       "    <tr>\n",
       "      <th>5273</th>\n",
       "      <td>ZW</td>\n",
       "      <td>ZWE</td>\n",
       "      <td>Zimbabwe</td>\n",
       "      <td>2013</td>\n",
       "      <td>1743.210783</td>\n",
       "      <td>55.633000</td>\n",
       "      <td>14898092.0</td>\n",
       "      <td>35.715</td>\n",
       "      <td>24.4</td>\n",
       "      <td>Sub-Saharan Africa</td>\n",
       "      <td>Low income</td>\n",
       "    </tr>\n",
       "    <tr>\n",
       "      <th>5261</th>\n",
       "      <td>ZW</td>\n",
       "      <td>ZWE</td>\n",
       "      <td>Zimbabwe</td>\n",
       "      <td>2001</td>\n",
       "      <td>2056.351718</td>\n",
       "      <td>40.996805</td>\n",
       "      <td>12603988.0</td>\n",
       "      <td>33.086</td>\n",
       "      <td>21.4</td>\n",
       "      <td>Sub-Saharan Africa</td>\n",
       "      <td>Low income</td>\n",
       "    </tr>\n",
       "    <tr>\n",
       "      <th>5274</th>\n",
       "      <td>ZW</td>\n",
       "      <td>ZWE</td>\n",
       "      <td>Zimbabwe</td>\n",
       "      <td>2014</td>\n",
       "      <td>1798.059812</td>\n",
       "      <td>57.498317</td>\n",
       "      <td>15245855.0</td>\n",
       "      <td>35.189</td>\n",
       "      <td>23.9</td>\n",
       "      <td>Sub-Saharan Africa</td>\n",
       "      <td>Low income</td>\n",
       "    </tr>\n",
       "  </tbody>\n",
       "</table>\n",
       "<p>5275 rows × 11 columns</p>\n",
       "</div>"
      ],
      "text/plain": [
       "     iso2c iso3c  ...              region      income\n",
       "74      AF   AFG  ...          South Asia  Low income\n",
       "72      AF   AFG  ...          South Asia  Low income\n",
       "71      AF   AFG  ...          South Asia  Low income\n",
       "70      AF   AFG  ...          South Asia  Low income\n",
       "69      AF   AFG  ...          South Asia  Low income\n",
       "...    ...   ...  ...                 ...         ...\n",
       "5251    ZW   ZWE  ...  Sub-Saharan Africa  Low income\n",
       "5250    ZW   ZWE  ...  Sub-Saharan Africa  Low income\n",
       "5273    ZW   ZWE  ...  Sub-Saharan Africa  Low income\n",
       "5261    ZW   ZWE  ...  Sub-Saharan Africa  Low income\n",
       "5274    ZW   ZWE  ...  Sub-Saharan Africa  Low income\n",
       "\n",
       "[5275 rows x 11 columns]"
      ]
     },
     "execution_count": 53,
     "metadata": {
      "tags": []
     },
     "output_type": "execute_result"
    }
   ],
   "source": [
    "# Exercise 1 solution\n",
    "df.country.sort_values()\n",
    "\n",
    "# OR\n",
    "\n",
    "df.sort_values(by = \"country\")"
   ]
  },
  {
   "cell_type": "markdown",
   "metadata": {
    "colab_type": "text",
    "id": "fmQIlArn33Uh"
   },
   "source": [
    "#### Exercise 2: Country with highest population"
   ]
  },
  {
   "cell_type": "code",
   "execution_count": 57,
   "metadata": {
    "colab": {
     "base_uri": "https://localhost:8080/",
     "height": 51
    },
    "colab_type": "code",
    "executionInfo": {
     "elapsed": 987,
     "status": "ok",
     "timestamp": 1582727272754,
     "user": {
      "displayName": "vamsi krishna varma Gunturi",
      "photoUrl": "https://lh3.googleusercontent.com/a-/AAuE7mDVkOmeh-heN1CRRvocTxwJHmqAgsnqRMpzM2K4=s64",
      "userId": "07556360944980168619"
     },
     "user_tz": -60
    },
    "id": "qR31KLSi33nH",
    "outputId": "2349a8e0-504d-45aa-c730-bdc634d3ad9d"
   },
   "outputs": [
    {
     "data": {
      "text/plain": [
       "array(['China', 'India', 'United States', 'Indonesia', 'Brazil'],\n",
       "      dtype=object)"
      ]
     },
     "execution_count": 57,
     "metadata": {
      "tags": []
     },
     "output_type": "execute_result"
    }
   ],
   "source": [
    "# Exercise 2 solution\n",
    "\n",
    "# Country name with highest population\n",
    "df.sort_values(by = \"population\", ascending = False).head(1)\n",
    "\n",
    "# Top 5 country names by population\n",
    "df.sort_values(by = \"population\", ascending = False).head(100)['country'].unique()"
   ]
  },
  {
   "cell_type": "markdown",
   "metadata": {
    "colab_type": "text",
    "id": "o5Dhxx3F333L"
   },
   "source": [
    "#### Exercise 3: Find the number of times China is there in the country coulumn in the dataset"
   ]
  },
  {
   "cell_type": "code",
   "execution_count": 58,
   "metadata": {
    "colab": {
     "base_uri": "https://localhost:8080/",
     "height": 34
    },
    "colab_type": "code",
    "executionInfo": {
     "elapsed": 780,
     "status": "ok",
     "timestamp": 1582727466082,
     "user": {
      "displayName": "vamsi krishna varma Gunturi",
      "photoUrl": "https://lh3.googleusercontent.com/a-/AAuE7mDVkOmeh-heN1CRRvocTxwJHmqAgsnqRMpzM2K4=s64",
      "userId": "07556360944980168619"
     },
     "user_tz": -60
    },
    "id": "inkJsVDw34JS",
    "outputId": "ad8dba7f-2323-46ba-f2c7-2394156f406f"
   },
   "outputs": [
    {
     "data": {
      "text/plain": [
       "25"
      ]
     },
     "execution_count": 58,
     "metadata": {
      "tags": []
     },
     "output_type": "execute_result"
    }
   ],
   "source": [
    "china_records = df[df.country == \"China\"]\n",
    "\n",
    "len(china_records)"
   ]
  },
  {
   "cell_type": "markdown",
   "metadata": {
    "colab_type": "text",
    "id": "XJEu6rLv34YJ"
   },
   "source": [
    "#### Exercise 4: View only the columns country, year, life_expect, birth_rate and assign them to a dataframe called filtered_df"
   ]
  },
  {
   "cell_type": "code",
   "execution_count": 59,
   "metadata": {
    "colab": {
     "base_uri": "https://localhost:8080/",
     "height": 419
    },
    "colab_type": "code",
    "executionInfo": {
     "elapsed": 819,
     "status": "ok",
     "timestamp": 1582727856449,
     "user": {
      "displayName": "vamsi krishna varma Gunturi",
      "photoUrl": "https://lh3.googleusercontent.com/a-/AAuE7mDVkOmeh-heN1CRRvocTxwJHmqAgsnqRMpzM2K4=s64",
      "userId": "07556360944980168619"
     },
     "user_tz": -60
    },
    "id": "Xs7M1zQV34pz",
    "outputId": "7649f5c3-90ca-44df-db97-4c5fe3f985f8"
   },
   "outputs": [
    {
     "data": {
      "text/html": [
       "<div>\n",
       "<style scoped>\n",
       "    .dataframe tbody tr th:only-of-type {\n",
       "        vertical-align: middle;\n",
       "    }\n",
       "\n",
       "    .dataframe tbody tr th {\n",
       "        vertical-align: top;\n",
       "    }\n",
       "\n",
       "    .dataframe thead th {\n",
       "        text-align: right;\n",
       "    }\n",
       "</style>\n",
       "<table border=\"1\" class=\"dataframe\">\n",
       "  <thead>\n",
       "    <tr style=\"text-align: right;\">\n",
       "      <th></th>\n",
       "      <th>country</th>\n",
       "      <th>year</th>\n",
       "      <th>life_expect</th>\n",
       "      <th>birth_rate</th>\n",
       "    </tr>\n",
       "  </thead>\n",
       "  <tbody>\n",
       "    <tr>\n",
       "      <th>0</th>\n",
       "      <td>Andorra</td>\n",
       "      <td>1996</td>\n",
       "      <td>NaN</td>\n",
       "      <td>10.900</td>\n",
       "    </tr>\n",
       "    <tr>\n",
       "      <th>1</th>\n",
       "      <td>Andorra</td>\n",
       "      <td>1994</td>\n",
       "      <td>NaN</td>\n",
       "      <td>10.900</td>\n",
       "    </tr>\n",
       "    <tr>\n",
       "      <th>2</th>\n",
       "      <td>Andorra</td>\n",
       "      <td>2003</td>\n",
       "      <td>NaN</td>\n",
       "      <td>10.300</td>\n",
       "    </tr>\n",
       "    <tr>\n",
       "      <th>3</th>\n",
       "      <td>Andorra</td>\n",
       "      <td>1990</td>\n",
       "      <td>NaN</td>\n",
       "      <td>11.900</td>\n",
       "    </tr>\n",
       "    <tr>\n",
       "      <th>4</th>\n",
       "      <td>Andorra</td>\n",
       "      <td>2009</td>\n",
       "      <td>NaN</td>\n",
       "      <td>9.900</td>\n",
       "    </tr>\n",
       "    <tr>\n",
       "      <th>...</th>\n",
       "      <td>...</td>\n",
       "      <td>...</td>\n",
       "      <td>...</td>\n",
       "      <td>...</td>\n",
       "    </tr>\n",
       "    <tr>\n",
       "      <th>5270</th>\n",
       "      <td>Zimbabwe</td>\n",
       "      <td>2010</td>\n",
       "      <td>49.574659</td>\n",
       "      <td>36.267</td>\n",
       "    </tr>\n",
       "    <tr>\n",
       "      <th>5271</th>\n",
       "      <td>Zimbabwe</td>\n",
       "      <td>2011</td>\n",
       "      <td>51.600366</td>\n",
       "      <td>36.264</td>\n",
       "    </tr>\n",
       "    <tr>\n",
       "      <th>5272</th>\n",
       "      <td>Zimbabwe</td>\n",
       "      <td>2012</td>\n",
       "      <td>53.643073</td>\n",
       "      <td>36.077</td>\n",
       "    </tr>\n",
       "    <tr>\n",
       "      <th>5273</th>\n",
       "      <td>Zimbabwe</td>\n",
       "      <td>2013</td>\n",
       "      <td>55.633000</td>\n",
       "      <td>35.715</td>\n",
       "    </tr>\n",
       "    <tr>\n",
       "      <th>5274</th>\n",
       "      <td>Zimbabwe</td>\n",
       "      <td>2014</td>\n",
       "      <td>57.498317</td>\n",
       "      <td>35.189</td>\n",
       "    </tr>\n",
       "  </tbody>\n",
       "</table>\n",
       "<p>5275 rows × 4 columns</p>\n",
       "</div>"
      ],
      "text/plain": [
       "       country  year  life_expect  birth_rate\n",
       "0      Andorra  1996          NaN      10.900\n",
       "1      Andorra  1994          NaN      10.900\n",
       "2      Andorra  2003          NaN      10.300\n",
       "3      Andorra  1990          NaN      11.900\n",
       "4      Andorra  2009          NaN       9.900\n",
       "...        ...   ...          ...         ...\n",
       "5270  Zimbabwe  2010    49.574659      36.267\n",
       "5271  Zimbabwe  2011    51.600366      36.264\n",
       "5272  Zimbabwe  2012    53.643073      36.077\n",
       "5273  Zimbabwe  2013    55.633000      35.715\n",
       "5274  Zimbabwe  2014    57.498317      35.189\n",
       "\n",
       "[5275 rows x 4 columns]"
      ]
     },
     "execution_count": 59,
     "metadata": {
      "tags": []
     },
     "output_type": "execute_result"
    }
   ],
   "source": [
    "# Exercise 4 solution\n",
    "# Filter only giving the column names\n",
    "filtered_df = df[['country', 'year', 'life_expect', 'birth_rate']]\n",
    "filtered_df"
   ]
  },
  {
   "cell_type": "markdown",
   "metadata": {
    "colab_type": "text",
    "id": "icjgJdA-34_7"
   },
   "source": [
    "#### Exercise 5: Sort the dataset by life_expect and then by birth_rate"
   ]
  },
  {
   "cell_type": "code",
   "execution_count": 60,
   "metadata": {
    "colab": {
     "base_uri": "https://localhost:8080/",
     "height": 419
    },
    "colab_type": "code",
    "executionInfo": {
     "elapsed": 701,
     "status": "ok",
     "timestamp": 1582727990733,
     "user": {
      "displayName": "vamsi krishna varma Gunturi",
      "photoUrl": "https://lh3.googleusercontent.com/a-/AAuE7mDVkOmeh-heN1CRRvocTxwJHmqAgsnqRMpzM2K4=s64",
      "userId": "07556360944980168619"
     },
     "user_tz": -60
    },
    "id": "RhQ4dF_B35ZN",
    "outputId": "bd08bf64-5def-4a6e-ba4c-25c3a00b1a55"
   },
   "outputs": [
    {
     "data": {
      "text/html": [
       "<div>\n",
       "<style scoped>\n",
       "    .dataframe tbody tr th:only-of-type {\n",
       "        vertical-align: middle;\n",
       "    }\n",
       "\n",
       "    .dataframe tbody tr th {\n",
       "        vertical-align: top;\n",
       "    }\n",
       "\n",
       "    .dataframe thead th {\n",
       "        text-align: right;\n",
       "    }\n",
       "</style>\n",
       "<table border=\"1\" class=\"dataframe\">\n",
       "  <thead>\n",
       "    <tr style=\"text-align: right;\">\n",
       "      <th></th>\n",
       "      <th>country</th>\n",
       "      <th>year</th>\n",
       "      <th>life_expect</th>\n",
       "      <th>birth_rate</th>\n",
       "    </tr>\n",
       "  </thead>\n",
       "  <tbody>\n",
       "    <tr>\n",
       "      <th>1937</th>\n",
       "      <td>Hong Kong SAR, China</td>\n",
       "      <td>2014</td>\n",
       "      <td>83.980488</td>\n",
       "      <td>8.6</td>\n",
       "    </tr>\n",
       "    <tr>\n",
       "      <th>1947</th>\n",
       "      <td>Hong Kong SAR, China</td>\n",
       "      <td>2013</td>\n",
       "      <td>83.831707</td>\n",
       "      <td>7.9</td>\n",
       "    </tr>\n",
       "    <tr>\n",
       "      <th>2360</th>\n",
       "      <td>Japan</td>\n",
       "      <td>2014</td>\n",
       "      <td>83.587805</td>\n",
       "      <td>8.0</td>\n",
       "    </tr>\n",
       "    <tr>\n",
       "      <th>1933</th>\n",
       "      <td>Hong Kong SAR, China</td>\n",
       "      <td>2012</td>\n",
       "      <td>83.480488</td>\n",
       "      <td>12.8</td>\n",
       "    </tr>\n",
       "    <tr>\n",
       "      <th>1942</th>\n",
       "      <td>Hong Kong SAR, China</td>\n",
       "      <td>2011</td>\n",
       "      <td>83.421951</td>\n",
       "      <td>13.5</td>\n",
       "    </tr>\n",
       "    <tr>\n",
       "      <th>...</th>\n",
       "      <td>...</td>\n",
       "      <td>...</td>\n",
       "      <td>...</td>\n",
       "      <td>...</td>\n",
       "    </tr>\n",
       "    <tr>\n",
       "      <th>4870</th>\n",
       "      <td>Tuvalu</td>\n",
       "      <td>1998</td>\n",
       "      <td>NaN</td>\n",
       "      <td>NaN</td>\n",
       "    </tr>\n",
       "    <tr>\n",
       "      <th>4871</th>\n",
       "      <td>Tuvalu</td>\n",
       "      <td>1999</td>\n",
       "      <td>NaN</td>\n",
       "      <td>NaN</td>\n",
       "    </tr>\n",
       "    <tr>\n",
       "      <th>4872</th>\n",
       "      <td>Tuvalu</td>\n",
       "      <td>2006</td>\n",
       "      <td>NaN</td>\n",
       "      <td>NaN</td>\n",
       "    </tr>\n",
       "    <tr>\n",
       "      <th>4873</th>\n",
       "      <td>Tuvalu</td>\n",
       "      <td>2005</td>\n",
       "      <td>NaN</td>\n",
       "      <td>NaN</td>\n",
       "    </tr>\n",
       "    <tr>\n",
       "      <th>4874</th>\n",
       "      <td>Tuvalu</td>\n",
       "      <td>2004</td>\n",
       "      <td>NaN</td>\n",
       "      <td>NaN</td>\n",
       "    </tr>\n",
       "  </tbody>\n",
       "</table>\n",
       "<p>5275 rows × 4 columns</p>\n",
       "</div>"
      ],
      "text/plain": [
       "                   country  year  life_expect  birth_rate\n",
       "1937  Hong Kong SAR, China  2014    83.980488         8.6\n",
       "1947  Hong Kong SAR, China  2013    83.831707         7.9\n",
       "2360                 Japan  2014    83.587805         8.0\n",
       "1933  Hong Kong SAR, China  2012    83.480488        12.8\n",
       "1942  Hong Kong SAR, China  2011    83.421951        13.5\n",
       "...                    ...   ...          ...         ...\n",
       "4870                Tuvalu  1998          NaN         NaN\n",
       "4871                Tuvalu  1999          NaN         NaN\n",
       "4872                Tuvalu  2006          NaN         NaN\n",
       "4873                Tuvalu  2005          NaN         NaN\n",
       "4874                Tuvalu  2004          NaN         NaN\n",
       "\n",
       "[5275 rows x 4 columns]"
      ]
     },
     "execution_count": 60,
     "metadata": {
      "tags": []
     },
     "output_type": "execute_result"
    }
   ],
   "source": [
    "filtered_df.sort_values(['life_expect', 'birth_rate'], ascending = False)"
   ]
  },
  {
   "cell_type": "markdown",
   "metadata": {
    "colab_type": "text",
    "id": "fjcANDkP9AvL"
   },
   "source": [
    "#### Exercise 6: Filter the top 5 countries which have life expectancy more than 75"
   ]
  },
  {
   "cell_type": "code",
   "execution_count": 64,
   "metadata": {
    "colab": {
     "base_uri": "https://localhost:8080/",
     "height": 51
    },
    "colab_type": "code",
    "executionInfo": {
     "elapsed": 808,
     "status": "ok",
     "timestamp": 1582728461826,
     "user": {
      "displayName": "vamsi krishna varma Gunturi",
      "photoUrl": "https://lh3.googleusercontent.com/a-/AAuE7mDVkOmeh-heN1CRRvocTxwJHmqAgsnqRMpzM2K4=s64",
      "userId": "07556360944980168619"
     },
     "user_tz": -60
    },
    "id": "k_9VSghD9BBX",
    "outputId": "601d5dfb-d116-445a-e8eb-79f4434cf948"
   },
   "outputs": [
    {
     "data": {
      "text/plain": [
       "array(['United Arab Emirates', 'Antigua and Barbuda', 'Albania',\n",
       "       'Argentina', 'Austria'], dtype=object)"
      ]
     },
     "execution_count": 64,
     "metadata": {
      "tags": []
     },
     "output_type": "execute_result"
    }
   ],
   "source": [
    "filtered_df = df[df.life_expect > 75]\n",
    "\n",
    "# Get the top 5 country names\n",
    "filtered_df['country'].unique()[:5]"
   ]
  },
  {
   "cell_type": "markdown",
   "metadata": {
    "colab_type": "text",
    "id": "x4Sy0OE99BSH"
   },
   "source": [
    "#### Exercise 7: Find the country names which start with G"
   ]
  },
  {
   "cell_type": "code",
   "execution_count": 66,
   "metadata": {
    "colab": {
     "base_uri": "https://localhost:8080/",
     "height": 68
    },
    "colab_type": "code",
    "executionInfo": {
     "elapsed": 734,
     "status": "ok",
     "timestamp": 1582728632936,
     "user": {
      "displayName": "vamsi krishna varma Gunturi",
      "photoUrl": "https://lh3.googleusercontent.com/a-/AAuE7mDVkOmeh-heN1CRRvocTxwJHmqAgsnqRMpzM2K4=s64",
      "userId": "07556360944980168619"
     },
     "user_tz": -60
    },
    "id": "4zD3R8_L9Bjp",
    "outputId": "f84150c6-01d5-4ff9-e916-7985d545c0bc"
   },
   "outputs": [
    {
     "data": {
      "text/plain": [
       "array(['Germany', 'Gabon', 'Grenada', 'Georgia', 'Ghana', 'Gibraltar',\n",
       "       'Greenland', 'Gambia, The', 'Guinea', 'Greece', 'Guatemala',\n",
       "       'Guam', 'Guinea-Bissau', 'Guyana'], dtype=object)"
      ]
     },
     "execution_count": 66,
     "metadata": {
      "tags": []
     },
     "output_type": "execute_result"
    }
   ],
   "source": [
    "filtered_df = df[df.country.str.startswith('G')]\n",
    "\n",
    "# Get the country names\n",
    "filtered_df['country'].unique()"
   ]
  },
  {
   "cell_type": "markdown",
   "metadata": {
    "colab_type": "text",
    "id": "X1t0xGsh9ByQ"
   },
   "source": [
    "#### Exercise 8: Select the first 7 columns"
   ]
  },
  {
   "cell_type": "code",
   "execution_count": 67,
   "metadata": {
    "colab": {
     "base_uri": "https://localhost:8080/",
     "height": 419
    },
    "colab_type": "code",
    "executionInfo": {
     "elapsed": 1340,
     "status": "ok",
     "timestamp": 1582728720078,
     "user": {
      "displayName": "vamsi krishna varma Gunturi",
      "photoUrl": "https://lh3.googleusercontent.com/a-/AAuE7mDVkOmeh-heN1CRRvocTxwJHmqAgsnqRMpzM2K4=s64",
      "userId": "07556360944980168619"
     },
     "user_tz": -60
    },
    "id": "7xG3idXL9CBb",
    "outputId": "fe3194b7-598c-452f-c4b5-8dde9041bcb1"
   },
   "outputs": [
    {
     "data": {
      "text/html": [
       "<div>\n",
       "<style scoped>\n",
       "    .dataframe tbody tr th:only-of-type {\n",
       "        vertical-align: middle;\n",
       "    }\n",
       "\n",
       "    .dataframe tbody tr th {\n",
       "        vertical-align: top;\n",
       "    }\n",
       "\n",
       "    .dataframe thead th {\n",
       "        text-align: right;\n",
       "    }\n",
       "</style>\n",
       "<table border=\"1\" class=\"dataframe\">\n",
       "  <thead>\n",
       "    <tr style=\"text-align: right;\">\n",
       "      <th></th>\n",
       "      <th>iso2c</th>\n",
       "      <th>iso3c</th>\n",
       "      <th>country</th>\n",
       "      <th>year</th>\n",
       "      <th>gdp_percap</th>\n",
       "      <th>life_expect</th>\n",
       "      <th>population</th>\n",
       "    </tr>\n",
       "  </thead>\n",
       "  <tbody>\n",
       "    <tr>\n",
       "      <th>0</th>\n",
       "      <td>AD</td>\n",
       "      <td>AND</td>\n",
       "      <td>Andorra</td>\n",
       "      <td>1996</td>\n",
       "      <td>NaN</td>\n",
       "      <td>NaN</td>\n",
       "      <td>64291.0</td>\n",
       "    </tr>\n",
       "    <tr>\n",
       "      <th>1</th>\n",
       "      <td>AD</td>\n",
       "      <td>AND</td>\n",
       "      <td>Andorra</td>\n",
       "      <td>1994</td>\n",
       "      <td>NaN</td>\n",
       "      <td>NaN</td>\n",
       "      <td>62707.0</td>\n",
       "    </tr>\n",
       "    <tr>\n",
       "      <th>2</th>\n",
       "      <td>AD</td>\n",
       "      <td>AND</td>\n",
       "      <td>Andorra</td>\n",
       "      <td>2003</td>\n",
       "      <td>NaN</td>\n",
       "      <td>NaN</td>\n",
       "      <td>74783.0</td>\n",
       "    </tr>\n",
       "    <tr>\n",
       "      <th>3</th>\n",
       "      <td>AD</td>\n",
       "      <td>AND</td>\n",
       "      <td>Andorra</td>\n",
       "      <td>1990</td>\n",
       "      <td>NaN</td>\n",
       "      <td>NaN</td>\n",
       "      <td>54511.0</td>\n",
       "    </tr>\n",
       "    <tr>\n",
       "      <th>4</th>\n",
       "      <td>AD</td>\n",
       "      <td>AND</td>\n",
       "      <td>Andorra</td>\n",
       "      <td>2009</td>\n",
       "      <td>NaN</td>\n",
       "      <td>NaN</td>\n",
       "      <td>85474.0</td>\n",
       "    </tr>\n",
       "    <tr>\n",
       "      <th>...</th>\n",
       "      <td>...</td>\n",
       "      <td>...</td>\n",
       "      <td>...</td>\n",
       "      <td>...</td>\n",
       "      <td>...</td>\n",
       "      <td>...</td>\n",
       "      <td>...</td>\n",
       "    </tr>\n",
       "    <tr>\n",
       "      <th>5270</th>\n",
       "      <td>ZW</td>\n",
       "      <td>ZWE</td>\n",
       "      <td>Zimbabwe</td>\n",
       "      <td>2010</td>\n",
       "      <td>1360.876026</td>\n",
       "      <td>49.574659</td>\n",
       "      <td>13973897.0</td>\n",
       "    </tr>\n",
       "    <tr>\n",
       "      <th>5271</th>\n",
       "      <td>ZW</td>\n",
       "      <td>ZWE</td>\n",
       "      <td>Zimbabwe</td>\n",
       "      <td>2011</td>\n",
       "      <td>1523.621784</td>\n",
       "      <td>51.600366</td>\n",
       "      <td>14255592.0</td>\n",
       "    </tr>\n",
       "    <tr>\n",
       "      <th>5272</th>\n",
       "      <td>ZW</td>\n",
       "      <td>ZWE</td>\n",
       "      <td>Zimbabwe</td>\n",
       "      <td>2012</td>\n",
       "      <td>1679.125594</td>\n",
       "      <td>53.643073</td>\n",
       "      <td>14565482.0</td>\n",
       "    </tr>\n",
       "    <tr>\n",
       "      <th>5273</th>\n",
       "      <td>ZW</td>\n",
       "      <td>ZWE</td>\n",
       "      <td>Zimbabwe</td>\n",
       "      <td>2013</td>\n",
       "      <td>1743.210783</td>\n",
       "      <td>55.633000</td>\n",
       "      <td>14898092.0</td>\n",
       "    </tr>\n",
       "    <tr>\n",
       "      <th>5274</th>\n",
       "      <td>ZW</td>\n",
       "      <td>ZWE</td>\n",
       "      <td>Zimbabwe</td>\n",
       "      <td>2014</td>\n",
       "      <td>1798.059812</td>\n",
       "      <td>57.498317</td>\n",
       "      <td>15245855.0</td>\n",
       "    </tr>\n",
       "  </tbody>\n",
       "</table>\n",
       "<p>5275 rows × 7 columns</p>\n",
       "</div>"
      ],
      "text/plain": [
       "     iso2c iso3c   country  year   gdp_percap  life_expect  population\n",
       "0       AD   AND   Andorra  1996          NaN          NaN     64291.0\n",
       "1       AD   AND   Andorra  1994          NaN          NaN     62707.0\n",
       "2       AD   AND   Andorra  2003          NaN          NaN     74783.0\n",
       "3       AD   AND   Andorra  1990          NaN          NaN     54511.0\n",
       "4       AD   AND   Andorra  2009          NaN          NaN     85474.0\n",
       "...    ...   ...       ...   ...          ...          ...         ...\n",
       "5270    ZW   ZWE  Zimbabwe  2010  1360.876026    49.574659  13973897.0\n",
       "5271    ZW   ZWE  Zimbabwe  2011  1523.621784    51.600366  14255592.0\n",
       "5272    ZW   ZWE  Zimbabwe  2012  1679.125594    53.643073  14565482.0\n",
       "5273    ZW   ZWE  Zimbabwe  2013  1743.210783    55.633000  14898092.0\n",
       "5274    ZW   ZWE  Zimbabwe  2014  1798.059812    57.498317  15245855.0\n",
       "\n",
       "[5275 rows x 7 columns]"
      ]
     },
     "execution_count": 67,
     "metadata": {
      "tags": []
     },
     "output_type": "execute_result"
    }
   ],
   "source": [
    "df.iloc[: , 0:7]"
   ]
  },
  {
   "cell_type": "markdown",
   "metadata": {
    "colab_type": "text",
    "id": "BncI4CHc8sDA"
   },
   "source": [
    "#### Exercise 9: Select all columns except the last 3."
   ]
  },
  {
   "cell_type": "code",
   "execution_count": 68,
   "metadata": {
    "colab": {
     "base_uri": "https://localhost:8080/",
     "height": 419
    },
    "colab_type": "code",
    "executionInfo": {
     "elapsed": 869,
     "status": "ok",
     "timestamp": 1582728814956,
     "user": {
      "displayName": "vamsi krishna varma Gunturi",
      "photoUrl": "https://lh3.googleusercontent.com/a-/AAuE7mDVkOmeh-heN1CRRvocTxwJHmqAgsnqRMpzM2K4=s64",
      "userId": "07556360944980168619"
     },
     "user_tz": -60
    },
    "id": "NAJrgyh18sWd",
    "outputId": "44098f0d-3eb4-4b5d-ab12-769a9600516e"
   },
   "outputs": [
    {
     "data": {
      "text/html": [
       "<div>\n",
       "<style scoped>\n",
       "    .dataframe tbody tr th:only-of-type {\n",
       "        vertical-align: middle;\n",
       "    }\n",
       "\n",
       "    .dataframe tbody tr th {\n",
       "        vertical-align: top;\n",
       "    }\n",
       "\n",
       "    .dataframe thead th {\n",
       "        text-align: right;\n",
       "    }\n",
       "</style>\n",
       "<table border=\"1\" class=\"dataframe\">\n",
       "  <thead>\n",
       "    <tr style=\"text-align: right;\">\n",
       "      <th></th>\n",
       "      <th>iso2c</th>\n",
       "      <th>iso3c</th>\n",
       "      <th>country</th>\n",
       "      <th>year</th>\n",
       "      <th>gdp_percap</th>\n",
       "      <th>life_expect</th>\n",
       "      <th>population</th>\n",
       "      <th>birth_rate</th>\n",
       "    </tr>\n",
       "  </thead>\n",
       "  <tbody>\n",
       "    <tr>\n",
       "      <th>0</th>\n",
       "      <td>AD</td>\n",
       "      <td>AND</td>\n",
       "      <td>Andorra</td>\n",
       "      <td>1996</td>\n",
       "      <td>NaN</td>\n",
       "      <td>NaN</td>\n",
       "      <td>64291.0</td>\n",
       "      <td>10.900</td>\n",
       "    </tr>\n",
       "    <tr>\n",
       "      <th>1</th>\n",
       "      <td>AD</td>\n",
       "      <td>AND</td>\n",
       "      <td>Andorra</td>\n",
       "      <td>1994</td>\n",
       "      <td>NaN</td>\n",
       "      <td>NaN</td>\n",
       "      <td>62707.0</td>\n",
       "      <td>10.900</td>\n",
       "    </tr>\n",
       "    <tr>\n",
       "      <th>2</th>\n",
       "      <td>AD</td>\n",
       "      <td>AND</td>\n",
       "      <td>Andorra</td>\n",
       "      <td>2003</td>\n",
       "      <td>NaN</td>\n",
       "      <td>NaN</td>\n",
       "      <td>74783.0</td>\n",
       "      <td>10.300</td>\n",
       "    </tr>\n",
       "    <tr>\n",
       "      <th>3</th>\n",
       "      <td>AD</td>\n",
       "      <td>AND</td>\n",
       "      <td>Andorra</td>\n",
       "      <td>1990</td>\n",
       "      <td>NaN</td>\n",
       "      <td>NaN</td>\n",
       "      <td>54511.0</td>\n",
       "      <td>11.900</td>\n",
       "    </tr>\n",
       "    <tr>\n",
       "      <th>4</th>\n",
       "      <td>AD</td>\n",
       "      <td>AND</td>\n",
       "      <td>Andorra</td>\n",
       "      <td>2009</td>\n",
       "      <td>NaN</td>\n",
       "      <td>NaN</td>\n",
       "      <td>85474.0</td>\n",
       "      <td>9.900</td>\n",
       "    </tr>\n",
       "    <tr>\n",
       "      <th>...</th>\n",
       "      <td>...</td>\n",
       "      <td>...</td>\n",
       "      <td>...</td>\n",
       "      <td>...</td>\n",
       "      <td>...</td>\n",
       "      <td>...</td>\n",
       "      <td>...</td>\n",
       "      <td>...</td>\n",
       "    </tr>\n",
       "    <tr>\n",
       "      <th>5270</th>\n",
       "      <td>ZW</td>\n",
       "      <td>ZWE</td>\n",
       "      <td>Zimbabwe</td>\n",
       "      <td>2010</td>\n",
       "      <td>1360.876026</td>\n",
       "      <td>49.574659</td>\n",
       "      <td>13973897.0</td>\n",
       "      <td>36.267</td>\n",
       "    </tr>\n",
       "    <tr>\n",
       "      <th>5271</th>\n",
       "      <td>ZW</td>\n",
       "      <td>ZWE</td>\n",
       "      <td>Zimbabwe</td>\n",
       "      <td>2011</td>\n",
       "      <td>1523.621784</td>\n",
       "      <td>51.600366</td>\n",
       "      <td>14255592.0</td>\n",
       "      <td>36.264</td>\n",
       "    </tr>\n",
       "    <tr>\n",
       "      <th>5272</th>\n",
       "      <td>ZW</td>\n",
       "      <td>ZWE</td>\n",
       "      <td>Zimbabwe</td>\n",
       "      <td>2012</td>\n",
       "      <td>1679.125594</td>\n",
       "      <td>53.643073</td>\n",
       "      <td>14565482.0</td>\n",
       "      <td>36.077</td>\n",
       "    </tr>\n",
       "    <tr>\n",
       "      <th>5273</th>\n",
       "      <td>ZW</td>\n",
       "      <td>ZWE</td>\n",
       "      <td>Zimbabwe</td>\n",
       "      <td>2013</td>\n",
       "      <td>1743.210783</td>\n",
       "      <td>55.633000</td>\n",
       "      <td>14898092.0</td>\n",
       "      <td>35.715</td>\n",
       "    </tr>\n",
       "    <tr>\n",
       "      <th>5274</th>\n",
       "      <td>ZW</td>\n",
       "      <td>ZWE</td>\n",
       "      <td>Zimbabwe</td>\n",
       "      <td>2014</td>\n",
       "      <td>1798.059812</td>\n",
       "      <td>57.498317</td>\n",
       "      <td>15245855.0</td>\n",
       "      <td>35.189</td>\n",
       "    </tr>\n",
       "  </tbody>\n",
       "</table>\n",
       "<p>5275 rows × 8 columns</p>\n",
       "</div>"
      ],
      "text/plain": [
       "     iso2c iso3c   country  ...  life_expect  population  birth_rate\n",
       "0       AD   AND   Andorra  ...          NaN     64291.0      10.900\n",
       "1       AD   AND   Andorra  ...          NaN     62707.0      10.900\n",
       "2       AD   AND   Andorra  ...          NaN     74783.0      10.300\n",
       "3       AD   AND   Andorra  ...          NaN     54511.0      11.900\n",
       "4       AD   AND   Andorra  ...          NaN     85474.0       9.900\n",
       "...    ...   ...       ...  ...          ...         ...         ...\n",
       "5270    ZW   ZWE  Zimbabwe  ...    49.574659  13973897.0      36.267\n",
       "5271    ZW   ZWE  Zimbabwe  ...    51.600366  14255592.0      36.264\n",
       "5272    ZW   ZWE  Zimbabwe  ...    53.643073  14565482.0      36.077\n",
       "5273    ZW   ZWE  Zimbabwe  ...    55.633000  14898092.0      35.715\n",
       "5274    ZW   ZWE  Zimbabwe  ...    57.498317  15245855.0      35.189\n",
       "\n",
       "[5275 rows x 8 columns]"
      ]
     },
     "execution_count": 68,
     "metadata": {
      "tags": []
     },
     "output_type": "execute_result"
    }
   ],
   "source": [
    "df.iloc[: , :-3]"
   ]
  },
  {
   "cell_type": "markdown",
   "metadata": {
    "colab_type": "text",
    "id": "clWkjHhgA4xc"
   },
   "source": [
    "#### Set the column country as the index of dataframe"
   ]
  },
  {
   "cell_type": "code",
   "execution_count": 72,
   "metadata": {
    "colab": {
     "base_uri": "https://localhost:8080/",
     "height": 450
    },
    "colab_type": "code",
    "executionInfo": {
     "elapsed": 657,
     "status": "ok",
     "timestamp": 1582729271123,
     "user": {
      "displayName": "vamsi krishna varma Gunturi",
      "photoUrl": "https://lh3.googleusercontent.com/a-/AAuE7mDVkOmeh-heN1CRRvocTxwJHmqAgsnqRMpzM2K4=s64",
      "userId": "07556360944980168619"
     },
     "user_tz": -60
    },
    "id": "GIaak8_pA5Oz",
    "outputId": "60a726c4-c3a5-41b8-8df5-8ac6608bc934"
   },
   "outputs": [
    {
     "data": {
      "text/html": [
       "<div>\n",
       "<style scoped>\n",
       "    .dataframe tbody tr th:only-of-type {\n",
       "        vertical-align: middle;\n",
       "    }\n",
       "\n",
       "    .dataframe tbody tr th {\n",
       "        vertical-align: top;\n",
       "    }\n",
       "\n",
       "    .dataframe thead th {\n",
       "        text-align: right;\n",
       "    }\n",
       "</style>\n",
       "<table border=\"1\" class=\"dataframe\">\n",
       "  <thead>\n",
       "    <tr style=\"text-align: right;\">\n",
       "      <th></th>\n",
       "      <th>iso2c</th>\n",
       "      <th>iso3c</th>\n",
       "      <th>year</th>\n",
       "      <th>gdp_percap</th>\n",
       "      <th>life_expect</th>\n",
       "      <th>population</th>\n",
       "      <th>birth_rate</th>\n",
       "      <th>neonat_mortal_rate</th>\n",
       "      <th>region</th>\n",
       "      <th>income</th>\n",
       "    </tr>\n",
       "    <tr>\n",
       "      <th>country</th>\n",
       "      <th></th>\n",
       "      <th></th>\n",
       "      <th></th>\n",
       "      <th></th>\n",
       "      <th></th>\n",
       "      <th></th>\n",
       "      <th></th>\n",
       "      <th></th>\n",
       "      <th></th>\n",
       "      <th></th>\n",
       "    </tr>\n",
       "  </thead>\n",
       "  <tbody>\n",
       "    <tr>\n",
       "      <th>Andorra</th>\n",
       "      <td>AD</td>\n",
       "      <td>AND</td>\n",
       "      <td>1996</td>\n",
       "      <td>NaN</td>\n",
       "      <td>NaN</td>\n",
       "      <td>64291.0</td>\n",
       "      <td>10.900</td>\n",
       "      <td>2.8</td>\n",
       "      <td>Europe &amp; Central Asia</td>\n",
       "      <td>High income</td>\n",
       "    </tr>\n",
       "    <tr>\n",
       "      <th>Andorra</th>\n",
       "      <td>AD</td>\n",
       "      <td>AND</td>\n",
       "      <td>1994</td>\n",
       "      <td>NaN</td>\n",
       "      <td>NaN</td>\n",
       "      <td>62707.0</td>\n",
       "      <td>10.900</td>\n",
       "      <td>3.2</td>\n",
       "      <td>Europe &amp; Central Asia</td>\n",
       "      <td>High income</td>\n",
       "    </tr>\n",
       "    <tr>\n",
       "      <th>Andorra</th>\n",
       "      <td>AD</td>\n",
       "      <td>AND</td>\n",
       "      <td>2003</td>\n",
       "      <td>NaN</td>\n",
       "      <td>NaN</td>\n",
       "      <td>74783.0</td>\n",
       "      <td>10.300</td>\n",
       "      <td>2.0</td>\n",
       "      <td>Europe &amp; Central Asia</td>\n",
       "      <td>High income</td>\n",
       "    </tr>\n",
       "    <tr>\n",
       "      <th>Andorra</th>\n",
       "      <td>AD</td>\n",
       "      <td>AND</td>\n",
       "      <td>1990</td>\n",
       "      <td>NaN</td>\n",
       "      <td>NaN</td>\n",
       "      <td>54511.0</td>\n",
       "      <td>11.900</td>\n",
       "      <td>4.3</td>\n",
       "      <td>Europe &amp; Central Asia</td>\n",
       "      <td>High income</td>\n",
       "    </tr>\n",
       "    <tr>\n",
       "      <th>Andorra</th>\n",
       "      <td>AD</td>\n",
       "      <td>AND</td>\n",
       "      <td>2009</td>\n",
       "      <td>NaN</td>\n",
       "      <td>NaN</td>\n",
       "      <td>85474.0</td>\n",
       "      <td>9.900</td>\n",
       "      <td>1.7</td>\n",
       "      <td>Europe &amp; Central Asia</td>\n",
       "      <td>High income</td>\n",
       "    </tr>\n",
       "    <tr>\n",
       "      <th>...</th>\n",
       "      <td>...</td>\n",
       "      <td>...</td>\n",
       "      <td>...</td>\n",
       "      <td>...</td>\n",
       "      <td>...</td>\n",
       "      <td>...</td>\n",
       "      <td>...</td>\n",
       "      <td>...</td>\n",
       "      <td>...</td>\n",
       "      <td>...</td>\n",
       "    </tr>\n",
       "    <tr>\n",
       "      <th>Zimbabwe</th>\n",
       "      <td>ZW</td>\n",
       "      <td>ZWE</td>\n",
       "      <td>2010</td>\n",
       "      <td>1360.876026</td>\n",
       "      <td>49.574659</td>\n",
       "      <td>13973897.0</td>\n",
       "      <td>36.267</td>\n",
       "      <td>25.3</td>\n",
       "      <td>Sub-Saharan Africa</td>\n",
       "      <td>Low income</td>\n",
       "    </tr>\n",
       "    <tr>\n",
       "      <th>Zimbabwe</th>\n",
       "      <td>ZW</td>\n",
       "      <td>ZWE</td>\n",
       "      <td>2011</td>\n",
       "      <td>1523.621784</td>\n",
       "      <td>51.600366</td>\n",
       "      <td>14255592.0</td>\n",
       "      <td>36.264</td>\n",
       "      <td>25.1</td>\n",
       "      <td>Sub-Saharan Africa</td>\n",
       "      <td>Low income</td>\n",
       "    </tr>\n",
       "    <tr>\n",
       "      <th>Zimbabwe</th>\n",
       "      <td>ZW</td>\n",
       "      <td>ZWE</td>\n",
       "      <td>2012</td>\n",
       "      <td>1679.125594</td>\n",
       "      <td>53.643073</td>\n",
       "      <td>14565482.0</td>\n",
       "      <td>36.077</td>\n",
       "      <td>24.8</td>\n",
       "      <td>Sub-Saharan Africa</td>\n",
       "      <td>Low income</td>\n",
       "    </tr>\n",
       "    <tr>\n",
       "      <th>Zimbabwe</th>\n",
       "      <td>ZW</td>\n",
       "      <td>ZWE</td>\n",
       "      <td>2013</td>\n",
       "      <td>1743.210783</td>\n",
       "      <td>55.633000</td>\n",
       "      <td>14898092.0</td>\n",
       "      <td>35.715</td>\n",
       "      <td>24.4</td>\n",
       "      <td>Sub-Saharan Africa</td>\n",
       "      <td>Low income</td>\n",
       "    </tr>\n",
       "    <tr>\n",
       "      <th>Zimbabwe</th>\n",
       "      <td>ZW</td>\n",
       "      <td>ZWE</td>\n",
       "      <td>2014</td>\n",
       "      <td>1798.059812</td>\n",
       "      <td>57.498317</td>\n",
       "      <td>15245855.0</td>\n",
       "      <td>35.189</td>\n",
       "      <td>23.9</td>\n",
       "      <td>Sub-Saharan Africa</td>\n",
       "      <td>Low income</td>\n",
       "    </tr>\n",
       "  </tbody>\n",
       "</table>\n",
       "<p>5275 rows × 10 columns</p>\n",
       "</div>"
      ],
      "text/plain": [
       "         iso2c iso3c  ...                 region       income\n",
       "country               ...                                    \n",
       "Andorra     AD   AND  ...  Europe & Central Asia  High income\n",
       "Andorra     AD   AND  ...  Europe & Central Asia  High income\n",
       "Andorra     AD   AND  ...  Europe & Central Asia  High income\n",
       "Andorra     AD   AND  ...  Europe & Central Asia  High income\n",
       "Andorra     AD   AND  ...  Europe & Central Asia  High income\n",
       "...        ...   ...  ...                    ...          ...\n",
       "Zimbabwe    ZW   ZWE  ...     Sub-Saharan Africa   Low income\n",
       "Zimbabwe    ZW   ZWE  ...     Sub-Saharan Africa   Low income\n",
       "Zimbabwe    ZW   ZWE  ...     Sub-Saharan Africa   Low income\n",
       "Zimbabwe    ZW   ZWE  ...     Sub-Saharan Africa   Low income\n",
       "Zimbabwe    ZW   ZWE  ...     Sub-Saharan Africa   Low income\n",
       "\n",
       "[5275 rows x 10 columns]"
      ]
     },
     "execution_count": 72,
     "metadata": {
      "tags": []
     },
     "output_type": "execute_result"
    }
   ],
   "source": [
    "df.set_index('country', inplace=True)"
   ]
  },
  {
   "cell_type": "markdown",
   "metadata": {
    "colab_type": "text",
    "id": "jyPMpGmkE9Q1"
   },
   "source": [
    "#### Exercise 10: Find the Life_Expect, GDP_PERCAP from India and Italy"
   ]
  },
  {
   "cell_type": "code",
   "execution_count": 73,
   "metadata": {
    "colab": {
     "base_uri": "https://localhost:8080/",
     "height": 1000
    },
    "colab_type": "code",
    "executionInfo": {
     "elapsed": 785,
     "status": "ok",
     "timestamp": 1582730479168,
     "user": {
      "displayName": "vamsi krishna varma Gunturi",
      "photoUrl": "https://lh3.googleusercontent.com/a-/AAuE7mDVkOmeh-heN1CRRvocTxwJHmqAgsnqRMpzM2K4=s64",
      "userId": "07556360944980168619"
     },
     "user_tz": -60
    },
    "id": "lARh62EZE9oZ",
    "outputId": "64645821-7168-4e68-97af-5033bf4e7fb7"
   },
   "outputs": [
    {
     "data": {
      "text/html": [
       "<div>\n",
       "<style scoped>\n",
       "    .dataframe tbody tr th:only-of-type {\n",
       "        vertical-align: middle;\n",
       "    }\n",
       "\n",
       "    .dataframe tbody tr th {\n",
       "        vertical-align: top;\n",
       "    }\n",
       "\n",
       "    .dataframe thead th {\n",
       "        text-align: right;\n",
       "    }\n",
       "</style>\n",
       "<table border=\"1\" class=\"dataframe\">\n",
       "  <thead>\n",
       "    <tr style=\"text-align: right;\">\n",
       "      <th></th>\n",
       "      <th>life_expect</th>\n",
       "      <th>gdp_percap</th>\n",
       "      <th>year</th>\n",
       "    </tr>\n",
       "    <tr>\n",
       "      <th>country</th>\n",
       "      <th></th>\n",
       "      <th></th>\n",
       "      <th></th>\n",
       "    </tr>\n",
       "  </thead>\n",
       "  <tbody>\n",
       "    <tr>\n",
       "      <th>India</th>\n",
       "      <td>58.438220</td>\n",
       "      <td>1172.563612</td>\n",
       "      <td>1991</td>\n",
       "    </tr>\n",
       "    <tr>\n",
       "      <th>India</th>\n",
       "      <td>62.227073</td>\n",
       "      <td>1915.390649</td>\n",
       "      <td>1999</td>\n",
       "    </tr>\n",
       "    <tr>\n",
       "      <th>India</th>\n",
       "      <td>63.019854</td>\n",
       "      <td>2105.841013</td>\n",
       "      <td>2001</td>\n",
       "    </tr>\n",
       "    <tr>\n",
       "      <th>India</th>\n",
       "      <td>63.399195</td>\n",
       "      <td>2182.244557</td>\n",
       "      <td>2002</td>\n",
       "    </tr>\n",
       "    <tr>\n",
       "      <th>India</th>\n",
       "      <td>58.945073</td>\n",
       "      <td>1239.995548</td>\n",
       "      <td>1992</td>\n",
       "    </tr>\n",
       "    <tr>\n",
       "      <th>India</th>\n",
       "      <td>61.807220</td>\n",
       "      <td>1764.878225</td>\n",
       "      <td>1998</td>\n",
       "    </tr>\n",
       "    <tr>\n",
       "      <th>India</th>\n",
       "      <td>65.300439</td>\n",
       "      <td>3484.756463</td>\n",
       "      <td>2007</td>\n",
       "    </tr>\n",
       "    <tr>\n",
       "      <th>India</th>\n",
       "      <td>66.904171</td>\n",
       "      <td>4634.945162</td>\n",
       "      <td>2011</td>\n",
       "    </tr>\n",
       "    <tr>\n",
       "      <th>India</th>\n",
       "      <td>62.630634</td>\n",
       "      <td>1998.488658</td>\n",
       "      <td>2000</td>\n",
       "    </tr>\n",
       "    <tr>\n",
       "      <th>India</th>\n",
       "      <td>61.369561</td>\n",
       "      <td>1674.869744</td>\n",
       "      <td>1997</td>\n",
       "    </tr>\n",
       "    <tr>\n",
       "      <th>India</th>\n",
       "      <td>68.013805</td>\n",
       "      <td>5672.189444</td>\n",
       "      <td>2014</td>\n",
       "    </tr>\n",
       "    <tr>\n",
       "      <th>India</th>\n",
       "      <td>64.523878</td>\n",
       "      <td>2860.885701</td>\n",
       "      <td>2005</td>\n",
       "    </tr>\n",
       "    <tr>\n",
       "      <th>India</th>\n",
       "      <td>57.943732</td>\n",
       "      <td>1146.027972</td>\n",
       "      <td>1990</td>\n",
       "    </tr>\n",
       "    <tr>\n",
       "      <th>India</th>\n",
       "      <td>63.774537</td>\n",
       "      <td>2361.334849</td>\n",
       "      <td>2003</td>\n",
       "    </tr>\n",
       "    <tr>\n",
       "      <th>India</th>\n",
       "      <td>64.147805</td>\n",
       "      <td>2576.537621</td>\n",
       "      <td>2004</td>\n",
       "    </tr>\n",
       "    <tr>\n",
       "      <th>India</th>\n",
       "      <td>66.506146</td>\n",
       "      <td>4315.440046</td>\n",
       "      <td>2010</td>\n",
       "    </tr>\n",
       "    <tr>\n",
       "      <th>India</th>\n",
       "      <td>64.908098</td>\n",
       "      <td>3172.707329</td>\n",
       "      <td>2006</td>\n",
       "    </tr>\n",
       "    <tr>\n",
       "      <th>India</th>\n",
       "      <td>60.444366</td>\n",
       "      <td>1500.681341</td>\n",
       "      <td>1995</td>\n",
       "    </tr>\n",
       "    <tr>\n",
       "      <th>India</th>\n",
       "      <td>60.915610</td>\n",
       "      <td>1612.534898</td>\n",
       "      <td>1996</td>\n",
       "    </tr>\n",
       "    <tr>\n",
       "      <th>India</th>\n",
       "      <td>66.102634</td>\n",
       "      <td>3920.160542</td>\n",
       "      <td>2009</td>\n",
       "    </tr>\n",
       "    <tr>\n",
       "      <th>India</th>\n",
       "      <td>59.452927</td>\n",
       "      <td>1303.896725</td>\n",
       "      <td>1993</td>\n",
       "    </tr>\n",
       "    <tr>\n",
       "      <th>India</th>\n",
       "      <td>67.289878</td>\n",
       "      <td>4921.842308</td>\n",
       "      <td>2012</td>\n",
       "    </tr>\n",
       "    <tr>\n",
       "      <th>India</th>\n",
       "      <td>67.660415</td>\n",
       "      <td>5267.826611</td>\n",
       "      <td>2013</td>\n",
       "    </tr>\n",
       "    <tr>\n",
       "      <th>India</th>\n",
       "      <td>59.954829</td>\n",
       "      <td>1393.002443</td>\n",
       "      <td>1994</td>\n",
       "    </tr>\n",
       "    <tr>\n",
       "      <th>India</th>\n",
       "      <td>65.699439</td>\n",
       "      <td>3637.756094</td>\n",
       "      <td>2008</td>\n",
       "    </tr>\n",
       "    <tr>\n",
       "      <th>Italy</th>\n",
       "      <td>77.419512</td>\n",
       "      <td>19745.087505</td>\n",
       "      <td>1992</td>\n",
       "    </tr>\n",
       "    <tr>\n",
       "      <th>Italy</th>\n",
       "      <td>81.434146</td>\n",
       "      <td>33711.952791</td>\n",
       "      <td>2007</td>\n",
       "    </tr>\n",
       "    <tr>\n",
       "      <th>Italy</th>\n",
       "      <td>77.921951</td>\n",
       "      <td>20892.267448</td>\n",
       "      <td>1994</td>\n",
       "    </tr>\n",
       "    <tr>\n",
       "      <th>Italy</th>\n",
       "      <td>78.824390</td>\n",
       "      <td>23434.277302</td>\n",
       "      <td>1997</td>\n",
       "    </tr>\n",
       "    <tr>\n",
       "      <th>Italy</th>\n",
       "      <td>77.721951</td>\n",
       "      <td>20030.218561</td>\n",
       "      <td>1993</td>\n",
       "    </tr>\n",
       "    <tr>\n",
       "      <th>Italy</th>\n",
       "      <td>79.424390</td>\n",
       "      <td>25158.418996</td>\n",
       "      <td>1999</td>\n",
       "    </tr>\n",
       "    <tr>\n",
       "      <th>Italy</th>\n",
       "      <td>81.282927</td>\n",
       "      <td>31953.460353</td>\n",
       "      <td>2006</td>\n",
       "    </tr>\n",
       "    <tr>\n",
       "      <th>Italy</th>\n",
       "      <td>82.690244</td>\n",
       "      <td>35707.831111</td>\n",
       "      <td>2013</td>\n",
       "    </tr>\n",
       "    <tr>\n",
       "      <th>Italy</th>\n",
       "      <td>78.975610</td>\n",
       "      <td>24660.122947</td>\n",
       "      <td>1998</td>\n",
       "    </tr>\n",
       "    <tr>\n",
       "      <th>Italy</th>\n",
       "      <td>76.970732</td>\n",
       "      <td>18272.859799</td>\n",
       "      <td>1990</td>\n",
       "    </tr>\n",
       "    <tr>\n",
       "      <th>Italy</th>\n",
       "      <td>77.019512</td>\n",
       "      <td>19158.287157</td>\n",
       "      <td>1991</td>\n",
       "    </tr>\n",
       "    <tr>\n",
       "      <th>Italy</th>\n",
       "      <td>79.982927</td>\n",
       "      <td>28462.037127</td>\n",
       "      <td>2003</td>\n",
       "    </tr>\n",
       "    <tr>\n",
       "      <th>Italy</th>\n",
       "      <td>80.782927</td>\n",
       "      <td>29652.756371</td>\n",
       "      <td>2005</td>\n",
       "    </tr>\n",
       "    <tr>\n",
       "      <th>Italy</th>\n",
       "      <td>81.485366</td>\n",
       "      <td>35170.896459</td>\n",
       "      <td>2008</td>\n",
       "    </tr>\n",
       "    <tr>\n",
       "      <th>Italy</th>\n",
       "      <td>82.036585</td>\n",
       "      <td>34714.526855</td>\n",
       "      <td>2010</td>\n",
       "    </tr>\n",
       "    <tr>\n",
       "      <th>Italy</th>\n",
       "      <td>78.170732</td>\n",
       "      <td>21943.349868</td>\n",
       "      <td>1995</td>\n",
       "    </tr>\n",
       "    <tr>\n",
       "      <th>Italy</th>\n",
       "      <td>78.521951</td>\n",
       "      <td>22645.142858</td>\n",
       "      <td>1996</td>\n",
       "    </tr>\n",
       "    <tr>\n",
       "      <th>Italy</th>\n",
       "      <td>82.690244</td>\n",
       "      <td>35419.395308</td>\n",
       "      <td>2014</td>\n",
       "    </tr>\n",
       "    <tr>\n",
       "      <th>Italy</th>\n",
       "      <td>80.126829</td>\n",
       "      <td>28246.798320</td>\n",
       "      <td>2001</td>\n",
       "    </tr>\n",
       "    <tr>\n",
       "      <th>Italy</th>\n",
       "      <td>82.187805</td>\n",
       "      <td>35870.713772</td>\n",
       "      <td>2011</td>\n",
       "    </tr>\n",
       "    <tr>\n",
       "      <th>Italy</th>\n",
       "      <td>82.239024</td>\n",
       "      <td>35899.779966</td>\n",
       "      <td>2012</td>\n",
       "    </tr>\n",
       "    <tr>\n",
       "      <th>Italy</th>\n",
       "      <td>80.780488</td>\n",
       "      <td>28770.967269</td>\n",
       "      <td>2004</td>\n",
       "    </tr>\n",
       "    <tr>\n",
       "      <th>Italy</th>\n",
       "      <td>79.778049</td>\n",
       "      <td>26640.217007</td>\n",
       "      <td>2000</td>\n",
       "    </tr>\n",
       "    <tr>\n",
       "      <th>Italy</th>\n",
       "      <td>80.229268</td>\n",
       "      <td>27898.470609</td>\n",
       "      <td>2002</td>\n",
       "    </tr>\n",
       "    <tr>\n",
       "      <th>Italy</th>\n",
       "      <td>81.636585</td>\n",
       "      <td>34142.338499</td>\n",
       "      <td>2009</td>\n",
       "    </tr>\n",
       "  </tbody>\n",
       "</table>\n",
       "</div>"
      ],
      "text/plain": [
       "         life_expect    gdp_percap  year\n",
       "country                                 \n",
       "India      58.438220   1172.563612  1991\n",
       "India      62.227073   1915.390649  1999\n",
       "India      63.019854   2105.841013  2001\n",
       "India      63.399195   2182.244557  2002\n",
       "India      58.945073   1239.995548  1992\n",
       "India      61.807220   1764.878225  1998\n",
       "India      65.300439   3484.756463  2007\n",
       "India      66.904171   4634.945162  2011\n",
       "India      62.630634   1998.488658  2000\n",
       "India      61.369561   1674.869744  1997\n",
       "India      68.013805   5672.189444  2014\n",
       "India      64.523878   2860.885701  2005\n",
       "India      57.943732   1146.027972  1990\n",
       "India      63.774537   2361.334849  2003\n",
       "India      64.147805   2576.537621  2004\n",
       "India      66.506146   4315.440046  2010\n",
       "India      64.908098   3172.707329  2006\n",
       "India      60.444366   1500.681341  1995\n",
       "India      60.915610   1612.534898  1996\n",
       "India      66.102634   3920.160542  2009\n",
       "India      59.452927   1303.896725  1993\n",
       "India      67.289878   4921.842308  2012\n",
       "India      67.660415   5267.826611  2013\n",
       "India      59.954829   1393.002443  1994\n",
       "India      65.699439   3637.756094  2008\n",
       "Italy      77.419512  19745.087505  1992\n",
       "Italy      81.434146  33711.952791  2007\n",
       "Italy      77.921951  20892.267448  1994\n",
       "Italy      78.824390  23434.277302  1997\n",
       "Italy      77.721951  20030.218561  1993\n",
       "Italy      79.424390  25158.418996  1999\n",
       "Italy      81.282927  31953.460353  2006\n",
       "Italy      82.690244  35707.831111  2013\n",
       "Italy      78.975610  24660.122947  1998\n",
       "Italy      76.970732  18272.859799  1990\n",
       "Italy      77.019512  19158.287157  1991\n",
       "Italy      79.982927  28462.037127  2003\n",
       "Italy      80.782927  29652.756371  2005\n",
       "Italy      81.485366  35170.896459  2008\n",
       "Italy      82.036585  34714.526855  2010\n",
       "Italy      78.170732  21943.349868  1995\n",
       "Italy      78.521951  22645.142858  1996\n",
       "Italy      82.690244  35419.395308  2014\n",
       "Italy      80.126829  28246.798320  2001\n",
       "Italy      82.187805  35870.713772  2011\n",
       "Italy      82.239024  35899.779966  2012\n",
       "Italy      80.780488  28770.967269  2004\n",
       "Italy      79.778049  26640.217007  2000\n",
       "Italy      80.229268  27898.470609  2002\n",
       "Italy      81.636585  34142.338499  2009"
      ]
     },
     "execution_count": 73,
     "metadata": {
      "tags": []
     },
     "output_type": "execute_result"
    }
   ],
   "source": [
    "df.loc[[\"India\", \"Italy\"], [\"life_expect\", \"gdp_percap\", \"year\"]]"
   ]
  },
  {
   "cell_type": "markdown",
   "metadata": {
    "colab_type": "text",
    "id": "x6WsU6GpF2W4"
   },
   "source": [
    "#### Exercise 11: Select the rows 3 to 7 and the columns 3 to 6"
   ]
  },
  {
   "cell_type": "code",
   "execution_count": 74,
   "metadata": {
    "colab": {
     "base_uri": "https://localhost:8080/",
     "height": 235
    },
    "colab_type": "code",
    "executionInfo": {
     "elapsed": 400,
     "status": "ok",
     "timestamp": 1582730632859,
     "user": {
      "displayName": "vamsi krishna varma Gunturi",
      "photoUrl": "https://lh3.googleusercontent.com/a-/AAuE7mDVkOmeh-heN1CRRvocTxwJHmqAgsnqRMpzM2K4=s64",
      "userId": "07556360944980168619"
     },
     "user_tz": -60
    },
    "id": "tlUzV1s0F2uA",
    "outputId": "f3a366ec-0fe4-472b-a34f-e1276a6e9f90"
   },
   "outputs": [
    {
     "data": {
      "text/html": [
       "<div>\n",
       "<style scoped>\n",
       "    .dataframe tbody tr th:only-of-type {\n",
       "        vertical-align: middle;\n",
       "    }\n",
       "\n",
       "    .dataframe tbody tr th {\n",
       "        vertical-align: top;\n",
       "    }\n",
       "\n",
       "    .dataframe thead th {\n",
       "        text-align: right;\n",
       "    }\n",
       "</style>\n",
       "<table border=\"1\" class=\"dataframe\">\n",
       "  <thead>\n",
       "    <tr style=\"text-align: right;\">\n",
       "      <th></th>\n",
       "      <th>year</th>\n",
       "      <th>gdp_percap</th>\n",
       "      <th>life_expect</th>\n",
       "      <th>population</th>\n",
       "    </tr>\n",
       "    <tr>\n",
       "      <th>country</th>\n",
       "      <th></th>\n",
       "      <th></th>\n",
       "      <th></th>\n",
       "      <th></th>\n",
       "    </tr>\n",
       "  </thead>\n",
       "  <tbody>\n",
       "    <tr>\n",
       "      <th>Andorra</th>\n",
       "      <td>2003</td>\n",
       "      <td>NaN</td>\n",
       "      <td>NaN</td>\n",
       "      <td>74783.0</td>\n",
       "    </tr>\n",
       "    <tr>\n",
       "      <th>Andorra</th>\n",
       "      <td>1990</td>\n",
       "      <td>NaN</td>\n",
       "      <td>NaN</td>\n",
       "      <td>54511.0</td>\n",
       "    </tr>\n",
       "    <tr>\n",
       "      <th>Andorra</th>\n",
       "      <td>2009</td>\n",
       "      <td>NaN</td>\n",
       "      <td>NaN</td>\n",
       "      <td>85474.0</td>\n",
       "    </tr>\n",
       "    <tr>\n",
       "      <th>Andorra</th>\n",
       "      <td>2011</td>\n",
       "      <td>NaN</td>\n",
       "      <td>NaN</td>\n",
       "      <td>82326.0</td>\n",
       "    </tr>\n",
       "    <tr>\n",
       "      <th>Andorra</th>\n",
       "      <td>2004</td>\n",
       "      <td>NaN</td>\n",
       "      <td>NaN</td>\n",
       "      <td>78337.0</td>\n",
       "    </tr>\n",
       "  </tbody>\n",
       "</table>\n",
       "</div>"
      ],
      "text/plain": [
       "         year  gdp_percap  life_expect  population\n",
       "country                                           \n",
       "Andorra  2003         NaN          NaN     74783.0\n",
       "Andorra  1990         NaN          NaN     54511.0\n",
       "Andorra  2009         NaN          NaN     85474.0\n",
       "Andorra  2011         NaN          NaN     82326.0\n",
       "Andorra  2004         NaN          NaN     78337.0"
      ]
     },
     "execution_count": 74,
     "metadata": {
      "tags": []
     },
     "output_type": "execute_result"
    }
   ],
   "source": [
    "df.iloc[2:7, 2:6]"
   ]
  },
  {
   "cell_type": "markdown",
   "metadata": {
    "colab_type": "text",
    "id": "pR3ZxjPBHQwN"
   },
   "source": [
    "#### Exercise 12: Select every row after the fourth row and all columns\n"
   ]
  },
  {
   "cell_type": "code",
   "execution_count": 0,
   "metadata": {
    "colab": {},
    "colab_type": "code",
    "collapsed": true,
    "id": "q-TU2WS0HQ-u"
   },
   "outputs": [],
   "source": [
    "df.iloc[4:, :]"
   ]
  },
  {
   "cell_type": "markdown",
   "metadata": {
    "colab_type": "text",
    "id": "Ec9TQrCeHRYQ"
   },
   "source": [
    "#### Exercise 13: Select every row up to the 4th row and all columns"
   ]
  },
  {
   "cell_type": "code",
   "execution_count": 0,
   "metadata": {
    "colab": {},
    "colab_type": "code",
    "collapsed": true,
    "id": "5viLcgeoHRoY"
   },
   "outputs": [],
   "source": [
    "df.iloc[:4, :]"
   ]
  },
  {
   "cell_type": "markdown",
   "metadata": {
    "colab_type": "text",
    "id": "IggAf4w9HR6i"
   },
   "source": [
    "#### Exercise 14: Select the 3rd column up to the 7th column"
   ]
  },
  {
   "cell_type": "code",
   "execution_count": 0,
   "metadata": {
    "colab": {},
    "colab_type": "code",
    "collapsed": true,
    "id": "i501zaxxHSMy"
   },
   "outputs": [],
   "source": [
    "df.iloc[:, 2:7]"
   ]
  },
  {
   "cell_type": "markdown",
   "metadata": {
    "colab_type": "text",
    "id": "kCQu-OKoHSlP"
   },
   "source": [
    "#### Exercise 15: Select rows where life_expect is greater than 50 or less than 70 "
   ]
  },
  {
   "cell_type": "code",
   "execution_count": 77,
   "metadata": {
    "colab": {
     "base_uri": "https://localhost:8080/",
     "height": 450
    },
    "colab_type": "code",
    "executionInfo": {
     "elapsed": 714,
     "status": "ok",
     "timestamp": 1582731201741,
     "user": {
      "displayName": "vamsi krishna varma Gunturi",
      "photoUrl": "https://lh3.googleusercontent.com/a-/AAuE7mDVkOmeh-heN1CRRvocTxwJHmqAgsnqRMpzM2K4=s64",
      "userId": "07556360944980168619"
     },
     "user_tz": -60
    },
    "id": "FcVvHG4iHS28",
    "outputId": "f9f2c542-764e-4f96-e4e1-5ad648755fc9"
   },
   "outputs": [
    {
     "data": {
      "text/html": [
       "<div>\n",
       "<style scoped>\n",
       "    .dataframe tbody tr th:only-of-type {\n",
       "        vertical-align: middle;\n",
       "    }\n",
       "\n",
       "    .dataframe tbody tr th {\n",
       "        vertical-align: top;\n",
       "    }\n",
       "\n",
       "    .dataframe thead th {\n",
       "        text-align: right;\n",
       "    }\n",
       "</style>\n",
       "<table border=\"1\" class=\"dataframe\">\n",
       "  <thead>\n",
       "    <tr style=\"text-align: right;\">\n",
       "      <th></th>\n",
       "      <th>iso2c</th>\n",
       "      <th>iso3c</th>\n",
       "      <th>year</th>\n",
       "      <th>gdp_percap</th>\n",
       "      <th>life_expect</th>\n",
       "      <th>population</th>\n",
       "      <th>birth_rate</th>\n",
       "      <th>neonat_mortal_rate</th>\n",
       "      <th>region</th>\n",
       "      <th>income</th>\n",
       "    </tr>\n",
       "    <tr>\n",
       "      <th>country</th>\n",
       "      <th></th>\n",
       "      <th></th>\n",
       "      <th></th>\n",
       "      <th></th>\n",
       "      <th></th>\n",
       "      <th></th>\n",
       "      <th></th>\n",
       "      <th></th>\n",
       "      <th></th>\n",
       "      <th></th>\n",
       "    </tr>\n",
       "  </thead>\n",
       "  <tbody>\n",
       "    <tr>\n",
       "      <th>United Arab Emirates</th>\n",
       "      <td>AE</td>\n",
       "      <td>ARE</td>\n",
       "      <td>1991</td>\n",
       "      <td>73036.996606</td>\n",
       "      <td>72.012293</td>\n",
       "      <td>1913190.0</td>\n",
       "      <td>24.649</td>\n",
       "      <td>7.9</td>\n",
       "      <td>Middle East &amp; North Africa</td>\n",
       "      <td>High income</td>\n",
       "    </tr>\n",
       "    <tr>\n",
       "      <th>United Arab Emirates</th>\n",
       "      <td>AE</td>\n",
       "      <td>ARE</td>\n",
       "      <td>1993</td>\n",
       "      <td>71959.877867</td>\n",
       "      <td>72.573024</td>\n",
       "      <td>2127863.0</td>\n",
       "      <td>22.360</td>\n",
       "      <td>7.3</td>\n",
       "      <td>Middle East &amp; North Africa</td>\n",
       "      <td>High income</td>\n",
       "    </tr>\n",
       "    <tr>\n",
       "      <th>United Arab Emirates</th>\n",
       "      <td>AE</td>\n",
       "      <td>ARE</td>\n",
       "      <td>2001</td>\n",
       "      <td>83533.555216</td>\n",
       "      <td>74.712878</td>\n",
       "      <td>3217865.0</td>\n",
       "      <td>15.829</td>\n",
       "      <td>5.5</td>\n",
       "      <td>Middle East &amp; North Africa</td>\n",
       "      <td>High income</td>\n",
       "    </tr>\n",
       "    <tr>\n",
       "      <th>United Arab Emirates</th>\n",
       "      <td>AE</td>\n",
       "      <td>ARE</td>\n",
       "      <td>1992</td>\n",
       "      <td>73154.277741</td>\n",
       "      <td>72.296415</td>\n",
       "      <td>2019014.0</td>\n",
       "      <td>23.501</td>\n",
       "      <td>7.6</td>\n",
       "      <td>Middle East &amp; North Africa</td>\n",
       "      <td>High income</td>\n",
       "    </tr>\n",
       "    <tr>\n",
       "      <th>United Arab Emirates</th>\n",
       "      <td>AE</td>\n",
       "      <td>ARE</td>\n",
       "      <td>1994</td>\n",
       "      <td>74683.888594</td>\n",
       "      <td>72.845585</td>\n",
       "      <td>2238281.0</td>\n",
       "      <td>21.263</td>\n",
       "      <td>6.9</td>\n",
       "      <td>Middle East &amp; North Africa</td>\n",
       "      <td>High income</td>\n",
       "    </tr>\n",
       "    <tr>\n",
       "      <th>...</th>\n",
       "      <td>...</td>\n",
       "      <td>...</td>\n",
       "      <td>...</td>\n",
       "      <td>...</td>\n",
       "      <td>...</td>\n",
       "      <td>...</td>\n",
       "      <td>...</td>\n",
       "      <td>...</td>\n",
       "      <td>...</td>\n",
       "      <td>...</td>\n",
       "    </tr>\n",
       "    <tr>\n",
       "      <th>Zimbabwe</th>\n",
       "      <td>ZW</td>\n",
       "      <td>ZWE</td>\n",
       "      <td>2010</td>\n",
       "      <td>1360.876026</td>\n",
       "      <td>49.574659</td>\n",
       "      <td>13973897.0</td>\n",
       "      <td>36.267</td>\n",
       "      <td>25.3</td>\n",
       "      <td>Sub-Saharan Africa</td>\n",
       "      <td>Low income</td>\n",
       "    </tr>\n",
       "    <tr>\n",
       "      <th>Zimbabwe</th>\n",
       "      <td>ZW</td>\n",
       "      <td>ZWE</td>\n",
       "      <td>2011</td>\n",
       "      <td>1523.621784</td>\n",
       "      <td>51.600366</td>\n",
       "      <td>14255592.0</td>\n",
       "      <td>36.264</td>\n",
       "      <td>25.1</td>\n",
       "      <td>Sub-Saharan Africa</td>\n",
       "      <td>Low income</td>\n",
       "    </tr>\n",
       "    <tr>\n",
       "      <th>Zimbabwe</th>\n",
       "      <td>ZW</td>\n",
       "      <td>ZWE</td>\n",
       "      <td>2012</td>\n",
       "      <td>1679.125594</td>\n",
       "      <td>53.643073</td>\n",
       "      <td>14565482.0</td>\n",
       "      <td>36.077</td>\n",
       "      <td>24.8</td>\n",
       "      <td>Sub-Saharan Africa</td>\n",
       "      <td>Low income</td>\n",
       "    </tr>\n",
       "    <tr>\n",
       "      <th>Zimbabwe</th>\n",
       "      <td>ZW</td>\n",
       "      <td>ZWE</td>\n",
       "      <td>2013</td>\n",
       "      <td>1743.210783</td>\n",
       "      <td>55.633000</td>\n",
       "      <td>14898092.0</td>\n",
       "      <td>35.715</td>\n",
       "      <td>24.4</td>\n",
       "      <td>Sub-Saharan Africa</td>\n",
       "      <td>Low income</td>\n",
       "    </tr>\n",
       "    <tr>\n",
       "      <th>Zimbabwe</th>\n",
       "      <td>ZW</td>\n",
       "      <td>ZWE</td>\n",
       "      <td>2014</td>\n",
       "      <td>1798.059812</td>\n",
       "      <td>57.498317</td>\n",
       "      <td>15245855.0</td>\n",
       "      <td>35.189</td>\n",
       "      <td>23.9</td>\n",
       "      <td>Sub-Saharan Africa</td>\n",
       "      <td>Low income</td>\n",
       "    </tr>\n",
       "  </tbody>\n",
       "</table>\n",
       "<p>4882 rows × 10 columns</p>\n",
       "</div>"
      ],
      "text/plain": [
       "                     iso2c iso3c  ...                      region       income\n",
       "country                           ...                                         \n",
       "United Arab Emirates    AE   ARE  ...  Middle East & North Africa  High income\n",
       "United Arab Emirates    AE   ARE  ...  Middle East & North Africa  High income\n",
       "United Arab Emirates    AE   ARE  ...  Middle East & North Africa  High income\n",
       "United Arab Emirates    AE   ARE  ...  Middle East & North Africa  High income\n",
       "United Arab Emirates    AE   ARE  ...  Middle East & North Africa  High income\n",
       "...                    ...   ...  ...                         ...          ...\n",
       "Zimbabwe                ZW   ZWE  ...          Sub-Saharan Africa   Low income\n",
       "Zimbabwe                ZW   ZWE  ...          Sub-Saharan Africa   Low income\n",
       "Zimbabwe                ZW   ZWE  ...          Sub-Saharan Africa   Low income\n",
       "Zimbabwe                ZW   ZWE  ...          Sub-Saharan Africa   Low income\n",
       "Zimbabwe                ZW   ZWE  ...          Sub-Saharan Africa   Low income\n",
       "\n",
       "[4882 rows x 10 columns]"
      ]
     },
     "execution_count": 77,
     "metadata": {
      "tags": []
     },
     "output_type": "execute_result"
    }
   ],
   "source": [
    "#Select rows where df.deaths is greater than 500 or less than 50¶\n",
    "df[(df[\"life_expect\"] > 50) | (df[\"life_expect\"] < 70)]"
   ]
  },
  {
   "cell_type": "markdown",
   "metadata": {
    "colab_type": "text",
    "id": "983VBAgkO0l_"
   },
   "source": [
    "### Practice section 3: Grouping"
   ]
  },
  {
   "cell_type": "markdown",
   "metadata": {
    "colab_type": "text",
    "id": "IuoBpatdMs4S"
   },
   "source": [
    "#### Exercise 1: Find the mean of life_expect by region"
   ]
  },
  {
   "cell_type": "code",
   "execution_count": 84,
   "metadata": {
    "colab": {
     "base_uri": "https://localhost:8080/",
     "height": 170
    },
    "colab_type": "code",
    "executionInfo": {
     "elapsed": 813,
     "status": "ok",
     "timestamp": 1582733091143,
     "user": {
      "displayName": "vamsi krishna varma Gunturi",
      "photoUrl": "https://lh3.googleusercontent.com/a-/AAuE7mDVkOmeh-heN1CRRvocTxwJHmqAgsnqRMpzM2K4=s64",
      "userId": "07556360944980168619"
     },
     "user_tz": -60
    },
    "id": "_rA6_i0WMtNc",
    "outputId": "93d70684-5e62-4fed-b1e9-40fd099166d6"
   },
   "outputs": [
    {
     "data": {
      "text/plain": [
       "region\n",
       "East Asia & Pacific           70.507927\n",
       "Europe & Central Asia         74.272763\n",
       "Latin America & Caribbean     71.882016\n",
       "Middle East & North Africa    71.611809\n",
       "North America                 78.480261\n",
       "South Asia                    64.479899\n",
       "Sub-Saharan Africa            53.957818\n",
       "Name: life_expect, dtype: float64"
      ]
     },
     "execution_count": 84,
     "metadata": {
      "tags": []
     },
     "output_type": "execute_result"
    }
   ],
   "source": [
    "df.groupby(['region']).life_expect.mean()"
   ]
  },
  {
   "cell_type": "markdown",
   "metadata": {
    "colab_type": "text",
    "id": "ZFegdaUEOcwG"
   },
   "source": [
    "#### Exercise 2: Find the mean, median min and max values for life_expect grouped by region"
   ]
  },
  {
   "cell_type": "code",
   "execution_count": 86,
   "metadata": {
    "colab": {
     "base_uri": "https://localhost:8080/",
     "height": 297
    },
    "colab_type": "code",
    "executionInfo": {
     "elapsed": 734,
     "status": "ok",
     "timestamp": 1582733199416,
     "user": {
      "displayName": "vamsi krishna varma Gunturi",
      "photoUrl": "https://lh3.googleusercontent.com/a-/AAuE7mDVkOmeh-heN1CRRvocTxwJHmqAgsnqRMpzM2K4=s64",
      "userId": "07556360944980168619"
     },
     "user_tz": -60
    },
    "id": "ieHoT7pkOdEa",
    "outputId": "5ef106ad-3632-4ee2-f45c-e67d9cbe7f00"
   },
   "outputs": [
    {
     "data": {
      "text/html": [
       "<div>\n",
       "<style scoped>\n",
       "    .dataframe tbody tr th:only-of-type {\n",
       "        vertical-align: middle;\n",
       "    }\n",
       "\n",
       "    .dataframe tbody tr th {\n",
       "        vertical-align: top;\n",
       "    }\n",
       "\n",
       "    .dataframe thead th {\n",
       "        text-align: right;\n",
       "    }\n",
       "</style>\n",
       "<table border=\"1\" class=\"dataframe\">\n",
       "  <thead>\n",
       "    <tr style=\"text-align: right;\">\n",
       "      <th></th>\n",
       "      <th>mean</th>\n",
       "      <th>min</th>\n",
       "      <th>max</th>\n",
       "      <th>median</th>\n",
       "    </tr>\n",
       "    <tr>\n",
       "      <th>region</th>\n",
       "      <th></th>\n",
       "      <th></th>\n",
       "      <th></th>\n",
       "      <th></th>\n",
       "    </tr>\n",
       "  </thead>\n",
       "  <tbody>\n",
       "    <tr>\n",
       "      <th>East Asia &amp; Pacific</th>\n",
       "      <td>70.507927</td>\n",
       "      <td>48.484732</td>\n",
       "      <td>83.980488</td>\n",
       "      <td>70.690622</td>\n",
       "    </tr>\n",
       "    <tr>\n",
       "      <th>Europe &amp; Central Asia</th>\n",
       "      <td>74.272763</td>\n",
       "      <td>62.301585</td>\n",
       "      <td>83.323215</td>\n",
       "      <td>74.858537</td>\n",
       "    </tr>\n",
       "    <tr>\n",
       "      <th>Latin America &amp; Caribbean</th>\n",
       "      <td>71.882016</td>\n",
       "      <td>54.569317</td>\n",
       "      <td>81.496195</td>\n",
       "      <td>72.414829</td>\n",
       "    </tr>\n",
       "    <tr>\n",
       "      <th>Middle East &amp; North Africa</th>\n",
       "      <td>71.611809</td>\n",
       "      <td>56.663171</td>\n",
       "      <td>82.153659</td>\n",
       "      <td>72.296415</td>\n",
       "    </tr>\n",
       "    <tr>\n",
       "      <th>North America</th>\n",
       "      <td>78.480261</td>\n",
       "      <td>74.029512</td>\n",
       "      <td>81.956610</td>\n",
       "      <td>78.482927</td>\n",
       "    </tr>\n",
       "    <tr>\n",
       "      <th>South Asia</th>\n",
       "      <td>64.479899</td>\n",
       "      <td>49.861049</td>\n",
       "      <td>76.772829</td>\n",
       "      <td>64.431305</td>\n",
       "    </tr>\n",
       "    <tr>\n",
       "      <th>Sub-Saharan Africa</th>\n",
       "      <td>53.957818</td>\n",
       "      <td>27.078902</td>\n",
       "      <td>74.226829</td>\n",
       "      <td>53.561537</td>\n",
       "    </tr>\n",
       "  </tbody>\n",
       "</table>\n",
       "</div>"
      ],
      "text/plain": [
       "                                 mean        min        max     median\n",
       "region                                                                \n",
       "East Asia & Pacific         70.507927  48.484732  83.980488  70.690622\n",
       "Europe & Central Asia       74.272763  62.301585  83.323215  74.858537\n",
       "Latin America & Caribbean   71.882016  54.569317  81.496195  72.414829\n",
       "Middle East & North Africa  71.611809  56.663171  82.153659  72.296415\n",
       "North America               78.480261  74.029512  81.956610  78.482927\n",
       "South Asia                  64.479899  49.861049  76.772829  64.431305\n",
       "Sub-Saharan Africa          53.957818  27.078902  74.226829  53.561537"
      ]
     },
     "execution_count": 86,
     "metadata": {
      "tags": []
     },
     "output_type": "execute_result"
    }
   ],
   "source": [
    "df.groupby('region').life_expect.agg(['mean', 'min', 'max', 'median'])"
   ]
  },
  {
   "cell_type": "markdown",
   "metadata": {
    "colab_type": "text",
    "id": "z3rIp00qP0dF"
   },
   "source": [
    "#### Exercise 3: Find the mean, median min and max values for life_expect grouped by region and year"
   ]
  },
  {
   "cell_type": "code",
   "execution_count": 0,
   "metadata": {
    "colab": {},
    "colab_type": "code",
    "collapsed": true,
    "id": "zq_8XxUmP00s"
   },
   "outputs": [],
   "source": [
    "df.groupby(['region','year']).life_expect.agg(['mean', 'min', 'max', 'median'])"
   ]
  },
  {
   "cell_type": "markdown",
   "metadata": {
    "colab_type": "text",
    "id": "ersVvMGYO0wr"
   },
   "source": [
    "### Practice section 4: Apply"
   ]
  },
  {
   "cell_type": "markdown",
   "metadata": {
    "colab_type": "text",
    "id": "2Fqp00QIRsK-"
   },
   "source": [
    "#### Exercise 1: Add a new column, \"life_expect_range\" to the dataset and if a row has life_expect more than 70, the value will of that column will be Good, if the life_expect is between 50 and 70 then the value will be Normal, if the life_expect is less than 50 then the value is Low"
   ]
  },
  {
   "cell_type": "code",
   "execution_count": 88,
   "metadata": {
    "colab": {
     "base_uri": "https://localhost:8080/",
     "height": 1000
    },
    "colab_type": "code",
    "executionInfo": {
     "elapsed": 796,
     "status": "ok",
     "timestamp": 1582733949855,
     "user": {
      "displayName": "vamsi krishna varma Gunturi",
      "photoUrl": "https://lh3.googleusercontent.com/a-/AAuE7mDVkOmeh-heN1CRRvocTxwJHmqAgsnqRMpzM2K4=s64",
      "userId": "07556360944980168619"
     },
     "user_tz": -60
    },
    "id": "etcNKGTQRsn6",
    "outputId": "d00236af-86c4-46eb-93b1-89c63e876615"
   },
   "outputs": [
    {
     "data": {
      "text/html": [
       "<div>\n",
       "<style scoped>\n",
       "    .dataframe tbody tr th:only-of-type {\n",
       "        vertical-align: middle;\n",
       "    }\n",
       "\n",
       "    .dataframe tbody tr th {\n",
       "        vertical-align: top;\n",
       "    }\n",
       "\n",
       "    .dataframe thead th {\n",
       "        text-align: right;\n",
       "    }\n",
       "</style>\n",
       "<table border=\"1\" class=\"dataframe\">\n",
       "  <thead>\n",
       "    <tr style=\"text-align: right;\">\n",
       "      <th></th>\n",
       "      <th>iso2c</th>\n",
       "      <th>iso3c</th>\n",
       "      <th>year</th>\n",
       "      <th>gdp_percap</th>\n",
       "      <th>life_expect</th>\n",
       "      <th>population</th>\n",
       "      <th>birth_rate</th>\n",
       "      <th>neonat_mortal_rate</th>\n",
       "      <th>region</th>\n",
       "      <th>income</th>\n",
       "      <th>life_expect_range</th>\n",
       "    </tr>\n",
       "    <tr>\n",
       "      <th>country</th>\n",
       "      <th></th>\n",
       "      <th></th>\n",
       "      <th></th>\n",
       "      <th></th>\n",
       "      <th></th>\n",
       "      <th></th>\n",
       "      <th></th>\n",
       "      <th></th>\n",
       "      <th></th>\n",
       "      <th></th>\n",
       "      <th></th>\n",
       "    </tr>\n",
       "  </thead>\n",
       "  <tbody>\n",
       "    <tr>\n",
       "      <th>Andorra</th>\n",
       "      <td>AD</td>\n",
       "      <td>AND</td>\n",
       "      <td>1996</td>\n",
       "      <td>NaN</td>\n",
       "      <td>NaN</td>\n",
       "      <td>64291.0</td>\n",
       "      <td>10.900</td>\n",
       "      <td>2.8</td>\n",
       "      <td>Europe &amp; Central Asia</td>\n",
       "      <td>High income</td>\n",
       "      <td>Low</td>\n",
       "    </tr>\n",
       "    <tr>\n",
       "      <th>Andorra</th>\n",
       "      <td>AD</td>\n",
       "      <td>AND</td>\n",
       "      <td>1994</td>\n",
       "      <td>NaN</td>\n",
       "      <td>NaN</td>\n",
       "      <td>62707.0</td>\n",
       "      <td>10.900</td>\n",
       "      <td>3.2</td>\n",
       "      <td>Europe &amp; Central Asia</td>\n",
       "      <td>High income</td>\n",
       "      <td>Low</td>\n",
       "    </tr>\n",
       "    <tr>\n",
       "      <th>Andorra</th>\n",
       "      <td>AD</td>\n",
       "      <td>AND</td>\n",
       "      <td>2003</td>\n",
       "      <td>NaN</td>\n",
       "      <td>NaN</td>\n",
       "      <td>74783.0</td>\n",
       "      <td>10.300</td>\n",
       "      <td>2.0</td>\n",
       "      <td>Europe &amp; Central Asia</td>\n",
       "      <td>High income</td>\n",
       "      <td>Low</td>\n",
       "    </tr>\n",
       "    <tr>\n",
       "      <th>Andorra</th>\n",
       "      <td>AD</td>\n",
       "      <td>AND</td>\n",
       "      <td>1990</td>\n",
       "      <td>NaN</td>\n",
       "      <td>NaN</td>\n",
       "      <td>54511.0</td>\n",
       "      <td>11.900</td>\n",
       "      <td>4.3</td>\n",
       "      <td>Europe &amp; Central Asia</td>\n",
       "      <td>High income</td>\n",
       "      <td>Low</td>\n",
       "    </tr>\n",
       "    <tr>\n",
       "      <th>Andorra</th>\n",
       "      <td>AD</td>\n",
       "      <td>AND</td>\n",
       "      <td>2009</td>\n",
       "      <td>NaN</td>\n",
       "      <td>NaN</td>\n",
       "      <td>85474.0</td>\n",
       "      <td>9.900</td>\n",
       "      <td>1.7</td>\n",
       "      <td>Europe &amp; Central Asia</td>\n",
       "      <td>High income</td>\n",
       "      <td>Low</td>\n",
       "    </tr>\n",
       "    <tr>\n",
       "      <th>Andorra</th>\n",
       "      <td>AD</td>\n",
       "      <td>AND</td>\n",
       "      <td>2011</td>\n",
       "      <td>NaN</td>\n",
       "      <td>NaN</td>\n",
       "      <td>82326.0</td>\n",
       "      <td>NaN</td>\n",
       "      <td>1.6</td>\n",
       "      <td>Europe &amp; Central Asia</td>\n",
       "      <td>High income</td>\n",
       "      <td>Low</td>\n",
       "    </tr>\n",
       "    <tr>\n",
       "      <th>Andorra</th>\n",
       "      <td>AD</td>\n",
       "      <td>AND</td>\n",
       "      <td>2004</td>\n",
       "      <td>NaN</td>\n",
       "      <td>NaN</td>\n",
       "      <td>78337.0</td>\n",
       "      <td>10.900</td>\n",
       "      <td>2.0</td>\n",
       "      <td>Europe &amp; Central Asia</td>\n",
       "      <td>High income</td>\n",
       "      <td>Low</td>\n",
       "    </tr>\n",
       "    <tr>\n",
       "      <th>Andorra</th>\n",
       "      <td>AD</td>\n",
       "      <td>AND</td>\n",
       "      <td>2010</td>\n",
       "      <td>NaN</td>\n",
       "      <td>NaN</td>\n",
       "      <td>84419.0</td>\n",
       "      <td>9.800</td>\n",
       "      <td>1.7</td>\n",
       "      <td>Europe &amp; Central Asia</td>\n",
       "      <td>High income</td>\n",
       "      <td>Low</td>\n",
       "    </tr>\n",
       "    <tr>\n",
       "      <th>Andorra</th>\n",
       "      <td>AD</td>\n",
       "      <td>AND</td>\n",
       "      <td>2001</td>\n",
       "      <td>NaN</td>\n",
       "      <td>NaN</td>\n",
       "      <td>67770.0</td>\n",
       "      <td>11.800</td>\n",
       "      <td>2.1</td>\n",
       "      <td>Europe &amp; Central Asia</td>\n",
       "      <td>High income</td>\n",
       "      <td>Low</td>\n",
       "    </tr>\n",
       "    <tr>\n",
       "      <th>Andorra</th>\n",
       "      <td>AD</td>\n",
       "      <td>AND</td>\n",
       "      <td>2002</td>\n",
       "      <td>NaN</td>\n",
       "      <td>NaN</td>\n",
       "      <td>71046.0</td>\n",
       "      <td>11.200</td>\n",
       "      <td>2.1</td>\n",
       "      <td>Europe &amp; Central Asia</td>\n",
       "      <td>High income</td>\n",
       "      <td>Low</td>\n",
       "    </tr>\n",
       "    <tr>\n",
       "      <th>Andorra</th>\n",
       "      <td>AD</td>\n",
       "      <td>AND</td>\n",
       "      <td>1997</td>\n",
       "      <td>NaN</td>\n",
       "      <td>NaN</td>\n",
       "      <td>64147.0</td>\n",
       "      <td>11.200</td>\n",
       "      <td>2.6</td>\n",
       "      <td>Europe &amp; Central Asia</td>\n",
       "      <td>High income</td>\n",
       "      <td>Low</td>\n",
       "    </tr>\n",
       "    <tr>\n",
       "      <th>Andorra</th>\n",
       "      <td>AD</td>\n",
       "      <td>AND</td>\n",
       "      <td>1993</td>\n",
       "      <td>NaN</td>\n",
       "      <td>NaN</td>\n",
       "      <td>61003.0</td>\n",
       "      <td>11.400</td>\n",
       "      <td>3.4</td>\n",
       "      <td>Europe &amp; Central Asia</td>\n",
       "      <td>High income</td>\n",
       "      <td>Low</td>\n",
       "    </tr>\n",
       "    <tr>\n",
       "      <th>Andorra</th>\n",
       "      <td>AD</td>\n",
       "      <td>AND</td>\n",
       "      <td>2008</td>\n",
       "      <td>NaN</td>\n",
       "      <td>NaN</td>\n",
       "      <td>85616.0</td>\n",
       "      <td>10.400</td>\n",
       "      <td>1.8</td>\n",
       "      <td>Europe &amp; Central Asia</td>\n",
       "      <td>High income</td>\n",
       "      <td>Low</td>\n",
       "    </tr>\n",
       "    <tr>\n",
       "      <th>Andorra</th>\n",
       "      <td>AD</td>\n",
       "      <td>AND</td>\n",
       "      <td>1999</td>\n",
       "      <td>NaN</td>\n",
       "      <td>NaN</td>\n",
       "      <td>64161.0</td>\n",
       "      <td>12.600</td>\n",
       "      <td>2.3</td>\n",
       "      <td>Europe &amp; Central Asia</td>\n",
       "      <td>High income</td>\n",
       "      <td>Low</td>\n",
       "    </tr>\n",
       "    <tr>\n",
       "      <th>Andorra</th>\n",
       "      <td>AD</td>\n",
       "      <td>AND</td>\n",
       "      <td>2014</td>\n",
       "      <td>NaN</td>\n",
       "      <td>NaN</td>\n",
       "      <td>72786.0</td>\n",
       "      <td>NaN</td>\n",
       "      <td>1.5</td>\n",
       "      <td>Europe &amp; Central Asia</td>\n",
       "      <td>High income</td>\n",
       "      <td>Low</td>\n",
       "    </tr>\n",
       "    <tr>\n",
       "      <th>Andorra</th>\n",
       "      <td>AD</td>\n",
       "      <td>AND</td>\n",
       "      <td>2005</td>\n",
       "      <td>NaN</td>\n",
       "      <td>NaN</td>\n",
       "      <td>81223.0</td>\n",
       "      <td>10.700</td>\n",
       "      <td>1.9</td>\n",
       "      <td>Europe &amp; Central Asia</td>\n",
       "      <td>High income</td>\n",
       "      <td>Low</td>\n",
       "    </tr>\n",
       "    <tr>\n",
       "      <th>Andorra</th>\n",
       "      <td>AD</td>\n",
       "      <td>AND</td>\n",
       "      <td>2012</td>\n",
       "      <td>NaN</td>\n",
       "      <td>NaN</td>\n",
       "      <td>79316.0</td>\n",
       "      <td>9.500</td>\n",
       "      <td>1.6</td>\n",
       "      <td>Europe &amp; Central Asia</td>\n",
       "      <td>High income</td>\n",
       "      <td>Low</td>\n",
       "    </tr>\n",
       "    <tr>\n",
       "      <th>Andorra</th>\n",
       "      <td>AD</td>\n",
       "      <td>AND</td>\n",
       "      <td>2013</td>\n",
       "      <td>NaN</td>\n",
       "      <td>NaN</td>\n",
       "      <td>75902.0</td>\n",
       "      <td>NaN</td>\n",
       "      <td>1.5</td>\n",
       "      <td>Europe &amp; Central Asia</td>\n",
       "      <td>High income</td>\n",
       "      <td>Low</td>\n",
       "    </tr>\n",
       "    <tr>\n",
       "      <th>Andorra</th>\n",
       "      <td>AD</td>\n",
       "      <td>AND</td>\n",
       "      <td>1992</td>\n",
       "      <td>NaN</td>\n",
       "      <td>NaN</td>\n",
       "      <td>58904.0</td>\n",
       "      <td>12.100</td>\n",
       "      <td>3.7</td>\n",
       "      <td>Europe &amp; Central Asia</td>\n",
       "      <td>High income</td>\n",
       "      <td>Low</td>\n",
       "    </tr>\n",
       "    <tr>\n",
       "      <th>Andorra</th>\n",
       "      <td>AD</td>\n",
       "      <td>AND</td>\n",
       "      <td>1995</td>\n",
       "      <td>NaN</td>\n",
       "      <td>NaN</td>\n",
       "      <td>63854.0</td>\n",
       "      <td>11.000</td>\n",
       "      <td>3.0</td>\n",
       "      <td>Europe &amp; Central Asia</td>\n",
       "      <td>High income</td>\n",
       "      <td>Low</td>\n",
       "    </tr>\n",
       "    <tr>\n",
       "      <th>Andorra</th>\n",
       "      <td>AD</td>\n",
       "      <td>AND</td>\n",
       "      <td>1998</td>\n",
       "      <td>NaN</td>\n",
       "      <td>NaN</td>\n",
       "      <td>63888.0</td>\n",
       "      <td>11.900</td>\n",
       "      <td>2.4</td>\n",
       "      <td>Europe &amp; Central Asia</td>\n",
       "      <td>High income</td>\n",
       "      <td>Low</td>\n",
       "    </tr>\n",
       "    <tr>\n",
       "      <th>Andorra</th>\n",
       "      <td>AD</td>\n",
       "      <td>AND</td>\n",
       "      <td>1991</td>\n",
       "      <td>NaN</td>\n",
       "      <td>NaN</td>\n",
       "      <td>56674.0</td>\n",
       "      <td>11.900</td>\n",
       "      <td>4.0</td>\n",
       "      <td>Europe &amp; Central Asia</td>\n",
       "      <td>High income</td>\n",
       "      <td>Low</td>\n",
       "    </tr>\n",
       "    <tr>\n",
       "      <th>Andorra</th>\n",
       "      <td>AD</td>\n",
       "      <td>AND</td>\n",
       "      <td>2006</td>\n",
       "      <td>NaN</td>\n",
       "      <td>NaN</td>\n",
       "      <td>83373.0</td>\n",
       "      <td>10.600</td>\n",
       "      <td>1.9</td>\n",
       "      <td>Europe &amp; Central Asia</td>\n",
       "      <td>High income</td>\n",
       "      <td>Low</td>\n",
       "    </tr>\n",
       "    <tr>\n",
       "      <th>Andorra</th>\n",
       "      <td>AD</td>\n",
       "      <td>AND</td>\n",
       "      <td>2007</td>\n",
       "      <td>NaN</td>\n",
       "      <td>NaN</td>\n",
       "      <td>84878.0</td>\n",
       "      <td>10.100</td>\n",
       "      <td>1.8</td>\n",
       "      <td>Europe &amp; Central Asia</td>\n",
       "      <td>High income</td>\n",
       "      <td>Low</td>\n",
       "    </tr>\n",
       "    <tr>\n",
       "      <th>Andorra</th>\n",
       "      <td>AD</td>\n",
       "      <td>AND</td>\n",
       "      <td>2000</td>\n",
       "      <td>NaN</td>\n",
       "      <td>NaN</td>\n",
       "      <td>65399.0</td>\n",
       "      <td>11.300</td>\n",
       "      <td>2.2</td>\n",
       "      <td>Europe &amp; Central Asia</td>\n",
       "      <td>High income</td>\n",
       "      <td>Low</td>\n",
       "    </tr>\n",
       "    <tr>\n",
       "      <th>United Arab Emirates</th>\n",
       "      <td>AE</td>\n",
       "      <td>ARE</td>\n",
       "      <td>1991</td>\n",
       "      <td>73036.996606</td>\n",
       "      <td>72.012293</td>\n",
       "      <td>1913190.0</td>\n",
       "      <td>24.649</td>\n",
       "      <td>7.9</td>\n",
       "      <td>Middle East &amp; North Africa</td>\n",
       "      <td>High income</td>\n",
       "      <td>Good</td>\n",
       "    </tr>\n",
       "    <tr>\n",
       "      <th>United Arab Emirates</th>\n",
       "      <td>AE</td>\n",
       "      <td>ARE</td>\n",
       "      <td>1993</td>\n",
       "      <td>71959.877867</td>\n",
       "      <td>72.573024</td>\n",
       "      <td>2127863.0</td>\n",
       "      <td>22.360</td>\n",
       "      <td>7.3</td>\n",
       "      <td>Middle East &amp; North Africa</td>\n",
       "      <td>High income</td>\n",
       "      <td>Good</td>\n",
       "    </tr>\n",
       "    <tr>\n",
       "      <th>United Arab Emirates</th>\n",
       "      <td>AE</td>\n",
       "      <td>ARE</td>\n",
       "      <td>2001</td>\n",
       "      <td>83533.555216</td>\n",
       "      <td>74.712878</td>\n",
       "      <td>3217865.0</td>\n",
       "      <td>15.829</td>\n",
       "      <td>5.5</td>\n",
       "      <td>Middle East &amp; North Africa</td>\n",
       "      <td>High income</td>\n",
       "      <td>Good</td>\n",
       "    </tr>\n",
       "    <tr>\n",
       "      <th>United Arab Emirates</th>\n",
       "      <td>AE</td>\n",
       "      <td>ARE</td>\n",
       "      <td>1992</td>\n",
       "      <td>73154.277741</td>\n",
       "      <td>72.296415</td>\n",
       "      <td>2019014.0</td>\n",
       "      <td>23.501</td>\n",
       "      <td>7.6</td>\n",
       "      <td>Middle East &amp; North Africa</td>\n",
       "      <td>High income</td>\n",
       "      <td>Good</td>\n",
       "    </tr>\n",
       "    <tr>\n",
       "      <th>United Arab Emirates</th>\n",
       "      <td>AE</td>\n",
       "      <td>ARE</td>\n",
       "      <td>1994</td>\n",
       "      <td>74683.888594</td>\n",
       "      <td>72.845585</td>\n",
       "      <td>2238281.0</td>\n",
       "      <td>21.263</td>\n",
       "      <td>6.9</td>\n",
       "      <td>Middle East &amp; North Africa</td>\n",
       "      <td>High income</td>\n",
       "      <td>Good</td>\n",
       "    </tr>\n",
       "    <tr>\n",
       "      <th>United Arab Emirates</th>\n",
       "      <td>AE</td>\n",
       "      <td>ARE</td>\n",
       "      <td>2007</td>\n",
       "      <td>75426.793513</td>\n",
       "      <td>76.111171</td>\n",
       "      <td>6010100.0</td>\n",
       "      <td>12.814</td>\n",
       "      <td>4.7</td>\n",
       "      <td>Middle East &amp; North Africa</td>\n",
       "      <td>High income</td>\n",
       "      <td>Good</td>\n",
       "    </tr>\n",
       "    <tr>\n",
       "      <th>United Arab Emirates</th>\n",
       "      <td>AE</td>\n",
       "      <td>ARE</td>\n",
       "      <td>2004</td>\n",
       "      <td>87843.708107</td>\n",
       "      <td>75.457268</td>\n",
       "      <td>3975945.0</td>\n",
       "      <td>14.240</td>\n",
       "      <td>5.1</td>\n",
       "      <td>Middle East &amp; North Africa</td>\n",
       "      <td>High income</td>\n",
       "      <td>Good</td>\n",
       "    </tr>\n",
       "    <tr>\n",
       "      <th>United Arab Emirates</th>\n",
       "      <td>AE</td>\n",
       "      <td>ARE</td>\n",
       "      <td>1996</td>\n",
       "      <td>79480.467479</td>\n",
       "      <td>73.383927</td>\n",
       "      <td>2467726.0</td>\n",
       "      <td>19.309</td>\n",
       "      <td>6.4</td>\n",
       "      <td>Middle East &amp; North Africa</td>\n",
       "      <td>High income</td>\n",
       "      <td>Good</td>\n",
       "    </tr>\n",
       "    <tr>\n",
       "      <th>United Arab Emirates</th>\n",
       "      <td>AE</td>\n",
       "      <td>ARE</td>\n",
       "      <td>2006</td>\n",
       "      <td>82754.281976</td>\n",
       "      <td>75.904537</td>\n",
       "      <td>5171255.0</td>\n",
       "      <td>13.255</td>\n",
       "      <td>4.9</td>\n",
       "      <td>Middle East &amp; North Africa</td>\n",
       "      <td>High income</td>\n",
       "      <td>Good</td>\n",
       "    </tr>\n",
       "    <tr>\n",
       "      <th>United Arab Emirates</th>\n",
       "      <td>AE</td>\n",
       "      <td>ARE</td>\n",
       "      <td>2000</td>\n",
       "      <td>84974.894091</td>\n",
       "      <td>74.451537</td>\n",
       "      <td>3050128.0</td>\n",
       "      <td>16.399</td>\n",
       "      <td>5.6</td>\n",
       "      <td>Middle East &amp; North Africa</td>\n",
       "      <td>High income</td>\n",
       "      <td>Good</td>\n",
       "    </tr>\n",
       "    <tr>\n",
       "      <th>United Arab Emirates</th>\n",
       "      <td>AE</td>\n",
       "      <td>ARE</td>\n",
       "      <td>1999</td>\n",
       "      <td>79262.386452</td>\n",
       "      <td>74.187171</td>\n",
       "      <td>2884188.0</td>\n",
       "      <td>17.018</td>\n",
       "      <td>5.8</td>\n",
       "      <td>Middle East &amp; North Africa</td>\n",
       "      <td>High income</td>\n",
       "      <td>Good</td>\n",
       "    </tr>\n",
       "    <tr>\n",
       "      <th>United Arab Emirates</th>\n",
       "      <td>AE</td>\n",
       "      <td>ARE</td>\n",
       "      <td>1990</td>\n",
       "      <td>74017.300650</td>\n",
       "      <td>71.720146</td>\n",
       "      <td>1811458.0</td>\n",
       "      <td>25.768</td>\n",
       "      <td>8.2</td>\n",
       "      <td>Middle East &amp; North Africa</td>\n",
       "      <td>High income</td>\n",
       "      <td>Good</td>\n",
       "    </tr>\n",
       "    <tr>\n",
       "      <th>United Arab Emirates</th>\n",
       "      <td>AE</td>\n",
       "      <td>ARE</td>\n",
       "      <td>1997</td>\n",
       "      <td>83165.263147</td>\n",
       "      <td>73.652659</td>\n",
       "      <td>2595220.0</td>\n",
       "      <td>18.466</td>\n",
       "      <td>6.2</td>\n",
       "      <td>Middle East &amp; North Africa</td>\n",
       "      <td>High income</td>\n",
       "      <td>Good</td>\n",
       "    </tr>\n",
       "    <tr>\n",
       "      <th>United Arab Emirates</th>\n",
       "      <td>AE</td>\n",
       "      <td>ARE</td>\n",
       "      <td>2005</td>\n",
       "      <td>84338.359407</td>\n",
       "      <td>75.686390</td>\n",
       "      <td>4481976.0</td>\n",
       "      <td>13.735</td>\n",
       "      <td>5.0</td>\n",
       "      <td>Middle East &amp; North Africa</td>\n",
       "      <td>High income</td>\n",
       "      <td>Good</td>\n",
       "    </tr>\n",
       "    <tr>\n",
       "      <th>United Arab Emirates</th>\n",
       "      <td>AE</td>\n",
       "      <td>ARE</td>\n",
       "      <td>1998</td>\n",
       "      <td>80040.216703</td>\n",
       "      <td>73.920220</td>\n",
       "      <td>2733770.0</td>\n",
       "      <td>17.703</td>\n",
       "      <td>6.0</td>\n",
       "      <td>Middle East &amp; North Africa</td>\n",
       "      <td>High income</td>\n",
       "      <td>Good</td>\n",
       "    </tr>\n",
       "    <tr>\n",
       "      <th>United Arab Emirates</th>\n",
       "      <td>AE</td>\n",
       "      <td>ARE</td>\n",
       "      <td>2008</td>\n",
       "      <td>69124.396211</td>\n",
       "      <td>76.307756</td>\n",
       "      <td>6900142.0</td>\n",
       "      <td>12.423</td>\n",
       "      <td>4.6</td>\n",
       "      <td>Middle East &amp; North Africa</td>\n",
       "      <td>High income</td>\n",
       "      <td>Good</td>\n",
       "    </tr>\n",
       "    <tr>\n",
       "      <th>United Arab Emirates</th>\n",
       "      <td>AE</td>\n",
       "      <td>ARE</td>\n",
       "      <td>2012</td>\n",
       "      <td>61172.994788</td>\n",
       "      <td>77.024146</td>\n",
       "      <td>8952542.0</td>\n",
       "      <td>11.273</td>\n",
       "      <td>4.0</td>\n",
       "      <td>Middle East &amp; North Africa</td>\n",
       "      <td>High income</td>\n",
       "      <td>Good</td>\n",
       "    </tr>\n",
       "    <tr>\n",
       "      <th>United Arab Emirates</th>\n",
       "      <td>AE</td>\n",
       "      <td>ARE</td>\n",
       "      <td>2011</td>\n",
       "      <td>57594.126683</td>\n",
       "      <td>76.851195</td>\n",
       "      <td>8734722.0</td>\n",
       "      <td>11.514</td>\n",
       "      <td>4.1</td>\n",
       "      <td>Middle East &amp; North Africa</td>\n",
       "      <td>High income</td>\n",
       "      <td>Good</td>\n",
       "    </tr>\n",
       "    <tr>\n",
       "      <th>United Arab Emirates</th>\n",
       "      <td>AE</td>\n",
       "      <td>ARE</td>\n",
       "      <td>2009</td>\n",
       "      <td>59100.380538</td>\n",
       "      <td>76.494780</td>\n",
       "      <td>7705423.0</td>\n",
       "      <td>12.079</td>\n",
       "      <td>4.5</td>\n",
       "      <td>Middle East &amp; North Africa</td>\n",
       "      <td>High income</td>\n",
       "      <td>Good</td>\n",
       "    </tr>\n",
       "    <tr>\n",
       "      <th>United Arab Emirates</th>\n",
       "      <td>AE</td>\n",
       "      <td>ARE</td>\n",
       "      <td>1995</td>\n",
       "      <td>77467.244845</td>\n",
       "      <td>73.115073</td>\n",
       "      <td>2350192.0</td>\n",
       "      <td>20.239</td>\n",
       "      <td>6.6</td>\n",
       "      <td>Middle East &amp; North Africa</td>\n",
       "      <td>High income</td>\n",
       "      <td>Good</td>\n",
       "    </tr>\n",
       "    <tr>\n",
       "      <th>United Arab Emirates</th>\n",
       "      <td>AE</td>\n",
       "      <td>ARE</td>\n",
       "      <td>2002</td>\n",
       "      <td>82369.685017</td>\n",
       "      <td>74.968268</td>\n",
       "      <td>3394060.0</td>\n",
       "      <td>15.287</td>\n",
       "      <td>5.4</td>\n",
       "      <td>Middle East &amp; North Africa</td>\n",
       "      <td>High income</td>\n",
       "      <td>Good</td>\n",
       "    </tr>\n",
       "    <tr>\n",
       "      <th>United Arab Emirates</th>\n",
       "      <td>AE</td>\n",
       "      <td>ARE</td>\n",
       "      <td>2014</td>\n",
       "      <td>67921.399464</td>\n",
       "      <td>77.368171</td>\n",
       "      <td>9086139.0</td>\n",
       "      <td>10.819</td>\n",
       "      <td>3.6</td>\n",
       "      <td>Middle East &amp; North Africa</td>\n",
       "      <td>High income</td>\n",
       "      <td>Good</td>\n",
       "    </tr>\n",
       "    <tr>\n",
       "      <th>United Arab Emirates</th>\n",
       "      <td>AE</td>\n",
       "      <td>ARE</td>\n",
       "      <td>2013</td>\n",
       "      <td>64229.464986</td>\n",
       "      <td>77.195634</td>\n",
       "      <td>9039978.0</td>\n",
       "      <td>11.044</td>\n",
       "      <td>3.8</td>\n",
       "      <td>Middle East &amp; North Africa</td>\n",
       "      <td>High income</td>\n",
       "      <td>Good</td>\n",
       "    </tr>\n",
       "    <tr>\n",
       "      <th>United Arab Emirates</th>\n",
       "      <td>AE</td>\n",
       "      <td>ARE</td>\n",
       "      <td>2003</td>\n",
       "      <td>85563.636417</td>\n",
       "      <td>75.217220</td>\n",
       "      <td>3625798.0</td>\n",
       "      <td>14.759</td>\n",
       "      <td>5.2</td>\n",
       "      <td>Middle East &amp; North Africa</td>\n",
       "      <td>High income</td>\n",
       "      <td>Good</td>\n",
       "    </tr>\n",
       "    <tr>\n",
       "      <th>United Arab Emirates</th>\n",
       "      <td>AE</td>\n",
       "      <td>ARE</td>\n",
       "      <td>2010</td>\n",
       "      <td>56245.478159</td>\n",
       "      <td>76.675244</td>\n",
       "      <td>8329453.0</td>\n",
       "      <td>11.778</td>\n",
       "      <td>4.3</td>\n",
       "      <td>Middle East &amp; North Africa</td>\n",
       "      <td>High income</td>\n",
       "      <td>Good</td>\n",
       "    </tr>\n",
       "  </tbody>\n",
       "</table>\n",
       "</div>"
      ],
      "text/plain": [
       "                     iso2c iso3c  ...       income  life_expect_range\n",
       "country                           ...                                \n",
       "Andorra                 AD   AND  ...  High income                Low\n",
       "Andorra                 AD   AND  ...  High income                Low\n",
       "Andorra                 AD   AND  ...  High income                Low\n",
       "Andorra                 AD   AND  ...  High income                Low\n",
       "Andorra                 AD   AND  ...  High income                Low\n",
       "Andorra                 AD   AND  ...  High income                Low\n",
       "Andorra                 AD   AND  ...  High income                Low\n",
       "Andorra                 AD   AND  ...  High income                Low\n",
       "Andorra                 AD   AND  ...  High income                Low\n",
       "Andorra                 AD   AND  ...  High income                Low\n",
       "Andorra                 AD   AND  ...  High income                Low\n",
       "Andorra                 AD   AND  ...  High income                Low\n",
       "Andorra                 AD   AND  ...  High income                Low\n",
       "Andorra                 AD   AND  ...  High income                Low\n",
       "Andorra                 AD   AND  ...  High income                Low\n",
       "Andorra                 AD   AND  ...  High income                Low\n",
       "Andorra                 AD   AND  ...  High income                Low\n",
       "Andorra                 AD   AND  ...  High income                Low\n",
       "Andorra                 AD   AND  ...  High income                Low\n",
       "Andorra                 AD   AND  ...  High income                Low\n",
       "Andorra                 AD   AND  ...  High income                Low\n",
       "Andorra                 AD   AND  ...  High income                Low\n",
       "Andorra                 AD   AND  ...  High income                Low\n",
       "Andorra                 AD   AND  ...  High income                Low\n",
       "Andorra                 AD   AND  ...  High income                Low\n",
       "United Arab Emirates    AE   ARE  ...  High income               Good\n",
       "United Arab Emirates    AE   ARE  ...  High income               Good\n",
       "United Arab Emirates    AE   ARE  ...  High income               Good\n",
       "United Arab Emirates    AE   ARE  ...  High income               Good\n",
       "United Arab Emirates    AE   ARE  ...  High income               Good\n",
       "United Arab Emirates    AE   ARE  ...  High income               Good\n",
       "United Arab Emirates    AE   ARE  ...  High income               Good\n",
       "United Arab Emirates    AE   ARE  ...  High income               Good\n",
       "United Arab Emirates    AE   ARE  ...  High income               Good\n",
       "United Arab Emirates    AE   ARE  ...  High income               Good\n",
       "United Arab Emirates    AE   ARE  ...  High income               Good\n",
       "United Arab Emirates    AE   ARE  ...  High income               Good\n",
       "United Arab Emirates    AE   ARE  ...  High income               Good\n",
       "United Arab Emirates    AE   ARE  ...  High income               Good\n",
       "United Arab Emirates    AE   ARE  ...  High income               Good\n",
       "United Arab Emirates    AE   ARE  ...  High income               Good\n",
       "United Arab Emirates    AE   ARE  ...  High income               Good\n",
       "United Arab Emirates    AE   ARE  ...  High income               Good\n",
       "United Arab Emirates    AE   ARE  ...  High income               Good\n",
       "United Arab Emirates    AE   ARE  ...  High income               Good\n",
       "United Arab Emirates    AE   ARE  ...  High income               Good\n",
       "United Arab Emirates    AE   ARE  ...  High income               Good\n",
       "United Arab Emirates    AE   ARE  ...  High income               Good\n",
       "United Arab Emirates    AE   ARE  ...  High income               Good\n",
       "United Arab Emirates    AE   ARE  ...  High income               Good\n",
       "\n",
       "[50 rows x 11 columns]"
      ]
     },
     "execution_count": 88,
     "metadata": {
      "tags": []
     },
     "output_type": "execute_result"
    }
   ],
   "source": [
    "def life_expect_range(x):\n",
    "    if x >= 70:\n",
    "      return 'Good'\n",
    "    elif x > 50:\n",
    "      return 'Normal'\n",
    "    else:\n",
    "      return 'Low'\n",
    "\n",
    "df['life_expect_range'] = df['life_expect'].apply(life_expect_range)\n",
    "df.head(50)"
   ]
  },
  {
   "cell_type": "markdown",
   "metadata": {
    "colab_type": "text",
    "id": "jkEMS3X6BQrI"
   },
   "source": [
    "#### Useful references\n",
    "https://github.com/guipsamora/pandas_exercises - Includes a lot of practice exercises for Pandas"
   ]
  },
  {
   "cell_type": "code",
   "execution_count": null,
   "metadata": {
    "collapsed": true
   },
   "outputs": [],
   "source": []
  }
 ],
 "metadata": {
  "colab": {
   "authorship_tag": "ABX9TyPKC3MH1m+/LLqZ7i8n70Mj",
   "collapsed_sections": [],
   "name": "Exercises with solutions.ipynb",
   "provenance": []
  },
  "kernelspec": {
   "display_name": "Python 3",
   "language": "python",
   "name": "python3"
  },
  "language_info": {
   "codemirror_mode": {
    "name": "ipython",
    "version": 3
   },
   "file_extension": ".py",
   "mimetype": "text/x-python",
   "name": "python",
   "nbconvert_exporter": "python",
   "pygments_lexer": "ipython3",
   "version": "3.6.3"
  }
 },
 "nbformat": 4,
 "nbformat_minor": 1
}
