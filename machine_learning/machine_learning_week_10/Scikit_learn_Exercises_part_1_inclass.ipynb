{
  "nbformat": 4,
  "nbformat_minor": 0,
  "metadata": {
    "colab": {
      "name": "Scikit_learn_Exercises_part_1_inclass.ipynb",
      "provenance": [],
      "collapsed_sections": []
    },
    "kernelspec": {
      "name": "python3",
      "display_name": "Python 3"
    }
  },
  "cells": [
    {
      "cell_type": "markdown",
      "metadata": {
        "id": "b36xEEI9o6nb"
      },
      "source": [
        "#### For the exercises we will use **Iris flower dataset**\n",
        "\n",
        "#### The data set consists of 50 samples from each of three species of Iris (Iris setosa, Iris virginica and Iris versicolor). Four features were measured from each sample: the length and the width of the sepals and petals, in centimeters. Based on the combination of these four features, Fisher developed a linear discriminant model to distinguish the species from each other."
      ]
    },
    {
      "cell_type": "markdown",
      "metadata": {
        "id": "HoEjyts24zTu"
      },
      "source": [
        "#### Loading libraries"
      ]
    },
    {
      "cell_type": "code",
      "metadata": {
        "id": "x0hMshdz4yZs"
      },
      "source": [
        "# Numpy for numerical analysis\n",
        "import numpy as np\n",
        "\n",
        "# Pandas for reading and exploring dataset\n",
        "import pandas as pd\n",
        "\n",
        "# Matplotlib for data visualization\n",
        "import matplotlib.pyplot as plt\n",
        "\n",
        "# For showing learning metrics  \n",
        "from sklearn import metrics\n",
        "\n",
        "# For all the metrics\n",
        "\n",
        "# MSE\n",
        "from sklearn.metrics import mean_squared_error\n",
        "\n",
        "# For accuracy score\n",
        "from sklearn.metrics import accuracy_score\n",
        "\n",
        "# For splitting input data in to train and test dataset\n",
        "from sklearn.model_selection import train_test_split\n",
        "\n",
        "# For importing methods related to preprocessinng\n",
        "from sklearn import preprocessing\n",
        "\n",
        "# Importing scikit-learn algorithms\n",
        "\n",
        "# Linear regression\n",
        "from sklearn.linear_model import LinearRegression\n",
        "\n",
        "# SVM\n",
        "\n",
        "# Decision tree\n",
        "\n",
        "# Random forest\n",
        "\n",
        "# Logistic regression\n",
        "from sklearn.linear_model import LogisticRegression"
      ],
      "execution_count": 1,
      "outputs": []
    },
    {
      "cell_type": "markdown",
      "metadata": {
        "id": "feTTmaiV45rQ"
      },
      "source": [
        "#### Loading data"
      ]
    },
    {
      "cell_type": "code",
      "metadata": {
        "id": "P2DJTOFL4-IZ"
      },
      "source": [
        "iris = pd.read_csv(\"https://raw.githubusercontent.com/vamsivarma/datasets/master/machine_learning/iris/iris_orig.csv\")"
      ],
      "execution_count": 2,
      "outputs": []
    },
    {
      "cell_type": "code",
      "source": [
        "iris.head()"
      ],
      "metadata": {
        "colab": {
          "base_uri": "https://localhost:8080/",
          "height": 206
        },
        "id": "rTdiCZyvGHsO",
        "outputId": "ab0978de-c21d-4ded-fd31-fc84c6b19bb7"
      },
      "execution_count": 3,
      "outputs": [
        {
          "output_type": "execute_result",
          "data": {
            "text/plain": [
              "   sepal_length  sepal_width  petal_length  petal_width species\n",
              "0           5.1          3.5           1.4          0.2  setosa\n",
              "1           4.9          3.0           1.4          0.2  setosa\n",
              "2           4.7          3.2           1.3          0.2  setosa\n",
              "3           4.6          3.1           1.5          0.2  setosa\n",
              "4           5.0          3.6           1.4          0.2  setosa"
            ],
            "text/html": [
              "\n",
              "  <div id=\"df-d75f178f-1b91-492b-b27d-97cdceded8f8\">\n",
              "    <div class=\"colab-df-container\">\n",
              "      <div>\n",
              "<style scoped>\n",
              "    .dataframe tbody tr th:only-of-type {\n",
              "        vertical-align: middle;\n",
              "    }\n",
              "\n",
              "    .dataframe tbody tr th {\n",
              "        vertical-align: top;\n",
              "    }\n",
              "\n",
              "    .dataframe thead th {\n",
              "        text-align: right;\n",
              "    }\n",
              "</style>\n",
              "<table border=\"1\" class=\"dataframe\">\n",
              "  <thead>\n",
              "    <tr style=\"text-align: right;\">\n",
              "      <th></th>\n",
              "      <th>sepal_length</th>\n",
              "      <th>sepal_width</th>\n",
              "      <th>petal_length</th>\n",
              "      <th>petal_width</th>\n",
              "      <th>species</th>\n",
              "    </tr>\n",
              "  </thead>\n",
              "  <tbody>\n",
              "    <tr>\n",
              "      <th>0</th>\n",
              "      <td>5.1</td>\n",
              "      <td>3.5</td>\n",
              "      <td>1.4</td>\n",
              "      <td>0.2</td>\n",
              "      <td>setosa</td>\n",
              "    </tr>\n",
              "    <tr>\n",
              "      <th>1</th>\n",
              "      <td>4.9</td>\n",
              "      <td>3.0</td>\n",
              "      <td>1.4</td>\n",
              "      <td>0.2</td>\n",
              "      <td>setosa</td>\n",
              "    </tr>\n",
              "    <tr>\n",
              "      <th>2</th>\n",
              "      <td>4.7</td>\n",
              "      <td>3.2</td>\n",
              "      <td>1.3</td>\n",
              "      <td>0.2</td>\n",
              "      <td>setosa</td>\n",
              "    </tr>\n",
              "    <tr>\n",
              "      <th>3</th>\n",
              "      <td>4.6</td>\n",
              "      <td>3.1</td>\n",
              "      <td>1.5</td>\n",
              "      <td>0.2</td>\n",
              "      <td>setosa</td>\n",
              "    </tr>\n",
              "    <tr>\n",
              "      <th>4</th>\n",
              "      <td>5.0</td>\n",
              "      <td>3.6</td>\n",
              "      <td>1.4</td>\n",
              "      <td>0.2</td>\n",
              "      <td>setosa</td>\n",
              "    </tr>\n",
              "  </tbody>\n",
              "</table>\n",
              "</div>\n",
              "      <button class=\"colab-df-convert\" onclick=\"convertToInteractive('df-d75f178f-1b91-492b-b27d-97cdceded8f8')\"\n",
              "              title=\"Convert this dataframe to an interactive table.\"\n",
              "              style=\"display:none;\">\n",
              "        \n",
              "  <svg xmlns=\"http://www.w3.org/2000/svg\" height=\"24px\"viewBox=\"0 0 24 24\"\n",
              "       width=\"24px\">\n",
              "    <path d=\"M0 0h24v24H0V0z\" fill=\"none\"/>\n",
              "    <path d=\"M18.56 5.44l.94 2.06.94-2.06 2.06-.94-2.06-.94-.94-2.06-.94 2.06-2.06.94zm-11 1L8.5 8.5l.94-2.06 2.06-.94-2.06-.94L8.5 2.5l-.94 2.06-2.06.94zm10 10l.94 2.06.94-2.06 2.06-.94-2.06-.94-.94-2.06-.94 2.06-2.06.94z\"/><path d=\"M17.41 7.96l-1.37-1.37c-.4-.4-.92-.59-1.43-.59-.52 0-1.04.2-1.43.59L10.3 9.45l-7.72 7.72c-.78.78-.78 2.05 0 2.83L4 21.41c.39.39.9.59 1.41.59.51 0 1.02-.2 1.41-.59l7.78-7.78 2.81-2.81c.8-.78.8-2.07 0-2.86zM5.41 20L4 18.59l7.72-7.72 1.47 1.35L5.41 20z\"/>\n",
              "  </svg>\n",
              "      </button>\n",
              "      \n",
              "  <style>\n",
              "    .colab-df-container {\n",
              "      display:flex;\n",
              "      flex-wrap:wrap;\n",
              "      gap: 12px;\n",
              "    }\n",
              "\n",
              "    .colab-df-convert {\n",
              "      background-color: #E8F0FE;\n",
              "      border: none;\n",
              "      border-radius: 50%;\n",
              "      cursor: pointer;\n",
              "      display: none;\n",
              "      fill: #1967D2;\n",
              "      height: 32px;\n",
              "      padding: 0 0 0 0;\n",
              "      width: 32px;\n",
              "    }\n",
              "\n",
              "    .colab-df-convert:hover {\n",
              "      background-color: #E2EBFA;\n",
              "      box-shadow: 0px 1px 2px rgba(60, 64, 67, 0.3), 0px 1px 3px 1px rgba(60, 64, 67, 0.15);\n",
              "      fill: #174EA6;\n",
              "    }\n",
              "\n",
              "    [theme=dark] .colab-df-convert {\n",
              "      background-color: #3B4455;\n",
              "      fill: #D2E3FC;\n",
              "    }\n",
              "\n",
              "    [theme=dark] .colab-df-convert:hover {\n",
              "      background-color: #434B5C;\n",
              "      box-shadow: 0px 1px 3px 1px rgba(0, 0, 0, 0.15);\n",
              "      filter: drop-shadow(0px 1px 2px rgba(0, 0, 0, 0.3));\n",
              "      fill: #FFFFFF;\n",
              "    }\n",
              "  </style>\n",
              "\n",
              "      <script>\n",
              "        const buttonEl =\n",
              "          document.querySelector('#df-d75f178f-1b91-492b-b27d-97cdceded8f8 button.colab-df-convert');\n",
              "        buttonEl.style.display =\n",
              "          google.colab.kernel.accessAllowed ? 'block' : 'none';\n",
              "\n",
              "        async function convertToInteractive(key) {\n",
              "          const element = document.querySelector('#df-d75f178f-1b91-492b-b27d-97cdceded8f8');\n",
              "          const dataTable =\n",
              "            await google.colab.kernel.invokeFunction('convertToInteractive',\n",
              "                                                     [key], {});\n",
              "          if (!dataTable) return;\n",
              "\n",
              "          const docLinkHtml = 'Like what you see? Visit the ' +\n",
              "            '<a target=\"_blank\" href=https://colab.research.google.com/notebooks/data_table.ipynb>data table notebook</a>'\n",
              "            + ' to learn more about interactive tables.';\n",
              "          element.innerHTML = '';\n",
              "          dataTable['output_type'] = 'display_data';\n",
              "          await google.colab.output.renderOutput(dataTable, element);\n",
              "          const docLink = document.createElement('div');\n",
              "          docLink.innerHTML = docLinkHtml;\n",
              "          element.appendChild(docLink);\n",
              "        }\n",
              "      </script>\n",
              "    </div>\n",
              "  </div>\n",
              "  "
            ]
          },
          "metadata": {},
          "execution_count": 3
        }
      ]
    },
    {
      "cell_type": "markdown",
      "metadata": {
        "id": "A6HQzgyYpU4q"
      },
      "source": [
        "# Exercises"
      ]
    },
    {
      "cell_type": "markdown",
      "metadata": {
        "id": "kOF3yLAUpbDF"
      },
      "source": [
        "**Exercise 1**: Write a Python program to split the iris dataset into its attributes (X) and labels (y). The X variable contains the first four columns (i.e. attributes) and y contains the labels of the dataset."
      ]
    },
    {
      "cell_type": "code",
      "metadata": {
        "id": "JEdPqDgqfro4"
      },
      "source": [
        ""
      ],
      "execution_count": null,
      "outputs": []
    },
    {
      "cell_type": "markdown",
      "metadata": {
        "id": "aUrDXLRPsxJF"
      },
      "source": [
        "**Exercise 2**: Write a Python program using Scikit-learn to split the iris dataset into 70% train data and 30% test data. Out of total 150 records, the training set will contain 120 records and the test set contains 30 of those records. Print both datasets."
      ]
    },
    {
      "cell_type": "code",
      "metadata": {
        "id": "zX0j8gqms4Gk"
      },
      "source": [
        ""
      ],
      "execution_count": null,
      "outputs": []
    },
    {
      "cell_type": "markdown",
      "metadata": {
        "id": "9FSz4PLn34xR"
      },
      "source": [
        "**Exercise 3**: Write a Python program using Scikit-learn to convert Species columns in a numerical column of the iris dataframe. To encode this data map convert each value to a number. e.g. Iris-setosa:0, Iris-versicolor:1, and Iris-virginica:2. Now print the iris dataset into 80% train data and 20% test data. Out of total 150 records, the training set will contain 120 records and the test set contains 30 of those records. Print both datasets."
      ]
    },
    {
      "cell_type": "code",
      "metadata": {
        "id": "PK-1L2xY35EM"
      },
      "source": [
        ""
      ],
      "execution_count": null,
      "outputs": []
    },
    {
      "cell_type": "markdown",
      "metadata": {
        "id": "g_0i-iukCYk2"
      },
      "source": [
        "Exercises related to Logistic regression"
      ]
    },
    {
      "cell_type": "markdown",
      "metadata": {
        "id": "B1NmDUmCCdb9"
      },
      "source": [
        "**Exercise 8**: Write a Python program to view some basic statistical details like percentile, mean, std etc. of the species of 'Iris-setosa', 'Iris-versicolor' and 'Iris-virginica'"
      ]
    },
    {
      "cell_type": "code",
      "metadata": {
        "id": "gtakiBdMCgzr"
      },
      "source": [
        ""
      ],
      "execution_count": null,
      "outputs": []
    },
    {
      "cell_type": "markdown",
      "metadata": {
        "id": "of7i7MI1DaYX"
      },
      "source": [
        "**Exercise 9**: Write a Python program to create a scatter plot using sepal length and petal_width to separate the Species classes."
      ]
    },
    {
      "cell_type": "code",
      "metadata": {
        "id": "r7YTNAB7Dq7C"
      },
      "source": [
        ""
      ],
      "execution_count": null,
      "outputs": []
    },
    {
      "cell_type": "markdown",
      "metadata": {
        "id": "JBLtOFyvD1Qz"
      },
      "source": [
        "**Exercise 10**: Write a Python program to get the accuracy of the Logistic Regression."
      ]
    },
    {
      "cell_type": "code",
      "metadata": {
        "id": "BhOSN5LHD1vC"
      },
      "source": [
        ""
      ],
      "execution_count": null,
      "outputs": []
    },
    {
      "cell_type": "markdown",
      "metadata": {
        "id": "K-CKMgDlEjbQ"
      },
      "source": [
        "**Exercise 11**: Apply Linear regression on Iris dataset"
      ]
    },
    {
      "cell_type": "code",
      "metadata": {
        "id": "uVdLjMmzEjum"
      },
      "source": [
        ""
      ],
      "execution_count": null,
      "outputs": []
    },
    {
      "cell_type": "markdown",
      "metadata": {
        "id": "ez8MOaYfExBS"
      },
      "source": [
        "**Exercise 12**: Apply SVM on Iris dataset"
      ]
    },
    {
      "cell_type": "code",
      "metadata": {
        "id": "JZrmYgQZExTF"
      },
      "source": [
        ""
      ],
      "execution_count": null,
      "outputs": []
    },
    {
      "cell_type": "markdown",
      "metadata": {
        "id": "gEos6YOPF1ii"
      },
      "source": [
        "**Exercise 16**: Apply Decision tree on Iris dataset"
      ]
    },
    {
      "cell_type": "code",
      "metadata": {
        "id": "xkwy7SXxF14f"
      },
      "source": [
        ""
      ],
      "execution_count": null,
      "outputs": []
    },
    {
      "cell_type": "markdown",
      "metadata": {
        "id": "JYJ1t8ThGEzi"
      },
      "source": [
        "**Exercise 17**: Apply Random forest on Iris dataset"
      ]
    },
    {
      "cell_type": "code",
      "metadata": {
        "id": "UdHCMCkWGFRE"
      },
      "source": [
        ""
      ],
      "execution_count": null,
      "outputs": []
    },
    {
      "cell_type": "markdown",
      "metadata": {
        "id": "JOpQ9jS4FSSb"
      },
      "source": [
        "**Exercise 20**: Find accuracy score for all the algorithms (Linear regression, Logistic regression, SVM, Decision tree etc..,) mentioned above and compare them"
      ]
    },
    {
      "cell_type": "code",
      "metadata": {
        "id": "JsVW5fFXFSi3"
      },
      "source": [
        ""
      ],
      "execution_count": null,
      "outputs": []
    },
    {
      "cell_type": "markdown",
      "metadata": {
        "id": "GEtjRR0HGrQK"
      },
      "source": [
        "**Exercise 21**: Find classification report score for all the algorithms (Linear regression, Logistic regression, SVM, Decision tree etc..,) mentioned above and compare them"
      ]
    },
    {
      "cell_type": "code",
      "metadata": {
        "id": "eMsbRQzEGrib"
      },
      "source": [
        ""
      ],
      "execution_count": null,
      "outputs": []
    },
    {
      "cell_type": "markdown",
      "metadata": {
        "id": "TZjTzfrvGxaW"
      },
      "source": [
        "**Exercise 22**: Find confusion matrix for all the classification algorithms (Logistic regression, SVM, Decision tree etc..,) mentioned above and compare them"
      ]
    },
    {
      "cell_type": "code",
      "metadata": {
        "id": "vSqSlwhyGx1X"
      },
      "source": [
        ""
      ],
      "execution_count": null,
      "outputs": []
    },
    {
      "cell_type": "markdown",
      "metadata": {
        "id": "mMHYfxFLfxUK"
      },
      "source": [
        "# References\n",
        "https://www.w3resource.com/machine-learning/scikit-learn/iris/index.php"
      ]
    }
  ]
}