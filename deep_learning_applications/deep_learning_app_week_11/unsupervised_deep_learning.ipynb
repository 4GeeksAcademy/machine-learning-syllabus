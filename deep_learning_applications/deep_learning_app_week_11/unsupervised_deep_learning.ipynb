{
  "nbformat": 4,
  "nbformat_minor": 0,
  "metadata": {
    "colab": {
      "name": "unsupervised_deep_learning.ipynb",
      "provenance": [],
      "collapsed_sections": []
    },
    "kernelspec": {
      "name": "python3",
      "display_name": "Python 3"
    },
    "language_info": {
      "name": "python"
    },
    "accelerator": "GPU"
  },
  "cells": [
    {
      "cell_type": "markdown",
      "source": [
        "#**Unsupervised Deep Learning: AutoEncoders**"
      ],
      "metadata": {
        "id": "eFP-hasx6lAi"
      }
    },
    {
      "cell_type": "markdown",
      "source": [
        "#**All Common Libraries Imports**"
      ],
      "metadata": {
        "id": "kaCvYKn2y5yo"
      }
    },
    {
      "cell_type": "code",
      "source": [
        "import numpy as np\n",
        "import matplotlib.pyplot as plt"
      ],
      "metadata": {
        "id": "VA_7WZDsy6hv"
      },
      "execution_count": 61,
      "outputs": []
    },
    {
      "cell_type": "markdown",
      "source": [
        "#**All Tensorflow/Keras Imports**"
      ],
      "metadata": {
        "id": "1by3WKAOxrF-"
      }
    },
    {
      "cell_type": "code",
      "source": [
        "from tensorflow.keras import Input, Model \n",
        "from tensorflow.keras.layers import Dense, Conv2D, MaxPooling2D, UpSampling2D\n",
        "from tensorflow.keras.datasets import mnist"
      ],
      "metadata": {
        "id": "YbKPtG6KxxDb"
      },
      "execution_count": 62,
      "outputs": []
    },
    {
      "cell_type": "markdown",
      "source": [
        "#**All Globals**"
      ],
      "metadata": {
        "id": "F4DqFFSByDWn"
      }
    },
    {
      "cell_type": "markdown",
      "source": [
        "We define the size of internal encoded representations, also called the \"thoughts vector\" or \"representation vector\"\n"
      ],
      "metadata": {
        "id": "_NlUz6zwyKis"
      }
    },
    {
      "cell_type": "code",
      "source": [
        "encoding_dim = 32                   # 32 floats\n",
        "n = 10                              # Number of digits to plot \n",
        "noise_factor = 0.5                  # Nois Factor\n",
        "deep_dense = False                  # Deep Fully Connected Autoencoder\n",
        "convolutional_autoencoder = True    # Convolutional Autoencoder\n",
        "noisy_input = True                  # Add Noise to Input"
      ],
      "metadata": {
        "id": "le-y9SJKx_nO"
      },
      "execution_count": 63,
      "outputs": []
    },
    {
      "cell_type": "markdown",
      "source": [
        "#**All Datasets Downloads**"
      ],
      "metadata": {
        "id": "HWS0FuPVyh6o"
      }
    },
    {
      "cell_type": "markdown",
      "source": [
        "We discard train_y and test_y because we do not have them in norma Unsupervised Learning Applications"
      ],
      "metadata": {
        "id": "TVePD0o1ypqS"
      }
    },
    {
      "cell_type": "code",
      "source": [
        "(train_x, train_y), (test_x, test_y) = mnist.load_data()\n",
        "\n",
        "if noisy_input is True: \n",
        "  train_x = train_x + noise_factor * np.random.normal(loc=0.0, scale=1.0, size=train_x.shape) \n",
        "  test_x = test_x + noise_factor * np.random.normal(loc=0.0, scale=1.0, size=test_x.shape) \n",
        "\n",
        "  train_x = np.clip(train_x, 0., 1.)\n",
        "  test_x = np.clip(test_x, 0., 1.)"
      ],
      "metadata": {
        "id": "5KIUIMUGyldv"
      },
      "execution_count": 64,
      "outputs": []
    },
    {
      "cell_type": "code",
      "source": [
        "train_x.shape"
      ],
      "metadata": {
        "colab": {
          "base_uri": "https://localhost:8080/"
        },
        "id": "HhSe3tQAy_wK",
        "outputId": "aa284d57-9a22-47bf-f6ab-b7a988d801d9"
      },
      "execution_count": 65,
      "outputs": [
        {
          "output_type": "execute_result",
          "data": {
            "text/plain": [
              "(60000, 28, 28)"
            ]
          },
          "metadata": {},
          "execution_count": 65
        }
      ]
    },
    {
      "cell_type": "code",
      "source": [
        "test_x.shape"
      ],
      "metadata": {
        "colab": {
          "base_uri": "https://localhost:8080/"
        },
        "id": "rUoN2crKzWV0",
        "outputId": "ff681349-f878-450c-8d9a-5631b5750794"
      },
      "execution_count": 66,
      "outputs": [
        {
          "output_type": "execute_result",
          "data": {
            "text/plain": [
              "(10000, 28, 28)"
            ]
          },
          "metadata": {},
          "execution_count": 66
        }
      ]
    },
    {
      "cell_type": "markdown",
      "source": [
        "#**Dataset Sanity Check by Visualization**"
      ],
      "metadata": {
        "id": "3yr1NGJ4BIn8"
      }
    },
    {
      "cell_type": "code",
      "source": [
        "plt.figure(figsize=(20, 2))\n",
        "for i in range(1, n + 1):\n",
        "    ax = plt.subplot(1, n, i)\n",
        "    plt.imshow(test_x[i].reshape(28, 28))\n",
        "    plt.gray()\n",
        "    ax.get_xaxis().set_visible(False)\n",
        "    ax.get_yaxis().set_visible(False)\n",
        "plt.show()"
      ],
      "metadata": {
        "colab": {
          "base_uri": "https://localhost:8080/",
          "height": 128
        },
        "id": "sPbHc1HiBGmo",
        "outputId": "1447d531-021d-4db0-ddb8-6b9e9463b5f3"
      },
      "execution_count": 67,
      "outputs": [
        {
          "output_type": "display_data",
          "data": {
            "text/plain": [
              "<Figure size 1440x144 with 10 Axes>"
            ],
            "image/png": "[encoded data removed]"
          },
          "metadata": {
            "needs_background": "light"
          }
        }
      ]
    },
    {
      "cell_type": "markdown",
      "source": [
        "#**Data Normalization and Flattening**"
      ],
      "metadata": {
        "id": "lYhar8eI3La6"
      }
    },
    {
      "cell_type": "code",
      "source": [
        "train_x = train_x.astype('float32') / 255.\n",
        "test_x = test_x.astype('float32') / 255.\n",
        "\n",
        "if convolutional_autoencoder is True: \n",
        "  train_x = np.reshape(train_x, (len(train_x), 28, 28, 1))\n",
        "  test_x = np.reshape(test_x, (len(test_x), 28, 28, 1))\n",
        "else: \n",
        "  train_x = train_x.reshape((len(train_x), np.prod(train_x.shape[1:])))\n",
        "  test_x = test_x.reshape((len(test_x), np.prod(test_x.shape[1:])))"
      ],
      "metadata": {
        "id": "vOWuhFfV3Mtz"
      },
      "execution_count": 68,
      "outputs": []
    },
    {
      "cell_type": "code",
      "source": [
        "train_x.shape"
      ],
      "metadata": {
        "colab": {
          "base_uri": "https://localhost:8080/"
        },
        "id": "2aJ6zvZN3QIC",
        "outputId": "f2b00950-860e-483f-ad97-33b3a1c90a0e"
      },
      "execution_count": 69,
      "outputs": [
        {
          "output_type": "execute_result",
          "data": {
            "text/plain": [
              "(60000, 28, 28, 1)"
            ]
          },
          "metadata": {},
          "execution_count": 69
        }
      ]
    },
    {
      "cell_type": "code",
      "source": [
        "test_x.shape"
      ],
      "metadata": {
        "colab": {
          "base_uri": "https://localhost:8080/"
        },
        "id": "1OFTga-H3RgJ",
        "outputId": "8dd92281-bfc7-4378-981a-e8957cf1b11d"
      },
      "execution_count": 70,
      "outputs": [
        {
          "output_type": "execute_result",
          "data": {
            "text/plain": [
              "(10000, 28, 28, 1)"
            ]
          },
          "metadata": {},
          "execution_count": 70
        }
      ]
    },
    {
      "cell_type": "markdown",
      "source": [
        "#**Autoencoders**"
      ],
      "metadata": {
        "id": "qKLrS9Z-x1fj"
      }
    },
    {
      "cell_type": "markdown",
      "source": [
        "We start from the input image, then we have the \"**encoded**\" which is the encoded representation of the input and # \"**decoded**\" which is the lossy reconstruction of the input. After, we make a model mapping the input to its reconstruction and a model mapping the input to its **encoded representation**. Finally we retrieve the last layer of the **autoencoder** model and create the decoder model. We compile the **autoencoder** to use a per-pixel binary crossentropy loss, and the Adam optimizer. \n",
        "\n"
      ],
      "metadata": {
        "id": "vo24hPBUzqyn"
      }
    },
    {
      "cell_type": "code",
      "execution_count": 71,
      "metadata": {
        "id": "pGeYYIvvxTUO"
      },
      "outputs": [],
      "source": [
        "if convolutional_autoencoder is True: \n",
        "  input_img = Input(shape=(28, 28, 1))\n",
        "\n",
        "  x = Conv2D(16, (3, 3), activation='relu', padding='same')(input_img)\n",
        "  x = MaxPooling2D((2, 2), padding='same')(x)\n",
        "  x = Conv2D(8, (3, 3), activation='relu', padding='same')(x)\n",
        "  x = MaxPooling2D((2, 2), padding='same')(x)\n",
        "  x = Conv2D(8, (3, 3), activation='relu', padding='same')(x)\n",
        "  encoded = MaxPooling2D((2, 2), padding='same')(x)\n",
        "\n",
        "  x = Conv2D(8, (3, 3), activation='relu', padding='same')(encoded)\n",
        "  x = UpSampling2D((2, 2))(x)\n",
        "  x = Conv2D(8, (3, 3), activation='relu', padding='same')(x)\n",
        "  x = UpSampling2D((2, 2))(x)\n",
        "  x = Conv2D(16, (3, 3), activation='relu')(x)\n",
        "  x = UpSampling2D((2, 2))(x)\n",
        "  decoded = Conv2D(1, (3, 3), activation='sigmoid', padding='same')(x)\n",
        "else: \n",
        "  input_img = Input(shape=(784,))\n",
        "  if deep_dense is True:\n",
        "    encoded = Dense(128, activation='relu')(input_img)\n",
        "    encoded = Dense(64, activation='relu')(encoded)\n",
        "    encoded = Dense(32, activation='relu')(encoded)\n",
        "  else: \n",
        "    encoded = Dense(encoding_dim, activation='relu')(input_img)\n",
        "\n",
        "  if deep_dense is True:\n",
        "    decoded = Dense(64, activation='relu')(encoded)\n",
        "    decoded = Dense(128, activation='relu')(decoded)\n",
        "    decoded = Dense(784, activation='sigmoid')(decoded)\n",
        "  else: \n",
        "    decoded = Dense(784, activation='sigmoid')(encoded)\n",
        "\n",
        "autoencoder = Model(input_img, decoded)\n",
        "\n",
        "if convolutional_autoencoder is False:\n",
        "  encoder = Model(input_img, encoded)\n",
        "  encoded_input = Input(shape=(encoding_dim,))\n",
        "  decoder_layer = autoencoder.layers[-1]\n",
        "  decoder = Model(encoded_input, decoder_layer(encoded_input))\n",
        "\n",
        "autoencoder.compile(optimizer='adam', loss='binary_crossentropy')"
      ]
    },
    {
      "cell_type": "markdown",
      "source": [
        "#**Autoencoder Training**"
      ],
      "metadata": {
        "id": "PkT-Jhfm3y0q"
      }
    },
    {
      "cell_type": "markdown",
      "source": [
        "Since we **do not have** other that train_x and test_x in Unsupervised Training Sets, we train the Gradient Descent with **train_x as target**, in order to force the model to **reconstruct** the same input into the outpus as much as it can. Within the internal representations we will find an encoded and low dimensional description of the input data. Hence, we translate an **Unsupervised Task** into a purely **\"Supervised\" Regression** task and we need the loss (binary crossentropy) to estimate the quality of training, if it is decreasing over the epochs then the autoencoder is learning representations inside its 32 central neurons. "
      ],
      "metadata": {
        "id": "muKTyQ6y4EDP"
      }
    },
    {
      "cell_type": "code",
      "source": [
        "autoencoder.fit(train_x, train_x, epochs=100, batch_size=256, shuffle=True, validation_data=(test_x, test_x))"
      ],
      "metadata": {
        "colab": {
          "base_uri": "https://localhost:8080/"
        },
        "id": "qUHSLob933lq",
        "outputId": "9583f7b5-accb-45af-cb17-c067c6de06f2"
      },
      "execution_count": 72,
      "outputs": [
        {
          "output_type": "stream",
          "name": "stdout",
          "text": [
            "Epoch 1/100\n",
            "235/235 [==============================] - 3s 9ms/step - loss: 0.0970 - val_loss: 0.0108\n",
            "Epoch 2/100\n",
            "235/235 [==============================] - 2s 8ms/step - loss: 0.0104 - val_loss: 0.0103\n",
            "Epoch 3/100\n",
            "235/235 [==============================] - 2s 8ms/step - loss: 0.0103 - val_loss: 0.0103\n",
            "Epoch 4/100\n",
            "235/235 [==============================] - 2s 8ms/step - loss: 0.0103 - val_loss: 0.0103\n",
            "Epoch 5/100\n",
            "235/235 [==============================] - 2s 7ms/step - loss: 0.0102 - val_loss: 0.0103\n",
            "Epoch 6/100\n",
            "235/235 [==============================] - 2s 7ms/step - loss: 0.0102 - val_loss: 0.0103\n",
            "Epoch 7/100\n",
            "235/235 [==============================] - 2s 8ms/step - loss: 0.0102 - val_loss: 0.0103\n",
            "Epoch 8/100\n",
            "235/235 [==============================] - 2s 7ms/step - loss: 0.0102 - val_loss: 0.0103\n",
            "Epoch 9/100\n",
            "235/235 [==============================] - 2s 8ms/step - loss: 0.0102 - val_loss: 0.0103\n",
            "Epoch 10/100\n",
            "235/235 [==============================] - 2s 8ms/step - loss: 0.0102 - val_loss: 0.0103\n",
            "Epoch 11/100\n",
            "235/235 [==============================] - 2s 8ms/step - loss: 0.0102 - val_loss: 0.0102\n",
            "Epoch 12/100\n",
            "235/235 [==============================] - 2s 8ms/step - loss: 0.0102 - val_loss: 0.0102\n",
            "Epoch 13/100\n",
            "235/235 [==============================] - 2s 8ms/step - loss: 0.0102 - val_loss: 0.0102\n",
            "Epoch 14/100\n",
            "235/235 [==============================] - 2s 8ms/step - loss: 0.0102 - val_loss: 0.0102\n",
            "Epoch 15/100\n",
            "235/235 [==============================] - 2s 8ms/step - loss: 0.0102 - val_loss: 0.0102\n",
            "Epoch 16/100\n",
            "235/235 [==============================] - 2s 8ms/step - loss: 0.0102 - val_loss: 0.0102\n",
            "Epoch 17/100\n",
            "235/235 [==============================] - 2s 8ms/step - loss: 0.0102 - val_loss: 0.0102\n",
            "Epoch 18/100\n",
            "235/235 [==============================] - 2s 8ms/step - loss: 0.0102 - val_loss: 0.0102\n",
            "Epoch 19/100\n",
            "235/235 [==============================] - 2s 8ms/step - loss: 0.0102 - val_loss: 0.0102\n",
            "Epoch 20/100\n",
            "235/235 [==============================] - 2s 8ms/step - loss: 0.0102 - val_loss: 0.0102\n",
            "Epoch 21/100\n",
            "235/235 [==============================] - 2s 8ms/step - loss: 0.0102 - val_loss: 0.0102\n",
            "Epoch 22/100\n",
            "235/235 [==============================] - 2s 8ms/step - loss: 0.0102 - val_loss: 0.0102\n",
            "Epoch 23/100\n",
            "235/235 [==============================] - 2s 8ms/step - loss: 0.0102 - val_loss: 0.0102\n",
            "Epoch 24/100\n",
            "235/235 [==============================] - 2s 8ms/step - loss: 0.0102 - val_loss: 0.0102\n",
            "Epoch 25/100\n",
            "235/235 [==============================] - 2s 8ms/step - loss: 0.0102 - val_loss: 0.0102\n",
            "Epoch 26/100\n",
            "235/235 [==============================] - 2s 8ms/step - loss: 0.0102 - val_loss: 0.0102\n",
            "Epoch 27/100\n",
            "235/235 [==============================] - 2s 8ms/step - loss: 0.0102 - val_loss: 0.0102\n",
            "Epoch 28/100\n",
            "235/235 [==============================] - 2s 8ms/step - loss: 0.0102 - val_loss: 0.0102\n",
            "Epoch 29/100\n",
            "235/235 [==============================] - 2s 8ms/step - loss: 0.0102 - val_loss: 0.0102\n",
            "Epoch 30/100\n",
            "235/235 [==============================] - 2s 8ms/step - loss: 0.0102 - val_loss: 0.0102\n",
            "Epoch 31/100\n",
            "235/235 [==============================] - 2s 8ms/step - loss: 0.0102 - val_loss: 0.0102\n",
            "Epoch 32/100\n",
            "235/235 [==============================] - 2s 8ms/step - loss: 0.0102 - val_loss: 0.0102\n",
            "Epoch 33/100\n",
            "235/235 [==============================] - 2s 8ms/step - loss: 0.0102 - val_loss: 0.0102\n",
            "Epoch 34/100\n",
            "235/235 [==============================] - 2s 8ms/step - loss: 0.0102 - val_loss: 0.0102\n",
            "Epoch 35/100\n",
            "235/235 [==============================] - 2s 8ms/step - loss: 0.0102 - val_loss: 0.0102\n",
            "Epoch 36/100\n",
            "235/235 [==============================] - 2s 8ms/step - loss: 0.0102 - val_loss: 0.0102\n",
            "Epoch 37/100\n",
            "235/235 [==============================] - 2s 8ms/step - loss: 0.0102 - val_loss: 0.0102\n",
            "Epoch 38/100\n",
            "235/235 [==============================] - 2s 8ms/step - loss: 0.0102 - val_loss: 0.0102\n",
            "Epoch 39/100\n",
            "235/235 [==============================] - 2s 8ms/step - loss: 0.0102 - val_loss: 0.0102\n",
            "Epoch 40/100\n",
            "235/235 [==============================] - 2s 8ms/step - loss: 0.0102 - val_loss: 0.0102\n",
            "Epoch 41/100\n",
            "235/235 [==============================] - 2s 8ms/step - loss: 0.0102 - val_loss: 0.0102\n",
            "Epoch 42/100\n",
            "235/235 [==============================] - 2s 8ms/step - loss: 0.0102 - val_loss: 0.0102\n",
            "Epoch 43/100\n",
            "235/235 [==============================] - 2s 8ms/step - loss: 0.0102 - val_loss: 0.0102\n",
            "Epoch 44/100\n",
            "235/235 [==============================] - 2s 8ms/step - loss: 0.0102 - val_loss: 0.0102\n",
            "Epoch 45/100\n",
            "235/235 [==============================] - 2s 8ms/step - loss: 0.0102 - val_loss: 0.0102\n",
            "Epoch 46/100\n",
            "235/235 [==============================] - 2s 8ms/step - loss: 0.0102 - val_loss: 0.0102\n",
            "Epoch 47/100\n",
            "235/235 [==============================] - 2s 8ms/step - loss: 0.0102 - val_loss: 0.0102\n",
            "Epoch 48/100\n",
            "235/235 [==============================] - 2s 8ms/step - loss: 0.0101 - val_loss: 0.0102\n",
            "Epoch 49/100\n",
            "235/235 [==============================] - 2s 8ms/step - loss: 0.0101 - val_loss: 0.0102\n",
            "Epoch 50/100\n",
            "235/235 [==============================] - 2s 8ms/step - loss: 0.0101 - val_loss: 0.0102\n",
            "Epoch 51/100\n",
            "235/235 [==============================] - 2s 8ms/step - loss: 0.0101 - val_loss: 0.0102\n",
            "Epoch 52/100\n",
            "235/235 [==============================] - 2s 8ms/step - loss: 0.0101 - val_loss: 0.0102\n",
            "Epoch 53/100\n",
            "235/235 [==============================] - 2s 8ms/step - loss: 0.0101 - val_loss: 0.0102\n",
            "Epoch 54/100\n",
            "235/235 [==============================] - 2s 8ms/step - loss: 0.0101 - val_loss: 0.0102\n",
            "Epoch 55/100\n",
            "235/235 [==============================] - 2s 8ms/step - loss: 0.0101 - val_loss: 0.0102\n",
            "Epoch 56/100\n",
            "235/235 [==============================] - 2s 8ms/step - loss: 0.0101 - val_loss: 0.0102\n",
            "Epoch 57/100\n",
            "235/235 [==============================] - 2s 8ms/step - loss: 0.0101 - val_loss: 0.0102\n",
            "Epoch 58/100\n",
            "235/235 [==============================] - 2s 8ms/step - loss: 0.0101 - val_loss: 0.0102\n",
            "Epoch 59/100\n",
            "235/235 [==============================] - 2s 8ms/step - loss: 0.0101 - val_loss: 0.0101\n",
            "Epoch 60/100\n",
            "235/235 [==============================] - 2s 8ms/step - loss: 0.0101 - val_loss: 0.0101\n",
            "Epoch 61/100\n",
            "235/235 [==============================] - 2s 8ms/step - loss: 0.0101 - val_loss: 0.0101\n",
            "Epoch 62/100\n",
            "235/235 [==============================] - 2s 8ms/step - loss: 0.0101 - val_loss: 0.0101\n",
            "Epoch 63/100\n",
            "235/235 [==============================] - 2s 8ms/step - loss: 0.0101 - val_loss: 0.0101\n",
            "Epoch 64/100\n",
            "235/235 [==============================] - 2s 8ms/step - loss: 0.0101 - val_loss: 0.0101\n",
            "Epoch 65/100\n",
            "235/235 [==============================] - 2s 8ms/step - loss: 0.0101 - val_loss: 0.0101\n",
            "Epoch 66/100\n",
            "235/235 [==============================] - 2s 8ms/step - loss: 0.0101 - val_loss: 0.0101\n",
            "Epoch 67/100\n",
            "235/235 [==============================] - 2s 8ms/step - loss: 0.0101 - val_loss: 0.0101\n",
            "Epoch 68/100\n",
            "235/235 [==============================] - 2s 8ms/step - loss: 0.0101 - val_loss: 0.0101\n",
            "Epoch 69/100\n",
            "235/235 [==============================] - 2s 8ms/step - loss: 0.0101 - val_loss: 0.0101\n",
            "Epoch 70/100\n",
            "235/235 [==============================] - 2s 8ms/step - loss: 0.0101 - val_loss: 0.0101\n",
            "Epoch 71/100\n",
            "235/235 [==============================] - 2s 8ms/step - loss: 0.0101 - val_loss: 0.0101\n",
            "Epoch 72/100\n",
            "235/235 [==============================] - 2s 8ms/step - loss: 0.0101 - val_loss: 0.0101\n",
            "Epoch 73/100\n",
            "235/235 [==============================] - 2s 8ms/step - loss: 0.0101 - val_loss: 0.0101\n",
            "Epoch 74/100\n",
            "235/235 [==============================] - 2s 8ms/step - loss: 0.0101 - val_loss: 0.0101\n",
            "Epoch 75/100\n",
            "235/235 [==============================] - 2s 8ms/step - loss: 0.0101 - val_loss: 0.0101\n",
            "Epoch 76/100\n",
            "235/235 [==============================] - 2s 8ms/step - loss: 0.0101 - val_loss: 0.0101\n",
            "Epoch 77/100\n",
            "235/235 [==============================] - 2s 8ms/step - loss: 0.0101 - val_loss: 0.0101\n",
            "Epoch 78/100\n",
            "235/235 [==============================] - 2s 8ms/step - loss: 0.0101 - val_loss: 0.0101\n",
            "Epoch 79/100\n",
            "235/235 [==============================] - 2s 8ms/step - loss: 0.0101 - val_loss: 0.0101\n",
            "Epoch 80/100\n",
            "235/235 [==============================] - 2s 8ms/step - loss: 0.0101 - val_loss: 0.0101\n",
            "Epoch 81/100\n",
            "235/235 [==============================] - 2s 8ms/step - loss: 0.0101 - val_loss: 0.0101\n",
            "Epoch 82/100\n",
            "235/235 [==============================] - 2s 8ms/step - loss: 0.0101 - val_loss: 0.0101\n",
            "Epoch 83/100\n",
            "235/235 [==============================] - 2s 8ms/step - loss: 0.0101 - val_loss: 0.0101\n",
            "Epoch 84/100\n",
            "235/235 [==============================] - 2s 8ms/step - loss: 0.0101 - val_loss: 0.0101\n",
            "Epoch 85/100\n",
            "235/235 [==============================] - 2s 8ms/step - loss: 0.0101 - val_loss: 0.0101\n",
            "Epoch 86/100\n",
            "235/235 [==============================] - 2s 8ms/step - loss: 0.0101 - val_loss: 0.0101\n",
            "Epoch 87/100\n",
            "235/235 [==============================] - 2s 8ms/step - loss: 0.0101 - val_loss: 0.0101\n",
            "Epoch 88/100\n",
            "235/235 [==============================] - 2s 8ms/step - loss: 0.0101 - val_loss: 0.0101\n",
            "Epoch 89/100\n",
            "235/235 [==============================] - 2s 8ms/step - loss: 0.0101 - val_loss: 0.0101\n",
            "Epoch 90/100\n",
            "235/235 [==============================] - 2s 8ms/step - loss: 0.0101 - val_loss: 0.0101\n",
            "Epoch 91/100\n",
            "235/235 [==============================] - 2s 8ms/step - loss: 0.0101 - val_loss: 0.0101\n",
            "Epoch 92/100\n",
            "235/235 [==============================] - 2s 8ms/step - loss: 0.0101 - val_loss: 0.0101\n",
            "Epoch 93/100\n",
            "235/235 [==============================] - 2s 8ms/step - loss: 0.0101 - val_loss: 0.0101\n",
            "Epoch 94/100\n",
            "235/235 [==============================] - 2s 8ms/step - loss: 0.0101 - val_loss: 0.0101\n",
            "Epoch 95/100\n",
            "235/235 [==============================] - 2s 8ms/step - loss: 0.0101 - val_loss: 0.0101\n",
            "Epoch 96/100\n",
            "235/235 [==============================] - 2s 8ms/step - loss: 0.0101 - val_loss: 0.0101\n",
            "Epoch 97/100\n",
            "235/235 [==============================] - 2s 8ms/step - loss: 0.0101 - val_loss: 0.0101\n",
            "Epoch 98/100\n",
            "235/235 [==============================] - 2s 8ms/step - loss: 0.0101 - val_loss: 0.0101\n",
            "Epoch 99/100\n",
            "235/235 [==============================] - 2s 8ms/step - loss: 0.0101 - val_loss: 0.0101\n",
            "Epoch 100/100\n",
            "235/235 [==============================] - 2s 8ms/step - loss: 0.0101 - val_loss: 0.0101\n"
          ]
        },
        {
          "output_type": "execute_result",
          "data": {
            "text/plain": [
              "<keras.callbacks.History at 0x7f064e1156d0>"
            ]
          },
          "metadata": {},
          "execution_count": 72
        }
      ]
    },
    {
      "cell_type": "markdown",
      "source": [
        "#**Autoencoder Inference**"
      ],
      "metadata": {
        "id": "_QkpecEm5kkZ"
      }
    },
    {
      "cell_type": "markdown",
      "source": [
        "We **encode** and **decode** some digits that are taken from **test** set, in 2 steps: from input to the central vector, and from the 32 central neurons to the output **reconstruction layer**\n"
      ],
      "metadata": {
        "id": "jjTz1jSN5sGz"
      }
    },
    {
      "cell_type": "code",
      "source": [
        "if convolutional_autoencoder is True: \n",
        "  decoded_imgs = autoencoder.predict(test_x)\n",
        "else: \n",
        "  encoded_imgs = encoder.predict(test_x)\n",
        "  decoded_imgs = decoder.predict(encoded_imgs)"
      ],
      "metadata": {
        "id": "Bue8tdQJ5pEd"
      },
      "execution_count": 73,
      "outputs": []
    },
    {
      "cell_type": "markdown",
      "source": [
        "#**Autoencoder Predictions Visualization**"
      ],
      "metadata": {
        "id": "UGtMDyMj6ZJx"
      }
    },
    {
      "cell_type": "markdown",
      "source": [
        "With only 32 neurons the Autoencoder is able to reconstruct the Digits almost perfectly. This means that Autoencoder performed a compression, dimensionality reduction and clustering in one step !!"
      ],
      "metadata": {
        "id": "Gpi7CoAh7wVa"
      }
    },
    {
      "cell_type": "code",
      "source": [
        "plt.figure(figsize=(20, 4))\n",
        "for i in range(n):\n",
        "    # Display original\n",
        "    ax = plt.subplot(2, n, i + 1)\n",
        "    plt.imshow(test_x[i].reshape(28, 28))\n",
        "    plt.gray()\n",
        "    ax.get_xaxis().set_visible(False)\n",
        "    ax.get_yaxis().set_visible(False)\n",
        "\n",
        "    # Display reconstruction\n",
        "    ax = plt.subplot(2, n, i + 1 + n)\n",
        "    plt.imshow(decoded_imgs[i].reshape(28, 28))\n",
        "    plt.gray()\n",
        "    ax.get_xaxis().set_visible(False)\n",
        "    ax.get_yaxis().set_visible(False)\n",
        "plt.show()\n"
      ],
      "metadata": {
        "colab": {
          "base_uri": "https://localhost:8080/",
          "height": 247
        },
        "id": "p3nndz_06GXr",
        "outputId": "94793258-095c-467e-bb60-9d2e16e33aef"
      },
      "execution_count": 74,
      "outputs": [
        {
          "output_type": "display_data",
          "data": {
            "text/plain": [
              "<Figure size 1440x288 with 20 Axes>"
            ],
            "image/png": "[encoded data removed]"
          },
          "metadata": {
            "needs_background": "light"
          }
        }
      ]
    },
    {
      "cell_type": "markdown",
      "source": [
        "# **Homeworks**"
      ],
      "metadata": {
        "id": "3h4UME29Dacu"
      }
    },
    {
      "cell_type": "markdown",
      "source": [
        "1) Optimize Denoising working on convolutions (i.e. reduce convolution layers and kernels) \n",
        "\n",
        "2) Plot internals of Convolutions with ALL Feature Maps Visualization and ALL Filters Visualization\n",
        "\n",
        "3) Plot internal representation vector (32 neurons) and verify there is a Dimensionality Reduction and a Clustering on the Test set \n",
        "\n",
        "**Hint**: exploit labels on test set to colour all the activations of the internal neurons activations"
      ],
      "metadata": {
        "id": "hKICqhr_Derm"
      }
    },
    {
      "cell_type": "code",
      "source": [
        ""
      ],
      "metadata": {
        "id": "94fGaIPkDZrW"
      },
      "execution_count": null,
      "outputs": []
    }
  ]
}