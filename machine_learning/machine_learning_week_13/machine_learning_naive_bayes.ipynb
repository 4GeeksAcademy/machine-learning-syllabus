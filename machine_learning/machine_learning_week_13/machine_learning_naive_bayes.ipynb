{
  "cells": [
    {
      "cell_type": "markdown",
      "metadata": {
        "id": "PVzMF0W2eR4f"
      },
      "source": [
        "# Loading common libraries"
      ]
    },
    {
      "cell_type": "code",
      "execution_count": 4,
      "metadata": {
        "collapsed": true,
        "id": "sYnTKEb-eR4n"
      },
      "outputs": [],
      "source": [
        "import pandas as pd\n",
        "import numpy as np"
      ]
    },
    {
      "cell_type": "code",
      "execution_count": 5,
      "metadata": {
        "collapsed": true,
        "id": "UuiVHvwyeR4p"
      },
      "outputs": [],
      "source": [
        "# Regression metrics\n",
        "from sklearn.metrics import mean_squared_error\n",
        "\n",
        "# Classification metrics\n",
        "from sklearn.metrics import accuracy_score"
      ]
    },
    {
      "cell_type": "markdown",
      "metadata": {
        "id": "EiCyPMTseR4q"
      },
      "source": [
        "# Load datasets"
      ]
    },
    {
      "cell_type": "markdown",
      "metadata": {
        "id": "LFQyDHZKeR4r"
      },
      "source": [
        "## Load datasets for classification"
      ]
    },
    {
      "cell_type": "code",
      "execution_count": 6,
      "metadata": {
        "colab": {
          "base_uri": "https://localhost:8080/"
        },
        "id": "WwHql_2meR4r",
        "outputId": "a7ee4a4d-4b74-4749-9e09-2b5627324248"
      },
      "outputs": [
        {
          "output_type": "stream",
          "name": "stdout",
          "text": [
            "Shape of classification training data : (712, 25)\n",
            "Shape of classification testing data : (179, 25)\n"
          ]
        }
      ],
      "source": [
        "# read the train and test dataset\n",
        "class_train_data = pd.read_csv('https://raw.githubusercontent.com/vamsivarma/datasets/master/machine_learning/logistic_regression/train.csv')\n",
        "class_test_data = pd.read_csv('https://raw.githubusercontent.com/vamsivarma/datasets/master/machine_learning/logistic_regression/test.csv')\n",
        "\n",
        "# shape of the dataset\n",
        "print('Shape of classification training data :', class_train_data.shape)\n",
        "print('Shape of classification testing data :', class_test_data.shape)"
      ]
    },
    {
      "cell_type": "markdown",
      "metadata": {
        "id": "BIvpzfdbeR4t"
      },
      "source": [
        "Separating the target variable (or column) which we want to predict using ML algorithms"
      ]
    },
    {
      "cell_type": "code",
      "execution_count": 7,
      "metadata": {
        "collapsed": true,
        "id": "EiAws7TJeR4u"
      },
      "outputs": [],
      "source": [
        "# Now, we need to predict the missing target variable in the test data\n",
        "# target variable - Survived\n",
        "\n",
        "# seperate the independent and target variable on training data\n",
        "class_train_x = class_train_data.drop(columns=['Survived'],axis=1)\n",
        "class_train_y = class_train_data['Survived']\n",
        "\n",
        "# seperate the independent and target variable on testing data\n",
        "class_test_x = class_test_data.drop(columns=['Survived'],axis=1)\n",
        "class_test_y = class_test_data['Survived']\n",
        "\n",
        "class_train = pd.DataFrame(columns=['Train'])\n",
        "class_train['Train'] = class_train_y\n",
        "\n",
        "class_test = pd.DataFrame(columns=['Test'])\n",
        "class_test['Test'] = class_test_y"
      ]
    },
    {
      "cell_type": "code",
      "execution_count": 9,
      "metadata": {
        "collapsed": true,
        "id": "B9EynYqoeR4y"
      },
      "outputs": [],
      "source": [
        "## Data frames for saving prediction of different algorithms\n",
        "col_list = ['NB']\n",
        "\n",
        "# Classification predictions for train and test set\n",
        "class_train_pred = pd.DataFrame(columns = col_list)\n",
        "class_test_pred = pd.DataFrame(columns = col_list)"
      ]
    },
    {
      "cell_type": "markdown",
      "metadata": {
        "id": "g9QKdSnjHCcf"
      },
      "source": [
        "# Naive Bayes"
      ]
    },
    {
      "cell_type": "code",
      "source": [
        "import sklearn.naive_bayes\n",
        "dir(sklearn.naive_bayes)"
      ],
      "metadata": {
        "colab": {
          "base_uri": "https://localhost:8080/"
        },
        "id": "bornaVibesGS",
        "outputId": "af1148f1-a106-4f2e-f419-98fb1d46efc3"
      },
      "execution_count": 10,
      "outputs": [
        {
          "output_type": "execute_result",
          "data": {
            "text/plain": [
              "['ABCMeta',\n",
              " 'BaseEstimator',\n",
              " 'BernoulliNB',\n",
              " 'CategoricalNB',\n",
              " 'ClassifierMixin',\n",
              " 'ComplementNB',\n",
              " 'GaussianNB',\n",
              " 'LabelBinarizer',\n",
              " 'MultinomialNB',\n",
              " '_ALPHA_MIN',\n",
              " '_BaseDiscreteNB',\n",
              " '_BaseNB',\n",
              " '__all__',\n",
              " '__builtins__',\n",
              " '__cached__',\n",
              " '__doc__',\n",
              " '__file__',\n",
              " '__loader__',\n",
              " '__name__',\n",
              " '__package__',\n",
              " '__spec__',\n",
              " '_check_partial_fit_first_call',\n",
              " '_check_sample_weight',\n",
              " 'abstractmethod',\n",
              " 'binarize',\n",
              " 'check_is_fitted',\n",
              " 'check_non_negative',\n",
              " 'deprecated',\n",
              " 'label_binarize',\n",
              " 'logsumexp',\n",
              " 'np',\n",
              " 'safe_sparse_dot',\n",
              " 'warnings']"
            ]
          },
          "metadata": {},
          "execution_count": 10
        }
      ]
    },
    {
      "cell_type": "code",
      "execution_count": 18,
      "metadata": {
        "colab": {
          "base_uri": "https://localhost:8080/"
        },
        "id": "0iBLoY0ZHCpt",
        "outputId": "9c8a73b1-fd61-47e0-d58d-8dd028c3bb96"
      },
      "outputs": [
        {
          "output_type": "stream",
          "name": "stdout",
          "text": [
            "Target on train data [1 1 1 1 1 1 1 1 1 1 1 1 0 1 1 1 1 0 1 1 1 1 1 1 1 1 1 1 1 1 1 0 1 1 1 1 1\n",
            " 1 1 1 1 1 1 1 1 1 1 1 1 0 1 1 1 1 1 1 1 1 1 1 1 1 1 1 1 1 1 1 1 1 1 1 0 1\n",
            " 1 1 1 1 1 1 1 1 1 1 1 0 1 1 1 0 1 1 0 1 1 1 0 1 1 1 1 1 1 1 1 1 1 1 1 1 1\n",
            " 1 0 1 1 1 1 0 1 1 1 0 1 1 1 1 1 1 1 1 1 1 1 1 1 0 1 0 1 0 1 1 1 1 1 1 1 1\n",
            " 1 1 1 1 1 1 1 1 1 1 1 1 1 1 1 1 1 1 1 1 1 1 1 1 1 1 1 1 1 1 1 0 1 1 1 1 1\n",
            " 1 1 1 1 1 1 1 0 1 1 1 1 1 1 1 1 1 1 1 1 1 1 1 1 1 1 1 1 1 1 1 1 1 1 1 1 1\n",
            " 1 1 1 0 1 1 1 1 1 1 1 1 1 1 1 1 1 1 0 1 1 1 1 1 1 1 1 1 0 1 1 1 0 1 1 1 1\n",
            " 1 1 1 1 1 1 1 1 1 1 1 1 1 1 1 1 1 1 1 1 1 1 1 1 0 1 1 0 1 1 1 0 1 1 1 0 1\n",
            " 1 1 1 1 0 1 1 1 1 1 1 1 1 1 1 1 1 1 1 1 1 1 1 1 1 1 1 1 1 1 1 1 1 1 1 1 1\n",
            " 1 1 1 1 1 1 1 1 1 1 0 1 1 1 1 1 1 1 1 1 1 1 1 1 1 1 1 1 1 1 1 1 1 1 1 1 1\n",
            " 1 1 1 1 1 1 1 0 1 1 1 1 1 1 1 1 1 1 1 1 1 0 1 1 1 1 1 1 1 1 1 1 1 1 1 1 1\n",
            " 0 1 1 1 1 1 1 1 1 1 1 1 1 1 1 1 1 1 1 1 1 1 1 1 1 1 1 1 1 1 1 1 1 1 1 1 0\n",
            " 1 1 1 1 1 1 1 1 1 1 1 1 1 1 1 1 1 0 1 1 1 1 1 1 1 1 1 1 1 1 1 1 1 1 1 1 0\n",
            " 1 1 1 1 1 1 1 1 1 1 1 1 1 1 1 1 1 1 1 1 1 1 1 1 1 1 1 0 1 1 1 1 1 1 1 1 1\n",
            " 1 1 1 0 1 1 1 1 1 1 1 1 1 1 1 1 1 1 1 1 0 0 1 1 1 1 1 1 1 1 1 1 0 1 1 1 1\n",
            " 1 1 1 1 1 1 0 1 1 1 1 1 1 1 1 1 0 1 1 1 1 1 1 1 1 1 1 1 1 1 1 1 1 1 1 1 1\n",
            " 1 1 1 0 1 1 1 1 1 1 1 1 1 1 1 1 1 1 1 1 1 1 0 1 1 1 1 1 1 1 1 1 1 1 1 0 1\n",
            " 0 1 1 1 1 1 1 1 1 1 1 1 1 1 1 1 1 1 0 1 1 1 1 1 1 1 1 1 1 1 1 1 1 1 1 1 1\n",
            " 1 1 1 1 1 1 1 1 1 0 1 0 1 1 1 1 1 1 1 1 1 1 1 1 1 1 1 1 1 1 1 1 1 1 1 1 1\n",
            " 1 1 1 1 1 1 1 1 1]\n",
            "Accuracy for Naive Bayes on train dataset :  0.44803370786516855\n",
            "Target on test data [1 1 1 1 1 1 1 1 1 1 1 1 1 1 1 1 0 0 1 1 1 1 1 1 1 1 1 1 1 1 1 1 1 1 1 1 1\n",
            " 0 1 1 1 1 1 0 1 1 1 1 1 1 1 1 1 1 1 1 0 1 1 1 1 1 1 1 1 1 1 1 1 0 1 1 1 1\n",
            " 1 1 1 0 1 1 1 1 1 1 1 1 1 1 1 1 1 1 1 1 1 1 1 1 1 1 1 1 1 1 1 1 1 1 1 1 1\n",
            " 1 1 1 1 1 1 1 1 1 1 0 1 1 0 1 1 1 1 1 1 1 1 1 1 1 1 1 1 1 1 1 1 1 1 1 1 1\n",
            " 1 1 1 1 1 1 1 1 1 1 1 1 1 1 1 1 1 1 1 1 1 1 1 1 1 1 1 1 1 1 1]\n",
            "Accuracy for Naive Bayes on test dataset :  0.35195530726256985\n"
          ]
        }
      ],
      "source": [
        "# importing required libraries\n",
        "from sklearn.naive_bayes import GaussianNB\n",
        "\n",
        "\n",
        "'''\n",
        "Create the object of the Naive Bayes model\n",
        "You can also add other parameters and test your code here\n",
        "Some parameters are : var_smoothing\n",
        "Documentation of sklearn GaussianNB: \n",
        "\n",
        "https://scikit-learn.org/stable/modules/generated/sklearn.naive_bayes.GaussianNB.html\n",
        "'''\n",
        "\n",
        "model = GaussianNB()\n",
        "\n",
        "# fit the model with the training data\n",
        "model.fit(class_train_x, class_train_y)\n",
        "\n",
        "# predict the target on the train dataset\n",
        "predict_train = model.predict(class_train_x)\n",
        "print('Target on train data',predict_train) \n",
        "\n",
        "# Accuray Score on train dataset\n",
        "accuracy_train = accuracy_score(class_train_y, predict_train)\n",
        "print('Accuracy for Naive Bayes on train dataset : ', accuracy_train)\n",
        "\n",
        "# predict the target on the test dataset\n",
        "predict_test = model.predict(class_test_x)\n",
        "print('Target on test data',predict_test) \n",
        "\n",
        "# Accuracy Score on test dataset\n",
        "accuracy_test = accuracy_score(class_test_y, predict_test)\n",
        "print('Accuracy for Naive Bayes on test dataset : ', accuracy_test)"
      ]
    },
    {
      "cell_type": "markdown",
      "metadata": {
        "id": "r76Tsm7xeR48"
      },
      "source": [
        "#### Naive bayes accuracy is very low for our dataset so it might not be a good choice for our learning algorithm. This algorithm is more effective for text classifiers. "
      ]
    }
  ],
  "metadata": {
    "colab": {
      "collapsed_sections": [],
      "name": "machine_learning_naive_bayes.ipynb",
      "provenance": []
    },
    "kernelspec": {
      "display_name": "Python 3",
      "language": "python",
      "name": "python3"
    },
    "language_info": {
      "codemirror_mode": {
        "name": "ipython",
        "version": 3
      },
      "file_extension": ".py",
      "mimetype": "text/x-python",
      "name": "python",
      "nbconvert_exporter": "python",
      "pygments_lexer": "ipython3",
      "version": "3.6.3"
    }
  },
  "nbformat": 4,
  "nbformat_minor": 0
}