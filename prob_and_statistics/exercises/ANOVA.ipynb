{
 "cells": [
  {
   "cell_type": "markdown",
   "id": "bdfbcacc",
   "metadata": {},
   "source": [
    "# ANOVA"
   ]
  },
  {
   "cell_type": "markdown",
   "id": "768493ee",
   "metadata": {},
   "source": [
    "Suppose that a study wants to check if there is a significant difference between the goal averages of soccer players depending on the position in which they play. In case there is a difference, you want to know which positions differ from the rest."
   ]
  },
  {
   "cell_type": "markdown",
   "id": "dd97255d",
   "metadata": {},
   "source": [
    "#### The following table contains a sample of randomly selected players."
   ]
  },
  {
   "cell_type": "code",
   "execution_count": 1,
   "id": "4b93d9c8",
   "metadata": {},
   "outputs": [
    {
     "data": {
      "text/html": [
       "<div>\n",
       "<style scoped>\n",
       "    .dataframe tbody tr th:only-of-type {\n",
       "        vertical-align: middle;\n",
       "    }\n",
       "\n",
       "    .dataframe tbody tr th {\n",
       "        vertical-align: top;\n",
       "    }\n",
       "\n",
       "    .dataframe thead th {\n",
       "        text-align: right;\n",
       "    }\n",
       "</style>\n",
       "<table border=\"1\" class=\"dataframe\">\n",
       "  <thead>\n",
       "    <tr style=\"text-align: right;\">\n",
       "      <th></th>\n",
       "      <th>id_player</th>\n",
       "      <th>position</th>\n",
       "      <th>average</th>\n",
       "    </tr>\n",
       "  </thead>\n",
       "  <tbody>\n",
       "    <tr>\n",
       "      <th>0</th>\n",
       "      <td>id_189</td>\n",
       "      <td>DC</td>\n",
       "      <td>0.310</td>\n",
       "    </tr>\n",
       "    <tr>\n",
       "      <th>1</th>\n",
       "      <td>id_85</td>\n",
       "      <td>DC</td>\n",
       "      <td>0.306</td>\n",
       "    </tr>\n",
       "    <tr>\n",
       "      <th>2</th>\n",
       "      <td>id_105</td>\n",
       "      <td>DC</td>\n",
       "      <td>0.320</td>\n",
       "    </tr>\n",
       "    <tr>\n",
       "      <th>3</th>\n",
       "      <td>id_34</td>\n",
       "      <td>DC</td>\n",
       "      <td>0.329</td>\n",
       "    </tr>\n",
       "    <tr>\n",
       "      <th>4</th>\n",
       "      <td>id_32</td>\n",
       "      <td>DC</td>\n",
       "      <td>0.369</td>\n",
       "    </tr>\n",
       "    <tr>\n",
       "      <th>...</th>\n",
       "      <td>...</td>\n",
       "      <td>...</td>\n",
       "      <td>...</td>\n",
       "    </tr>\n",
       "    <tr>\n",
       "      <th>322</th>\n",
       "      <td>id_231</td>\n",
       "      <td>DC</td>\n",
       "      <td>0.381</td>\n",
       "    </tr>\n",
       "    <tr>\n",
       "      <th>323</th>\n",
       "      <td>id_20</td>\n",
       "      <td>MP</td>\n",
       "      <td>0.310</td>\n",
       "    </tr>\n",
       "    <tr>\n",
       "      <th>324</th>\n",
       "      <td>id_294</td>\n",
       "      <td>DC</td>\n",
       "      <td>0.340</td>\n",
       "    </tr>\n",
       "    <tr>\n",
       "      <th>325</th>\n",
       "      <td>id_218</td>\n",
       "      <td>DC</td>\n",
       "      <td>0.305</td>\n",
       "    </tr>\n",
       "    <tr>\n",
       "      <th>326</th>\n",
       "      <td>id_110</td>\n",
       "      <td>DC</td>\n",
       "      <td>0.288</td>\n",
       "    </tr>\n",
       "  </tbody>\n",
       "</table>\n",
       "<p>327 rows × 3 columns</p>\n",
       "</div>"
      ],
      "text/plain": [
       "    id_player position  average\n",
       "0      id_189       DC    0.310\n",
       "1       id_85       DC    0.306\n",
       "2      id_105       DC    0.320\n",
       "3       id_34       DC    0.329\n",
       "4       id_32       DC    0.369\n",
       "..        ...      ...      ...\n",
       "322    id_231       DC    0.381\n",
       "323     id_20       MP    0.310\n",
       "324    id_294       DC    0.340\n",
       "325    id_218       DC    0.305\n",
       "326    id_110       DC    0.288\n",
       "\n",
       "[327 rows x 3 columns]"
      ]
     },
     "execution_count": 1,
     "metadata": {},
     "output_type": "execute_result"
    }
   ],
   "source": [
    "import pandas as pd\n",
    "my_data = pd.read_csv(\"datos_laliga.csv\")\n",
    "my_data"
   ]
  },
  {
   "cell_type": "code",
   "execution_count": 2,
   "id": "2e462542",
   "metadata": {},
   "outputs": [
    {
     "data": {
      "text/html": [
       "<div>\n",
       "<style scoped>\n",
       "    .dataframe tbody tr th:only-of-type {\n",
       "        vertical-align: middle;\n",
       "    }\n",
       "\n",
       "    .dataframe tbody tr th {\n",
       "        vertical-align: top;\n",
       "    }\n",
       "\n",
       "    .dataframe thead th {\n",
       "        text-align: right;\n",
       "    }\n",
       "</style>\n",
       "<table border=\"1\" class=\"dataframe\">\n",
       "  <thead>\n",
       "    <tr style=\"text-align: right;\">\n",
       "      <th></th>\n",
       "      <th>average</th>\n",
       "    </tr>\n",
       "  </thead>\n",
       "  <tbody>\n",
       "    <tr>\n",
       "      <th>count</th>\n",
       "      <td>327.000000</td>\n",
       "    </tr>\n",
       "    <tr>\n",
       "      <th>mean</th>\n",
       "      <td>0.332159</td>\n",
       "    </tr>\n",
       "    <tr>\n",
       "      <th>std</th>\n",
       "      <td>0.035702</td>\n",
       "    </tr>\n",
       "    <tr>\n",
       "      <th>min</th>\n",
       "      <td>0.174000</td>\n",
       "    </tr>\n",
       "    <tr>\n",
       "      <th>25%</th>\n",
       "      <td>0.309000</td>\n",
       "    </tr>\n",
       "    <tr>\n",
       "      <th>50%</th>\n",
       "      <td>0.331000</td>\n",
       "    </tr>\n",
       "    <tr>\n",
       "      <th>75%</th>\n",
       "      <td>0.354500</td>\n",
       "    </tr>\n",
       "    <tr>\n",
       "      <th>max</th>\n",
       "      <td>0.437000</td>\n",
       "    </tr>\n",
       "  </tbody>\n",
       "</table>\n",
       "</div>"
      ],
      "text/plain": [
       "          average\n",
       "count  327.000000\n",
       "mean     0.332159\n",
       "std      0.035702\n",
       "min      0.174000\n",
       "25%      0.309000\n",
       "50%      0.331000\n",
       "75%      0.354500\n",
       "max      0.437000"
      ]
     },
     "execution_count": 2,
     "metadata": {},
     "output_type": "execute_result"
    }
   ],
   "source": [
    "my_data.describe()"
   ]
  },
  {
   "cell_type": "markdown",
   "id": "0bcf9e1f",
   "metadata": {},
   "source": [
    "Identify the number of groups and number of observations per group to determine if it is a balanced model. The mean and standard deviation of the group are also calculated."
   ]
  },
  {
   "cell_type": "code",
   "execution_count": 3,
   "id": "d6206327",
   "metadata": {},
   "outputs": [
    {
     "data": {
      "text/html": [
       "<div>\n",
       "<style scoped>\n",
       "    .dataframe tbody tr th:only-of-type {\n",
       "        vertical-align: middle;\n",
       "    }\n",
       "\n",
       "    .dataframe tbody tr th {\n",
       "        vertical-align: top;\n",
       "    }\n",
       "\n",
       "    .dataframe thead tr th {\n",
       "        text-align: left;\n",
       "    }\n",
       "\n",
       "    .dataframe thead tr:last-of-type th {\n",
       "        text-align: right;\n",
       "    }\n",
       "</style>\n",
       "<table border=\"1\" class=\"dataframe\">\n",
       "  <thead>\n",
       "    <tr>\n",
       "      <th>col_0</th>\n",
       "      <th>DC</th>\n",
       "    </tr>\n",
       "    <tr>\n",
       "      <th>col_1</th>\n",
       "      <th>MO</th>\n",
       "    </tr>\n",
       "    <tr>\n",
       "      <th>col_2</th>\n",
       "      <th>MP</th>\n",
       "    </tr>\n",
       "    <tr>\n",
       "      <th>col_3</th>\n",
       "      <th>P</th>\n",
       "    </tr>\n",
       "    <tr>\n",
       "      <th>position</th>\n",
       "      <th></th>\n",
       "    </tr>\n",
       "  </thead>\n",
       "  <tbody>\n",
       "    <tr>\n",
       "      <th>DC</th>\n",
       "      <td>154</td>\n",
       "    </tr>\n",
       "    <tr>\n",
       "      <th>MO</th>\n",
       "      <td>14</td>\n",
       "    </tr>\n",
       "    <tr>\n",
       "      <th>MP</th>\n",
       "      <td>120</td>\n",
       "    </tr>\n",
       "    <tr>\n",
       "      <th>P</th>\n",
       "      <td>39</td>\n",
       "    </tr>\n",
       "  </tbody>\n",
       "</table>\n",
       "</div>"
      ],
      "text/plain": [
       "col_0      DC\n",
       "col_1      MO\n",
       "col_2      MP\n",
       "col_3       P\n",
       "position     \n",
       "DC        154\n",
       "MO         14\n",
       "MP        120\n",
       "P          39"
      ]
     },
     "execution_count": 3,
     "metadata": {},
     "output_type": "execute_result"
    }
   ],
   "source": [
    "pd.crosstab(my_data[\"position\"],columns=[\"DC\", \"MO\", \"MP\", \"P\"])\n",
    "#DC: Delantero centro\n",
    "#MO: Medio ofensivo\n",
    "#MP: Media punta\n",
    "#P: Puntero"
   ]
  },
  {
   "cell_type": "markdown",
   "id": "9dde5ae8",
   "metadata": {},
   "source": [
    "Calculate the mean and standar deviation by position"
   ]
  },
  {
   "cell_type": "code",
   "execution_count": 4,
   "id": "499f0474",
   "metadata": {},
   "outputs": [
    {
     "data": {
      "text/plain": [
       "position\n",
       "DC    0.331526\n",
       "MO    0.347786\n",
       "MP    0.334250\n",
       "P     0.322615\n",
       "Name: average, dtype: float64"
      ]
     },
     "execution_count": 4,
     "metadata": {},
     "output_type": "execute_result"
    }
   ],
   "source": [
    "my_data.groupby('position')['average'].agg('mean')"
   ]
  },
  {
   "cell_type": "markdown",
   "id": "94e6be91",
   "metadata": {},
   "source": [
    "Calculate the standard deviation by position"
   ]
  },
  {
   "cell_type": "code",
   "execution_count": 5,
   "id": "41e91c09",
   "metadata": {},
   "outputs": [
    {
     "data": {
      "text/plain": [
       "position\n",
       "DC    0.037095\n",
       "MO    0.036037\n",
       "MP    0.029444\n",
       "P     0.045132\n",
       "Name: average, dtype: float64"
      ]
     },
     "execution_count": 5,
     "metadata": {},
     "output_type": "execute_result"
    }
   ],
   "source": [
    "my_data.groupby('position')['average'].agg('std')"
   ]
  },
  {
   "cell_type": "markdown",
   "id": "6a621699",
   "metadata": {},
   "source": [
    "Since the number of observations per group is not constant, it is an unbalanced model. It is important to take this into account when checking the conditions of normality and homoscedasticity (s1 = s2 = s3 = s4). The most useful graphical representation before performing an ANOVA is the Box-Plot model.\n",
    "\n",
    "Plot a boxplot for each position"
   ]
  },
  {
   "cell_type": "code",
   "execution_count": 6,
   "id": "24397993",
   "metadata": {},
   "outputs": [
    {
     "data": {
      "image/png": "[encoded data removed]",
      "text/plain": [
       "<Figure size 640x480 with 1 Axes>"
      ]
     },
     "metadata": {},
     "output_type": "display_data"
    },
    {
     "data": {
      "text/plain": [
       "<ggplot: (8759898354017)>"
      ]
     },
     "execution_count": 6,
     "metadata": {},
     "output_type": "execute_result"
    }
   ],
   "source": [
    "# Boxplots\n",
    "# This is another way and popular package used in R (ggplot)\n",
    "from plotnine import *\n",
    "\n",
    "(\n",
    "    ggplot(my_data)  # What data to use\n",
    "    + aes(x=\"position\", y=\"average\")  # What variable to use\n",
    "    + geom_boxplot()  # Geometric object to use for drawing\n",
    "    + theme_bw()\n",
    ")"
   ]
  },
  {
   "cell_type": "markdown",
   "id": "6d5e7073",
   "metadata": {},
   "source": [
    "# Independence:\n",
    "  \n",
    "The total sample size is <10% of the population of all players in the league.\n",
    "The groups (categorical variable) are independent of each other since a random sample of players from the entire league (not just from the same team) has been made.\n",
    " \n",
    "Normal distribution of observations: The quantitative variable must be distributed in a normal way in each of the groups. The normality study can be done graphically (qqplot) or with a hypothesis test."
   ]
  },
  {
   "cell_type": "code",
   "execution_count": 7,
   "id": "3c8c076d",
   "metadata": {},
   "outputs": [
    {
     "data": {
      "image/png": "[encoded data removed]",
      "text/plain": [
       "<Figure size 432x288 with 1 Axes>"
      ]
     },
     "metadata": {
      "needs_background": "light"
     },
     "output_type": "display_data"
    },
    {
     "data": {
      "image/png": "[encoded data removed]",
      "text/plain": [
       "<Figure size 432x288 with 1 Axes>"
      ]
     },
     "metadata": {
      "needs_background": "light"
     },
     "output_type": "display_data"
    },
    {
     "data": {
      "image/png": "[encoded data removed]",
      "text/plain": [
       "<Figure size 432x288 with 1 Axes>"
      ]
     },
     "metadata": {
      "needs_background": "light"
     },
     "output_type": "display_data"
    },
    {
     "data": {
      "image/png": "[encoded data removed]",
      "text/plain": [
       "<Figure size 432x288 with 1 Axes>"
      ]
     },
     "metadata": {
      "needs_background": "light"
     },
     "output_type": "display_data"
    }
   ],
   "source": [
    "import numpy as np \n",
    "import pylab \n",
    "import matplotlib.pyplot as plt\n",
    "import scipy.stats as stats\n",
    "\n",
    "measurements = my_data.loc[my_data[\"position\"] == \"P\",\"average\"]\n",
    "stats.probplot(measurements, dist=\"norm\", plot=pylab)\n",
    "plt.title(\"P\")\n",
    "plt.show()\n",
    "\n",
    "measurements = my_data.loc[my_data[\"position\"] == \"MO\",\"average\"]\n",
    "stats.probplot(measurements, dist=\"norm\", plot=pylab)\n",
    "plt.title(\"MO\")\n",
    "plt.show()\n",
    "\n",
    "measurements = my_data.loc[my_data[\"position\"] == \"DC\",\"average\"]\n",
    "stats.probplot(measurements, dist=\"norm\", plot=pylab)\n",
    "plt.title(\"DC\")\n",
    "plt.show()\n",
    "\n",
    "measurements = my_data.loc[my_data[\"position\"] == \"MP\",\"average\"]\n",
    "stats.probplot(measurements, dist=\"norm\", plot=pylab)\n",
    "plt.title(\"MP\")\n",
    "plt.show()"
   ]
  },
  {
   "cell_type": "code",
   "execution_count": 8,
   "id": "7fecf61d",
   "metadata": {},
   "outputs": [
    {
     "ename": "NameError",
     "evalue": "name 'x' is not defined",
     "output_type": "error",
     "traceback": [
      "\u001b[0;31m---------------------------------------------------------------------------\u001b[0m",
      "\u001b[0;31mNameError\u001b[0m                                 Traceback (most recent call last)",
      "\u001b[0;32m<ipython-input-8-49d9aadce64e>\u001b[0m in \u001b[0;36m<module>\u001b[0;34m\u001b[0m\n\u001b[1;32m      3\u001b[0m \u001b[0;34m\u001b[0m\u001b[0m\n\u001b[1;32m      4\u001b[0m \u001b[0mfig\u001b[0m \u001b[0;34m=\u001b[0m \u001b[0mgo\u001b[0m\u001b[0;34m.\u001b[0m\u001b[0mFigure\u001b[0m\u001b[0;34m(\u001b[0m\u001b[0;34m)\u001b[0m\u001b[0;34m\u001b[0m\u001b[0;34m\u001b[0m\u001b[0m\n\u001b[0;32m----> 5\u001b[0;31m \u001b[0mfig\u001b[0m\u001b[0;34m.\u001b[0m\u001b[0madd_trace\u001b[0m\u001b[0;34m(\u001b[0m\u001b[0mgo\u001b[0m\u001b[0;34m.\u001b[0m\u001b[0mBox\u001b[0m\u001b[0;34m(\u001b[0m\u001b[0my\u001b[0m\u001b[0;34m=\u001b[0m\u001b[0mx\u001b[0m\u001b[0;34m)\u001b[0m\u001b[0;34m)\u001b[0m\u001b[0;34m\u001b[0m\u001b[0;34m\u001b[0m\u001b[0m\n\u001b[0m\u001b[1;32m      6\u001b[0m \u001b[0mfig\u001b[0m\u001b[0;34m.\u001b[0m\u001b[0madd_trace\u001b[0m\u001b[0;34m(\u001b[0m\u001b[0mgo\u001b[0m\u001b[0;34m.\u001b[0m\u001b[0mBox\u001b[0m\u001b[0;34m(\u001b[0m\u001b[0my\u001b[0m\u001b[0;34m=\u001b[0m\u001b[0my\u001b[0m\u001b[0;34m)\u001b[0m\u001b[0;34m)\u001b[0m\u001b[0;34m\u001b[0m\u001b[0;34m\u001b[0m\u001b[0m\n\u001b[1;32m      7\u001b[0m \u001b[0mfig\u001b[0m\u001b[0;34m.\u001b[0m\u001b[0mshow\u001b[0m\u001b[0;34m(\u001b[0m\u001b[0;34m)\u001b[0m\u001b[0;34m\u001b[0m\u001b[0;34m\u001b[0m\u001b[0m\n",
      "\u001b[0;31mNameError\u001b[0m: name 'x' is not defined"
     ]
    }
   ],
   "source": [
    "# Using plotly\n",
    "import plotly.graph_objects as go\n",
    "\n",
    "fig = go.Figure()\n",
    "fig.add_trace(go.Box(y=x))\n",
    "fig.add_trace(go.Box(y=y))\n",
    "fig.show()"
   ]
  },
  {
   "cell_type": "markdown",
   "id": "444c20e4",
   "metadata": {},
   "source": [
    "Se puede emplear el test de Kolmogorov-Smirnov simple o con la correccion de Lilliefors.\n",
    "La funcion en R se llama lillie.test() y se encuentra en el paquete nortest."
   ]
  },
  {
   "cell_type": "code",
   "execution_count": null,
   "id": "c1a78b8f",
   "metadata": {},
   "outputs": [],
   "source": [
    "# Beginner way to do it\n",
    "\n",
    "from statsmodels.stats.diagnostic import lilliefors\n",
    "\n",
    "my_df = pd.DataFrame(index=np.arange(len(np.unique(my_data[\"position\"]))), columns=[\"position\", \"D_statistic\", \"p_value\"])\n",
    "my_df[\"position\"] = np.unique(my_data[\"position\"])\n",
    "\n",
    "for position in my_df[\"position\"]:\n",
    "    my_data_subset = my_data.loc[my_data[\"position\"] == position,:]\n",
    "    D_statistic, p_value = lilliefors(my_data_subset.average)\n",
    "    my_df.loc[my_df[\"position\"]==position,[\"D_statistic\", \"p_value\"]] = D_statistic, p_value\n",
    "    \n",
    "print(my_df)"
   ]
  },
  {
   "cell_type": "code",
   "execution_count": null,
   "id": "1465c2f2",
   "metadata": {},
   "outputs": [],
   "source": [
    "#Another way to do it (Highly recommendable)\n",
    "my_data.groupby(\"position\")[\"average\"].apply(lilliefors)"
   ]
  },
  {
   "cell_type": "markdown",
   "id": "b290bacc",
   "metadata": {},
   "source": [
    "The hypothesis tests do not show evidence of a lack of normality."
   ]
  },
  {
   "cell_type": "markdown",
   "id": "1489a7b2",
   "metadata": {},
   "source": [
    "Constant variance between groups (homoscedasticity):\n",
    "   \n",
    "Given that there is a group (DC) that is at the limit to accept that it is distributed in a normal way, the Fisher and Bartlett tests are not recommended. Instead it is better to use a test based on the median Levene test or the Fligner-Killeen test."
   ]
  },
  {
   "cell_type": "code",
   "execution_count": null,
   "id": "a5a7029e",
   "metadata": {},
   "outputs": [],
   "source": [
    "from scipy import stats\n",
    "\n",
    "values_array = pd.DataFrame(my_data.groupby(\"position\")[\"average\"]).to_numpy()\n",
    "\n",
    "print(stats.fligner(values_array[0,1], values_array[1,1], values_array[2,1], values_array[3,1]))\n",
    "\n",
    "print(stats.levene(values_array[0,1], values_array[1,1], values_array[2,1], values_array[3,1]))\n",
    "\n",
    "# stats.fligner(values_array[:,1]) # I don't know why this doesn't work :(\n"
   ]
  },
  {
   "cell_type": "markdown",
   "id": "9e2767bd",
   "metadata": {},
   "source": [
    "There is no significant evidence of lack of homoscedasticity in either of the two tests.\n",
    "\n",
    "The study of the conditions can be carried out after calculating the ANOVA, since if they are not fulfilled, it does not make much sense to continue. However, the most appropriate way to verify that the necessary conditions are satisfied is by studying the model residuals once the ANOVA has been generated. R allows you to graph the residuals directly with the plot function (anova object)."
   ]
  },
  {
   "cell_type": "code",
   "execution_count": null,
   "id": "5267489c",
   "metadata": {},
   "outputs": [],
   "source": [
    "# get ANOVA table as R like output\n",
    "import statsmodels.api as sm\n",
    "from statsmodels.formula.api import ols\n",
    "\n",
    "# Ordinary Least Squares (OLS) model\n",
    "model = ols('average ~ position', data=my_data).fit()\n",
    "anova_table = sm.stats.anova_lm(model, typ=2)\n",
    "anova_table"
   ]
  },
  {
   "cell_type": "code",
   "execution_count": null,
   "id": "101299c5",
   "metadata": {},
   "outputs": [],
   "source": [
    "# ANOVA with package bioinfokit\n",
    "from bioinfokit.analys import stat\n",
    "res = stat()\n",
    "res.anova_stat(df=my_data, res_var='value', anova_model='average ~ position')\n",
    "res.anova_summary\n",
    "# output (ANOVA F and p value)"
   ]
  },
  {
   "cell_type": "code",
   "execution_count": null,
   "id": "e123a9e0",
   "metadata": {},
   "outputs": [],
   "source": [
    "# QQ-plot\n",
    "import statsmodels.api as sm\n",
    "import matplotlib.pyplot as plt\n",
    "\n",
    "\n",
    "plt.scatter(res.anova_model_out.fittedvalues, res.anova_model_out.resid)\n",
    "plt.xlabel(\"Fitted values\")\n",
    "plt.ylabel(\"Residuals\")\n",
    "plt.title(\"Residuals vs. Fitted\")\n",
    "plt.show()\n",
    "\n",
    "# res.anova_std_residuals are standardized residuals obtained from ANOVA (check above)\n",
    "sm.qqplot(res.anova_std_residuals, line='45')\n",
    "plt.xlabel(\"Theoretical Quantiles\")\n",
    "plt.ylabel(\"Standardized Residuals\")\n",
    "plt.show()\n",
    "\n",
    "# histogram\n",
    "plt.hist(res.anova_model_out.resid, bins='auto', histtype='bar', ec='k') \n",
    "plt.xlabel(\"Residuals\")\n",
    "plt.ylabel('Frequency')\n",
    "plt.show()"
   ]
  },
  {
   "cell_type": "markdown",
   "id": "dda611cd",
   "metadata": {},
   "source": [
    "Given that the p-value is higher than 0.05, there is not enough evidence to consider that at least two means are different. The graphical representation of the residuals does not show lack of homoscedasticity (graph 1) and in the qqplot the residuals are distributed very close to the normal line (graph 2 and 3)."
   ]
  }
 ],
 "metadata": {
  "kernelspec": {
   "display_name": "Python 3 (ipykernel)",
   "language": "python",
   "name": "python3"
  },
  "language_info": {
   "codemirror_mode": {
    "name": "ipython",
    "version": 3
   },
   "file_extension": ".py",
   "mimetype": "text/x-python",
   "name": "python",
   "nbconvert_exporter": "python",
   "pygments_lexer": "ipython3",
   "version": "3.8.10"
  }
 },
 "nbformat": 4,
 "nbformat_minor": 5
}
