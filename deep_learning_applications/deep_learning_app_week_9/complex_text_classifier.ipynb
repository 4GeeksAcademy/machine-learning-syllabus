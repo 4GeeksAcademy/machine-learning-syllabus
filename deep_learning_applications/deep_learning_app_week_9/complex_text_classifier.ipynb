{
  "nbformat": 4,
  "nbformat_minor": 0,
  "metadata": {
    "colab": {
      "name": "complex_text_classifier.ipynb",
      "provenance": []
    },
    "kernelspec": {
      "name": "python3",
      "display_name": "Python 3"
    },
    "language_info": {
      "name": "python"
    },
    "accelerator": "GPU"
  },
  "cells": [
    {
      "cell_type": "markdown",
      "source": [
        "# **All Imports**"
      ],
      "metadata": {
        "id": "rU0UfiwyQj0q"
      }
    },
    {
      "cell_type": "code",
      "source": [
        "'''\n",
        "Created on 28/03/2022\n",
        "\n",
        "@author: Francesco Pugliese\n",
        "'''\n",
        "\n",
        "from __future__ import print_function\n",
        "import pdb\n",
        "\n",
        "# Other imports\n",
        "import numpy\n",
        "from os import listdir\n",
        "import random\n",
        "import os\n",
        "import timeit\n",
        "import platform\n",
        "import string\n",
        "import sys"
      ],
      "metadata": {
        "id": "ZtV03Ht1QiU_"
      },
      "execution_count": 3,
      "outputs": []
    },
    {
      "cell_type": "markdown",
      "source": [
        "#**All Utility Functions Definition**"
      ],
      "metadata": {
        "id": "mqdUTisPJLIt"
      }
    },
    {
      "cell_type": "code",
      "source": [
        "def data_download(file_to_download, gdrive_code, OS, uncompress = True):\n",
        "  if not os.path.exists(file_to_download):\n",
        "    os.system('gdown --id \"'+gdrive_code+'\" --output '+file_to_download)\n",
        "    if OS == \"Linux\" and uncompress:\n",
        "        os.system('unzip -o -n \"./'+file_to_download+'\" -d \"./\"')\n",
        "    return True\n",
        "  else: \n",
        "    return None"
      ],
      "metadata": {
        "id": "C2TUlCWSJVV6"
      },
      "execution_count": 4,
      "outputs": []
    },
    {
      "cell_type": "markdown",
      "source": [
        "# **All Downloads**"
      ],
      "metadata": {
        "id": "TEyxQNHh-ifd"
      }
    },
    {
      "cell_type": "code",
      "source": [
        "start_time = timeit.default_timer()\n",
        "# Operating System\n",
        "OS = platform.system()                           # returns 'Windows', 'Linux', etc\n",
        "\n",
        "os.system('pip install --upgrade --no-cache-dir gdown')\n",
        "\n",
        "out = data_download(\"./Sentiment_Analysis_Data.zip\", \"1nTPYscUe56_K40S7oDWZriyB5poN6CB3\", OS)\n",
        "out = data_download(\"./complex_classifier_libs.zip\", \"1fXl4lpnUbqO5EHyZkdr059iFAuxwUQcO\", OS)\n",
        "\n",
        "\n",
        "print(\"Elapsed Time: \", timeit.default_timer() - start_time)"
      ],
      "metadata": {
        "colab": {
          "base_uri": "https://localhost:8080/"
        },
        "id": "Ipm4TGgv-mE7",
        "outputId": "a8e47b75-b562-4c9d-f395-19a6e3866c58"
      },
      "execution_count": 5,
      "outputs": [
        {
          "output_type": "stream",
          "name": "stdout",
          "text": [
            "Elapsed Time:  2.481191601999967\n"
          ]
        }
      ]
    },
    {
      "cell_type": "markdown",
      "source": [
        "# **All Program Imports**"
      ],
      "metadata": {
        "id": "bQwnN5nsKSb4"
      }
    },
    {
      "cell_type": "code",
      "source": [
        "# Keras imports\n",
        "from keras.preprocessing.image import ImageDataGenerator\n",
        "\n",
        "# Preprocessing\n",
        "from Preprocessing.preprocessing import load_datasets, load_sentipolc_datasets, create_word_index, prepare_embedding_matrix\n",
        "from Embeddings.w2v_preprocessing import initialize_embeddings, encode_fast_embeddings\n",
        "\n",
        "# Training\n",
        "from Training.training import Training\n",
        "\n",
        "# Misc\n",
        "from Misc.utils import delete_empty_tweets\n"
      ],
      "metadata": {
        "id": "ug7PVS13KR3R"
      },
      "execution_count": 6,
      "outputs": []
    },
    {
      "cell_type": "markdown",
      "source": [
        "#**All initializations**"
      ],
      "metadata": {
        "id": "nMcajjqFLcPC"
      }
    },
    {
      "cell_type": "code",
      "source": [
        "os.system('pip install gensim==4.1.2')\n",
        "import gensim\n",
        "print(gensim.__version__)"
      ],
      "metadata": {
        "colab": {
          "base_uri": "https://localhost:8080/"
        },
        "id": "nO1tMS2ILkgW",
        "outputId": "3fdbce6e-6df0-4751-d6c4-7df22950b68c"
      },
      "execution_count": 7,
      "outputs": [
        {
          "output_type": "stream",
          "name": "stdout",
          "text": [
            "4.1.2\n"
          ]
        }
      ]
    },
    {
      "cell_type": "markdown",
      "source": [
        "#**All Globals**"
      ],
      "metadata": {
        "id": "TTnmorHWQ1ku"
      }
    },
    {
      "cell_type": "code",
      "execution_count": 8,
      "metadata": {
        "id": "MJXszo2tPv-E"
      },
      "outputs": [],
      "source": [
        "os.environ['TF_CPP_MIN_LOG_LEVEL'] = '3'\n",
        "\n",
        "# Operating System\n",
        "OS = platform.system()                      # returns 'Windows', 'Linux', etc\n",
        "language = 'en'\n",
        "\n",
        "# preprocessing\n",
        "fastEmbeddingsLoad = True\n",
        "fastEmbeddingsSave = False\n",
        "\n",
        "# train set\n",
        "MAX_NB_WORDS = 10000\n",
        "validation_split = 0.02\n",
        "trainset_limit = 1000\n",
        "#trainset_limit = None\n",
        "\n",
        "# Training\n",
        "batch_size = 32\n",
        "epochs = 10\n",
        "save_best_model = True\n",
        "save_log = False\n",
        "return_epochs = True\n",
        "solver = 'adadelta'\n",
        "incremental = False\n",
        "\n",
        "# Embeddings\n",
        "embedding_size = 300\n",
        "embeddings_type = 'word2vec'\t\t\t\t\t\t# Embeddings type: w2v = word2vec, glove = Glove\n",
        "\n",
        "# Initialization \n",
        "\n",
        "# Set CPU or GPU type\n",
        "gpu = True\n",
        "gpu_id = \"0\"\n",
        "os.environ[\"CUDA_DEVICE_ORDER\"] = \"PCI_BUS_ID\"  \n",
        "if gpu == False: \n",
        "    os.environ[\"CUDA_VISIBLE_DEVICES\"] = \"\"\n",
        "else: \n",
        "    os.environ[\"CUDA_VISIBLE_DEVICES\"] = gpu_id\n",
        "\n",
        "sentiment_dataset_path = './Sentiment_Analysis_Data/'+language+'/trainsets/'\n",
        "\n",
        "padded_sequence_length = 140\n",
        "longest = False                      # True = considering the maximum twitters length\n",
        "\n",
        "if fastEmbeddingsLoad == False: \n",
        "    embeddings_file = 'wiki.'+language+'.vec'\n",
        "else: \n",
        "    embeddings_file = 'wiki.'+language+'.vec'+'.bin'\n",
        "\n",
        "if fastEmbeddingsSave == True:\n",
        "    embeddings_slow_file = 'wiki.'+language+'.vec'\n",
        "\n",
        "embeddings_path = './Sentiment_Analysis_Data/'+language+'/embeddings/'+embeddings_type+'/'+str(embedding_size)\n",
        "\n",
        "# Model \n",
        "#neural_model = 'recconvnet'\n",
        "neural_model = 'lstm'\n",
        "models_path = '../SavedModels/'+language\n",
        "model_file = \"best_sentiment_deep_model_windows.snn\"        \n",
        "model_file = neural_model + '_' + model_file\n",
        "\n",
        "# Testing\n",
        "save_valid_set = False\t\t"
      ]
    },
    {
      "cell_type": "markdown",
      "source": [
        "# **All Functions Definitions**"
      ],
      "metadata": {
        "id": "qv39BDD3Tigg"
      }
    },
    {
      "cell_type": "code",
      "source": [
        "def train_all(models_path, model_file, x_train_txt, y_train, x_val_txt, y_val, data_set, labels, num_validation_samples, save_valid_set, embeddings_model, embedding_size, save_best_model, max_nb_words):\n",
        "       \n",
        "    if save_valid_set == True: \n",
        "        numpy.savetxt(sentiment_testset_path+'/'+\"x_validation.csv\", x_val_txt, delimiter = ',', fmt = \"%s\")\n",
        "        numpy.savetxt(sentiment_testset_path+'/'+\"y_validation.csv\", y_val, delimiter = ',')\n",
        "\n",
        "    # create word index\n",
        "    print('\\nCreating Word Index...')\n",
        "\t\n",
        "    data, word_index = create_word_index(data_set = data_set, max_words = max_nb_words, padded_sequence_length = padded_sequence_length, longest = longest)                                             # Translate textual words into indices words\n",
        "        \n",
        "    print('\\nFound %s unique words within the train set.' % len(word_index))\n",
        "    print('Shape of data tensor:', data.shape)\n",
        "    print('Shape of label tensor:', labels.shape)\n",
        "\n",
        "    x_train = data[:-num_validation_samples]\n",
        "    x_val = data[-num_validation_samples:]\n",
        "\n",
        "    # prepare embedding magtrix\n",
        "    embedding_matrix, not_matched = prepare_embedding_matrix(word_index = word_index, max_words = max_nb_words, embeddings_model = embeddings_model, embedding_size = embedding_size)\n",
        "    print('\\n%i train-set words not found in word embeddings corpus.' % (not_matched))\n",
        "\n",
        "    \n",
        "    # Start training\n",
        "    print('Building model...')\n",
        "\n",
        "    train_start_time = timeit.default_timer()\n",
        "        \n",
        "    Training.train(x_train, y_train, x_val, y_val, neural_model, batch_size, epochs, embedding_matrix, models_path, model_file, save_best_model, solver, save_log, return_epochs, incremental, None, None)\n",
        "\n",
        "    train_end_time = timeit.default_timer()\n",
        "\n",
        "    return train_end_time - train_start_time"
      ],
      "metadata": {
        "id": "dYfCjgNsTbQ2"
      },
      "execution_count": 9,
      "outputs": []
    },
    {
      "cell_type": "markdown",
      "source": [
        "# **Body of the program**"
      ],
      "metadata": {
        "id": "Rvg0TNHYUsYw"
      }
    },
    {
      "cell_type": "code",
      "source": [
        "numpy.random.seed(23455) \n",
        "global_start_time = timeit.default_timer()\n",
        "\n",
        "# Preprocessing\n",
        "if language == \"en\": \n",
        "    datasets = load_datasets(sentiment_dataset_path = sentiment_dataset_path, validation_split = validation_split, shuffle = True, limit = trainset_limit)      # Loads Trainig and Validation Set\n",
        "elif language == \"it\": \n",
        "    datasets = load_sentipolc_datasets(sentiment_dataset_path = sentiment_dataset_path, validation_split = validation_split, shuffle = True, limit = trainset_limit)      # Loads Trainig and Validation Set\n",
        "else: \n",
        "    print(\"\\nLanguage not valid: %s\" % (language))\n",
        "    sys.exit(\"\")\n",
        "\t\n",
        "x_train_txt, y_train = datasets[0] \n",
        "x_val_txt, y_val = datasets[1]\n",
        "data_set, labels = datasets[2]\n",
        "num_validation_samples = datasets[3]\n",
        "\n",
        "# Word embeddings\n",
        "if fastEmbeddingsSave == True:\n",
        "    encode_fast_embeddings(embeddings_path, embeddings_slow_file)\n",
        "\n",
        "embeddings_model = initialize_embeddings(embeddings_path, embeddings_file, fastEmbeddingsLoad, language)\n",
        "\n",
        "train_time = train_all(models_path, model_file, x_train_txt, y_train, x_val_txt, y_val, data_set, labels, num_validation_samples, save_valid_set, embeddings_model, embedding_size, save_best_model, max_nb_words = MAX_NB_WORDS)\n",
        "\t\t\t\t\t   \n",
        "print ('\\n\\nTraining time: %.2f minutes\\n' % (train_time  / 60.))\n",
        "\n",
        "end_time = timeit.default_timer()\n",
        "print ('\\n\\nGlobal time: %.2f minutes\\n' % ((end_time - global_start_time) / 60.))"
      ],
      "metadata": {
        "colab": {
          "base_uri": "https://localhost:8080/"
        },
        "id": "B1G0l-WiTfGL",
        "outputId": "557214fa-a1da-4d5e-ad0f-9cc47dc67959"
      },
      "execution_count": null,
      "outputs": [
        {
          "metadata": {
            "tags": null
          },
          "name": "stdout",
          "output_type": "stream",
          "text": [
            "Loading Data Sets from files CSV...\n",
            "Reading: positive_eng.txt\n",
            "1000 lines read\n",
            "Reading: negative_eng.txt\n",
            "1000 lines read\n",
            "\n",
            "Loading Word Embeddings (English Language Corpus)...\n",
            "\n",
            "\n",
            "Creating Word Index...\n",
            "\n",
            "Found 6194 unique words within the train set.\n",
            "Shape of data tensor: (2000, 140)\n",
            "Shape of label tensor: (2000, 1)\n",
            "\n",
            "1495 train-set words not found in word embeddings corpus.\n",
            "Building model...\n",
            "WARNING:tensorflow:Layer lstm will not use cuDNN kernels since it doesn't meet the criteria. It will use a generic GPU kernel as fallback when running on GPU.\n",
            "WARNING:tensorflow:Layer lstm_1 will not use cuDNN kernels since it doesn't meet the criteria. It will use a generic GPU kernel as fallback when running on GPU.\n",
            "Model: \"sequential_1\"\n",
            "_________________________________________________________________\n",
            " Layer (type)                Output Shape              Param #   \n",
            "=================================================================\n",
            " embedding (Embedding)       (None, 140, 300)          1858500   \n",
            "                                                                 \n",
            " sequential (Sequential)     (None, 1)                 269121    \n",
            "                                                                 \n",
            "=================================================================\n",
            "Total params: 2,127,621\n",
            "Trainable params: 269,121\n",
            "Non-trainable params: 1,858,500\n",
            "_________________________________________________________________\n",
            "Model: \"sequential\"\n",
            "_________________________________________________________________\n",
            " Layer (type)                Output Shape              Param #   \n",
            "=================================================================\n",
            " lstm (LSTM)                 (None, 140, 128)          219648    \n",
            "                                                                 \n",
            " lstm_1 (LSTM)               (None, 64)                49408     \n",
            "                                                                 \n",
            " dense (Dense)               (None, 1)                 65        \n",
            "                                                                 \n",
            "=================================================================\n",
            "Total params: 269,121\n",
            "Trainable params: 269,121\n",
            "Non-trainable params: 0\n",
            "_________________________________________________________________\n",
            "Epoch 1/10\n",
            "10%\n",
            "WARNING:tensorflow:Can save best model only with val_acc available, skipping.\n",
            "62/62 - 69s - loss: 0.6931 - accuracy: 0.4980 - val_loss: 0.6930 - val_accuracy: 0.5750 - 69s/epoch - 1s/step\n",
            "Epoch 2/10\n",
            "20%\n",
            "WARNING:tensorflow:Can save best model only with val_acc available, skipping.\n",
            "62/62 - 61s - loss: 0.6926 - accuracy: 0.5250 - val_loss: 0.6930 - val_accuracy: 0.5750 - 61s/epoch - 986ms/step\n",
            "Epoch 3/10\n"
          ]
        }
      ]
    },
    {
      "cell_type": "code",
      "source": [
        "import gensim\n",
        "gensim.__version__"
      ],
      "metadata": {
        "colab": {
          "base_uri": "https://localhost:8080/",
          "height": 35
        },
        "id": "J_R0EEwHOJnV",
        "outputId": "09347649-60a0-41a2-dad1-c34472242bb8"
      },
      "execution_count": 13,
      "outputs": [
        {
          "output_type": "execute_result",
          "data": {
            "text/plain": [
              "'3.6.0'"
            ],
            "application/vnd.google.colaboratory.intrinsic+json": {
              "type": "string"
            }
          },
          "metadata": {},
          "execution_count": 13
        }
      ]
    }
  ]
}