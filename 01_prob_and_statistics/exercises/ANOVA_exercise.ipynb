{
 "cells": [
  {
   "cell_type": "markdown",
   "id": "bdfbcacc",
   "metadata": {},
   "source": [
    "# ANOVA"
   ]
  },
  {
   "cell_type": "markdown",
   "id": "768493ee",
   "metadata": {},
   "source": [
    "Suppose that a study wants to check if there is a significant difference between the goal averages of soccer players depending on the position in which they play. In case there is a difference, you want to know which positions differ from the rest.\n",
    "\n",
    "### NOTE: You must replace the values `<<<FIXME>>>`."
   ]
  },
  {
   "cell_type": "markdown",
   "id": "dd97255d",
   "metadata": {},
   "source": [
    "#### Exercise:  Load data from \"datos_laliga.csv\". It contains a sample of randomly selected players."
   ]
  },
  {
   "cell_type": "code",
   "execution_count": null,
   "id": "4b93d9c8",
   "metadata": {},
   "outputs": [],
   "source": [
    "import pandas as pd\n",
    "my_data = pd.read_csv(<<<FIXME>>>)\n",
    "my_data"
   ]
  },
  {
   "cell_type": "code",
   "execution_count": null,
   "id": "2e462542",
   "metadata": {},
   "outputs": [],
   "source": [
    "<<<FIXME>>>.describe()"
   ]
  },
  {
   "cell_type": "markdown",
   "id": "0bcf9e1f",
   "metadata": {},
   "source": [
    "#### Exercise: Identify the number of groups and number of observations per group to determine if it is a balanced model. The mean and standard deviation of the group are also calculated."
   ]
  },
  {
   "cell_type": "code",
   "execution_count": null,
   "id": "d6206327",
   "metadata": {},
   "outputs": [],
   "source": [
    "pd.crosstab(my_data[<<<FIXME>>>],columns=[\"DC\", \"MO\", \"MP\", \"P\"])\n",
    "#DC: Delantero centro\n",
    "#MO: Medio ofensivo\n",
    "#MP: Media punta\n",
    "#P: Puntero"
   ]
  },
  {
   "cell_type": "markdown",
   "id": "9dde5ae8",
   "metadata": {},
   "source": [
    "#### Exercise:  Calculate the mean and standar deviation by position"
   ]
  },
  {
   "cell_type": "code",
   "execution_count": null,
   "id": "499f0474",
   "metadata": {},
   "outputs": [],
   "source": [
    "my_data.groupby('<<<FIXME>>>')['average'].agg('<<<FIXME>>>')"
   ]
  },
  {
   "cell_type": "markdown",
   "id": "94e6be91",
   "metadata": {},
   "source": [
    "#### Exercise:  Calculate the standard deviation by position"
   ]
  },
  {
   "cell_type": "code",
   "execution_count": null,
   "id": "41e91c09",
   "metadata": {},
   "outputs": [],
   "source": [
    "my_data.groupby('<<<FIXME>>>')['average'].agg('<<<FIXME>>>')"
   ]
  },
  {
   "cell_type": "markdown",
   "id": "6a621699",
   "metadata": {},
   "source": [
    "Since the number of observations per group is not constant, it is an unbalanced model. It is important to take this into account when checking the conditions of normality and homoscedasticity (s1 = s2 = s3 = s4). The most useful graphical representation before performing an ANOVA is the Box-Plot model.\n",
    "\n",
    "#### Exercise:  Plot a boxplot for each position"
   ]
  },
  {
   "cell_type": "code",
   "execution_count": null,
   "id": "24397993",
   "metadata": {},
   "outputs": [],
   "source": [
    "# Boxplots\n",
    "# This is another way and popular package used in R (ggplot)\n",
    "from plotnine import *\n",
    "\n",
    "(\n",
    "    ggplot(my_data)  # What data to use\n",
    "    + aes(x=\"<<<FIXME>>>\", y=\"average\")  # What variable to use\n",
    "    + geom_boxplot()  # Geometric object to use for drawing\n",
    "    + theme_bw()\n",
    ")"
   ]
  },
  {
   "cell_type": "markdown",
   "id": "6d5e7073",
   "metadata": {},
   "source": [
    "# Independence:\n",
    "  \n",
    "The total sample size is <10% of the population of all players in the league.\n",
    "The groups (categorical variable) are independent of each other since a random sample of players from the entire league (not just from the same team) has been made.\n",
    " \n",
    "Normal distribution of observations: The quantitative variable must be distributed in a normal way in each of the groups. The normality study can be done graphically (qqplot) or with a hypothesis test.\n",
    "\n",
    "#### Exercise:  Make an analysis about normal distribution for each position"
   ]
  },
  {
   "cell_type": "code",
   "execution_count": null,
   "id": "3c8c076d",
   "metadata": {},
   "outputs": [],
   "source": [
    "import numpy as np \n",
    "import pylab \n",
    "import matplotlib.pyplot as plt\n",
    "import scipy.stats as stats\n",
    "\n",
    "measurements = my_data.loc[my_data[\"<<<FIXME>>>\"] == \"<<<FIXME>>>\",\"average\"]\n",
    "stats.probplot(measurements, dist=\"norm\", plot=pylab)\n",
    "plt.title(\"P\")\n",
    "plt.show()\n",
    "\n",
    "measurements = my_data.loc[my_data[\"<<<FIXME>>>\"] == \"<<<FIXME>>>\",\"average\"]\n",
    "stats.probplot(measurements, dist=\"norm\", plot=pylab)\n",
    "plt.title(\"MO\")\n",
    "plt.show()\n",
    "\n",
    "measurements = my_data.loc[my_data[\"<<<FIXME>>>\"] == \"<<<FIXME>>>\",\"average\"]\n",
    "stats.probplot(measurements, dist=\"norm\", plot=pylab)\n",
    "plt.title(\"DC\")\n",
    "plt.show()\n",
    "\n",
    "measurements = my_data.loc[my_data[\"<<<FIXME>>>\"] == \"<<<FIXME>>>\",\"average\"]\n",
    "stats.probplot(measurements, dist=\"norm\", plot=pylab)\n",
    "plt.title(\"MP\")\n",
    "plt.show()"
   ]
  },
  {
   "cell_type": "markdown",
   "id": "727d2291",
   "metadata": {},
   "source": [
    "#### Exercise: make the boxplot for each position, what you can say about them?"
   ]
  },
  {
   "cell_type": "code",
   "execution_count": null,
   "id": "7fecf61d",
   "metadata": {},
   "outputs": [],
   "source": [
    "# Using plotly\n",
    "import plotly.graph_objects as go\n",
    "\n",
    "fig = go.Figure()\n",
    "fig.add_trace(go.Box(y=my_data.loc[my_data[\"<<<FIXME>>>\"] == \"<<<FIXME>>>\",\"average\"]))\n",
    "fig.add_trace(go.Box(y=my_data.loc[my_data[\"<<<FIXME>>>\"] == \"<<<FIXME>>>\",\"average\"]))\n",
    "fig.add_trace(go.Box(y=my_data.loc[my_data[\"<<<FIXME>>>\"] == \"<<<FIXME>>>\",\"average\"]))\n",
    "fig.add_trace(go.Box(y=my_data.loc[my_data[\"<<<FIXME>>>\"] == \"<<<FIXME>>>\",\"average\"]))\n",
    "fig.show()"
   ]
  },
  {
   "cell_type": "markdown",
   "id": "444c20e4",
   "metadata": {},
   "source": [
    "#### Exercise: Use the Kolmogorov-Smirnov test or with or without the Lilliefors correction in order to know the normality distribution.\n"
   ]
  },
  {
   "cell_type": "code",
   "execution_count": null,
   "id": "c1a78b8f",
   "metadata": {},
   "outputs": [],
   "source": [
    "# Beginner way to do it\n",
    "\n",
    "from statsmodels.stats.diagnostic import lilliefors\n",
    "\n",
    "my_df = pd.DataFrame(index=np.arange(len(np.unique(my_data[\"position\"]))), columns=[\"position\", \"D_statistic\", \"p_value\"])\n",
    "my_df[\"position\"] = np.unique(my_data[\"position\"])\n",
    "\n",
    "for position in my_df[\"position\"]:\n",
    "    my_data_subset = my_data.loc[my_data[\"position\"] == position,:]\n",
    "    D_statistic, p_value = lilliefors(my_data_subset.average)\n",
    "    my_df.loc[my_df[\"position\"]==position,[\"D_statistic\", \"p_value\"]] = D_statistic, p_value\n",
    "    \n",
    "print(my_df)"
   ]
  },
  {
   "cell_type": "code",
   "execution_count": null,
   "id": "1465c2f2",
   "metadata": {},
   "outputs": [],
   "source": [
    "#Another way to do it (Highly recommendable)\n",
    "my_data.groupby(\"<<<FIXME>>>\")[\"average\"].apply(<<<FIXME>>>)"
   ]
  },
  {
   "cell_type": "markdown",
   "id": "b290bacc",
   "metadata": {},
   "source": [
    "The hypothesis tests do not show evidence of a lack of normality."
   ]
  },
  {
   "cell_type": "markdown",
   "id": "1489a7b2",
   "metadata": {},
   "source": [
    "Constant variance between groups (homoscedasticity):\n",
    "   \n",
    "Given that there is a group (DC) that is at the limit to accept that it is distributed in a normal way, the Fisher and Bartlett tests are not recommended. Instead it is better to use a test based on the median Levene test or the Fligner-Killeen test.\n",
    "\n",
    "#### Exercise: use the `fligner` and `levene` functions from `scipy.stats` in order to know the homocedasticy"
   ]
  },
  {
   "cell_type": "code",
   "execution_count": null,
   "id": "a5a7029e",
   "metadata": {},
   "outputs": [],
   "source": [
    "from scipy import stats\n",
    "\n",
    "values_array = pd.DataFrame(my_data.groupby(\"<<<FIXME>>>\")[\"average\"]).to_numpy()\n",
    "\n",
    "print(stats.fligner(values_array[0,1], values_array[1,1], values_array[2,1], values_array[3,1]))\n",
    "\n",
    "print(stats.levene(values_array[0,1], values_array[1,1], values_array[2,1], values_array[3,1]))\n",
    "\n",
    "# stats.fligner(values_array[:,1]) # It doesn't work, please analyse\n"
   ]
  },
  {
   "cell_type": "markdown",
   "id": "9e2767bd",
   "metadata": {},
   "source": [
    "There is no significant evidence of lack of homoscedasticity in either of the two tests.\n",
    "\n",
    "The study of the conditions can be carried out after calculating the ANOVA, since if they are not fulfilled, it does not make much sense to continue. However, the most appropriate way to verify that the necessary conditions are satisfied is by studying the model residuals once the ANOVA has been generated.\n",
    "\n",
    "#### Exercise: make an ANOVA table and analyze the p-value using the packages `statsmodels` and the `bioinfokit`"
   ]
  },
  {
   "cell_type": "code",
   "execution_count": null,
   "id": "5267489c",
   "metadata": {},
   "outputs": [],
   "source": [
    "# get ANOVA table as R like output\n",
    "import statsmodels.api as sm\n",
    "from statsmodels.formula.api import ols\n",
    "\n",
    "# Ordinary Least Squares (OLS) model\n",
    "model = ols('<<<FIXME>>> ~ <<<FIXME>>>', data=my_data).fit()\n",
    "anova_table = sm.stats.anova_lm(model, typ=2)\n",
    "anova_table"
   ]
  },
  {
   "cell_type": "code",
   "execution_count": null,
   "id": "101299c5",
   "metadata": {},
   "outputs": [],
   "source": [
    "# ANOVA with package bioinfokit\n",
    "from bioinfokit.analys import stat\n",
    "res = stat()\n",
    "res.anova_stat(df=my_data, res_var='value', anova_model='<<<FIXME>>> ~ <<<FIXME>>>')\n",
    "res.anova_summary\n",
    "# output (ANOVA F and p value)"
   ]
  },
  {
   "cell_type": "markdown",
   "id": "5d5ae29a",
   "metadata": {},
   "source": [
    "#### Exercise: make a plot of the fitted values vs residuals. Make the plot of the Standardized Residuals. Make the histogram of the residuals."
   ]
  },
  {
   "cell_type": "code",
   "execution_count": null,
   "id": "e123a9e0",
   "metadata": {},
   "outputs": [],
   "source": [
    "# QQ-plot\n",
    "import statsmodels.api as sm\n",
    "import matplotlib.pyplot as plt\n",
    "\n",
    "\n",
    "plt.scatter(res.anova_model_out.<<<FIXME>>>, res.anova_model_out.<<<FIXME>>>)\n",
    "plt.xlabel(\"Fitted values\")\n",
    "plt.ylabel(\"Residuals\")\n",
    "plt.title(\"Residuals vs. Fitted\")\n",
    "plt.show()\n",
    "\n",
    "# res.anova_std_residuals are standardized residuals obtained from ANOVA (check above)\n",
    "sm.qqplot(res.<<<FIXME>>>, line='45')\n",
    "plt.xlabel(\"Theoretical Quantiles\")\n",
    "plt.ylabel(\"Standardized Residuals\")\n",
    "plt.show()\n",
    "\n",
    "# histogram\n",
    "plt.hist(res.anova_model_out.<<<FIXME>>>, bins='auto', histtype='bar', ec='k') \n",
    "plt.xlabel(\"Residuals\")\n",
    "plt.ylabel('Frequency')\n",
    "plt.show()"
   ]
  },
  {
   "cell_type": "markdown",
   "id": "dda611cd",
   "metadata": {},
   "source": [
    "Given that the p-value is higher than 0.05, there is not enough evidence to consider that at least two means are different. The graphical representation of the residuals does not show lack of homoscedasticity (graph 1) and in the qqplot the residuals are distributed very close to the normal line (graph 2 and 3)."
   ]
  }
 ],
 "metadata": {
  "kernelspec": {
   "display_name": "Python 3",
   "language": "python",
   "name": "python3"
  },
  "language_info": {
   "codemirror_mode": {
    "name": "ipython",
    "version": 3
   },
   "file_extension": ".py",
   "mimetype": "text/x-python",
   "name": "python",
   "nbconvert_exporter": "python",
   "pygments_lexer": "ipython3",
   "version": "3.8.10"
  }
 },
 "nbformat": 4,
 "nbformat_minor": 5
}
