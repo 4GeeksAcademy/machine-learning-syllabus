{
  "cells": [
    {
      "cell_type": "markdown",
      "metadata": {
        "id": "b36xEEI9o6nb"
      },
      "source": [
        "#### For the exercises we will use **Iris flower dataset**\n",
        "\n",
        "#### The data set consists of 50 samples from each of three species of Iris (Iris setosa, Iris virginica and Iris versicolor). Four features were measured from each sample: the length and the width of the sepals and petals, in centimeters. Based on the combination of these four features, Fisher developed a linear discriminant model to distinguish the species from each other."
      ]
    },
    {
      "cell_type": "markdown",
      "metadata": {
        "id": "HoEjyts24zTu"
      },
      "source": [
        "#### Loading libraries"
      ]
    },
    {
      "cell_type": "code",
      "execution_count": null,
      "metadata": {
        "collapsed": true,
        "id": "x0hMshdz4yZs"
      },
      "outputs": [],
      "source": [
        "# Numpy for numerical analysis\n",
        "import numpy as np\n",
        "\n",
        "# Pandas for reading and exploring dataset\n",
        "import pandas as pd\n",
        "\n",
        "# Matplotlib for data visualization\n",
        "import matplotlib.pyplot as plt\n",
        "\n",
        "# For showing learning metrics  \n",
        "from sklearn import metrics\n",
        "\n",
        "# For all the metrics\n",
        "\n",
        "# MSE\n",
        "from sklearn.metrics import mean_squared_error\n",
        "\n",
        "# For accuracy score\n",
        "from sklearn.metrics import accuracy_score\n",
        "\n",
        "# For splitting input data in to train and test dataset\n",
        "from sklearn.model_selection import train_test_split\n",
        "\n",
        "# For importing methods related to preprocessinng\n",
        "from sklearn import preprocessing\n",
        "\n",
        "# Importing scikit-learn algorithms\n",
        "\n",
        "# Linear regression\n",
        "from sklearn.linear_model import LinearRegression\n",
        "\n",
        "# SVM\n",
        "\n",
        "# NB\n",
        "\n",
        "# PCA\n",
        "\n",
        "# KMEANS\n",
        "\n",
        "# Decision tree\n",
        "\n",
        "# Random forest\n",
        "\n",
        "# Gradient boosting\n",
        "\n",
        "# XGBoost\n",
        "\n",
        "# KNN\n",
        "from sklearn.neighbors import KNeighborsClassifier\n",
        "\n",
        "# Logistic regression\n",
        "from sklearn.linear_model import LogisticRegression"
      ]
    },
    {
      "cell_type": "markdown",
      "metadata": {
        "id": "feTTmaiV45rQ"
      },
      "source": [
        "#### Loading data"
      ]
    },
    {
      "cell_type": "code",
      "execution_count": null,
      "metadata": {
        "id": "P2DJTOFL4-IZ"
      },
      "outputs": [],
      "source": [
        "iris = pd.read_csv(\"https://raw.githubusercontent.com/vamsivarma/datasets/master/machine_learning/iris/iris_orig.csv\")"
      ]
    },
    {
      "cell_type": "markdown",
      "metadata": {
        "id": "A6HQzgyYpU4q"
      },
      "source": [
        "# Exercises"
      ]
    },
    {
      "cell_type": "markdown",
      "metadata": {
        "id": "GLAk4pkX6TAd"
      },
      "source": [
        "###### **Exercise 4**: Write a Python program using Scikit-learn to split the iris dataset into 70% train data and 30% test data. Out of total 150 records, the training set will contain 105 records and the test set contains 45 of those records. Predict the response for test dataset (SepalLengthCm, SepalWidthCm, PetalLengthCm, PetalWidthCm) using the K Nearest Neighbor Algorithm. Use 5 as number of neighbors."
      ]
    },
    {
      "cell_type": "code",
      "execution_count": null,
      "metadata": {
        "collapsed": true,
        "id": "BTVyIp-I6YI-"
      },
      "outputs": [],
      "source": [
        ""
      ]
    },
    {
      "cell_type": "markdown",
      "metadata": {
        "id": "HxLwvY9d7oBl"
      },
      "source": [
        "##### **Exercise 5**: Write a Python program using Scikit-learn to split the iris dataset into 80% train data and 20% test data. Out of total 150 records, the training set will contain 120 records and the test set contains 30 of those records. Train or fit the data into the model and calculate the accuracy of the model using the K Nearest Neighbor Algorithm."
      ]
    },
    {
      "cell_type": "code",
      "execution_count": null,
      "metadata": {
        "collapsed": true,
        "id": "EjeU0I917r0k"
      },
      "outputs": [],
      "source": [
        ""
      ]
    },
    {
      "cell_type": "markdown",
      "metadata": {
        "id": "qpmizy-q8VIP"
      },
      "source": [
        "**Exercise 6**: Write a Python program using Scikit-learn to split the iris dataset into 80% train data and 20% test data. Out of total 150 records, the training set will contain 120 records and the test set contains 30 of those records. Train or fit the data into the model and using the K Nearest Neighbor Algorithm calculate the performance for different values of k "
      ]
    },
    {
      "cell_type": "code",
      "execution_count": null,
      "metadata": {
        "collapsed": true,
        "id": "brPkYgNY8VZX"
      },
      "outputs": [],
      "source": [
        ""
      ]
    },
    {
      "cell_type": "markdown",
      "metadata": {
        "id": "SGhff_1N9cZy"
      },
      "source": [
        "**Exercise 7**: Write a Python program using Scikit-learn to split the iris dataset into 80% train data and 20% test data. Out of total 150 records, the training set will contain 120 records and the test set contains 30 of those records. Train or fit the data into the model and using the K Nearest Neighbor Algorithm and create a plot to present the performance for different values of k. "
      ]
    },
    {
      "cell_type": "code",
      "execution_count": null,
      "metadata": {
        "collapsed": true,
        "id": "r7YTNAB7Dq7C"
      },
      "outputs": [],
      "source": [
        ""
      ]
    },
    {
      "cell_type": "markdown",
      "metadata": {
        "id": "UunHMvUOHEli"
      },
      "source": [
        "**Exercise 23**: Find MSE - mean squared error and MAE - mean absolute error, MAPE for the regression algorithms mentioned above and compare them"
      ]
    },
    {
      "cell_type": "code",
      "execution_count": null,
      "metadata": {
        "collapsed": true,
        "id": "cFSDqTKVHFCN"
      },
      "outputs": [],
      "source": [
        ""
      ]
    },
    {
      "cell_type": "markdown",
      "metadata": {
        "id": "CIOcYyqLIQz5"
      },
      "source": [
        "**Exercise 27**: Try to apply data normalization and data standardization for Iris dataset"
      ]
    },
    {
      "cell_type": "code",
      "execution_count": null,
      "metadata": {
        "collapsed": true,
        "id": "O6LhOCKpIRE3"
      },
      "outputs": [],
      "source": [
        ""
      ]
    },
    {
      "cell_type": "markdown",
      "metadata": {
        "id": "mMHYfxFLfxUK"
      },
      "source": [
        "# References\n",
        "https://www.w3resource.com/machine-learning/scikit-learn/iris/index.php"
      ]
    }
  ],
  "metadata": {
    "colab": {
      "collapsed_sections": [],
      "name": "Scikit_learn_Exercises_part_2.ipynb",
      "provenance": []
    },
    "kernelspec": {
      "display_name": "Python 3",
      "language": "python",
      "name": "python3"
    },
    "language_info": {
      "codemirror_mode": {
        "name": "ipython",
        "version": 3
      },
      "file_extension": ".py",
      "mimetype": "text/x-python",
      "name": "python",
      "nbconvert_exporter": "python",
      "pygments_lexer": "ipython3",
      "version": "3.6.3"
    }
  },
  "nbformat": 4,
  "nbformat_minor": 0
}