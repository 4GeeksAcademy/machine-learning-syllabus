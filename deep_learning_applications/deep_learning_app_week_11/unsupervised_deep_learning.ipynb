{
  "nbformat": 4,
  "nbformat_minor": 0,
  "metadata": {
    "colab": {
      "name": "unsupervised_deep_learning.ipynb",
      "provenance": [],
      "collapsed_sections": []
    },
    "kernelspec": {
      "name": "python3",
      "display_name": "Python 3"
    },
    "language_info": {
      "name": "python"
    },
    "accelerator": "GPU"
  },
  "cells": [
    {
      "cell_type": "markdown",
      "source": [
        "#**Unsupervised Deep Learning: AutoEncoders**"
      ],
      "metadata": {
        "id": "eFP-hasx6lAi"
      }
    },
    {
      "cell_type": "markdown",
      "source": [
        "#**All Common Libraries Imports**"
      ],
      "metadata": {
        "id": "kaCvYKn2y5yo"
      }
    },
    {
      "cell_type": "code",
      "source": [
        "import numpy as np\n",
        "import matplotlib.pyplot as plt"
      ],
      "metadata": {
        "id": "VA_7WZDsy6hv"
      },
      "execution_count": 61,
      "outputs": []
    },
    {
      "cell_type": "markdown",
      "source": [
        "#**All Tensorflow/Keras Imports**"
      ],
      "metadata": {
        "id": "1by3WKAOxrF-"
      }
    },
    {
      "cell_type": "code",
      "source": [
        "from tensorflow.keras import Input, Model \n",
        "from tensorflow.keras.layers import Dense, Conv2D, MaxPooling2D, UpSampling2D\n",
        "from tensorflow.keras.datasets import mnist"
      ],
      "metadata": {
        "id": "YbKPtG6KxxDb"
      },
      "execution_count": 62,
      "outputs": []
    },
    {
      "cell_type": "markdown",
      "source": [
        "#**All Globals**"
      ],
      "metadata": {
        "id": "F4DqFFSByDWn"
      }
    },
    {
      "cell_type": "markdown",
      "source": [
        "We define the size of internal encoded representations, also called the \"thoughts vector\" or \"representation vector\"\n"
      ],
      "metadata": {
        "id": "_NlUz6zwyKis"
      }
    },
    {
      "cell_type": "code",
      "source": [
        "encoding_dim = 32                   # 32 floats\n",
        "n = 10                              # Number of digits to plot \n",
        "epochs = 50                         # Number of Epochs\n",
        "noise_factor = 0.5                  # Nois Factor\n",
        "deep_dense = True                  # Deep Fully Connected Autoencoder\n",
        "convolutional_autoencoder = False    # Convolutional Autoencoder\n",
        "noisy_input = True                  # Add Noise to Input"
      ],
      "metadata": {
        "id": "le-y9SJKx_nO"
      },
      "execution_count": 63,
      "outputs": []
    },
    {
      "cell_type": "markdown",
      "source": [
        "#**All Datasets Downloads**"
      ],
      "metadata": {
        "id": "HWS0FuPVyh6o"
      }
    },
    {
      "cell_type": "markdown",
      "source": [
        "We discard train_y and test_y because we do not have them in norma Unsupervised Learning Applications"
      ],
      "metadata": {
        "id": "TVePD0o1ypqS"
      }
    },
    {
      "cell_type": "code",
      "source": [
        "(train_x, train_y), (test_x, test_y) = mnist.load_data()\n",
        "\n",
        "if noisy_input is True: \n",
        "  train_x_n = train_x + noise_factor * np.random.normal(loc=0.0, scale=1.0, size=train_x.shape) \n",
        "  test_x_n = test_x + noise_factor * np.random.normal(loc=0.0, scale=1.0, size=test_x.shape) \n",
        "\n",
        "  train_x_n = np.clip(train_x_n, 0., 1.)\n",
        "  test_x_n = np.clip(test_x_n, 0., 1.)"
      ],
      "metadata": {
        "id": "5KIUIMUGyldv"
      },
      "execution_count": 64,
      "outputs": []
    },
    {
      "cell_type": "code",
      "source": [
        "train_x.shape"
      ],
      "metadata": {
        "colab": {
          "base_uri": "https://localhost:8080/"
        },
        "id": "HhSe3tQAy_wK",
        "outputId": "94bb2c50-b076-45ec-a24b-4eddf2f1ec68"
      },
      "execution_count": 65,
      "outputs": [
        {
          "output_type": "execute_result",
          "data": {
            "text/plain": [
              "(60000, 28, 28)"
            ]
          },
          "metadata": {},
          "execution_count": 65
        }
      ]
    },
    {
      "cell_type": "code",
      "source": [
        "test_x.shape"
      ],
      "metadata": {
        "colab": {
          "base_uri": "https://localhost:8080/"
        },
        "id": "rUoN2crKzWV0",
        "outputId": "1e967edb-0ba9-4f9b-c737-dd6afa88bf25"
      },
      "execution_count": 66,
      "outputs": [
        {
          "output_type": "execute_result",
          "data": {
            "text/plain": [
              "(10000, 28, 28)"
            ]
          },
          "metadata": {},
          "execution_count": 66
        }
      ]
    },
    {
      "cell_type": "markdown",
      "source": [
        "#**Dataset Sanity Check by Visualization**"
      ],
      "metadata": {
        "id": "3yr1NGJ4BIn8"
      }
    },
    {
      "cell_type": "code",
      "source": [
        "plt.figure(figsize=(20, 2))\n",
        "for i in range(1, n + 1):\n",
        "    ax = plt.subplot(1, n, i)\n",
        "    plt.imshow(test_x[i].reshape(28, 28))\n",
        "    plt.gray()\n",
        "    ax.get_xaxis().set_visible(False)\n",
        "    ax.get_yaxis().set_visible(False)\n",
        "plt.show()"
      ],
      "metadata": {
        "colab": {
          "base_uri": "https://localhost:8080/",
          "height": 128
        },
        "id": "sPbHc1HiBGmo",
        "outputId": "02979b21-b11c-4ad4-e977-10172d358e6c"
      },
      "execution_count": 67,
      "outputs": [
        {
          "output_type": "display_data",
          "data": {
            "text/plain": [
              "<Figure size 1440x144 with 10 Axes>"
            ],
            "image/png": "[encoded data removed]"
          },
          "metadata": {
            "needs_background": "light"
          }
        }
      ]
    },
    {
      "cell_type": "markdown",
      "source": [
        "#**Data Normalization and Flattening**"
      ],
      "metadata": {
        "id": "lYhar8eI3La6"
      }
    },
    {
      "cell_type": "code",
      "source": [
        "train_x = train_x.astype('float32') / 255.\n",
        "test_x = test_x.astype('float32') / 255.\n",
        "\n",
        "if convolutional_autoencoder is True: \n",
        "  train_x = np.reshape(train_x, (len(train_x), 28, 28, 1))\n",
        "  test_x = np.reshape(test_x, (len(test_x), 28, 28, 1))\n",
        "else: \n",
        "  train_x = train_x.reshape((len(train_x), np.prod(train_x.shape[1:])))\n",
        "  test_x = test_x.reshape((len(test_x), np.prod(test_x.shape[1:])))\n",
        "\n",
        "  if noisy_input is True: \n",
        "    train_x_n = train_x_n.reshape((len(train_x_n), np.prod(train_x_n.shape[1:])))\n",
        "    test_x_n = test_x_n.reshape((len(test_x_n), np.prod(test_x_n.shape[1:])))"
      ],
      "metadata": {
        "id": "vOWuhFfV3Mtz"
      },
      "execution_count": 68,
      "outputs": []
    },
    {
      "cell_type": "code",
      "source": [
        "train_x.shape"
      ],
      "metadata": {
        "colab": {
          "base_uri": "https://localhost:8080/"
        },
        "id": "2aJ6zvZN3QIC",
        "outputId": "cadaf4b5-3416-4a04-9261-330c7c1a8a95"
      },
      "execution_count": 69,
      "outputs": [
        {
          "output_type": "execute_result",
          "data": {
            "text/plain": [
              "(60000, 784)"
            ]
          },
          "metadata": {},
          "execution_count": 69
        }
      ]
    },
    {
      "cell_type": "code",
      "source": [
        "test_x.shape"
      ],
      "metadata": {
        "colab": {
          "base_uri": "https://localhost:8080/"
        },
        "id": "1OFTga-H3RgJ",
        "outputId": "e861eac1-3a7d-410f-9f47-a2fe7b4f5575"
      },
      "execution_count": 70,
      "outputs": [
        {
          "output_type": "execute_result",
          "data": {
            "text/plain": [
              "(10000, 784)"
            ]
          },
          "metadata": {},
          "execution_count": 70
        }
      ]
    },
    {
      "cell_type": "markdown",
      "source": [
        "#**Autoencoders**"
      ],
      "metadata": {
        "id": "qKLrS9Z-x1fj"
      }
    },
    {
      "cell_type": "markdown",
      "source": [
        "We start from the input image, then we have the \"**encoded**\" which is the encoded representation of the input and # \"**decoded**\" which is the lossy reconstruction of the input. After, we make a model mapping the input to its reconstruction and a model mapping the input to its **encoded representation**. Finally we retrieve the last layer of the **autoencoder** model and create the decoder model. We compile the **autoencoder** to use a per-pixel binary crossentropy loss, and the Adam optimizer. \n",
        "\n"
      ],
      "metadata": {
        "id": "vo24hPBUzqyn"
      }
    },
    {
      "cell_type": "code",
      "execution_count": 71,
      "metadata": {
        "colab": {
          "base_uri": "https://localhost:8080/"
        },
        "id": "pGeYYIvvxTUO",
        "outputId": "a6b841f5-4256-4a01-dd04-ab0373516cb8"
      },
      "outputs": [
        {
          "output_type": "stream",
          "name": "stdout",
          "text": [
            "Model: \"model_11\"\n",
            "_________________________________________________________________\n",
            " Layer (type)                Output Shape              Param #   \n",
            "=================================================================\n",
            " input_10 (InputLayer)       [(None, 784)]             0         \n",
            "                                                                 \n",
            " dense_22 (Dense)            (None, 128)               100480    \n",
            "                                                                 \n",
            " dense_23 (Dense)            (None, 64)                8256      \n",
            "                                                                 \n",
            " dense_24 (Dense)            (None, 32)                2080      \n",
            "                                                                 \n",
            " dense_25 (Dense)            (None, 64)                2112      \n",
            "                                                                 \n",
            " dense_26 (Dense)            (None, 128)               8320      \n",
            "                                                                 \n",
            " dense_27 (Dense)            (None, 784)               101136    \n",
            "                                                                 \n",
            "=================================================================\n",
            "Total params: 222,384\n",
            "Trainable params: 222,384\n",
            "Non-trainable params: 0\n",
            "_________________________________________________________________\n"
          ]
        }
      ],
      "source": [
        "if convolutional_autoencoder is True: \n",
        "  input_img = Input(shape=(28, 28, 1))\n",
        "\n",
        "  x = Conv2D(16, (3, 3), activation='relu', padding='same')(input_img)\n",
        "  x = MaxPooling2D((2, 2), padding='same')(x)\n",
        "  x = Conv2D(8, (3, 3), activation='relu', padding='same')(x)\n",
        "  x = MaxPooling2D((2, 2), padding='same')(x)\n",
        "  x = Conv2D(8, (3, 3), activation='relu', padding='same')(x)\n",
        "  encoded = MaxPooling2D((2, 2), padding='same')(x)\n",
        "\n",
        "  x = Conv2D(8, (3, 3), activation='relu', padding='same')(encoded)\n",
        "  x = UpSampling2D((2, 2))(x)\n",
        "  x = Conv2D(8, (3, 3), activation='relu', padding='same')(x)\n",
        "  x = UpSampling2D((2, 2))(x)\n",
        "  x = Conv2D(16, (3, 3), activation='relu')(x)\n",
        "  x = UpSampling2D((2, 2))(x)\n",
        "  decoded = Conv2D(1, (3, 3), activation='sigmoid', padding='same')(x)\n",
        "else: \n",
        "  input_img = Input(shape=(784,))\n",
        "  if deep_dense is True:\n",
        "    encoded = Dense(128, activation='relu')(input_img)\n",
        "    encoded = Dense(64, activation='relu')(encoded)\n",
        "    encoded = Dense(32, activation='relu')(encoded)\n",
        "  else: \n",
        "    encoded = Dense(encoding_dim, activation='relu')(input_img)\n",
        "\n",
        "  if deep_dense is True:\n",
        "    decoded = Dense(64, activation='relu')(encoded)\n",
        "    decoded = Dense(128, activation='relu')(decoded)\n",
        "    decoded = Dense(784, activation='sigmoid')(decoded)\n",
        "  else: \n",
        "    decoded = Dense(784, activation='sigmoid')(encoded)\n",
        "\n",
        "autoencoder = Model(input_img, decoded)\n",
        "\n",
        "if convolutional_autoencoder is False and deep_dense is False:\n",
        "  encoder = Model(input_img, encoded)\n",
        "  encoded_input = Input(shape=(encoding_dim,))\n",
        "  decoder_layer = autoencoder.layers[-1]\n",
        "  decoder = Model(encoded_input, decoder_layer(encoded_input))\n",
        "\n",
        "autoencoder.compile(optimizer='adam', loss='binary_crossentropy')\n",
        "autoencoder.summary()"
      ]
    },
    {
      "cell_type": "markdown",
      "source": [
        "#**Autoencoder Training**"
      ],
      "metadata": {
        "id": "PkT-Jhfm3y0q"
      }
    },
    {
      "cell_type": "markdown",
      "source": [
        "Since we **do not have** other that train_x and test_x in Unsupervised Training Sets, we train the Gradient Descent with **train_x as target**, in order to force the model to **reconstruct** the same input into the outpus as much as it can. Within the internal representations we will find an encoded and low dimensional description of the input data. Hence, we translate an **Unsupervised Task** into a purely **\"Supervised\" Regression** task and we need the loss (binary crossentropy) to estimate the quality of training, if it is decreasing over the epochs then the autoencoder is learning representations inside its 32 central neurons. "
      ],
      "metadata": {
        "id": "muKTyQ6y4EDP"
      }
    },
    {
      "cell_type": "code",
      "source": [
        "if noisy_input is True: \n",
        "  X = train_x_n\n",
        "  y = train_x\n",
        "else:\n",
        "  X = train_x\n",
        "  y = train_x\n",
        "\n",
        "autoencoder.fit(X, y, epochs=epochs, batch_size=256, shuffle=True, validation_data=(test_x, test_x))"
      ],
      "metadata": {
        "colab": {
          "base_uri": "https://localhost:8080/"
        },
        "id": "qUHSLob933lq",
        "outputId": "6bf15766-2401-4828-8a62-b44055409842"
      },
      "execution_count": 72,
      "outputs": [
        {
          "output_type": "stream",
          "name": "stdout",
          "text": [
            "Epoch 1/50\n",
            "235/235 [==============================] - 2s 5ms/step - loss: 0.2530 - val_loss: 0.2298\n",
            "Epoch 2/50\n",
            "235/235 [==============================] - 1s 5ms/step - loss: 0.1720 - val_loss: 0.1907\n",
            "Epoch 3/50\n",
            "235/235 [==============================] - 1s 4ms/step - loss: 0.1548 - val_loss: 0.1767\n",
            "Epoch 4/50\n",
            "235/235 [==============================] - 1s 4ms/step - loss: 0.1441 - val_loss: 0.1617\n",
            "Epoch 5/50\n",
            "235/235 [==============================] - 1s 4ms/step - loss: 0.1375 - val_loss: 0.1527\n",
            "Epoch 6/50\n",
            "235/235 [==============================] - 1s 4ms/step - loss: 0.1327 - val_loss: 0.1489\n",
            "Epoch 7/50\n",
            "235/235 [==============================] - 1s 4ms/step - loss: 0.1289 - val_loss: 0.1447\n",
            "Epoch 8/50\n",
            "235/235 [==============================] - 1s 4ms/step - loss: 0.1262 - val_loss: 0.1453\n",
            "Epoch 9/50\n",
            "235/235 [==============================] - 1s 4ms/step - loss: 0.1241 - val_loss: 0.1488\n",
            "Epoch 10/50\n",
            "235/235 [==============================] - 1s 4ms/step - loss: 0.1223 - val_loss: 0.1495\n",
            "Epoch 11/50\n",
            "235/235 [==============================] - 1s 4ms/step - loss: 0.1207 - val_loss: 0.1571\n",
            "Epoch 12/50\n",
            "235/235 [==============================] - 1s 4ms/step - loss: 0.1193 - val_loss: 0.1628\n",
            "Epoch 13/50\n",
            "235/235 [==============================] - 1s 4ms/step - loss: 0.1181 - val_loss: 0.1652\n",
            "Epoch 14/50\n",
            "235/235 [==============================] - 1s 4ms/step - loss: 0.1170 - val_loss: 0.1733\n",
            "Epoch 15/50\n",
            "235/235 [==============================] - 1s 4ms/step - loss: 0.1160 - val_loss: 0.1830\n",
            "Epoch 16/50\n",
            "235/235 [==============================] - 1s 4ms/step - loss: 0.1153 - val_loss: 0.1805\n",
            "Epoch 17/50\n",
            "235/235 [==============================] - 1s 4ms/step - loss: 0.1143 - val_loss: 0.1958\n",
            "Epoch 18/50\n",
            "235/235 [==============================] - 1s 4ms/step - loss: 0.1135 - val_loss: 0.1912\n",
            "Epoch 19/50\n",
            "235/235 [==============================] - 1s 4ms/step - loss: 0.1129 - val_loss: 0.1945\n",
            "Epoch 20/50\n",
            "235/235 [==============================] - 1s 4ms/step - loss: 0.1121 - val_loss: 0.1990\n",
            "Epoch 21/50\n",
            "235/235 [==============================] - 1s 4ms/step - loss: 0.1117 - val_loss: 0.1961\n",
            "Epoch 22/50\n",
            "235/235 [==============================] - 1s 4ms/step - loss: 0.1110 - val_loss: 0.2154\n",
            "Epoch 23/50\n",
            "235/235 [==============================] - 1s 4ms/step - loss: 0.1106 - val_loss: 0.2146\n",
            "Epoch 24/50\n",
            "235/235 [==============================] - 1s 4ms/step - loss: 0.1102 - val_loss: 0.2153\n",
            "Epoch 25/50\n",
            "235/235 [==============================] - 1s 4ms/step - loss: 0.1097 - val_loss: 0.2206\n",
            "Epoch 26/50\n",
            "235/235 [==============================] - 1s 4ms/step - loss: 0.1094 - val_loss: 0.2163\n",
            "Epoch 27/50\n",
            "235/235 [==============================] - 1s 4ms/step - loss: 0.1090 - val_loss: 0.2164\n",
            "Epoch 28/50\n",
            "235/235 [==============================] - 1s 4ms/step - loss: 0.1087 - val_loss: 0.2194\n",
            "Epoch 29/50\n",
            "235/235 [==============================] - 1s 4ms/step - loss: 0.1082 - val_loss: 0.2143\n",
            "Epoch 30/50\n",
            "235/235 [==============================] - 1s 4ms/step - loss: 0.1080 - val_loss: 0.2235\n",
            "Epoch 31/50\n",
            "235/235 [==============================] - 1s 4ms/step - loss: 0.1076 - val_loss: 0.2146\n",
            "Epoch 32/50\n",
            "235/235 [==============================] - 1s 4ms/step - loss: 0.1073 - val_loss: 0.2191\n",
            "Epoch 33/50\n",
            "235/235 [==============================] - 1s 6ms/step - loss: 0.1069 - val_loss: 0.2206\n",
            "Epoch 34/50\n",
            "235/235 [==============================] - 1s 5ms/step - loss: 0.1066 - val_loss: 0.2359\n",
            "Epoch 35/50\n",
            "235/235 [==============================] - 1s 4ms/step - loss: 0.1063 - val_loss: 0.2293\n",
            "Epoch 36/50\n",
            "235/235 [==============================] - 1s 4ms/step - loss: 0.1062 - val_loss: 0.2276\n",
            "Epoch 37/50\n",
            "235/235 [==============================] - 1s 4ms/step - loss: 0.1059 - val_loss: 0.2355\n",
            "Epoch 38/50\n",
            "235/235 [==============================] - 1s 4ms/step - loss: 0.1056 - val_loss: 0.2268\n",
            "Epoch 39/50\n",
            "235/235 [==============================] - 1s 4ms/step - loss: 0.1055 - val_loss: 0.2216\n",
            "Epoch 40/50\n",
            "235/235 [==============================] - 1s 4ms/step - loss: 0.1052 - val_loss: 0.2250\n",
            "Epoch 41/50\n",
            "235/235 [==============================] - 1s 4ms/step - loss: 0.1048 - val_loss: 0.2351\n",
            "Epoch 42/50\n",
            "235/235 [==============================] - 1s 5ms/step - loss: 0.1047 - val_loss: 0.2344\n",
            "Epoch 43/50\n",
            "235/235 [==============================] - 1s 4ms/step - loss: 0.1046 - val_loss: 0.2246\n",
            "Epoch 44/50\n",
            "235/235 [==============================] - 1s 4ms/step - loss: 0.1043 - val_loss: 0.2261\n",
            "Epoch 45/50\n",
            "235/235 [==============================] - 1s 4ms/step - loss: 0.1041 - val_loss: 0.2358\n",
            "Epoch 46/50\n",
            "235/235 [==============================] - 1s 4ms/step - loss: 0.1040 - val_loss: 0.2249\n",
            "Epoch 47/50\n",
            "235/235 [==============================] - 1s 4ms/step - loss: 0.1039 - val_loss: 0.2275\n",
            "Epoch 48/50\n",
            "235/235 [==============================] - 1s 5ms/step - loss: 0.1037 - val_loss: 0.2351\n",
            "Epoch 49/50\n",
            "235/235 [==============================] - 1s 5ms/step - loss: 0.1035 - val_loss: 0.2295\n",
            "Epoch 50/50\n",
            "235/235 [==============================] - 1s 4ms/step - loss: 0.1033 - val_loss: 0.2355\n"
          ]
        },
        {
          "output_type": "execute_result",
          "data": {
            "text/plain": [
              "<keras.callbacks.History at 0x7efe8fe4f890>"
            ]
          },
          "metadata": {},
          "execution_count": 72
        }
      ]
    },
    {
      "cell_type": "markdown",
      "source": [
        "#**Autoencoder Inference**"
      ],
      "metadata": {
        "id": "_QkpecEm5kkZ"
      }
    },
    {
      "cell_type": "markdown",
      "source": [
        "We **encode** and **decode** some digits that are taken from **test** set, in 2 steps: from input to the central vector, and from the 32 central neurons to the output **reconstruction layer**\n"
      ],
      "metadata": {
        "id": "jjTz1jSN5sGz"
      }
    },
    {
      "cell_type": "code",
      "source": [
        "if noisy_input is True: \n",
        "  xt = test_x_n\n",
        "else:\n",
        "  xt = test_x\n",
        "\n",
        "if convolutional_autoencoder is True or deep_dense is True: \n",
        "  decoded_imgs = autoencoder.predict(xt)\n",
        "else: \n",
        "  encoded_imgs = encoder.predict(xt)\n",
        "  decoded_imgs = decoder.predict(encoded_imgs)"
      ],
      "metadata": {
        "id": "Bue8tdQJ5pEd"
      },
      "execution_count": 73,
      "outputs": []
    },
    {
      "cell_type": "markdown",
      "source": [
        "#**Autoencoder Predictions Visualization**"
      ],
      "metadata": {
        "id": "UGtMDyMj6ZJx"
      }
    },
    {
      "cell_type": "markdown",
      "source": [
        "With only 32 neurons the Autoencoder is able to reconstruct the Digits almost perfectly. This means that Autoencoder performed a compression, dimensionality reduction and clustering in one step !!"
      ],
      "metadata": {
        "id": "Gpi7CoAh7wVa"
      }
    },
    {
      "cell_type": "code",
      "source": [
        "plt.figure(figsize=(20, 4))\n",
        "for i in range(n):\n",
        "    # Display original\n",
        "    ax = plt.subplot(2, n, i + 1)\n",
        "    plt.imshow(xt[i].reshape(28, 28))\n",
        "    plt.gray()\n",
        "    ax.get_xaxis().set_visible(False)\n",
        "    ax.get_yaxis().set_visible(False)\n",
        "\n",
        "    # Display reconstruction\n",
        "    ax = plt.subplot(2, n, i + 1 + n)\n",
        "    plt.imshow(decoded_imgs[i].reshape(28, 28))\n",
        "    plt.gray()\n",
        "    ax.get_xaxis().set_visible(False)\n",
        "    ax.get_yaxis().set_visible(False)\n",
        "plt.show()\n"
      ],
      "metadata": {
        "colab": {
          "base_uri": "https://localhost:8080/",
          "height": 247
        },
        "id": "p3nndz_06GXr",
        "outputId": "f5ba1723-2717-409c-f588-32338c757fc6"
      },
      "execution_count": 74,
      "outputs": [
        {
          "output_type": "display_data",
          "data": {
            "text/plain": [
              "<Figure size 1440x288 with 20 Axes>"
            ],
            "image/png": "[encoded data removed]"
          },
          "metadata": {
            "needs_background": "light"
          }
        }
      ]
    },
    {
      "cell_type": "markdown",
      "source": [
        "# **Homeworks**"
      ],
      "metadata": {
        "id": "3h4UME29Dacu"
      }
    },
    {
      "cell_type": "markdown",
      "source": [
        "1) Optimize Denoising working on convolutions (i.e. reduce convolution layers and kernels) \n",
        "\n",
        "2) Plot internals of Convolutions with ALL Feature Maps Visualization and ALL Filters Visualization\n",
        "\n",
        "3) Plot internal representation vector (32 neurons) and verify there is a Dimensionality Reduction and a Clustering on the Test set \n",
        "\n",
        "**Hint**: exploit labels on test set to colour all the activations of the internal neurons activations"
      ],
      "metadata": {
        "id": "hKICqhr_Derm"
      }
    },
    {
      "cell_type": "code",
      "source": [
        ""
      ],
      "metadata": {
        "id": "94fGaIPkDZrW"
      },
      "execution_count": 74,
      "outputs": []
    }
  ]
}