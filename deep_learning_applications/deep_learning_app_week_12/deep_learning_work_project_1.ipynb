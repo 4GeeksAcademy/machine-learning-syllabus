{
  "nbformat": 4,
  "nbformat_minor": 0,
  "metadata": {
    "colab": {
      "name": "deep_learning_work_project_1.ipynb",
      "provenance": []
    },
    "kernelspec": {
      "name": "python3",
      "display_name": "Python 3"
    },
    "language_info": {
      "name": "python"
    }
  },
  "cells": [
    {
      "cell_type": "markdown",
      "source": [
        "#**Deep Learning Work Project 1: Covid19 Lungs X-Rays Detection**"
      ],
      "metadata": {
        "id": "1a2g9bfdrS6b"
      }
    },
    {
      "cell_type": "markdown",
      "source": [
        "Il **Coronavirus** **COVID19** just infected almost **1 bln** of persons in the world killing **4.5 mln** of them. The pandemy still goes on. The purpose of this work project is to analyze and classify Covid-19 patients by means of **Deep Learning/Machine Learning** methods and software we have studied, so far. \n",
        "\n",
        "Basically, the purpose is to classify Lung X-Rays of Covid19 patients which are on the following URL: \n",
        "\n",
        "https://github.com/ieee8023/covid-chestxray-dataset. \n",
        "\n",
        "Build all the needed preprocessing of Data. Implement all the known techniques of model optimization.  \n",
        "\n",
        "Furthermore, make the following Analysis:\n",
        "\n",
        "1) Exploratory Data Analysis (EDA) \n",
        "\n",
        "2) Via PCA and Clustering Techniques, perform a Cluster Analysis of Data\n",
        "\n",
        "3) Plot Loss and Metrcis Curves\n",
        "\n",
        "4) Plot Classification Outputs and Comparisons\n",
        "\n",
        "5) Adopt Feature Maps, Filters and GRAD-CAM Visualization Techniques on some test images to Plot internal Mechanisms of the models\n"
      ],
      "metadata": {
        "id": "TWkZyiZwpkGy"
      }
    },
    {
      "cell_type": "code",
      "execution_count": null,
      "metadata": {
        "id": "nd7sXT3WpXfo"
      },
      "outputs": [],
      "source": [
        ""
      ]
    }
  ]
}