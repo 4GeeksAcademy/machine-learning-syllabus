{
  "cells": [
    {
      "cell_type": "markdown",
      "metadata": {
        "id": "01NQRNJdAtk7"
      },
      "source": [
        "### This notebook contains some practice exercises for Part 2 of Python libraries such as \n",
        "#### 1) Seaborn"
      ]
    },
    {
      "cell_type": "markdown",
      "metadata": {
        "id": "JSazXLE4CHMW"
      },
      "source": [
        "# Seaborn\n",
        "\n",
        "##### Note: Basics can be found [here](https://colab.research.google.com/drive/1dPyFnRRianv4jMAbTIxtk8dqIhVhy4oy)"
      ]
    },
    {
      "cell_type": "code",
      "execution_count": null,
      "metadata": {
        "collapsed": true,
        "id": "IZk4ydI2CHdA"
      },
      "outputs": [],
      "source": [
        "# import required packages\n",
        "import seaborn as sns\n",
        "\n",
        "# Load the dataset\n",
        "df = pd.read_csv(\"https://raw.githubusercontent.com/mwaskom/seaborn-data/master/titanic.csv\") \n",
        "\n",
        "employees = pd.read_csv(\"https://raw.githubusercontent.com/vamsivarma/datasets/master/data_science/seaborn/hr/train.csv\")"
      ]
    },
    {
      "cell_type": "markdown",
      "metadata": {
        "id": "mH9JBbd9aQjH"
      },
      "source": [
        "#### Exercise 1: Create a scatterplot with the Fare payed and the Age, differ the plot color by gender"
      ]
    },
    {
      "cell_type": "code",
      "execution_count": null,
      "metadata": {
        "collapsed": true,
        "id": "qaeS4fEzaQ72"
      },
      "outputs": [],
      "source": [
        ""
      ]
    },
    {
      "cell_type": "markdown",
      "metadata": {
        "id": "PGvhCiOsc6GS"
      },
      "source": [
        "#### Exercise 2: Do a pair plot for the above employees dataset"
      ]
    },
    {
      "cell_type": "code",
      "execution_count": null,
      "metadata": {
        "collapsed": true,
        "id": "BlwN6k0pc6dZ"
      },
      "outputs": [],
      "source": [
        ""
      ]
    },
    {
      "cell_type": "markdown",
      "metadata": {
        "id": "z9243202d19I"
      },
      "source": [
        "#### Exercise 3: Plot a heatmap of the above employees dataset\n"
      ]
    },
    {
      "cell_type": "code",
      "execution_count": null,
      "metadata": {
        "collapsed": true,
        "id": "hRyC_g-qeF1Z"
      },
      "outputs": [],
      "source": [
        ""
      ]
    }
  ],
  "metadata": {
    "colab": {
      "collapsed_sections": [],
      "name": "visualization_exercises_inclass.ipynb",
      "provenance": []
    },
    "kernelspec": {
      "display_name": "Python 3",
      "language": "python",
      "name": "python3"
    },
    "language_info": {
      "codemirror_mode": {
        "name": "ipython",
        "version": 3
      },
      "file_extension": ".py",
      "mimetype": "text/x-python",
      "name": "python",
      "nbconvert_exporter": "python",
      "pygments_lexer": "ipython3",
      "version": "3.6.3"
    }
  },
  "nbformat": 4,
  "nbformat_minor": 0
}