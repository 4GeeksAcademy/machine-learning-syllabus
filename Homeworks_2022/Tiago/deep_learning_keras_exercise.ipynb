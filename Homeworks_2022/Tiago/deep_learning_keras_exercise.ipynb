{
  "nbformat": 4,
  "nbformat_minor": 0,
  "metadata": {
    "colab": {
      "name": "deep_learning_keras_exercise.ipynb",
      "provenance": [],
      "collapsed_sections": []
    },
    "kernelspec": {
      "name": "python3",
      "display_name": "Python 3"
    },
    "language_info": {
      "name": "python"
    },
    "accelerator": "GPU"
  },
  "cells": [
    {
      "cell_type": "markdown",
      "source": [
        "**Anomaly Detection** is the identification of rare items, events or suspicious observations, since they are far from common operations over the data. Tipically, anomaly detection may regard bank frauds, a structural defect, medical issues or text errors. Apply here Deep Learning by exploiting some anomaly detection datasets. The first is, a credit card frauds dataset: https://www.kaggle.com/mlg-ulb/creditcardfraud. Make and Exploratory Analysis and a Supervised Anomaly Detection with Deep Neural Netoworks. If needed, make use of other public datasets. Make all necessary plots and panels. "
      ],
      "metadata": {
        "id": "lBeFiopkG6P4"
      }
    },
    {
      "cell_type": "code",
      "source": [
        "from google.colab import drive\n",
        "drive.mount('/content/drive')"
      ],
      "metadata": {
        "colab": {
          "base_uri": "https://localhost:8080/"
        },
        "id": "i_G6ijyPoi0Z",
        "outputId": "0389255e-8a28-418c-8193-c69b62c7b053"
      },
      "execution_count": null,
      "outputs": [
        {
          "output_type": "stream",
          "name": "stdout",
          "text": [
            "Drive already mounted at /content/drive; to attempt to forcibly remount, call drive.mount(\"/content/drive\", force_remount=True).\n"
          ]
        }
      ]
    },
    {
      "cell_type": "code",
      "execution_count": null,
      "metadata": {
        "id": "yVaNPQ0iGxpd"
      },
      "outputs": [],
      "source": [
        "#import csv\n",
        "import pandas as pd\n",
        "df = pd.read_csv(\"/content/drive/MyDrive/creditcard.csv\")"
      ]
    },
    {
      "cell_type": "code",
      "source": [
        "df.head()"
      ],
      "metadata": {
        "colab": {
          "base_uri": "https://localhost:8080/",
          "height": 300
        },
        "id": "p614wanQpyB1",
        "outputId": "594d9d23-cad3-404a-b9ac-6b3c4bfa07d3"
      },
      "execution_count": null,
      "outputs": [
        {
          "output_type": "execute_result",
          "data": {
            "text/plain": [
              "   Time        V1        V2        V3        V4        V5        V6        V7  \\\n",
              "0   0.0 -1.359807 -0.072781  2.536347  1.378155 -0.338321  0.462388  0.239599   \n",
              "1   0.0  1.191857  0.266151  0.166480  0.448154  0.060018 -0.082361 -0.078803   \n",
              "2   1.0 -1.358354 -1.340163  1.773209  0.379780 -0.503198  1.800499  0.791461   \n",
              "3   1.0 -0.966272 -0.185226  1.792993 -0.863291 -0.010309  1.247203  0.237609   \n",
              "4   2.0 -1.158233  0.877737  1.548718  0.403034 -0.407193  0.095921  0.592941   \n",
              "\n",
              "         V8        V9  ...       V21       V22       V23       V24       V25  \\\n",
              "0  0.098698  0.363787  ... -0.018307  0.277838 -0.110474  0.066928  0.128539   \n",
              "1  0.085102 -0.255425  ... -0.225775 -0.638672  0.101288 -0.339846  0.167170   \n",
              "2  0.247676 -1.514654  ...  0.247998  0.771679  0.909412 -0.689281 -0.327642   \n",
              "3  0.377436 -1.387024  ... -0.108300  0.005274 -0.190321 -1.175575  0.647376   \n",
              "4 -0.270533  0.817739  ... -0.009431  0.798278 -0.137458  0.141267 -0.206010   \n",
              "\n",
              "        V26       V27       V28  Amount  Class  \n",
              "0 -0.189115  0.133558 -0.021053  149.62      0  \n",
              "1  0.125895 -0.008983  0.014724    2.69      0  \n",
              "2 -0.139097 -0.055353 -0.059752  378.66      0  \n",
              "3 -0.221929  0.062723  0.061458  123.50      0  \n",
              "4  0.502292  0.219422  0.215153   69.99      0  \n",
              "\n",
              "[5 rows x 31 columns]"
            ],
            "text/html": [
              "\n",
              "  <div id=\"df-6b57f0f6-74a7-44cc-a1f3-f2f102b242ac\">\n",
              "    <div class=\"colab-df-container\">\n",
              "      <div>\n",
              "<style scoped>\n",
              "    .dataframe tbody tr th:only-of-type {\n",
              "        vertical-align: middle;\n",
              "    }\n",
              "\n",
              "    .dataframe tbody tr th {\n",
              "        vertical-align: top;\n",
              "    }\n",
              "\n",
              "    .dataframe thead th {\n",
              "        text-align: right;\n",
              "    }\n",
              "</style>\n",
              "<table border=\"1\" class=\"dataframe\">\n",
              "  <thead>\n",
              "    <tr style=\"text-align: right;\">\n",
              "      <th></th>\n",
              "      <th>Time</th>\n",
              "      <th>V1</th>\n",
              "      <th>V2</th>\n",
              "      <th>V3</th>\n",
              "      <th>V4</th>\n",
              "      <th>V5</th>\n",
              "      <th>V6</th>\n",
              "      <th>V7</th>\n",
              "      <th>V8</th>\n",
              "      <th>V9</th>\n",
              "      <th>...</th>\n",
              "      <th>V21</th>\n",
              "      <th>V22</th>\n",
              "      <th>V23</th>\n",
              "      <th>V24</th>\n",
              "      <th>V25</th>\n",
              "      <th>V26</th>\n",
              "      <th>V27</th>\n",
              "      <th>V28</th>\n",
              "      <th>Amount</th>\n",
              "      <th>Class</th>\n",
              "    </tr>\n",
              "  </thead>\n",
              "  <tbody>\n",
              "    <tr>\n",
              "      <th>0</th>\n",
              "      <td>0.0</td>\n",
              "      <td>-1.359807</td>\n",
              "      <td>-0.072781</td>\n",
              "      <td>2.536347</td>\n",
              "      <td>1.378155</td>\n",
              "      <td>-0.338321</td>\n",
              "      <td>0.462388</td>\n",
              "      <td>0.239599</td>\n",
              "      <td>0.098698</td>\n",
              "      <td>0.363787</td>\n",
              "      <td>...</td>\n",
              "      <td>-0.018307</td>\n",
              "      <td>0.277838</td>\n",
              "      <td>-0.110474</td>\n",
              "      <td>0.066928</td>\n",
              "      <td>0.128539</td>\n",
              "      <td>-0.189115</td>\n",
              "      <td>0.133558</td>\n",
              "      <td>-0.021053</td>\n",
              "      <td>149.62</td>\n",
              "      <td>0</td>\n",
              "    </tr>\n",
              "    <tr>\n",
              "      <th>1</th>\n",
              "      <td>0.0</td>\n",
              "      <td>1.191857</td>\n",
              "      <td>0.266151</td>\n",
              "      <td>0.166480</td>\n",
              "      <td>0.448154</td>\n",
              "      <td>0.060018</td>\n",
              "      <td>-0.082361</td>\n",
              "      <td>-0.078803</td>\n",
              "      <td>0.085102</td>\n",
              "      <td>-0.255425</td>\n",
              "      <td>...</td>\n",
              "      <td>-0.225775</td>\n",
              "      <td>-0.638672</td>\n",
              "      <td>0.101288</td>\n",
              "      <td>-0.339846</td>\n",
              "      <td>0.167170</td>\n",
              "      <td>0.125895</td>\n",
              "      <td>-0.008983</td>\n",
              "      <td>0.014724</td>\n",
              "      <td>2.69</td>\n",
              "      <td>0</td>\n",
              "    </tr>\n",
              "    <tr>\n",
              "      <th>2</th>\n",
              "      <td>1.0</td>\n",
              "      <td>-1.358354</td>\n",
              "      <td>-1.340163</td>\n",
              "      <td>1.773209</td>\n",
              "      <td>0.379780</td>\n",
              "      <td>-0.503198</td>\n",
              "      <td>1.800499</td>\n",
              "      <td>0.791461</td>\n",
              "      <td>0.247676</td>\n",
              "      <td>-1.514654</td>\n",
              "      <td>...</td>\n",
              "      <td>0.247998</td>\n",
              "      <td>0.771679</td>\n",
              "      <td>0.909412</td>\n",
              "      <td>-0.689281</td>\n",
              "      <td>-0.327642</td>\n",
              "      <td>-0.139097</td>\n",
              "      <td>-0.055353</td>\n",
              "      <td>-0.059752</td>\n",
              "      <td>378.66</td>\n",
              "      <td>0</td>\n",
              "    </tr>\n",
              "    <tr>\n",
              "      <th>3</th>\n",
              "      <td>1.0</td>\n",
              "      <td>-0.966272</td>\n",
              "      <td>-0.185226</td>\n",
              "      <td>1.792993</td>\n",
              "      <td>-0.863291</td>\n",
              "      <td>-0.010309</td>\n",
              "      <td>1.247203</td>\n",
              "      <td>0.237609</td>\n",
              "      <td>0.377436</td>\n",
              "      <td>-1.387024</td>\n",
              "      <td>...</td>\n",
              "      <td>-0.108300</td>\n",
              "      <td>0.005274</td>\n",
              "      <td>-0.190321</td>\n",
              "      <td>-1.175575</td>\n",
              "      <td>0.647376</td>\n",
              "      <td>-0.221929</td>\n",
              "      <td>0.062723</td>\n",
              "      <td>0.061458</td>\n",
              "      <td>123.50</td>\n",
              "      <td>0</td>\n",
              "    </tr>\n",
              "    <tr>\n",
              "      <th>4</th>\n",
              "      <td>2.0</td>\n",
              "      <td>-1.158233</td>\n",
              "      <td>0.877737</td>\n",
              "      <td>1.548718</td>\n",
              "      <td>0.403034</td>\n",
              "      <td>-0.407193</td>\n",
              "      <td>0.095921</td>\n",
              "      <td>0.592941</td>\n",
              "      <td>-0.270533</td>\n",
              "      <td>0.817739</td>\n",
              "      <td>...</td>\n",
              "      <td>-0.009431</td>\n",
              "      <td>0.798278</td>\n",
              "      <td>-0.137458</td>\n",
              "      <td>0.141267</td>\n",
              "      <td>-0.206010</td>\n",
              "      <td>0.502292</td>\n",
              "      <td>0.219422</td>\n",
              "      <td>0.215153</td>\n",
              "      <td>69.99</td>\n",
              "      <td>0</td>\n",
              "    </tr>\n",
              "  </tbody>\n",
              "</table>\n",
              "<p>5 rows × 31 columns</p>\n",
              "</div>\n",
              "      <button class=\"colab-df-convert\" onclick=\"convertToInteractive('df-6b57f0f6-74a7-44cc-a1f3-f2f102b242ac')\"\n",
              "              title=\"Convert this dataframe to an interactive table.\"\n",
              "              style=\"display:none;\">\n",
              "        \n",
              "  <svg xmlns=\"http://www.w3.org/2000/svg\" height=\"24px\"viewBox=\"0 0 24 24\"\n",
              "       width=\"24px\">\n",
              "    <path d=\"M0 0h24v24H0V0z\" fill=\"none\"/>\n",
              "    <path d=\"M18.56 5.44l.94 2.06.94-2.06 2.06-.94-2.06-.94-.94-2.06-.94 2.06-2.06.94zm-11 1L8.5 8.5l.94-2.06 2.06-.94-2.06-.94L8.5 2.5l-.94 2.06-2.06.94zm10 10l.94 2.06.94-2.06 2.06-.94-2.06-.94-.94-2.06-.94 2.06-2.06.94z\"/><path d=\"M17.41 7.96l-1.37-1.37c-.4-.4-.92-.59-1.43-.59-.52 0-1.04.2-1.43.59L10.3 9.45l-7.72 7.72c-.78.78-.78 2.05 0 2.83L4 21.41c.39.39.9.59 1.41.59.51 0 1.02-.2 1.41-.59l7.78-7.78 2.81-2.81c.8-.78.8-2.07 0-2.86zM5.41 20L4 18.59l7.72-7.72 1.47 1.35L5.41 20z\"/>\n",
              "  </svg>\n",
              "      </button>\n",
              "      \n",
              "  <style>\n",
              "    .colab-df-container {\n",
              "      display:flex;\n",
              "      flex-wrap:wrap;\n",
              "      gap: 12px;\n",
              "    }\n",
              "\n",
              "    .colab-df-convert {\n",
              "      background-color: #E8F0FE;\n",
              "      border: none;\n",
              "      border-radius: 50%;\n",
              "      cursor: pointer;\n",
              "      display: none;\n",
              "      fill: #1967D2;\n",
              "      height: 32px;\n",
              "      padding: 0 0 0 0;\n",
              "      width: 32px;\n",
              "    }\n",
              "\n",
              "    .colab-df-convert:hover {\n",
              "      background-color: #E2EBFA;\n",
              "      box-shadow: 0px 1px 2px rgba(60, 64, 67, 0.3), 0px 1px 3px 1px rgba(60, 64, 67, 0.15);\n",
              "      fill: #174EA6;\n",
              "    }\n",
              "\n",
              "    [theme=dark] .colab-df-convert {\n",
              "      background-color: #3B4455;\n",
              "      fill: #D2E3FC;\n",
              "    }\n",
              "\n",
              "    [theme=dark] .colab-df-convert:hover {\n",
              "      background-color: #434B5C;\n",
              "      box-shadow: 0px 1px 3px 1px rgba(0, 0, 0, 0.15);\n",
              "      filter: drop-shadow(0px 1px 2px rgba(0, 0, 0, 0.3));\n",
              "      fill: #FFFFFF;\n",
              "    }\n",
              "  </style>\n",
              "\n",
              "      <script>\n",
              "        const buttonEl =\n",
              "          document.querySelector('#df-6b57f0f6-74a7-44cc-a1f3-f2f102b242ac button.colab-df-convert');\n",
              "        buttonEl.style.display =\n",
              "          google.colab.kernel.accessAllowed ? 'block' : 'none';\n",
              "\n",
              "        async function convertToInteractive(key) {\n",
              "          const element = document.querySelector('#df-6b57f0f6-74a7-44cc-a1f3-f2f102b242ac');\n",
              "          const dataTable =\n",
              "            await google.colab.kernel.invokeFunction('convertToInteractive',\n",
              "                                                     [key], {});\n",
              "          if (!dataTable) return;\n",
              "\n",
              "          const docLinkHtml = 'Like what you see? Visit the ' +\n",
              "            '<a target=\"_blank\" href=https://colab.research.google.com/notebooks/data_table.ipynb>data table notebook</a>'\n",
              "            + ' to learn more about interactive tables.';\n",
              "          element.innerHTML = '';\n",
              "          dataTable['output_type'] = 'display_data';\n",
              "          await google.colab.output.renderOutput(dataTable, element);\n",
              "          const docLink = document.createElement('div');\n",
              "          docLink.innerHTML = docLinkHtml;\n",
              "          element.appendChild(docLink);\n",
              "        }\n",
              "      </script>\n",
              "    </div>\n",
              "  </div>\n",
              "  "
            ]
          },
          "metadata": {},
          "execution_count": 15
        }
      ]
    },
    {
      "cell_type": "code",
      "source": [
        "x_Train = df.drop(\"Class\",axis=1)\n",
        "labels = df.loc[:,['Class']]"
      ],
      "metadata": {
        "id": "TXdNBClVp75l"
      },
      "execution_count": null,
      "outputs": []
    },
    {
      "cell_type": "code",
      "source": [
        "labels.head()"
      ],
      "metadata": {
        "colab": {
          "base_uri": "https://localhost:8080/",
          "height": 206
        },
        "id": "OARshMt4qVZ1",
        "outputId": "fa86b8fa-b160-45e0-ade0-30323eeb3aba"
      },
      "execution_count": null,
      "outputs": [
        {
          "output_type": "execute_result",
          "data": {
            "text/plain": [
              "   Class\n",
              "0      0\n",
              "1      0\n",
              "2      0\n",
              "3      0\n",
              "4      0"
            ],
            "text/html": [
              "\n",
              "  <div id=\"df-3d730374-487f-4373-b3e3-eaf6f8f47f53\">\n",
              "    <div class=\"colab-df-container\">\n",
              "      <div>\n",
              "<style scoped>\n",
              "    .dataframe tbody tr th:only-of-type {\n",
              "        vertical-align: middle;\n",
              "    }\n",
              "\n",
              "    .dataframe tbody tr th {\n",
              "        vertical-align: top;\n",
              "    }\n",
              "\n",
              "    .dataframe thead th {\n",
              "        text-align: right;\n",
              "    }\n",
              "</style>\n",
              "<table border=\"1\" class=\"dataframe\">\n",
              "  <thead>\n",
              "    <tr style=\"text-align: right;\">\n",
              "      <th></th>\n",
              "      <th>Class</th>\n",
              "    </tr>\n",
              "  </thead>\n",
              "  <tbody>\n",
              "    <tr>\n",
              "      <th>0</th>\n",
              "      <td>0</td>\n",
              "    </tr>\n",
              "    <tr>\n",
              "      <th>1</th>\n",
              "      <td>0</td>\n",
              "    </tr>\n",
              "    <tr>\n",
              "      <th>2</th>\n",
              "      <td>0</td>\n",
              "    </tr>\n",
              "    <tr>\n",
              "      <th>3</th>\n",
              "      <td>0</td>\n",
              "    </tr>\n",
              "    <tr>\n",
              "      <th>4</th>\n",
              "      <td>0</td>\n",
              "    </tr>\n",
              "  </tbody>\n",
              "</table>\n",
              "</div>\n",
              "      <button class=\"colab-df-convert\" onclick=\"convertToInteractive('df-3d730374-487f-4373-b3e3-eaf6f8f47f53')\"\n",
              "              title=\"Convert this dataframe to an interactive table.\"\n",
              "              style=\"display:none;\">\n",
              "        \n",
              "  <svg xmlns=\"http://www.w3.org/2000/svg\" height=\"24px\"viewBox=\"0 0 24 24\"\n",
              "       width=\"24px\">\n",
              "    <path d=\"M0 0h24v24H0V0z\" fill=\"none\"/>\n",
              "    <path d=\"M18.56 5.44l.94 2.06.94-2.06 2.06-.94-2.06-.94-.94-2.06-.94 2.06-2.06.94zm-11 1L8.5 8.5l.94-2.06 2.06-.94-2.06-.94L8.5 2.5l-.94 2.06-2.06.94zm10 10l.94 2.06.94-2.06 2.06-.94-2.06-.94-.94-2.06-.94 2.06-2.06.94z\"/><path d=\"M17.41 7.96l-1.37-1.37c-.4-.4-.92-.59-1.43-.59-.52 0-1.04.2-1.43.59L10.3 9.45l-7.72 7.72c-.78.78-.78 2.05 0 2.83L4 21.41c.39.39.9.59 1.41.59.51 0 1.02-.2 1.41-.59l7.78-7.78 2.81-2.81c.8-.78.8-2.07 0-2.86zM5.41 20L4 18.59l7.72-7.72 1.47 1.35L5.41 20z\"/>\n",
              "  </svg>\n",
              "      </button>\n",
              "      \n",
              "  <style>\n",
              "    .colab-df-container {\n",
              "      display:flex;\n",
              "      flex-wrap:wrap;\n",
              "      gap: 12px;\n",
              "    }\n",
              "\n",
              "    .colab-df-convert {\n",
              "      background-color: #E8F0FE;\n",
              "      border: none;\n",
              "      border-radius: 50%;\n",
              "      cursor: pointer;\n",
              "      display: none;\n",
              "      fill: #1967D2;\n",
              "      height: 32px;\n",
              "      padding: 0 0 0 0;\n",
              "      width: 32px;\n",
              "    }\n",
              "\n",
              "    .colab-df-convert:hover {\n",
              "      background-color: #E2EBFA;\n",
              "      box-shadow: 0px 1px 2px rgba(60, 64, 67, 0.3), 0px 1px 3px 1px rgba(60, 64, 67, 0.15);\n",
              "      fill: #174EA6;\n",
              "    }\n",
              "\n",
              "    [theme=dark] .colab-df-convert {\n",
              "      background-color: #3B4455;\n",
              "      fill: #D2E3FC;\n",
              "    }\n",
              "\n",
              "    [theme=dark] .colab-df-convert:hover {\n",
              "      background-color: #434B5C;\n",
              "      box-shadow: 0px 1px 3px 1px rgba(0, 0, 0, 0.15);\n",
              "      filter: drop-shadow(0px 1px 2px rgba(0, 0, 0, 0.3));\n",
              "      fill: #FFFFFF;\n",
              "    }\n",
              "  </style>\n",
              "\n",
              "      <script>\n",
              "        const buttonEl =\n",
              "          document.querySelector('#df-3d730374-487f-4373-b3e3-eaf6f8f47f53 button.colab-df-convert');\n",
              "        buttonEl.style.display =\n",
              "          google.colab.kernel.accessAllowed ? 'block' : 'none';\n",
              "\n",
              "        async function convertToInteractive(key) {\n",
              "          const element = document.querySelector('#df-3d730374-487f-4373-b3e3-eaf6f8f47f53');\n",
              "          const dataTable =\n",
              "            await google.colab.kernel.invokeFunction('convertToInteractive',\n",
              "                                                     [key], {});\n",
              "          if (!dataTable) return;\n",
              "\n",
              "          const docLinkHtml = 'Like what you see? Visit the ' +\n",
              "            '<a target=\"_blank\" href=https://colab.research.google.com/notebooks/data_table.ipynb>data table notebook</a>'\n",
              "            + ' to learn more about interactive tables.';\n",
              "          element.innerHTML = '';\n",
              "          dataTable['output_type'] = 'display_data';\n",
              "          await google.colab.output.renderOutput(dataTable, element);\n",
              "          const docLink = document.createElement('div');\n",
              "          docLink.innerHTML = docLinkHtml;\n",
              "          element.appendChild(docLink);\n",
              "        }\n",
              "      </script>\n",
              "    </div>\n",
              "  </div>\n",
              "  "
            ]
          },
          "metadata": {},
          "execution_count": 17
        }
      ]
    },
    {
      "cell_type": "code",
      "source": [
        "from sklearn.model_selection import train_test_split\n",
        "X_train, X_test, y_train, y_test = train_test_split(x_Train, labels, test_size=0.3, random_state=42)"
      ],
      "metadata": {
        "id": "tTqzMVh5ql-6"
      },
      "execution_count": null,
      "outputs": []
    },
    {
      "cell_type": "code",
      "source": [
        "#from sklearn.ensemble import RandomForestClassifier\n",
        "#model = RandomForestClassifier()"
      ],
      "metadata": {
        "id": "e5YXEu3jqa7j"
      },
      "execution_count": null,
      "outputs": []
    },
    {
      "cell_type": "code",
      "source": [
        "import tensorflow as tf\n",
        "train_X = tf.convert_to_tensor(df.drop(\"Class\",axis=1))\n",
        "labels = df.loc[:,['Class']]"
      ],
      "metadata": {
        "id": "IcUOYTWysQRH"
      },
      "execution_count": null,
      "outputs": []
    },
    {
      "cell_type": "code",
      "source": [
        "train_X[:10]"
      ],
      "metadata": {
        "colab": {
          "base_uri": "https://localhost:8080/"
        },
        "id": "Z1-zc10Asxnn",
        "outputId": "3a21905b-dc6f-4224-e1ac-5938bbd979ba"
      },
      "execution_count": null,
      "outputs": [
        {
          "output_type": "execute_result",
          "data": {
            "text/plain": [
              "<tf.Tensor: shape=(10, 30), dtype=float64, numpy=\n",
              "array([[ 0.00000000e+00, -1.35980713e+00, -7.27811733e-02,\n",
              "         2.53634674e+00,  1.37815522e+00, -3.38320770e-01,\n",
              "         4.62387778e-01,  2.39598554e-01,  9.86979013e-02,\n",
              "         3.63786970e-01,  9.07941720e-02, -5.51599533e-01,\n",
              "        -6.17800856e-01, -9.91389847e-01, -3.11169354e-01,\n",
              "         1.46817697e+00, -4.70400525e-01,  2.07971242e-01,\n",
              "         2.57905802e-02,  4.03992960e-01,  2.51412098e-01,\n",
              "        -1.83067779e-02,  2.77837576e-01, -1.10473910e-01,\n",
              "         6.69280749e-02,  1.28539358e-01, -1.89114844e-01,\n",
              "         1.33558377e-01, -2.10530535e-02,  1.49620000e+02],\n",
              "       [ 0.00000000e+00,  1.19185711e+00,  2.66150712e-01,\n",
              "         1.66480113e-01,  4.48154078e-01,  6.00176493e-02,\n",
              "        -8.23608088e-02, -7.88029833e-02,  8.51016549e-02,\n",
              "        -2.55425128e-01, -1.66974414e-01,  1.61272666e+00,\n",
              "         1.06523531e+00,  4.89095016e-01, -1.43772296e-01,\n",
              "         6.35558093e-01,  4.63917041e-01, -1.14804663e-01,\n",
              "        -1.83361270e-01, -1.45783041e-01, -6.90831352e-02,\n",
              "        -2.25775248e-01, -6.38671953e-01,  1.01288021e-01,\n",
              "        -3.39846476e-01,  1.67170404e-01,  1.25894532e-01,\n",
              "        -8.98309914e-03,  1.47241692e-02,  2.69000000e+00],\n",
              "       [ 1.00000000e+00, -1.35835406e+00, -1.34016307e+00,\n",
              "         1.77320934e+00,  3.79779593e-01, -5.03198133e-01,\n",
              "         1.80049938e+00,  7.91460956e-01,  2.47675787e-01,\n",
              "        -1.51465432e+00,  2.07642865e-01,  6.24501459e-01,\n",
              "         6.60836853e-02,  7.17292731e-01, -1.65945923e-01,\n",
              "         2.34586495e+00, -2.89008319e+00,  1.10996938e+00,\n",
              "        -1.21359313e-01, -2.26185710e+00,  5.24979725e-01,\n",
              "         2.47998153e-01,  7.71679402e-01,  9.09412262e-01,\n",
              "        -6.89280956e-01, -3.27641834e-01, -1.39096572e-01,\n",
              "        -5.53527940e-02, -5.97518406e-02,  3.78660000e+02],\n",
              "       [ 1.00000000e+00, -9.66271712e-01, -1.85226008e-01,\n",
              "         1.79299334e+00, -8.63291275e-01, -1.03088796e-02,\n",
              "         1.24720317e+00,  2.37608940e-01,  3.77435875e-01,\n",
              "        -1.38702406e+00, -5.49519225e-02, -2.26487264e-01,\n",
              "         1.78228226e-01,  5.07756870e-01, -2.87923745e-01,\n",
              "        -6.31418118e-01, -1.05964725e+00, -6.84092786e-01,\n",
              "         1.96577500e+00, -1.23262197e+00, -2.08037781e-01,\n",
              "        -1.08300452e-01,  5.27359678e-03, -1.90320519e-01,\n",
              "        -1.17557533e+00,  6.47376035e-01, -2.21928844e-01,\n",
              "         6.27228487e-02,  6.14576285e-02,  1.23500000e+02],\n",
              "       [ 2.00000000e+00, -1.15823309e+00,  8.77736755e-01,\n",
              "         1.54871785e+00,  4.03033934e-01, -4.07193377e-01,\n",
              "         9.59214625e-02,  5.92940745e-01, -2.70532677e-01,\n",
              "         8.17739308e-01,  7.53074432e-01, -8.22842878e-01,\n",
              "         5.38195550e-01,  1.34585159e+00, -1.11966983e+00,\n",
              "         1.75121130e-01, -4.51449183e-01, -2.37033239e-01,\n",
              "        -3.81947870e-02,  8.03486925e-01,  4.08542360e-01,\n",
              "        -9.43069713e-03,  7.98278495e-01, -1.37458080e-01,\n",
              "         1.41266984e-01, -2.06009588e-01,  5.02292224e-01,\n",
              "         2.19422230e-01,  2.15153147e-01,  6.99900000e+01],\n",
              "       [ 2.00000000e+00, -4.25965884e-01,  9.60523045e-01,\n",
              "         1.14110934e+00, -1.68252080e-01,  4.20986881e-01,\n",
              "        -2.97275517e-02,  4.76200949e-01,  2.60314333e-01,\n",
              "        -5.68671376e-01, -3.71407197e-01,  1.34126198e+00,\n",
              "         3.59893837e-01, -3.58090653e-01, -1.37133700e-01,\n",
              "         5.17616807e-01,  4.01725896e-01, -5.81328234e-02,\n",
              "         6.86531494e-02, -3.31937878e-02,  8.49676721e-02,\n",
              "        -2.08253515e-01, -5.59824796e-01, -2.63976680e-02,\n",
              "        -3.71426583e-01, -2.32793817e-01,  1.05914779e-01,\n",
              "         2.53844225e-01,  8.10802569e-02,  3.67000000e+00],\n",
              "       [ 4.00000000e+00,  1.22965763e+00,  1.41003507e-01,\n",
              "         4.53707736e-02,  1.20261274e+00,  1.91880989e-01,\n",
              "         2.72708123e-01, -5.15900288e-03,  8.12129399e-02,\n",
              "         4.64959995e-01, -9.92543211e-02, -1.41690724e+00,\n",
              "        -1.53825826e-01, -7.51062716e-01,  1.67371963e-01,\n",
              "         5.01435942e-02, -4.43586798e-01,  2.82051247e-03,\n",
              "        -6.11987340e-01, -4.55750447e-02, -2.19632553e-01,\n",
              "        -1.67716266e-01, -2.70709726e-01, -1.54103787e-01,\n",
              "        -7.80055415e-01,  7.50136936e-01, -2.57236846e-01,\n",
              "         3.45074297e-02,  5.16776891e-03,  4.99000000e+00],\n",
              "       [ 7.00000000e+00, -6.44269442e-01,  1.41796355e+00,\n",
              "         1.07438038e+00, -4.92199018e-01,  9.48934095e-01,\n",
              "         4.28118463e-01,  1.12063136e+00, -3.80786424e+00,\n",
              "         6.15374731e-01,  1.24937618e+00, -6.19467796e-01,\n",
              "         2.91474353e-01,  1.75796421e+00, -1.32386522e+00,\n",
              "         6.86132504e-01, -7.61269994e-02, -1.22212735e+00,\n",
              "        -3.58221570e-01,  3.24504731e-01, -1.56741852e-01,\n",
              "         1.94346534e+00, -1.01545471e+00,  5.75035299e-02,\n",
              "        -6.49709006e-01, -4.15266566e-01, -5.16342969e-02,\n",
              "        -1.20692108e+00, -1.08533919e+00,  4.08000000e+01],\n",
              "       [ 7.00000000e+00, -8.94286082e-01,  2.86157196e-01,\n",
              "        -1.13192213e-01, -2.71526130e-01,  2.66959866e+00,\n",
              "         3.72181806e+00,  3.70145128e-01,  8.51084443e-01,\n",
              "        -3.92047587e-01, -4.10430433e-01, -7.05116587e-01,\n",
              "        -1.10452262e-01, -2.86253632e-01,  7.43553603e-02,\n",
              "        -3.28783050e-01, -2.10077268e-01, -4.99767969e-01,\n",
              "         1.18764861e-01,  5.70328167e-01,  5.27356691e-02,\n",
              "        -7.34251001e-02, -2.68091632e-01, -2.04232670e-01,\n",
              "         1.01159180e+00,  3.73204680e-01, -3.84157308e-01,\n",
              "         1.17473565e-02,  1.42404330e-01,  9.32000000e+01],\n",
              "       [ 9.00000000e+00, -3.38261752e-01,  1.11959338e+00,\n",
              "         1.04436655e+00, -2.22187277e-01,  4.99360806e-01,\n",
              "        -2.46761101e-01,  6.51583206e-01,  6.95385865e-02,\n",
              "        -7.36727316e-01, -3.66845639e-01,  1.01761447e+00,\n",
              "         8.36389570e-01,  1.00684351e+00, -4.43522817e-01,\n",
              "         1.50219101e-01,  7.39452777e-01, -5.40979922e-01,\n",
              "         4.76677260e-01,  4.51772964e-01,  2.03711455e-01,\n",
              "        -2.46913937e-01, -6.33752642e-01, -1.20794084e-01,\n",
              "        -3.85049925e-01, -6.97330460e-02,  9.41988340e-02,\n",
              "         2.46219305e-01,  8.30756493e-02,  3.68000000e+00]])>"
            ]
          },
          "metadata": {},
          "execution_count": 21
        }
      ]
    },
    {
      "cell_type": "code",
      "source": [
        "#model.fit(train_X,labels)"
      ],
      "metadata": {
        "colab": {
          "base_uri": "https://localhost:8080/",
          "height": 311
        },
        "id": "SBvExKUYs8gc",
        "outputId": "c9d02fbf-36b5-4671-e770-ff0279011be7"
      },
      "execution_count": null,
      "outputs": [
        {
          "output_type": "error",
          "ename": "RuntimeError",
          "evalue": "ignored",
          "traceback": [
            "\u001b[0;31m---------------------------------------------------------------------------\u001b[0m",
            "\u001b[0;31mRuntimeError\u001b[0m                              Traceback (most recent call last)",
            "\u001b[0;32m<ipython-input-12-546fb747d8d4>\u001b[0m in \u001b[0;36m<module>\u001b[0;34m()\u001b[0m\n\u001b[0;32m----> 1\u001b[0;31m \u001b[0mmodel\u001b[0m\u001b[0;34m.\u001b[0m\u001b[0mfit\u001b[0m\u001b[0;34m(\u001b[0m\u001b[0mtrain_X\u001b[0m\u001b[0;34m,\u001b[0m\u001b[0mlabels\u001b[0m\u001b[0;34m)\u001b[0m\u001b[0;34m\u001b[0m\u001b[0;34m\u001b[0m\u001b[0m\n\u001b[0m",
            "\u001b[0;32m/usr/local/lib/python3.7/dist-packages/keras/utils/traceback_utils.py\u001b[0m in \u001b[0;36merror_handler\u001b[0;34m(*args, **kwargs)\u001b[0m\n\u001b[1;32m     65\u001b[0m     \u001b[0;32mexcept\u001b[0m \u001b[0mException\u001b[0m \u001b[0;32mas\u001b[0m \u001b[0me\u001b[0m\u001b[0;34m:\u001b[0m  \u001b[0;31m# pylint: disable=broad-except\u001b[0m\u001b[0;34m\u001b[0m\u001b[0;34m\u001b[0m\u001b[0m\n\u001b[1;32m     66\u001b[0m       \u001b[0mfiltered_tb\u001b[0m \u001b[0;34m=\u001b[0m \u001b[0m_process_traceback_frames\u001b[0m\u001b[0;34m(\u001b[0m\u001b[0me\u001b[0m\u001b[0;34m.\u001b[0m\u001b[0m__traceback__\u001b[0m\u001b[0;34m)\u001b[0m\u001b[0;34m\u001b[0m\u001b[0;34m\u001b[0m\u001b[0m\n\u001b[0;32m---> 67\u001b[0;31m       \u001b[0;32mraise\u001b[0m \u001b[0me\u001b[0m\u001b[0;34m.\u001b[0m\u001b[0mwith_traceback\u001b[0m\u001b[0;34m(\u001b[0m\u001b[0mfiltered_tb\u001b[0m\u001b[0;34m)\u001b[0m \u001b[0;32mfrom\u001b[0m \u001b[0;32mNone\u001b[0m\u001b[0;34m\u001b[0m\u001b[0;34m\u001b[0m\u001b[0m\n\u001b[0m\u001b[1;32m     68\u001b[0m     \u001b[0;32mfinally\u001b[0m\u001b[0;34m:\u001b[0m\u001b[0;34m\u001b[0m\u001b[0;34m\u001b[0m\u001b[0m\n\u001b[1;32m     69\u001b[0m       \u001b[0;32mdel\u001b[0m \u001b[0mfiltered_tb\u001b[0m\u001b[0;34m\u001b[0m\u001b[0;34m\u001b[0m\u001b[0m\n",
            "\u001b[0;32m/usr/local/lib/python3.7/dist-packages/keras/engine/training.py\u001b[0m in \u001b[0;36m_assert_compile_was_called\u001b[0;34m(self)\u001b[0m\n\u001b[1;32m   3057\u001b[0m     \u001b[0;31m# (i.e. whether the model is built and its inputs/outputs are set).\u001b[0m\u001b[0;34m\u001b[0m\u001b[0;34m\u001b[0m\u001b[0;34m\u001b[0m\u001b[0m\n\u001b[1;32m   3058\u001b[0m     \u001b[0;32mif\u001b[0m \u001b[0;32mnot\u001b[0m \u001b[0mself\u001b[0m\u001b[0;34m.\u001b[0m\u001b[0m_is_compiled\u001b[0m\u001b[0;34m:\u001b[0m\u001b[0;34m\u001b[0m\u001b[0;34m\u001b[0m\u001b[0m\n\u001b[0;32m-> 3059\u001b[0;31m       raise RuntimeError('You must compile your model before '\n\u001b[0m\u001b[1;32m   3060\u001b[0m                          \u001b[0;34m'training/testing. '\u001b[0m\u001b[0;34m\u001b[0m\u001b[0;34m\u001b[0m\u001b[0m\n\u001b[1;32m   3061\u001b[0m                          'Use `model.compile(optimizer, loss)`.')\n",
            "\u001b[0;31mRuntimeError\u001b[0m: You must compile your model before training/testing. Use `model.compile(optimizer, loss)`."
          ]
        }
      ]
    },
    {
      "cell_type": "code",
      "source": [
        "train_X.shape[1]"
      ],
      "metadata": {
        "colab": {
          "base_uri": "https://localhost:8080/"
        },
        "id": "bKOloZqGtMH_",
        "outputId": "fabcbeb7-4e16-4022-a849-3248a731a74c"
      },
      "execution_count": null,
      "outputs": [
        {
          "output_type": "execute_result",
          "data": {
            "text/plain": [
              "30"
            ]
          },
          "metadata": {},
          "execution_count": 22
        }
      ]
    },
    {
      "cell_type": "code",
      "source": [
        "from sklearn.model_selection import train_test_split\n",
        "X_train, X_test, y_train, y_test = train_test_split(x_Train, labels, test_size=0.3, random_state=42)"
      ],
      "metadata": {
        "id": "eGh-4w4ou7k2"
      },
      "execution_count": null,
      "outputs": []
    },
    {
      "cell_type": "code",
      "source": [
        "from tensorflow import keras\n",
        "from keras import Sequential,layers,optimizers,metrics,losses\n",
        "from keras.layers import Dense,Conv1D,LSTM,MaxPooling1D\n",
        "import numpy as np\n",
        "model = Sequential()\n",
        "model.add(Conv1D(filters=256, kernel_size=5, padding='same', activation='relu', input_shape=(train_X.shape[1], 1)))\n",
        "model.add(MaxPooling1D(pool_size=2))\n",
        "model.add(LSTM(64))\n",
        "model.add(Dense(units=1, activation='sigmoid'))\n",
        "model.compile(optimizer='adam', loss='binary_crossentropy', metrics=['accuracy']) \n",
        "\n",
        "h =  model.fit(x=X_train, y=y_train, batch_size=64, epochs=5, validation_split=0.1)"
      ],
      "metadata": {
        "colab": {
          "base_uri": "https://localhost:8080/"
        },
        "id": "XzK6nwEwoeKR",
        "outputId": "24abe042-08c8-42ae-b965-dcd4ff5fa17d"
      },
      "execution_count": null,
      "outputs": [
        {
          "output_type": "stream",
          "name": "stdout",
          "text": [
            "Epoch 1/5\n",
            "2804/2804 [==============================] - 18s 6ms/step - loss: 0.0077 - accuracy: 0.9985 - val_loss: 0.0044 - val_accuracy: 0.9991\n",
            "Epoch 2/5\n",
            "2804/2804 [==============================] - 15s 5ms/step - loss: 0.0043 - accuracy: 0.9993 - val_loss: 0.0028 - val_accuracy: 0.9995\n",
            "Epoch 3/5\n",
            "2804/2804 [==============================] - 14s 5ms/step - loss: 0.0040 - accuracy: 0.9993 - val_loss: 0.0028 - val_accuracy: 0.9995\n",
            "Epoch 4/5\n",
            "2804/2804 [==============================] - 16s 6ms/step - loss: 0.0039 - accuracy: 0.9993 - val_loss: 0.0026 - val_accuracy: 0.9995\n",
            "Epoch 5/5\n",
            "2804/2804 [==============================] - 17s 6ms/step - loss: 0.0037 - accuracy: 0.9993 - val_loss: 0.0026 - val_accuracy: 0.9996\n"
          ]
        }
      ]
    },
    {
      "cell_type": "code",
      "source": [
        "preds = model.predict(X_test)"
      ],
      "metadata": {
        "colab": {
          "base_uri": "https://localhost:8080/"
        },
        "id": "mzE7_6daukMh",
        "outputId": "6eaedcad-2342-4c3d-e8a0-cde064a220bd"
      },
      "execution_count": null,
      "outputs": [
        {
          "output_type": "stream",
          "name": "stdout",
          "text": [
            "[[8.6312264e-01]\n",
            " [3.1914457e-04]\n",
            " [1.8265445e-04]\n",
            " ...\n",
            " [2.9634224e-04]\n",
            " [2.6567903e-04]\n",
            " [1.4317152e-04]]\n"
          ]
        }
      ]
    },
    {
      "cell_type": "code",
      "source": [
        "print(np.round(preds))"
      ],
      "metadata": {
        "colab": {
          "base_uri": "https://localhost:8080/"
        },
        "id": "TeVLfMEPwi7x",
        "outputId": "c629215e-4e19-4345-b7e0-251645a41a82"
      },
      "execution_count": null,
      "outputs": [
        {
          "output_type": "stream",
          "name": "stdout",
          "text": [
            "[[1.]\n",
            " [0.]\n",
            " [0.]\n",
            " ...\n",
            " [0.]\n",
            " [0.]\n",
            " [0.]]\n"
          ]
        }
      ]
    },
    {
      "cell_type": "code",
      "source": [
        "print(y_test)"
      ],
      "metadata": {
        "colab": {
          "base_uri": "https://localhost:8080/"
        },
        "id": "cNEkZR2qwvE5",
        "outputId": "ce62a116-a050-4b18-c526-cf2597c25c46"
      },
      "execution_count": null,
      "outputs": [
        {
          "output_type": "stream",
          "name": "stdout",
          "text": [
            "        Class\n",
            "43428       1\n",
            "49906       0\n",
            "29474       0\n",
            "276481      0\n",
            "278846      0\n",
            "...       ...\n",
            "180795      0\n",
            "259979      0\n",
            "21885       0\n",
            "217812      0\n",
            "86348       0\n",
            "\n",
            "[85443 rows x 1 columns]\n"
          ]
        }
      ]
    },
    {
      "cell_type": "code",
      "source": [
        "from sklearn.metrics import accuracy_score\n",
        "accuracy_score(y_test, np.round(preds))"
      ],
      "metadata": {
        "colab": {
          "base_uri": "https://localhost:8080/"
        },
        "id": "u6Iz6E4Ooc9C",
        "outputId": "1dd8106d-f982-4f0b-a24f-6dc24e2937c2"
      },
      "execution_count": null,
      "outputs": [
        {
          "output_type": "execute_result",
          "data": {
            "text/plain": [
              "0.9994148145547324"
            ]
          },
          "metadata": {},
          "execution_count": 37
        }
      ]
    }
  ]
}