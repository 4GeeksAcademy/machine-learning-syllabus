{
  "cells": [
    {
      "cell_type": "markdown",
      "metadata": {
        "id": "nBtC7ByVb7Pj"
      },
      "source": [
        "# **All Common Libraries Imports**"
      ]
    },
    {
      "cell_type": "code",
      "execution_count": 111,
      "metadata": {
        "collapsed": true,
        "id": "Jh1H7GK4b7Ps"
      },
      "outputs": [],
      "source": [
        "import pandas as pd\n",
        "import numpy as np\n",
        "import matplotlib.pyplot as plt"
      ]
    },
    {
      "cell_type": "markdown",
      "source": [
        "# **All Scikit-Learn Imports**"
      ],
      "metadata": {
        "id": "pLKtyOo8hmMk"
      }
    },
    {
      "cell_type": "code",
      "execution_count": 112,
      "metadata": {
        "collapsed": true,
        "id": "Oiwf7ny9b7Pu"
      },
      "outputs": [],
      "source": [
        "from sklearn.datasets import load_wine\n",
        "from sklearn import preprocessing\n",
        "from sklearn.linear_model import LinearRegression\n",
        "from sklearn.decomposition import PCA     # Dimensionality Reduction: PCA\n",
        "from sklearn.cluster import KMeans        # Clustering: K-Means\n",
        "\n",
        "# Regression metrics\n",
        "from sklearn.metrics import mean_squared_error\n",
        "\n",
        "# Classification metrics\n",
        "from sklearn.metrics import accuracy_score"
      ]
    },
    {
      "cell_type": "markdown",
      "metadata": {
        "id": "4ucJBPuHHCC-"
      },
      "source": [
        "#**K-means**"
      ]
    },
    {
      "cell_type": "code",
      "execution_count": 113,
      "metadata": {
        "colab": {
          "base_uri": "https://localhost:8080/"
        },
        "id": "ltyzjRo3b7P_",
        "outputId": "b2e445b7-19ff-484f-abab-ab8a5a02d998"
      },
      "outputs": [
        {
          "output_type": "execute_result",
          "data": {
            "text/plain": [
              "['AffinityPropagation',\n",
              " 'AgglomerativeClustering',\n",
              " 'Birch',\n",
              " 'DBSCAN',\n",
              " 'FeatureAgglomeration',\n",
              " 'KMeans',\n",
              " 'MeanShift',\n",
              " 'MiniBatchKMeans',\n",
              " 'OPTICS',\n",
              " 'SpectralBiclustering',\n",
              " 'SpectralClustering',\n",
              " 'SpectralCoclustering',\n",
              " '__all__',\n",
              " '__builtins__',\n",
              " '__cached__',\n",
              " '__doc__',\n",
              " '__file__',\n",
              " '__loader__',\n",
              " '__name__',\n",
              " '__package__',\n",
              " '__path__',\n",
              " '__spec__',\n",
              " '_affinity_propagation',\n",
              " '_agglomerative',\n",
              " '_bicluster',\n",
              " '_birch',\n",
              " '_dbscan',\n",
              " '_dbscan_inner',\n",
              " '_feature_agglomeration',\n",
              " '_hierarchical_fast',\n",
              " '_k_means_common',\n",
              " '_k_means_elkan',\n",
              " '_k_means_lloyd',\n",
              " '_k_means_minibatch',\n",
              " '_kmeans',\n",
              " '_mean_shift',\n",
              " '_optics',\n",
              " '_spectral',\n",
              " 'affinity_propagation',\n",
              " 'cluster_optics_dbscan',\n",
              " 'cluster_optics_xi',\n",
              " 'compute_optics_graph',\n",
              " 'dbscan',\n",
              " 'estimate_bandwidth',\n",
              " 'get_bin_seeds',\n",
              " 'k_means',\n",
              " 'kmeans_plusplus',\n",
              " 'linkage_tree',\n",
              " 'mean_shift',\n",
              " 'spectral_clustering',\n",
              " 'ward_tree']"
            ]
          },
          "metadata": {},
          "execution_count": 113
        }
      ],
      "source": [
        "import sklearn.cluster\n",
        "dir(sklearn.cluster)"
      ]
    },
    {
      "cell_type": "code",
      "execution_count": 114,
      "metadata": {
        "colab": {
          "base_uri": "https://localhost:8080/"
        },
        "id": "7YoAPaNdb7QA",
        "outputId": "635684ca-fbb4-48d0-8d3f-cda7979831e7"
      },
      "outputs": [
        {
          "output_type": "stream",
          "name": "stdout",
          "text": [
            "Help on class KMeans in module sklearn.cluster._kmeans:\n",
            "\n",
            "class KMeans(sklearn.base.TransformerMixin, sklearn.base.ClusterMixin, sklearn.base.BaseEstimator)\n",
            " |  KMeans(n_clusters=8, *, init='k-means++', n_init=10, max_iter=300, tol=0.0001, verbose=0, random_state=None, copy_x=True, algorithm='auto')\n",
            " |  \n",
            " |  K-Means clustering.\n",
            " |  \n",
            " |  Read more in the :ref:`User Guide <k_means>`.\n",
            " |  \n",
            " |  Parameters\n",
            " |  ----------\n",
            " |  \n",
            " |  n_clusters : int, default=8\n",
            " |      The number of clusters to form as well as the number of\n",
            " |      centroids to generate.\n",
            " |  \n",
            " |  init : {'k-means++', 'random'}, callable or array-like of shape             (n_clusters, n_features), default='k-means++'\n",
            " |      Method for initialization:\n",
            " |  \n",
            " |      'k-means++' : selects initial cluster centers for k-mean\n",
            " |      clustering in a smart way to speed up convergence. See section\n",
            " |      Notes in k_init for more details.\n",
            " |  \n",
            " |      'random': choose `n_clusters` observations (rows) at random from data\n",
            " |      for the initial centroids.\n",
            " |  \n",
            " |      If an array is passed, it should be of shape (n_clusters, n_features)\n",
            " |      and gives the initial centers.\n",
            " |  \n",
            " |      If a callable is passed, it should take arguments X, n_clusters and a\n",
            " |      random state and return an initialization.\n",
            " |  \n",
            " |  n_init : int, default=10\n",
            " |      Number of time the k-means algorithm will be run with different\n",
            " |      centroid seeds. The final results will be the best output of\n",
            " |      n_init consecutive runs in terms of inertia.\n",
            " |  \n",
            " |  max_iter : int, default=300\n",
            " |      Maximum number of iterations of the k-means algorithm for a\n",
            " |      single run.\n",
            " |  \n",
            " |  tol : float, default=1e-4\n",
            " |      Relative tolerance with regards to Frobenius norm of the difference\n",
            " |      in the cluster centers of two consecutive iterations to declare\n",
            " |      convergence.\n",
            " |  \n",
            " |  verbose : int, default=0\n",
            " |      Verbosity mode.\n",
            " |  \n",
            " |  random_state : int, RandomState instance or None, default=None\n",
            " |      Determines random number generation for centroid initialization. Use\n",
            " |      an int to make the randomness deterministic.\n",
            " |      See :term:`Glossary <random_state>`.\n",
            " |  \n",
            " |  copy_x : bool, default=True\n",
            " |      When pre-computing distances it is more numerically accurate to center\n",
            " |      the data first. If copy_x is True (default), then the original data is\n",
            " |      not modified. If False, the original data is modified, and put back\n",
            " |      before the function returns, but small numerical differences may be\n",
            " |      introduced by subtracting and then adding the data mean. Note that if\n",
            " |      the original data is not C-contiguous, a copy will be made even if\n",
            " |      copy_x is False. If the original data is sparse, but not in CSR format,\n",
            " |      a copy will be made even if copy_x is False.\n",
            " |  \n",
            " |  algorithm : {\"auto\", \"full\", \"elkan\"}, default=\"auto\"\n",
            " |      K-means algorithm to use. The classical EM-style algorithm is \"full\".\n",
            " |      The \"elkan\" variation is more efficient on data with well-defined\n",
            " |      clusters, by using the triangle inequality. However it's more memory\n",
            " |      intensive due to the allocation of an extra array of shape\n",
            " |      (n_samples, n_clusters).\n",
            " |  \n",
            " |      For now \"auto\" (kept for backward compatibility) chooses \"elkan\" but it\n",
            " |      might change in the future for a better heuristic.\n",
            " |  \n",
            " |      .. versionchanged:: 0.18\n",
            " |          Added Elkan algorithm\n",
            " |  \n",
            " |  Attributes\n",
            " |  ----------\n",
            " |  cluster_centers_ : ndarray of shape (n_clusters, n_features)\n",
            " |      Coordinates of cluster centers. If the algorithm stops before fully\n",
            " |      converging (see ``tol`` and ``max_iter``), these will not be\n",
            " |      consistent with ``labels_``.\n",
            " |  \n",
            " |  labels_ : ndarray of shape (n_samples,)\n",
            " |      Labels of each point\n",
            " |  \n",
            " |  inertia_ : float\n",
            " |      Sum of squared distances of samples to their closest cluster center,\n",
            " |      weighted by the sample weights if provided.\n",
            " |  \n",
            " |  n_iter_ : int\n",
            " |      Number of iterations run.\n",
            " |  \n",
            " |  n_features_in_ : int\n",
            " |      Number of features seen during :term:`fit`.\n",
            " |  \n",
            " |      .. versionadded:: 0.24\n",
            " |  \n",
            " |  feature_names_in_ : ndarray of shape (`n_features_in_`,)\n",
            " |      Names of features seen during :term:`fit`. Defined only when `X`\n",
            " |      has feature names that are all strings.\n",
            " |  \n",
            " |      .. versionadded:: 1.0\n",
            " |  \n",
            " |  See Also\n",
            " |  --------\n",
            " |  MiniBatchKMeans : Alternative online implementation that does incremental\n",
            " |      updates of the centers positions using mini-batches.\n",
            " |      For large scale learning (say n_samples > 10k) MiniBatchKMeans is\n",
            " |      probably much faster than the default batch implementation.\n",
            " |  \n",
            " |  Notes\n",
            " |  -----\n",
            " |  The k-means problem is solved using either Lloyd's or Elkan's algorithm.\n",
            " |  \n",
            " |  The average complexity is given by O(k n T), where n is the number of\n",
            " |  samples and T is the number of iteration.\n",
            " |  \n",
            " |  The worst case complexity is given by O(n^(k+2/p)) with\n",
            " |  n = n_samples, p = n_features. (D. Arthur and S. Vassilvitskii,\n",
            " |  'How slow is the k-means method?' SoCG2006)\n",
            " |  \n",
            " |  In practice, the k-means algorithm is very fast (one of the fastest\n",
            " |  clustering algorithms available), but it falls in local minima. That's why\n",
            " |  it can be useful to restart it several times.\n",
            " |  \n",
            " |  If the algorithm stops before fully converging (because of ``tol`` or\n",
            " |  ``max_iter``), ``labels_`` and ``cluster_centers_`` will not be consistent,\n",
            " |  i.e. the ``cluster_centers_`` will not be the means of the points in each\n",
            " |  cluster. Also, the estimator will reassign ``labels_`` after the last\n",
            " |  iteration to make ``labels_`` consistent with ``predict`` on the training\n",
            " |  set.\n",
            " |  \n",
            " |  Examples\n",
            " |  --------\n",
            " |  \n",
            " |  >>> from sklearn.cluster import KMeans\n",
            " |  >>> import numpy as np\n",
            " |  >>> X = np.array([[1, 2], [1, 4], [1, 0],\n",
            " |  ...               [10, 2], [10, 4], [10, 0]])\n",
            " |  >>> kmeans = KMeans(n_clusters=2, random_state=0).fit(X)\n",
            " |  >>> kmeans.labels_\n",
            " |  array([1, 1, 1, 0, 0, 0], dtype=int32)\n",
            " |  >>> kmeans.predict([[0, 0], [12, 3]])\n",
            " |  array([1, 0], dtype=int32)\n",
            " |  >>> kmeans.cluster_centers_\n",
            " |  array([[10.,  2.],\n",
            " |         [ 1.,  2.]])\n",
            " |  \n",
            " |  Method resolution order:\n",
            " |      KMeans\n",
            " |      sklearn.base.TransformerMixin\n",
            " |      sklearn.base.ClusterMixin\n",
            " |      sklearn.base.BaseEstimator\n",
            " |      builtins.object\n",
            " |  \n",
            " |  Methods defined here:\n",
            " |  \n",
            " |  __init__(self, n_clusters=8, *, init='k-means++', n_init=10, max_iter=300, tol=0.0001, verbose=0, random_state=None, copy_x=True, algorithm='auto')\n",
            " |      Initialize self.  See help(type(self)) for accurate signature.\n",
            " |  \n",
            " |  fit(self, X, y=None, sample_weight=None)\n",
            " |      Compute k-means clustering.\n",
            " |      \n",
            " |      Parameters\n",
            " |      ----------\n",
            " |      X : {array-like, sparse matrix} of shape (n_samples, n_features)\n",
            " |          Training instances to cluster. It must be noted that the data\n",
            " |          will be converted to C ordering, which will cause a memory\n",
            " |          copy if the given data is not C-contiguous.\n",
            " |          If a sparse matrix is passed, a copy will be made if it's not in\n",
            " |          CSR format.\n",
            " |      \n",
            " |      y : Ignored\n",
            " |          Not used, present here for API consistency by convention.\n",
            " |      \n",
            " |      sample_weight : array-like of shape (n_samples,), default=None\n",
            " |          The weights for each observation in X. If None, all observations\n",
            " |          are assigned equal weight.\n",
            " |      \n",
            " |          .. versionadded:: 0.20\n",
            " |      \n",
            " |      Returns\n",
            " |      -------\n",
            " |      self : object\n",
            " |          Fitted estimator.\n",
            " |  \n",
            " |  fit_predict(self, X, y=None, sample_weight=None)\n",
            " |      Compute cluster centers and predict cluster index for each sample.\n",
            " |      \n",
            " |      Convenience method; equivalent to calling fit(X) followed by\n",
            " |      predict(X).\n",
            " |      \n",
            " |      Parameters\n",
            " |      ----------\n",
            " |      X : {array-like, sparse matrix} of shape (n_samples, n_features)\n",
            " |          New data to transform.\n",
            " |      \n",
            " |      y : Ignored\n",
            " |          Not used, present here for API consistency by convention.\n",
            " |      \n",
            " |      sample_weight : array-like of shape (n_samples,), default=None\n",
            " |          The weights for each observation in X. If None, all observations\n",
            " |          are assigned equal weight.\n",
            " |      \n",
            " |      Returns\n",
            " |      -------\n",
            " |      labels : ndarray of shape (n_samples,)\n",
            " |          Index of the cluster each sample belongs to.\n",
            " |  \n",
            " |  fit_transform(self, X, y=None, sample_weight=None)\n",
            " |      Compute clustering and transform X to cluster-distance space.\n",
            " |      \n",
            " |      Equivalent to fit(X).transform(X), but more efficiently implemented.\n",
            " |      \n",
            " |      Parameters\n",
            " |      ----------\n",
            " |      X : {array-like, sparse matrix} of shape (n_samples, n_features)\n",
            " |          New data to transform.\n",
            " |      \n",
            " |      y : Ignored\n",
            " |          Not used, present here for API consistency by convention.\n",
            " |      \n",
            " |      sample_weight : array-like of shape (n_samples,), default=None\n",
            " |          The weights for each observation in X. If None, all observations\n",
            " |          are assigned equal weight.\n",
            " |      \n",
            " |      Returns\n",
            " |      -------\n",
            " |      X_new : ndarray of shape (n_samples, n_clusters)\n",
            " |          X transformed in the new space.\n",
            " |  \n",
            " |  predict(self, X, sample_weight=None)\n",
            " |      Predict the closest cluster each sample in X belongs to.\n",
            " |      \n",
            " |      In the vector quantization literature, `cluster_centers_` is called\n",
            " |      the code book and each value returned by `predict` is the index of\n",
            " |      the closest code in the code book.\n",
            " |      \n",
            " |      Parameters\n",
            " |      ----------\n",
            " |      X : {array-like, sparse matrix} of shape (n_samples, n_features)\n",
            " |          New data to predict.\n",
            " |      \n",
            " |      sample_weight : array-like of shape (n_samples,), default=None\n",
            " |          The weights for each observation in X. If None, all observations\n",
            " |          are assigned equal weight.\n",
            " |      \n",
            " |      Returns\n",
            " |      -------\n",
            " |      labels : ndarray of shape (n_samples,)\n",
            " |          Index of the cluster each sample belongs to.\n",
            " |  \n",
            " |  score(self, X, y=None, sample_weight=None)\n",
            " |      Opposite of the value of X on the K-means objective.\n",
            " |      \n",
            " |      Parameters\n",
            " |      ----------\n",
            " |      X : {array-like, sparse matrix} of shape (n_samples, n_features)\n",
            " |          New data.\n",
            " |      \n",
            " |      y : Ignored\n",
            " |          Not used, present here for API consistency by convention.\n",
            " |      \n",
            " |      sample_weight : array-like of shape (n_samples,), default=None\n",
            " |          The weights for each observation in X. If None, all observations\n",
            " |          are assigned equal weight.\n",
            " |      \n",
            " |      Returns\n",
            " |      -------\n",
            " |      score : float\n",
            " |          Opposite of the value of X on the K-means objective.\n",
            " |  \n",
            " |  transform(self, X)\n",
            " |      Transform X to a cluster-distance space.\n",
            " |      \n",
            " |      In the new space, each dimension is the distance to the cluster\n",
            " |      centers. Note that even if X is sparse, the array returned by\n",
            " |      `transform` will typically be dense.\n",
            " |      \n",
            " |      Parameters\n",
            " |      ----------\n",
            " |      X : {array-like, sparse matrix} of shape (n_samples, n_features)\n",
            " |          New data to transform.\n",
            " |      \n",
            " |      Returns\n",
            " |      -------\n",
            " |      X_new : ndarray of shape (n_samples, n_clusters)\n",
            " |          X transformed in the new space.\n",
            " |  \n",
            " |  ----------------------------------------------------------------------\n",
            " |  Data descriptors inherited from sklearn.base.TransformerMixin:\n",
            " |  \n",
            " |  __dict__\n",
            " |      dictionary for instance variables (if defined)\n",
            " |  \n",
            " |  __weakref__\n",
            " |      list of weak references to the object (if defined)\n",
            " |  \n",
            " |  ----------------------------------------------------------------------\n",
            " |  Methods inherited from sklearn.base.BaseEstimator:\n",
            " |  \n",
            " |  __getstate__(self)\n",
            " |  \n",
            " |  __repr__(self, N_CHAR_MAX=700)\n",
            " |      Return repr(self).\n",
            " |  \n",
            " |  __setstate__(self, state)\n",
            " |  \n",
            " |  get_params(self, deep=True)\n",
            " |      Get parameters for this estimator.\n",
            " |      \n",
            " |      Parameters\n",
            " |      ----------\n",
            " |      deep : bool, default=True\n",
            " |          If True, will return the parameters for this estimator and\n",
            " |          contained subobjects that are estimators.\n",
            " |      \n",
            " |      Returns\n",
            " |      -------\n",
            " |      params : dict\n",
            " |          Parameter names mapped to their values.\n",
            " |  \n",
            " |  set_params(self, **params)\n",
            " |      Set the parameters of this estimator.\n",
            " |      \n",
            " |      The method works on simple estimators as well as on nested objects\n",
            " |      (such as :class:`~sklearn.pipeline.Pipeline`). The latter have\n",
            " |      parameters of the form ``<component>__<parameter>`` so that it's\n",
            " |      possible to update each component of a nested object.\n",
            " |      \n",
            " |      Parameters\n",
            " |      ----------\n",
            " |      **params : dict\n",
            " |          Estimator parameters.\n",
            " |      \n",
            " |      Returns\n",
            " |      -------\n",
            " |      self : estimator instance\n",
            " |          Estimator instance.\n",
            "\n"
          ]
        }
      ],
      "source": [
        "help(sklearn.cluster.KMeans)"
      ]
    },
    {
      "cell_type": "markdown",
      "metadata": {
        "id": "E8idtHXOb7QA"
      },
      "source": [
        "#**Loading data**"
      ]
    },
    {
      "cell_type": "code",
      "execution_count": 115,
      "metadata": {
        "colab": {
          "base_uri": "https://localhost:8080/"
        },
        "id": "U9LOux1Bb7QA",
        "outputId": "5a745bd3-c1b3-408b-e27b-d9dbd9066304"
      },
      "outputs": [
        {
          "output_type": "stream",
          "name": "stdout",
          "text": [
            "Shape of training data : (100, 5)\n",
            "Shape of testing data : (100, 5)\n"
          ]
        }
      ],
      "source": [
        "# Now, we need to divide the training data into differernt clusters\n",
        "# and predict in which cluster a particular data point belongs.\n",
        "\n",
        "# read the train and test dataset\n",
        "train_data = pd.read_csv('https://raw.githubusercontent.com/vamsivarma/datasets/master/machine_learning/kmeans/train.csv')\n",
        "test_data = pd.read_csv('https://raw.githubusercontent.com/vamsivarma/datasets/master/machine_learning/kmeans/test.csv')\n",
        "\n",
        "# shape of the dataset\n",
        "print('Shape of training data :',train_data.shape)\n",
        "print('Shape of testing data :',test_data.shape)"
      ]
    },
    {
      "cell_type": "code",
      "source": [
        "train_data.head()"
      ],
      "metadata": {
        "colab": {
          "base_uri": "https://localhost:8080/",
          "height": 206
        },
        "id": "uj8SIQj0c7ci",
        "outputId": "6c2865ec-ef8f-4abe-e991-c29d7da80520"
      },
      "execution_count": 116,
      "outputs": [
        {
          "output_type": "execute_result",
          "data": {
            "text/plain": [
              "   Age  Annual Income (k$)  Spending Score (1-100)  Genre_Female  Genre_Male\n",
              "0   30                  34                      73             1           0\n",
              "1   36                 103                      85             1           0\n",
              "2   54                 101                      24             1           0\n",
              "3   28                 101                      68             0           1\n",
              "4   24                  39                      65             1           0"
            ],
            "text/html": [
              "\n",
              "  <div id=\"df-fac8352a-c887-4f0f-8b36-5686a31a82aa\">\n",
              "    <div class=\"colab-df-container\">\n",
              "      <div>\n",
              "<style scoped>\n",
              "    .dataframe tbody tr th:only-of-type {\n",
              "        vertical-align: middle;\n",
              "    }\n",
              "\n",
              "    .dataframe tbody tr th {\n",
              "        vertical-align: top;\n",
              "    }\n",
              "\n",
              "    .dataframe thead th {\n",
              "        text-align: right;\n",
              "    }\n",
              "</style>\n",
              "<table border=\"1\" class=\"dataframe\">\n",
              "  <thead>\n",
              "    <tr style=\"text-align: right;\">\n",
              "      <th></th>\n",
              "      <th>Age</th>\n",
              "      <th>Annual Income (k$)</th>\n",
              "      <th>Spending Score (1-100)</th>\n",
              "      <th>Genre_Female</th>\n",
              "      <th>Genre_Male</th>\n",
              "    </tr>\n",
              "  </thead>\n",
              "  <tbody>\n",
              "    <tr>\n",
              "      <th>0</th>\n",
              "      <td>30</td>\n",
              "      <td>34</td>\n",
              "      <td>73</td>\n",
              "      <td>1</td>\n",
              "      <td>0</td>\n",
              "    </tr>\n",
              "    <tr>\n",
              "      <th>1</th>\n",
              "      <td>36</td>\n",
              "      <td>103</td>\n",
              "      <td>85</td>\n",
              "      <td>1</td>\n",
              "      <td>0</td>\n",
              "    </tr>\n",
              "    <tr>\n",
              "      <th>2</th>\n",
              "      <td>54</td>\n",
              "      <td>101</td>\n",
              "      <td>24</td>\n",
              "      <td>1</td>\n",
              "      <td>0</td>\n",
              "    </tr>\n",
              "    <tr>\n",
              "      <th>3</th>\n",
              "      <td>28</td>\n",
              "      <td>101</td>\n",
              "      <td>68</td>\n",
              "      <td>0</td>\n",
              "      <td>1</td>\n",
              "    </tr>\n",
              "    <tr>\n",
              "      <th>4</th>\n",
              "      <td>24</td>\n",
              "      <td>39</td>\n",
              "      <td>65</td>\n",
              "      <td>1</td>\n",
              "      <td>0</td>\n",
              "    </tr>\n",
              "  </tbody>\n",
              "</table>\n",
              "</div>\n",
              "      <button class=\"colab-df-convert\" onclick=\"convertToInteractive('df-fac8352a-c887-4f0f-8b36-5686a31a82aa')\"\n",
              "              title=\"Convert this dataframe to an interactive table.\"\n",
              "              style=\"display:none;\">\n",
              "        \n",
              "  <svg xmlns=\"http://www.w3.org/2000/svg\" height=\"24px\"viewBox=\"0 0 24 24\"\n",
              "       width=\"24px\">\n",
              "    <path d=\"M0 0h24v24H0V0z\" fill=\"none\"/>\n",
              "    <path d=\"M18.56 5.44l.94 2.06.94-2.06 2.06-.94-2.06-.94-.94-2.06-.94 2.06-2.06.94zm-11 1L8.5 8.5l.94-2.06 2.06-.94-2.06-.94L8.5 2.5l-.94 2.06-2.06.94zm10 10l.94 2.06.94-2.06 2.06-.94-2.06-.94-.94-2.06-.94 2.06-2.06.94z\"/><path d=\"M17.41 7.96l-1.37-1.37c-.4-.4-.92-.59-1.43-.59-.52 0-1.04.2-1.43.59L10.3 9.45l-7.72 7.72c-.78.78-.78 2.05 0 2.83L4 21.41c.39.39.9.59 1.41.59.51 0 1.02-.2 1.41-.59l7.78-7.78 2.81-2.81c.8-.78.8-2.07 0-2.86zM5.41 20L4 18.59l7.72-7.72 1.47 1.35L5.41 20z\"/>\n",
              "  </svg>\n",
              "      </button>\n",
              "      \n",
              "  <style>\n",
              "    .colab-df-container {\n",
              "      display:flex;\n",
              "      flex-wrap:wrap;\n",
              "      gap: 12px;\n",
              "    }\n",
              "\n",
              "    .colab-df-convert {\n",
              "      background-color: #E8F0FE;\n",
              "      border: none;\n",
              "      border-radius: 50%;\n",
              "      cursor: pointer;\n",
              "      display: none;\n",
              "      fill: #1967D2;\n",
              "      height: 32px;\n",
              "      padding: 0 0 0 0;\n",
              "      width: 32px;\n",
              "    }\n",
              "\n",
              "    .colab-df-convert:hover {\n",
              "      background-color: #E2EBFA;\n",
              "      box-shadow: 0px 1px 2px rgba(60, 64, 67, 0.3), 0px 1px 3px 1px rgba(60, 64, 67, 0.15);\n",
              "      fill: #174EA6;\n",
              "    }\n",
              "\n",
              "    [theme=dark] .colab-df-convert {\n",
              "      background-color: #3B4455;\n",
              "      fill: #D2E3FC;\n",
              "    }\n",
              "\n",
              "    [theme=dark] .colab-df-convert:hover {\n",
              "      background-color: #434B5C;\n",
              "      box-shadow: 0px 1px 3px 1px rgba(0, 0, 0, 0.15);\n",
              "      filter: drop-shadow(0px 1px 2px rgba(0, 0, 0, 0.3));\n",
              "      fill: #FFFFFF;\n",
              "    }\n",
              "  </style>\n",
              "\n",
              "      <script>\n",
              "        const buttonEl =\n",
              "          document.querySelector('#df-fac8352a-c887-4f0f-8b36-5686a31a82aa button.colab-df-convert');\n",
              "        buttonEl.style.display =\n",
              "          google.colab.kernel.accessAllowed ? 'block' : 'none';\n",
              "\n",
              "        async function convertToInteractive(key) {\n",
              "          const element = document.querySelector('#df-fac8352a-c887-4f0f-8b36-5686a31a82aa');\n",
              "          const dataTable =\n",
              "            await google.colab.kernel.invokeFunction('convertToInteractive',\n",
              "                                                     [key], {});\n",
              "          if (!dataTable) return;\n",
              "\n",
              "          const docLinkHtml = 'Like what you see? Visit the ' +\n",
              "            '<a target=\"_blank\" href=https://colab.research.google.com/notebooks/data_table.ipynb>data table notebook</a>'\n",
              "            + ' to learn more about interactive tables.';\n",
              "          element.innerHTML = '';\n",
              "          dataTable['output_type'] = 'display_data';\n",
              "          await google.colab.output.renderOutput(dataTable, element);\n",
              "          const docLink = document.createElement('div');\n",
              "          docLink.innerHTML = docLinkHtml;\n",
              "          element.appendChild(docLink);\n",
              "        }\n",
              "      </script>\n",
              "    </div>\n",
              "  </div>\n",
              "  "
            ]
          },
          "metadata": {},
          "execution_count": 116
        }
      ]
    },
    {
      "cell_type": "code",
      "source": [
        "test_data.head()"
      ],
      "metadata": {
        "colab": {
          "base_uri": "https://localhost:8080/",
          "height": 206
        },
        "id": "7bySdsLRc976",
        "outputId": "d942b086-b597-4d4e-ef3d-68ed5fc17dda"
      },
      "execution_count": 117,
      "outputs": [
        {
          "output_type": "execute_result",
          "data": {
            "text/plain": [
              "   Age  Annual Income (k$)  Spending Score (1-100)  Genre_Female  Genre_Male\n",
              "0   53                  46                      46             0           1\n",
              "1   22                  17                      76             1           0\n",
              "2   35                  24                      35             0           1\n",
              "3   32                 137                      18             0           1\n",
              "4   31                  43                      54             1           0"
            ],
            "text/html": [
              "\n",
              "  <div id=\"df-04fbfb17-35ac-4eb3-ba34-e8322a23b655\">\n",
              "    <div class=\"colab-df-container\">\n",
              "      <div>\n",
              "<style scoped>\n",
              "    .dataframe tbody tr th:only-of-type {\n",
              "        vertical-align: middle;\n",
              "    }\n",
              "\n",
              "    .dataframe tbody tr th {\n",
              "        vertical-align: top;\n",
              "    }\n",
              "\n",
              "    .dataframe thead th {\n",
              "        text-align: right;\n",
              "    }\n",
              "</style>\n",
              "<table border=\"1\" class=\"dataframe\">\n",
              "  <thead>\n",
              "    <tr style=\"text-align: right;\">\n",
              "      <th></th>\n",
              "      <th>Age</th>\n",
              "      <th>Annual Income (k$)</th>\n",
              "      <th>Spending Score (1-100)</th>\n",
              "      <th>Genre_Female</th>\n",
              "      <th>Genre_Male</th>\n",
              "    </tr>\n",
              "  </thead>\n",
              "  <tbody>\n",
              "    <tr>\n",
              "      <th>0</th>\n",
              "      <td>53</td>\n",
              "      <td>46</td>\n",
              "      <td>46</td>\n",
              "      <td>0</td>\n",
              "      <td>1</td>\n",
              "    </tr>\n",
              "    <tr>\n",
              "      <th>1</th>\n",
              "      <td>22</td>\n",
              "      <td>17</td>\n",
              "      <td>76</td>\n",
              "      <td>1</td>\n",
              "      <td>0</td>\n",
              "    </tr>\n",
              "    <tr>\n",
              "      <th>2</th>\n",
              "      <td>35</td>\n",
              "      <td>24</td>\n",
              "      <td>35</td>\n",
              "      <td>0</td>\n",
              "      <td>1</td>\n",
              "    </tr>\n",
              "    <tr>\n",
              "      <th>3</th>\n",
              "      <td>32</td>\n",
              "      <td>137</td>\n",
              "      <td>18</td>\n",
              "      <td>0</td>\n",
              "      <td>1</td>\n",
              "    </tr>\n",
              "    <tr>\n",
              "      <th>4</th>\n",
              "      <td>31</td>\n",
              "      <td>43</td>\n",
              "      <td>54</td>\n",
              "      <td>1</td>\n",
              "      <td>0</td>\n",
              "    </tr>\n",
              "  </tbody>\n",
              "</table>\n",
              "</div>\n",
              "      <button class=\"colab-df-convert\" onclick=\"convertToInteractive('df-04fbfb17-35ac-4eb3-ba34-e8322a23b655')\"\n",
              "              title=\"Convert this dataframe to an interactive table.\"\n",
              "              style=\"display:none;\">\n",
              "        \n",
              "  <svg xmlns=\"http://www.w3.org/2000/svg\" height=\"24px\"viewBox=\"0 0 24 24\"\n",
              "       width=\"24px\">\n",
              "    <path d=\"M0 0h24v24H0V0z\" fill=\"none\"/>\n",
              "    <path d=\"M18.56 5.44l.94 2.06.94-2.06 2.06-.94-2.06-.94-.94-2.06-.94 2.06-2.06.94zm-11 1L8.5 8.5l.94-2.06 2.06-.94-2.06-.94L8.5 2.5l-.94 2.06-2.06.94zm10 10l.94 2.06.94-2.06 2.06-.94-2.06-.94-.94-2.06-.94 2.06-2.06.94z\"/><path d=\"M17.41 7.96l-1.37-1.37c-.4-.4-.92-.59-1.43-.59-.52 0-1.04.2-1.43.59L10.3 9.45l-7.72 7.72c-.78.78-.78 2.05 0 2.83L4 21.41c.39.39.9.59 1.41.59.51 0 1.02-.2 1.41-.59l7.78-7.78 2.81-2.81c.8-.78.8-2.07 0-2.86zM5.41 20L4 18.59l7.72-7.72 1.47 1.35L5.41 20z\"/>\n",
              "  </svg>\n",
              "      </button>\n",
              "      \n",
              "  <style>\n",
              "    .colab-df-container {\n",
              "      display:flex;\n",
              "      flex-wrap:wrap;\n",
              "      gap: 12px;\n",
              "    }\n",
              "\n",
              "    .colab-df-convert {\n",
              "      background-color: #E8F0FE;\n",
              "      border: none;\n",
              "      border-radius: 50%;\n",
              "      cursor: pointer;\n",
              "      display: none;\n",
              "      fill: #1967D2;\n",
              "      height: 32px;\n",
              "      padding: 0 0 0 0;\n",
              "      width: 32px;\n",
              "    }\n",
              "\n",
              "    .colab-df-convert:hover {\n",
              "      background-color: #E2EBFA;\n",
              "      box-shadow: 0px 1px 2px rgba(60, 64, 67, 0.3), 0px 1px 3px 1px rgba(60, 64, 67, 0.15);\n",
              "      fill: #174EA6;\n",
              "    }\n",
              "\n",
              "    [theme=dark] .colab-df-convert {\n",
              "      background-color: #3B4455;\n",
              "      fill: #D2E3FC;\n",
              "    }\n",
              "\n",
              "    [theme=dark] .colab-df-convert:hover {\n",
              "      background-color: #434B5C;\n",
              "      box-shadow: 0px 1px 3px 1px rgba(0, 0, 0, 0.15);\n",
              "      filter: drop-shadow(0px 1px 2px rgba(0, 0, 0, 0.3));\n",
              "      fill: #FFFFFF;\n",
              "    }\n",
              "  </style>\n",
              "\n",
              "      <script>\n",
              "        const buttonEl =\n",
              "          document.querySelector('#df-04fbfb17-35ac-4eb3-ba34-e8322a23b655 button.colab-df-convert');\n",
              "        buttonEl.style.display =\n",
              "          google.colab.kernel.accessAllowed ? 'block' : 'none';\n",
              "\n",
              "        async function convertToInteractive(key) {\n",
              "          const element = document.querySelector('#df-04fbfb17-35ac-4eb3-ba34-e8322a23b655');\n",
              "          const dataTable =\n",
              "            await google.colab.kernel.invokeFunction('convertToInteractive',\n",
              "                                                     [key], {});\n",
              "          if (!dataTable) return;\n",
              "\n",
              "          const docLinkHtml = 'Like what you see? Visit the ' +\n",
              "            '<a target=\"_blank\" href=https://colab.research.google.com/notebooks/data_table.ipynb>data table notebook</a>'\n",
              "            + ' to learn more about interactive tables.';\n",
              "          element.innerHTML = '';\n",
              "          dataTable['output_type'] = 'display_data';\n",
              "          await google.colab.output.renderOutput(dataTable, element);\n",
              "          const docLink = document.createElement('div');\n",
              "          docLink.innerHTML = docLinkHtml;\n",
              "          element.appendChild(docLink);\n",
              "        }\n",
              "      </script>\n",
              "    </div>\n",
              "  </div>\n",
              "  "
            ]
          },
          "metadata": {},
          "execution_count": 117
        }
      ]
    },
    {
      "cell_type": "markdown",
      "source": [
        "#**Clustering Model Definition**"
      ],
      "metadata": {
        "id": "rTtj8b0ys6bo"
      }
    },
    {
      "cell_type": "code",
      "execution_count": 118,
      "metadata": {
        "colab": {
          "base_uri": "https://localhost:8080/"
        },
        "id": "HxzbOEGJHCQq",
        "outputId": "53937df4-396e-4bc7-c0b5-fc6184e2e5d1"
      },
      "outputs": [
        {
          "output_type": "stream",
          "name": "stdout",
          "text": [
            "\n",
            "Default number of Clusters :  8\n",
            "\n",
            "CLusters on train data [0 2 3 2 0 7 7 2 2 1 5 5 1 3 2 5 3 4 7 0 4 1 1 3 4 3 5 5 3 1 4 1 1 3 3 5 6\n",
            " 5 4 1 3 6 5 5 3 1 1 3 2 5 1 3 7 5 3 5 7 4 0 4 1 0 7 3 1 3 4 1 1 5 7 5 0 7\n",
            " 2 2 0 1 7 1 7 1 5 7 6 7 3 1 6 1 4 2 5 3 5 7 1 0 5 0]\n",
            "Clusters on test data [1 0 6 3 7 0 3 1 7 6 1 4 7 7 7 1 1 7 7 2 3 3 7 7 1 7 3 0 7 3 5 0 1 7 0 3 5\n",
            " 2 1 3 3 0 6 3 7 1 7 2 1 1 4 0 1 5 0 1 5 1 1 6 1 1 7 5 2 7 5 7 1 1 7 6 3 5\n",
            " 7 3 1 3 1 0 1 7 4 3 6 0 1 7 0 3 0 4 1 7 3 0 0 0 5 3]\n"
          ]
        }
      ],
      "source": [
        "'''\n",
        "Create the object of the K-Means model\n",
        "You can also add other parameters and test your code here\n",
        "Some parameters are : n_clusters and max_iter\n",
        "Documentation of sklearn KMeans: \n",
        "\n",
        "https://scikit-learn.org/stable/modules/generated/sklearn.cluster.KMeans.html\n",
        " '''\n",
        "\n",
        "model = KMeans()  \n",
        "\n",
        "# fit the model with the training data\n",
        "model.fit(train_data)\n",
        "\n",
        "# Number of Clusters\n",
        "print('\\nDefault number of Clusters : ',model.n_clusters)\n",
        "\n",
        "# predict the clusters on the train dataset\n",
        "predict_train = model.predict(train_data)\n",
        "print('\\nCLusters on train data',predict_train) \n",
        "\n",
        "# predict the target on the test dataset\n",
        "predict_test = model.predict(test_data)\n",
        "print('Clusters on test data',predict_test) "
      ]
    },
    {
      "cell_type": "code",
      "source": [
        "# Now, we will train a model with n_cluster = 3\n",
        "model_n3 = KMeans(n_clusters=3)\n",
        "\n",
        "# fit the model with the training data\n",
        "model_n3.fit(train_data)\n",
        "\n",
        "# Number of Clusters\n",
        "print('\\nNumber of Clusters : ',model_n3.n_clusters)\n",
        "\n",
        "# predict the clusters on the train dataset\n",
        "predict_train_3 = model_n3.predict(train_data)\n",
        "print('\\nCLusters on train data',predict_train_3) \n",
        "\n",
        "# predict the target on the test dataset\n",
        "predict_test_3 = model_n3.predict(test_data)\n",
        "print('Clusters on test data',predict_test_3) \n",
        "\n",
        "print(predict_test_3)"
      ],
      "metadata": {
        "colab": {
          "base_uri": "https://localhost:8080/"
        },
        "id": "O9KnZ0_bd6CF",
        "outputId": "d2602fbd-a4d5-4294-9bc1-906b7d00e7bd"
      },
      "execution_count": 119,
      "outputs": [
        {
          "output_type": "stream",
          "name": "stdout",
          "text": [
            "\n",
            "Number of Clusters :  3\n",
            "\n",
            "CLusters on train data [0 1 2 1 0 2 0 1 1 0 1 1 0 2 1 1 2 0 0 0 0 0 0 2 0 2 1 1 2 0 0 0 0 2 2 1 0\n",
            " 1 0 0 2 0 1 1 2 0 0 2 1 1 0 2 0 1 2 1 0 0 0 0 0 0 0 2 0 2 0 0 0 1 2 1 0 0\n",
            " 1 1 1 0 1 0 0 0 1 0 0 0 2 0 0 0 0 1 1 2 1 0 0 0 1 0]\n",
            "Clusters on test data [0 0 0 2 0 0 2 0 0 0 0 0 0 2 2 0 0 0 0 1 2 2 0 0 0 0 2 0 0 2 1 0 0 0 0 2 1\n",
            " 1 0 2 2 0 0 2 0 0 0 1 0 0 0 0 0 1 0 0 1 0 0 0 0 0 0 1 1 0 1 0 0 0 1 0 2 1\n",
            " 0 2 0 2 0 1 0 0 0 2 0 0 0 0 0 2 0 0 0 0 2 0 0 0 1 2]\n",
            "[0 0 0 2 0 0 2 0 0 0 0 0 0 2 2 0 0 0 0 1 2 2 0 0 0 0 2 0 0 2 1 0 0 0 0 2 1\n",
            " 1 0 2 2 0 0 2 0 0 0 1 0 0 0 0 0 1 0 0 1 0 0 0 0 0 0 1 1 0 1 0 0 0 1 0 2 1\n",
            " 0 2 0 2 0 1 0 0 0 2 0 0 0 0 0 2 0 0 0 0 2 0 0 0 1 2]\n"
          ]
        }
      ]
    },
    {
      "cell_type": "markdown",
      "source": [
        "# **Another K-Means Example from Random Data to Visualize Clusters**"
      ],
      "metadata": {
        "id": "td05Oq9ylztS"
      }
    },
    {
      "cell_type": "markdown",
      "source": [
        "# **All Globals**"
      ],
      "metadata": {
        "id": "I6lyT7sVnS3z"
      }
    },
    {
      "cell_type": "code",
      "source": [
        "NPOINTSPERCLUSTER = 200"
      ],
      "metadata": {
        "id": "Oyv-dg-BnRy-"
      },
      "execution_count": 120,
      "outputs": []
    },
    {
      "cell_type": "markdown",
      "source": [
        "#**Random Data Generation**"
      ],
      "metadata": {
        "id": "faTcVT0wndJs"
      }
    },
    {
      "cell_type": "code",
      "source": [
        "# Set three centers\n",
        "center_1 = np.array([0,0])\n",
        "center_2 = np.array([3,4])\n",
        "center_3 = np.array([6,1])\n",
        "\n",
        "# Generate random data around the three centers\n",
        "data_1 = np.random.randn(NPOINTSPERCLUSTER, 2) + center_1\n",
        "data_2 = np.random.randn(NPOINTSPERCLUSTER, 2) + center_2\n",
        "data_3 = np.random.randn(NPOINTSPERCLUSTER, 2) + center_3\n",
        "\n",
        "data = np.concatenate((data_1, data_2, data_3), axis = 0)\n",
        "print(data.shape)\n",
        "\n",
        "data[0:10]"
      ],
      "metadata": {
        "colab": {
          "base_uri": "https://localhost:8080/"
        },
        "id": "PXQ9B1yXnagG",
        "outputId": "23bad6b2-855d-4591-9dc0-14f441b241a9"
      },
      "execution_count": 121,
      "outputs": [
        {
          "output_type": "stream",
          "name": "stdout",
          "text": [
            "(600, 2)\n"
          ]
        },
        {
          "output_type": "execute_result",
          "data": {
            "text/plain": [
              "array([[-0.84774152, -0.19798638],\n",
              "       [-0.70727463, -1.12958591],\n",
              "       [-0.68763314,  0.55281343],\n",
              "       [ 0.02335191, -1.24772985],\n",
              "       [ 0.78423547,  0.07345307],\n",
              "       [-0.47000887, -0.65876708],\n",
              "       [-0.35372222, -0.0852876 ],\n",
              "       [-1.61187896,  1.19628878],\n",
              "       [ 1.46868489,  0.05974995],\n",
              "       [-0.02572403, -1.47018602]])"
            ]
          },
          "metadata": {},
          "execution_count": 121
        }
      ]
    },
    {
      "cell_type": "code",
      "source": [
        "plt.scatter(data[:,0], data[:,1]); "
      ],
      "metadata": {
        "colab": {
          "base_uri": "https://localhost:8080/",
          "height": 265
        },
        "id": "mggiBVQdnme6",
        "outputId": "546f1fca-e086-48a3-b5a6-d39a0b0c860e"
      },
      "execution_count": 122,
      "outputs": [
        {
          "output_type": "display_data",
          "data": {
            "text/plain": [
              "<Figure size 432x288 with 1 Axes>"
            ],
            "image/png": "[encoded data removed]"
          },
          "metadata": {
            "needs_background": "light"
          }
        }
      ]
    },
    {
      "cell_type": "markdown",
      "source": [
        "#**Clustering Model Definition and Training**"
      ],
      "metadata": {
        "id": "csBqu6mHntrt"
      }
    },
    {
      "cell_type": "markdown",
      "source": [
        "**K-Means Inertia:** Sum of squared distances of samples to their closest cluster center, weighted by the sample weights if provided. Inertia measures how well a dataset was clustered by K-Means. It is calculated by measuring the distance between each data point and its centroid, squaring this distance, and summing these squares across one cluster."
      ],
      "metadata": {
        "id": "SnUlVTSrpZIX"
      }
    },
    {
      "cell_type": "code",
      "source": [
        "# define the model\n",
        "model = KMeans(n_clusters = 3)\n",
        "#model.labels_ = ['dogs', 'cats', 'mouses']\n",
        "\n",
        "# fit the model on training data\n",
        "model = model.fit(data)\n",
        "\n",
        "# press tab to see available methods\n",
        "#model. #press tab\n",
        "print(model.cluster_centers_)\n",
        "print(model.labels_)\n",
        "print(model.inertia_) # sse\n",
        "\n",
        "# compare to how data has been generated"
      ],
      "metadata": {
        "colab": {
          "base_uri": "https://localhost:8080/"
        },
        "id": "f6Ot1ozdly92",
        "outputId": "001d383c-b12b-40cf-e87d-d04a22036204"
      },
      "execution_count": 132,
      "outputs": [
        {
          "output_type": "stream",
          "name": "stdout",
          "text": [
            "[[ 6.16105242  1.00532266]\n",
            " [-0.07940696  0.10296576]\n",
            " [ 3.09343541  3.99746709]]\n",
            "[1 1 1 1 1 1 1 1 1 1 2 1 1 1 1 1 1 1 1 1 1 1 1 1 1 2 1 1 1 1 1 1 1 1 1 1 1\n",
            " 1 1 1 1 1 1 1 1 1 1 1 1 1 1 1 1 1 1 1 1 1 1 1 1 1 1 1 1 1 1 1 1 1 1 1 1 1\n",
            " 1 1 1 1 1 1 1 1 1 1 1 1 1 1 1 1 1 1 1 1 1 1 1 1 1 1 1 1 1 1 1 1 1 1 1 1 1\n",
            " 1 1 1 1 1 1 1 1 1 1 1 1 1 1 1 1 1 2 1 1 1 1 1 1 1 1 1 1 1 1 1 1 1 1 1 1 1\n",
            " 1 1 1 1 1 1 1 1 1 1 1 1 1 1 1 1 2 1 1 1 1 1 1 1 1 1 1 1 1 1 1 1 1 1 1 1 1\n",
            " 1 1 1 1 1 1 1 1 1 1 1 1 1 1 1 2 2 2 2 2 2 2 2 2 2 2 2 2 2 2 2 2 2 2 2 2 2\n",
            " 2 2 2 2 2 2 2 2 2 2 2 2 1 2 2 2 2 2 2 2 2 2 2 2 2 2 2 2 2 2 2 2 2 2 2 2 2\n",
            " 2 2 2 2 2 2 2 2 2 2 2 2 2 2 2 2 2 2 2 2 2 2 2 2 2 2 2 2 2 2 2 2 2 2 2 2 2\n",
            " 2 2 2 2 2 2 2 2 2 2 2 2 2 2 2 2 2 2 2 2 2 2 2 2 2 2 2 2 2 2 2 2 2 2 2 2 2\n",
            " 2 2 2 0 2 2 2 2 2 2 2 2 2 2 2 2 2 2 2 2 2 2 2 0 2 2 2 2 2 2 2 2 2 2 2 2 2\n",
            " 2 2 2 2 2 2 2 2 2 2 2 2 2 2 2 2 2 2 2 2 2 2 2 2 2 2 2 2 2 2 0 0 0 0 0 0 0\n",
            " 0 0 0 0 0 0 0 0 0 0 2 0 0 0 0 0 0 0 0 0 0 0 0 0 0 0 0 0 0 0 0 0 0 0 0 0 0\n",
            " 0 0 0 0 0 0 0 0 0 0 0 0 0 0 0 0 0 0 0 0 0 0 0 0 0 0 0 0 0 0 0 0 0 0 0 0 0\n",
            " 0 0 0 0 0 0 0 0 0 0 0 0 0 0 0 0 0 0 0 0 0 0 0 0 0 0 0 0 0 0 0 0 0 0 0 0 0\n",
            " 0 0 0 0 0 0 0 0 0 0 0 0 0 0 0 0 0 0 0 0 0 0 0 0 0 0 0 0 0 0 0 0 0 0 0 0 0\n",
            " 0 0 0 0 0 0 0 0 0 0 0 0 0 0 0 0 0 0 0 0 0 0 0 0 0 0 0 0 0 0 0 0 0 0 0 0 0\n",
            " 0 0 0 0 0 0 0 0]\n",
            "1204.4862260566524\n"
          ]
        }
      ]
    },
    {
      "cell_type": "markdown",
      "source": [
        "#**Computing how good the cluster partition is:**\n",
        "\n",
        "Remember SSE (Sum of Squared Error):\n",
        "$$\n",
        "SSE = \\sum_{i=1}^N (x_i - C_{(X_i)})^2\n",
        "$$\n",
        "where $C_{(X_i)}$ represents the cluster centroid of $X_i$."
      ],
      "metadata": {
        "id": "W0l4lqKjp0jE"
      }
    },
    {
      "cell_type": "code",
      "source": [
        "def sse(data, clusters, centroids):\n",
        "    return np.sum(np.square(np.linalg.norm(data - centroids[clusters], axis=1)))"
      ],
      "metadata": {
        "id": "pcL5FZmbp_A7"
      },
      "execution_count": 133,
      "outputs": []
    },
    {
      "cell_type": "code",
      "source": [
        "# check inertia is our sse defined function\n",
        "abs(model.inertia_ - sse(data, model.labels_, model.cluster_centers_)) < 0.01"
      ],
      "metadata": {
        "colab": {
          "base_uri": "https://localhost:8080/"
        },
        "id": "L6Nm1u7pmqs9",
        "outputId": "c842f6aa-dea2-4a97-f82c-e0f75ded91d9"
      },
      "execution_count": 134,
      "outputs": [
        {
          "output_type": "execute_result",
          "data": {
            "text/plain": [
              "True"
            ]
          },
          "metadata": {},
          "execution_count": 134
        }
      ]
    },
    {
      "cell_type": "code",
      "source": [
        "# apply the fitted model \n",
        "# if applied to the same data, we get model.labels_\n",
        "clusters_sk = model.predict(data)"
      ],
      "metadata": {
        "id": "R9qnFDvkmsp_"
      },
      "execution_count": 135,
      "outputs": []
    },
    {
      "cell_type": "code",
      "source": [
        "all(model.labels_ == clusters_sk)"
      ],
      "metadata": {
        "colab": {
          "base_uri": "https://localhost:8080/"
        },
        "id": "YQOOdqpHmvvL",
        "outputId": "8714f385-994d-4982-e097-6ecdc6458518"
      },
      "execution_count": 136,
      "outputs": [
        {
          "output_type": "execute_result",
          "data": {
            "text/plain": [
              "True"
            ]
          },
          "metadata": {},
          "execution_count": 136
        }
      ]
    },
    {
      "cell_type": "code",
      "source": [
        "clusters_sk"
      ],
      "metadata": {
        "colab": {
          "base_uri": "https://localhost:8080/"
        },
        "id": "21PgR8zKmymN",
        "outputId": "dbad8032-b593-4a00-de27-60454e0da3aa"
      },
      "execution_count": 137,
      "outputs": [
        {
          "output_type": "execute_result",
          "data": {
            "text/plain": [
              "array([1, 1, 1, 1, 1, 1, 1, 1, 1, 1, 2, 1, 1, 1, 1, 1, 1, 1, 1, 1, 1, 1,\n",
              "       1, 1, 1, 2, 1, 1, 1, 1, 1, 1, 1, 1, 1, 1, 1, 1, 1, 1, 1, 1, 1, 1,\n",
              "       1, 1, 1, 1, 1, 1, 1, 1, 1, 1, 1, 1, 1, 1, 1, 1, 1, 1, 1, 1, 1, 1,\n",
              "       1, 1, 1, 1, 1, 1, 1, 1, 1, 1, 1, 1, 1, 1, 1, 1, 1, 1, 1, 1, 1, 1,\n",
              "       1, 1, 1, 1, 1, 1, 1, 1, 1, 1, 1, 1, 1, 1, 1, 1, 1, 1, 1, 1, 1, 1,\n",
              "       1, 1, 1, 1, 1, 1, 1, 1, 1, 1, 1, 1, 1, 1, 1, 1, 1, 1, 2, 1, 1, 1,\n",
              "       1, 1, 1, 1, 1, 1, 1, 1, 1, 1, 1, 1, 1, 1, 1, 1, 1, 1, 1, 1, 1, 1,\n",
              "       1, 1, 1, 1, 1, 1, 1, 1, 1, 1, 2, 1, 1, 1, 1, 1, 1, 1, 1, 1, 1, 1,\n",
              "       1, 1, 1, 1, 1, 1, 1, 1, 1, 1, 1, 1, 1, 1, 1, 1, 1, 1, 1, 1, 1, 1,\n",
              "       1, 1, 2, 2, 2, 2, 2, 2, 2, 2, 2, 2, 2, 2, 2, 2, 2, 2, 2, 2, 2, 2,\n",
              "       2, 2, 2, 2, 2, 2, 2, 2, 2, 2, 2, 2, 2, 2, 1, 2, 2, 2, 2, 2, 2, 2,\n",
              "       2, 2, 2, 2, 2, 2, 2, 2, 2, 2, 2, 2, 2, 2, 2, 2, 2, 2, 2, 2, 2, 2,\n",
              "       2, 2, 2, 2, 2, 2, 2, 2, 2, 2, 2, 2, 2, 2, 2, 2, 2, 2, 2, 2, 2, 2,\n",
              "       2, 2, 2, 2, 2, 2, 2, 2, 2, 2, 2, 2, 2, 2, 2, 2, 2, 2, 2, 2, 2, 2,\n",
              "       2, 2, 2, 2, 2, 2, 2, 2, 2, 2, 2, 2, 2, 2, 2, 2, 2, 2, 2, 2, 2, 2,\n",
              "       2, 2, 2, 2, 2, 2, 0, 2, 2, 2, 2, 2, 2, 2, 2, 2, 2, 2, 2, 2, 2, 2,\n",
              "       2, 2, 2, 2, 0, 2, 2, 2, 2, 2, 2, 2, 2, 2, 2, 2, 2, 2, 2, 2, 2, 2,\n",
              "       2, 2, 2, 2, 2, 2, 2, 2, 2, 2, 2, 2, 2, 2, 2, 2, 2, 2, 2, 2, 2, 2,\n",
              "       2, 2, 2, 2, 0, 0, 0, 0, 0, 0, 0, 0, 0, 0, 0, 0, 0, 0, 0, 0, 0, 2,\n",
              "       0, 0, 0, 0, 0, 0, 0, 0, 0, 0, 0, 0, 0, 0, 0, 0, 0, 0, 0, 0, 0, 0,\n",
              "       0, 0, 0, 0, 0, 0, 0, 0, 0, 0, 0, 0, 0, 0, 0, 0, 0, 0, 0, 0, 0, 0,\n",
              "       0, 0, 0, 0, 0, 0, 0, 0, 0, 0, 0, 0, 0, 0, 0, 0, 0, 0, 0, 0, 0, 0,\n",
              "       0, 0, 0, 0, 0, 0, 0, 0, 0, 0, 0, 0, 0, 0, 0, 0, 0, 0, 0, 0, 0, 0,\n",
              "       0, 0, 0, 0, 0, 0, 0, 0, 0, 0, 0, 0, 0, 0, 0, 0, 0, 0, 0, 0, 0, 0,\n",
              "       0, 0, 0, 0, 0, 0, 0, 0, 0, 0, 0, 0, 0, 0, 0, 0, 0, 0, 0, 0, 0, 0,\n",
              "       0, 0, 0, 0, 0, 0, 0, 0, 0, 0, 0, 0, 0, 0, 0, 0, 0, 0, 0, 0, 0, 0,\n",
              "       0, 0, 0, 0, 0, 0, 0, 0, 0, 0, 0, 0, 0, 0, 0, 0, 0, 0, 0, 0, 0, 0,\n",
              "       0, 0, 0, 0, 0, 0], dtype=int32)"
            ]
          },
          "metadata": {},
          "execution_count": 137
        }
      ]
    },
    {
      "cell_type": "markdown",
      "source": [
        "#**Clustering Output Visualization**"
      ],
      "metadata": {
        "id": "CIlAZLdVrxct"
      }
    },
    {
      "cell_type": "code",
      "source": [
        "def plot_clustering(data, clusters, include_centroids = False, centroids = None):\n",
        "    \n",
        "    K_ = len(set(clusters))\n",
        "    \n",
        "    plt.figure(figsize=(8,4))\n",
        "    plt.scatter(data[:,0], data[:,1], c=clusters, cmap=\"plasma\", linewidths=0)\n",
        "\n",
        "    if include_centroids:\n",
        "        for k in range(K_):\n",
        "            plt.scatter(centroids[k,0], centroids[k, 1], s=100, marker='D', color='red')\n",
        "        \n",
        "    plt.show()"
      ],
      "metadata": {
        "id": "l95R5Jrzm7lE"
      },
      "execution_count": 138,
      "outputs": []
    },
    {
      "cell_type": "code",
      "source": [
        "plot_clustering(data, clusters_sk, include_centroids = True, centroids = model.cluster_centers_)\n",
        "#plot_clustering(data, clusters_sk)"
      ],
      "metadata": {
        "colab": {
          "base_uri": "https://localhost:8080/",
          "height": 265
        },
        "id": "rTsmZytGnBNc",
        "outputId": "fd81935a-8682-452b-e721-a5bd13eeb17c"
      },
      "execution_count": 139,
      "outputs": [
        {
          "output_type": "display_data",
          "data": {
            "text/plain": [
              "<Figure size 576x288 with 1 Axes>"
            ],
            "image/png": "[encoded data removed]"
          },
          "metadata": {
            "needs_background": "light"
          }
        }
      ]
    },
    {
      "cell_type": "markdown",
      "metadata": {
        "id": "pWfvHbriHDTr"
      },
      "source": [
        "# **PCA (Principle Component Analysis)**\n",
        "\n",
        "For dimentionality reduction"
      ]
    },
    {
      "cell_type": "markdown",
      "source": [
        "# **Data Download for Regression and PCA**"
      ],
      "metadata": {
        "id": "ns8Nnx1Zc0wx"
      }
    },
    {
      "cell_type": "code",
      "source": [
        "# These datasets are used for following algorithms\n",
        "# Linear regression\n",
        "\n",
        "# read the train and test dataset\n",
        "reg_train_data = pd.read_csv('https://raw.githubusercontent.com/vamsivarma/datasets/master/machine_learning/linear_regression/train.csv')\n",
        "reg_test_data = pd.read_csv('https://raw.githubusercontent.com/vamsivarma/datasets/master/machine_learning/linear_regression/test.csv')\n",
        "\n",
        "# shape of the dataset\n",
        "print('\\nShape of regression training data :', reg_train_data.shape)\n",
        "print('\\nShape of regression testing data :', reg_test_data.shape)"
      ],
      "metadata": {
        "colab": {
          "base_uri": "https://localhost:8080/"
        },
        "id": "OhJ0pAGAczuB",
        "outputId": "9dacc234-a103-4c95-e449-adb2b62df80a"
      },
      "execution_count": 140,
      "outputs": [
        {
          "output_type": "stream",
          "name": "stdout",
          "text": [
            "\n",
            "Shape of regression training data : (1364, 36)\n",
            "\n",
            "Shape of regression testing data : (341, 36)\n"
          ]
        }
      ]
    },
    {
      "cell_type": "markdown",
      "source": [
        "#**Regression Data Preparation**"
      ],
      "metadata": {
        "id": "QQ7ANoS0tOK4"
      }
    },
    {
      "cell_type": "code",
      "source": [
        "# Now, we need to predict the missing target variable in the test data\n",
        "# target variable - Item_Outlet_Sales\n",
        "# seperate the independent and target variable on training data\n",
        "reg_train_x = reg_train_data.drop(columns=['Item_Outlet_Sales'], axis=1)\n",
        "reg_train_y = reg_train_data['Item_Outlet_Sales']\n",
        "\n",
        "# seperate the independent and target variable on training data\n",
        "reg_test_x = reg_test_data.drop(columns=['Item_Outlet_Sales'], axis=1)\n",
        "reg_test_y = reg_test_data['Item_Outlet_Sales']\n",
        "\n",
        "reg_train = pd.DataFrame(columns=['Train'])\n",
        "reg_train['Train'] = reg_train_y\n",
        "\n",
        "reg_test = pd.DataFrame(columns=['Test'])\n",
        "reg_test['Test'] = reg_test_y"
      ],
      "metadata": {
        "id": "VdsponkNdepy"
      },
      "execution_count": 141,
      "outputs": []
    },
    {
      "cell_type": "markdown",
      "source": [
        "#**Regression Model Definition and Training**"
      ],
      "metadata": {
        "id": "X6APr1zetSBz"
      }
    },
    {
      "cell_type": "code",
      "execution_count": 142,
      "metadata": {
        "colab": {
          "base_uri": "https://localhost:8080/"
        },
        "id": "O5Rp0vDAHDhw",
        "outputId": "7c839d2f-3e48-436a-b098-6a0bed3a481c"
      },
      "outputs": [
        {
          "output_type": "stream",
          "name": "stdout",
          "text": [
            "\n",
            "Training model with 35 dimensions.\n",
            "\n",
            "RMSE on train dataset without PCA :  1135.8159344155247\n",
            "\n",
            "RMSE on test dataset without PCA :  1009.2517232209715\n"
          ]
        }
      ],
      "source": [
        "print('\\nTraining model with {} dimensions.'.format(reg_train_x.shape[1]))\n",
        "\n",
        "# create object of model\n",
        "model = LinearRegression()\n",
        "\n",
        "# fit the model with the training data\n",
        "model.fit(reg_train_x, reg_train_y)\n",
        "\n",
        "# predict the target on the train dataset\n",
        "predict_train = model.predict(reg_train_x)\n",
        "\n",
        "# Accuray Score on train dataset\n",
        "rmse_train = mean_squared_error(reg_train_y, predict_train)**(0.5)\n",
        "print('\\nRMSE on train dataset without PCA : ', rmse_train)\n",
        "\n",
        "# predict the target on the test dataset\n",
        "predict_test = model.predict(reg_test_x)\n",
        "\n",
        "# Accuracy Score on test dataset\n",
        "rmse_test = mean_squared_error(reg_test_y, predict_test)**(0.5)\n",
        "print('\\nRMSE on test dataset without PCA : ', rmse_test)\n"
      ]
    },
    {
      "cell_type": "markdown",
      "source": [
        "#**Dimensionality Reduction Model Definition and Training**"
      ],
      "metadata": {
        "id": "w5Ox1qCVtbcW"
      }
    },
    {
      "cell_type": "code",
      "source": [
        "# create the object of the PCA (Principal Component Analysis) model\n",
        "# reduce the dimensions of the data to 10\n",
        "'''\n",
        "You can also add other parameters and test your code here\n",
        "Some parameters are : svd_solver, iterated_power\n",
        "Documentation of sklearn PCA:\n",
        "\n",
        "https://scikit-learn.org/stable/modules/generated/sklearn.decomposition.PCA.html\n",
        "'''\n",
        "model_pca = PCA(n_components=10)\n",
        "\n",
        "new_train = model_pca.fit_transform(reg_train_x)\n",
        "new_test  = model_pca.fit_transform(reg_test_x)\n",
        "\n",
        "print('\\nTraining model with {} dimensions.'.format(new_train.shape[1]))\n",
        "\n",
        "# create object of model\n",
        "model_new = LinearRegression()\n",
        "\n",
        "# fit the model with the training data\n",
        "model_new.fit(new_train,reg_train_y)\n",
        "\n",
        "# predict the target on the new train dataset\n",
        "predict_train_pca = model_new.predict(new_train)\n",
        "\n",
        "# Accuray Score on train dataset\n",
        "rmse_train_pca = mean_squared_error(reg_train_y,predict_train_pca)**(0.5)\n",
        "print('\\nRMSE on new train dataset using PCA : ', rmse_train_pca)\n",
        "\n",
        "# predict the target on the new test dataset\n",
        "predict_test_pca = model_new.predict(new_test)\n",
        "\n",
        "# Accuracy Score on test dataset\n",
        "rmse_test_pca = mean_squared_error(reg_test_y,predict_test_pca)**(0.5)\n",
        "print('\\nRMSE on new test dataset using PCA : ', rmse_test_pca)"
      ],
      "metadata": {
        "colab": {
          "base_uri": "https://localhost:8080/"
        },
        "id": "hHsh1cIMdlw7",
        "outputId": "4f231e77-8405-47c0-c425-1fa2c3932c8d"
      },
      "execution_count": 143,
      "outputs": [
        {
          "output_type": "stream",
          "name": "stdout",
          "text": [
            "\n",
            "Training model with 10 dimensions.\n",
            "\n",
            "RMSE on new train dataset using PCA :  1198.16421579842\n",
            "\n",
            "RMSE on new test dataset using PCA :  1053.723726587294\n"
          ]
        }
      ]
    },
    {
      "cell_type": "code",
      "source": [
        "print(reg_train_x.shape)\n",
        "print(reg_test_x.shape)\n",
        "print(new_train.shape)\n",
        "print(new_test.shape)"
      ],
      "metadata": {
        "colab": {
          "base_uri": "https://localhost:8080/"
        },
        "id": "vZ3HU5elkZvU",
        "outputId": "49220d4f-82db-4141-e133-01d19daaee0e"
      },
      "execution_count": 148,
      "outputs": [
        {
          "output_type": "stream",
          "name": "stdout",
          "text": [
            "(1364, 35)\n",
            "(341, 35)\n",
            "(1364, 10)\n",
            "(341, 10)\n"
          ]
        }
      ]
    },
    {
      "cell_type": "markdown",
      "source": [
        "# **Another PCA to Visualize Dimensional Reduction**"
      ],
      "metadata": {
        "id": "Btz-q-vqrQPW"
      }
    },
    {
      "cell_type": "code",
      "source": [
        "wine = load_wine()\n",
        "data = pd.DataFrame(data=wine.data, columns=wine.feature_names)"
      ],
      "metadata": {
        "id": "W9NhcCVIsn0J"
      },
      "execution_count": 150,
      "outputs": []
    },
    {
      "cell_type": "code",
      "source": [
        "type(data)"
      ],
      "metadata": {
        "colab": {
          "base_uri": "https://localhost:8080/"
        },
        "id": "-3_ov3ykt0xO",
        "outputId": "7ab174bb-620e-4dcf-8dd9-70a7517d3e78"
      },
      "execution_count": 151,
      "outputs": [
        {
          "output_type": "execute_result",
          "data": {
            "text/plain": [
              "pandas.core.frame.DataFrame"
            ]
          },
          "metadata": {},
          "execution_count": 151
        }
      ]
    },
    {
      "cell_type": "code",
      "source": [
        "data.shape"
      ],
      "metadata": {
        "colab": {
          "base_uri": "https://localhost:8080/"
        },
        "id": "3FIXiWgsuo4J",
        "outputId": "291fa72b-68fc-4658-bdeb-51c2a73add67"
      },
      "execution_count": 152,
      "outputs": [
        {
          "output_type": "execute_result",
          "data": {
            "text/plain": [
              "(178, 13)"
            ]
          },
          "metadata": {},
          "execution_count": 152
        }
      ]
    },
    {
      "cell_type": "code",
      "source": [
        "data.head()"
      ],
      "metadata": {
        "colab": {
          "base_uri": "https://localhost:8080/",
          "height": 270
        },
        "id": "3-2u1kSauZ74",
        "outputId": "0dd91812-fe2b-45c8-a62d-f24daa0e1998"
      },
      "execution_count": 153,
      "outputs": [
        {
          "output_type": "execute_result",
          "data": {
            "text/plain": [
              "   alcohol  malic_acid   ash  alcalinity_of_ash  magnesium  total_phenols  \\\n",
              "0    14.23        1.71  2.43               15.6      127.0           2.80   \n",
              "1    13.20        1.78  2.14               11.2      100.0           2.65   \n",
              "2    13.16        2.36  2.67               18.6      101.0           2.80   \n",
              "3    14.37        1.95  2.50               16.8      113.0           3.85   \n",
              "4    13.24        2.59  2.87               21.0      118.0           2.80   \n",
              "\n",
              "   flavanoids  nonflavanoid_phenols  proanthocyanins  color_intensity   hue  \\\n",
              "0        3.06                  0.28             2.29             5.64  1.04   \n",
              "1        2.76                  0.26             1.28             4.38  1.05   \n",
              "2        3.24                  0.30             2.81             5.68  1.03   \n",
              "3        3.49                  0.24             2.18             7.80  0.86   \n",
              "4        2.69                  0.39             1.82             4.32  1.04   \n",
              "\n",
              "   od280/od315_of_diluted_wines  proline  \n",
              "0                          3.92   1065.0  \n",
              "1                          3.40   1050.0  \n",
              "2                          3.17   1185.0  \n",
              "3                          3.45   1480.0  \n",
              "4                          2.93    735.0  "
            ],
            "text/html": [
              "\n",
              "  <div id=\"df-4deebfe1-b106-4b04-8043-ad54281f8b16\">\n",
              "    <div class=\"colab-df-container\">\n",
              "      <div>\n",
              "<style scoped>\n",
              "    .dataframe tbody tr th:only-of-type {\n",
              "        vertical-align: middle;\n",
              "    }\n",
              "\n",
              "    .dataframe tbody tr th {\n",
              "        vertical-align: top;\n",
              "    }\n",
              "\n",
              "    .dataframe thead th {\n",
              "        text-align: right;\n",
              "    }\n",
              "</style>\n",
              "<table border=\"1\" class=\"dataframe\">\n",
              "  <thead>\n",
              "    <tr style=\"text-align: right;\">\n",
              "      <th></th>\n",
              "      <th>alcohol</th>\n",
              "      <th>malic_acid</th>\n",
              "      <th>ash</th>\n",
              "      <th>alcalinity_of_ash</th>\n",
              "      <th>magnesium</th>\n",
              "      <th>total_phenols</th>\n",
              "      <th>flavanoids</th>\n",
              "      <th>nonflavanoid_phenols</th>\n",
              "      <th>proanthocyanins</th>\n",
              "      <th>color_intensity</th>\n",
              "      <th>hue</th>\n",
              "      <th>od280/od315_of_diluted_wines</th>\n",
              "      <th>proline</th>\n",
              "    </tr>\n",
              "  </thead>\n",
              "  <tbody>\n",
              "    <tr>\n",
              "      <th>0</th>\n",
              "      <td>14.23</td>\n",
              "      <td>1.71</td>\n",
              "      <td>2.43</td>\n",
              "      <td>15.6</td>\n",
              "      <td>127.0</td>\n",
              "      <td>2.80</td>\n",
              "      <td>3.06</td>\n",
              "      <td>0.28</td>\n",
              "      <td>2.29</td>\n",
              "      <td>5.64</td>\n",
              "      <td>1.04</td>\n",
              "      <td>3.92</td>\n",
              "      <td>1065.0</td>\n",
              "    </tr>\n",
              "    <tr>\n",
              "      <th>1</th>\n",
              "      <td>13.20</td>\n",
              "      <td>1.78</td>\n",
              "      <td>2.14</td>\n",
              "      <td>11.2</td>\n",
              "      <td>100.0</td>\n",
              "      <td>2.65</td>\n",
              "      <td>2.76</td>\n",
              "      <td>0.26</td>\n",
              "      <td>1.28</td>\n",
              "      <td>4.38</td>\n",
              "      <td>1.05</td>\n",
              "      <td>3.40</td>\n",
              "      <td>1050.0</td>\n",
              "    </tr>\n",
              "    <tr>\n",
              "      <th>2</th>\n",
              "      <td>13.16</td>\n",
              "      <td>2.36</td>\n",
              "      <td>2.67</td>\n",
              "      <td>18.6</td>\n",
              "      <td>101.0</td>\n",
              "      <td>2.80</td>\n",
              "      <td>3.24</td>\n",
              "      <td>0.30</td>\n",
              "      <td>2.81</td>\n",
              "      <td>5.68</td>\n",
              "      <td>1.03</td>\n",
              "      <td>3.17</td>\n",
              "      <td>1185.0</td>\n",
              "    </tr>\n",
              "    <tr>\n",
              "      <th>3</th>\n",
              "      <td>14.37</td>\n",
              "      <td>1.95</td>\n",
              "      <td>2.50</td>\n",
              "      <td>16.8</td>\n",
              "      <td>113.0</td>\n",
              "      <td>3.85</td>\n",
              "      <td>3.49</td>\n",
              "      <td>0.24</td>\n",
              "      <td>2.18</td>\n",
              "      <td>7.80</td>\n",
              "      <td>0.86</td>\n",
              "      <td>3.45</td>\n",
              "      <td>1480.0</td>\n",
              "    </tr>\n",
              "    <tr>\n",
              "      <th>4</th>\n",
              "      <td>13.24</td>\n",
              "      <td>2.59</td>\n",
              "      <td>2.87</td>\n",
              "      <td>21.0</td>\n",
              "      <td>118.0</td>\n",
              "      <td>2.80</td>\n",
              "      <td>2.69</td>\n",
              "      <td>0.39</td>\n",
              "      <td>1.82</td>\n",
              "      <td>4.32</td>\n",
              "      <td>1.04</td>\n",
              "      <td>2.93</td>\n",
              "      <td>735.0</td>\n",
              "    </tr>\n",
              "  </tbody>\n",
              "</table>\n",
              "</div>\n",
              "      <button class=\"colab-df-convert\" onclick=\"convertToInteractive('df-4deebfe1-b106-4b04-8043-ad54281f8b16')\"\n",
              "              title=\"Convert this dataframe to an interactive table.\"\n",
              "              style=\"display:none;\">\n",
              "        \n",
              "  <svg xmlns=\"http://www.w3.org/2000/svg\" height=\"24px\"viewBox=\"0 0 24 24\"\n",
              "       width=\"24px\">\n",
              "    <path d=\"M0 0h24v24H0V0z\" fill=\"none\"/>\n",
              "    <path d=\"M18.56 5.44l.94 2.06.94-2.06 2.06-.94-2.06-.94-.94-2.06-.94 2.06-2.06.94zm-11 1L8.5 8.5l.94-2.06 2.06-.94-2.06-.94L8.5 2.5l-.94 2.06-2.06.94zm10 10l.94 2.06.94-2.06 2.06-.94-2.06-.94-.94-2.06-.94 2.06-2.06.94z\"/><path d=\"M17.41 7.96l-1.37-1.37c-.4-.4-.92-.59-1.43-.59-.52 0-1.04.2-1.43.59L10.3 9.45l-7.72 7.72c-.78.78-.78 2.05 0 2.83L4 21.41c.39.39.9.59 1.41.59.51 0 1.02-.2 1.41-.59l7.78-7.78 2.81-2.81c.8-.78.8-2.07 0-2.86zM5.41 20L4 18.59l7.72-7.72 1.47 1.35L5.41 20z\"/>\n",
              "  </svg>\n",
              "      </button>\n",
              "      \n",
              "  <style>\n",
              "    .colab-df-container {\n",
              "      display:flex;\n",
              "      flex-wrap:wrap;\n",
              "      gap: 12px;\n",
              "    }\n",
              "\n",
              "    .colab-df-convert {\n",
              "      background-color: #E8F0FE;\n",
              "      border: none;\n",
              "      border-radius: 50%;\n",
              "      cursor: pointer;\n",
              "      display: none;\n",
              "      fill: #1967D2;\n",
              "      height: 32px;\n",
              "      padding: 0 0 0 0;\n",
              "      width: 32px;\n",
              "    }\n",
              "\n",
              "    .colab-df-convert:hover {\n",
              "      background-color: #E2EBFA;\n",
              "      box-shadow: 0px 1px 2px rgba(60, 64, 67, 0.3), 0px 1px 3px 1px rgba(60, 64, 67, 0.15);\n",
              "      fill: #174EA6;\n",
              "    }\n",
              "\n",
              "    [theme=dark] .colab-df-convert {\n",
              "      background-color: #3B4455;\n",
              "      fill: #D2E3FC;\n",
              "    }\n",
              "\n",
              "    [theme=dark] .colab-df-convert:hover {\n",
              "      background-color: #434B5C;\n",
              "      box-shadow: 0px 1px 3px 1px rgba(0, 0, 0, 0.15);\n",
              "      filter: drop-shadow(0px 1px 2px rgba(0, 0, 0, 0.3));\n",
              "      fill: #FFFFFF;\n",
              "    }\n",
              "  </style>\n",
              "\n",
              "      <script>\n",
              "        const buttonEl =\n",
              "          document.querySelector('#df-4deebfe1-b106-4b04-8043-ad54281f8b16 button.colab-df-convert');\n",
              "        buttonEl.style.display =\n",
              "          google.colab.kernel.accessAllowed ? 'block' : 'none';\n",
              "\n",
              "        async function convertToInteractive(key) {\n",
              "          const element = document.querySelector('#df-4deebfe1-b106-4b04-8043-ad54281f8b16');\n",
              "          const dataTable =\n",
              "            await google.colab.kernel.invokeFunction('convertToInteractive',\n",
              "                                                     [key], {});\n",
              "          if (!dataTable) return;\n",
              "\n",
              "          const docLinkHtml = 'Like what you see? Visit the ' +\n",
              "            '<a target=\"_blank\" href=https://colab.research.google.com/notebooks/data_table.ipynb>data table notebook</a>'\n",
              "            + ' to learn more about interactive tables.';\n",
              "          element.innerHTML = '';\n",
              "          dataTable['output_type'] = 'display_data';\n",
              "          await google.colab.output.renderOutput(dataTable, element);\n",
              "          const docLink = document.createElement('div');\n",
              "          docLink.innerHTML = docLinkHtml;\n",
              "          element.appendChild(docLink);\n",
              "        }\n",
              "      </script>\n",
              "    </div>\n",
              "  </div>\n",
              "  "
            ]
          },
          "metadata": {},
          "execution_count": 153
        }
      ]
    },
    {
      "cell_type": "markdown",
      "source": [
        "#**Data Standardization**"
      ],
      "metadata": {
        "id": "SMytqXzsu28H"
      }
    },
    {
      "cell_type": "markdown",
      "source": [
        "**preprocessing.scale:** for better results in PCA it is better to Standardize a dataset (we can do along any axis with scikit-learn). This function center to the mean and component wise scale to unit variance.\n",
        "\n",
        "**Standardization** of datasets is a common requirement for many machine learning estimators implemented in scikit-learn; they might behave badly if the individual features do not more or less look like standard normally distributed data: Gaussian with zero mean and unit variance.\n",
        "\n",
        "In practice we often ignore the shape of the distribution and just transform the data to center it by removing the mean value of each feature, then scale it by dividing non-constant features by their standard deviation.\n",
        "\n",
        "For instance, many elements used in the objective function of a learning algorithm (such as the RBF kernel of Support Vector Machines or the l1 and l2 regularizers of linear models) assume that all features are centered around zero and have variance in the same order. If a feature has a variance that is orders of magnitude larger than others, it might dominate the objective function and make the estimator unable to learn from other features correctly as expected."
      ],
      "metadata": {
        "id": "4h6n0tRUvR6Y"
      }
    },
    {
      "cell_type": "code",
      "source": [
        "data_norm = preprocessing.scale(data, axis=0)\n",
        "\n",
        "# check\n",
        "print(np.mean(data_norm, axis=0))"
      ],
      "metadata": {
        "colab": {
          "base_uri": "https://localhost:8080/"
        },
        "id": "ixR9Lzu3u0Z7",
        "outputId": "f4f34ddb-57ea-4ec3-ee10-2be65377a6c0"
      },
      "execution_count": 158,
      "outputs": [
        {
          "output_type": "stream",
          "name": "stdout",
          "text": [
            "[ 7.84141790e-15  2.44498554e-16 -4.05917497e-15 -7.11041712e-17\n",
            " -2.49488320e-17 -1.95536471e-16  9.44313292e-16 -4.17892936e-16\n",
            " -1.54059038e-15 -4.12903170e-16  1.39838203e-15  2.12688793e-15\n",
            " -6.98567296e-17]\n"
          ]
        }
      ]
    },
    {
      "cell_type": "code",
      "source": [
        "print(np.std(data_norm, axis=0))"
      ],
      "metadata": {
        "colab": {
          "base_uri": "https://localhost:8080/"
        },
        "id": "0iVc_2HslsIS",
        "outputId": "5fedb765-1cb3-4829-c283-9503cafd3d95"
      },
      "execution_count": 159,
      "outputs": [
        {
          "output_type": "stream",
          "name": "stdout",
          "text": [
            "[1. 1. 1. 1. 1. 1. 1. 1. 1. 1. 1. 1. 1.]\n"
          ]
        }
      ]
    },
    {
      "cell_type": "code",
      "source": [
        "pca_model = PCA()\n",
        "data_pca_sklearn = pca_model.fit_transform(data_norm)"
      ],
      "metadata": {
        "id": "1hbXqPGRlveL"
      },
      "execution_count": 160,
      "outputs": []
    },
    {
      "cell_type": "code",
      "source": [
        "print('Default number of components: {}'.format(pca_model.n_components_))\n",
        "print(pca_model.explained_variance_)\n",
        "print(pca_model.explained_variance_ratio_)\n",
        "print(np.cumsum(pca_model.explained_variance_ratio_))"
      ],
      "metadata": {
        "colab": {
          "base_uri": "https://localhost:8080/"
        },
        "id": "EeZsotP2rZ5c",
        "outputId": "1cffa450-f1a1-40d9-8d68-ed4f1a8b0117"
      },
      "execution_count": 161,
      "outputs": [
        {
          "output_type": "stream",
          "name": "stdout",
          "text": [
            "Default number of components: 13\n",
            "[4.73243698 2.51108093 1.45424187 0.92416587 0.85804868 0.64528221\n",
            " 0.55414147 0.35046627 0.29051203 0.25232001 0.22706428 0.16972374\n",
            " 0.10396199]\n",
            "[0.36198848 0.1920749  0.11123631 0.0706903  0.06563294 0.04935823\n",
            " 0.04238679 0.02680749 0.02222153 0.01930019 0.01736836 0.01298233\n",
            " 0.00795215]\n",
            "[0.36198848 0.55406338 0.66529969 0.73598999 0.80162293 0.85098116\n",
            " 0.89336795 0.92017544 0.94239698 0.96169717 0.97906553 0.99204785\n",
            " 1.        ]\n"
          ]
        }
      ]
    },
    {
      "cell_type": "code",
      "source": [
        "pca_model = PCA(n_components = 2)\n",
        "data_pca_sklearn = pca_model.fit_transform(data_norm)\n",
        "\n",
        "print(pca_model.explained_variance_)\n",
        "print(pca_model.explained_variance_ratio_)\n",
        "print(np.cumsum(pca_model.explained_variance_ratio_))"
      ],
      "metadata": {
        "colab": {
          "base_uri": "https://localhost:8080/"
        },
        "id": "dHQWDt8drfV6",
        "outputId": "4de5ea5b-4aaf-463f-9585-a14362a28e27"
      },
      "execution_count": 163,
      "outputs": [
        {
          "output_type": "stream",
          "name": "stdout",
          "text": [
            "[4.73243698 2.51108093]\n",
            "[0.36198848 0.1920749 ]\n",
            "[0.36198848 0.55406338]\n"
          ]
        }
      ]
    },
    {
      "cell_type": "code",
      "source": [
        "print(data_pca_sklearn)"
      ],
      "metadata": {
        "colab": {
          "base_uri": "https://localhost:8080/"
        },
        "id": "oWnhyVV9riII",
        "outputId": "2135fc33-5fa2-4400-95e0-9eeb003a713c"
      },
      "execution_count": 164,
      "outputs": [
        {
          "output_type": "stream",
          "name": "stdout",
          "text": [
            "[[ 3.31675081 -1.44346263]\n",
            " [ 2.20946492  0.33339289]\n",
            " [ 2.51674015 -1.0311513 ]\n",
            " [ 3.75706561 -2.75637191]\n",
            " [ 1.00890849 -0.86983082]\n",
            " [ 3.05025392 -2.12240111]\n",
            " [ 2.44908967 -1.17485013]\n",
            " [ 2.05943687 -1.60896307]\n",
            " [ 2.5108743  -0.91807096]\n",
            " [ 2.75362819 -0.78943767]\n",
            " [ 3.47973668 -1.30233324]\n",
            " [ 1.7547529  -0.61197723]\n",
            " [ 2.11346234 -0.67570634]\n",
            " [ 3.45815682 -1.13062988]\n",
            " [ 4.31278391 -2.09597558]\n",
            " [ 2.3051882  -1.66255173]\n",
            " [ 2.17195527 -2.32730534]\n",
            " [ 1.89897118 -1.63136888]\n",
            " [ 3.54198508 -2.51834367]\n",
            " [ 2.0845222  -1.06113799]\n",
            " [ 3.12440254 -0.78689711]\n",
            " [ 1.08657007 -0.24174355]\n",
            " [ 2.53522408  0.09184062]\n",
            " [ 1.64498834  0.51627893]\n",
            " [ 1.76157587  0.31714893]\n",
            " [ 0.9900791  -0.94066734]\n",
            " [ 1.77527763 -0.68617513]\n",
            " [ 1.23542396  0.08980704]\n",
            " [ 2.18840633 -0.68956962]\n",
            " [ 2.25610898 -0.19146194]\n",
            " [ 2.50022003 -1.24083383]\n",
            " [ 2.67741105 -1.47187365]\n",
            " [ 1.62857912 -0.05270445]\n",
            " [ 1.90269086 -1.63306043]\n",
            " [ 1.41038853 -0.69793432]\n",
            " [ 1.90382623 -0.17671095]\n",
            " [ 1.38486223 -0.65863985]\n",
            " [ 1.12220741 -0.11410976]\n",
            " [ 1.5021945   0.76943201]\n",
            " [ 2.52980109 -1.80300198]\n",
            " [ 2.58809543 -0.7796163 ]\n",
            " [ 0.66848199 -0.16996094]\n",
            " [ 3.07080699 -1.15591896]\n",
            " [ 0.46220914 -0.33074213]\n",
            " [ 2.10135193  0.07100892]\n",
            " [ 1.13616618 -1.77710739]\n",
            " [ 2.72660096 -1.19133469]\n",
            " [ 2.82133927 -0.6462586 ]\n",
            " [ 2.00985085 -1.24702946]\n",
            " [ 2.7074913  -1.75196741]\n",
            " [ 3.21491747 -0.16699199]\n",
            " [ 2.85895983 -0.7452788 ]\n",
            " [ 3.50560436 -1.61273386]\n",
            " [ 2.22479138 -1.875168  ]\n",
            " [ 2.14698782 -1.01675154]\n",
            " [ 2.46932948 -1.32900831]\n",
            " [ 2.74151791 -1.43654878]\n",
            " [ 2.17374092 -1.21219984]\n",
            " [ 3.13938015 -1.73157912]\n",
            " [-0.92858197  3.07348616]\n",
            " [-1.54248014  1.38144351]\n",
            " [-1.83624976  0.82998412]\n",
            " [ 0.03060683  1.26278614]\n",
            " [ 2.05026161  1.9250326 ]\n",
            " [-0.60968083  1.90805881]\n",
            " [ 0.90022784  0.76391147]\n",
            " [ 2.24850719  1.88459248]\n",
            " [ 0.18338403  2.42714611]\n",
            " [-0.81280503  0.22051399]\n",
            " [ 1.9756205   1.40328323]\n",
            " [-1.57221622  0.88498314]\n",
            " [ 1.65768181  0.9567122 ]\n",
            " [-0.72537239  1.0636454 ]\n",
            " [ 2.56222717 -0.26019855]\n",
            " [ 1.83256757  1.2878782 ]\n",
            " [-0.8679929   2.44410119]\n",
            " [ 0.3700144   2.15390698]\n",
            " [-1.45737704  1.38335177]\n",
            " [ 1.26293085  0.77084953]\n",
            " [ 0.37615037  1.0270434 ]\n",
            " [ 0.7620639   3.37505381]\n",
            " [ 1.03457797  1.45070974]\n",
            " [-0.49487676  2.38124353]\n",
            " [-2.53897708  0.08744336]\n",
            " [ 0.83532015  1.47367055]\n",
            " [ 0.78790461  2.02662652]\n",
            " [-0.80683216  2.23383039]\n",
            " [-0.55804262  2.37298543]\n",
            " [-1.11511104  1.80224719]\n",
            " [-0.55572283  2.65754004]\n",
            " [-1.34928528  2.11800147]\n",
            " [-1.56448261  1.85221452]\n",
            " [-1.93255561  1.55949546]\n",
            " [ 0.74666594  2.31293171]\n",
            " [ 0.95745536  2.22352843]\n",
            " [ 2.54386518 -0.16927402]\n",
            " [-0.54395259  0.36892655]\n",
            " [ 1.03104975  2.56556935]\n",
            " [ 2.25190942  1.43274138]\n",
            " [ 1.41021602  2.16619177]\n",
            " [ 0.79771979  2.3769488 ]\n",
            " [-0.54953173  2.29312864]\n",
            " [-0.16117374  1.16448332]\n",
            " [-0.65979494  2.67996119]\n",
            " [ 0.39235441  2.09873171]\n",
            " [-1.77249908  1.71728847]\n",
            " [-0.36626736  2.1693533 ]\n",
            " [-1.62067257  1.35558339]\n",
            " [ 0.08253578  2.30623459]\n",
            " [ 1.57827507  1.46203429]\n",
            " [ 1.42056925  1.41820664]\n",
            " [-0.27870275  1.93056809]\n",
            " [-1.30314497  0.76317231]\n",
            " [-0.45707187  2.26941561]\n",
            " [-0.49418585  1.93904505]\n",
            " [ 0.48207441  3.87178385]\n",
            " [-0.25288888  2.82149237]\n",
            " [-0.10722764  1.92892204]\n",
            " [-2.4330126   1.25714104]\n",
            " [-0.55108954  2.22216155]\n",
            " [ 0.73962193  1.40895667]\n",
            " [ 1.33632173 -0.25333693]\n",
            " [-1.177087    0.66396684]\n",
            " [-0.46233501  0.61828818]\n",
            " [ 0.97847408  1.4455705 ]\n",
            " [-0.09680973  2.10999799]\n",
            " [ 0.03848715  1.26676211]\n",
            " [-1.5971585   1.20814357]\n",
            " [-0.47956492  1.93884066]\n",
            " [-1.79283347  1.1502881 ]\n",
            " [-1.32710166 -0.17038923]\n",
            " [-2.38450083 -0.37458261]\n",
            " [-2.9369401  -0.26386183]\n",
            " [-2.14681113 -0.36825495]\n",
            " [-2.36986949  0.45963481]\n",
            " [-3.06384157 -0.35341284]\n",
            " [-3.91575378 -0.15458252]\n",
            " [-3.93646339 -0.65968723]\n",
            " [-3.09427612 -0.34884276]\n",
            " [-2.37447163 -0.29198035]\n",
            " [-2.77881295 -0.28680487]\n",
            " [-2.28656128 -0.37250784]\n",
            " [-2.98563349 -0.48921791]\n",
            " [-2.3751947  -0.48233372]\n",
            " [-2.20986553 -1.1600525 ]\n",
            " [-2.625621   -0.56316076]\n",
            " [-4.28063878 -0.64967096]\n",
            " [-3.58264137 -1.27270275]\n",
            " [-2.80706372 -1.57053379]\n",
            " [-2.89965933 -2.04105701]\n",
            " [-2.32073698 -2.35636608]\n",
            " [-2.54983095 -2.04528309]\n",
            " [-1.81254128 -1.52764595]\n",
            " [-2.76014464 -2.13893235]\n",
            " [-2.7371505  -0.40988627]\n",
            " [-3.60486887 -1.80238422]\n",
            " [-2.889826   -1.92521861]\n",
            " [-3.39215608 -1.31187639]\n",
            " [-1.0481819  -3.51508969]\n",
            " [-1.60991228 -2.40663816]\n",
            " [-3.14313097 -0.73816104]\n",
            " [-2.2401569  -1.17546529]\n",
            " [-2.84767378 -0.55604397]\n",
            " [-2.59749706 -0.69796554]\n",
            " [-2.94929937 -1.55530896]\n",
            " [-3.53003227 -0.8825268 ]\n",
            " [-2.40611054 -2.59235618]\n",
            " [-2.92908473 -1.27444695]\n",
            " [-2.18141278 -2.07753731]\n",
            " [-2.38092779 -2.58866743]\n",
            " [-3.21161722  0.2512491 ]\n",
            " [-3.67791872 -0.84774784]\n",
            " [-2.4655558  -2.1937983 ]\n",
            " [-3.37052415 -2.21628914]\n",
            " [-2.60195585 -1.75722935]\n",
            " [-2.67783946 -2.76089913]\n",
            " [-2.38701709 -2.29734668]\n",
            " [-3.20875816 -2.76891957]]\n"
          ]
        }
      ]
    },
    {
      "cell_type": "markdown",
      "source": [
        "#**PCA Output Visualization**"
      ],
      "metadata": {
        "id": "beoa2jIRrq-p"
      }
    },
    {
      "cell_type": "code",
      "source": [
        "plt.scatter(data_pca_sklearn[:,0], data_pca_sklearn[:,1], cmap=\"plasma\", linewidths=0);"
      ],
      "metadata": {
        "colab": {
          "base_uri": "https://localhost:8080/",
          "height": 265
        },
        "id": "-0T0ldNBrk-K",
        "outputId": "cf74342f-f12b-4f34-c6c0-da5da449f414"
      },
      "execution_count": 165,
      "outputs": [
        {
          "output_type": "display_data",
          "data": {
            "text/plain": [
              "<Figure size 432x288 with 1 Axes>"
            ],
            "image/png": "[encoded data removed]"
          },
          "metadata": {
            "needs_background": "light"
          }
        }
      ]
    }
  ],
  "metadata": {
    "colab": {
      "collapsed_sections": [],
      "name": "unsupervised_machine_learning.ipynb",
      "provenance": []
    },
    "kernelspec": {
      "display_name": "Python 3",
      "language": "python",
      "name": "python3"
    },
    "language_info": {
      "codemirror_mode": {
        "name": "ipython",
        "version": 3
      },
      "file_extension": ".py",
      "mimetype": "text/x-python",
      "name": "python",
      "nbconvert_exporter": "python",
      "pygments_lexer": "ipython3",
      "version": "3.6.3"
    }
  },
  "nbformat": 4,
  "nbformat_minor": 0
}