{
  "cells": [
    {
      "cell_type": "markdown",
      "metadata": {
        "id": "qVj3UJybqj_w"
      },
      "source": [
        "# Introduction to Data Analysis with Python\n",
        "\n",
        "\n",
        "<img src=\"https://www.python.org/static/img/python-logo.png\" alt=\"yogen\" style=\"width: 200px; float: right;\"/>\n",
        "<br>\n",
        "<br>\n",
        "<br>\n"
      ]
    },
    {
      "cell_type": "markdown",
      "metadata": {
        "id": "8igDiNooqkBD"
      },
      "source": [
        "## `pandas`"
      ]
    },
    {
      "cell_type": "markdown",
      "metadata": {
        "id": "R8mK29BiqkBD"
      },
      "source": [
        "### Getting started with pandas"
      ]
    },
    {
      "cell_type": "code",
      "execution_count": null,
      "metadata": {
        "id": "AWRBtJ3kqkBD"
      },
      "outputs": [],
      "source": [
        "import pandas as pd\n",
        "import numpy as np"
      ]
    },
    {
      "cell_type": "markdown",
      "metadata": {
        "id": "oiWsHuEPqkBD"
      },
      "source": [
        "### `pandas` data structures"
      ]
    },
    {
      "cell_type": "markdown",
      "metadata": {
        "id": "rxRxjozKqkBD"
      },
      "source": [
        "### Series\n",
        "\n",
        "The base pandas abstraction. You can thing of it as the love child of a numpy array and a dictionary."
      ]
    },
    {
      "cell_type": "code",
      "execution_count": null,
      "metadata": {
        "id": "2v4ZpdrPqkBD",
        "outputId": "218aeeb1-6b75-4465-f2e3-eeb71cc5cc76"
      },
      "outputs": [
        {
          "data": {
            "text/plain": [
              "0    4\n",
              "1    7\n",
              "2   -5\n",
              "3    3\n",
              "dtype: int64"
            ]
          },
          "execution_count": 89,
          "metadata": {},
          "output_type": "execute_result"
        }
      ],
      "source": [
        "s = pd.Series([4, 7, -5, 3])\n",
        "s"
      ]
    },
    {
      "cell_type": "markdown",
      "metadata": {
        "id": "wFOVgYQ8qkBE"
      },
      "source": [
        "If we provide an index, pandas will use it. If not, it will automatically create one."
      ]
    },
    {
      "cell_type": "code",
      "execution_count": null,
      "metadata": {
        "id": "jVhq12CeqkBE",
        "outputId": "d13c0f1a-c2a3-437a-c86d-90ebc1cdb96d"
      },
      "outputs": [
        {
          "name": "stdout",
          "output_type": "stream",
          "text": [
            "RangeIndex(start=0, stop=4, step=1)\n",
            "[ 4  7 -5  3]\n"
          ]
        }
      ],
      "source": [
        "print(s.index)\n",
        "print(s.values)"
      ]
    },
    {
      "cell_type": "code",
      "execution_count": null,
      "metadata": {
        "id": "I4_myTrqqkBE",
        "outputId": "578f50a4-26ed-494c-d4d4-0f51ced81e20"
      },
      "outputs": [
        {
          "data": {
            "text/plain": [
              "['i', 'f', 'n', 'e', 'u', 'r', 'h']"
            ]
          },
          "execution_count": 206,
          "metadata": {},
          "output_type": "execute_result"
        }
      ],
      "source": [
        "list('ifneurh')"
      ]
    },
    {
      "cell_type": "code",
      "execution_count": null,
      "metadata": {
        "id": "nKQLZ5srqkBE",
        "outputId": "fb8f5af4-4d3f-4acd-8fcf-cd1c4f04abd1"
      },
      "outputs": [
        {
          "data": {
            "text/plain": [
              "i     1.0\n",
              "f     2.0\n",
              "n     4.5\n",
              "e     7.0\n",
              "u     2.0\n",
              "r    23.0\n",
              "h    15.0\n",
              "dtype: float64"
            ]
          },
          "execution_count": 221,
          "metadata": {},
          "output_type": "execute_result"
        }
      ],
      "source": [
        "s2 = pd.Series([1, 2, 4.5, 7, 2, 23, 15], index=['i', 'f', 'n', 'e', 'u', 'r', 'h'])\n",
        "s2"
      ]
    },
    {
      "cell_type": "code",
      "execution_count": null,
      "metadata": {
        "id": "VRGo78rWqkBF",
        "outputId": "fdccf475-54b9-4a74-e0a8-36544cea0fbe"
      },
      "outputs": [
        {
          "data": {
            "text/plain": [
              "23.0"
            ]
          },
          "execution_count": 211,
          "metadata": {},
          "output_type": "execute_result"
        }
      ],
      "source": [
        "s2['r']"
      ]
    },
    {
      "cell_type": "code",
      "execution_count": null,
      "metadata": {
        "id": "X83rD0N8qkBF",
        "outputId": "da0c22e4-27a2-443f-a653-9653d5ea3baf"
      },
      "outputs": [
        {
          "data": {
            "text/plain": [
              "i    False\n",
              "f    False\n",
              "n     True\n",
              "e     True\n",
              "u    False\n",
              "r     True\n",
              "h     True\n",
              "dtype: bool"
            ]
          },
          "execution_count": 212,
          "metadata": {},
          "output_type": "execute_result"
        }
      ],
      "source": [
        "s2 > 3"
      ]
    },
    {
      "cell_type": "code",
      "execution_count": null,
      "metadata": {
        "id": "GkfXAIw3qkBF",
        "outputId": "931e51b5-9410-421d-815d-d01bd9f39274"
      },
      "outputs": [
        {
          "data": {
            "text/plain": [
              "n     4.5\n",
              "e     7.0\n",
              "r    23.0\n",
              "h    15.0\n",
              "dtype: float64"
            ]
          },
          "execution_count": 213,
          "metadata": {},
          "output_type": "execute_result"
        }
      ],
      "source": [
        "s2[s2>3]"
      ]
    },
    {
      "cell_type": "code",
      "execution_count": null,
      "metadata": {
        "id": "MH--lDfGqkBF"
      },
      "outputs": [],
      "source": [
        ""
      ]
    },
    {
      "cell_type": "code",
      "execution_count": null,
      "metadata": {
        "id": "PjI_ABKWqkBG"
      },
      "outputs": [],
      "source": [
        ""
      ]
    },
    {
      "cell_type": "code",
      "execution_count": null,
      "metadata": {
        "id": "r6F7CLqlqkBG"
      },
      "outputs": [],
      "source": [
        ""
      ]
    },
    {
      "cell_type": "code",
      "execution_count": null,
      "metadata": {
        "id": "mt_w8e3eqkBG"
      },
      "outputs": [],
      "source": [
        ""
      ]
    },
    {
      "cell_type": "code",
      "execution_count": null,
      "metadata": {
        "id": "8eI4Yp_yqkBG"
      },
      "outputs": [],
      "source": [
        "evens = s2 % 2 == 0"
      ]
    },
    {
      "cell_type": "code",
      "execution_count": null,
      "metadata": {
        "id": "8n_5szTKqkBG",
        "outputId": "c5fe2189-646b-46df-b167-62e4fdb19c94"
      },
      "outputs": [
        {
          "data": {
            "text/plain": [
              "f    2.0\n",
              "u    2.0\n",
              "dtype: float64"
            ]
          },
          "execution_count": 216,
          "metadata": {},
          "output_type": "execute_result"
        }
      ],
      "source": [
        "s2[evens]"
      ]
    },
    {
      "cell_type": "code",
      "execution_count": null,
      "metadata": {
        "id": "5usytbBVqkBG",
        "outputId": "c2a738a6-798f-4702-d9cd-36a972b363e2"
      },
      "outputs": [
        {
          "data": {
            "text/plain": [
              "i     2.0\n",
              "f     4.0\n",
              "n     9.0\n",
              "e    14.0\n",
              "u     4.0\n",
              "r    46.0\n",
              "h    30.0\n",
              "dtype: float64"
            ]
          },
          "execution_count": 217,
          "metadata": {},
          "output_type": "execute_result"
        }
      ],
      "source": [
        "s2 * 2"
      ]
    },
    {
      "cell_type": "code",
      "execution_count": null,
      "metadata": {
        "id": "dLkNA_IJqkBH",
        "outputId": "0803a9a7-60a3-453d-a99b-860937b7812a"
      },
      "outputs": [
        {
          "data": {
            "text/plain": [
              "i    2.718282e+00\n",
              "f    7.389056e+00\n",
              "n    9.001713e+01\n",
              "e    1.096633e+03\n",
              "u    7.389056e+00\n",
              "r    9.744803e+09\n",
              "h    3.269017e+06\n",
              "dtype: float64"
            ]
          },
          "execution_count": 218,
          "metadata": {},
          "output_type": "execute_result"
        }
      ],
      "source": [
        "np.exp(s2)"
      ]
    },
    {
      "cell_type": "code",
      "execution_count": null,
      "metadata": {
        "id": "70DU9Xb8qkBH",
        "outputId": "e7d7b97b-9fbc-43c9-fd8f-c60d3ad548d6"
      },
      "outputs": [
        {
          "data": {
            "text/plain": [
              "True"
            ]
          },
          "execution_count": 219,
          "metadata": {},
          "output_type": "execute_result"
        }
      ],
      "source": [
        "'f' in s2"
      ]
    },
    {
      "cell_type": "code",
      "execution_count": null,
      "metadata": {
        "id": "EN4LpFjSqkBH"
      },
      "outputs": [],
      "source": [
        "clase = pd.Series([34, 22, 45, 72], index=['Toni', 'Fulanito', 'Menganito', 'Victor'])"
      ]
    },
    {
      "cell_type": "code",
      "execution_count": null,
      "metadata": {
        "id": "oxrUOouVqkBH",
        "outputId": "6c09a0b3-6885-4ff8-a370-35477af1ace6"
      },
      "outputs": [
        {
          "data": {
            "text/plain": [
              "Index(['Fulanito'], dtype='object')"
            ]
          },
          "execution_count": 227,
          "metadata": {},
          "output_type": "execute_result"
        }
      ],
      "source": [
        "clase[clase==22].index"
      ]
    },
    {
      "cell_type": "markdown",
      "metadata": {
        "id": "53inNI4lqkBI"
      },
      "source": [
        "We can create Series from dictionaries:"
      ]
    },
    {
      "cell_type": "code",
      "execution_count": null,
      "metadata": {
        "id": "r6Z0yuc3qkBI",
        "outputId": "3508fad8-4d1c-4651-afd4-e1400b860d5a"
      },
      "outputs": [
        {
          "data": {
            "text/plain": [
              "B    3000000.0\n",
              "M    6000000.0\n",
              "P     120000.0\n",
              "V     700000.0\n",
              "dtype: float64"
            ]
          },
          "execution_count": 228,
          "metadata": {},
          "output_type": "execute_result"
        }
      ],
      "source": [
        "sdata = {'B' : 3e6, 'M': 6e6, 'P': 1.2e5, 'V': 7e5}\n",
        "\n",
        "s3 = pd.Series(sdata)\n",
        "s3"
      ]
    },
    {
      "cell_type": "code",
      "execution_count": null,
      "metadata": {
        "id": "Do0KvOzkqkBI"
      },
      "outputs": [],
      "source": [
        "increase = {'M': 4e5, 'B' : 2e5, 'Z': -2e4}\n",
        "\n",
        "s4 = pd.Series(increase)"
      ]
    },
    {
      "cell_type": "markdown",
      "metadata": {
        "id": "zxTedKvfqkBI"
      },
      "source": [
        "And here is where the magic happens: numpy arrays only identify their contents by position. In contrast, pandas knows their \"name\" and will align them based on their indexes:"
      ]
    },
    {
      "cell_type": "code",
      "execution_count": null,
      "metadata": {
        "id": "b6Xs3tgmqkBI",
        "outputId": "97021186-cede-4ce5-8567-3d26dc8e3a2d"
      },
      "outputs": [
        {
          "data": {
            "text/plain": [
              "array([3000000., 6000000.,  120000.,  700000.])"
            ]
          },
          "execution_count": 238,
          "metadata": {},
          "output_type": "execute_result"
        }
      ],
      "source": [
        "s3.values"
      ]
    },
    {
      "cell_type": "code",
      "execution_count": null,
      "metadata": {
        "id": "Lr-NItZnqkBJ",
        "outputId": "2d8f985f-a141-4da4-9128-de97d709f458"
      },
      "outputs": [
        {
          "data": {
            "text/plain": [
              "array([400000., 200000., -20000.])"
            ]
          },
          "execution_count": 239,
          "metadata": {},
          "output_type": "execute_result"
        }
      ],
      "source": [
        "s4.values"
      ]
    },
    {
      "cell_type": "code",
      "execution_count": null,
      "metadata": {
        "id": "CBT4OOGFqkBJ",
        "outputId": "c1366e00-400c-4018-ef31-d05ea904eef9"
      },
      "outputs": [
        {
          "ename": "ValueError",
          "evalue": "operands could not be broadcast together with shapes (4,) (3,) ",
          "output_type": "error",
          "traceback": [
            "\u001b[0;31m---------------------------------------------------------------------------\u001b[0m",
            "\u001b[0;31mValueError\u001b[0m                                Traceback (most recent call last)",
            "\u001b[0;32m<ipython-input-240-666344160b2e>\u001b[0m in \u001b[0;36m<module>\u001b[0;34m\u001b[0m\n\u001b[0;32m----> 1\u001b[0;31m \u001b[0ms3\u001b[0m\u001b[0;34m.\u001b[0m\u001b[0mvalues\u001b[0m \u001b[0;34m+\u001b[0m \u001b[0ms4\u001b[0m\u001b[0;34m.\u001b[0m\u001b[0mvalues\u001b[0m\u001b[0;34m\u001b[0m\u001b[0;34m\u001b[0m\u001b[0m\n\u001b[0m",
            "\u001b[0;31mValueError\u001b[0m: operands could not be broadcast together with shapes (4,) (3,) "
          ]
        }
      ],
      "source": [
        "s3.values + s4.values"
      ]
    },
    {
      "cell_type": "code",
      "execution_count": null,
      "metadata": {
        "id": "e3zS4WhoqkBJ",
        "outputId": "7b42eeeb-67d6-4662-a222-698263a2b034"
      },
      "outputs": [
        {
          "data": {
            "text/plain": [
              "B    3200000.0\n",
              "M    6400000.0\n",
              "P          NaN\n",
              "V          NaN\n",
              "Z          NaN\n",
              "dtype: float64"
            ]
          },
          "execution_count": 241,
          "metadata": {},
          "output_type": "execute_result"
        }
      ],
      "source": [
        "s3 + s4"
      ]
    },
    {
      "cell_type": "code",
      "execution_count": null,
      "metadata": {
        "id": "fid_M3VkqkBJ"
      },
      "outputs": [],
      "source": [
        "s3.name = 'population_2000'\n",
        "s3.index.name = 'province'"
      ]
    },
    {
      "cell_type": "code",
      "execution_count": null,
      "metadata": {
        "id": "C1NZ0DOEqkBK",
        "outputId": "45a3aee2-7288-45b7-c72a-0e9fb1954c88"
      },
      "outputs": [
        {
          "data": {
            "text/plain": [
              "province\n",
              "B    3000000.0\n",
              "M    6000000.0\n",
              "P     120000.0\n",
              "V     700000.0\n",
              "Name: population_2000, dtype: float64"
            ]
          },
          "execution_count": 243,
          "metadata": {},
          "output_type": "execute_result"
        }
      ],
      "source": [
        "s3"
      ]
    },
    {
      "cell_type": "code",
      "execution_count": null,
      "metadata": {
        "id": "cjD4M6ZIqkBK"
      },
      "outputs": [],
      "source": [
        ""
      ]
    },
    {
      "cell_type": "code",
      "execution_count": null,
      "metadata": {
        "id": "kuBym-oXqkBK"
      },
      "outputs": [],
      "source": [
        ""
      ]
    },
    {
      "cell_type": "code",
      "execution_count": null,
      "metadata": {
        "id": "608WWTuFqkBL"
      },
      "outputs": [],
      "source": [
        ""
      ]
    },
    {
      "cell_type": "markdown",
      "metadata": {
        "id": "qaUT3PIlqkBL"
      },
      "source": [
        "### DataFrame\n",
        "\n",
        "This is the object you'll work most of the time with. It represents a table of _m_ observations x _n_ variables. Each variable, or column, is a Series."
      ]
    },
    {
      "cell_type": "code",
      "execution_count": null,
      "metadata": {
        "id": "c3ePLXhrqkBL",
        "outputId": "f4465d57-017f-46a9-d8f8-2ee94564a8db"
      },
      "outputs": [
        {
          "data": {
            "text/html": [
              "<div>\n",
              "<style scoped>\n",
              "    .dataframe tbody tr th:only-of-type {\n",
              "        vertical-align: middle;\n",
              "    }\n",
              "\n",
              "    .dataframe tbody tr th {\n",
              "        vertical-align: top;\n",
              "    }\n",
              "\n",
              "    .dataframe thead th {\n",
              "        text-align: right;\n",
              "    }\n",
              "</style>\n",
              "<table border=\"1\" class=\"dataframe\">\n",
              "  <thead>\n",
              "    <tr style=\"text-align: right;\">\n",
              "      <th></th>\n",
              "      <th>province</th>\n",
              "      <th>population</th>\n",
              "      <th>year</th>\n",
              "    </tr>\n",
              "  </thead>\n",
              "  <tbody>\n",
              "    <tr>\n",
              "      <th>0</th>\n",
              "      <td>M</td>\n",
              "      <td>1500000.0</td>\n",
              "      <td>1900</td>\n",
              "    </tr>\n",
              "    <tr>\n",
              "      <th>1</th>\n",
              "      <td>M</td>\n",
              "      <td>2000000.0</td>\n",
              "      <td>1950</td>\n",
              "    </tr>\n",
              "    <tr>\n",
              "      <th>2</th>\n",
              "      <td>M</td>\n",
              "      <td>3000000.0</td>\n",
              "      <td>2000</td>\n",
              "    </tr>\n",
              "    <tr>\n",
              "      <th>3</th>\n",
              "      <td>B</td>\n",
              "      <td>500000.0</td>\n",
              "      <td>1900</td>\n",
              "    </tr>\n",
              "    <tr>\n",
              "      <th>4</th>\n",
              "      <td>B</td>\n",
              "      <td>1500000.0</td>\n",
              "      <td>2000</td>\n",
              "    </tr>\n",
              "  </tbody>\n",
              "</table>\n",
              "</div>"
            ],
            "text/plain": [
              "  province  population  year\n",
              "0        M   1500000.0  1900\n",
              "1        M   2000000.0  1950\n",
              "2        M   3000000.0  2000\n",
              "3        B    500000.0  1900\n",
              "4        B   1500000.0  2000"
            ]
          },
          "execution_count": 244,
          "metadata": {},
          "output_type": "execute_result"
        }
      ],
      "source": [
        "dfdata = {\n",
        "    'province' : ['M', 'M', 'M', 'B', 'B'],\n",
        "    'population': [1.5e6, 2e6, 3e6, 5e5, 1.5e6],\n",
        "    'year' : [1900, 1950, 2000, 1900, 2000]   \n",
        "}\n",
        "\n",
        "df = pd.DataFrame(dfdata)\n",
        "df"
      ]
    },
    {
      "cell_type": "code",
      "execution_count": null,
      "metadata": {
        "id": "afAPqssqqkBL",
        "outputId": "b6f121f7-1a29-414b-b597-aed496f4c5eb"
      },
      "outputs": [
        {
          "data": {
            "text/html": [
              "<div>\n",
              "<style scoped>\n",
              "    .dataframe tbody tr th:only-of-type {\n",
              "        vertical-align: middle;\n",
              "    }\n",
              "\n",
              "    .dataframe tbody tr th {\n",
              "        vertical-align: top;\n",
              "    }\n",
              "\n",
              "    .dataframe thead th {\n",
              "        text-align: right;\n",
              "    }\n",
              "</style>\n",
              "<table border=\"1\" class=\"dataframe\">\n",
              "  <thead>\n",
              "    <tr style=\"text-align: right;\">\n",
              "      <th></th>\n",
              "      <th>province</th>\n",
              "      <th>population</th>\n",
              "      <th>year</th>\n",
              "      <th>debt</th>\n",
              "    </tr>\n",
              "  </thead>\n",
              "  <tbody>\n",
              "    <tr>\n",
              "      <th>0</th>\n",
              "      <td>M</td>\n",
              "      <td>1500000.0</td>\n",
              "      <td>1900</td>\n",
              "      <td>NaN</td>\n",
              "    </tr>\n",
              "    <tr>\n",
              "      <th>1</th>\n",
              "      <td>M</td>\n",
              "      <td>2000000.0</td>\n",
              "      <td>1950</td>\n",
              "      <td>NaN</td>\n",
              "    </tr>\n",
              "    <tr>\n",
              "      <th>2</th>\n",
              "      <td>M</td>\n",
              "      <td>3000000.0</td>\n",
              "      <td>2000</td>\n",
              "      <td>NaN</td>\n",
              "    </tr>\n",
              "    <tr>\n",
              "      <th>3</th>\n",
              "      <td>B</td>\n",
              "      <td>500000.0</td>\n",
              "      <td>1900</td>\n",
              "      <td>NaN</td>\n",
              "    </tr>\n",
              "    <tr>\n",
              "      <th>4</th>\n",
              "      <td>B</td>\n",
              "      <td>1500000.0</td>\n",
              "      <td>2000</td>\n",
              "      <td>NaN</td>\n",
              "    </tr>\n",
              "  </tbody>\n",
              "</table>\n",
              "</div>"
            ],
            "text/plain": [
              "  province  population  year debt\n",
              "0        M   1500000.0  1900  NaN\n",
              "1        M   2000000.0  1950  NaN\n",
              "2        M   3000000.0  2000  NaN\n",
              "3        B    500000.0  1900  NaN\n",
              "4        B   1500000.0  2000  NaN"
            ]
          },
          "execution_count": 246,
          "metadata": {},
          "output_type": "execute_result"
        }
      ],
      "source": [
        "df2 = pd.DataFrame(dfdata, columns=['province','population', 'year', 'debt'])\n",
        "df2"
      ]
    },
    {
      "cell_type": "code",
      "execution_count": null,
      "metadata": {
        "id": "0rUmjs16qkBM",
        "outputId": "faa46cc8-48b6-4858-9e0a-87f28e1a1a42"
      },
      "outputs": [
        {
          "data": {
            "text/plain": [
              "RangeIndex(start=0, stop=5, step=1)"
            ]
          },
          "execution_count": 247,
          "metadata": {},
          "output_type": "execute_result"
        }
      ],
      "source": [
        "df2.index"
      ]
    },
    {
      "cell_type": "code",
      "execution_count": null,
      "metadata": {
        "id": "NBwOBLmfqkBM",
        "outputId": "bb3b7e97-46d9-4d75-db1f-ce2338deb666"
      },
      "outputs": [
        {
          "data": {
            "text/plain": [
              "Index(['province', 'population', 'year', 'debt'], dtype='object')"
            ]
          },
          "execution_count": 248,
          "metadata": {},
          "output_type": "execute_result"
        }
      ],
      "source": [
        "df2.columns"
      ]
    },
    {
      "cell_type": "code",
      "execution_count": null,
      "metadata": {
        "id": "VFPURGXbqkBM",
        "outputId": "daa3d9e0-97bb-4d81-8c3f-469da4cc202a"
      },
      "outputs": [
        {
          "data": {
            "text/html": [
              "<div>\n",
              "<style scoped>\n",
              "    .dataframe tbody tr th:only-of-type {\n",
              "        vertical-align: middle;\n",
              "    }\n",
              "\n",
              "    .dataframe tbody tr th {\n",
              "        vertical-align: top;\n",
              "    }\n",
              "\n",
              "    .dataframe thead th {\n",
              "        text-align: right;\n",
              "    }\n",
              "</style>\n",
              "<table border=\"1\" class=\"dataframe\">\n",
              "  <thead>\n",
              "    <tr style=\"text-align: right;\">\n",
              "      <th></th>\n",
              "      <th>population</th>\n",
              "      <th>province</th>\n",
              "    </tr>\n",
              "  </thead>\n",
              "  <tbody>\n",
              "    <tr>\n",
              "      <th>0</th>\n",
              "      <td>1500000.0</td>\n",
              "      <td>M</td>\n",
              "    </tr>\n",
              "    <tr>\n",
              "      <th>1</th>\n",
              "      <td>2000000.0</td>\n",
              "      <td>M</td>\n",
              "    </tr>\n",
              "    <tr>\n",
              "      <th>2</th>\n",
              "      <td>3000000.0</td>\n",
              "      <td>M</td>\n",
              "    </tr>\n",
              "    <tr>\n",
              "      <th>3</th>\n",
              "      <td>500000.0</td>\n",
              "      <td>B</td>\n",
              "    </tr>\n",
              "    <tr>\n",
              "      <th>4</th>\n",
              "      <td>1500000.0</td>\n",
              "      <td>B</td>\n",
              "    </tr>\n",
              "  </tbody>\n",
              "</table>\n",
              "</div>"
            ],
            "text/plain": [
              "   population province\n",
              "0   1500000.0        M\n",
              "1   2000000.0        M\n",
              "2   3000000.0        M\n",
              "3    500000.0        B\n",
              "4   1500000.0        B"
            ]
          },
          "execution_count": 251,
          "metadata": {},
          "output_type": "execute_result"
        }
      ],
      "source": [
        "df2[['population','province']]"
      ]
    },
    {
      "cell_type": "code",
      "execution_count": null,
      "metadata": {
        "id": "CP7QliBjqkBM",
        "outputId": "9362df49-55aa-4aef-fac6-a44fa2f50cac"
      },
      "outputs": [
        {
          "data": {
            "text/plain": [
              "0    1500000.0\n",
              "1    2000000.0\n",
              "2    3000000.0\n",
              "3     500000.0\n",
              "4    1500000.0\n",
              "Name: population, dtype: float64"
            ]
          },
          "execution_count": 252,
          "metadata": {},
          "output_type": "execute_result"
        }
      ],
      "source": [
        "df2.population"
      ]
    },
    {
      "cell_type": "code",
      "execution_count": null,
      "metadata": {
        "id": "e99G7GIgqkBN"
      },
      "outputs": [],
      "source": [
        "df2['2nd_language']=list('EEFFG')"
      ]
    },
    {
      "cell_type": "code",
      "execution_count": null,
      "metadata": {
        "id": "wQkNlus_qkBN"
      },
      "outputs": [],
      "source": [
        "df2['2nd_language'] = np.nan"
      ]
    },
    {
      "cell_type": "code",
      "execution_count": null,
      "metadata": {
        "id": "BQG2sg52qkBO"
      },
      "outputs": [],
      "source": [
        "df2.index = [list('EEFFG')]"
      ]
    },
    {
      "cell_type": "code",
      "execution_count": null,
      "metadata": {
        "id": "3LAHdcLiqkBO",
        "outputId": "746ac8bc-1344-4d1d-8e6e-81be74957aa6"
      },
      "outputs": [
        {
          "data": {
            "text/html": [
              "<div>\n",
              "<style scoped>\n",
              "    .dataframe tbody tr th:only-of-type {\n",
              "        vertical-align: middle;\n",
              "    }\n",
              "\n",
              "    .dataframe tbody tr th {\n",
              "        vertical-align: top;\n",
              "    }\n",
              "\n",
              "    .dataframe thead th {\n",
              "        text-align: right;\n",
              "    }\n",
              "</style>\n",
              "<table border=\"1\" class=\"dataframe\">\n",
              "  <thead>\n",
              "    <tr style=\"text-align: right;\">\n",
              "      <th></th>\n",
              "      <th>province</th>\n",
              "      <th>population</th>\n",
              "      <th>year</th>\n",
              "      <th>debt</th>\n",
              "      <th>2nd_language</th>\n",
              "    </tr>\n",
              "  </thead>\n",
              "  <tbody>\n",
              "    <tr>\n",
              "      <th>E</th>\n",
              "      <td>M</td>\n",
              "      <td>1500000.0</td>\n",
              "      <td>1900</td>\n",
              "      <td>NaN</td>\n",
              "      <td>NaN</td>\n",
              "    </tr>\n",
              "    <tr>\n",
              "      <th>E</th>\n",
              "      <td>M</td>\n",
              "      <td>2000000.0</td>\n",
              "      <td>1950</td>\n",
              "      <td>NaN</td>\n",
              "      <td>NaN</td>\n",
              "    </tr>\n",
              "    <tr>\n",
              "      <th>F</th>\n",
              "      <td>M</td>\n",
              "      <td>3000000.0</td>\n",
              "      <td>2000</td>\n",
              "      <td>NaN</td>\n",
              "      <td>NaN</td>\n",
              "    </tr>\n",
              "    <tr>\n",
              "      <th>F</th>\n",
              "      <td>B</td>\n",
              "      <td>500000.0</td>\n",
              "      <td>1900</td>\n",
              "      <td>NaN</td>\n",
              "      <td>NaN</td>\n",
              "    </tr>\n",
              "    <tr>\n",
              "      <th>G</th>\n",
              "      <td>B</td>\n",
              "      <td>1500000.0</td>\n",
              "      <td>2000</td>\n",
              "      <td>NaN</td>\n",
              "      <td>NaN</td>\n",
              "    </tr>\n",
              "  </tbody>\n",
              "</table>\n",
              "</div>"
            ],
            "text/plain": [
              "  province  population  year debt  2nd_language\n",
              "E        M   1500000.0  1900  NaN           NaN\n",
              "E        M   2000000.0  1950  NaN           NaN\n",
              "F        M   3000000.0  2000  NaN           NaN\n",
              "F        B    500000.0  1900  NaN           NaN\n",
              "G        B   1500000.0  2000  NaN           NaN"
            ]
          },
          "execution_count": 268,
          "metadata": {},
          "output_type": "execute_result"
        }
      ],
      "source": [
        "df2"
      ]
    },
    {
      "cell_type": "code",
      "execution_count": null,
      "metadata": {
        "id": "wXjSzZ5BqkBP"
      },
      "outputs": [],
      "source": [
        ""
      ]
    },
    {
      "cell_type": "code",
      "execution_count": null,
      "metadata": {
        "id": "7miWvAhOqkBP",
        "outputId": "c95b68a3-2744-423d-c668-7a98ad14c1e2"
      },
      "outputs": [
        {
          "data": {
            "text/plain": [
              "E   NaN\n",
              "E   NaN\n",
              "F   NaN\n",
              "F   NaN\n",
              "G   NaN\n",
              "Name: 2nd_language, dtype: float64"
            ]
          },
          "execution_count": 263,
          "metadata": {},
          "output_type": "execute_result"
        }
      ],
      "source": [
        "df2['2nd_language']"
      ]
    },
    {
      "cell_type": "code",
      "execution_count": null,
      "metadata": {
        "id": "yOpbGcoXqkBP",
        "outputId": "314f2c09-e329-4ee6-f667-fec45df2e85d"
      },
      "outputs": [
        {
          "ename": "SyntaxError",
          "evalue": "invalid syntax (<ipython-input-112-3f6d9ec47dae>, line 1)",
          "output_type": "error",
          "traceback": [
            "\u001b[0;36m  File \u001b[0;32m\"<ipython-input-112-3f6d9ec47dae>\"\u001b[0;36m, line \u001b[0;32m1\u001b[0m\n\u001b[0;31m    df2.2nd_language\u001b[0m\n\u001b[0m        ^\u001b[0m\n\u001b[0;31mSyntaxError\u001b[0m\u001b[0;31m:\u001b[0m invalid syntax\n"
          ]
        }
      ],
      "source": [
        "df2.2nd_language"
      ]
    },
    {
      "cell_type": "code",
      "execution_count": null,
      "metadata": {
        "collapsed": true,
        "id": "ERTNy3cfqkBQ"
      },
      "outputs": [],
      "source": [
        "# df2['abs']"
      ]
    },
    {
      "cell_type": "code",
      "execution_count": null,
      "metadata": {
        "id": "T71jcBOzqkBQ"
      },
      "outputs": [],
      "source": [
        "df2.index = list('abcde')"
      ]
    },
    {
      "cell_type": "code",
      "execution_count": null,
      "metadata": {
        "id": "QkhzMXuRqkBQ",
        "outputId": "c578ee14-ff45-4d8c-bddc-b3d8bcbb8e7b"
      },
      "outputs": [
        {
          "data": {
            "text/html": [
              "<div>\n",
              "<style scoped>\n",
              "    .dataframe tbody tr th:only-of-type {\n",
              "        vertical-align: middle;\n",
              "    }\n",
              "\n",
              "    .dataframe tbody tr th {\n",
              "        vertical-align: top;\n",
              "    }\n",
              "\n",
              "    .dataframe thead th {\n",
              "        text-align: right;\n",
              "    }\n",
              "</style>\n",
              "<table border=\"1\" class=\"dataframe\">\n",
              "  <thead>\n",
              "    <tr style=\"text-align: right;\">\n",
              "      <th></th>\n",
              "      <th>province</th>\n",
              "      <th>population</th>\n",
              "      <th>year</th>\n",
              "      <th>debt</th>\n",
              "      <th>2nd_language</th>\n",
              "    </tr>\n",
              "  </thead>\n",
              "  <tbody>\n",
              "    <tr>\n",
              "      <th>a</th>\n",
              "      <td>M</td>\n",
              "      <td>1500000.0</td>\n",
              "      <td>1900</td>\n",
              "      <td>NaN</td>\n",
              "      <td>NaN</td>\n",
              "    </tr>\n",
              "    <tr>\n",
              "      <th>b</th>\n",
              "      <td>M</td>\n",
              "      <td>2000000.0</td>\n",
              "      <td>1950</td>\n",
              "      <td>NaN</td>\n",
              "      <td>NaN</td>\n",
              "    </tr>\n",
              "    <tr>\n",
              "      <th>c</th>\n",
              "      <td>M</td>\n",
              "      <td>3000000.0</td>\n",
              "      <td>2000</td>\n",
              "      <td>NaN</td>\n",
              "      <td>NaN</td>\n",
              "    </tr>\n",
              "    <tr>\n",
              "      <th>d</th>\n",
              "      <td>B</td>\n",
              "      <td>500000.0</td>\n",
              "      <td>1900</td>\n",
              "      <td>NaN</td>\n",
              "      <td>NaN</td>\n",
              "    </tr>\n",
              "    <tr>\n",
              "      <th>e</th>\n",
              "      <td>B</td>\n",
              "      <td>1500000.0</td>\n",
              "      <td>2000</td>\n",
              "      <td>NaN</td>\n",
              "      <td>NaN</td>\n",
              "    </tr>\n",
              "  </tbody>\n",
              "</table>\n",
              "</div>"
            ],
            "text/plain": [
              "  province  population  year debt  2nd_language\n",
              "a        M   1500000.0  1900  NaN           NaN\n",
              "b        M   2000000.0  1950  NaN           NaN\n",
              "c        M   3000000.0  2000  NaN           NaN\n",
              "d        B    500000.0  1900  NaN           NaN\n",
              "e        B   1500000.0  2000  NaN           NaN"
            ]
          },
          "execution_count": 271,
          "metadata": {},
          "output_type": "execute_result"
        }
      ],
      "source": [
        "df2"
      ]
    },
    {
      "cell_type": "code",
      "execution_count": null,
      "metadata": {
        "id": "HysCeG_DqkBQ",
        "outputId": "9949addc-6c1a-4129-caad-ea52739970c6"
      },
      "outputs": [
        {
          "data": {
            "text/plain": [
              "province              M\n",
              "population      1.5e+06\n",
              "year               1900\n",
              "debt                NaN\n",
              "2nd_language        NaN\n",
              "Name: a, dtype: object"
            ]
          },
          "execution_count": 273,
          "metadata": {},
          "output_type": "execute_result"
        }
      ],
      "source": [
        "df2.loc['a']"
      ]
    },
    {
      "cell_type": "code",
      "execution_count": null,
      "metadata": {
        "id": "m3znVSuiqkBR",
        "outputId": "2f10e4dc-ed93-4c12-b1f0-527a97b57cc5"
      },
      "outputs": [
        {
          "data": {
            "text/html": [
              "<div>\n",
              "<style scoped>\n",
              "    .dataframe tbody tr th:only-of-type {\n",
              "        vertical-align: middle;\n",
              "    }\n",
              "\n",
              "    .dataframe tbody tr th {\n",
              "        vertical-align: top;\n",
              "    }\n",
              "\n",
              "    .dataframe thead th {\n",
              "        text-align: right;\n",
              "    }\n",
              "</style>\n",
              "<table border=\"1\" class=\"dataframe\">\n",
              "  <thead>\n",
              "    <tr style=\"text-align: right;\">\n",
              "      <th></th>\n",
              "      <th>province</th>\n",
              "      <th>population</th>\n",
              "      <th>year</th>\n",
              "      <th>debt</th>\n",
              "      <th>2nd_language</th>\n",
              "    </tr>\n",
              "  </thead>\n",
              "  <tbody>\n",
              "    <tr>\n",
              "      <th>a</th>\n",
              "      <td>M</td>\n",
              "      <td>1500000.0</td>\n",
              "      <td>1900</td>\n",
              "      <td>10</td>\n",
              "      <td>NaN</td>\n",
              "    </tr>\n",
              "    <tr>\n",
              "      <th>b</th>\n",
              "      <td>M</td>\n",
              "      <td>2000000.0</td>\n",
              "      <td>1950</td>\n",
              "      <td>10</td>\n",
              "      <td>NaN</td>\n",
              "    </tr>\n",
              "    <tr>\n",
              "      <th>c</th>\n",
              "      <td>M</td>\n",
              "      <td>3000000.0</td>\n",
              "      <td>2000</td>\n",
              "      <td>10</td>\n",
              "      <td>NaN</td>\n",
              "    </tr>\n",
              "    <tr>\n",
              "      <th>d</th>\n",
              "      <td>B</td>\n",
              "      <td>500000.0</td>\n",
              "      <td>1900</td>\n",
              "      <td>10</td>\n",
              "      <td>NaN</td>\n",
              "    </tr>\n",
              "    <tr>\n",
              "      <th>e</th>\n",
              "      <td>B</td>\n",
              "      <td>1500000.0</td>\n",
              "      <td>2000</td>\n",
              "      <td>10</td>\n",
              "      <td>NaN</td>\n",
              "    </tr>\n",
              "  </tbody>\n",
              "</table>\n",
              "</div>"
            ],
            "text/plain": [
              "  province  population  year  debt  2nd_language\n",
              "a        M   1500000.0  1900    10           NaN\n",
              "b        M   2000000.0  1950    10           NaN\n",
              "c        M   3000000.0  2000    10           NaN\n",
              "d        B    500000.0  1900    10           NaN\n",
              "e        B   1500000.0  2000    10           NaN"
            ]
          },
          "execution_count": 276,
          "metadata": {},
          "output_type": "execute_result"
        }
      ],
      "source": [
        "df2['debt'] = 10\n",
        "df2"
      ]
    },
    {
      "cell_type": "code",
      "execution_count": null,
      "metadata": {
        "id": "U0ju33KEqkBR",
        "outputId": "d252d8f2-5c22-406e-e23d-f673078d46a6"
      },
      "outputs": [
        {
          "data": {
            "text/html": [
              "<div>\n",
              "<style scoped>\n",
              "    .dataframe tbody tr th:only-of-type {\n",
              "        vertical-align: middle;\n",
              "    }\n",
              "\n",
              "    .dataframe tbody tr th {\n",
              "        vertical-align: top;\n",
              "    }\n",
              "\n",
              "    .dataframe thead th {\n",
              "        text-align: right;\n",
              "    }\n",
              "</style>\n",
              "<table border=\"1\" class=\"dataframe\">\n",
              "  <thead>\n",
              "    <tr style=\"text-align: right;\">\n",
              "      <th></th>\n",
              "      <th>province</th>\n",
              "      <th>population</th>\n",
              "      <th>year</th>\n",
              "      <th>debt</th>\n",
              "      <th>2nd_language</th>\n",
              "    </tr>\n",
              "  </thead>\n",
              "  <tbody>\n",
              "    <tr>\n",
              "      <th>a</th>\n",
              "      <td>M</td>\n",
              "      <td>1500000.0</td>\n",
              "      <td>1900</td>\n",
              "      <td>1.0</td>\n",
              "      <td>NaN</td>\n",
              "    </tr>\n",
              "    <tr>\n",
              "      <th>b</th>\n",
              "      <td>M</td>\n",
              "      <td>2000000.0</td>\n",
              "      <td>1950</td>\n",
              "      <td>0.0</td>\n",
              "      <td>NaN</td>\n",
              "    </tr>\n",
              "    <tr>\n",
              "      <th>c</th>\n",
              "      <td>M</td>\n",
              "      <td>3000000.0</td>\n",
              "      <td>2000</td>\n",
              "      <td>2.0</td>\n",
              "      <td>NaN</td>\n",
              "    </tr>\n",
              "    <tr>\n",
              "      <th>d</th>\n",
              "      <td>B</td>\n",
              "      <td>500000.0</td>\n",
              "      <td>1900</td>\n",
              "      <td>0.5</td>\n",
              "      <td>NaN</td>\n",
              "    </tr>\n",
              "    <tr>\n",
              "      <th>e</th>\n",
              "      <td>B</td>\n",
              "      <td>1500000.0</td>\n",
              "      <td>2000</td>\n",
              "      <td>0.7</td>\n",
              "      <td>NaN</td>\n",
              "    </tr>\n",
              "  </tbody>\n",
              "</table>\n",
              "</div>"
            ],
            "text/plain": [
              "  province  population  year  debt  2nd_language\n",
              "a        M   1500000.0  1900   1.0           NaN\n",
              "b        M   2000000.0  1950   0.0           NaN\n",
              "c        M   3000000.0  2000   2.0           NaN\n",
              "d        B    500000.0  1900   0.5           NaN\n",
              "e        B   1500000.0  2000   0.7           NaN"
            ]
          },
          "execution_count": 277,
          "metadata": {},
          "output_type": "execute_result"
        }
      ],
      "source": [
        "df2['debt'] = [1,0,2,.5,.7]\n",
        "df2"
      ]
    },
    {
      "cell_type": "code",
      "execution_count": null,
      "metadata": {
        "scrolled": true,
        "id": "LoPj_GUVqkBR",
        "outputId": "c1a06154-b432-4e5b-d084-70057513afcb"
      },
      "outputs": [
        {
          "data": {
            "text/html": [
              "<div>\n",
              "<style scoped>\n",
              "    .dataframe tbody tr th:only-of-type {\n",
              "        vertical-align: middle;\n",
              "    }\n",
              "\n",
              "    .dataframe tbody tr th {\n",
              "        vertical-align: top;\n",
              "    }\n",
              "\n",
              "    .dataframe thead th {\n",
              "        text-align: right;\n",
              "    }\n",
              "</style>\n",
              "<table border=\"1\" class=\"dataframe\">\n",
              "  <thead>\n",
              "    <tr style=\"text-align: right;\">\n",
              "      <th></th>\n",
              "      <th>province</th>\n",
              "      <th>population</th>\n",
              "      <th>year</th>\n",
              "      <th>debt</th>\n",
              "      <th>2nd_language</th>\n",
              "      <th>capital</th>\n",
              "    </tr>\n",
              "  </thead>\n",
              "  <tbody>\n",
              "    <tr>\n",
              "      <th>a</th>\n",
              "      <td>M</td>\n",
              "      <td>1500000.0</td>\n",
              "      <td>1900</td>\n",
              "      <td>1.0</td>\n",
              "      <td>NaN</td>\n",
              "      <td>True</td>\n",
              "    </tr>\n",
              "    <tr>\n",
              "      <th>b</th>\n",
              "      <td>M</td>\n",
              "      <td>2000000.0</td>\n",
              "      <td>1950</td>\n",
              "      <td>0.0</td>\n",
              "      <td>NaN</td>\n",
              "      <td>True</td>\n",
              "    </tr>\n",
              "    <tr>\n",
              "      <th>c</th>\n",
              "      <td>M</td>\n",
              "      <td>3000000.0</td>\n",
              "      <td>2000</td>\n",
              "      <td>2.0</td>\n",
              "      <td>NaN</td>\n",
              "      <td>True</td>\n",
              "    </tr>\n",
              "    <tr>\n",
              "      <th>d</th>\n",
              "      <td>B</td>\n",
              "      <td>500000.0</td>\n",
              "      <td>1900</td>\n",
              "      <td>0.5</td>\n",
              "      <td>NaN</td>\n",
              "      <td>False</td>\n",
              "    </tr>\n",
              "    <tr>\n",
              "      <th>e</th>\n",
              "      <td>B</td>\n",
              "      <td>1500000.0</td>\n",
              "      <td>2000</td>\n",
              "      <td>0.7</td>\n",
              "      <td>NaN</td>\n",
              "      <td>False</td>\n",
              "    </tr>\n",
              "  </tbody>\n",
              "</table>\n",
              "</div>"
            ],
            "text/plain": [
              "  province  population  year  debt  2nd_language  capital\n",
              "a        M   1500000.0  1900   1.0           NaN     True\n",
              "b        M   2000000.0  1950   0.0           NaN     True\n",
              "c        M   3000000.0  2000   2.0           NaN     True\n",
              "d        B    500000.0  1900   0.5           NaN    False\n",
              "e        B   1500000.0  2000   0.7           NaN    False"
            ]
          },
          "execution_count": 278,
          "metadata": {},
          "output_type": "execute_result"
        }
      ],
      "source": [
        "df2['capital'] = df2['province'] == 'M'\n",
        "df2"
      ]
    },
    {
      "cell_type": "code",
      "execution_count": null,
      "metadata": {
        "scrolled": true,
        "id": "lf_VWCF_qkBS",
        "outputId": "4ebb7cf2-e443-420b-821d-45c418f77c98"
      },
      "outputs": [
        {
          "data": {
            "text/html": [
              "<div>\n",
              "<style scoped>\n",
              "    .dataframe tbody tr th:only-of-type {\n",
              "        vertical-align: middle;\n",
              "    }\n",
              "\n",
              "    .dataframe tbody tr th {\n",
              "        vertical-align: top;\n",
              "    }\n",
              "\n",
              "    .dataframe thead th {\n",
              "        text-align: right;\n",
              "    }\n",
              "</style>\n",
              "<table border=\"1\" class=\"dataframe\">\n",
              "  <thead>\n",
              "    <tr style=\"text-align: right;\">\n",
              "      <th></th>\n",
              "      <th>a</th>\n",
              "      <th>b</th>\n",
              "      <th>c</th>\n",
              "      <th>d</th>\n",
              "      <th>e</th>\n",
              "    </tr>\n",
              "  </thead>\n",
              "  <tbody>\n",
              "    <tr>\n",
              "      <th>province</th>\n",
              "      <td>M</td>\n",
              "      <td>M</td>\n",
              "      <td>M</td>\n",
              "      <td>B</td>\n",
              "      <td>B</td>\n",
              "    </tr>\n",
              "    <tr>\n",
              "      <th>population</th>\n",
              "      <td>1.5e+06</td>\n",
              "      <td>2e+06</td>\n",
              "      <td>3e+06</td>\n",
              "      <td>500000</td>\n",
              "      <td>1.5e+06</td>\n",
              "    </tr>\n",
              "    <tr>\n",
              "      <th>year</th>\n",
              "      <td>1900</td>\n",
              "      <td>1950</td>\n",
              "      <td>2000</td>\n",
              "      <td>1900</td>\n",
              "      <td>2000</td>\n",
              "    </tr>\n",
              "    <tr>\n",
              "      <th>debt</th>\n",
              "      <td>1</td>\n",
              "      <td>0</td>\n",
              "      <td>2</td>\n",
              "      <td>0.5</td>\n",
              "      <td>0.7</td>\n",
              "    </tr>\n",
              "    <tr>\n",
              "      <th>2nd_language</th>\n",
              "      <td>NaN</td>\n",
              "      <td>NaN</td>\n",
              "      <td>NaN</td>\n",
              "      <td>NaN</td>\n",
              "      <td>NaN</td>\n",
              "    </tr>\n",
              "    <tr>\n",
              "      <th>capital</th>\n",
              "      <td>True</td>\n",
              "      <td>True</td>\n",
              "      <td>True</td>\n",
              "      <td>False</td>\n",
              "      <td>False</td>\n",
              "    </tr>\n",
              "  </tbody>\n",
              "</table>\n",
              "</div>"
            ],
            "text/plain": [
              "                    a      b      c       d        e\n",
              "province            M      M      M       B        B\n",
              "population    1.5e+06  2e+06  3e+06  500000  1.5e+06\n",
              "year             1900   1950   2000    1900     2000\n",
              "debt                1      0      2     0.5      0.7\n",
              "2nd_language      NaN    NaN    NaN     NaN      NaN\n",
              "capital          True   True   True   False    False"
            ]
          },
          "execution_count": 279,
          "metadata": {},
          "output_type": "execute_result"
        }
      ],
      "source": [
        "df2.T"
      ]
    },
    {
      "cell_type": "code",
      "execution_count": null,
      "metadata": {
        "id": "lg5Fa4ccqkBS",
        "outputId": "7f67c9ae-bc51-40d6-80bf-55010799f98e"
      },
      "outputs": [
        {
          "data": {
            "text/html": [
              "<div>\n",
              "<style scoped>\n",
              "    .dataframe tbody tr th:only-of-type {\n",
              "        vertical-align: middle;\n",
              "    }\n",
              "\n",
              "    .dataframe tbody tr th {\n",
              "        vertical-align: top;\n",
              "    }\n",
              "\n",
              "    .dataframe thead th {\n",
              "        text-align: right;\n",
              "    }\n",
              "</style>\n",
              "<table border=\"1\" class=\"dataframe\">\n",
              "  <thead>\n",
              "    <tr style=\"text-align: right;\">\n",
              "      <th></th>\n",
              "      <th>province</th>\n",
              "      <th>population</th>\n",
              "      <th>year</th>\n",
              "      <th>debt</th>\n",
              "      <th>2nd_language</th>\n",
              "      <th>capital</th>\n",
              "    </tr>\n",
              "  </thead>\n",
              "  <tbody>\n",
              "    <tr>\n",
              "      <th>a</th>\n",
              "      <td>M</td>\n",
              "      <td>1500000.0</td>\n",
              "      <td>1900</td>\n",
              "      <td>1.0</td>\n",
              "      <td>NaN</td>\n",
              "      <td>True</td>\n",
              "    </tr>\n",
              "    <tr>\n",
              "      <th>b</th>\n",
              "      <td>M</td>\n",
              "      <td>2000000.0</td>\n",
              "      <td>1950</td>\n",
              "      <td>0.0</td>\n",
              "      <td>NaN</td>\n",
              "      <td>True</td>\n",
              "    </tr>\n",
              "    <tr>\n",
              "      <th>c</th>\n",
              "      <td>M</td>\n",
              "      <td>3000000.0</td>\n",
              "      <td>2000</td>\n",
              "      <td>2.0</td>\n",
              "      <td>NaN</td>\n",
              "      <td>True</td>\n",
              "    </tr>\n",
              "    <tr>\n",
              "      <th>d</th>\n",
              "      <td>B</td>\n",
              "      <td>500000.0</td>\n",
              "      <td>1900</td>\n",
              "      <td>0.5</td>\n",
              "      <td>NaN</td>\n",
              "      <td>False</td>\n",
              "    </tr>\n",
              "    <tr>\n",
              "      <th>e</th>\n",
              "      <td>B</td>\n",
              "      <td>1500000.0</td>\n",
              "      <td>2000</td>\n",
              "      <td>0.7</td>\n",
              "      <td>NaN</td>\n",
              "      <td>False</td>\n",
              "    </tr>\n",
              "  </tbody>\n",
              "</table>\n",
              "</div>"
            ],
            "text/plain": [
              "  province  population  year  debt  2nd_language  capital\n",
              "a        M   1500000.0  1900   1.0           NaN     True\n",
              "b        M   2000000.0  1950   0.0           NaN     True\n",
              "c        M   3000000.0  2000   2.0           NaN     True\n",
              "d        B    500000.0  1900   0.5           NaN    False\n",
              "e        B   1500000.0  2000   0.7           NaN    False"
            ]
          },
          "execution_count": 281,
          "metadata": {},
          "output_type": "execute_result"
        }
      ],
      "source": [
        "df2"
      ]
    },
    {
      "cell_type": "code",
      "execution_count": null,
      "metadata": {
        "id": "oPsU57eVqkBS",
        "outputId": "08ff2cc3-9089-4581-bb34-96e25312afb1"
      },
      "outputs": [
        {
          "data": {
            "text/html": [
              "<div>\n",
              "<style scoped>\n",
              "    .dataframe tbody tr th:only-of-type {\n",
              "        vertical-align: middle;\n",
              "    }\n",
              "\n",
              "    .dataframe tbody tr th {\n",
              "        vertical-align: top;\n",
              "    }\n",
              "\n",
              "    .dataframe thead th {\n",
              "        text-align: right;\n",
              "    }\n",
              "</style>\n",
              "<table border=\"1\" class=\"dataframe\">\n",
              "  <thead>\n",
              "    <tr style=\"text-align: right;\">\n",
              "      <th></th>\n",
              "      <th>population</th>\n",
              "      <th>year</th>\n",
              "      <th>debt</th>\n",
              "      <th>2nd_language</th>\n",
              "    </tr>\n",
              "  </thead>\n",
              "  <tbody>\n",
              "    <tr>\n",
              "      <th>count</th>\n",
              "      <td>5.000000e+00</td>\n",
              "      <td>5.0</td>\n",
              "      <td>5.00000</td>\n",
              "      <td>0.0</td>\n",
              "    </tr>\n",
              "    <tr>\n",
              "      <th>mean</th>\n",
              "      <td>1.700000e+06</td>\n",
              "      <td>1950.0</td>\n",
              "      <td>0.84000</td>\n",
              "      <td>NaN</td>\n",
              "    </tr>\n",
              "    <tr>\n",
              "      <th>std</th>\n",
              "      <td>9.082951e+05</td>\n",
              "      <td>50.0</td>\n",
              "      <td>0.74364</td>\n",
              "      <td>NaN</td>\n",
              "    </tr>\n",
              "    <tr>\n",
              "      <th>min</th>\n",
              "      <td>5.000000e+05</td>\n",
              "      <td>1900.0</td>\n",
              "      <td>0.00000</td>\n",
              "      <td>NaN</td>\n",
              "    </tr>\n",
              "    <tr>\n",
              "      <th>25%</th>\n",
              "      <td>1.500000e+06</td>\n",
              "      <td>1900.0</td>\n",
              "      <td>0.50000</td>\n",
              "      <td>NaN</td>\n",
              "    </tr>\n",
              "    <tr>\n",
              "      <th>50%</th>\n",
              "      <td>1.500000e+06</td>\n",
              "      <td>1950.0</td>\n",
              "      <td>0.70000</td>\n",
              "      <td>NaN</td>\n",
              "    </tr>\n",
              "    <tr>\n",
              "      <th>75%</th>\n",
              "      <td>2.000000e+06</td>\n",
              "      <td>2000.0</td>\n",
              "      <td>1.00000</td>\n",
              "      <td>NaN</td>\n",
              "    </tr>\n",
              "    <tr>\n",
              "      <th>max</th>\n",
              "      <td>3.000000e+06</td>\n",
              "      <td>2000.0</td>\n",
              "      <td>2.00000</td>\n",
              "      <td>NaN</td>\n",
              "    </tr>\n",
              "  </tbody>\n",
              "</table>\n",
              "</div>"
            ],
            "text/plain": [
              "         population    year     debt  2nd_language\n",
              "count  5.000000e+00     5.0  5.00000           0.0\n",
              "mean   1.700000e+06  1950.0  0.84000           NaN\n",
              "std    9.082951e+05    50.0  0.74364           NaN\n",
              "min    5.000000e+05  1900.0  0.00000           NaN\n",
              "25%    1.500000e+06  1900.0  0.50000           NaN\n",
              "50%    1.500000e+06  1950.0  0.70000           NaN\n",
              "75%    2.000000e+06  2000.0  1.00000           NaN\n",
              "max    3.000000e+06  2000.0  2.00000           NaN"
            ]
          },
          "execution_count": 280,
          "metadata": {},
          "output_type": "execute_result"
        }
      ],
      "source": [
        "df2.describe()"
      ]
    },
    {
      "cell_type": "code",
      "execution_count": null,
      "metadata": {
        "id": "GbyEAptlqkBS",
        "outputId": "2731059d-74ff-4273-fef7-fa27611da694"
      },
      "outputs": [
        {
          "data": {
            "text/html": [
              "<div>\n",
              "<style scoped>\n",
              "    .dataframe tbody tr th:only-of-type {\n",
              "        vertical-align: middle;\n",
              "    }\n",
              "\n",
              "    .dataframe tbody tr th {\n",
              "        vertical-align: top;\n",
              "    }\n",
              "\n",
              "    .dataframe thead th {\n",
              "        text-align: right;\n",
              "    }\n",
              "</style>\n",
              "<table border=\"1\" class=\"dataframe\">\n",
              "  <thead>\n",
              "    <tr style=\"text-align: right;\">\n",
              "      <th></th>\n",
              "      <th>count</th>\n",
              "      <th>mean</th>\n",
              "      <th>std</th>\n",
              "      <th>min</th>\n",
              "      <th>25%</th>\n",
              "      <th>50%</th>\n",
              "      <th>75%</th>\n",
              "      <th>max</th>\n",
              "    </tr>\n",
              "  </thead>\n",
              "  <tbody>\n",
              "    <tr>\n",
              "      <th>population</th>\n",
              "      <td>5.0</td>\n",
              "      <td>1700000.00</td>\n",
              "      <td>908295.106229</td>\n",
              "      <td>500000.0</td>\n",
              "      <td>1500000.0</td>\n",
              "      <td>1500000.0</td>\n",
              "      <td>2000000.0</td>\n",
              "      <td>3000000.0</td>\n",
              "    </tr>\n",
              "    <tr>\n",
              "      <th>year</th>\n",
              "      <td>5.0</td>\n",
              "      <td>1950.00</td>\n",
              "      <td>50.000000</td>\n",
              "      <td>1900.0</td>\n",
              "      <td>1900.0</td>\n",
              "      <td>1950.0</td>\n",
              "      <td>2000.0</td>\n",
              "      <td>2000.0</td>\n",
              "    </tr>\n",
              "    <tr>\n",
              "      <th>debt</th>\n",
              "      <td>5.0</td>\n",
              "      <td>0.84</td>\n",
              "      <td>0.743640</td>\n",
              "      <td>0.0</td>\n",
              "      <td>0.5</td>\n",
              "      <td>0.7</td>\n",
              "      <td>1.0</td>\n",
              "      <td>2.0</td>\n",
              "    </tr>\n",
              "    <tr>\n",
              "      <th>2nd_language</th>\n",
              "      <td>0.0</td>\n",
              "      <td>NaN</td>\n",
              "      <td>NaN</td>\n",
              "      <td>NaN</td>\n",
              "      <td>NaN</td>\n",
              "      <td>NaN</td>\n",
              "      <td>NaN</td>\n",
              "      <td>NaN</td>\n",
              "    </tr>\n",
              "  </tbody>\n",
              "</table>\n",
              "</div>"
            ],
            "text/plain": [
              "              count        mean            std       min        25%  \\\n",
              "population      5.0  1700000.00  908295.106229  500000.0  1500000.0   \n",
              "year            5.0     1950.00      50.000000    1900.0     1900.0   \n",
              "debt            5.0        0.84       0.743640       0.0        0.5   \n",
              "2nd_language    0.0         NaN            NaN       NaN        NaN   \n",
              "\n",
              "                    50%        75%        max  \n",
              "population    1500000.0  2000000.0  3000000.0  \n",
              "year             1950.0     2000.0     2000.0  \n",
              "debt                0.7        1.0        2.0  \n",
              "2nd_language        NaN        NaN        NaN  "
            ]
          },
          "execution_count": 282,
          "metadata": {},
          "output_type": "execute_result"
        }
      ],
      "source": [
        "df2.describe().T"
      ]
    },
    {
      "cell_type": "markdown",
      "metadata": {
        "id": "Y6lM5SmlqkBS"
      },
      "source": [
        "### Index objects\n",
        "\n",
        "Indexes are immutable."
      ]
    },
    {
      "cell_type": "code",
      "execution_count": null,
      "metadata": {
        "id": "w8BUNS_lqkBS",
        "outputId": "e8390ba5-0fb4-4de0-82a3-a5bb3f43d352"
      },
      "outputs": [
        {
          "ename": "TypeError",
          "evalue": "Index does not support mutable operations",
          "output_type": "error",
          "traceback": [
            "\u001b[0;31m---------------------------------------------------------------------------\u001b[0m",
            "\u001b[0;31mTypeError\u001b[0m                                 Traceback (most recent call last)",
            "\u001b[0;32m<ipython-input-283-32edd7626686>\u001b[0m in \u001b[0;36m<module>\u001b[0;34m\u001b[0m\n\u001b[0;32m----> 1\u001b[0;31m \u001b[0mdf2\u001b[0m\u001b[0;34m.\u001b[0m\u001b[0mindex\u001b[0m\u001b[0;34m[\u001b[0m\u001b[0;36m1\u001b[0m\u001b[0;34m]\u001b[0m \u001b[0;34m=\u001b[0m \u001b[0;34m'x'\u001b[0m\u001b[0;34m\u001b[0m\u001b[0;34m\u001b[0m\u001b[0m\n\u001b[0m",
            "\u001b[0;32m~/anaconda3/lib/python3.6/site-packages/pandas/core/indexes/base.py\u001b[0m in \u001b[0;36m__setitem__\u001b[0;34m(self, key, value)\u001b[0m\n\u001b[1;32m   3936\u001b[0m \u001b[0;34m\u001b[0m\u001b[0m\n\u001b[1;32m   3937\u001b[0m     \u001b[0;32mdef\u001b[0m \u001b[0m__setitem__\u001b[0m\u001b[0;34m(\u001b[0m\u001b[0mself\u001b[0m\u001b[0;34m,\u001b[0m \u001b[0mkey\u001b[0m\u001b[0;34m,\u001b[0m \u001b[0mvalue\u001b[0m\u001b[0;34m)\u001b[0m\u001b[0;34m:\u001b[0m\u001b[0;34m\u001b[0m\u001b[0;34m\u001b[0m\u001b[0m\n\u001b[0;32m-> 3938\u001b[0;31m         \u001b[0;32mraise\u001b[0m \u001b[0mTypeError\u001b[0m\u001b[0;34m(\u001b[0m\u001b[0;34m\"Index does not support mutable operations\"\u001b[0m\u001b[0;34m)\u001b[0m\u001b[0;34m\u001b[0m\u001b[0;34m\u001b[0m\u001b[0m\n\u001b[0m\u001b[1;32m   3939\u001b[0m \u001b[0;34m\u001b[0m\u001b[0m\n\u001b[1;32m   3940\u001b[0m     \u001b[0;32mdef\u001b[0m \u001b[0m__getitem__\u001b[0m\u001b[0;34m(\u001b[0m\u001b[0mself\u001b[0m\u001b[0;34m,\u001b[0m \u001b[0mkey\u001b[0m\u001b[0;34m)\u001b[0m\u001b[0;34m:\u001b[0m\u001b[0;34m\u001b[0m\u001b[0;34m\u001b[0m\u001b[0m\n",
            "\u001b[0;31mTypeError\u001b[0m: Index does not support mutable operations"
          ]
        }
      ],
      "source": [
        "df2.index[1] = 'x'"
      ]
    },
    {
      "cell_type": "code",
      "execution_count": null,
      "metadata": {
        "id": "h10u3HYYqkBS",
        "outputId": "c16615a6-cdf3-45ff-abef-42c04b4d8738"
      },
      "outputs": [
        {
          "data": {
            "text/plain": [
              "'b'"
            ]
          },
          "execution_count": 284,
          "metadata": {},
          "output_type": "execute_result"
        }
      ],
      "source": [
        "df2.index[1]"
      ]
    },
    {
      "cell_type": "code",
      "execution_count": null,
      "metadata": {
        "id": "S74b0UqEqkBU",
        "outputId": "dd598613-187a-47d1-d053-2b6edaf28297"
      },
      "outputs": [
        {
          "data": {
            "text/html": [
              "<div>\n",
              "<style scoped>\n",
              "    .dataframe tbody tr th:only-of-type {\n",
              "        vertical-align: middle;\n",
              "    }\n",
              "\n",
              "    .dataframe tbody tr th {\n",
              "        vertical-align: top;\n",
              "    }\n",
              "\n",
              "    .dataframe thead th {\n",
              "        text-align: right;\n",
              "    }\n",
              "</style>\n",
              "<table border=\"1\" class=\"dataframe\">\n",
              "  <thead>\n",
              "    <tr style=\"text-align: right;\">\n",
              "      <th></th>\n",
              "      <th>province</th>\n",
              "      <th>population</th>\n",
              "      <th>year</th>\n",
              "      <th>debt</th>\n",
              "      <th>2nd_language</th>\n",
              "      <th>capital</th>\n",
              "    </tr>\n",
              "  </thead>\n",
              "  <tbody>\n",
              "    <tr>\n",
              "      <th>c</th>\n",
              "      <td>M</td>\n",
              "      <td>3000000.0</td>\n",
              "      <td>2000</td>\n",
              "      <td>2.0</td>\n",
              "      <td>NaN</td>\n",
              "      <td>True</td>\n",
              "    </tr>\n",
              "    <tr>\n",
              "      <th>d</th>\n",
              "      <td>B</td>\n",
              "      <td>500000.0</td>\n",
              "      <td>1900</td>\n",
              "      <td>0.5</td>\n",
              "      <td>NaN</td>\n",
              "      <td>False</td>\n",
              "    </tr>\n",
              "    <tr>\n",
              "      <th>e</th>\n",
              "      <td>B</td>\n",
              "      <td>1500000.0</td>\n",
              "      <td>2000</td>\n",
              "      <td>0.7</td>\n",
              "      <td>NaN</td>\n",
              "      <td>False</td>\n",
              "    </tr>\n",
              "  </tbody>\n",
              "</table>\n",
              "</div>"
            ],
            "text/plain": [
              "  province  population  year  debt  2nd_language  capital\n",
              "c        M   3000000.0  2000   2.0           NaN     True\n",
              "d        B    500000.0  1900   0.5           NaN    False\n",
              "e        B   1500000.0  2000   0.7           NaN    False"
            ]
          },
          "execution_count": 285,
          "metadata": {},
          "output_type": "execute_result"
        }
      ],
      "source": [
        "df2.iloc[2:]"
      ]
    },
    {
      "cell_type": "code",
      "execution_count": null,
      "metadata": {
        "id": "cw5vsUELqkBU"
      },
      "outputs": [],
      "source": [
        ""
      ]
    },
    {
      "cell_type": "markdown",
      "metadata": {
        "id": "CqLp1DZOqkBU"
      },
      "source": [
        "### Dropping entries from an axis"
      ]
    },
    {
      "cell_type": "code",
      "execution_count": null,
      "metadata": {
        "id": "qPCyvHjFqkBU",
        "outputId": "9fb3e9a8-b574-4038-d8f8-05bd2c9831cb"
      },
      "outputs": [
        {
          "data": {
            "text/plain": [
              "j    0\n",
              "d    1\n",
              "u    2\n",
              "v    3\n",
              "k    4\n",
              "dtype: int64"
            ]
          },
          "execution_count": 293,
          "metadata": {},
          "output_type": "execute_result"
        }
      ],
      "source": [
        "s5 = pd.Series(np.arange(5), list('jduvk'))\n",
        "s5"
      ]
    },
    {
      "cell_type": "code",
      "execution_count": null,
      "metadata": {
        "id": "wUBl808QqkBV",
        "outputId": "ff15edf2-199b-4101-b496-290948f7b8fa"
      },
      "outputs": [
        {
          "data": {
            "text/plain": [
              "j    0\n",
              "u    2\n",
              "v    3\n",
              "dtype: int64"
            ]
          },
          "execution_count": 287,
          "metadata": {},
          "output_type": "execute_result"
        }
      ],
      "source": [
        "s6 = s5.drop(['d','k'])\n",
        "s6"
      ]
    },
    {
      "cell_type": "code",
      "execution_count": null,
      "metadata": {
        "id": "MtPM6O9yqkBV",
        "outputId": "bf459027-6c7b-4443-bc48-dfbbfb48cd98"
      },
      "outputs": [
        {
          "data": {
            "text/plain": [
              "j    0\n",
              "d    1\n",
              "u    2\n",
              "v    3\n",
              "k    4\n",
              "dtype: int64"
            ]
          },
          "execution_count": 288,
          "metadata": {},
          "output_type": "execute_result"
        }
      ],
      "source": [
        "s5"
      ]
    },
    {
      "cell_type": "code",
      "execution_count": null,
      "metadata": {
        "id": "PcKWSuPZqkBV",
        "outputId": "3fc5d9b0-0b40-4f80-fec6-058aed0f1b3b"
      },
      "outputs": [
        {
          "data": {
            "text/plain": [
              "j    0\n",
              "u    2\n",
              "v    3\n",
              "dtype: int64"
            ]
          },
          "execution_count": 294,
          "metadata": {},
          "output_type": "execute_result"
        }
      ],
      "source": [
        "s5.drop(['d','k'],inplace=False)"
      ]
    },
    {
      "cell_type": "code",
      "execution_count": null,
      "metadata": {
        "id": "WTcvQmNxqkBV",
        "outputId": "d7b401dd-8857-4445-89a7-ed6f684dddb1"
      },
      "outputs": [
        {
          "data": {
            "text/plain": [
              "j    0\n",
              "d    1\n",
              "u    2\n",
              "v    3\n",
              "k    4\n",
              "dtype: int64"
            ]
          },
          "execution_count": 295,
          "metadata": {},
          "output_type": "execute_result"
        }
      ],
      "source": [
        "s5"
      ]
    },
    {
      "cell_type": "markdown",
      "metadata": {
        "id": "CIod2mZPqkBV"
      },
      "source": [
        "By default, `drop()` doesn't modify the original Series- it creates a copy. We can change that with the argument `inplace`."
      ]
    },
    {
      "cell_type": "code",
      "execution_count": null,
      "metadata": {
        "id": "eSSo_VMjqkBV",
        "outputId": "24af2d76-be3d-4472-8180-255089523d01"
      },
      "outputs": [
        {
          "data": {
            "text/plain": [
              "j    0\n",
              "d    1\n",
              "u    2\n",
              "v    3\n",
              "k    4\n",
              "dtype: int64"
            ]
          },
          "execution_count": 296,
          "metadata": {},
          "output_type": "execute_result"
        }
      ],
      "source": [
        "s5"
      ]
    },
    {
      "cell_type": "code",
      "execution_count": null,
      "metadata": {
        "id": "sWdkJ74hqkBW",
        "outputId": "fd7e8e55-21f9-41e8-bf6b-4b1aed511509"
      },
      "outputs": [
        {
          "data": {
            "text/plain": [
              "j    0\n",
              "d    1\n",
              "u    2\n",
              "v    3\n",
              "k    4\n",
              "dtype: int64"
            ]
          },
          "execution_count": 297,
          "metadata": {},
          "output_type": "execute_result"
        }
      ],
      "source": [
        "s6['u'] = 7\n",
        "s5"
      ]
    },
    {
      "cell_type": "code",
      "execution_count": null,
      "metadata": {
        "id": "dRby7wJhqkBX",
        "outputId": "f8b6274b-8942-4a11-e87a-c85351e98814"
      },
      "outputs": [
        {
          "data": {
            "text/html": [
              "<div>\n",
              "<style scoped>\n",
              "    .dataframe tbody tr th:only-of-type {\n",
              "        vertical-align: middle;\n",
              "    }\n",
              "\n",
              "    .dataframe tbody tr th {\n",
              "        vertical-align: top;\n",
              "    }\n",
              "\n",
              "    .dataframe thead th {\n",
              "        text-align: right;\n",
              "    }\n",
              "</style>\n",
              "<table border=\"1\" class=\"dataframe\">\n",
              "  <thead>\n",
              "    <tr style=\"text-align: right;\">\n",
              "      <th></th>\n",
              "      <th>province</th>\n",
              "      <th>population</th>\n",
              "      <th>year</th>\n",
              "      <th>debt</th>\n",
              "      <th>2nd_language</th>\n",
              "      <th>capital</th>\n",
              "    </tr>\n",
              "  </thead>\n",
              "  <tbody>\n",
              "    <tr>\n",
              "      <th>a</th>\n",
              "      <td>M</td>\n",
              "      <td>1500000.0</td>\n",
              "      <td>1900</td>\n",
              "      <td>1.0</td>\n",
              "      <td>NaN</td>\n",
              "      <td>True</td>\n",
              "    </tr>\n",
              "    <tr>\n",
              "      <th>b</th>\n",
              "      <td>M</td>\n",
              "      <td>2000000.0</td>\n",
              "      <td>1950</td>\n",
              "      <td>0.0</td>\n",
              "      <td>NaN</td>\n",
              "      <td>True</td>\n",
              "    </tr>\n",
              "    <tr>\n",
              "      <th>c</th>\n",
              "      <td>M</td>\n",
              "      <td>3000000.0</td>\n",
              "      <td>2000</td>\n",
              "      <td>2.0</td>\n",
              "      <td>NaN</td>\n",
              "      <td>True</td>\n",
              "    </tr>\n",
              "    <tr>\n",
              "      <th>d</th>\n",
              "      <td>B</td>\n",
              "      <td>500000.0</td>\n",
              "      <td>1900</td>\n",
              "      <td>0.5</td>\n",
              "      <td>NaN</td>\n",
              "      <td>False</td>\n",
              "    </tr>\n",
              "    <tr>\n",
              "      <th>e</th>\n",
              "      <td>B</td>\n",
              "      <td>1500000.0</td>\n",
              "      <td>2000</td>\n",
              "      <td>0.7</td>\n",
              "      <td>NaN</td>\n",
              "      <td>False</td>\n",
              "    </tr>\n",
              "  </tbody>\n",
              "</table>\n",
              "</div>"
            ],
            "text/plain": [
              "  province  population  year  debt  2nd_language  capital\n",
              "a        M   1500000.0  1900   1.0           NaN     True\n",
              "b        M   2000000.0  1950   0.0           NaN     True\n",
              "c        M   3000000.0  2000   2.0           NaN     True\n",
              "d        B    500000.0  1900   0.5           NaN    False\n",
              "e        B   1500000.0  2000   0.7           NaN    False"
            ]
          },
          "execution_count": 298,
          "metadata": {},
          "output_type": "execute_result"
        }
      ],
      "source": [
        "df2"
      ]
    },
    {
      "cell_type": "code",
      "execution_count": null,
      "metadata": {
        "id": "UOtvoPPgqkBX",
        "outputId": "5b2fc0ab-f57e-4d31-a75d-976a8c284cf4"
      },
      "outputs": [
        {
          "data": {
            "text/html": [
              "<div>\n",
              "<style scoped>\n",
              "    .dataframe tbody tr th:only-of-type {\n",
              "        vertical-align: middle;\n",
              "    }\n",
              "\n",
              "    .dataframe tbody tr th {\n",
              "        vertical-align: top;\n",
              "    }\n",
              "\n",
              "    .dataframe thead th {\n",
              "        text-align: right;\n",
              "    }\n",
              "</style>\n",
              "<table border=\"1\" class=\"dataframe\">\n",
              "  <thead>\n",
              "    <tr style=\"text-align: right;\">\n",
              "      <th></th>\n",
              "      <th>province</th>\n",
              "      <th>population</th>\n",
              "      <th>year</th>\n",
              "      <th>debt</th>\n",
              "      <th>2nd_language</th>\n",
              "      <th>capital</th>\n",
              "    </tr>\n",
              "  </thead>\n",
              "  <tbody>\n",
              "    <tr>\n",
              "      <th>a</th>\n",
              "      <td>M</td>\n",
              "      <td>1500000.0</td>\n",
              "      <td>1900</td>\n",
              "      <td>1.0</td>\n",
              "      <td>NaN</td>\n",
              "      <td>True</td>\n",
              "    </tr>\n",
              "    <tr>\n",
              "      <th>b</th>\n",
              "      <td>M</td>\n",
              "      <td>2000000.0</td>\n",
              "      <td>1950</td>\n",
              "      <td>0.0</td>\n",
              "      <td>NaN</td>\n",
              "      <td>True</td>\n",
              "    </tr>\n",
              "    <tr>\n",
              "      <th>d</th>\n",
              "      <td>B</td>\n",
              "      <td>500000.0</td>\n",
              "      <td>1900</td>\n",
              "      <td>0.5</td>\n",
              "      <td>NaN</td>\n",
              "      <td>False</td>\n",
              "    </tr>\n",
              "    <tr>\n",
              "      <th>e</th>\n",
              "      <td>B</td>\n",
              "      <td>1500000.0</td>\n",
              "      <td>2000</td>\n",
              "      <td>0.7</td>\n",
              "      <td>NaN</td>\n",
              "      <td>False</td>\n",
              "    </tr>\n",
              "  </tbody>\n",
              "</table>\n",
              "</div>"
            ],
            "text/plain": [
              "  province  population  year  debt  2nd_language  capital\n",
              "a        M   1500000.0  1900   1.0           NaN     True\n",
              "b        M   2000000.0  1950   0.0           NaN     True\n",
              "d        B    500000.0  1900   0.5           NaN    False\n",
              "e        B   1500000.0  2000   0.7           NaN    False"
            ]
          },
          "execution_count": 299,
          "metadata": {},
          "output_type": "execute_result"
        }
      ],
      "source": [
        "df2.drop('c')"
      ]
    },
    {
      "cell_type": "code",
      "execution_count": null,
      "metadata": {
        "id": "Er19PD9lqkBX",
        "outputId": "a7d4688e-262a-4da3-e74d-a4ed8a374d5c"
      },
      "outputs": [
        {
          "data": {
            "text/html": [
              "<div>\n",
              "<style scoped>\n",
              "    .dataframe tbody tr th:only-of-type {\n",
              "        vertical-align: middle;\n",
              "    }\n",
              "\n",
              "    .dataframe tbody tr th {\n",
              "        vertical-align: top;\n",
              "    }\n",
              "\n",
              "    .dataframe thead th {\n",
              "        text-align: right;\n",
              "    }\n",
              "</style>\n",
              "<table border=\"1\" class=\"dataframe\">\n",
              "  <thead>\n",
              "    <tr style=\"text-align: right;\">\n",
              "      <th></th>\n",
              "      <th>province</th>\n",
              "      <th>population</th>\n",
              "      <th>year</th>\n",
              "      <th>debt</th>\n",
              "      <th>2nd_language</th>\n",
              "      <th>capital</th>\n",
              "    </tr>\n",
              "  </thead>\n",
              "  <tbody>\n",
              "    <tr>\n",
              "      <th>a</th>\n",
              "      <td>M</td>\n",
              "      <td>1500000.0</td>\n",
              "      <td>1900</td>\n",
              "      <td>1.0</td>\n",
              "      <td>NaN</td>\n",
              "      <td>True</td>\n",
              "    </tr>\n",
              "    <tr>\n",
              "      <th>b</th>\n",
              "      <td>M</td>\n",
              "      <td>2000000.0</td>\n",
              "      <td>1950</td>\n",
              "      <td>0.0</td>\n",
              "      <td>NaN</td>\n",
              "      <td>True</td>\n",
              "    </tr>\n",
              "    <tr>\n",
              "      <th>c</th>\n",
              "      <td>M</td>\n",
              "      <td>3000000.0</td>\n",
              "      <td>2000</td>\n",
              "      <td>2.0</td>\n",
              "      <td>NaN</td>\n",
              "      <td>True</td>\n",
              "    </tr>\n",
              "    <tr>\n",
              "      <th>d</th>\n",
              "      <td>B</td>\n",
              "      <td>500000.0</td>\n",
              "      <td>1900</td>\n",
              "      <td>0.5</td>\n",
              "      <td>NaN</td>\n",
              "      <td>False</td>\n",
              "    </tr>\n",
              "    <tr>\n",
              "      <th>e</th>\n",
              "      <td>B</td>\n",
              "      <td>1500000.0</td>\n",
              "      <td>2000</td>\n",
              "      <td>0.7</td>\n",
              "      <td>NaN</td>\n",
              "      <td>False</td>\n",
              "    </tr>\n",
              "  </tbody>\n",
              "</table>\n",
              "</div>"
            ],
            "text/plain": [
              "  province  population  year  debt  2nd_language  capital\n",
              "a        M   1500000.0  1900   1.0           NaN     True\n",
              "b        M   2000000.0  1950   0.0           NaN     True\n",
              "c        M   3000000.0  2000   2.0           NaN     True\n",
              "d        B    500000.0  1900   0.5           NaN    False\n",
              "e        B   1500000.0  2000   0.7           NaN    False"
            ]
          },
          "execution_count": 300,
          "metadata": {},
          "output_type": "execute_result"
        }
      ],
      "source": [
        "df2"
      ]
    },
    {
      "cell_type": "code",
      "execution_count": null,
      "metadata": {
        "id": "M7Ps_9ATqkBX",
        "outputId": "7dd54105-c08b-4be2-9ea3-8078739fa96e"
      },
      "outputs": [
        {
          "data": {
            "text/html": [
              "<div>\n",
              "<style scoped>\n",
              "    .dataframe tbody tr th:only-of-type {\n",
              "        vertical-align: middle;\n",
              "    }\n",
              "\n",
              "    .dataframe tbody tr th {\n",
              "        vertical-align: top;\n",
              "    }\n",
              "\n",
              "    .dataframe thead th {\n",
              "        text-align: right;\n",
              "    }\n",
              "</style>\n",
              "<table border=\"1\" class=\"dataframe\">\n",
              "  <thead>\n",
              "    <tr style=\"text-align: right;\">\n",
              "      <th></th>\n",
              "      <th>province</th>\n",
              "      <th>population</th>\n",
              "      <th>year</th>\n",
              "      <th>debt</th>\n",
              "      <th>2nd_language</th>\n",
              "      <th>capital</th>\n",
              "    </tr>\n",
              "  </thead>\n",
              "  <tbody>\n",
              "    <tr>\n",
              "      <th>a</th>\n",
              "      <td>M</td>\n",
              "      <td>1500000.0</td>\n",
              "      <td>1900</td>\n",
              "      <td>1.0</td>\n",
              "      <td>NaN</td>\n",
              "      <td>True</td>\n",
              "    </tr>\n",
              "    <tr>\n",
              "      <th>b</th>\n",
              "      <td>M</td>\n",
              "      <td>2000000.0</td>\n",
              "      <td>1950</td>\n",
              "      <td>0.0</td>\n",
              "      <td>NaN</td>\n",
              "      <td>True</td>\n",
              "    </tr>\n",
              "    <tr>\n",
              "      <th>d</th>\n",
              "      <td>B</td>\n",
              "      <td>500000.0</td>\n",
              "      <td>1900</td>\n",
              "      <td>0.5</td>\n",
              "      <td>NaN</td>\n",
              "      <td>False</td>\n",
              "    </tr>\n",
              "    <tr>\n",
              "      <th>e</th>\n",
              "      <td>B</td>\n",
              "      <td>1500000.0</td>\n",
              "      <td>2000</td>\n",
              "      <td>0.7</td>\n",
              "      <td>NaN</td>\n",
              "      <td>False</td>\n",
              "    </tr>\n",
              "  </tbody>\n",
              "</table>\n",
              "</div>"
            ],
            "text/plain": [
              "  province  population  year  debt  2nd_language  capital\n",
              "a        M   1500000.0  1900   1.0           NaN     True\n",
              "b        M   2000000.0  1950   0.0           NaN     True\n",
              "d        B    500000.0  1900   0.5           NaN    False\n",
              "e        B   1500000.0  2000   0.7           NaN    False"
            ]
          },
          "execution_count": 301,
          "metadata": {},
          "output_type": "execute_result"
        }
      ],
      "source": [
        "df2.drop('c', axis=0)"
      ]
    },
    {
      "cell_type": "code",
      "execution_count": null,
      "metadata": {
        "id": "ffzIsGuRqkBY",
        "outputId": "6502f22c-7bef-40ab-8df0-d62c19b3c834"
      },
      "outputs": [
        {
          "data": {
            "text/html": [
              "<div>\n",
              "<style scoped>\n",
              "    .dataframe tbody tr th:only-of-type {\n",
              "        vertical-align: middle;\n",
              "    }\n",
              "\n",
              "    .dataframe tbody tr th {\n",
              "        vertical-align: top;\n",
              "    }\n",
              "\n",
              "    .dataframe thead th {\n",
              "        text-align: right;\n",
              "    }\n",
              "</style>\n",
              "<table border=\"1\" class=\"dataframe\">\n",
              "  <thead>\n",
              "    <tr style=\"text-align: right;\">\n",
              "      <th></th>\n",
              "      <th>province</th>\n",
              "      <th>population</th>\n",
              "      <th>year</th>\n",
              "      <th>debt</th>\n",
              "      <th>capital</th>\n",
              "    </tr>\n",
              "  </thead>\n",
              "  <tbody>\n",
              "    <tr>\n",
              "      <th>a</th>\n",
              "      <td>M</td>\n",
              "      <td>1500000.0</td>\n",
              "      <td>1900</td>\n",
              "      <td>1.0</td>\n",
              "      <td>True</td>\n",
              "    </tr>\n",
              "    <tr>\n",
              "      <th>b</th>\n",
              "      <td>M</td>\n",
              "      <td>2000000.0</td>\n",
              "      <td>1950</td>\n",
              "      <td>0.0</td>\n",
              "      <td>True</td>\n",
              "    </tr>\n",
              "    <tr>\n",
              "      <th>c</th>\n",
              "      <td>M</td>\n",
              "      <td>3000000.0</td>\n",
              "      <td>2000</td>\n",
              "      <td>2.0</td>\n",
              "      <td>True</td>\n",
              "    </tr>\n",
              "    <tr>\n",
              "      <th>d</th>\n",
              "      <td>B</td>\n",
              "      <td>500000.0</td>\n",
              "      <td>1900</td>\n",
              "      <td>0.5</td>\n",
              "      <td>False</td>\n",
              "    </tr>\n",
              "    <tr>\n",
              "      <th>e</th>\n",
              "      <td>B</td>\n",
              "      <td>1500000.0</td>\n",
              "      <td>2000</td>\n",
              "      <td>0.7</td>\n",
              "      <td>False</td>\n",
              "    </tr>\n",
              "  </tbody>\n",
              "</table>\n",
              "</div>"
            ],
            "text/plain": [
              "  province  population  year  debt  capital\n",
              "a        M   1500000.0  1900   1.0     True\n",
              "b        M   2000000.0  1950   0.0     True\n",
              "c        M   3000000.0  2000   2.0     True\n",
              "d        B    500000.0  1900   0.5    False\n",
              "e        B   1500000.0  2000   0.7    False"
            ]
          },
          "execution_count": 302,
          "metadata": {},
          "output_type": "execute_result"
        }
      ],
      "source": [
        "df2.drop('2nd_language', axis=1)"
      ]
    },
    {
      "cell_type": "code",
      "execution_count": null,
      "metadata": {
        "id": "XX9Qzdk6qkBY"
      },
      "outputs": [],
      "source": [
        "df3 = df2.drop('2nd_language', axis=1)"
      ]
    },
    {
      "cell_type": "code",
      "execution_count": null,
      "metadata": {
        "id": "q1tDW6NQqkBZ",
        "outputId": "4154b377-7933-4aba-c039-8f1224bddc30"
      },
      "outputs": [
        {
          "data": {
            "text/html": [
              "<div>\n",
              "<style scoped>\n",
              "    .dataframe tbody tr th:only-of-type {\n",
              "        vertical-align: middle;\n",
              "    }\n",
              "\n",
              "    .dataframe tbody tr th {\n",
              "        vertical-align: top;\n",
              "    }\n",
              "\n",
              "    .dataframe thead th {\n",
              "        text-align: right;\n",
              "    }\n",
              "</style>\n",
              "<table border=\"1\" class=\"dataframe\">\n",
              "  <thead>\n",
              "    <tr style=\"text-align: right;\">\n",
              "      <th></th>\n",
              "      <th>province</th>\n",
              "      <th>population</th>\n",
              "      <th>year</th>\n",
              "      <th>debt</th>\n",
              "      <th>capital</th>\n",
              "    </tr>\n",
              "  </thead>\n",
              "  <tbody>\n",
              "    <tr>\n",
              "      <th>a</th>\n",
              "      <td>M</td>\n",
              "      <td>1500000.0</td>\n",
              "      <td>1900</td>\n",
              "      <td>1.0</td>\n",
              "      <td>True</td>\n",
              "    </tr>\n",
              "    <tr>\n",
              "      <th>b</th>\n",
              "      <td>M</td>\n",
              "      <td>2000000.0</td>\n",
              "      <td>1950</td>\n",
              "      <td>0.0</td>\n",
              "      <td>True</td>\n",
              "    </tr>\n",
              "    <tr>\n",
              "      <th>c</th>\n",
              "      <td>M</td>\n",
              "      <td>3000000.0</td>\n",
              "      <td>2000</td>\n",
              "      <td>2.0</td>\n",
              "      <td>True</td>\n",
              "    </tr>\n",
              "    <tr>\n",
              "      <th>d</th>\n",
              "      <td>B</td>\n",
              "      <td>500000.0</td>\n",
              "      <td>1900</td>\n",
              "      <td>0.5</td>\n",
              "      <td>False</td>\n",
              "    </tr>\n",
              "    <tr>\n",
              "      <th>e</th>\n",
              "      <td>B</td>\n",
              "      <td>1500000.0</td>\n",
              "      <td>2000</td>\n",
              "      <td>0.7</td>\n",
              "      <td>False</td>\n",
              "    </tr>\n",
              "  </tbody>\n",
              "</table>\n",
              "</div>"
            ],
            "text/plain": [
              "  province  population  year  debt  capital\n",
              "a        M   1500000.0  1900   1.0     True\n",
              "b        M   2000000.0  1950   0.0     True\n",
              "c        M   3000000.0  2000   2.0     True\n",
              "d        B    500000.0  1900   0.5    False\n",
              "e        B   1500000.0  2000   0.7    False"
            ]
          },
          "execution_count": 304,
          "metadata": {},
          "output_type": "execute_result"
        }
      ],
      "source": [
        "df3"
      ]
    },
    {
      "cell_type": "code",
      "execution_count": null,
      "metadata": {
        "id": "ZS4PRq7vqkBZ"
      },
      "outputs": [],
      "source": [
        "df4 = df3"
      ]
    },
    {
      "cell_type": "code",
      "execution_count": null,
      "metadata": {
        "id": "yedq5W3-qkBZ"
      },
      "outputs": [],
      "source": [
        "df4.drop(['a','b'],inplace=True)"
      ]
    },
    {
      "cell_type": "code",
      "execution_count": null,
      "metadata": {
        "id": "XhEL30cgqkBZ",
        "outputId": "eb527df7-30a2-4084-db39-281cb74e6fe3"
      },
      "outputs": [
        {
          "data": {
            "text/html": [
              "<div>\n",
              "<style scoped>\n",
              "    .dataframe tbody tr th:only-of-type {\n",
              "        vertical-align: middle;\n",
              "    }\n",
              "\n",
              "    .dataframe tbody tr th {\n",
              "        vertical-align: top;\n",
              "    }\n",
              "\n",
              "    .dataframe thead th {\n",
              "        text-align: right;\n",
              "    }\n",
              "</style>\n",
              "<table border=\"1\" class=\"dataframe\">\n",
              "  <thead>\n",
              "    <tr style=\"text-align: right;\">\n",
              "      <th></th>\n",
              "      <th>province</th>\n",
              "      <th>population</th>\n",
              "      <th>year</th>\n",
              "      <th>debt</th>\n",
              "      <th>capital</th>\n",
              "    </tr>\n",
              "  </thead>\n",
              "  <tbody>\n",
              "    <tr>\n",
              "      <th>c</th>\n",
              "      <td>M</td>\n",
              "      <td>3000000.0</td>\n",
              "      <td>2000</td>\n",
              "      <td>2.0</td>\n",
              "      <td>True</td>\n",
              "    </tr>\n",
              "    <tr>\n",
              "      <th>d</th>\n",
              "      <td>B</td>\n",
              "      <td>500000.0</td>\n",
              "      <td>1900</td>\n",
              "      <td>0.5</td>\n",
              "      <td>False</td>\n",
              "    </tr>\n",
              "    <tr>\n",
              "      <th>e</th>\n",
              "      <td>B</td>\n",
              "      <td>1500000.0</td>\n",
              "      <td>2000</td>\n",
              "      <td>0.7</td>\n",
              "      <td>False</td>\n",
              "    </tr>\n",
              "  </tbody>\n",
              "</table>\n",
              "</div>"
            ],
            "text/plain": [
              "  province  population  year  debt  capital\n",
              "c        M   3000000.0  2000   2.0     True\n",
              "d        B    500000.0  1900   0.5    False\n",
              "e        B   1500000.0  2000   0.7    False"
            ]
          },
          "execution_count": 307,
          "metadata": {},
          "output_type": "execute_result"
        }
      ],
      "source": [
        "df4"
      ]
    },
    {
      "cell_type": "code",
      "execution_count": null,
      "metadata": {
        "id": "Emd0G-13qkBZ",
        "outputId": "819519aa-e1dd-40dd-f5b3-db2111fa0923"
      },
      "outputs": [
        {
          "data": {
            "text/html": [
              "<div>\n",
              "<style scoped>\n",
              "    .dataframe tbody tr th:only-of-type {\n",
              "        vertical-align: middle;\n",
              "    }\n",
              "\n",
              "    .dataframe tbody tr th {\n",
              "        vertical-align: top;\n",
              "    }\n",
              "\n",
              "    .dataframe thead th {\n",
              "        text-align: right;\n",
              "    }\n",
              "</style>\n",
              "<table border=\"1\" class=\"dataframe\">\n",
              "  <thead>\n",
              "    <tr style=\"text-align: right;\">\n",
              "      <th></th>\n",
              "      <th>province</th>\n",
              "      <th>population</th>\n",
              "      <th>year</th>\n",
              "      <th>debt</th>\n",
              "      <th>capital</th>\n",
              "    </tr>\n",
              "  </thead>\n",
              "  <tbody>\n",
              "    <tr>\n",
              "      <th>c</th>\n",
              "      <td>M</td>\n",
              "      <td>3000000.0</td>\n",
              "      <td>2000</td>\n",
              "      <td>2.0</td>\n",
              "      <td>True</td>\n",
              "    </tr>\n",
              "    <tr>\n",
              "      <th>d</th>\n",
              "      <td>B</td>\n",
              "      <td>500000.0</td>\n",
              "      <td>1900</td>\n",
              "      <td>0.5</td>\n",
              "      <td>False</td>\n",
              "    </tr>\n",
              "    <tr>\n",
              "      <th>e</th>\n",
              "      <td>B</td>\n",
              "      <td>1500000.0</td>\n",
              "      <td>2000</td>\n",
              "      <td>0.7</td>\n",
              "      <td>False</td>\n",
              "    </tr>\n",
              "  </tbody>\n",
              "</table>\n",
              "</div>"
            ],
            "text/plain": [
              "  province  population  year  debt  capital\n",
              "c        M   3000000.0  2000   2.0     True\n",
              "d        B    500000.0  1900   0.5    False\n",
              "e        B   1500000.0  2000   0.7    False"
            ]
          },
          "execution_count": 308,
          "metadata": {},
          "output_type": "execute_result"
        }
      ],
      "source": [
        "df3"
      ]
    },
    {
      "cell_type": "code",
      "execution_count": null,
      "metadata": {
        "id": "t2-guOt4qkBa"
      },
      "outputs": [],
      "source": [
        ""
      ]
    },
    {
      "cell_type": "code",
      "execution_count": null,
      "metadata": {
        "id": "yXK4KQhgqkBa"
      },
      "outputs": [],
      "source": [
        ""
      ]
    },
    {
      "cell_type": "code",
      "execution_count": null,
      "metadata": {
        "id": "Pf6O9JQLqkBa"
      },
      "outputs": [],
      "source": [
        ""
      ]
    },
    {
      "cell_type": "code",
      "execution_count": null,
      "metadata": {
        "id": "oYenabE_qkBa",
        "outputId": "b30d246b-81bd-46a7-8a91-268f29d5407c"
      },
      "outputs": [
        {
          "data": {
            "text/html": [
              "<div>\n",
              "<style scoped>\n",
              "    .dataframe tbody tr th:only-of-type {\n",
              "        vertical-align: middle;\n",
              "    }\n",
              "\n",
              "    .dataframe tbody tr th {\n",
              "        vertical-align: top;\n",
              "    }\n",
              "\n",
              "    .dataframe thead th {\n",
              "        text-align: right;\n",
              "    }\n",
              "</style>\n",
              "<table border=\"1\" class=\"dataframe\">\n",
              "  <thead>\n",
              "    <tr style=\"text-align: right;\">\n",
              "      <th></th>\n",
              "      <th>province</th>\n",
              "      <th>population</th>\n",
              "      <th>year</th>\n",
              "      <th>debt</th>\n",
              "      <th>2nd_language</th>\n",
              "      <th>capital</th>\n",
              "    </tr>\n",
              "  </thead>\n",
              "  <tbody>\n",
              "    <tr>\n",
              "      <th>a</th>\n",
              "      <td>M</td>\n",
              "      <td>1500000.0</td>\n",
              "      <td>1900</td>\n",
              "      <td>1.0</td>\n",
              "      <td>NaN</td>\n",
              "      <td>True</td>\n",
              "    </tr>\n",
              "    <tr>\n",
              "      <th>b</th>\n",
              "      <td>M</td>\n",
              "      <td>2000000.0</td>\n",
              "      <td>1950</td>\n",
              "      <td>0.0</td>\n",
              "      <td>NaN</td>\n",
              "      <td>True</td>\n",
              "    </tr>\n",
              "    <tr>\n",
              "      <th>c</th>\n",
              "      <td>M</td>\n",
              "      <td>3000000.0</td>\n",
              "      <td>2000</td>\n",
              "      <td>2.0</td>\n",
              "      <td>NaN</td>\n",
              "      <td>True</td>\n",
              "    </tr>\n",
              "    <tr>\n",
              "      <th>d</th>\n",
              "      <td>B</td>\n",
              "      <td>500000.0</td>\n",
              "      <td>1900</td>\n",
              "      <td>0.5</td>\n",
              "      <td>NaN</td>\n",
              "      <td>False</td>\n",
              "    </tr>\n",
              "    <tr>\n",
              "      <th>e</th>\n",
              "      <td>B</td>\n",
              "      <td>1500000.0</td>\n",
              "      <td>2000</td>\n",
              "      <td>0.7</td>\n",
              "      <td>NaN</td>\n",
              "      <td>False</td>\n",
              "    </tr>\n",
              "  </tbody>\n",
              "</table>\n",
              "</div>"
            ],
            "text/plain": [
              "  province  population  year  debt  2nd_language  capital\n",
              "a        M   1500000.0  1900   1.0           NaN     True\n",
              "b        M   2000000.0  1950   0.0           NaN     True\n",
              "c        M   3000000.0  2000   2.0           NaN     True\n",
              "d        B    500000.0  1900   0.5           NaN    False\n",
              "e        B   1500000.0  2000   0.7           NaN    False"
            ]
          },
          "execution_count": 309,
          "metadata": {},
          "output_type": "execute_result"
        }
      ],
      "source": [
        "df3 = df2.copy()\n",
        "df3"
      ]
    },
    {
      "cell_type": "code",
      "execution_count": null,
      "metadata": {
        "id": "e4bBXCqsqkBa",
        "outputId": "30631fbd-5205-4956-efe2-d8c5cf8f7832"
      },
      "outputs": [
        {
          "data": {
            "text/html": [
              "<div>\n",
              "<style scoped>\n",
              "    .dataframe tbody tr th:only-of-type {\n",
              "        vertical-align: middle;\n",
              "    }\n",
              "\n",
              "    .dataframe tbody tr th {\n",
              "        vertical-align: top;\n",
              "    }\n",
              "\n",
              "    .dataframe thead th {\n",
              "        text-align: right;\n",
              "    }\n",
              "</style>\n",
              "<table border=\"1\" class=\"dataframe\">\n",
              "  <thead>\n",
              "    <tr style=\"text-align: right;\">\n",
              "      <th></th>\n",
              "      <th>province</th>\n",
              "      <th>population</th>\n",
              "      <th>year</th>\n",
              "      <th>debt</th>\n",
              "      <th>2nd_language</th>\n",
              "    </tr>\n",
              "  </thead>\n",
              "  <tbody>\n",
              "    <tr>\n",
              "      <th>a</th>\n",
              "      <td>M</td>\n",
              "      <td>1500000.0</td>\n",
              "      <td>1900</td>\n",
              "      <td>1.0</td>\n",
              "      <td>NaN</td>\n",
              "    </tr>\n",
              "    <tr>\n",
              "      <th>b</th>\n",
              "      <td>M</td>\n",
              "      <td>2000000.0</td>\n",
              "      <td>1950</td>\n",
              "      <td>0.0</td>\n",
              "      <td>NaN</td>\n",
              "    </tr>\n",
              "    <tr>\n",
              "      <th>c</th>\n",
              "      <td>M</td>\n",
              "      <td>3000000.0</td>\n",
              "      <td>2000</td>\n",
              "      <td>2.0</td>\n",
              "      <td>NaN</td>\n",
              "    </tr>\n",
              "    <tr>\n",
              "      <th>d</th>\n",
              "      <td>B</td>\n",
              "      <td>500000.0</td>\n",
              "      <td>1900</td>\n",
              "      <td>0.5</td>\n",
              "      <td>NaN</td>\n",
              "    </tr>\n",
              "    <tr>\n",
              "      <th>e</th>\n",
              "      <td>B</td>\n",
              "      <td>1500000.0</td>\n",
              "      <td>2000</td>\n",
              "      <td>0.7</td>\n",
              "      <td>NaN</td>\n",
              "    </tr>\n",
              "  </tbody>\n",
              "</table>\n",
              "</div>"
            ],
            "text/plain": [
              "  province  population  year  debt  2nd_language\n",
              "a        M   1500000.0  1900   1.0           NaN\n",
              "b        M   2000000.0  1950   0.0           NaN\n",
              "c        M   3000000.0  2000   2.0           NaN\n",
              "d        B    500000.0  1900   0.5           NaN\n",
              "e        B   1500000.0  2000   0.7           NaN"
            ]
          },
          "execution_count": 310,
          "metadata": {},
          "output_type": "execute_result"
        }
      ],
      "source": [
        "df3.drop('capital', axis=1, inplace=True)\n",
        "df3"
      ]
    },
    {
      "cell_type": "code",
      "execution_count": null,
      "metadata": {
        "id": "Eo3jpbS9qkBb",
        "outputId": "f8e1b13d-e45e-456b-a99d-232adfd19209"
      },
      "outputs": [
        {
          "data": {
            "text/html": [
              "<div>\n",
              "<style scoped>\n",
              "    .dataframe tbody tr th:only-of-type {\n",
              "        vertical-align: middle;\n",
              "    }\n",
              "\n",
              "    .dataframe tbody tr th {\n",
              "        vertical-align: top;\n",
              "    }\n",
              "\n",
              "    .dataframe thead th {\n",
              "        text-align: right;\n",
              "    }\n",
              "</style>\n",
              "<table border=\"1\" class=\"dataframe\">\n",
              "  <thead>\n",
              "    <tr style=\"text-align: right;\">\n",
              "      <th></th>\n",
              "      <th>province</th>\n",
              "      <th>population</th>\n",
              "      <th>year</th>\n",
              "      <th>debt</th>\n",
              "      <th>2nd_language</th>\n",
              "      <th>capital</th>\n",
              "    </tr>\n",
              "  </thead>\n",
              "  <tbody>\n",
              "    <tr>\n",
              "      <th>a</th>\n",
              "      <td>M</td>\n",
              "      <td>1500000.0</td>\n",
              "      <td>1900</td>\n",
              "      <td>1.0</td>\n",
              "      <td>NaN</td>\n",
              "      <td>True</td>\n",
              "    </tr>\n",
              "    <tr>\n",
              "      <th>b</th>\n",
              "      <td>M</td>\n",
              "      <td>2000000.0</td>\n",
              "      <td>1950</td>\n",
              "      <td>0.0</td>\n",
              "      <td>NaN</td>\n",
              "      <td>True</td>\n",
              "    </tr>\n",
              "    <tr>\n",
              "      <th>c</th>\n",
              "      <td>M</td>\n",
              "      <td>3000000.0</td>\n",
              "      <td>2000</td>\n",
              "      <td>2.0</td>\n",
              "      <td>NaN</td>\n",
              "      <td>True</td>\n",
              "    </tr>\n",
              "    <tr>\n",
              "      <th>d</th>\n",
              "      <td>B</td>\n",
              "      <td>500000.0</td>\n",
              "      <td>1900</td>\n",
              "      <td>0.5</td>\n",
              "      <td>NaN</td>\n",
              "      <td>False</td>\n",
              "    </tr>\n",
              "    <tr>\n",
              "      <th>e</th>\n",
              "      <td>B</td>\n",
              "      <td>1500000.0</td>\n",
              "      <td>2000</td>\n",
              "      <td>0.7</td>\n",
              "      <td>NaN</td>\n",
              "      <td>False</td>\n",
              "    </tr>\n",
              "  </tbody>\n",
              "</table>\n",
              "</div>"
            ],
            "text/plain": [
              "  province  population  year  debt  2nd_language  capital\n",
              "a        M   1500000.0  1900   1.0           NaN     True\n",
              "b        M   2000000.0  1950   0.0           NaN     True\n",
              "c        M   3000000.0  2000   2.0           NaN     True\n",
              "d        B    500000.0  1900   0.5           NaN    False\n",
              "e        B   1500000.0  2000   0.7           NaN    False"
            ]
          },
          "execution_count": 311,
          "metadata": {},
          "output_type": "execute_result"
        }
      ],
      "source": [
        "df2"
      ]
    },
    {
      "cell_type": "markdown",
      "metadata": {
        "id": "Ga69xlWjqkBc"
      },
      "source": [
        "### Indexing, selection, and filtering\n",
        "\n",
        "The key here is that we can build boolean Series that we can use to index the original Series or DataFrame. Those booleans can be combined with bitwise boolean operators (&, |, ~) to get filters that are as complex as we need. "
      ]
    },
    {
      "cell_type": "code",
      "execution_count": null,
      "metadata": {
        "id": "5RwDVPbkqkBc",
        "outputId": "c6711060-fd01-43f0-d906-9d3b95969696"
      },
      "outputs": [
        {
          "data": {
            "text/plain": [
              "province\n",
              "B    3000000.0\n",
              "M    6000000.0\n",
              "P     120000.0\n",
              "V     700000.0\n",
              "Name: population_2000, dtype: float64"
            ]
          },
          "execution_count": 135,
          "metadata": {},
          "output_type": "execute_result"
        }
      ],
      "source": [
        "s3"
      ]
    },
    {
      "cell_type": "code",
      "execution_count": null,
      "metadata": {
        "id": "q0OEZ1rgqkBd",
        "outputId": "383c1815-2881-4e37-c714-a9e9a70a4ddb"
      },
      "outputs": [
        {
          "data": {
            "text/plain": [
              "province\n",
              "V     700000.0\n",
              "M    6000000.0\n",
              "Name: population_2000, dtype: float64"
            ]
          },
          "execution_count": 136,
          "metadata": {},
          "output_type": "execute_result"
        }
      ],
      "source": [
        "s3[['V', 'M']]"
      ]
    },
    {
      "cell_type": "code",
      "execution_count": null,
      "metadata": {
        "id": "lt9ZEDtyqkBd",
        "outputId": "2e7a898b-23f9-4fc0-a6b1-ffd01920c13e"
      },
      "outputs": [
        {
          "data": {
            "text/plain": [
              "province\n",
              "P    120000.0\n",
              "V    700000.0\n",
              "Name: population_2000, dtype: float64"
            ]
          },
          "execution_count": 137,
          "metadata": {},
          "output_type": "execute_result"
        }
      ],
      "source": [
        "s3[2:]"
      ]
    },
    {
      "cell_type": "code",
      "execution_count": null,
      "metadata": {
        "id": "E2nnmM37qkBd",
        "outputId": "a6fb1068-fee1-4431-a526-057b4d0ec807"
      },
      "outputs": [
        {
          "data": {
            "text/plain": [
              "province\n",
              "P    120000.0\n",
              "V    700000.0\n",
              "Name: population_2000, dtype: float64"
            ]
          },
          "execution_count": 138,
          "metadata": {},
          "output_type": "execute_result"
        }
      ],
      "source": [
        "s3['P':'V']"
      ]
    },
    {
      "cell_type": "code",
      "execution_count": null,
      "metadata": {
        "id": "IRt5p0swqkBd",
        "outputId": "83547a5f-8b7a-4161-8358-c0c81a4c16e7"
      },
      "outputs": [
        {
          "data": {
            "text/plain": [
              "province\n",
              "B     True\n",
              "M     True\n",
              "P    False\n",
              "V    False\n",
              "Name: population_2000, dtype: bool"
            ]
          },
          "execution_count": 139,
          "metadata": {},
          "output_type": "execute_result"
        }
      ],
      "source": [
        "s3 > 1e06"
      ]
    },
    {
      "cell_type": "code",
      "execution_count": null,
      "metadata": {
        "id": "v_TN_cqKqkBe",
        "outputId": "b0cd4527-3889-43cd-9d19-d7de1c9c0df2"
      },
      "outputs": [
        {
          "data": {
            "text/plain": [
              "province\n",
              "B    3000000.0\n",
              "M    6000000.0\n",
              "Name: population_2000, dtype: float64"
            ]
          },
          "execution_count": 140,
          "metadata": {},
          "output_type": "execute_result"
        }
      ],
      "source": [
        "s3[s3>1e06]"
      ]
    },
    {
      "cell_type": "code",
      "execution_count": null,
      "metadata": {
        "id": "oUsKu_AfqkBe",
        "outputId": "558b2318-3be9-4fec-e0af-466a8a659a4e"
      },
      "outputs": [
        {
          "data": {
            "text/html": [
              "<div>\n",
              "<style>\n",
              "    .dataframe thead tr:only-child th {\n",
              "        text-align: right;\n",
              "    }\n",
              "\n",
              "    .dataframe thead th {\n",
              "        text-align: left;\n",
              "    }\n",
              "\n",
              "    .dataframe tbody tr th {\n",
              "        vertical-align: top;\n",
              "    }\n",
              "</style>\n",
              "<table border=\"1\" class=\"dataframe\">\n",
              "  <thead>\n",
              "    <tr style=\"text-align: right;\">\n",
              "      <th></th>\n",
              "      <th>province</th>\n",
              "      <th>population</th>\n",
              "      <th>year</th>\n",
              "      <th>debt</th>\n",
              "      <th>2nd_language</th>\n",
              "    </tr>\n",
              "  </thead>\n",
              "  <tbody>\n",
              "    <tr>\n",
              "      <th>a</th>\n",
              "      <td>M</td>\n",
              "      <td>1500000.0</td>\n",
              "      <td>1900</td>\n",
              "      <td>1.0</td>\n",
              "      <td>NaN</td>\n",
              "    </tr>\n",
              "    <tr>\n",
              "      <th>b</th>\n",
              "      <td>M</td>\n",
              "      <td>2000000.0</td>\n",
              "      <td>1950</td>\n",
              "      <td>0.0</td>\n",
              "      <td>NaN</td>\n",
              "    </tr>\n",
              "    <tr>\n",
              "      <th>c</th>\n",
              "      <td>M</td>\n",
              "      <td>3000000.0</td>\n",
              "      <td>2000</td>\n",
              "      <td>2.0</td>\n",
              "      <td>NaN</td>\n",
              "    </tr>\n",
              "    <tr>\n",
              "      <th>d</th>\n",
              "      <td>B</td>\n",
              "      <td>500000.0</td>\n",
              "      <td>1900</td>\n",
              "      <td>0.5</td>\n",
              "      <td>NaN</td>\n",
              "    </tr>\n",
              "    <tr>\n",
              "      <th>e</th>\n",
              "      <td>B</td>\n",
              "      <td>1500000.0</td>\n",
              "      <td>2000</td>\n",
              "      <td>0.7</td>\n",
              "      <td>NaN</td>\n",
              "    </tr>\n",
              "  </tbody>\n",
              "</table>\n",
              "</div>"
            ],
            "text/plain": [
              "  province  population  year  debt  2nd_language\n",
              "a        M   1500000.0  1900   1.0           NaN\n",
              "b        M   2000000.0  1950   0.0           NaN\n",
              "c        M   3000000.0  2000   2.0           NaN\n",
              "d        B    500000.0  1900   0.5           NaN\n",
              "e        B   1500000.0  2000   0.7           NaN"
            ]
          },
          "execution_count": 141,
          "metadata": {},
          "output_type": "execute_result"
        }
      ],
      "source": [
        "df3"
      ]
    },
    {
      "cell_type": "code",
      "execution_count": null,
      "metadata": {
        "id": "jULaS-tSqkBe",
        "outputId": "5fb4d4e4-a67e-4f66-d719-e9f08ba57306"
      },
      "outputs": [
        {
          "data": {
            "text/html": [
              "<div>\n",
              "<style>\n",
              "    .dataframe thead tr:only-child th {\n",
              "        text-align: right;\n",
              "    }\n",
              "\n",
              "    .dataframe thead th {\n",
              "        text-align: left;\n",
              "    }\n",
              "\n",
              "    .dataframe tbody tr th {\n",
              "        vertical-align: top;\n",
              "    }\n",
              "</style>\n",
              "<table border=\"1\" class=\"dataframe\">\n",
              "  <thead>\n",
              "    <tr style=\"text-align: right;\">\n",
              "      <th></th>\n",
              "      <th>province</th>\n",
              "      <th>population</th>\n",
              "      <th>year</th>\n",
              "      <th>debt</th>\n",
              "      <th>2nd_language</th>\n",
              "    </tr>\n",
              "  </thead>\n",
              "  <tbody>\n",
              "    <tr>\n",
              "      <th>c</th>\n",
              "      <td>M</td>\n",
              "      <td>3000000.0</td>\n",
              "      <td>2000</td>\n",
              "      <td>2.0</td>\n",
              "      <td>NaN</td>\n",
              "    </tr>\n",
              "    <tr>\n",
              "      <th>e</th>\n",
              "      <td>B</td>\n",
              "      <td>1500000.0</td>\n",
              "      <td>2000</td>\n",
              "      <td>0.7</td>\n",
              "      <td>NaN</td>\n",
              "    </tr>\n",
              "  </tbody>\n",
              "</table>\n",
              "</div>"
            ],
            "text/plain": [
              "  province  population  year  debt  2nd_language\n",
              "c        M   3000000.0  2000   2.0           NaN\n",
              "e        B   1500000.0  2000   0.7           NaN"
            ]
          },
          "execution_count": 142,
          "metadata": {},
          "output_type": "execute_result"
        }
      ],
      "source": [
        "df3[df3['year'] > 1950]"
      ]
    },
    {
      "cell_type": "code",
      "execution_count": null,
      "metadata": {
        "id": "364Vf1U2qkBe",
        "outputId": "350d0256-08fa-43fe-e835-9bfd78bcfb38"
      },
      "outputs": [
        {
          "data": {
            "text/html": [
              "<div>\n",
              "<style>\n",
              "    .dataframe thead tr:only-child th {\n",
              "        text-align: right;\n",
              "    }\n",
              "\n",
              "    .dataframe thead th {\n",
              "        text-align: left;\n",
              "    }\n",
              "\n",
              "    .dataframe tbody tr th {\n",
              "        vertical-align: top;\n",
              "    }\n",
              "</style>\n",
              "<table border=\"1\" class=\"dataframe\">\n",
              "  <thead>\n",
              "    <tr style=\"text-align: right;\">\n",
              "      <th></th>\n",
              "      <th>province</th>\n",
              "      <th>population</th>\n",
              "      <th>year</th>\n",
              "      <th>debt</th>\n",
              "      <th>2nd_language</th>\n",
              "    </tr>\n",
              "  </thead>\n",
              "  <tbody>\n",
              "    <tr>\n",
              "      <th>c</th>\n",
              "      <td>M</td>\n",
              "      <td>3000000.0</td>\n",
              "      <td>2000</td>\n",
              "      <td>2.0</td>\n",
              "      <td>NaN</td>\n",
              "    </tr>\n",
              "  </tbody>\n",
              "</table>\n",
              "</div>"
            ],
            "text/plain": [
              "  province  population  year  debt  2nd_language\n",
              "c        M   3000000.0  2000   2.0           NaN"
            ]
          },
          "execution_count": 143,
          "metadata": {},
          "output_type": "execute_result"
        }
      ],
      "source": [
        "df3[(df3['year'] > 1900) & (df3['debt'] > 1)]"
      ]
    },
    {
      "cell_type": "code",
      "execution_count": null,
      "metadata": {
        "id": "N1pw2lbSqkBe",
        "outputId": "debb5baa-3779-456d-f730-ff88fc666203"
      },
      "outputs": [
        {
          "data": {
            "text/html": [
              "<div>\n",
              "<style>\n",
              "    .dataframe thead tr:only-child th {\n",
              "        text-align: right;\n",
              "    }\n",
              "\n",
              "    .dataframe thead th {\n",
              "        text-align: left;\n",
              "    }\n",
              "\n",
              "    .dataframe tbody tr th {\n",
              "        vertical-align: top;\n",
              "    }\n",
              "</style>\n",
              "<table border=\"1\" class=\"dataframe\">\n",
              "  <thead>\n",
              "    <tr style=\"text-align: right;\">\n",
              "      <th></th>\n",
              "      <th>province</th>\n",
              "      <th>population</th>\n",
              "      <th>year</th>\n",
              "      <th>debt</th>\n",
              "      <th>2nd_language</th>\n",
              "    </tr>\n",
              "  </thead>\n",
              "  <tbody>\n",
              "    <tr>\n",
              "      <th>c</th>\n",
              "      <td>M</td>\n",
              "      <td>3000000.0</td>\n",
              "      <td>2000</td>\n",
              "      <td>2.0</td>\n",
              "      <td>NaN</td>\n",
              "    </tr>\n",
              "  </tbody>\n",
              "</table>\n",
              "</div>"
            ],
            "text/plain": [
              "  province  population  year  debt  2nd_language\n",
              "c        M   3000000.0  2000   2.0           NaN"
            ]
          },
          "execution_count": 144,
          "metadata": {},
          "output_type": "execute_result"
        }
      ],
      "source": [
        "recent = df3['year'] > 1900\n",
        "indebted = df3['debt'] > 1\n",
        "\n",
        "df3[recent & indebted]"
      ]
    },
    {
      "cell_type": "code",
      "execution_count": null,
      "metadata": {
        "id": "aXmd9dZeqkBf",
        "outputId": "2a512d30-f5b4-4e32-d5bc-00d057b64344"
      },
      "outputs": [
        {
          "name": "stderr",
          "output_type": "stream",
          "text": [
            "/home/dani/anaconda3/envs/master-p3/lib/python3.6/site-packages/ipykernel_launcher.py:1: UserWarning: Boolean Series key will be reindexed to match DataFrame index.\n",
            "  \"\"\"Entry point for launching an IPython kernel.\n"
          ]
        },
        {
          "data": {
            "text/html": [
              "<div>\n",
              "<style>\n",
              "    .dataframe thead tr:only-child th {\n",
              "        text-align: right;\n",
              "    }\n",
              "\n",
              "    .dataframe thead th {\n",
              "        text-align: left;\n",
              "    }\n",
              "\n",
              "    .dataframe tbody tr th {\n",
              "        vertical-align: top;\n",
              "    }\n",
              "</style>\n",
              "<table border=\"1\" class=\"dataframe\">\n",
              "  <thead>\n",
              "    <tr style=\"text-align: right;\">\n",
              "      <th></th>\n",
              "      <th>province</th>\n",
              "      <th>population</th>\n",
              "      <th>year</th>\n",
              "      <th>debt</th>\n",
              "      <th>2nd_language</th>\n",
              "    </tr>\n",
              "  </thead>\n",
              "  <tbody>\n",
              "    <tr>\n",
              "      <th>c</th>\n",
              "      <td>M</td>\n",
              "      <td>3000000.0</td>\n",
              "      <td>2000</td>\n",
              "      <td>2.0</td>\n",
              "      <td>NaN</td>\n",
              "    </tr>\n",
              "  </tbody>\n",
              "</table>\n",
              "</div>"
            ],
            "text/plain": [
              "  province  population  year  debt  2nd_language\n",
              "c        M   3000000.0  2000   2.0           NaN"
            ]
          },
          "execution_count": 145,
          "metadata": {},
          "output_type": "execute_result"
        }
      ],
      "source": [
        "df3[df3['year'] > 1900][df3['debt'] > 1]"
      ]
    },
    {
      "cell_type": "markdown",
      "metadata": {
        "id": "B-dbC_ONqkBf"
      },
      "source": [
        "### Function application and mapping\n",
        "\n",
        "Function application and mapping allows us to modify the elements of a DataFrame (columns with apply or elements with applymap) without for loops. This way we are not constrained to the functions already implemented by pandas or numpy."
      ]
    },
    {
      "cell_type": "code",
      "execution_count": null,
      "metadata": {
        "id": "znoDo5jGqkBf",
        "outputId": "b7528c3a-e1e0-4973-bb64-2d455974b4ec"
      },
      "outputs": [
        {
          "data": {
            "text/html": [
              "<div>\n",
              "<style>\n",
              "    .dataframe thead tr:only-child th {\n",
              "        text-align: right;\n",
              "    }\n",
              "\n",
              "    .dataframe thead th {\n",
              "        text-align: left;\n",
              "    }\n",
              "\n",
              "    .dataframe tbody tr th {\n",
              "        vertical-align: top;\n",
              "    }\n",
              "</style>\n",
              "<table border=\"1\" class=\"dataframe\">\n",
              "  <thead>\n",
              "    <tr style=\"text-align: right;\">\n",
              "      <th></th>\n",
              "      <th>province</th>\n",
              "      <th>population</th>\n",
              "      <th>year</th>\n",
              "      <th>debt</th>\n",
              "      <th>2nd_language</th>\n",
              "    </tr>\n",
              "  </thead>\n",
              "  <tbody>\n",
              "    <tr>\n",
              "      <th>a</th>\n",
              "      <td>M</td>\n",
              "      <td>1500000.0</td>\n",
              "      <td>1900</td>\n",
              "      <td>1.0</td>\n",
              "      <td>NaN</td>\n",
              "    </tr>\n",
              "    <tr>\n",
              "      <th>b</th>\n",
              "      <td>M</td>\n",
              "      <td>2000000.0</td>\n",
              "      <td>1950</td>\n",
              "      <td>0.0</td>\n",
              "      <td>NaN</td>\n",
              "    </tr>\n",
              "    <tr>\n",
              "      <th>c</th>\n",
              "      <td>M</td>\n",
              "      <td>3000000.0</td>\n",
              "      <td>2000</td>\n",
              "      <td>2.0</td>\n",
              "      <td>NaN</td>\n",
              "    </tr>\n",
              "    <tr>\n",
              "      <th>d</th>\n",
              "      <td>B</td>\n",
              "      <td>500000.0</td>\n",
              "      <td>1900</td>\n",
              "      <td>0.5</td>\n",
              "      <td>NaN</td>\n",
              "    </tr>\n",
              "    <tr>\n",
              "      <th>e</th>\n",
              "      <td>B</td>\n",
              "      <td>1500000.0</td>\n",
              "      <td>2000</td>\n",
              "      <td>0.7</td>\n",
              "      <td>NaN</td>\n",
              "    </tr>\n",
              "  </tbody>\n",
              "</table>\n",
              "</div>"
            ],
            "text/plain": [
              "  province  population  year  debt  2nd_language\n",
              "a        M   1500000.0  1900   1.0           NaN\n",
              "b        M   2000000.0  1950   0.0           NaN\n",
              "c        M   3000000.0  2000   2.0           NaN\n",
              "d        B    500000.0  1900   0.5           NaN\n",
              "e        B   1500000.0  2000   0.7           NaN"
            ]
          },
          "execution_count": 146,
          "metadata": {},
          "output_type": "execute_result"
        }
      ],
      "source": [
        "df3"
      ]
    },
    {
      "cell_type": "code",
      "execution_count": null,
      "metadata": {
        "id": "z2iAOa8QqkBf",
        "outputId": "16cc29e2-4bb7-4e36-c6c9-19472354f42f"
      },
      "outputs": [
        {
          "data": {
            "text/plain": [
              "a    1224.744871\n",
              "b    1414.213562\n",
              "c    1732.050808\n",
              "d     707.106781\n",
              "e    1224.744871\n",
              "Name: population, dtype: float64"
            ]
          },
          "execution_count": 147,
          "metadata": {},
          "output_type": "execute_result"
        }
      ],
      "source": [
        "np.sqrt(df3['population'])"
      ]
    },
    {
      "cell_type": "code",
      "execution_count": null,
      "metadata": {
        "id": "eHT2wCUpqkBf",
        "outputId": "dcd204d4-47e9-4c65-847e-c8c020463e6b"
      },
      "outputs": [
        {
          "data": {
            "text/html": [
              "<div>\n",
              "<style>\n",
              "    .dataframe thead tr:only-child th {\n",
              "        text-align: right;\n",
              "    }\n",
              "\n",
              "    .dataframe thead th {\n",
              "        text-align: left;\n",
              "    }\n",
              "\n",
              "    .dataframe tbody tr th {\n",
              "        vertical-align: top;\n",
              "    }\n",
              "</style>\n",
              "<table border=\"1\" class=\"dataframe\">\n",
              "  <thead>\n",
              "    <tr style=\"text-align: right;\">\n",
              "      <th></th>\n",
              "      <th>b</th>\n",
              "      <th>d</th>\n",
              "      <th>e</th>\n",
              "    </tr>\n",
              "  </thead>\n",
              "  <tbody>\n",
              "    <tr>\n",
              "      <th>B</th>\n",
              "      <td>16.163299</td>\n",
              "      <td>18.014108</td>\n",
              "      <td>11.478479</td>\n",
              "    </tr>\n",
              "    <tr>\n",
              "      <th>M</th>\n",
              "      <td>32.397748</td>\n",
              "      <td>-1.460602</td>\n",
              "      <td>-7.034481</td>\n",
              "    </tr>\n",
              "    <tr>\n",
              "      <th>P</th>\n",
              "      <td>-5.880499</td>\n",
              "      <td>15.338894</td>\n",
              "      <td>-3.795441</td>\n",
              "    </tr>\n",
              "    <tr>\n",
              "      <th>Z</th>\n",
              "      <td>21.736302</td>\n",
              "      <td>22.656725</td>\n",
              "      <td>-12.350687</td>\n",
              "    </tr>\n",
              "  </tbody>\n",
              "</table>\n",
              "</div>"
            ],
            "text/plain": [
              "           b          d          e\n",
              "B  16.163299  18.014108  11.478479\n",
              "M  32.397748  -1.460602  -7.034481\n",
              "P  -5.880499  15.338894  -3.795441\n",
              "Z  21.736302  22.656725 -12.350687"
            ]
          },
          "execution_count": 148,
          "metadata": {},
          "output_type": "execute_result"
        }
      ],
      "source": [
        "df4 = pd.DataFrame(np.random.randn(4,3) * 17 + 15, columns=list('bde'), index=list('BMPZ'))\n",
        "df4"
      ]
    },
    {
      "cell_type": "code",
      "execution_count": null,
      "metadata": {
        "id": "LcgEJnoSqkBf",
        "outputId": "2d41b057-4543-4d74-f9dd-56ce379b1240"
      },
      "outputs": [
        {
          "data": {
            "text/html": [
              "<div>\n",
              "<style>\n",
              "    .dataframe thead tr:only-child th {\n",
              "        text-align: right;\n",
              "    }\n",
              "\n",
              "    .dataframe thead th {\n",
              "        text-align: left;\n",
              "    }\n",
              "\n",
              "    .dataframe tbody tr th {\n",
              "        vertical-align: top;\n",
              "    }\n",
              "</style>\n",
              "<table border=\"1\" class=\"dataframe\">\n",
              "  <thead>\n",
              "    <tr style=\"text-align: right;\">\n",
              "      <th></th>\n",
              "      <th>b</th>\n",
              "      <th>d</th>\n",
              "      <th>e</th>\n",
              "    </tr>\n",
              "  </thead>\n",
              "  <tbody>\n",
              "    <tr>\n",
              "      <th>B</th>\n",
              "      <td>16.163299</td>\n",
              "      <td>18.014108</td>\n",
              "      <td>11.478479</td>\n",
              "    </tr>\n",
              "    <tr>\n",
              "      <th>M</th>\n",
              "      <td>32.397748</td>\n",
              "      <td>1.460602</td>\n",
              "      <td>7.034481</td>\n",
              "    </tr>\n",
              "    <tr>\n",
              "      <th>P</th>\n",
              "      <td>5.880499</td>\n",
              "      <td>15.338894</td>\n",
              "      <td>3.795441</td>\n",
              "    </tr>\n",
              "    <tr>\n",
              "      <th>Z</th>\n",
              "      <td>21.736302</td>\n",
              "      <td>22.656725</td>\n",
              "      <td>12.350687</td>\n",
              "    </tr>\n",
              "  </tbody>\n",
              "</table>\n",
              "</div>"
            ],
            "text/plain": [
              "           b          d          e\n",
              "B  16.163299  18.014108  11.478479\n",
              "M  32.397748   1.460602   7.034481\n",
              "P   5.880499  15.338894   3.795441\n",
              "Z  21.736302  22.656725  12.350687"
            ]
          },
          "execution_count": 149,
          "metadata": {},
          "output_type": "execute_result"
        }
      ],
      "source": [
        "np.abs(df4)"
      ]
    },
    {
      "cell_type": "markdown",
      "metadata": {
        "id": "hv2lnYlEqkBg"
      },
      "source": [
        "This is a typical use case for lambdas (anonymous functions)"
      ]
    },
    {
      "cell_type": "code",
      "execution_count": null,
      "metadata": {
        "id": "1LNBQUGMqkBg",
        "outputId": "d4cd8234-15dd-4eba-9f2c-4ec591049eed"
      },
      "outputs": [
        {
          "data": {
            "text/plain": [
              "b    38.278247\n",
              "d    24.117328\n",
              "e    23.829166\n",
              "dtype: float64"
            ]
          },
          "execution_count": 150,
          "metadata": {},
          "output_type": "execute_result"
        }
      ],
      "source": [
        "df4.apply(lambda series: series.max() - series.min())"
      ]
    },
    {
      "cell_type": "code",
      "execution_count": null,
      "metadata": {
        "id": "z9668ntbqkBg",
        "outputId": "d629072f-308a-4ed5-8f00-488a293f1bf2"
      },
      "outputs": [
        {
          "data": {
            "text/html": [
              "<div>\n",
              "<style>\n",
              "    .dataframe thead tr:only-child th {\n",
              "        text-align: right;\n",
              "    }\n",
              "\n",
              "    .dataframe thead th {\n",
              "        text-align: left;\n",
              "    }\n",
              "\n",
              "    .dataframe tbody tr th {\n",
              "        vertical-align: top;\n",
              "    }\n",
              "</style>\n",
              "<table border=\"1\" class=\"dataframe\">\n",
              "  <thead>\n",
              "    <tr style=\"text-align: right;\">\n",
              "      <th></th>\n",
              "      <th>b</th>\n",
              "      <th>d</th>\n",
              "      <th>e</th>\n",
              "    </tr>\n",
              "  </thead>\n",
              "  <tbody>\n",
              "    <tr>\n",
              "      <th>B</th>\n",
              "      <td>6.163299</td>\n",
              "      <td>8.014108</td>\n",
              "      <td>1.478479</td>\n",
              "    </tr>\n",
              "    <tr>\n",
              "      <th>M</th>\n",
              "      <td>2.397748</td>\n",
              "      <td>8.539398</td>\n",
              "      <td>2.965519</td>\n",
              "    </tr>\n",
              "    <tr>\n",
              "      <th>P</th>\n",
              "      <td>4.119501</td>\n",
              "      <td>5.338894</td>\n",
              "      <td>6.204559</td>\n",
              "    </tr>\n",
              "    <tr>\n",
              "      <th>Z</th>\n",
              "      <td>1.736302</td>\n",
              "      <td>2.656725</td>\n",
              "      <td>7.649313</td>\n",
              "    </tr>\n",
              "  </tbody>\n",
              "</table>\n",
              "</div>"
            ],
            "text/plain": [
              "          b         d         e\n",
              "B  6.163299  8.014108  1.478479\n",
              "M  2.397748  8.539398  2.965519\n",
              "P  4.119501  5.338894  6.204559\n",
              "Z  1.736302  2.656725  7.649313"
            ]
          },
          "execution_count": 151,
          "metadata": {},
          "output_type": "execute_result"
        }
      ],
      "source": [
        "df4.applymap(lambda element: element % 10 )"
      ]
    },
    {
      "cell_type": "code",
      "execution_count": null,
      "metadata": {
        "id": "uy_VVe5CqkBh",
        "outputId": "75ee3bdd-d3d8-4b4f-e58b-c7755992e21e"
      },
      "outputs": [
        {
          "data": {
            "text/plain": [
              "B     6.535629\n",
              "M    39.432229\n",
              "P    21.219393\n",
              "Z    35.007412\n",
              "dtype: float64"
            ]
          },
          "execution_count": 152,
          "metadata": {},
          "output_type": "execute_result"
        }
      ],
      "source": [
        "df4.apply(lambda series: series.max() - series.min(), axis=1)"
      ]
    },
    {
      "cell_type": "code",
      "execution_count": null,
      "metadata": {
        "id": "6Oi7leqcqkBh",
        "outputId": "bde3d0bb-fe20-434e-ca7b-7ae06f16b83a"
      },
      "outputs": [
        {
          "data": {
            "text/html": [
              "<div>\n",
              "<style>\n",
              "    .dataframe thead tr:only-child th {\n",
              "        text-align: right;\n",
              "    }\n",
              "\n",
              "    .dataframe thead th {\n",
              "        text-align: left;\n",
              "    }\n",
              "\n",
              "    .dataframe tbody tr th {\n",
              "        vertical-align: top;\n",
              "    }\n",
              "</style>\n",
              "<table border=\"1\" class=\"dataframe\">\n",
              "  <thead>\n",
              "    <tr style=\"text-align: right;\">\n",
              "      <th></th>\n",
              "      <th>b</th>\n",
              "      <th>d</th>\n",
              "      <th>e</th>\n",
              "    </tr>\n",
              "  </thead>\n",
              "  <tbody>\n",
              "    <tr>\n",
              "      <th>max</th>\n",
              "      <td>32.397748</td>\n",
              "      <td>22.656725</td>\n",
              "      <td>11.478479</td>\n",
              "    </tr>\n",
              "    <tr>\n",
              "      <th>min</th>\n",
              "      <td>-5.880499</td>\n",
              "      <td>-1.460602</td>\n",
              "      <td>-12.350687</td>\n",
              "    </tr>\n",
              "  </tbody>\n",
              "</table>\n",
              "</div>"
            ],
            "text/plain": [
              "             b          d          e\n",
              "max  32.397748  22.656725  11.478479\n",
              "min  -5.880499  -1.460602 -12.350687"
            ]
          },
          "execution_count": 153,
          "metadata": {},
          "output_type": "execute_result"
        }
      ],
      "source": [
        "def f(series):\n",
        "    return pd.Series([series.max(), series.min()], index=['max', 'min'])\n",
        "\n",
        "df4.apply(f)"
      ]
    },
    {
      "cell_type": "code",
      "execution_count": null,
      "metadata": {
        "id": "Sliy_O-YqkBi",
        "outputId": "0f90db97-6246-445b-9436-a0cd35d619ad"
      },
      "outputs": [
        {
          "name": "stdout",
          "output_type": "stream",
          "text": [
            "('b', B    16.163299\n",
            "M    32.397748\n",
            "P    -5.880499\n",
            "Z    21.736302\n",
            "Name: b, dtype: float64)\n",
            "('d', B    18.014108\n",
            "M    -1.460602\n",
            "P    15.338894\n",
            "Z    22.656725\n",
            "Name: d, dtype: float64)\n",
            "('e', B    11.478479\n",
            "M    -7.034481\n",
            "P    -3.795441\n",
            "Z   -12.350687\n",
            "Name: e, dtype: float64)\n"
          ]
        }
      ],
      "source": [
        "for item in df4.items():\n",
        "    print(item)"
      ]
    },
    {
      "cell_type": "code",
      "execution_count": null,
      "metadata": {
        "id": "cOebggcSqkBi",
        "outputId": "224176c7-6c13-4a2e-b4c1-f04325cdab3c"
      },
      "outputs": [
        {
          "name": "stdout",
          "output_type": "stream",
          "text": [
            "('b', B    16.163299\n",
            "M    32.397748\n",
            "P    -5.880499\n",
            "Z    21.736302\n",
            "Name: b, dtype: float64)\n",
            "('d', B    18.014108\n",
            "M    -1.460602\n",
            "P    15.338894\n",
            "Z    22.656725\n",
            "Name: d, dtype: float64)\n",
            "('e', B    11.478479\n",
            "M    -7.034481\n",
            "P    -3.795441\n",
            "Z   -12.350687\n",
            "Name: e, dtype: float64)\n"
          ]
        }
      ],
      "source": [
        "for item in df4.iteritems():\n",
        "    print(item)"
      ]
    },
    {
      "cell_type": "code",
      "execution_count": null,
      "metadata": {
        "id": "yRy6MFk2qkBi",
        "outputId": "4a098764-8fea-4a96-f2c0-3c1b474187ea"
      },
      "outputs": [
        {
          "data": {
            "text/plain": [
              "<map at 0x7f22108da358>"
            ]
          },
          "execution_count": 156,
          "metadata": {},
          "output_type": "execute_result"
        }
      ],
      "source": [
        "map(f, [1,2])"
      ]
    },
    {
      "cell_type": "code",
      "execution_count": null,
      "metadata": {
        "collapsed": true,
        "id": "ZHe26tw0qkBi"
      },
      "outputs": [],
      "source": [
        "def format_2digits(number):\n",
        "    return '%.2f' % number"
      ]
    },
    {
      "cell_type": "code",
      "execution_count": null,
      "metadata": {
        "id": "818M2tfTqkBi",
        "outputId": "6e6d61de-8317-4cd7-9249-599a5113ee97"
      },
      "outputs": [
        {
          "data": {
            "text/html": [
              "<div>\n",
              "<style>\n",
              "    .dataframe thead tr:only-child th {\n",
              "        text-align: right;\n",
              "    }\n",
              "\n",
              "    .dataframe thead th {\n",
              "        text-align: left;\n",
              "    }\n",
              "\n",
              "    .dataframe tbody tr th {\n",
              "        vertical-align: top;\n",
              "    }\n",
              "</style>\n",
              "<table border=\"1\" class=\"dataframe\">\n",
              "  <thead>\n",
              "    <tr style=\"text-align: right;\">\n",
              "      <th></th>\n",
              "      <th>b</th>\n",
              "      <th>d</th>\n",
              "      <th>e</th>\n",
              "    </tr>\n",
              "  </thead>\n",
              "  <tbody>\n",
              "    <tr>\n",
              "      <th>B</th>\n",
              "      <td>16.16</td>\n",
              "      <td>18.01</td>\n",
              "      <td>11.48</td>\n",
              "    </tr>\n",
              "    <tr>\n",
              "      <th>M</th>\n",
              "      <td>32.40</td>\n",
              "      <td>-1.46</td>\n",
              "      <td>-7.03</td>\n",
              "    </tr>\n",
              "    <tr>\n",
              "      <th>P</th>\n",
              "      <td>-5.88</td>\n",
              "      <td>15.34</td>\n",
              "      <td>-3.80</td>\n",
              "    </tr>\n",
              "    <tr>\n",
              "      <th>Z</th>\n",
              "      <td>21.74</td>\n",
              "      <td>22.66</td>\n",
              "      <td>-12.35</td>\n",
              "    </tr>\n",
              "  </tbody>\n",
              "</table>\n",
              "</div>"
            ],
            "text/plain": [
              "       b      d       e\n",
              "B  16.16  18.01   11.48\n",
              "M  32.40  -1.46   -7.03\n",
              "P  -5.88  15.34   -3.80\n",
              "Z  21.74  22.66  -12.35"
            ]
          },
          "execution_count": 158,
          "metadata": {},
          "output_type": "execute_result"
        }
      ],
      "source": [
        "df4.applymap(format_2digits)"
      ]
    },
    {
      "cell_type": "markdown",
      "metadata": {
        "id": "SG7y2MNQqkBi"
      },
      "source": [
        "### Sorting and ranking"
      ]
    },
    {
      "cell_type": "code",
      "execution_count": null,
      "metadata": {
        "id": "VyF8ybdoqkBi",
        "outputId": "d796a100-853f-4e10-bad5-7c2ea953bacb"
      },
      "outputs": [
        {
          "data": {
            "text/html": [
              "<div>\n",
              "<style>\n",
              "    .dataframe thead tr:only-child th {\n",
              "        text-align: right;\n",
              "    }\n",
              "\n",
              "    .dataframe thead th {\n",
              "        text-align: left;\n",
              "    }\n",
              "\n",
              "    .dataframe tbody tr th {\n",
              "        vertical-align: top;\n",
              "    }\n",
              "</style>\n",
              "<table border=\"1\" class=\"dataframe\">\n",
              "  <thead>\n",
              "    <tr style=\"text-align: right;\">\n",
              "      <th></th>\n",
              "      <th>b</th>\n",
              "      <th>d</th>\n",
              "      <th>e</th>\n",
              "    </tr>\n",
              "  </thead>\n",
              "  <tbody>\n",
              "    <tr>\n",
              "      <th>Z</th>\n",
              "      <td>21.736302</td>\n",
              "      <td>22.656725</td>\n",
              "      <td>-12.350687</td>\n",
              "    </tr>\n",
              "    <tr>\n",
              "      <th>P</th>\n",
              "      <td>-5.880499</td>\n",
              "      <td>15.338894</td>\n",
              "      <td>-3.795441</td>\n",
              "    </tr>\n",
              "    <tr>\n",
              "      <th>M</th>\n",
              "      <td>32.397748</td>\n",
              "      <td>-1.460602</td>\n",
              "      <td>-7.034481</td>\n",
              "    </tr>\n",
              "    <tr>\n",
              "      <th>B</th>\n",
              "      <td>16.163299</td>\n",
              "      <td>18.014108</td>\n",
              "      <td>11.478479</td>\n",
              "    </tr>\n",
              "  </tbody>\n",
              "</table>\n",
              "</div>"
            ],
            "text/plain": [
              "           b          d          e\n",
              "Z  21.736302  22.656725 -12.350687\n",
              "P  -5.880499  15.338894  -3.795441\n",
              "M  32.397748  -1.460602  -7.034481\n",
              "B  16.163299  18.014108  11.478479"
            ]
          },
          "execution_count": 159,
          "metadata": {},
          "output_type": "execute_result"
        }
      ],
      "source": [
        "df4.sort_index(ascending=False)"
      ]
    },
    {
      "cell_type": "code",
      "execution_count": null,
      "metadata": {
        "id": "eIHFBLQTqkBj",
        "outputId": "8f3b3768-2366-4f55-d85e-94d70b42b477"
      },
      "outputs": [
        {
          "data": {
            "text/html": [
              "<div>\n",
              "<style>\n",
              "    .dataframe thead tr:only-child th {\n",
              "        text-align: right;\n",
              "    }\n",
              "\n",
              "    .dataframe thead th {\n",
              "        text-align: left;\n",
              "    }\n",
              "\n",
              "    .dataframe tbody tr th {\n",
              "        vertical-align: top;\n",
              "    }\n",
              "</style>\n",
              "<table border=\"1\" class=\"dataframe\">\n",
              "  <thead>\n",
              "    <tr style=\"text-align: right;\">\n",
              "      <th></th>\n",
              "      <th>e</th>\n",
              "      <th>d</th>\n",
              "      <th>b</th>\n",
              "    </tr>\n",
              "  </thead>\n",
              "  <tbody>\n",
              "    <tr>\n",
              "      <th>B</th>\n",
              "      <td>11.478479</td>\n",
              "      <td>18.014108</td>\n",
              "      <td>16.163299</td>\n",
              "    </tr>\n",
              "    <tr>\n",
              "      <th>M</th>\n",
              "      <td>-7.034481</td>\n",
              "      <td>-1.460602</td>\n",
              "      <td>32.397748</td>\n",
              "    </tr>\n",
              "    <tr>\n",
              "      <th>P</th>\n",
              "      <td>-3.795441</td>\n",
              "      <td>15.338894</td>\n",
              "      <td>-5.880499</td>\n",
              "    </tr>\n",
              "    <tr>\n",
              "      <th>Z</th>\n",
              "      <td>-12.350687</td>\n",
              "      <td>22.656725</td>\n",
              "      <td>21.736302</td>\n",
              "    </tr>\n",
              "  </tbody>\n",
              "</table>\n",
              "</div>"
            ],
            "text/plain": [
              "           e          d          b\n",
              "B  11.478479  18.014108  16.163299\n",
              "M  -7.034481  -1.460602  32.397748\n",
              "P  -3.795441  15.338894  -5.880499\n",
              "Z -12.350687  22.656725  21.736302"
            ]
          },
          "execution_count": 160,
          "metadata": {},
          "output_type": "execute_result"
        }
      ],
      "source": [
        "df4.sort_index(ascending=False, axis=1)"
      ]
    },
    {
      "cell_type": "code",
      "execution_count": null,
      "metadata": {
        "id": "sH15CPlIqkBk",
        "outputId": "37a6afa2-f232-43c1-9c8a-2b749885bc46"
      },
      "outputs": [
        {
          "data": {
            "text/html": [
              "<div>\n",
              "<style>\n",
              "    .dataframe thead tr:only-child th {\n",
              "        text-align: right;\n",
              "    }\n",
              "\n",
              "    .dataframe thead th {\n",
              "        text-align: left;\n",
              "    }\n",
              "\n",
              "    .dataframe tbody tr th {\n",
              "        vertical-align: top;\n",
              "    }\n",
              "</style>\n",
              "<table border=\"1\" class=\"dataframe\">\n",
              "  <thead>\n",
              "    <tr style=\"text-align: right;\">\n",
              "      <th></th>\n",
              "      <th>b</th>\n",
              "      <th>d</th>\n",
              "      <th>e</th>\n",
              "    </tr>\n",
              "  </thead>\n",
              "  <tbody>\n",
              "    <tr>\n",
              "      <th>Z</th>\n",
              "      <td>21.736302</td>\n",
              "      <td>22.656725</td>\n",
              "      <td>-12.350687</td>\n",
              "    </tr>\n",
              "    <tr>\n",
              "      <th>M</th>\n",
              "      <td>32.397748</td>\n",
              "      <td>-1.460602</td>\n",
              "      <td>-7.034481</td>\n",
              "    </tr>\n",
              "    <tr>\n",
              "      <th>P</th>\n",
              "      <td>-5.880499</td>\n",
              "      <td>15.338894</td>\n",
              "      <td>-3.795441</td>\n",
              "    </tr>\n",
              "    <tr>\n",
              "      <th>B</th>\n",
              "      <td>16.163299</td>\n",
              "      <td>18.014108</td>\n",
              "      <td>11.478479</td>\n",
              "    </tr>\n",
              "  </tbody>\n",
              "</table>\n",
              "</div>"
            ],
            "text/plain": [
              "           b          d          e\n",
              "Z  21.736302  22.656725 -12.350687\n",
              "M  32.397748  -1.460602  -7.034481\n",
              "P  -5.880499  15.338894  -3.795441\n",
              "B  16.163299  18.014108  11.478479"
            ]
          },
          "execution_count": 161,
          "metadata": {},
          "output_type": "execute_result"
        }
      ],
      "source": [
        "df4.sort_values(by='e')"
      ]
    },
    {
      "cell_type": "code",
      "execution_count": null,
      "metadata": {
        "id": "TXOF9R68qkBk",
        "outputId": "0522cc99-cc65-446f-c0c3-a239c1b014d2"
      },
      "outputs": [
        {
          "data": {
            "text/html": [
              "<div>\n",
              "<style>\n",
              "    .dataframe thead tr:only-child th {\n",
              "        text-align: right;\n",
              "    }\n",
              "\n",
              "    .dataframe thead th {\n",
              "        text-align: left;\n",
              "    }\n",
              "\n",
              "    .dataframe tbody tr th {\n",
              "        vertical-align: top;\n",
              "    }\n",
              "</style>\n",
              "<table border=\"1\" class=\"dataframe\">\n",
              "  <thead>\n",
              "    <tr style=\"text-align: right;\">\n",
              "      <th></th>\n",
              "      <th>b</th>\n",
              "      <th>d</th>\n",
              "      <th>e</th>\n",
              "    </tr>\n",
              "  </thead>\n",
              "  <tbody>\n",
              "    <tr>\n",
              "      <th>Z</th>\n",
              "      <td>21.736302</td>\n",
              "      <td>22.656725</td>\n",
              "      <td>-12.350687</td>\n",
              "    </tr>\n",
              "    <tr>\n",
              "      <th>M</th>\n",
              "      <td>32.397748</td>\n",
              "      <td>-1.460602</td>\n",
              "      <td>-7.034481</td>\n",
              "    </tr>\n",
              "    <tr>\n",
              "      <th>P</th>\n",
              "      <td>-5.880499</td>\n",
              "      <td>15.338894</td>\n",
              "      <td>-3.795441</td>\n",
              "    </tr>\n",
              "    <tr>\n",
              "      <th>B</th>\n",
              "      <td>16.163299</td>\n",
              "      <td>18.014108</td>\n",
              "      <td>11.478479</td>\n",
              "    </tr>\n",
              "  </tbody>\n",
              "</table>\n",
              "</div>"
            ],
            "text/plain": [
              "           b          d          e\n",
              "Z  21.736302  22.656725 -12.350687\n",
              "M  32.397748  -1.460602  -7.034481\n",
              "P  -5.880499  15.338894  -3.795441\n",
              "B  16.163299  18.014108  11.478479"
            ]
          },
          "execution_count": 162,
          "metadata": {},
          "output_type": "execute_result"
        }
      ],
      "source": [
        "df4.sort_values(by=['e','b'])"
      ]
    },
    {
      "cell_type": "code",
      "execution_count": null,
      "metadata": {
        "id": "gCGT209aqkBk",
        "outputId": "4e26819e-222d-4cf7-cc7c-3fec95ad98eb"
      },
      "outputs": [
        {
          "data": {
            "text/plain": [
              "a    2\n",
              "b    3\n",
              "c    8\n",
              "d    4\n",
              "e    3\n",
              "f    2\n",
              "g    1\n",
              "dtype: int64"
            ]
          },
          "execution_count": 163,
          "metadata": {},
          "output_type": "execute_result"
        }
      ],
      "source": [
        "s1 = pd.Series([2,3,8,4,3,2,1], index=list('abcdefg'))\n",
        "s1"
      ]
    },
    {
      "cell_type": "code",
      "execution_count": null,
      "metadata": {
        "id": "OSvoVDvcqkBl",
        "outputId": "8bd777ed-d606-4705-d8da-bf5f438a353d"
      },
      "outputs": [
        {
          "data": {
            "text/plain": [
              "g    1\n",
              "a    2\n",
              "f    2\n",
              "b    3\n",
              "e    3\n",
              "d    4\n",
              "c    8\n",
              "dtype: int64"
            ]
          },
          "execution_count": 164,
          "metadata": {},
          "output_type": "execute_result"
        }
      ],
      "source": [
        "s1.sort_values()"
      ]
    },
    {
      "cell_type": "markdown",
      "metadata": {
        "id": "lWP0WX0QqkBl"
      },
      "source": [
        "rank() returns the positions of the elements of the Series in its sorted version. If there are ties, it will take averages."
      ]
    },
    {
      "cell_type": "code",
      "execution_count": null,
      "metadata": {
        "id": "ncW3YSnDqkBm",
        "outputId": "86614fdb-17a2-412d-e033-0ebd228ce83d"
      },
      "outputs": [
        {
          "data": {
            "text/plain": [
              "a    2.5\n",
              "b    4.5\n",
              "c    7.0\n",
              "d    6.0\n",
              "e    4.5\n",
              "f    2.5\n",
              "g    1.0\n",
              "dtype: float64"
            ]
          },
          "execution_count": 165,
          "metadata": {},
          "output_type": "execute_result"
        }
      ],
      "source": [
        "s1.rank()"
      ]
    },
    {
      "cell_type": "code",
      "execution_count": null,
      "metadata": {
        "id": "8ut9txx_qkBm",
        "outputId": "ca15876a-ff1a-4057-8340-41f3f15c0301"
      },
      "outputs": [
        {
          "data": {
            "text/plain": [
              "0    2.0\n",
              "1    2.0\n",
              "2    2.0\n",
              "dtype: float64"
            ]
          },
          "execution_count": 166,
          "metadata": {},
          "output_type": "execute_result"
        }
      ],
      "source": [
        "pd.Series([1,1,1]).rank()"
      ]
    },
    {
      "cell_type": "code",
      "execution_count": null,
      "metadata": {
        "id": "ubtgc7k3qkBn",
        "outputId": "391911ab-ab94-49dd-ccfb-7138e580d302"
      },
      "outputs": [
        {
          "data": {
            "text/plain": [
              "a    30\n",
              "b    10\n",
              "c    20\n",
              "dtype: int64"
            ]
          },
          "execution_count": 167,
          "metadata": {},
          "output_type": "execute_result"
        }
      ],
      "source": [
        "s2 = pd.Series([30,10,20], index=list('abc'))\n",
        "s2"
      ]
    },
    {
      "cell_type": "code",
      "execution_count": null,
      "metadata": {
        "id": "VbAkep7FqkBn",
        "outputId": "51e5ee0b-5807-495c-de31-7bcab162d992"
      },
      "outputs": [
        {
          "data": {
            "text/plain": [
              "a    3.0\n",
              "b    1.0\n",
              "c    2.0\n",
              "dtype: float64"
            ]
          },
          "execution_count": 168,
          "metadata": {},
          "output_type": "execute_result"
        }
      ],
      "source": [
        "s2.rank()"
      ]
    },
    {
      "cell_type": "code",
      "execution_count": null,
      "metadata": {
        "id": "VLvGtmpQqkBo",
        "outputId": "2e4aa2b9-d3e7-4b24-8d1a-78496a206939"
      },
      "outputs": [
        {
          "name": "stdout",
          "output_type": "stream",
          "text": [
            "Help on method rank in module pandas.core.generic:\n",
            "\n",
            "rank(axis=0, method='average', numeric_only=None, na_option='keep', ascending=True, pct=False) method of pandas.core.series.Series instance\n",
            "    Compute numerical data ranks (1 through n) along axis. Equal values are\n",
            "    assigned a rank that is the average of the ranks of those values\n",
            "    \n",
            "    Parameters\n",
            "    ----------\n",
            "    axis : {0 or 'index', 1 or 'columns'}, default 0\n",
            "        index to direct ranking\n",
            "    method : {'average', 'min', 'max', 'first', 'dense'}\n",
            "        * average: average rank of group\n",
            "        * min: lowest rank in group\n",
            "        * max: highest rank in group\n",
            "        * first: ranks assigned in order they appear in the array\n",
            "        * dense: like 'min', but rank always increases by 1 between groups\n",
            "    numeric_only : boolean, default None\n",
            "        Include only float, int, boolean data. Valid only for DataFrame or\n",
            "        Panel objects\n",
            "    na_option : {'keep', 'top', 'bottom'}\n",
            "        * keep: leave NA values where they are\n",
            "        * top: smallest rank if ascending\n",
            "        * bottom: smallest rank if descending\n",
            "    ascending : boolean, default True\n",
            "        False for ranks by high (1) to low (N)\n",
            "    pct : boolean, default False\n",
            "        Computes percentage rank of data\n",
            "    \n",
            "    Returns\n",
            "    -------\n",
            "    ranks : same type as caller\n",
            "\n"
          ]
        }
      ],
      "source": [
        "help(s2.rank)"
      ]
    },
    {
      "cell_type": "markdown",
      "metadata": {
        "id": "vt4wl9shqkBo"
      },
      "source": [
        "# Exercise 1\n",
        "\n",
        "Write a function that takes a Series and returns the top 10% registers. In this case, earners. Test it with this Series:\n",
        "\n",
        "```python\n",
        "salaries = pd.Series([150000, 90000, 120000,30000,10000,5000,40000, 50000, 80000, 35000, 27000,14000, 28000, 22000,25000])\n",
        "```"
      ]
    },
    {
      "cell_type": "markdown",
      "source": [
        "# Exercise 2\n"
      ],
      "metadata": {
        "id": "jflxcaXhrblc"
      }
    },
    {
      "cell_type": "code",
      "execution_count": null,
      "metadata": {
        "collapsed": true,
        "id": "rlhdel9YqkBo"
      },
      "outputs": [],
      "source": [
        "salaries = pd.Series([150000, 90000, 120000,30000,10000,5000,40000, 50000, 80000, 35000, 27000,14000, 28000, 22000,25000])"
      ]
    },
    {
      "cell_type": "code",
      "execution_count": null,
      "metadata": {
        "id": "E8pzowCLqkBp",
        "outputId": "56cb6b54-a190-41f4-cc5a-17e689e60976"
      },
      "outputs": [
        {
          "data": {
            "text/plain": [
              "2    120000\n",
              "0    150000\n",
              "dtype: int64"
            ]
          },
          "execution_count": 171,
          "metadata": {},
          "output_type": "execute_result"
        }
      ],
      "source": [
        "def top_earners(serie):\n",
        "    number_to_extract = round(len(serie) / 10)\n",
        "    return salaries.sort_values()[-number_to_extract:]\n",
        "\n",
        "top_earners(salaries)"
      ]
    },
    {
      "cell_type": "code",
      "execution_count": null,
      "metadata": {
        "id": "HwDlGxDIqkBp",
        "outputId": "ca6ab2d6-e758-4ed6-a5c2-6c9be6e7f454"
      },
      "outputs": [
        {
          "name": "stdout",
          "output_type": "stream",
          "text": [
            "0    150000\n",
            "2    120000\n",
            "dtype: int64\n",
            "0    150000\n",
            "1     90000\n",
            "2    120000\n",
            "dtype: int64\n"
          ]
        }
      ],
      "source": [
        "def top_earners(serie, percentile=0.9):\n",
        "    is_top_earner = serie.rank(pct=True) > percentile\n",
        "    return serie[is_top_earner]\n",
        "\n",
        "print(top_earners(salaries))\n",
        "print(top_earners(salaries, .8))"
      ]
    },
    {
      "cell_type": "markdown",
      "metadata": {
        "id": "ucJE1JFzqkBp"
      },
      "source": [
        "## Summarizing and computing descriptive statistics"
      ]
    },
    {
      "cell_type": "code",
      "execution_count": null,
      "metadata": {
        "id": "VE2eV3rFqkBp",
        "outputId": "13ca6902-44dc-4ff3-fbe7-1c9c1ea7a5e5"
      },
      "outputs": [
        {
          "data": {
            "text/html": [
              "<div>\n",
              "<style>\n",
              "    .dataframe thead tr:only-child th {\n",
              "        text-align: right;\n",
              "    }\n",
              "\n",
              "    .dataframe thead th {\n",
              "        text-align: left;\n",
              "    }\n",
              "\n",
              "    .dataframe tbody tr th {\n",
              "        vertical-align: top;\n",
              "    }\n",
              "</style>\n",
              "<table border=\"1\" class=\"dataframe\">\n",
              "  <thead>\n",
              "    <tr style=\"text-align: right;\">\n",
              "      <th></th>\n",
              "      <th>x</th>\n",
              "      <th>y</th>\n",
              "    </tr>\n",
              "  </thead>\n",
              "  <tbody>\n",
              "    <tr>\n",
              "      <th>a</th>\n",
              "      <td>1.2</td>\n",
              "      <td>5.0</td>\n",
              "    </tr>\n",
              "    <tr>\n",
              "      <th>b</th>\n",
              "      <td>NaN</td>\n",
              "      <td>3.0</td>\n",
              "    </tr>\n",
              "    <tr>\n",
              "      <th>c</th>\n",
              "      <td>4.0</td>\n",
              "      <td>7.0</td>\n",
              "    </tr>\n",
              "    <tr>\n",
              "      <th>d</th>\n",
              "      <td>NaN</td>\n",
              "      <td>NaN</td>\n",
              "    </tr>\n",
              "    <tr>\n",
              "      <th>e</th>\n",
              "      <td>9.0</td>\n",
              "      <td>14.0</td>\n",
              "    </tr>\n",
              "  </tbody>\n",
              "</table>\n",
              "</div>"
            ],
            "text/plain": [
              "     x     y\n",
              "a  1.2   5.0\n",
              "b  NaN   3.0\n",
              "c  4.0   7.0\n",
              "d  NaN   NaN\n",
              "e  9.0  14.0"
            ]
          },
          "execution_count": 173,
          "metadata": {},
          "output_type": "execute_result"
        }
      ],
      "source": [
        "x = pd.Series([1.2, np.nan, 4, np.nan, 9], index=list('abcde'))\n",
        "y = pd.Series([5, 3, 7, np.nan, 14], index=list('abcde'))\n",
        "\n",
        "df = pd.DataFrame([x, y], index=['x','y']).T\n",
        "df"
      ]
    },
    {
      "cell_type": "code",
      "execution_count": null,
      "metadata": {
        "id": "fOy7_XEvqkBq",
        "outputId": "7ae28116-c9ca-42b9-e92c-d9d64370a126"
      },
      "outputs": [
        {
          "data": {
            "text/plain": [
              "x    14.2\n",
              "y    29.0\n",
              "dtype: float64"
            ]
          },
          "execution_count": 174,
          "metadata": {},
          "output_type": "execute_result"
        }
      ],
      "source": [
        "df.sum()"
      ]
    },
    {
      "cell_type": "markdown",
      "metadata": {
        "id": "mjMJ23VlqkBq"
      },
      "source": [
        "As with many methods, we can use them in the direction perpendicular to their default."
      ]
    },
    {
      "cell_type": "code",
      "execution_count": null,
      "metadata": {
        "id": "TCq4o2d7qkBq",
        "outputId": "32f76577-7100-4c95-c479-430a810d2a9a"
      },
      "outputs": [
        {
          "data": {
            "text/plain": [
              "a     6.2\n",
              "b     3.0\n",
              "c    11.0\n",
              "d     NaN\n",
              "e    23.0\n",
              "dtype: float64"
            ]
          },
          "execution_count": 175,
          "metadata": {},
          "output_type": "execute_result"
        }
      ],
      "source": [
        "df.sum(axis=1)"
      ]
    },
    {
      "cell_type": "code",
      "execution_count": null,
      "metadata": {
        "id": "oUqJx50FqkBq",
        "outputId": "888a69d5-3bdd-4057-a78c-db177c58f576"
      },
      "outputs": [
        {
          "data": {
            "text/plain": [
              "'0.20.3'"
            ]
          },
          "execution_count": 176,
          "metadata": {},
          "output_type": "execute_result"
        }
      ],
      "source": [
        "pd.__version__"
      ]
    },
    {
      "cell_type": "code",
      "execution_count": null,
      "metadata": {
        "id": "uT2WAnOUqkBr",
        "outputId": "b64298ca-4cde-4c2e-f9e8-e7aa170bc911"
      },
      "outputs": [
        {
          "data": {
            "text/plain": [
              "a     6.2\n",
              "b     NaN\n",
              "c    11.0\n",
              "d     NaN\n",
              "e    23.0\n",
              "dtype: float64"
            ]
          },
          "execution_count": 177,
          "metadata": {},
          "output_type": "execute_result"
        }
      ],
      "source": [
        "df.sum(axis=1, skipna=False)"
      ]
    },
    {
      "cell_type": "code",
      "execution_count": null,
      "metadata": {
        "id": "DHORwukOqkBr",
        "outputId": "a01f49a5-2d54-415b-bbdc-1de8f9ba14c9"
      },
      "outputs": [
        {
          "data": {
            "text/plain": [
              "x    4.733333\n",
              "y    7.250000\n",
              "dtype: float64"
            ]
          },
          "execution_count": 178,
          "metadata": {},
          "output_type": "execute_result"
        }
      ],
      "source": [
        "df.mean()"
      ]
    },
    {
      "cell_type": "code",
      "execution_count": null,
      "metadata": {
        "id": "eNst2lmaqkBr",
        "outputId": "3652f987-7bdd-4a9c-d29b-6dbdf561ba12"
      },
      "outputs": [
        {
          "data": {
            "text/plain": [
              "a     3.1\n",
              "b     3.0\n",
              "c     5.5\n",
              "d     NaN\n",
              "e    11.5\n",
              "dtype: float64"
            ]
          },
          "execution_count": 179,
          "metadata": {},
          "output_type": "execute_result"
        }
      ],
      "source": [
        "df.mean(axis=1)"
      ]
    },
    {
      "cell_type": "code",
      "execution_count": null,
      "metadata": {
        "id": "ol_U1sQxqkBr",
        "outputId": "0e269067-0c40-4f4f-cb1c-87c7a5661176"
      },
      "outputs": [
        {
          "data": {
            "text/html": [
              "<div>\n",
              "<style>\n",
              "    .dataframe thead tr:only-child th {\n",
              "        text-align: right;\n",
              "    }\n",
              "\n",
              "    .dataframe thead th {\n",
              "        text-align: left;\n",
              "    }\n",
              "\n",
              "    .dataframe tbody tr th {\n",
              "        vertical-align: top;\n",
              "    }\n",
              "</style>\n",
              "<table border=\"1\" class=\"dataframe\">\n",
              "  <thead>\n",
              "    <tr style=\"text-align: right;\">\n",
              "      <th></th>\n",
              "      <th>x</th>\n",
              "      <th>y</th>\n",
              "    </tr>\n",
              "  </thead>\n",
              "  <tbody>\n",
              "    <tr>\n",
              "      <th>a</th>\n",
              "      <td>1.2</td>\n",
              "      <td>5.0</td>\n",
              "    </tr>\n",
              "    <tr>\n",
              "      <th>b</th>\n",
              "      <td>NaN</td>\n",
              "      <td>8.0</td>\n",
              "    </tr>\n",
              "    <tr>\n",
              "      <th>c</th>\n",
              "      <td>5.2</td>\n",
              "      <td>15.0</td>\n",
              "    </tr>\n",
              "    <tr>\n",
              "      <th>d</th>\n",
              "      <td>NaN</td>\n",
              "      <td>NaN</td>\n",
              "    </tr>\n",
              "    <tr>\n",
              "      <th>e</th>\n",
              "      <td>14.2</td>\n",
              "      <td>29.0</td>\n",
              "    </tr>\n",
              "  </tbody>\n",
              "</table>\n",
              "</div>"
            ],
            "text/plain": [
              "      x     y\n",
              "a   1.2   5.0\n",
              "b   NaN   8.0\n",
              "c   5.2  15.0\n",
              "d   NaN   NaN\n",
              "e  14.2  29.0"
            ]
          },
          "execution_count": 180,
          "metadata": {},
          "output_type": "execute_result"
        }
      ],
      "source": [
        "df.cumsum()\n"
      ]
    },
    {
      "cell_type": "code",
      "execution_count": null,
      "metadata": {
        "id": "jZzFdeMWqkBr",
        "outputId": "33c45818-46bc-4c92-ceb0-d45d6b958ccc"
      },
      "outputs": [
        {
          "data": {
            "text/plain": [
              "x    3.951371\n",
              "y    4.787136\n",
              "dtype: float64"
            ]
          },
          "execution_count": 181,
          "metadata": {},
          "output_type": "execute_result"
        }
      ],
      "source": [
        "df.std()"
      ]
    },
    {
      "cell_type": "code",
      "execution_count": null,
      "metadata": {
        "id": "GnQVSubdqkBr",
        "outputId": "7602792c-c912-4166-b775-0dee99185efe"
      },
      "outputs": [
        {
          "data": {
            "text/html": [
              "<div>\n",
              "<style>\n",
              "    .dataframe thead tr:only-child th {\n",
              "        text-align: right;\n",
              "    }\n",
              "\n",
              "    .dataframe thead th {\n",
              "        text-align: left;\n",
              "    }\n",
              "\n",
              "    .dataframe tbody tr th {\n",
              "        vertical-align: top;\n",
              "    }\n",
              "</style>\n",
              "<table border=\"1\" class=\"dataframe\">\n",
              "  <thead>\n",
              "    <tr style=\"text-align: right;\">\n",
              "      <th></th>\n",
              "      <th>x</th>\n",
              "      <th>y</th>\n",
              "    </tr>\n",
              "  </thead>\n",
              "  <tbody>\n",
              "    <tr>\n",
              "      <th>count</th>\n",
              "      <td>3.000000</td>\n",
              "      <td>4.000000</td>\n",
              "    </tr>\n",
              "    <tr>\n",
              "      <th>mean</th>\n",
              "      <td>4.733333</td>\n",
              "      <td>7.250000</td>\n",
              "    </tr>\n",
              "    <tr>\n",
              "      <th>std</th>\n",
              "      <td>3.951371</td>\n",
              "      <td>4.787136</td>\n",
              "    </tr>\n",
              "    <tr>\n",
              "      <th>min</th>\n",
              "      <td>1.200000</td>\n",
              "      <td>3.000000</td>\n",
              "    </tr>\n",
              "    <tr>\n",
              "      <th>25%</th>\n",
              "      <td>2.600000</td>\n",
              "      <td>4.500000</td>\n",
              "    </tr>\n",
              "    <tr>\n",
              "      <th>50%</th>\n",
              "      <td>4.000000</td>\n",
              "      <td>6.000000</td>\n",
              "    </tr>\n",
              "    <tr>\n",
              "      <th>75%</th>\n",
              "      <td>6.500000</td>\n",
              "      <td>8.750000</td>\n",
              "    </tr>\n",
              "    <tr>\n",
              "      <th>max</th>\n",
              "      <td>9.000000</td>\n",
              "      <td>14.000000</td>\n",
              "    </tr>\n",
              "  </tbody>\n",
              "</table>\n",
              "</div>"
            ],
            "text/plain": [
              "              x          y\n",
              "count  3.000000   4.000000\n",
              "mean   4.733333   7.250000\n",
              "std    3.951371   4.787136\n",
              "min    1.200000   3.000000\n",
              "25%    2.600000   4.500000\n",
              "50%    4.000000   6.000000\n",
              "75%    6.500000   8.750000\n",
              "max    9.000000  14.000000"
            ]
          },
          "execution_count": 182,
          "metadata": {},
          "output_type": "execute_result"
        }
      ],
      "source": [
        "df.describe()"
      ]
    },
    {
      "cell_type": "code",
      "execution_count": null,
      "metadata": {
        "id": "GkxLrC8wqkBs",
        "outputId": "ba719383-7dea-442a-eb4e-fc779d45ab8c"
      },
      "outputs": [
        {
          "data": {
            "text/plain": [
              "14.199999999999999"
            ]
          },
          "execution_count": 183,
          "metadata": {},
          "output_type": "execute_result"
        }
      ],
      "source": [
        "df['x'].sum()"
      ]
    },
    {
      "cell_type": "code",
      "execution_count": null,
      "metadata": {
        "id": "OHbMQNpiqkBs",
        "outputId": "a6928768-12e5-4390-9f53-91b9393d51c5"
      },
      "outputs": [
        {
          "data": {
            "text/plain": [
              "count    3.000000\n",
              "mean     4.733333\n",
              "std      3.951371\n",
              "min      1.200000\n",
              "25%      2.600000\n",
              "50%      4.000000\n",
              "75%      6.500000\n",
              "max      9.000000\n",
              "Name: x, dtype: float64"
            ]
          },
          "execution_count": 184,
          "metadata": {},
          "output_type": "execute_result"
        }
      ],
      "source": [
        "df['x'].describe()"
      ]
    },
    {
      "cell_type": "markdown",
      "metadata": {
        "id": "2qoqLCyYqkBs"
      },
      "source": [
        "### Unique values, value counts, and membership"
      ]
    },
    {
      "cell_type": "code",
      "execution_count": null,
      "metadata": {
        "id": "9KLoPMRgqkBs",
        "outputId": "669ff8aa-e5ca-4929-8158-3e77c3c53eeb"
      },
      "outputs": [
        {
          "data": {
            "text/plain": [
              "0     g\n",
              "1     t\n",
              "2     c\n",
              "3     a\n",
              "4     a\n",
              "5     a\n",
              "6     g\n",
              "7     c\n",
              "8     t\n",
              "9     t\n",
              "10    c\n",
              "11    g\n",
              "12    a\n",
              "dtype: object"
            ]
          },
          "execution_count": 185,
          "metadata": {},
          "output_type": "execute_result"
        }
      ],
      "source": [
        "s7 = pd.Series(list('gtcaaagcttcga'))\n",
        "s7"
      ]
    },
    {
      "cell_type": "code",
      "execution_count": null,
      "metadata": {
        "id": "8l6z8GtgqkBt",
        "outputId": "305fd1b5-8554-4e3d-cc8f-1968f78a0967"
      },
      "outputs": [
        {
          "data": {
            "text/plain": [
              "array(['g', 't', 'c', 'a'], dtype=object)"
            ]
          },
          "execution_count": 186,
          "metadata": {},
          "output_type": "execute_result"
        }
      ],
      "source": [
        "s7.unique()"
      ]
    },
    {
      "cell_type": "code",
      "execution_count": null,
      "metadata": {
        "id": "LXcQChagqkBt",
        "outputId": "4645781c-22b5-4d0a-d9d7-5cac0d8c159f"
      },
      "outputs": [
        {
          "data": {
            "text/plain": [
              "a    4\n",
              "t    3\n",
              "c    3\n",
              "g    3\n",
              "dtype: int64"
            ]
          },
          "execution_count": 187,
          "metadata": {},
          "output_type": "execute_result"
        }
      ],
      "source": [
        "s7.value_counts()"
      ]
    },
    {
      "cell_type": "code",
      "execution_count": null,
      "metadata": {
        "id": "dNHlB9qZqkBt",
        "outputId": "c775ba18-ad61-4410-9d62-e82867b9df4c"
      },
      "outputs": [
        {
          "data": {
            "text/plain": [
              "0      True\n",
              "1     False\n",
              "2     False\n",
              "3      True\n",
              "4      True\n",
              "5      True\n",
              "6      True\n",
              "7     False\n",
              "8     False\n",
              "9     False\n",
              "10    False\n",
              "11     True\n",
              "12     True\n",
              "dtype: bool"
            ]
          },
          "execution_count": 188,
          "metadata": {},
          "output_type": "execute_result"
        }
      ],
      "source": [
        "puric_bases = ['a','g']\n",
        "s7.isin(puric_bases)"
      ]
    },
    {
      "cell_type": "code",
      "execution_count": null,
      "metadata": {
        "id": "vFZL8EuZqkBt",
        "outputId": "ba9f7c01-87bb-49e2-e83a-11c8779aa32d"
      },
      "outputs": [
        {
          "data": {
            "text/plain": [
              "0     g\n",
              "3     a\n",
              "4     a\n",
              "5     a\n",
              "6     g\n",
              "11    g\n",
              "12    a\n",
              "dtype: object"
            ]
          },
          "execution_count": 189,
          "metadata": {},
          "output_type": "execute_result"
        }
      ],
      "source": [
        "s7[s7.isin(puric_bases)]"
      ]
    },
    {
      "cell_type": "markdown",
      "metadata": {
        "id": "HWCn6nSaqkBu"
      },
      "source": [
        "## Handling missing data"
      ]
    },
    {
      "cell_type": "code",
      "execution_count": null,
      "metadata": {
        "id": "1m-z6MyJqkBu",
        "outputId": "9db83faa-7895-40d5-aec9-45dd3732c723"
      },
      "outputs": [
        {
          "data": {
            "text/plain": [
              "0     Ma\n",
              "1     Lu\n",
              "2     Ca\n",
              "3     Va\n",
              "4    NaN\n",
              "dtype: object"
            ]
          },
          "execution_count": 190,
          "metadata": {},
          "output_type": "execute_result"
        }
      ],
      "source": [
        "string_data = pd.Series(['Ma', 'Lu', 'Ca', 'Va', np.nan])\n",
        "string_data"
      ]
    },
    {
      "cell_type": "code",
      "execution_count": null,
      "metadata": {
        "id": "0WdOWFNMqkBu",
        "outputId": "51750b6b-c16e-4390-e8a1-6a8d78386d6e"
      },
      "outputs": [
        {
          "data": {
            "text/plain": [
              "0     Ma\n",
              "1     Lu\n",
              "2     Ca\n",
              "3     Va\n",
              "4    NaN\n",
              "dtype: object"
            ]
          },
          "execution_count": 191,
          "metadata": {},
          "output_type": "execute_result"
        }
      ],
      "source": [
        "string_data[string_data!=np.nan]"
      ]
    },
    {
      "cell_type": "markdown",
      "metadata": {
        "id": "IB_EdiEEqkBu"
      },
      "source": [
        "This is weird... but it has some really good reasons. You can find explanations [here](https://stackoverflow.com/questions/10034149/why-is-nan-not-equal-to-nan) and [here](https://stackoverflow.com/questions/1565164/what-is-the-rationale-for-all-comparisons-returning-false-for-ieee754-nan-values)"
      ]
    },
    {
      "cell_type": "code",
      "execution_count": null,
      "metadata": {
        "id": "shyHL1ydqkBu",
        "outputId": "55015c7b-bbc7-4f77-8a96-17240d59d394"
      },
      "outputs": [
        {
          "data": {
            "text/plain": [
              "False"
            ]
          },
          "execution_count": 192,
          "metadata": {},
          "output_type": "execute_result"
        }
      ],
      "source": [
        "np.nan == np.nan"
      ]
    },
    {
      "cell_type": "code",
      "execution_count": null,
      "metadata": {
        "id": "WGvsfsQ4qkB7",
        "outputId": "3c8de9c4-63b2-491b-f034-b25a7ec18fde"
      },
      "outputs": [
        {
          "data": {
            "text/plain": [
              "0    Ma\n",
              "1    Lu\n",
              "2    Ca\n",
              "3    Va\n",
              "dtype: object"
            ]
          },
          "execution_count": 193,
          "metadata": {},
          "output_type": "execute_result"
        }
      ],
      "source": [
        "string_data[~string_data.isnull()]"
      ]
    },
    {
      "cell_type": "markdown",
      "metadata": {
        "id": "AINZOdCjqkB7"
      },
      "source": [
        "### Filtering out missing data"
      ]
    },
    {
      "cell_type": "code",
      "execution_count": null,
      "metadata": {
        "id": "A_E_RcQQqkB7",
        "outputId": "b91aad0b-71c6-4cc1-e6c2-2326956cedfb"
      },
      "outputs": [
        {
          "data": {
            "text/plain": [
              "0    Ma\n",
              "1    Lu\n",
              "2    Ca\n",
              "3    Va\n",
              "dtype: object"
            ]
          },
          "execution_count": 194,
          "metadata": {},
          "output_type": "execute_result"
        }
      ],
      "source": [
        "string_data[string_data.notnull()]"
      ]
    },
    {
      "cell_type": "code",
      "execution_count": null,
      "metadata": {
        "id": "mamJXIQOqkB8",
        "outputId": "3702d54a-9ded-48e1-86fd-631664f5374c"
      },
      "outputs": [
        {
          "data": {
            "text/html": [
              "<div>\n",
              "<style>\n",
              "    .dataframe thead tr:only-child th {\n",
              "        text-align: right;\n",
              "    }\n",
              "\n",
              "    .dataframe thead th {\n",
              "        text-align: left;\n",
              "    }\n",
              "\n",
              "    .dataframe tbody tr th {\n",
              "        vertical-align: top;\n",
              "    }\n",
              "</style>\n",
              "<table border=\"1\" class=\"dataframe\">\n",
              "  <thead>\n",
              "    <tr style=\"text-align: right;\">\n",
              "      <th></th>\n",
              "      <th>a</th>\n",
              "      <th>b</th>\n",
              "      <th>c</th>\n",
              "    </tr>\n",
              "  </thead>\n",
              "  <tbody>\n",
              "    <tr>\n",
              "      <th>0</th>\n",
              "      <td>1.0</td>\n",
              "      <td>2.0</td>\n",
              "      <td>3</td>\n",
              "    </tr>\n",
              "    <tr>\n",
              "      <th>1</th>\n",
              "      <td>NaN</td>\n",
              "      <td>8.0</td>\n",
              "      <td>7</td>\n",
              "    </tr>\n",
              "    <tr>\n",
              "      <th>2</th>\n",
              "      <td>4.0</td>\n",
              "      <td>NaN</td>\n",
              "      <td>90</td>\n",
              "    </tr>\n",
              "    <tr>\n",
              "      <th>3</th>\n",
              "      <td>67.0</td>\n",
              "      <td>42.0</td>\n",
              "      <td>53</td>\n",
              "    </tr>\n",
              "  </tbody>\n",
              "</table>\n",
              "</div>"
            ],
            "text/plain": [
              "      a     b   c\n",
              "0   1.0   2.0   3\n",
              "1   NaN   8.0   7\n",
              "2   4.0   NaN  90\n",
              "3  67.0  42.0  53"
            ]
          },
          "execution_count": 195,
          "metadata": {},
          "output_type": "execute_result"
        }
      ],
      "source": [
        "df5 = pd.DataFrame([[1,2,3], \n",
        "                    [np.nan, 8, 7], \n",
        "                    [4, np.nan, 90], \n",
        "                    [67,42,53]], \n",
        "                   columns=list('abc'))\n",
        "df5"
      ]
    },
    {
      "cell_type": "code",
      "execution_count": null,
      "metadata": {
        "id": "LqPPO--1qkB8",
        "outputId": "c70dce31-f868-4e9b-e975-c0a7dfa17607"
      },
      "outputs": [
        {
          "data": {
            "text/html": [
              "<div>\n",
              "<style>\n",
              "    .dataframe thead tr:only-child th {\n",
              "        text-align: right;\n",
              "    }\n",
              "\n",
              "    .dataframe thead th {\n",
              "        text-align: left;\n",
              "    }\n",
              "\n",
              "    .dataframe tbody tr th {\n",
              "        vertical-align: top;\n",
              "    }\n",
              "</style>\n",
              "<table border=\"1\" class=\"dataframe\">\n",
              "  <thead>\n",
              "    <tr style=\"text-align: right;\">\n",
              "      <th></th>\n",
              "      <th>a</th>\n",
              "      <th>b</th>\n",
              "      <th>c</th>\n",
              "    </tr>\n",
              "  </thead>\n",
              "  <tbody>\n",
              "    <tr>\n",
              "      <th>0</th>\n",
              "      <td>1.0</td>\n",
              "      <td>2.0</td>\n",
              "      <td>3</td>\n",
              "    </tr>\n",
              "    <tr>\n",
              "      <th>2</th>\n",
              "      <td>4.0</td>\n",
              "      <td>NaN</td>\n",
              "      <td>90</td>\n",
              "    </tr>\n",
              "    <tr>\n",
              "      <th>3</th>\n",
              "      <td>67.0</td>\n",
              "      <td>42.0</td>\n",
              "      <td>53</td>\n",
              "    </tr>\n",
              "  </tbody>\n",
              "</table>\n",
              "</div>"
            ],
            "text/plain": [
              "      a     b   c\n",
              "0   1.0   2.0   3\n",
              "2   4.0   NaN  90\n",
              "3  67.0  42.0  53"
            ]
          },
          "execution_count": 196,
          "metadata": {},
          "output_type": "execute_result"
        }
      ],
      "source": [
        "df5[df5['a'].notnull()]"
      ]
    },
    {
      "cell_type": "code",
      "execution_count": null,
      "metadata": {
        "id": "21a4f3LaqkB8",
        "outputId": "13d5b1e6-bc33-400d-8ca3-95d73fa18614"
      },
      "outputs": [
        {
          "data": {
            "text/html": [
              "<div>\n",
              "<style>\n",
              "    .dataframe thead tr:only-child th {\n",
              "        text-align: right;\n",
              "    }\n",
              "\n",
              "    .dataframe thead th {\n",
              "        text-align: left;\n",
              "    }\n",
              "\n",
              "    .dataframe tbody tr th {\n",
              "        vertical-align: top;\n",
              "    }\n",
              "</style>\n",
              "<table border=\"1\" class=\"dataframe\">\n",
              "  <thead>\n",
              "    <tr style=\"text-align: right;\">\n",
              "      <th></th>\n",
              "      <th>a</th>\n",
              "      <th>b</th>\n",
              "      <th>c</th>\n",
              "    </tr>\n",
              "  </thead>\n",
              "  <tbody>\n",
              "    <tr>\n",
              "      <th>0</th>\n",
              "      <td>True</td>\n",
              "      <td>True</td>\n",
              "      <td>True</td>\n",
              "    </tr>\n",
              "    <tr>\n",
              "      <th>1</th>\n",
              "      <td>False</td>\n",
              "      <td>True</td>\n",
              "      <td>True</td>\n",
              "    </tr>\n",
              "    <tr>\n",
              "      <th>2</th>\n",
              "      <td>True</td>\n",
              "      <td>False</td>\n",
              "      <td>True</td>\n",
              "    </tr>\n",
              "    <tr>\n",
              "      <th>3</th>\n",
              "      <td>True</td>\n",
              "      <td>True</td>\n",
              "      <td>True</td>\n",
              "    </tr>\n",
              "  </tbody>\n",
              "</table>\n",
              "</div>"
            ],
            "text/plain": [
              "       a      b     c\n",
              "0   True   True  True\n",
              "1  False   True  True\n",
              "2   True  False  True\n",
              "3   True   True  True"
            ]
          },
          "execution_count": 197,
          "metadata": {},
          "output_type": "execute_result"
        }
      ],
      "source": [
        "df5.notnull()"
      ]
    },
    {
      "cell_type": "markdown",
      "metadata": {
        "id": "sE7S5VMUqkB8"
      },
      "source": [
        "any() and all() are functions of boolean Series. They reduce the Series to a single boolean value by applying repeatedly the operators \"or\" and \"and\", respectively."
      ]
    },
    {
      "cell_type": "code",
      "execution_count": null,
      "metadata": {
        "id": "fborRS2-qkB8",
        "outputId": "39465a7b-b876-45e2-99f5-6033bde19580"
      },
      "outputs": [
        {
          "data": {
            "text/plain": [
              "a    True\n",
              "b    True\n",
              "c    True\n",
              "dtype: bool"
            ]
          },
          "execution_count": 198,
          "metadata": {},
          "output_type": "execute_result"
        }
      ],
      "source": [
        "df5.notnull().any()"
      ]
    },
    {
      "cell_type": "code",
      "execution_count": null,
      "metadata": {
        "id": "BMGYIU0HqkB9",
        "outputId": "f0986a16-0f1c-44ef-b37c-78264d8ce257"
      },
      "outputs": [
        {
          "data": {
            "text/plain": [
              "a    False\n",
              "b    False\n",
              "c     True\n",
              "dtype: bool"
            ]
          },
          "execution_count": 199,
          "metadata": {},
          "output_type": "execute_result"
        }
      ],
      "source": [
        "df5.notnull().all()"
      ]
    },
    {
      "cell_type": "code",
      "execution_count": null,
      "metadata": {
        "id": "px78dqIYqkB9",
        "outputId": "6a11ed94-f722-4c8d-c067-f0ecad7baf0c"
      },
      "outputs": [
        {
          "data": {
            "text/plain": [
              "a     True\n",
              "b     True\n",
              "c    False\n",
              "dtype: bool"
            ]
          },
          "execution_count": 200,
          "metadata": {},
          "output_type": "execute_result"
        }
      ],
      "source": [
        "df5.isnull().any()"
      ]
    },
    {
      "cell_type": "code",
      "execution_count": null,
      "metadata": {
        "id": "wTQgY_E2qkB9",
        "outputId": "651c0c1a-2db3-4285-ba8c-f6b4f5780d78"
      },
      "outputs": [
        {
          "data": {
            "text/html": [
              "<div>\n",
              "<style>\n",
              "    .dataframe thead tr:only-child th {\n",
              "        text-align: right;\n",
              "    }\n",
              "\n",
              "    .dataframe thead th {\n",
              "        text-align: left;\n",
              "    }\n",
              "\n",
              "    .dataframe tbody tr th {\n",
              "        vertical-align: top;\n",
              "    }\n",
              "</style>\n",
              "<table border=\"1\" class=\"dataframe\">\n",
              "  <thead>\n",
              "    <tr style=\"text-align: right;\">\n",
              "      <th></th>\n",
              "      <th>a</th>\n",
              "      <th>b</th>\n",
              "      <th>c</th>\n",
              "    </tr>\n",
              "  </thead>\n",
              "  <tbody>\n",
              "    <tr>\n",
              "      <th>0</th>\n",
              "      <td>1.0</td>\n",
              "      <td>2.0</td>\n",
              "      <td>3</td>\n",
              "    </tr>\n",
              "    <tr>\n",
              "      <th>3</th>\n",
              "      <td>67.0</td>\n",
              "      <td>42.0</td>\n",
              "      <td>53</td>\n",
              "    </tr>\n",
              "  </tbody>\n",
              "</table>\n",
              "</div>"
            ],
            "text/plain": [
              "      a     b   c\n",
              "0   1.0   2.0   3\n",
              "3  67.0  42.0  53"
            ]
          },
          "execution_count": 201,
          "metadata": {},
          "output_type": "execute_result"
        }
      ],
      "source": [
        "df5.dropna()"
      ]
    },
    {
      "cell_type": "code",
      "execution_count": null,
      "metadata": {
        "id": "72fAw8zPqkB9",
        "outputId": "0e6620eb-4078-4a9c-843d-33dc74a188a0"
      },
      "outputs": [
        {
          "data": {
            "text/html": [
              "<div>\n",
              "<style>\n",
              "    .dataframe thead tr:only-child th {\n",
              "        text-align: right;\n",
              "    }\n",
              "\n",
              "    .dataframe thead th {\n",
              "        text-align: left;\n",
              "    }\n",
              "\n",
              "    .dataframe tbody tr th {\n",
              "        vertical-align: top;\n",
              "    }\n",
              "</style>\n",
              "<table border=\"1\" class=\"dataframe\">\n",
              "  <thead>\n",
              "    <tr style=\"text-align: right;\">\n",
              "      <th></th>\n",
              "      <th>a</th>\n",
              "      <th>b</th>\n",
              "      <th>c</th>\n",
              "    </tr>\n",
              "  </thead>\n",
              "  <tbody>\n",
              "    <tr>\n",
              "      <th>0</th>\n",
              "      <td>1.0</td>\n",
              "      <td>2.0</td>\n",
              "      <td>3</td>\n",
              "    </tr>\n",
              "    <tr>\n",
              "      <th>1</th>\n",
              "      <td>NaN</td>\n",
              "      <td>8.0</td>\n",
              "      <td>7</td>\n",
              "    </tr>\n",
              "    <tr>\n",
              "      <th>2</th>\n",
              "      <td>4.0</td>\n",
              "      <td>NaN</td>\n",
              "      <td>90</td>\n",
              "    </tr>\n",
              "    <tr>\n",
              "      <th>3</th>\n",
              "      <td>67.0</td>\n",
              "      <td>42.0</td>\n",
              "      <td>53</td>\n",
              "    </tr>\n",
              "  </tbody>\n",
              "</table>\n",
              "</div>"
            ],
            "text/plain": [
              "      a     b   c\n",
              "0   1.0   2.0   3\n",
              "1   NaN   8.0   7\n",
              "2   4.0   NaN  90\n",
              "3  67.0  42.0  53"
            ]
          },
          "execution_count": 202,
          "metadata": {},
          "output_type": "execute_result"
        }
      ],
      "source": [
        "df5"
      ]
    },
    {
      "cell_type": "code",
      "execution_count": null,
      "metadata": {
        "id": "9mhRlsrBqkB9",
        "outputId": "454c158c-471f-4796-bc32-c936e794e853"
      },
      "outputs": [
        {
          "data": {
            "text/html": [
              "<div>\n",
              "<style>\n",
              "    .dataframe thead tr:only-child th {\n",
              "        text-align: right;\n",
              "    }\n",
              "\n",
              "    .dataframe thead th {\n",
              "        text-align: left;\n",
              "    }\n",
              "\n",
              "    .dataframe tbody tr th {\n",
              "        vertical-align: top;\n",
              "    }\n",
              "</style>\n",
              "<table border=\"1\" class=\"dataframe\">\n",
              "  <thead>\n",
              "    <tr style=\"text-align: right;\">\n",
              "      <th></th>\n",
              "      <th>c</th>\n",
              "    </tr>\n",
              "  </thead>\n",
              "  <tbody>\n",
              "    <tr>\n",
              "      <th>0</th>\n",
              "      <td>3</td>\n",
              "    </tr>\n",
              "    <tr>\n",
              "      <th>1</th>\n",
              "      <td>7</td>\n",
              "    </tr>\n",
              "    <tr>\n",
              "      <th>2</th>\n",
              "      <td>90</td>\n",
              "    </tr>\n",
              "    <tr>\n",
              "      <th>3</th>\n",
              "      <td>53</td>\n",
              "    </tr>\n",
              "  </tbody>\n",
              "</table>\n",
              "</div>"
            ],
            "text/plain": [
              "    c\n",
              "0   3\n",
              "1   7\n",
              "2  90\n",
              "3  53"
            ]
          },
          "execution_count": 203,
          "metadata": {},
          "output_type": "execute_result"
        }
      ],
      "source": [
        "df5.dropna(axis=1)"
      ]
    },
    {
      "cell_type": "code",
      "execution_count": null,
      "metadata": {
        "id": "7RfcPJX2qkB-",
        "outputId": "8a6fb3f9-35bf-45ac-d70b-a3b5a3e1de2b"
      },
      "outputs": [
        {
          "data": {
            "text/html": [
              "<div>\n",
              "<style>\n",
              "    .dataframe thead tr:only-child th {\n",
              "        text-align: right;\n",
              "    }\n",
              "\n",
              "    .dataframe thead th {\n",
              "        text-align: left;\n",
              "    }\n",
              "\n",
              "    .dataframe tbody tr th {\n",
              "        vertical-align: top;\n",
              "    }\n",
              "</style>\n",
              "<table border=\"1\" class=\"dataframe\">\n",
              "  <thead>\n",
              "    <tr style=\"text-align: right;\">\n",
              "      <th></th>\n",
              "      <th>x</th>\n",
              "      <th>y</th>\n",
              "      <th>z</th>\n",
              "    </tr>\n",
              "  </thead>\n",
              "  <tbody>\n",
              "    <tr>\n",
              "      <th>a</th>\n",
              "      <td>76.452797</td>\n",
              "      <td>114.632266</td>\n",
              "      <td>119.351134</td>\n",
              "    </tr>\n",
              "    <tr>\n",
              "      <th>b</th>\n",
              "      <td>90.190712</td>\n",
              "      <td>69.871955</td>\n",
              "      <td>NaN</td>\n",
              "    </tr>\n",
              "    <tr>\n",
              "      <th>c</th>\n",
              "      <td>73.358187</td>\n",
              "      <td>NaN</td>\n",
              "      <td>NaN</td>\n",
              "    </tr>\n",
              "    <tr>\n",
              "      <th>d</th>\n",
              "      <td>104.300649</td>\n",
              "      <td>NaN</td>\n",
              "      <td>58.799242</td>\n",
              "    </tr>\n",
              "    <tr>\n",
              "      <th>e</th>\n",
              "      <td>82.351267</td>\n",
              "      <td>NaN</td>\n",
              "      <td>90.104265</td>\n",
              "    </tr>\n",
              "    <tr>\n",
              "      <th>f</th>\n",
              "      <td>108.385869</td>\n",
              "      <td>95.028381</td>\n",
              "      <td>81.396693</td>\n",
              "    </tr>\n",
              "    <tr>\n",
              "      <th>g</th>\n",
              "      <td>117.942247</td>\n",
              "      <td>112.941936</td>\n",
              "      <td>58.095202</td>\n",
              "    </tr>\n",
              "    <tr>\n",
              "      <th>h</th>\n",
              "      <td>102.463076</td>\n",
              "      <td>92.616793</td>\n",
              "      <td>108.007647</td>\n",
              "    </tr>\n",
              "  </tbody>\n",
              "</table>\n",
              "</div>"
            ],
            "text/plain": [
              "            x           y           z\n",
              "a   76.452797  114.632266  119.351134\n",
              "b   90.190712   69.871955         NaN\n",
              "c   73.358187         NaN         NaN\n",
              "d  104.300649         NaN   58.799242\n",
              "e   82.351267         NaN   90.104265\n",
              "f  108.385869   95.028381   81.396693\n",
              "g  117.942247  112.941936   58.095202\n",
              "h  102.463076   92.616793  108.007647"
            ]
          },
          "execution_count": 204,
          "metadata": {},
          "output_type": "execute_result"
        }
      ],
      "source": [
        "array = np.random.randn(8,3) * 20 + 100\n",
        "\n",
        "df6 = pd.DataFrame(array, columns=list('xyz'), index=list('abcdefgh'))\n",
        "df6.iloc[2:5, 1] = np.nan\n",
        "df6.iloc[1:3, 2] = np.nan\n",
        "df6"
      ]
    },
    {
      "cell_type": "markdown",
      "metadata": {
        "id": "W51PgzjfqkB-"
      },
      "source": [
        "The thresh argument specifies the minimum number of non-null values required to keep a column (or row, with axis=1)"
      ]
    },
    {
      "cell_type": "code",
      "execution_count": null,
      "metadata": {
        "id": "VLK-b6kkqkB-",
        "outputId": "e913d867-ab1a-466e-d36e-ec523c2c4eac"
      },
      "outputs": [
        {
          "data": {
            "text/html": [
              "<div>\n",
              "<style>\n",
              "    .dataframe thead tr:only-child th {\n",
              "        text-align: right;\n",
              "    }\n",
              "\n",
              "    .dataframe thead th {\n",
              "        text-align: left;\n",
              "    }\n",
              "\n",
              "    .dataframe tbody tr th {\n",
              "        vertical-align: top;\n",
              "    }\n",
              "</style>\n",
              "<table border=\"1\" class=\"dataframe\">\n",
              "  <thead>\n",
              "    <tr style=\"text-align: right;\">\n",
              "      <th></th>\n",
              "      <th>x</th>\n",
              "      <th>y</th>\n",
              "      <th>z</th>\n",
              "    </tr>\n",
              "  </thead>\n",
              "  <tbody>\n",
              "    <tr>\n",
              "      <th>a</th>\n",
              "      <td>76.452797</td>\n",
              "      <td>114.632266</td>\n",
              "      <td>119.351134</td>\n",
              "    </tr>\n",
              "    <tr>\n",
              "      <th>b</th>\n",
              "      <td>90.190712</td>\n",
              "      <td>69.871955</td>\n",
              "      <td>NaN</td>\n",
              "    </tr>\n",
              "    <tr>\n",
              "      <th>d</th>\n",
              "      <td>104.300649</td>\n",
              "      <td>NaN</td>\n",
              "      <td>58.799242</td>\n",
              "    </tr>\n",
              "    <tr>\n",
              "      <th>e</th>\n",
              "      <td>82.351267</td>\n",
              "      <td>NaN</td>\n",
              "      <td>90.104265</td>\n",
              "    </tr>\n",
              "    <tr>\n",
              "      <th>f</th>\n",
              "      <td>108.385869</td>\n",
              "      <td>95.028381</td>\n",
              "      <td>81.396693</td>\n",
              "    </tr>\n",
              "    <tr>\n",
              "      <th>g</th>\n",
              "      <td>117.942247</td>\n",
              "      <td>112.941936</td>\n",
              "      <td>58.095202</td>\n",
              "    </tr>\n",
              "    <tr>\n",
              "      <th>h</th>\n",
              "      <td>102.463076</td>\n",
              "      <td>92.616793</td>\n",
              "      <td>108.007647</td>\n",
              "    </tr>\n",
              "  </tbody>\n",
              "</table>\n",
              "</div>"
            ],
            "text/plain": [
              "            x           y           z\n",
              "a   76.452797  114.632266  119.351134\n",
              "b   90.190712   69.871955         NaN\n",
              "d  104.300649         NaN   58.799242\n",
              "e   82.351267         NaN   90.104265\n",
              "f  108.385869   95.028381   81.396693\n",
              "g  117.942247  112.941936   58.095202\n",
              "h  102.463076   92.616793  108.007647"
            ]
          },
          "execution_count": 205,
          "metadata": {},
          "output_type": "execute_result"
        }
      ],
      "source": [
        "df6.dropna(thresh=2)"
      ]
    },
    {
      "cell_type": "code",
      "execution_count": null,
      "metadata": {
        "id": "rNA4XdgVqkB-",
        "outputId": "8755a083-d57f-4088-d02f-6cfcc7b5b19c"
      },
      "outputs": [
        {
          "data": {
            "text/html": [
              "<div>\n",
              "<style>\n",
              "    .dataframe thead tr:only-child th {\n",
              "        text-align: right;\n",
              "    }\n",
              "\n",
              "    .dataframe thead th {\n",
              "        text-align: left;\n",
              "    }\n",
              "\n",
              "    .dataframe tbody tr th {\n",
              "        vertical-align: top;\n",
              "    }\n",
              "</style>\n",
              "<table border=\"1\" class=\"dataframe\">\n",
              "  <thead>\n",
              "    <tr style=\"text-align: right;\">\n",
              "      <th></th>\n",
              "      <th>x</th>\n",
              "      <th>y</th>\n",
              "      <th>z</th>\n",
              "    </tr>\n",
              "  </thead>\n",
              "  <tbody>\n",
              "    <tr>\n",
              "      <th>a</th>\n",
              "      <td>76.452797</td>\n",
              "      <td>114.632266</td>\n",
              "      <td>119.351134</td>\n",
              "    </tr>\n",
              "    <tr>\n",
              "      <th>b</th>\n",
              "      <td>90.190712</td>\n",
              "      <td>69.871955</td>\n",
              "      <td>NaN</td>\n",
              "    </tr>\n",
              "    <tr>\n",
              "      <th>c</th>\n",
              "      <td>73.358187</td>\n",
              "      <td>NaN</td>\n",
              "      <td>NaN</td>\n",
              "    </tr>\n",
              "    <tr>\n",
              "      <th>d</th>\n",
              "      <td>104.300649</td>\n",
              "      <td>NaN</td>\n",
              "      <td>58.799242</td>\n",
              "    </tr>\n",
              "    <tr>\n",
              "      <th>e</th>\n",
              "      <td>82.351267</td>\n",
              "      <td>NaN</td>\n",
              "      <td>90.104265</td>\n",
              "    </tr>\n",
              "    <tr>\n",
              "      <th>f</th>\n",
              "      <td>108.385869</td>\n",
              "      <td>95.028381</td>\n",
              "      <td>81.396693</td>\n",
              "    </tr>\n",
              "    <tr>\n",
              "      <th>g</th>\n",
              "      <td>117.942247</td>\n",
              "      <td>112.941936</td>\n",
              "      <td>58.095202</td>\n",
              "    </tr>\n",
              "    <tr>\n",
              "      <th>h</th>\n",
              "      <td>102.463076</td>\n",
              "      <td>92.616793</td>\n",
              "      <td>108.007647</td>\n",
              "    </tr>\n",
              "  </tbody>\n",
              "</table>\n",
              "</div>"
            ],
            "text/plain": [
              "            x           y           z\n",
              "a   76.452797  114.632266  119.351134\n",
              "b   90.190712   69.871955         NaN\n",
              "c   73.358187         NaN         NaN\n",
              "d  104.300649         NaN   58.799242\n",
              "e   82.351267         NaN   90.104265\n",
              "f  108.385869   95.028381   81.396693\n",
              "g  117.942247  112.941936   58.095202\n",
              "h  102.463076   92.616793  108.007647"
            ]
          },
          "execution_count": 206,
          "metadata": {},
          "output_type": "execute_result"
        }
      ],
      "source": [
        "df6.dropna(thresh=2, axis=1)"
      ]
    },
    {
      "cell_type": "code",
      "execution_count": null,
      "metadata": {
        "id": "JNOcOpGzqkB-",
        "outputId": "c723021c-3161-413b-c815-620a9e49f574"
      },
      "outputs": [
        {
          "data": {
            "text/html": [
              "<div>\n",
              "<style>\n",
              "    .dataframe thead tr:only-child th {\n",
              "        text-align: right;\n",
              "    }\n",
              "\n",
              "    .dataframe thead th {\n",
              "        text-align: left;\n",
              "    }\n",
              "\n",
              "    .dataframe tbody tr th {\n",
              "        vertical-align: top;\n",
              "    }\n",
              "</style>\n",
              "<table border=\"1\" class=\"dataframe\">\n",
              "  <thead>\n",
              "    <tr style=\"text-align: right;\">\n",
              "      <th></th>\n",
              "      <th>x</th>\n",
              "      <th>z</th>\n",
              "    </tr>\n",
              "  </thead>\n",
              "  <tbody>\n",
              "    <tr>\n",
              "      <th>a</th>\n",
              "      <td>76.452797</td>\n",
              "      <td>119.351134</td>\n",
              "    </tr>\n",
              "    <tr>\n",
              "      <th>b</th>\n",
              "      <td>90.190712</td>\n",
              "      <td>NaN</td>\n",
              "    </tr>\n",
              "    <tr>\n",
              "      <th>c</th>\n",
              "      <td>73.358187</td>\n",
              "      <td>NaN</td>\n",
              "    </tr>\n",
              "    <tr>\n",
              "      <th>d</th>\n",
              "      <td>104.300649</td>\n",
              "      <td>58.799242</td>\n",
              "    </tr>\n",
              "    <tr>\n",
              "      <th>e</th>\n",
              "      <td>82.351267</td>\n",
              "      <td>90.104265</td>\n",
              "    </tr>\n",
              "    <tr>\n",
              "      <th>f</th>\n",
              "      <td>108.385869</td>\n",
              "      <td>81.396693</td>\n",
              "    </tr>\n",
              "    <tr>\n",
              "      <th>g</th>\n",
              "      <td>117.942247</td>\n",
              "      <td>58.095202</td>\n",
              "    </tr>\n",
              "    <tr>\n",
              "      <th>h</th>\n",
              "      <td>102.463076</td>\n",
              "      <td>108.007647</td>\n",
              "    </tr>\n",
              "  </tbody>\n",
              "</table>\n",
              "</div>"
            ],
            "text/plain": [
              "            x           z\n",
              "a   76.452797  119.351134\n",
              "b   90.190712         NaN\n",
              "c   73.358187         NaN\n",
              "d  104.300649   58.799242\n",
              "e   82.351267   90.104265\n",
              "f  108.385869   81.396693\n",
              "g  117.942247   58.095202\n",
              "h  102.463076  108.007647"
            ]
          },
          "execution_count": 207,
          "metadata": {},
          "output_type": "execute_result"
        }
      ],
      "source": [
        "df6.dropna(thresh=6, axis=1)"
      ]
    },
    {
      "cell_type": "markdown",
      "metadata": {
        "id": "AP3DsQVBqkB-"
      },
      "source": [
        "### Filling in missing data"
      ]
    },
    {
      "cell_type": "code",
      "execution_count": null,
      "metadata": {
        "id": "W63KNBUnqkB_",
        "outputId": "09752749-6121-4149-d273-1ce154ac3131"
      },
      "outputs": [
        {
          "data": {
            "text/html": [
              "<div>\n",
              "<style>\n",
              "    .dataframe thead tr:only-child th {\n",
              "        text-align: right;\n",
              "    }\n",
              "\n",
              "    .dataframe thead th {\n",
              "        text-align: left;\n",
              "    }\n",
              "\n",
              "    .dataframe tbody tr th {\n",
              "        vertical-align: top;\n",
              "    }\n",
              "</style>\n",
              "<table border=\"1\" class=\"dataframe\">\n",
              "  <thead>\n",
              "    <tr style=\"text-align: right;\">\n",
              "      <th></th>\n",
              "      <th>x</th>\n",
              "      <th>y</th>\n",
              "      <th>z</th>\n",
              "    </tr>\n",
              "  </thead>\n",
              "  <tbody>\n",
              "    <tr>\n",
              "      <th>a</th>\n",
              "      <td>76.452797</td>\n",
              "      <td>114.632266</td>\n",
              "      <td>119.351134</td>\n",
              "    </tr>\n",
              "    <tr>\n",
              "      <th>b</th>\n",
              "      <td>90.190712</td>\n",
              "      <td>69.871955</td>\n",
              "      <td>0.000000</td>\n",
              "    </tr>\n",
              "    <tr>\n",
              "      <th>c</th>\n",
              "      <td>73.358187</td>\n",
              "      <td>0.000000</td>\n",
              "      <td>0.000000</td>\n",
              "    </tr>\n",
              "    <tr>\n",
              "      <th>d</th>\n",
              "      <td>104.300649</td>\n",
              "      <td>0.000000</td>\n",
              "      <td>58.799242</td>\n",
              "    </tr>\n",
              "    <tr>\n",
              "      <th>e</th>\n",
              "      <td>82.351267</td>\n",
              "      <td>0.000000</td>\n",
              "      <td>90.104265</td>\n",
              "    </tr>\n",
              "    <tr>\n",
              "      <th>f</th>\n",
              "      <td>108.385869</td>\n",
              "      <td>95.028381</td>\n",
              "      <td>81.396693</td>\n",
              "    </tr>\n",
              "    <tr>\n",
              "      <th>g</th>\n",
              "      <td>117.942247</td>\n",
              "      <td>112.941936</td>\n",
              "      <td>58.095202</td>\n",
              "    </tr>\n",
              "    <tr>\n",
              "      <th>h</th>\n",
              "      <td>102.463076</td>\n",
              "      <td>92.616793</td>\n",
              "      <td>108.007647</td>\n",
              "    </tr>\n",
              "  </tbody>\n",
              "</table>\n",
              "</div>"
            ],
            "text/plain": [
              "            x           y           z\n",
              "a   76.452797  114.632266  119.351134\n",
              "b   90.190712   69.871955    0.000000\n",
              "c   73.358187    0.000000    0.000000\n",
              "d  104.300649    0.000000   58.799242\n",
              "e   82.351267    0.000000   90.104265\n",
              "f  108.385869   95.028381   81.396693\n",
              "g  117.942247  112.941936   58.095202\n",
              "h  102.463076   92.616793  108.007647"
            ]
          },
          "execution_count": 208,
          "metadata": {},
          "output_type": "execute_result"
        }
      ],
      "source": [
        "df6.fillna(0)"
      ]
    },
    {
      "cell_type": "code",
      "execution_count": null,
      "metadata": {
        "id": "UWqTbrPHqkB_",
        "outputId": "6e3e537f-4b5a-41d6-90c2-e728a08b3126"
      },
      "outputs": [
        {
          "data": {
            "text/html": [
              "<div>\n",
              "<style>\n",
              "    .dataframe thead tr:only-child th {\n",
              "        text-align: right;\n",
              "    }\n",
              "\n",
              "    .dataframe thead th {\n",
              "        text-align: left;\n",
              "    }\n",
              "\n",
              "    .dataframe tbody tr th {\n",
              "        vertical-align: top;\n",
              "    }\n",
              "</style>\n",
              "<table border=\"1\" class=\"dataframe\">\n",
              "  <thead>\n",
              "    <tr style=\"text-align: right;\">\n",
              "      <th></th>\n",
              "      <th>x</th>\n",
              "      <th>y</th>\n",
              "      <th>z</th>\n",
              "    </tr>\n",
              "  </thead>\n",
              "  <tbody>\n",
              "    <tr>\n",
              "      <th>a</th>\n",
              "      <td>76.452797</td>\n",
              "      <td>114.632266</td>\n",
              "      <td>119.351134</td>\n",
              "    </tr>\n",
              "    <tr>\n",
              "      <th>b</th>\n",
              "      <td>90.190712</td>\n",
              "      <td>69.871955</td>\n",
              "      <td>20.000000</td>\n",
              "    </tr>\n",
              "    <tr>\n",
              "      <th>c</th>\n",
              "      <td>73.358187</td>\n",
              "      <td>50.000000</td>\n",
              "      <td>20.000000</td>\n",
              "    </tr>\n",
              "    <tr>\n",
              "      <th>d</th>\n",
              "      <td>104.300649</td>\n",
              "      <td>50.000000</td>\n",
              "      <td>58.799242</td>\n",
              "    </tr>\n",
              "    <tr>\n",
              "      <th>e</th>\n",
              "      <td>82.351267</td>\n",
              "      <td>50.000000</td>\n",
              "      <td>90.104265</td>\n",
              "    </tr>\n",
              "    <tr>\n",
              "      <th>f</th>\n",
              "      <td>108.385869</td>\n",
              "      <td>95.028381</td>\n",
              "      <td>81.396693</td>\n",
              "    </tr>\n",
              "    <tr>\n",
              "      <th>g</th>\n",
              "      <td>117.942247</td>\n",
              "      <td>112.941936</td>\n",
              "      <td>58.095202</td>\n",
              "    </tr>\n",
              "    <tr>\n",
              "      <th>h</th>\n",
              "      <td>102.463076</td>\n",
              "      <td>92.616793</td>\n",
              "      <td>108.007647</td>\n",
              "    </tr>\n",
              "  </tbody>\n",
              "</table>\n",
              "</div>"
            ],
            "text/plain": [
              "            x           y           z\n",
              "a   76.452797  114.632266  119.351134\n",
              "b   90.190712   69.871955   20.000000\n",
              "c   73.358187   50.000000   20.000000\n",
              "d  104.300649   50.000000   58.799242\n",
              "e   82.351267   50.000000   90.104265\n",
              "f  108.385869   95.028381   81.396693\n",
              "g  117.942247  112.941936   58.095202\n",
              "h  102.463076   92.616793  108.007647"
            ]
          },
          "execution_count": 209,
          "metadata": {},
          "output_type": "execute_result"
        }
      ],
      "source": [
        "df6.fillna({'x' : 100, 'y' : 50, 'z' : 20})"
      ]
    },
    {
      "cell_type": "code",
      "execution_count": null,
      "metadata": {
        "id": "cbeWAaSEqkB_",
        "outputId": "b0c78e1b-ea5d-4c93-9044-2170c5f6ad7d"
      },
      "outputs": [
        {
          "data": {
            "text/html": [
              "<div>\n",
              "<style>\n",
              "    .dataframe thead tr:only-child th {\n",
              "        text-align: right;\n",
              "    }\n",
              "\n",
              "    .dataframe thead th {\n",
              "        text-align: left;\n",
              "    }\n",
              "\n",
              "    .dataframe tbody tr th {\n",
              "        vertical-align: top;\n",
              "    }\n",
              "</style>\n",
              "<table border=\"1\" class=\"dataframe\">\n",
              "  <thead>\n",
              "    <tr style=\"text-align: right;\">\n",
              "      <th></th>\n",
              "      <th>x</th>\n",
              "      <th>y</th>\n",
              "      <th>z</th>\n",
              "    </tr>\n",
              "  </thead>\n",
              "  <tbody>\n",
              "    <tr>\n",
              "      <th>a</th>\n",
              "      <td>76.452797</td>\n",
              "      <td>114.632266</td>\n",
              "      <td>119.351134</td>\n",
              "    </tr>\n",
              "    <tr>\n",
              "      <th>b</th>\n",
              "      <td>90.190712</td>\n",
              "      <td>69.871955</td>\n",
              "      <td>NaN</td>\n",
              "    </tr>\n",
              "    <tr>\n",
              "      <th>c</th>\n",
              "      <td>73.358187</td>\n",
              "      <td>NaN</td>\n",
              "      <td>NaN</td>\n",
              "    </tr>\n",
              "    <tr>\n",
              "      <th>d</th>\n",
              "      <td>104.300649</td>\n",
              "      <td>NaN</td>\n",
              "      <td>58.799242</td>\n",
              "    </tr>\n",
              "    <tr>\n",
              "      <th>e</th>\n",
              "      <td>82.351267</td>\n",
              "      <td>NaN</td>\n",
              "      <td>90.104265</td>\n",
              "    </tr>\n",
              "    <tr>\n",
              "      <th>f</th>\n",
              "      <td>108.385869</td>\n",
              "      <td>95.028381</td>\n",
              "      <td>81.396693</td>\n",
              "    </tr>\n",
              "    <tr>\n",
              "      <th>g</th>\n",
              "      <td>117.942247</td>\n",
              "      <td>112.941936</td>\n",
              "      <td>58.095202</td>\n",
              "    </tr>\n",
              "    <tr>\n",
              "      <th>h</th>\n",
              "      <td>102.463076</td>\n",
              "      <td>92.616793</td>\n",
              "      <td>108.007647</td>\n",
              "    </tr>\n",
              "  </tbody>\n",
              "</table>\n",
              "</div>"
            ],
            "text/plain": [
              "            x           y           z\n",
              "a   76.452797  114.632266  119.351134\n",
              "b   90.190712   69.871955         NaN\n",
              "c   73.358187         NaN         NaN\n",
              "d  104.300649         NaN   58.799242\n",
              "e   82.351267         NaN   90.104265\n",
              "f  108.385869   95.028381   81.396693\n",
              "g  117.942247  112.941936   58.095202\n",
              "h  102.463076   92.616793  108.007647"
            ]
          },
          "execution_count": 210,
          "metadata": {},
          "output_type": "execute_result"
        }
      ],
      "source": [
        "df6"
      ]
    },
    {
      "cell_type": "code",
      "execution_count": null,
      "metadata": {
        "id": "g_QtnhyOqkB_",
        "outputId": "a22aae89-8466-40b2-f56d-f692e5178af1"
      },
      "outputs": [
        {
          "data": {
            "text/html": [
              "<div>\n",
              "<style>\n",
              "    .dataframe thead tr:only-child th {\n",
              "        text-align: right;\n",
              "    }\n",
              "\n",
              "    .dataframe thead th {\n",
              "        text-align: left;\n",
              "    }\n",
              "\n",
              "    .dataframe tbody tr th {\n",
              "        vertical-align: top;\n",
              "    }\n",
              "</style>\n",
              "<table border=\"1\" class=\"dataframe\">\n",
              "  <thead>\n",
              "    <tr style=\"text-align: right;\">\n",
              "      <th></th>\n",
              "      <th>x</th>\n",
              "      <th>y</th>\n",
              "      <th>z</th>\n",
              "    </tr>\n",
              "  </thead>\n",
              "  <tbody>\n",
              "    <tr>\n",
              "      <th>a</th>\n",
              "      <td>76.452797</td>\n",
              "      <td>114.632266</td>\n",
              "      <td>119.351134</td>\n",
              "    </tr>\n",
              "    <tr>\n",
              "      <th>b</th>\n",
              "      <td>90.190712</td>\n",
              "      <td>69.871955</td>\n",
              "      <td>119.351134</td>\n",
              "    </tr>\n",
              "    <tr>\n",
              "      <th>c</th>\n",
              "      <td>73.358187</td>\n",
              "      <td>69.871955</td>\n",
              "      <td>119.351134</td>\n",
              "    </tr>\n",
              "    <tr>\n",
              "      <th>d</th>\n",
              "      <td>104.300649</td>\n",
              "      <td>69.871955</td>\n",
              "      <td>58.799242</td>\n",
              "    </tr>\n",
              "    <tr>\n",
              "      <th>e</th>\n",
              "      <td>82.351267</td>\n",
              "      <td>69.871955</td>\n",
              "      <td>90.104265</td>\n",
              "    </tr>\n",
              "    <tr>\n",
              "      <th>f</th>\n",
              "      <td>108.385869</td>\n",
              "      <td>95.028381</td>\n",
              "      <td>81.396693</td>\n",
              "    </tr>\n",
              "    <tr>\n",
              "      <th>g</th>\n",
              "      <td>117.942247</td>\n",
              "      <td>112.941936</td>\n",
              "      <td>58.095202</td>\n",
              "    </tr>\n",
              "    <tr>\n",
              "      <th>h</th>\n",
              "      <td>102.463076</td>\n",
              "      <td>92.616793</td>\n",
              "      <td>108.007647</td>\n",
              "    </tr>\n",
              "  </tbody>\n",
              "</table>\n",
              "</div>"
            ],
            "text/plain": [
              "            x           y           z\n",
              "a   76.452797  114.632266  119.351134\n",
              "b   90.190712   69.871955  119.351134\n",
              "c   73.358187   69.871955  119.351134\n",
              "d  104.300649   69.871955   58.799242\n",
              "e   82.351267   69.871955   90.104265\n",
              "f  108.385869   95.028381   81.396693\n",
              "g  117.942247  112.941936   58.095202\n",
              "h  102.463076   92.616793  108.007647"
            ]
          },
          "execution_count": 211,
          "metadata": {},
          "output_type": "execute_result"
        }
      ],
      "source": [
        "df6.fillna(method='ffill')"
      ]
    },
    {
      "cell_type": "code",
      "execution_count": null,
      "metadata": {
        "id": "AdKg_TYnqkCA",
        "outputId": "05c1dc00-c895-48e6-d4d3-8607fa1278f0"
      },
      "outputs": [
        {
          "data": {
            "text/html": [
              "<div>\n",
              "<style>\n",
              "    .dataframe thead tr:only-child th {\n",
              "        text-align: right;\n",
              "    }\n",
              "\n",
              "    .dataframe thead th {\n",
              "        text-align: left;\n",
              "    }\n",
              "\n",
              "    .dataframe tbody tr th {\n",
              "        vertical-align: top;\n",
              "    }\n",
              "</style>\n",
              "<table border=\"1\" class=\"dataframe\">\n",
              "  <thead>\n",
              "    <tr style=\"text-align: right;\">\n",
              "      <th></th>\n",
              "      <th>x</th>\n",
              "      <th>y</th>\n",
              "      <th>z</th>\n",
              "    </tr>\n",
              "  </thead>\n",
              "  <tbody>\n",
              "    <tr>\n",
              "      <th>a</th>\n",
              "      <td>76.452797</td>\n",
              "      <td>114.632266</td>\n",
              "      <td>119.351134</td>\n",
              "    </tr>\n",
              "    <tr>\n",
              "      <th>b</th>\n",
              "      <td>90.190712</td>\n",
              "      <td>69.871955</td>\n",
              "      <td>85.750479</td>\n",
              "    </tr>\n",
              "    <tr>\n",
              "      <th>c</th>\n",
              "      <td>73.358187</td>\n",
              "      <td>95.028381</td>\n",
              "      <td>85.750479</td>\n",
              "    </tr>\n",
              "    <tr>\n",
              "      <th>d</th>\n",
              "      <td>104.300649</td>\n",
              "      <td>95.028381</td>\n",
              "      <td>58.799242</td>\n",
              "    </tr>\n",
              "    <tr>\n",
              "      <th>e</th>\n",
              "      <td>82.351267</td>\n",
              "      <td>95.028381</td>\n",
              "      <td>90.104265</td>\n",
              "    </tr>\n",
              "    <tr>\n",
              "      <th>f</th>\n",
              "      <td>108.385869</td>\n",
              "      <td>95.028381</td>\n",
              "      <td>81.396693</td>\n",
              "    </tr>\n",
              "    <tr>\n",
              "      <th>g</th>\n",
              "      <td>117.942247</td>\n",
              "      <td>112.941936</td>\n",
              "      <td>58.095202</td>\n",
              "    </tr>\n",
              "    <tr>\n",
              "      <th>h</th>\n",
              "      <td>102.463076</td>\n",
              "      <td>92.616793</td>\n",
              "      <td>108.007647</td>\n",
              "    </tr>\n",
              "  </tbody>\n",
              "</table>\n",
              "</div>"
            ],
            "text/plain": [
              "            x           y           z\n",
              "a   76.452797  114.632266  119.351134\n",
              "b   90.190712   69.871955   85.750479\n",
              "c   73.358187   95.028381   85.750479\n",
              "d  104.300649   95.028381   58.799242\n",
              "e   82.351267   95.028381   90.104265\n",
              "f  108.385869   95.028381   81.396693\n",
              "g  117.942247  112.941936   58.095202\n",
              "h  102.463076   92.616793  108.007647"
            ]
          },
          "execution_count": 212,
          "metadata": {},
          "output_type": "execute_result"
        }
      ],
      "source": [
        "df6.fillna(df6.median())"
      ]
    },
    {
      "cell_type": "code",
      "execution_count": null,
      "metadata": {
        "scrolled": true,
        "id": "a-IZgfL1qkCA",
        "outputId": "9befc66d-2638-42db-8c6f-602eb286efae"
      },
      "outputs": [
        {
          "data": {
            "text/plain": [
              "x    96.326894\n",
              "y    95.028381\n",
              "z    85.750479\n",
              "dtype: float64"
            ]
          },
          "execution_count": 213,
          "metadata": {},
          "output_type": "execute_result"
        }
      ],
      "source": [
        "df6.median()"
      ]
    },
    {
      "cell_type": "markdown",
      "metadata": {
        "collapsed": true,
        "id": "n0gSWedUqkCA"
      },
      "source": [
        "   "
      ]
    },
    {
      "cell_type": "markdown",
      "metadata": {
        "id": "47LSje83qkCA"
      },
      "source": [
        "# Additional References\n",
        "\n",
        "[Python for Data Analysis](http://shop.oreilly.com/product/0636920023784.do)\n",
        "\n",
        "[What is SciPy?](https://www.scipy.org/)\n",
        "\n",
        "[How can SciPy be fast if it is written in an interpreted language like Python?](https://www.scipy.org/scipylib/faq.html#how-can-scipy-be-fast-if-it-is-written-in-an-interpreted-language-like-python)\n",
        "\n",
        "[What is the difference between NumPy and SciPy?](https://www.scipy.org/scipylib/faq.html#what-is-the-difference-between-numpy-and-scipy)\n",
        "\n",
        "[Linear Algebra for AI](https://github.com/fastai/fastai/blob/master/tutorials/linalg_pytorch.ipynb)"
      ]
    }
  ],
  "metadata": {
    "kernelspec": {
      "display_name": "Python 3",
      "language": "python",
      "name": "python3"
    },
    "language_info": {
      "codemirror_mode": {
        "name": "ipython",
        "version": 3
      },
      "file_extension": ".py",
      "mimetype": "text/x-python",
      "name": "python",
      "nbconvert_exporter": "python",
      "pygments_lexer": "ipython3",
      "version": "3.8.10"
    },
    "livereveal": {
      "scroll": true,
      "start_slideshow_at": "selected"
    },
    "colab": {
      "name": "01-numpy_pandas_introduction_day_3.ipynb",
      "provenance": [],
      "toc_visible": true
    }
  },
  "nbformat": 4,
  "nbformat_minor": 0
}