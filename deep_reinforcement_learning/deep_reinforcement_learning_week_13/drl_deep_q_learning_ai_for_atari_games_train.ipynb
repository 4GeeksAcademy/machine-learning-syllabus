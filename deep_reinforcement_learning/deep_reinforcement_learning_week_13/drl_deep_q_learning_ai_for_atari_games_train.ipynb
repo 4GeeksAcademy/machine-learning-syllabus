{
  "cells": [
    {
      "cell_type": "markdown",
      "metadata": {
        "id": "hI77A88gZYiK"
      },
      "source": [
        "#**First Deep Reinforcement Learning Algorithm: Deep Q Learning**\n",
        "\n",
        "#**Human-Like Artificial Intelligence for Atari Games** \n",
        "\n",
        "#**Train Program**"
      ]
    },
    {
      "cell_type": "markdown",
      "metadata": {
        "id": "UjyV5fCFZ-0W"
      },
      "source": [
        "#**Open AI Gym Toolkit**"
      ]
    },
    {
      "cell_type": "code",
      "execution_count": null,
      "metadata": {
        "colab": {
          "background_save": true
        },
        "id": "wVuLDSQyaAmK",
        "outputId": "f8e052df-11a4-473b-a22e-9648de8010d0"
      },
      "outputs": [
        {
          "name": "stdout",
          "output_type": "stream",
          "text": [
            "Colab Active:  True\n"
          ]
        }
      ],
      "source": [
        "import sys\n",
        "import timeit\n",
        "import os\n",
        "import os.path\n",
        "import platform\n",
        "colab_active = 'google.colab' in sys.modules\n",
        "print(\"Colab Active: \", colab_active)\n",
        "# Operating System\n",
        "OS = platform.system()                           # returns 'Windows', 'Linux', etc"
      ]
    },
    {
      "cell_type": "markdown",
      "metadata": {
        "id": "rjb17DdOD_sf"
      },
      "source": [
        "#**Import of all the needed Atari Roms**"
      ]
    },
    {
      "cell_type": "code",
      "execution_count": null,
      "metadata": {
        "id": "QTdjnuy4D27K"
      },
      "outputs": [],
      "source": [
        "if OS == \"Linux\":\n",
        "  if not os.path.exists(\"./Roms.rar\"):\n",
        "    os.system(\"wget http://www.atarimania.com/roms/Roms.rar\") \n",
        "    os.system(\"unrar x -o+ ./Roms.rar >/dev/null\")\n",
        "    os.system(\"python -m atari_py.import_roms ./ROMS >/dev/null\")"
      ]
    },
    {
      "cell_type": "markdown",
      "metadata": {
        "id": "0sBcbnMYaPJn"
      },
      "source": [
        "#**Gym Update**"
      ]
    },
    {
      "cell_type": "code",
      "execution_count": null,
      "metadata": {
        "colab": {
          "background_save": true
        },
        "id": "xzkHTogSaQKm"
      },
      "outputs": [],
      "source": [
        "os.system(\"pip install gym==0.17.3\")\n",
        "\n",
        "if OS == \"Linux\":\n",
        "  os.system(\"pip install gym[atari]\")\n",
        "elif OS == \"Windows\": \n",
        "  os.system(\"pip install -f https://github.com/Kojoley/atari-py/releases atari_py\")     # to make it work on windows\n",
        "\n",
        "if OS == \"Linux\":\n",
        "  os.system(\"pip install pyvirtualdisplay > /dev/null 2>&1\")\n",
        "  os.system(\"apt-get install -y xvfb python-opengl ffmpeg > /dev/null 2>&1\")\n",
        "\n",
        "  os.system(\"apt-get update > /dev/null 2>&1\")\n",
        "  os.system(\"apt-get install cmake > /dev/null 2>&1\")\n",
        "  os.system(\"pip install --upgrade setuptools 2>&1\")\n",
        "  os.system(\"pip install ez_setup > /dev/null 2>&1\")"
      ]
    },
    {
      "cell_type": "markdown",
      "metadata": {
        "id": "yJidnSCvZ2un"
      },
      "source": [
        "#**All General Imports**"
      ]
    },
    {
      "cell_type": "code",
      "execution_count": null,
      "metadata": {
        "colab": {
          "background_save": true
        },
        "id": "PCmVqEf6ZEqZ"
      },
      "outputs": [],
      "source": [
        "import numpy as np\n",
        "import glob\n",
        "import io\n",
        "import os.path\n",
        "import base64\n",
        "import math\n",
        "import random\n",
        "import gym\n",
        "from gym import logger as gymlogger\n",
        "from gym.wrappers import Monitor\n",
        "import numpy as np\n",
        "from collections import deque\n",
        "\n",
        "if colab_active is True: \n",
        "  from pyvirtualdisplay import Display\n",
        "  Display().start()\n",
        "\n",
        "  from IPython import display\n",
        "  from IPython.display import HTML\n",
        "  from IPython import display as ipythondisplay\n",
        "  import matplotlib\n",
        "  import matplotlib.pyplot as plt\n",
        "  %matplotlib inline"
      ]
    },
    {
      "cell_type": "markdown",
      "metadata": {
        "id": "19vHsXMbbAgO"
      },
      "source": [
        "#**All Tensorflow 2.0 Imports**"
      ]
    },
    {
      "cell_type": "code",
      "execution_count": null,
      "metadata": {
        "colab": {
          "background_save": true
        },
        "id": "2Gfbss5Ya-I2"
      },
      "outputs": [],
      "source": [
        "import tensorflow as tf\n",
        "from tensorflow.keras.models import Sequential\n",
        "from tensorflow.keras.layers import Dense, Activation, Flatten, Conv2D, MaxPooling2D\n",
        "from tensorflow.keras.optimizers import Adam\n",
        "from tensorflow.keras.models import model_from_json"
      ]
    },
    {
      "cell_type": "markdown",
      "metadata": {
        "id": "luD6eZE6m0Cp"
      },
      "source": [
        "#**All Globals**"
      ]
    },
    {
      "cell_type": "code",
      "execution_count": null,
      "metadata": {
        "colab": {
          "background_save": true
        },
        "id": "PraFJ9NOmyQA"
      },
      "outputs": [],
      "source": [
        "env_name = \"MsPacman-v0\"\n",
        "#num_episodes = 500   # 7 days\n",
        "num_episodes = 4\n",
        "num_timesteps = 20000\n",
        "batch_size = 8\n",
        "num_screens = 4\n",
        "load_pretrained = True\n",
        "summary = False\n",
        "random_policy = False"
      ]
    },
    {
      "cell_type": "markdown",
      "metadata": {
        "id": "KDMa--CkIdpk"
      },
      "source": [
        "#**All Functions Definitions**"
      ]
    },
    {
      "cell_type": "markdown",
      "metadata": {
        "id": "rifEcpt8IkiB"
      },
      "source": [
        "We first define a function to enable video recording of gym environment and displaying it to enable video, just writing ***env = wrap_env(env)***\n"
      ]
    },
    {
      "cell_type": "markdown",
      "metadata": {
        "id": "o4soPPK_IgoB"
      },
      "source": [
        "In ***preprocess_state***: we crop and resize the image, convert the image to greyscale, improve image contrast, normalize the image and     reshape the image.\n"
      ]
    },
    {
      "cell_type": "code",
      "execution_count": null,
      "metadata": {
        "colab": {
          "background_save": true
        },
        "id": "BiWb344mIa95"
      },
      "outputs": [],
      "source": [
        "def show_video():\n",
        "  mp4list = glob.glob('video/*.mp4')\n",
        "  if len(mp4list) > 0:\n",
        "    mp4 = mp4list[0]\n",
        "    video = io.open(mp4, 'r+b').read()\n",
        "    encoded = base64.b64encode(video)\n",
        "    ipythondisplay.display(HTML(data='''<video alt=\"test\" autoplay loop controls style=\"height: 400px;\">\n",
        "                                        <source src=\"data:video/mp4;base64,{0}\" type=\"video/mp4\" />\n",
        "                                        </video>'''.format(encoded.decode('ascii'))))\n",
        "  else: \n",
        "    print(\"Could not find video\")\n",
        "    \n",
        "def wrap_env(env):\n",
        "  env = Monitor(env, './video', force=True)\n",
        "  return env\n",
        "\n",
        "def preprocess_state(state):\n",
        "    image = state[1:176:2, ::2]\n",
        "    image = image.mean(axis=2)\n",
        "    image[image==color] = 0\n",
        "    image = (image - 128) / 128 - 1\n",
        "    image = np.expand_dims(image.reshape(88, 80, 1), axis=0)\n",
        "\n",
        "    return image"
      ]
    },
    {
      "cell_type": "markdown",
      "metadata": {
        "id": "So0K8WGjcsbu"
      },
      "source": [
        "#**All Initializations**"
      ]
    },
    {
      "cell_type": "markdown",
      "metadata": {
        "id": "9T2viBRCJDyK"
      },
      "source": [
        "Set the **Pacman** Environment"
      ]
    },
    {
      "cell_type": "code",
      "execution_count": null,
      "metadata": {
        "colab": {
          "background_save": true
        },
        "id": "LZFSQ104craf",
        "outputId": "bcc2cc63-31e0-46ff-ee40-fcfbfbe423dd"
      },
      "outputs": [
        {
          "name": "stdout",
          "output_type": "stream",
          "text": [
            "Discrete(9)\n"
          ]
        }
      ],
      "source": [
        "done = False\n",
        "time_step = 0\n",
        "\n",
        "if colab_active is True: \n",
        "  gymlogger.set_level(40)                              #error only\n",
        "  display = Display(visible=0, size=(1400, 900))\n",
        "  display.start()\n",
        "\n",
        "state_size = (88, 80, 1)\n",
        "color = np.array([210, 164, 74]).mean()\n",
        "\n",
        "if colab_active is True: \n",
        "  env = wrap_env(gym.make(env_name))\n",
        "else:\n",
        "  env = gym.make(env_name)\n",
        "\n",
        "action_size = env.action_space.n\n",
        "print(env.action_space)"
      ]
    },
    {
      "cell_type": "markdown",
      "metadata": {
        "id": "AxdGK0zqRsF-"
      },
      "source": [
        "#**Mounting Google Drive via Code**"
      ]
    },
    {
      "cell_type": "code",
      "execution_count": null,
      "metadata": {
        "id": "iNIzmA_ORkS8"
      },
      "outputs": [],
      "source": [
        "if colab_active is True: \n",
        "  from google.colab import drive\n",
        "  drive.mount('/content/drive')\n",
        "  sys.path.append('/content/drive/My Drive')\n",
        "  model_path = \"/content/drive/MyDrive/DL_Models/\"\n",
        "  if os.path.isdir(model_path) is False: \n",
        "    os.makedirs(model_path) \n",
        "else: \n",
        "  model_path = \"./\""
      ]
    },
    {
      "cell_type": "markdown",
      "metadata": {
        "id": "vPj5q-oKgCgx"
      },
      "source": [
        "#**All DQL Classes Definitions**"
      ]
    },
    {
      "cell_type": "markdown",
      "metadata": {
        "id": "kTqRC5tLgK7H"
      },
      "source": [
        "In the class DQN: we define the state size, the action size, the replay buffer, the discount factor, define the epsilon value, define the update rate at which we want to update the target networ, define the main network, the target network and copy the weights of the main network to the target network. \n",
        "\n",
        "Then we define a function called **build_network** which is essentially our DQN. \n",
        "\n",
        "\n"
      ]
    },
    {
      "cell_type": "markdown",
      "metadata": {
        "id": "mCAJSXCutrUr"
      },
      "source": [
        "From the theory, we learned that we train **DQN** by randomly sampling a minibatch of transitions from the replay **buffer**. So, we define a function called store_transition which stores the transition information into the replay buffer.\n"
      ]
    },
    {
      "cell_type": "markdown",
      "metadata": {
        "id": "GbHW1kAOuRhi"
      },
      "source": [
        "Furthermore, in **DQN**, to take care of exploration-exploitation trade off, we select action using the **epsilon-greedy** policy. So, now we define the function called epsilon_greedy for selecting action using the **epsilon-greedy policy**."
      ]
    },
    {
      "cell_type": "markdown",
      "metadata": {
        "id": "iK7rYIY2up9z"
      },
      "source": [
        "During the **Training**: sample a mini batch of transition from the replay buffer, compute the **Q value** using the target network, compute the **Q value** using the **main network**, train the main network and update the target network **weights** by copying from the main network.\n",
        "\n",
        "\n",
        "\n",
        "\n",
        " "
      ]
    },
    {
      "cell_type": "markdown",
      "metadata": {
        "id": "XLwbP7WqMMc1"
      },
      "source": [
        "![image.png](data:image/png;base64,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)"
      ]
    },
    {
      "cell_type": "code",
      "execution_count": null,
      "metadata": {
        "id": "RzZB5Sg6gDCJ"
      },
      "outputs": [],
      "source": [
        "class DQN:\n",
        "    def __init__(self, state_size, action_size, load_pretrained = False):\n",
        "        self.state_size = state_size\n",
        "        self.action_size = action_size\n",
        "        self.replay_buffer = deque(maxlen=5000)\n",
        "        self.gamma = 0.9  \n",
        "        self.epsilon = 0.8   \n",
        "        self.update_rate = 1000    \n",
        "        \n",
        "        if load_pretrained is True and os.path.isfile(model_path+ env_name.lower()+\"_deep_q_network.json\"): \n",
        "            with open(model_path+ env_name.lower()+\"_deep_q_network.json\", 'r') as json_file:\n",
        "                loaded_model_json = json_file.read()\n",
        "\n",
        "            self.main_network = model_from_json(loaded_model_json)\n",
        "            self.main_network.load_weights(model_path+ env_name.lower()+\"_deep_q_network.h5\")\n",
        "            print(\"Atari Deep Q Network Loaded Successfully...\")\n",
        "        else: \n",
        "            self.main_network = self.build_network()\n",
        "\n",
        "        self.main_network.compile(loss='mse', optimizer=Adam())\n",
        "\n",
        "        self.target_network = self.build_network()\n",
        "        self.target_network.set_weights(self.main_network.get_weights())\n",
        "\n",
        "    def build_network(self):\n",
        "        model = Sequential()\n",
        "        model.add(Conv2D(32, (8, 8), strides=4, padding='same', input_shape=self.state_size))\n",
        "        model.add(Activation('relu'))\n",
        "        model.add(Conv2D(64, (4, 4), strides=2, padding='same'))\n",
        "        model.add(Activation('relu'))\n",
        "        model.add(Conv2D(64, (3, 3), strides=1, padding='same'))\n",
        "        model.add(Activation('relu'))\n",
        "        model.add(Flatten())\n",
        "        model.add(Dense(512, activation='relu'))\n",
        "        model.add(Dense(self.action_size, activation='linear'))\n",
        "        \n",
        "        if summary is True: \n",
        "          model.summary()\n",
        "        \n",
        "        return model\n",
        "\n",
        "    def store_transistion(self, state, action, reward, next_state, done):\n",
        "        self.replay_buffer.append((state, action, reward, next_state, done))\n",
        "        \n",
        "    def epsilon_greedy(self, state):\n",
        "        if random.uniform(0,1) < self.epsilon:\n",
        "            return np.random.randint(self.action_size)\n",
        "        Q_values = self.main_network.predict(state)\n",
        "        \n",
        "        return np.argmax(Q_values[0])\n",
        "\n",
        "    def train(self, batch_size):\n",
        "        minibatch = random.sample(self.replay_buffer, batch_size)\n",
        "        for state, action, reward, next_state, done in minibatch:\n",
        "            if not done:\n",
        "                target_Q = (reward + self.gamma * np.amax(self.target_network.predict(next_state)))\n",
        "            else:\n",
        "                target_Q = reward\n",
        "            Q_values = self.main_network.predict(state)\n",
        "            Q_values[0][action] = target_Q\n",
        "\n",
        "            self.main_network.fit(state, Q_values, epochs=1, verbose=0)\n",
        "            \n",
        "    def update_target_network(self):\n",
        "        self.target_network.set_weights(self.main_network.get_weights())"
      ]
    },
    {
      "cell_type": "markdown",
      "metadata": {
        "id": "vwaoAAaBJWcB"
      },
      "source": [
        "#**Random Policy Sanity Check**"
      ]
    },
    {
      "cell_type": "code",
      "execution_count": null,
      "metadata": {
        "id": "T-IKPwhhJVop"
      },
      "outputs": [],
      "source": [
        "if random_policy is True: \n",
        "  observation = env.reset()\n",
        "  while True:\n",
        "      if OS == \"Linux\" and colab_active is False:\n",
        "        env.render()\n",
        "      action = env.action_space.sample() \n",
        "      observation, reward, done, info = env.step(action) \n",
        "      if done: \n",
        "        break;\n",
        "  env.close()\n",
        "  if colab_active is True: \n",
        "    show_video()"
      ]
    },
    {
      "cell_type": "markdown",
      "metadata": {
        "id": "SwiyV16hlcyW"
      },
      "source": [
        "#**Deep Q Network Policy**"
      ]
    },
    {
      "cell_type": "markdown",
      "metadata": {
        "id": "FUsnfN-1ou2o"
      },
      "source": [
        "For the training stage: we preprocess the game screen, render the environment, update the time step, update the target network, select the action, perform the selected action, preprocess the next state, store the transition information, update current state to next state and update the return. If the episode is done then print the return.  If the number of transistions in the replay buffer is greater than batch size, then train the network.\n"
      ]
    },
    {
      "cell_type": "code",
      "execution_count": null,
      "metadata": {
        "id": "QmOSRFc2lcO2"
      },
      "outputs": [],
      "source": [
        "start_learning_time = timeit.default_timer()\n",
        "dqn = DQN(state_size, action_size, load_pretrained)\n",
        "\n",
        "for i in range(num_episodes):\n",
        "    Return = 0\n",
        "    state = preprocess_state(env.reset())\n",
        "    for t in range(num_timesteps):\n",
        "        if OS == \"Linux\" and colab_active is False:\n",
        "          env.render()\n",
        "        time_step += 1\n",
        "        if time_step % dqn.update_rate == 0:\n",
        "            dqn.update_target_network()\n",
        "        action = dqn.epsilon_greedy(state)\n",
        "        next_state, reward, done, _ = env.step(action)\n",
        "        next_state = preprocess_state(next_state)\n",
        "        dqn.store_transistion(state, action, reward, next_state, done)\n",
        "        state = next_state\n",
        "        Return += reward\n",
        "        \n",
        "        if done:\n",
        "            print('Episode: ',i, ',' 'Return', Return)\n",
        "            break\n",
        "            \n",
        "        if len(dqn.replay_buffer) > batch_size:\n",
        "            dqn.train(batch_size)        \n",
        "\n",
        "    # Save the last model after each episode\n",
        "    dqn.main_network.save_weights(model_path+env_name.lower()+\"_deep_q_network.h5\")\n",
        "    model_json = dqn.main_network.to_json()\n",
        "    with open(model_path+env_name.lower()+\"_deep_q_network.json\", \"w\") as json_file: \n",
        "      json_file.write(model_json) \n",
        "\n",
        "env.close()\n",
        "if colab_active is True: \n",
        "  show_video()\n",
        "\n",
        "print(\"Total Life Episodes Elapsed Time: \", timeit.default_timer() - start_learning_time)"
      ]
    },
    {
      "cell_type": "markdown",
      "metadata": {
        "id": "RvQ7kPU-aQ5g"
      },
      "source": [
        "#**Homeworks**"
      ]
    },
    {
      "cell_type": "markdown",
      "metadata": {
        "id": "j0r4G_DzaUsl"
      },
      "source": [
        "1) Try to train the model for at leas 10 episodes\n",
        "\n",
        "2) Try to apply the System to other Atari games (i.e. pong) \n",
        "\n",
        "3) Try to train with TPUs, of course it will introduce a further complication"
      ]
    },
    {
      "cell_type": "code",
      "execution_count": null,
      "metadata": {
        "id": "md9SM_C9aUJo"
      },
      "outputs": [],
      "source": [
        ""
      ]
    },
    {
      "cell_type": "code",
      "execution_count": null,
      "metadata": {
        "id": "tWNhbXAtaP2J"
      },
      "outputs": [],
      "source": [
        ""
      ]
    }
  ],
  "metadata": {
    "accelerator": "TPU",
    "colab": {
      "collapsed_sections": [],
      "name": "drl_deep_q_learning_ai_for_atari_games_train.ipynb",
      "provenance": []
    },
    "kernelspec": {
      "display_name": "Python 3",
      "name": "python3"
    },
    "language_info": {
      "name": "python"
    }
  },
  "nbformat": 4,
  "nbformat_minor": 0
}