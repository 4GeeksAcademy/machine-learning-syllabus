{
 "cells": [
  {
   "cell_type": "markdown",
   "id": "bdfbcacc",
   "metadata": {},
   "source": [
    "# Final mini project"
   ]
  },
  {
   "cell_type": "markdown",
   "id": "768493ee",
   "metadata": {},
   "source": [
    "With this single file, it is intended to apply the knowledge learned in the statistics course, for a real dataset.\n",
    "\n",
    "You already worked in previous sessions with this dataset but here you have a short description again:\n",
    "\n",
    "## The dataset\n",
    "\n",
    "This is a real dataset and it was downloaded using web scraping techniques. The data contains registers from fotocasa which is one of the most popular websites of real estate in Spain. Please, do not do this (web scraping) unless it is for academic purposes.\n",
    "\n",
    "The dataset was downloaded a few years ago by Henry Navarro and In no case were economic returns obtained from it.\n",
    "\n",
    "It contains thousands of data from real homes published on the web www.fotocasa.com. Your goal is to extract as much information as possible with the knowledge you have so far about data science, for example what is the most expensive home in the entire dataset?\n",
    "\n",
    "Let's start with precisely that question... Good luck!\n",
    "\n",
    "\n",
    "\n",
    "### NOTE: You must replace the values `<<<FIXME>>>`."
   ]
  },
  {
   "cell_type": "markdown",
   "id": "dd97255d",
   "metadata": {},
   "source": [
    "#### Exercise: Load the data `inmuebles.Rdata` that has been exported in the language R. It is located in the folder data_in."
   ]
  },
  {
   "cell_type": "code",
   "execution_count": null,
   "id": "4b93d9c8",
   "metadata": {},
   "outputs": [],
   "source": [
    "import pyreadr\n",
    "import pandas as pd\n",
    "\n",
    "data_scrap = pyreadr.read_r('<<<FIXME>>>') # also works for Rds\n",
    "data_scrap[\"<<<FIXME>>>\"] # Note that there are many columns are not shown below"
   ]
  },
  {
   "cell_type": "markdown",
   "id": "c1e2b530",
   "metadata": {},
   "source": [
    "#### Exercise: make a visualization of the data and a short description of them."
   ]
  },
  {
   "cell_type": "code",
   "execution_count": null,
   "id": "c78d0556",
   "metadata": {},
   "outputs": [],
   "source": [
    "data_scrap = data_scrap[\"<<<FIXME>>>\"]\n",
    "<<<FIXME>>>.describe()"
   ]
  },
  {
   "cell_type": "markdown",
   "id": "97e4e061",
   "metadata": {},
   "source": [
    "#### Exercise: subset the dataset for the population (level5 column) of Arroyomolinos (Madrid)?"
   ]
  },
  {
   "cell_type": "code",
   "execution_count": null,
   "id": "fad1bb3d",
   "metadata": {},
   "outputs": [],
   "source": [
    "import numpy as np\n",
    "df_temp = data_scrap.iloc[np.where(data_scrap[\"<<<FIXME>>>\"] == \"<<<FIXME>>>\")[0],:]\n",
    "\n",
    "# or\n",
    "df_temp = data_scrap[(data_scrap[\"<<<FIXME>>>\"] == \"<<<FIXME>>>\").values]\n",
    "df_temp"
   ]
  },
  {
   "cell_type": "markdown",
   "id": "842fe544",
   "metadata": {},
   "source": [
    "#### Exercise: should you take values greater than 0?"
   ]
  },
  {
   "cell_type": "code",
   "execution_count": null,
   "id": "44ec5c71",
   "metadata": {},
   "outputs": [],
   "source": [
    "df_temp = df_temp[(<<<FIXME>>>).values]\n",
    "df_temp"
   ]
  },
  {
   "cell_type": "markdown",
   "id": "961d7dbe",
   "metadata": {},
   "source": [
    "#### Exercise: Make a plot of the distribution of the price variable."
   ]
  },
  {
   "cell_type": "code",
   "execution_count": null,
   "id": "d9c1fcce",
   "metadata": {},
   "outputs": [],
   "source": [
    "import matplotlib.pyplot as plt\n",
    "plt.hist(df_temp.<<<FIXME>>>)"
   ]
  },
  {
   "cell_type": "markdown",
   "id": "152b6a33",
   "metadata": {},
   "source": [
    "#### Exercise: Could you approach what is the population average of the town (level5 column) of Arroyomolinos (Madrid)?"
   ]
  },
  {
   "cell_type": "code",
   "execution_count": null,
   "id": "e682fd39",
   "metadata": {},
   "outputs": [],
   "source": [
    "from statsmodels.stats.diagnostic import lilliefors\n",
    "D_statistic, p_value = lilliefors(<<<FIXME>>>)\n",
    "print(\"D statistic: \"+ str(D_statistic))\n",
    "print(\"p-value: \"+ str(p_value))"
   ]
  },
  {
   "cell_type": "code",
   "execution_count": null,
   "id": "8dcf7ed0",
   "metadata": {},
   "outputs": [],
   "source": [
    "from scipy import stats\n",
    "stats.ttest_1samp(a = <<<FIXME>>>, popmean = 290000, alternative='two-sided')"
   ]
  },
  {
   "cell_type": "markdown",
   "id": "f90df33e",
   "metadata": {},
   "source": [
    "#### Exercise: Subset just the south population of Madrid (\"Fuenlabrada\",\"Leganés\",\"Getafe\",\"Alcorcón\") using the level5 column"
   ]
  },
  {
   "cell_type": "code",
   "execution_count": null,
   "id": "2a05d52d",
   "metadata": {},
   "outputs": [],
   "source": [
    "data_scrap = data_scrap[(data_scrap.level5.isin([\"Fuenlabrada\",\"Leganés\",\"Getafe\",\"Alcorcón\"]))]\n",
    "data_scrap"
   ]
  },
  {
   "cell_type": "markdown",
   "id": "129ef9f6",
   "metadata": {},
   "source": [
    "#### Exercise: Calculate the mean and sample variance of the variables price, rooms, surface area and bathrooms"
   ]
  },
  {
   "cell_type": "code",
   "execution_count": null,
   "id": "f3754cb9",
   "metadata": {
    "scrolled": true
   },
   "outputs": [],
   "source": [
    "data_scrap.loc[:,[\"price\",\"rooms\",\"surface\",\"bathrooms\"]].apply(<<<FIXME>>>)"
   ]
  },
  {
   "cell_type": "code",
   "execution_count": null,
   "id": "17adc754",
   "metadata": {},
   "outputs": [],
   "source": [
    "data_scrap.loc[:,[\"price\",\"rooms\",\"surface\",\"bathrooms\"]].apply(<<<FIXME>>>)\n",
    "data_scrap.loc[:,[\"price\",\"rooms\",\"surface\",\"bathrooms\"]].apply(<<<FIXME>>>)"
   ]
  },
  {
   "cell_type": "markdown",
   "id": "b02528fe",
   "metadata": {},
   "source": [
    "#### Exercise: Run the same calculations by each population (level5 column)"
   ]
  },
  {
   "cell_type": "code",
   "execution_count": null,
   "id": "f5d93d40",
   "metadata": {},
   "outputs": [],
   "source": [
    "data_scrap.groupby(\"level5\")[[\"price\",\"rooms\",\"surface\",\"bathrooms\"]].apply(<<<FIXME>>>)"
   ]
  },
  {
   "cell_type": "code",
   "execution_count": null,
   "id": "31bffd74",
   "metadata": {},
   "outputs": [],
   "source": [
    "data_scrap.groupby(\"level5\")[[\"price\",\"rooms\",\"surface\",\"bathrooms\"]].apply(<<<FIXME>>>)\n",
    "data_scrap.groupby(\"level5\")[[\"price\",\"rooms\",\"surface\",\"bathrooms\"]].apply(<<<FIXME>>>)"
   ]
  },
  {
   "cell_type": "markdown",
   "id": "44f35295",
   "metadata": {},
   "source": [
    "#### Exercise: What is the most expensive home in each town (level5)?"
   ]
  },
  {
   "cell_type": "code",
   "execution_count": null,
   "id": "0fec09c1",
   "metadata": {},
   "outputs": [],
   "source": [
    "data_scrap.groupby(\"level5\")[[\"price\"]].apply(<<<FIXME>>>)"
   ]
  },
  {
   "cell_type": "markdown",
   "id": "372c7384",
   "metadata": {},
   "source": [
    "#### Exercise: Plot map with the data you have"
   ]
  },
  {
   "cell_type": "code",
   "execution_count": null,
   "id": "1b780de3",
   "metadata": {},
   "outputs": [],
   "source": [
    "import folium\n",
    "\n",
    "#Define coordinates of where we want to center our map\n",
    "init_coords = [23.562673, -39.801750] # \"Center of the world\" coordinates\n",
    "\n",
    "#Create the map\n",
    "my_map = folium.Map(location = init_coords, zoom_start = 2.5)\n",
    "\n",
    "#Display the map\n",
    "my_map"
   ]
  },
  {
   "cell_type": "code",
   "execution_count": null,
   "id": "a19efad0",
   "metadata": {},
   "outputs": [],
   "source": [
    "# Set colors\n",
    "# colors folium, see documentation = https://python-visualization.github.io/folium/modules.html#:~:text=You%20can%20use%3A,the%20drawing%20on%20the%20marker.\n",
    "my_colors = np.array(['red', 'blue', 'green', 'purple', 'orange', 'darkred', 'lightred', 'beige', 'darkblue', 'darkgreen',\n",
    " 'cadetblue', 'darkpurple', 'white', 'pink', 'lightblue', 'lightgreen', 'gray', 'black', 'lightgray'])\n",
    "my_colors = np.random.choice(my_colors,4 ,replace=False)\n",
    "\n",
    "# Create dataframe of colors by population\n",
    "populations = np.unique(data_scrap[\"level5\"])\n",
    "my_colors = pd.concat([pd.Series(my_colors), pd.Series(populations)], axis=1)\n",
    "print(my_colors) #RGB colors\n",
    "\n",
    "\n",
    "df_temp = data_scrap[[\"latitude\",\"longitude\", \"id_realEstates\", \"level5\" ]]\n",
    "\n",
    "g = df_temp.groupby('level5')\n",
    "df_temp = g.apply(lambda x: x.sample(100).reset_index(drop=True))\n",
    "\n",
    "\n",
    "for index, (<<<FIXME>>>, <<<FIXME>>>, my_id, pop) in df_temp.iterrows():\n",
    "    color_temp = my_colors.iloc[np.where(my_colors.iloc[:,1]==pop)[0],0].tolist()[0] # choose color from data frame\n",
    "    new_coords= folium.Marker([lat, lon], popup = str(my_id), icon=folium.Icon(color=color_temp)).add_to(my_map) # add new marker\n",
    "\n",
    "my_map"
   ]
  },
  {
   "cell_type": "markdown",
   "id": "48865a14",
   "metadata": {},
   "source": [
    "#### Exercise: what do you observe? fix the problem (if any)"
   ]
  },
  {
   "cell_type": "code",
   "execution_count": null,
   "id": "f54980e8",
   "metadata": {},
   "outputs": [],
   "source": [
    "# Delete rows with the following values\n",
    "data_scrap= data_scrap[(data_scrap['latitude']!=0) | (data_scrap['longitude']!=0)]\n",
    "data_scrap=data_scrap.reset_index(drop=True)\n",
    "\n",
    "# Initialize map\n",
    "#Define coordinates of where we want to center our map\n",
    "init_coords = [40.4167278, -3.7033387] # Madrid coordinates\n",
    "\n",
    "#Create the map\n",
    "my_map = folium.Map(location = init_coords, zoom_start = 5)\n",
    "\n",
    "\n",
    "# Set colors\n",
    "# colors folium, see documentation = https://python-visualization.github.io/folium/modules.html#:~:text=You%20can%20use%3A,the%20drawing%20on%20the%20marker.\n",
    "my_colors = np.array(['red', 'blue', 'green', 'purple', 'orange', 'darkred', 'lightred', 'beige', 'darkblue', 'darkgreen',\n",
    " 'cadetblue', 'darkpurple', 'white', 'pink', 'lightblue', 'lightgreen', 'gray', 'black', 'lightgray'])\n",
    "my_colors = np.random.choice(my_colors,4)\n",
    "\n",
    "# Create dataframe of colors by population\n",
    "my_colors = pd.concat([pd.Series(my_colors), pd.Series(populations)], axis=1)\n",
    "print(my_colors) #RGB colors\n",
    "\n",
    "\n",
    "df_temp = data_scrap[[\"latitude\",\"longitude\", \"id_realEstates\", \"level5\" ]]\n",
    "\n",
    "g = df_temp.groupby('level5')\n",
    "df_temp = g.apply(lambda x: x.sample(100).reset_index(drop=True))\n",
    "\n",
    "\n",
    "for index, (lat, lon, my_id, pop) in df_temp.iterrows():\n",
    "    color_temp = my_colors.iloc[np.where(my_colors.iloc[:,1]==pop)[0],0].tolist()[0] # choose color from data frame\n",
    "    new_coords= folium.Marker([lat, lon], popup = str(my_id), icon=folium.Icon(color=color_temp)).add_to(my_map) # add new marker\n",
    "\n",
    "\n",
    "    my_map"
   ]
  },
  {
   "cell_type": "markdown",
   "id": "c928f446",
   "metadata": {},
   "source": [
    "#### Exercise: What can you say about the variables of price and area in square meters?"
   ]
  },
  {
   "cell_type": "code",
   "execution_count": null,
   "id": "05e44f99",
   "metadata": {},
   "outputs": [],
   "source": [
    "%reset -f\n",
    "import numpy as np\n",
    "import pyreadr\n",
    "import pandas as pd\n",
    "\n",
    "data_scrap = pyreadr.read_r('<<<FIXME>>>') # also works for Rds\n",
    "data_scrap = data_scrap[\"data_scrap\"] # Note that there are many columns are not shown below\n",
    "\n",
    "\n",
    "data_scrap = data_scrap[(data_scrap.level5.isin([\"<<<FIXME>>>\",\"<<<FIXME>>>\",\"<<<FIXME>>>\",\"<<<FIXME>>>\"]))]\n",
    "\n",
    "df_temp = data_scrap[[\"surface\",\"price\"]].dropna().reset_index(drop=True)\n",
    "df_temp = df_temp.apply(pd.to_numeric)\n",
    "np.corrcoef(df_temp.surface,df_temp.price)[0,1]"
   ]
  },
  {
   "cell_type": "markdown",
   "id": "58f51f84",
   "metadata": {},
   "source": [
    "#### Exercise: plot a scatter plot fo the surface vs. price"
   ]
  },
  {
   "cell_type": "code",
   "execution_count": null,
   "id": "c85ab869",
   "metadata": {},
   "outputs": [],
   "source": [
    "import matplotlib.pyplot as plt\n",
    "plt.scatter(data_scrap.<<<FIXME>>>,data_scrap.<<<FIXME>>>)"
   ]
  },
  {
   "cell_type": "code",
   "execution_count": null,
   "id": "4e0c60b5",
   "metadata": {},
   "outputs": [],
   "source": [
    "# You will detail this model in the following lessons, don't worry about it\n",
    "from sklearn.linear_model import LinearRegression\n",
    "model = LinearRegression()\n",
    "\n",
    "x = np.array(df_temp.surface).reshape((-1, 1))\n",
    "y = np.array(df_temp.price)\n",
    "\n",
    "model.fit(x, y)"
   ]
  },
  {
   "cell_type": "code",
   "execution_count": null,
   "id": "61b1d27b",
   "metadata": {},
   "outputs": [],
   "source": [
    "predictions = model.predict(x)\n",
    "plt.plot(x,y,'o')\n",
    "# change here\n",
    "plt.plot(x, predictions, '-')\n",
    "plt.show()"
   ]
  },
  {
   "cell_type": "markdown",
   "id": "2598234b",
   "metadata": {},
   "source": [
    "#### Exercise: is there som correlation betweern variable surface and price?"
   ]
  },
  {
   "cell_type": "code",
   "execution_count": null,
   "id": "563616f8",
   "metadata": {},
   "outputs": [],
   "source": [
    "from scipy import stats\n",
    "corr_val, p_value = stats.pearsonr(df_temp['<<<FIXME>>>'], df_temp['<<<FIXME>>>'])\n",
    "print(\"Correlation value: \"+ str(corr_val))\n",
    "print(\"p-value: \"+ str(p_value))"
   ]
  },
  {
   "cell_type": "markdown",
   "id": "20b51209",
   "metadata": {},
   "source": [
    "#### Exercise: Is there something that catches your attention in the previous plot? (see the lowest values)"
   ]
  },
  {
   "cell_type": "code",
   "execution_count": null,
   "id": "9e4c8bab",
   "metadata": {},
   "outputs": [],
   "source": [
    "df_temp = <<<FIXME>>>\n",
    "\n",
    "price_norm = (df_temp.price-np.mean(df_temp.price))/np.std(df_temp.price) # you will learn a good technique in the following lessons\n",
    "\n",
    "\n",
    "model = LinearRegression()\n",
    "\n",
    "x = np.array(df_temp.surface).reshape((-1, 1))\n",
    "y = np.array(df_temp.price)\n",
    "\n",
    "model.fit(x, y)\n",
    "\n",
    "\n",
    "predictions = model.predict(x)\n",
    "plt.plot(x,y,'o')\n",
    "# change here\n",
    "plt.plot(x, predictions, '-')\n",
    "plt.show()"
   ]
  },
  {
   "cell_type": "markdown",
   "id": "844b1418",
   "metadata": {},
   "source": [
    "#### Exercise: Is your datasetset free of outliers for the variables price, rooms, area and bathrooms?"
   ]
  },
  {
   "cell_type": "code",
   "execution_count": null,
   "id": "7ef50786",
   "metadata": {},
   "outputs": [],
   "source": [
    "%reset -f\n",
    "import numpy as np\n",
    "import pyreadr\n",
    "import pandas as pd\n",
    "import matplotlib.pyplot as plt\n",
    "\n",
    "data_scrap = pyreadr.read_r('<<<FIXME>>>') # also works for Rds\n",
    "data_scrap = data_scrap[\"data_scrap\"] # Note that there are many columns are not shown below\n",
    "\n",
    "\n",
    "data_scrap = data_scrap[(data_scrap.level5.isin([\"Fuenlabrada\",\"Leganés\",\"Getafe\",\"Alcorcón\"]))]\n",
    "\n",
    "\n",
    "\n",
    "\n",
    "# Boxplots\n",
    "plt.boxplot(data_scrap.<<<FIXME>>>)\n",
    "plt.title('Boxplot price')\n",
    "plt.xlabel('Variables')\n",
    "plt.ylabel('Values')\n",
    "plt.show()\n",
    "\n",
    "plt.boxplot(data_scrap.<<<FIXME>>>)\n",
    "plt.title('Boxplot rooms')\n",
    "plt.xlabel('Variables')\n",
    "plt.ylabel('Values')\n",
    "plt.show()\n",
    "\n",
    "plt.boxplot(data_scrap.<<<FIXME>>>)\n",
    "plt.title('Boxplot bathrooms')\n",
    "plt.xlabel('Variables')\n",
    "plt.ylabel('Values')\n",
    "plt.show()\n",
    "\n",
    "plt.boxplot(data_scrap.<<<FIXME>>>)\n",
    "plt.title('Boxplot surface')\n",
    "plt.xlabel('Variables')\n",
    "plt.ylabel('Values')\n",
    "plt.show()"
   ]
  },
  {
   "cell_type": "markdown",
   "id": "f74b7e5f",
   "metadata": {},
   "source": [
    "#### Exercise: Did you receive any warning? why\n",
    "Hint: try to remove NA's values"
   ]
  },
  {
   "cell_type": "code",
   "execution_count": null,
   "id": "3afe560f",
   "metadata": {},
   "outputs": [],
   "source": [
    "data_scrap = data_scrap.drop([\"zipCode\", \"customZone\"], axis=1)\n",
    "df_temp = data_scrap[[\"price\", \"rooms\", \"bathrooms\", \"surface\"]]\n",
    "df_temp = <<<FIXME>>>\n",
    "df_temp = df_temp.apply() # Convert values to numeric\n",
    "\n",
    "# Boxplots\n",
    "plt.boxplot(df_temp.price)\n",
    "plt.title('Boxplot price')\n",
    "plt.xlabel('Variables')\n",
    "plt.ylabel('Values')\n",
    "plt.show()\n",
    "\n",
    "plt.boxplot(df_temp.rooms)\n",
    "plt.title('Boxplot rooms')\n",
    "plt.xlabel('Variables')\n",
    "plt.ylabel('Values')\n",
    "plt.show()\n",
    "\n",
    "plt.boxplot(df_temp.bathrooms)\n",
    "plt.title('Boxplot bathrooms')\n",
    "plt.xlabel('Variables')\n",
    "plt.ylabel('Values')\n",
    "plt.show()\n",
    "\n",
    "plt.boxplot(df_temp.surface)\n",
    "plt.title('Boxplot surface')\n",
    "plt.xlabel('Variables')\n",
    "plt.ylabel('Values')\n",
    "plt.show()"
   ]
  },
  {
   "cell_type": "markdown",
   "id": "04689691",
   "metadata": {},
   "source": [
    "#### Exercise: Remove the outliers using the boxplots. \n",
    "Hint: check this https://datascience.stackexchange.com/questions/54808/how-to-remove-outliers-using-box-plot"
   ]
  },
  {
   "cell_type": "code",
   "execution_count": null,
   "id": "aada5ad5",
   "metadata": {},
   "outputs": [],
   "source": [
    "# Define a function that remove outliers\n",
    "def remove_outliers (x):\n",
    "    qnt = np.percentile(x, [75, 25])\n",
    "    IQR = qnt[0] - qnt[1]\n",
    "    H = 1.5 * IQR\n",
    "    y = x\n",
    "    y[x < (qnt[0] - H)] = np.nan\n",
    "    y[x > (qnt[1] + H)] = np.nan\n",
    "    return(y)\n",
    "\n",
    "df_temp = data_scrap[[\"price\", \"rooms\", \"bathrooms\", \"surface\",\"level5\"]]\n",
    "df_temp = df_temp.groupby(\"level5\").apply(<<<FIXME>>>)\n",
    "\n",
    "# We choose just the columns we want\n",
    "df_temp = df_temp[[\"price\", \"rooms\", \"bathrooms\", \"surface\"]]\n",
    "df_temp = df_temp.dropna() \n",
    "df_temp = df_temp.apply(pd.to_numeric)\n",
    "\n",
    "df_temp"
   ]
  },
  {
   "cell_type": "markdown",
   "id": "986463c2",
   "metadata": {},
   "source": [
    "#### Exercise: Make the boxplot of each variable we are considering."
   ]
  },
  {
   "cell_type": "code",
   "execution_count": null,
   "id": "c6f3a7db",
   "metadata": {},
   "outputs": [],
   "source": [
    "# Boxplots\n",
    "plt.boxplot(df_temp.<<<FIXME>>>)\n",
    "plt.title('Boxplot price')\n",
    "plt.xlabel('Variables')\n",
    "plt.ylabel('Values')\n",
    "plt.show()\n",
    "\n",
    "plt.boxplot(df_temp.<<<FIXME>>>)\n",
    "plt.title('Boxplot rooms')\n",
    "plt.xlabel('Variables')\n",
    "plt.ylabel('Values')\n",
    "plt.show()\n",
    "\n",
    "plt.boxplot(df_temp.<<<FIXME>>>)\n",
    "plt.title('Boxplot bathrooms')\n",
    "plt.xlabel('Variables')\n",
    "plt.ylabel('Values')\n",
    "plt.show()\n",
    "\n",
    "plt.boxplot(df_temp.<<<FIXME>>>)\n",
    "plt.title('Boxplot surface')\n",
    "plt.xlabel('Variables')\n",
    "plt.ylabel('Values')\n",
    "plt.show()"
   ]
  },
  {
   "cell_type": "markdown",
   "id": "2d805312",
   "metadata": {},
   "source": [
    "#### Exercise: should you remove again the outliers? why? think about it"
   ]
  },
  {
   "cell_type": "markdown",
   "id": "6dcdde9e",
   "metadata": {},
   "source": [
    "#### Exercise: is there something you can say about the distribution of the price variable for each locality?"
   ]
  },
  {
   "cell_type": "code",
   "execution_count": null,
   "id": "bf0616ce",
   "metadata": {},
   "outputs": [],
   "source": [
    "import numpy as np \n",
    "import pylab \n",
    "import scipy.stats as stats\n",
    "\n",
    "df_temp = data_scrap[[\"price\",\"level5\"]]\n",
    "\n",
    "\n",
    "measurements = df_temp.loc[df_temp[\"level5\"]==\"<<<FIXME>>>\", \"price\"]\n",
    "stats.probplot(measurements, dist=\"norm\", plot=pylab)\n",
    "pylab.show()\n",
    "\n",
    "measurements = df_temp.loc[df_temp[\"level5\"]==\"<<<FIXME>>>\", \"price\"]\n",
    "stats.probplot(measurements, dist=\"norm\", plot=pylab)\n",
    "pylab.show()\n",
    "\n",
    "measurements = df_temp.loc[df_temp[\"level5\"]==\"<<<FIXME>>>\", \"price\"]\n",
    "stats.probplot(measurements, dist=\"norm\", plot=pylab)\n",
    "pylab.show()\n",
    "\n",
    "measurements = df_temp.loc[df_temp[\"level5\"]==\"<<<FIXME>>>\", \"price\"]\n",
    "stats.probplot(measurements, dist=\"norm\", plot=pylab)\n",
    "pylab.show()"
   ]
  },
  {
   "cell_type": "markdown",
   "id": "14290941",
   "metadata": {},
   "source": [
    "#### Exercise: Perform a t-test to determine if the average price in Getafe is 250000"
   ]
  },
  {
   "cell_type": "code",
   "execution_count": null,
   "id": "50ac2907",
   "metadata": {},
   "outputs": [],
   "source": [
    "from scipy import stats\n",
    "\n",
    "df_temp = data_scrap[data_scrap[\"level5\"]==\"Getafe\"]\n",
    "\n",
    "tipTTest = stats.ttest_1samp(a = df_temp.<<<FIXME>>>, popmean = 250000, alternative='<<<FIXME>>>')\n",
    "tipTTest"
   ]
  },
  {
   "cell_type": "markdown",
   "id": "9833542a",
   "metadata": {},
   "source": [
    "#### Exercise: What can you say about the price per square meter between the towns of Getafe and Alcorcón"
   ]
  },
  {
   "cell_type": "code",
   "execution_count": null,
   "id": "f9970b12",
   "metadata": {},
   "outputs": [],
   "source": [
    "df_temp = data_scrap[data_scrap[\"level5\"].isin([\"Getafe\",\"Alcorcón\"])]\n",
    "df_temp = df_temp[[\"price\", \"rooms\", \"bathrooms\", \"surface\",\"level5\"]]\n",
    "\n",
    "\n",
    "# We choose just the columns we want\n",
    "df_temp = df_temp[[\"price\", \"surface\",\"level5\"]]\n",
    "df_temp = df_temp.dropna()\n",
    "\n",
    "\n",
    "getafe =  df_temp[df_temp[\"level5\"]== \"Getafe\"]\n",
    "getafe = getafe[[\"price\", \"surface\"]]\n",
    "getafe = getafe.apply(pd.to_numeric)\n",
    "alcorcon = df_temp[df_temp[\"level5\"]== \"Alcorcón\"]\n",
    "alcorcon = alcorcon[[\"price\", \"surface\"]]\n",
    "alcorcon = alcorcon.apply(pd.to_numeric)\n",
    "\n",
    "\n",
    "getafe = getafe[\"<<<FIXME>>>\"]/getafe[\"<<<FIXME>>>\"]\n",
    "alcorcon = alcorcon[\"<<<FIXME>>>\"]/alcorcon[\"<<<FIXME>>>\"]\n",
    "\n",
    "stats.ttest_ind(<<<FIXME>>>, <<<FIXME>>>, axis=0, equal_var=<<<FIXME>>>)  # H0: x-y = 0 what value does p-value have?\n"
   ]
  },
  {
   "cell_type": "markdown",
   "id": "49bf5c5a",
   "metadata": {},
   "source": [
    "#### Perform an ANalysis Of VAriance for the mean of all locations"
   ]
  },
  {
   "cell_type": "code",
   "execution_count": null,
   "id": "b5a034dc",
   "metadata": {},
   "outputs": [],
   "source": [
    "%reset -f\n",
    "import numpy as np\n",
    "import pyreadr\n",
    "import pandas as pd\n",
    "\n",
    "data_scrap = pyreadr.read_r('inmuebles.Rdata') # also works for Rds\n",
    "data_scrap = data_scrap[\"data_scrap\"] # Note that there are many columns are not shown below\n",
    "data_scrap = data_scrap.drop([\"zipCode\", \"customZone\"], axis=1)\n",
    "\n",
    "data_scrap = data_scrap[(data_scrap.level5.isin([\"Fuenlabrada\",\"Leganés\",\"Getafe\",\"Alcorcón\"]))]\n",
    "\n",
    "\n",
    "# get ANOVA table as R like output\n",
    "import statsmodels.api as sm\n",
    "from statsmodels.formula.api import ols\n",
    "\n",
    "data_scrap[\"pricem2\"] = data_scrap[\"<<<FIXME>>>\"]/data_scrap[\"<<<FIXME>>>\"]\n",
    "data_scrap[\"pricem2\"] = pd.to_numeric(data_scrap[\"pricem2\"])\n",
    "\n",
    "# Ordinary Least Squares (OLS) model\n",
    "model = ols('<<<FIXME>>> ~ <<<FIXME>>>', data=data_scrap).fit()\n",
    "anova_table = sm.stats.anova_lm(model, typ=2)\n",
    "anova_table"
   ]
  },
  {
   "cell_type": "markdown",
   "id": "f75a9f4c",
   "metadata": {},
   "source": [
    "#### Exercise: Reload the data. Is the average price of Valdemorillo and Galapagar the same? Solve the following steps:"
   ]
  },
  {
   "cell_type": "code",
   "execution_count": null,
   "id": "762d423e",
   "metadata": {},
   "outputs": [],
   "source": [
    "%reset -f\n",
    "import numpy as np\n",
    "import pyreadr\n",
    "import pandas as pd\n",
    "\n",
    "data_scrap = pyreadr.read_r('<<<FIXME>>>') # also works for Rds\n",
    "data_scrap = data_scrap[\"data_scrap\"] # Note that there are many columns are not shown below\n",
    "data_scrap = data_scrap.drop([\"zipCode\", \"customZone\"], axis=1)\n",
    "\n",
    "data_scrap = data_scrap[(data_scrap.level5.isin([\"<<<FIXME>>>\",\"<<<FIXME>>>\"]))]\n",
    "\n",
    "data_scrap.groupby(\"level5\").apply(np.mean)[\"<<<FIXME>>>\"]"
   ]
  },
  {
   "cell_type": "markdown",
   "id": "b6f66db5",
   "metadata": {},
   "source": [
    "#### Exercise: check s_x/s_y=1 using the ansari test "
   ]
  },
  {
   "cell_type": "code",
   "execution_count": null,
   "id": "50161347",
   "metadata": {},
   "outputs": [],
   "source": [
    "from scipy import stats\n",
    "\n",
    "valdemorillo = data_scrap.loc[data_scrap[\"level5\"]==\"<<<FIXME>>>\",\"price\"]\n",
    "galapagar = data_scrap.loc[data_scrap[\"level5\"]==\"<<<FIXME>>>\",\"price\"]\n",
    "\n",
    "stats.ansari(<<<FIXME>>>, <<<FIXME>>>) #H0: s_x/s_y=1 the p-value >0.05?"
   ]
  },
  {
   "cell_type": "markdown",
   "id": "f4c2bbd3",
   "metadata": {},
   "source": [
    "#### Exercise: Use the two-sample t-test in order to know if H0: x-y = 0\n",
    "Hint: Check p-value"
   ]
  },
  {
   "cell_type": "code",
   "execution_count": null,
   "id": "2eda3228",
   "metadata": {},
   "outputs": [],
   "source": [
    "#Equal variances, we use the two-sample t-test\n",
    "stats.ttest_ind(<<<FIXME>>>, <<<FIXME>>>, axis=0, equal_var=<<<FIXME>>>)  # H0: x-y = 0 what value does p-value have?\n"
   ]
  },
  {
   "cell_type": "markdown",
   "id": "c9afb90e",
   "metadata": {},
   "source": [
    "#### Exercise: Make the same analysis but this time for the price/m² variable\n",
    "Hint: Create a new \"pricem2\" variable dividing the price per square meter."
   ]
  },
  {
   "cell_type": "code",
   "execution_count": null,
   "id": "6d03928c",
   "metadata": {},
   "outputs": [],
   "source": [
    "from scipy import stats\n",
    "\n",
    "data_scrap = data_scrap.dropna()\n",
    "data_scrap[\"pricem2\"] = data_scrap[\"<<<FIXME>>>\"]/data_scrap[\"<<<FIXME>>>\"]\n",
    "data_scrap[\"pricem2\"] = pd.to_numeric(data_scrap[\"pricem2\"])\n",
    "\n",
    "valdemorillo = data_scrap.loc[data_scrap[\"level5\"]==\"<<<FIXME>>>\",\"pricem2\"]\n",
    "galapagar = data_scrap.loc[data_scrap[\"level5\"]==\"<<<FIXME>>>\",\"pricem2\"]\n",
    "\n",
    "stats.ansari(<<<FIXME>>>, <<<FIXME>>>) #H0: s_x/s_y=1 el p-valor >0.05?"
   ]
  },
  {
   "cell_type": "code",
   "execution_count": null,
   "id": "b7117a6c",
   "metadata": {},
   "outputs": [],
   "source": [
    "#Equal variances, we use the two-sample t-test\n",
    "stats.ttest_ind(<<<FIXME>>>, <<<FIXME>>>, axis=0, equal_var=<<<FIXME>>>)  # H0: x-y = 0 what value does p-value have?\n"
   ]
  }
 ],
 "metadata": {
  "kernelspec": {
   "display_name": "Python 3",
   "language": "python",
   "name": "python3"
  },
  "language_info": {
   "codemirror_mode": {
    "name": "ipython",
    "version": 3
   },
   "file_extension": ".py",
   "mimetype": "text/x-python",
   "name": "python",
   "nbconvert_exporter": "python",
   "pygments_lexer": "ipython3",
   "version": "3.8.10"
  }
 },
 "nbformat": 4,
 "nbformat_minor": 5
}
