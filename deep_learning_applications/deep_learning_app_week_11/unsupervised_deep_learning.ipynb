{
  "nbformat": 4,
  "nbformat_minor": 0,
  "metadata": {
    "colab": {
      "name": "unsupervised_deep_learning.ipynb",
      "provenance": [],
      "collapsed_sections": []
    },
    "kernelspec": {
      "name": "python3",
      "display_name": "Python 3"
    },
    "language_info": {
      "name": "python"
    },
    "accelerator": "GPU"
  },
  "cells": [
    {
      "cell_type": "markdown",
      "source": [
        "#**Unsupervised Deep Learning: AutoEncoders**"
      ],
      "metadata": {
        "id": "eFP-hasx6lAi"
      }
    },
    {
      "cell_type": "markdown",
      "source": [
        "#**All Common Libraries Imports**"
      ],
      "metadata": {
        "id": "kaCvYKn2y5yo"
      }
    },
    {
      "cell_type": "code",
      "source": [
        "import numpy as np\n",
        "import matplotlib.pyplot as plt"
      ],
      "metadata": {
        "id": "VA_7WZDsy6hv"
      },
      "execution_count": 116,
      "outputs": []
    },
    {
      "cell_type": "markdown",
      "source": [
        "#**All Tensorflow/Keras Imports**"
      ],
      "metadata": {
        "id": "1by3WKAOxrF-"
      }
    },
    {
      "cell_type": "code",
      "source": [
        "from tensorflow.keras import Input, Model \n",
        "from tensorflow.keras.layers import Dense, Conv2D, MaxPooling2D, UpSampling2D\n",
        "from tensorflow.keras.datasets import mnist"
      ],
      "metadata": {
        "id": "YbKPtG6KxxDb"
      },
      "execution_count": 117,
      "outputs": []
    },
    {
      "cell_type": "markdown",
      "source": [
        "#**All Globals**"
      ],
      "metadata": {
        "id": "F4DqFFSByDWn"
      }
    },
    {
      "cell_type": "markdown",
      "source": [
        "We define the size of internal encoded representations, also called the \"thoughts vector\" or \"representation vector\"\n"
      ],
      "metadata": {
        "id": "_NlUz6zwyKis"
      }
    },
    {
      "cell_type": "code",
      "source": [
        "encoding_dim = 32                   # 32 floats\n",
        "n = 10                              # Number of digits to plot \n",
        "noise_factor = 0.5                  # Noise Factor\n",
        "deep_dense = False                  # Deep Fully Connected Autoencoder\n",
        "convolutional_autoencoder = True   # Convolutional Autoencoder\n",
        "noisy_input = True                 # Add Noise to Input"
      ],
      "metadata": {
        "id": "le-y9SJKx_nO"
      },
      "execution_count": 118,
      "outputs": []
    },
    {
      "cell_type": "markdown",
      "source": [
        "#**All Datasets Downloads**"
      ],
      "metadata": {
        "id": "HWS0FuPVyh6o"
      }
    },
    {
      "cell_type": "markdown",
      "source": [
        "We discard train_y and test_y because we do not have them in normal Unsupervised Learning Applications"
      ],
      "metadata": {
        "id": "TVePD0o1ypqS"
      }
    },
    {
      "cell_type": "code",
      "source": [
        "(train_x, train_y), (test_x, test_y) = mnist.load_data()\n",
        "\n",
        "if noisy_input is True: \n",
        "  train_x = train_x + noise_factor * np.random.normal(loc=0.0, scale=1.0, size=train_x.shape) \n",
        "  test_x = test_x + noise_factor * np.random.normal(loc=0.0, scale=1.0, size=test_x.shape) \n",
        "\n",
        "  train_x = np.clip(train_x, 0., 1.)\n",
        "  test_x = np.clip(test_x, 0., 1.)"
      ],
      "metadata": {
        "id": "5KIUIMUGyldv"
      },
      "execution_count": 119,
      "outputs": []
    },
    {
      "cell_type": "code",
      "source": [
        "train_x.shape"
      ],
      "metadata": {
        "colab": {
          "base_uri": "https://localhost:8080/"
        },
        "id": "HhSe3tQAy_wK",
        "outputId": "9d970115-52a0-4f04-d0c3-4478b8278209"
      },
      "execution_count": 120,
      "outputs": [
        {
          "output_type": "execute_result",
          "data": {
            "text/plain": [
              "(60000, 28, 28)"
            ]
          },
          "metadata": {},
          "execution_count": 120
        }
      ]
    },
    {
      "cell_type": "code",
      "source": [
        "test_x.shape"
      ],
      "metadata": {
        "colab": {
          "base_uri": "https://localhost:8080/"
        },
        "id": "rUoN2crKzWV0",
        "outputId": "f4a00a14-247c-4c7f-a965-0d69ace9979e"
      },
      "execution_count": 121,
      "outputs": [
        {
          "output_type": "execute_result",
          "data": {
            "text/plain": [
              "(10000, 28, 28)"
            ]
          },
          "metadata": {},
          "execution_count": 121
        }
      ]
    },
    {
      "cell_type": "markdown",
      "source": [
        "#**Dataset Sanity Check by Visualization**"
      ],
      "metadata": {
        "id": "3yr1NGJ4BIn8"
      }
    },
    {
      "cell_type": "code",
      "source": [
        "plt.figure(figsize=(20, 2))\n",
        "for i in range(1, n + 1):\n",
        "    ax = plt.subplot(1, n, i)\n",
        "    plt.imshow(test_x[i].reshape(28, 28))\n",
        "    plt.gray()\n",
        "    ax.get_xaxis().set_visible(False)\n",
        "    ax.get_yaxis().set_visible(False)\n",
        "plt.show()"
      ],
      "metadata": {
        "colab": {
          "base_uri": "https://localhost:8080/",
          "height": 95
        },
        "id": "sPbHc1HiBGmo",
        "outputId": "685860cc-a8da-4670-8371-df29421fdf21"
      },
      "execution_count": 122,
      "outputs": [
        {
          "output_type": "display_data",
          "data": {
            "text/plain": [
              "<Figure size 1440x144 with 10 Axes>"
            ],
            "image/png": "[encoded data removed]"
          },
          "metadata": {
            "needs_background": "light"
          }
        }
      ]
    },
    {
      "cell_type": "markdown",
      "source": [
        "#**Data Normalization and Flattening**"
      ],
      "metadata": {
        "id": "lYhar8eI3La6"
      }
    },
    {
      "cell_type": "code",
      "source": [
        "train_x = train_x.astype('float32') / 255.\n",
        "test_x = test_x.astype('float32') / 255.\n",
        "\n",
        "if convolutional_autoencoder is True: \n",
        "  train_x = np.reshape(train_x, (len(train_x), 28, 28, 1))\n",
        "  test_x = np.reshape(test_x, (len(test_x), 28, 28, 1))\n",
        "else: \n",
        "  train_x = train_x.reshape((len(train_x), np.prod(train_x.shape[1:])))\n",
        "  test_x = test_x.reshape((len(test_x), np.prod(test_x.shape[1:])))"
      ],
      "metadata": {
        "id": "vOWuhFfV3Mtz"
      },
      "execution_count": 123,
      "outputs": []
    },
    {
      "cell_type": "code",
      "source": [
        "train_x.shape"
      ],
      "metadata": {
        "colab": {
          "base_uri": "https://localhost:8080/"
        },
        "id": "2aJ6zvZN3QIC",
        "outputId": "fafb2f7f-9559-4f46-db9d-7dd903ac6acc"
      },
      "execution_count": 124,
      "outputs": [
        {
          "output_type": "execute_result",
          "data": {
            "text/plain": [
              "(60000, 28, 28, 1)"
            ]
          },
          "metadata": {},
          "execution_count": 124
        }
      ]
    },
    {
      "cell_type": "code",
      "source": [
        "test_x.shape"
      ],
      "metadata": {
        "colab": {
          "base_uri": "https://localhost:8080/"
        },
        "id": "1OFTga-H3RgJ",
        "outputId": "0c06dfb5-3f75-44a5-d8ad-d24a44037c28"
      },
      "execution_count": 125,
      "outputs": [
        {
          "output_type": "execute_result",
          "data": {
            "text/plain": [
              "(10000, 28, 28, 1)"
            ]
          },
          "metadata": {},
          "execution_count": 125
        }
      ]
    },
    {
      "cell_type": "markdown",
      "source": [
        "#**Autoencoders**"
      ],
      "metadata": {
        "id": "qKLrS9Z-x1fj"
      }
    },
    {
      "cell_type": "markdown",
      "source": [
        "We start from the input image, then we have the \"**encoded**\" which is the encoded representation of the input and  \"**decoded**\" which is the lossy reconstruction of the input. After, we make a model mapping the input to its reconstruction and a model mapping the input to its **encoded representation**. Finally we retrieve the last layer of the **autoencoder** model and create the decoder model. We compile the **autoencoder** to use a per-pixel binary crossentropy loss, and the Adam optimizer. \n",
        "\n"
      ],
      "metadata": {
        "id": "vo24hPBUzqyn"
      }
    },
    {
      "cell_type": "code",
      "execution_count": 126,
      "metadata": {
        "id": "pGeYYIvvxTUO",
        "colab": {
          "base_uri": "https://localhost:8080/"
        },
        "outputId": "acda6784-6f37-45a2-e68e-62cad53e8430"
      },
      "outputs": [
        {
          "output_type": "stream",
          "name": "stdout",
          "text": [
            "Model: \"model_18\"\n",
            "_________________________________________________________________\n",
            " Layer (type)                Output Shape              Param #   \n",
            "=================================================================\n",
            " input_16 (InputLayer)       [(None, 28, 28, 1)]       0         \n",
            "                                                                 \n",
            " conv2d_35 (Conv2D)          (None, 28, 28, 16)        160       \n",
            "                                                                 \n",
            " max_pooling2d_15 (MaxPoolin  (None, 14, 14, 16)       0         \n",
            " g2D)                                                            \n",
            "                                                                 \n",
            " conv2d_36 (Conv2D)          (None, 14, 14, 8)         1160      \n",
            "                                                                 \n",
            " max_pooling2d_16 (MaxPoolin  (None, 7, 7, 8)          0         \n",
            " g2D)                                                            \n",
            "                                                                 \n",
            " conv2d_37 (Conv2D)          (None, 7, 7, 8)           584       \n",
            "                                                                 \n",
            " max_pooling2d_17 (MaxPoolin  (None, 4, 4, 8)          0         \n",
            " g2D)                                                            \n",
            "                                                                 \n",
            " conv2d_38 (Conv2D)          (None, 4, 4, 8)           584       \n",
            "                                                                 \n",
            " up_sampling2d_15 (UpSamplin  (None, 8, 8, 8)          0         \n",
            " g2D)                                                            \n",
            "                                                                 \n",
            " conv2d_39 (Conv2D)          (None, 8, 8, 8)           584       \n",
            "                                                                 \n",
            " up_sampling2d_16 (UpSamplin  (None, 16, 16, 8)        0         \n",
            " g2D)                                                            \n",
            "                                                                 \n",
            " conv2d_40 (Conv2D)          (None, 14, 14, 16)        1168      \n",
            "                                                                 \n",
            " up_sampling2d_17 (UpSamplin  (None, 28, 28, 16)       0         \n",
            " g2D)                                                            \n",
            "                                                                 \n",
            " conv2d_41 (Conv2D)          (None, 28, 28, 1)         145       \n",
            "                                                                 \n",
            "=================================================================\n",
            "Total params: 4,385\n",
            "Trainable params: 4,385\n",
            "Non-trainable params: 0\n",
            "_________________________________________________________________\n"
          ]
        }
      ],
      "source": [
        "if convolutional_autoencoder is True: \n",
        "  input_img = Input(shape=(28, 28, 1))\n",
        "\n",
        "  x = Conv2D(16, (3, 3), activation='relu', padding='same')(input_img)\n",
        "  x = MaxPooling2D((2, 2), padding='same')(x)\n",
        "  x = Conv2D(8, (3, 3), activation='relu', padding='same')(x)\n",
        "  x = MaxPooling2D((2, 2), padding='same')(x)\n",
        "  x = Conv2D(8, (3, 3), activation='relu', padding='same')(x)\n",
        "  encoded = MaxPooling2D((2, 2), padding='same')(x)\n",
        "\n",
        "  x = Conv2D(8, (3, 3), activation='relu', padding='same')(encoded)\n",
        "  x = UpSampling2D((2, 2))(x)\n",
        "  x = Conv2D(8, (3, 3), activation='relu', padding='same')(x)\n",
        "  x = UpSampling2D((2, 2))(x)\n",
        "  x = Conv2D(16, (3, 3), activation='relu')(x)\n",
        "  x = UpSampling2D((2, 2))(x)\n",
        "  decoded = Conv2D(1, (3, 3), activation='sigmoid', padding='same')(x)\n",
        "else: \n",
        "  input_img = Input(shape=(784,))\n",
        "  if deep_dense is True:\n",
        "    encoded = Dense(128, activation='relu')(input_img)\n",
        "    encoded = Dense(64, activation='relu')(encoded)\n",
        "    encoded = Dense(32, activation='relu')(encoded)\n",
        "  else: \n",
        "    encoded = Dense(encoding_dim, activation='relu')(input_img)\n",
        "\n",
        "  if deep_dense is True:\n",
        "    decoded = Dense(64, activation='relu')(encoded)\n",
        "    decoded = Dense(128, activation='relu')(decoded)\n",
        "    decoded = Dense(784, activation='sigmoid')(decoded)\n",
        "  else: \n",
        "    decoded = Dense(784, activation='sigmoid')(encoded)\n",
        "\n",
        "autoencoder = Model(input_img, decoded)\n",
        "\n",
        "if convolutional_autoencoder is False:\n",
        "  encoder = Model(input_img, encoded)\n",
        "  encoded_input = Input(shape=(encoding_dim,))\n",
        "  decoder_layer = autoencoder.layers[-1]\n",
        "  decoder = Model(encoded_input, decoder_layer(encoded_input))\n",
        "\n",
        "autoencoder.compile(optimizer='adam', loss='binary_crossentropy')\n",
        "autoencoder.summary()"
      ]
    },
    {
      "cell_type": "markdown",
      "source": [
        "#**Autoencoder Training**"
      ],
      "metadata": {
        "id": "PkT-Jhfm3y0q"
      }
    },
    {
      "cell_type": "markdown",
      "source": [
        "Since we **do not have** other than train_x and test_x in Unsupervised Training Sets, we train the Gradient Descent with **train_x as target**, in order to force the model to **reconstruct** the same input into the outpus as much as it can. Within the internal representations we will find an encoded and low dimensional description of the input data. Hence, we translate an **Unsupervised Task** into a purely **\"Supervised\" Regression** task and we need the loss (binary crossentropy) to estimate the quality of training, if it is decreasing over the epochs then the autoencoder is learning representations inside its 32 central neurons. "
      ],
      "metadata": {
        "id": "muKTyQ6y4EDP"
      }
    },
    {
      "cell_type": "code",
      "source": [
        "autoencoder.fit(train_x, train_x, epochs=30, batch_size=256, shuffle=True, validation_data=(test_x, test_x))"
      ],
      "metadata": {
        "colab": {
          "base_uri": "https://localhost:8080/"
        },
        "id": "qUHSLob933lq",
        "outputId": "d302c6bc-6177-4540-cdb1-418dc4f4011b"
      },
      "execution_count": 127,
      "outputs": [
        {
          "output_type": "stream",
          "name": "stdout",
          "text": [
            "Epoch 1/30\n",
            "235/235 [==============================] - 5s 17ms/step - loss: 0.0747 - val_loss: 0.0120\n",
            "Epoch 2/30\n",
            "235/235 [==============================] - 4s 16ms/step - loss: 0.0109 - val_loss: 0.0104\n",
            "Epoch 3/30\n",
            "235/235 [==============================] - 4s 16ms/step - loss: 0.0103 - val_loss: 0.0103\n",
            "Epoch 4/30\n",
            "235/235 [==============================] - 4s 16ms/step - loss: 0.0103 - val_loss: 0.0103\n",
            "Epoch 5/30\n",
            "235/235 [==============================] - 4s 16ms/step - loss: 0.0102 - val_loss: 0.0103\n",
            "Epoch 6/30\n",
            "235/235 [==============================] - 4s 16ms/step - loss: 0.0102 - val_loss: 0.0103\n",
            "Epoch 7/30\n",
            "235/235 [==============================] - 4s 16ms/step - loss: 0.0102 - val_loss: 0.0103\n",
            "Epoch 8/30\n",
            "235/235 [==============================] - 4s 16ms/step - loss: 0.0102 - val_loss: 0.0103\n",
            "Epoch 9/30\n",
            "235/235 [==============================] - 4s 16ms/step - loss: 0.0102 - val_loss: 0.0102\n",
            "Epoch 10/30\n",
            "235/235 [==============================] - 4s 16ms/step - loss: 0.0102 - val_loss: 0.0102\n",
            "Epoch 11/30\n",
            "235/235 [==============================] - 4s 16ms/step - loss: 0.0102 - val_loss: 0.0102\n",
            "Epoch 12/30\n",
            "235/235 [==============================] - 4s 16ms/step - loss: 0.0102 - val_loss: 0.0102\n",
            "Epoch 13/30\n",
            "235/235 [==============================] - 4s 16ms/step - loss: 0.0102 - val_loss: 0.0102\n",
            "Epoch 14/30\n",
            "235/235 [==============================] - 4s 16ms/step - loss: 0.0102 - val_loss: 0.0102\n",
            "Epoch 15/30\n",
            "235/235 [==============================] - 4s 16ms/step - loss: 0.0102 - val_loss: 0.0102\n",
            "Epoch 16/30\n",
            "235/235 [==============================] - 4s 16ms/step - loss: 0.0102 - val_loss: 0.0102\n",
            "Epoch 17/30\n",
            "235/235 [==============================] - 4s 16ms/step - loss: 0.0102 - val_loss: 0.0102\n",
            "Epoch 18/30\n",
            "235/235 [==============================] - 4s 16ms/step - loss: 0.0102 - val_loss: 0.0102\n",
            "Epoch 19/30\n",
            "235/235 [==============================] - 4s 16ms/step - loss: 0.0102 - val_loss: 0.0102\n",
            "Epoch 20/30\n",
            "235/235 [==============================] - 4s 16ms/step - loss: 0.0102 - val_loss: 0.0102\n",
            "Epoch 21/30\n",
            "235/235 [==============================] - 4s 16ms/step - loss: 0.0101 - val_loss: 0.0102\n",
            "Epoch 22/30\n",
            "235/235 [==============================] - 4s 16ms/step - loss: 0.0101 - val_loss: 0.0102\n",
            "Epoch 23/30\n",
            "235/235 [==============================] - 4s 16ms/step - loss: 0.0101 - val_loss: 0.0102\n",
            "Epoch 24/30\n",
            "235/235 [==============================] - 4s 16ms/step - loss: 0.0101 - val_loss: 0.0102\n",
            "Epoch 25/30\n",
            "235/235 [==============================] - 4s 16ms/step - loss: 0.0101 - val_loss: 0.0102\n",
            "Epoch 26/30\n",
            "235/235 [==============================] - 4s 16ms/step - loss: 0.0101 - val_loss: 0.0102\n",
            "Epoch 27/30\n",
            "235/235 [==============================] - 4s 16ms/step - loss: 0.0101 - val_loss: 0.0102\n",
            "Epoch 28/30\n",
            "235/235 [==============================] - 4s 16ms/step - loss: 0.0101 - val_loss: 0.0102\n",
            "Epoch 29/30\n",
            "235/235 [==============================] - 4s 16ms/step - loss: 0.0101 - val_loss: 0.0102\n",
            "Epoch 30/30\n",
            "235/235 [==============================] - 4s 16ms/step - loss: 0.0101 - val_loss: 0.0101\n"
          ]
        },
        {
          "output_type": "execute_result",
          "data": {
            "text/plain": [
              "<keras.callbacks.History at 0x7ff42081e3d0>"
            ]
          },
          "metadata": {},
          "execution_count": 127
        }
      ]
    },
    {
      "cell_type": "markdown",
      "source": [
        "#**Autoencoder Inference**"
      ],
      "metadata": {
        "id": "_QkpecEm5kkZ"
      }
    },
    {
      "cell_type": "markdown",
      "source": [
        "We **encode** and **decode** some digits that are taken from **test** set, in 2 steps: from input to the central vector, and from the 32 central neurons to the output **reconstruction layer**\n"
      ],
      "metadata": {
        "id": "jjTz1jSN5sGz"
      }
    },
    {
      "cell_type": "code",
      "source": [
        "if convolutional_autoencoder is True: \n",
        "  decoded_imgs = autoencoder.predict(test_x)\n",
        "else: \n",
        "  encoded_imgs = encoder.predict(test_x)\n",
        "  decoded_imgs = decoder.predict(encoded_imgs)"
      ],
      "metadata": {
        "id": "Bue8tdQJ5pEd"
      },
      "execution_count": 128,
      "outputs": []
    },
    {
      "cell_type": "code",
      "source": [
        "print(encoded_imgs)\n",
        "print(encoded_imgs.shape)\n"
      ],
      "metadata": {
        "colab": {
          "base_uri": "https://localhost:8080/"
        },
        "id": "Rh4D3kx0p_hw",
        "outputId": "5d5cac96-66fe-45db-df1e-9d3842007231"
      },
      "execution_count": 129,
      "outputs": [
        {
          "output_type": "stream",
          "name": "stdout",
          "text": [
            "[[ 8.367816   5.7898808  4.4179177 ...  5.5510635  1.4511673  8.3636465]\n",
            " [11.2773     8.369318  10.471438  ...  6.685586  14.919638   1.38101  ]\n",
            " [ 5.147114   2.8505774  2.118967  ...  1.9988792  7.73423    7.2326393]\n",
            " ...\n",
            " [ 5.714222   9.501891   9.296147  ... 16.773348   8.151817   8.45343  ]\n",
            " [10.215228  11.823783   7.2979813 ... 14.7541685  5.3100524  8.321539 ]\n",
            " [12.172338  20.869825  18.079144  ... 12.9957485 10.792013   1.0017626]]\n",
            "(10000, 8)\n"
          ]
        }
      ]
    },
    {
      "cell_type": "markdown",
      "source": [
        "#**Autoencoder Predictions Visualization**"
      ],
      "metadata": {
        "id": "UGtMDyMj6ZJx"
      }
    },
    {
      "cell_type": "markdown",
      "source": [
        "With only 32 neurons the Autoencoder is able to reconstruct the Digits almost perfectly. This means that Autoencoder performed a compression, dimensionality reduction and clustering in one step !!"
      ],
      "metadata": {
        "id": "Gpi7CoAh7wVa"
      }
    },
    {
      "cell_type": "code",
      "source": [
        "plt.figure(figsize=(20, 4))\n",
        "for i in range(n):\n",
        "    # Display original\n",
        "    ax = plt.subplot(2, n, i + 1)\n",
        "    plt.imshow(test_x[i].reshape(28, 28))\n",
        "    plt.gray()\n",
        "    ax.get_xaxis().set_visible(False)\n",
        "    ax.get_yaxis().set_visible(False)\n",
        "\n",
        "    # Display reconstruction\n",
        "    ax = plt.subplot(2, n, i + 1 + n)\n",
        "    plt.imshow(decoded_imgs[i].reshape(28, 28))\n",
        "    plt.gray()\n",
        "    ax.get_xaxis().set_visible(False)\n",
        "    ax.get_yaxis().set_visible(False)\n",
        "plt.show()\n"
      ],
      "metadata": {
        "colab": {
          "base_uri": "https://localhost:8080/",
          "height": 178
        },
        "id": "p3nndz_06GXr",
        "outputId": "282efa79-a287-4764-9eda-8e9f87a2cd19"
      },
      "execution_count": 130,
      "outputs": [
        {
          "output_type": "display_data",
          "data": {
            "text/plain": [
              "<Figure size 1440x288 with 20 Axes>"
            ],
            "image/png": "[encoded data removed]"
          },
          "metadata": {
            "needs_background": "light"
          }
        }
      ]
    },
    {
      "cell_type": "markdown",
      "source": [
        "# **Homeworks**"
      ],
      "metadata": {
        "id": "3h4UME29Dacu"
      }
    },
    {
      "cell_type": "markdown",
      "source": [
        "1) Optimize Denoising working on convolutions (i.e. reduce convolution layers and kernels) \n",
        "\n",
        "2) Plot internals of Convolutions with Compressing Part with ALL Feature Maps Visualization and ALL Filters Visualization\n",
        "\n",
        "3) Plot internal representation vector (32 neurons) and verify there is a Dimensionality Reduction and a Clustering on the Test set \n",
        "\n",
        "**Hint**: exploit labels on test set to colour all the activations of the internal neurons activations"
      ],
      "metadata": {
        "id": "hKICqhr_Derm"
      }
    },
    {
      "cell_type": "code",
      "source": [
        ""
      ],
      "metadata": {
        "id": "94fGaIPkDZrW"
      },
      "execution_count": 130,
      "outputs": []
    }
  ]
}