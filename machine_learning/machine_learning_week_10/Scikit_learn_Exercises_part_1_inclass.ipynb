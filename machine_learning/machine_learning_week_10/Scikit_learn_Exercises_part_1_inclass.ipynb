{
  "nbformat": 4,
  "nbformat_minor": 0,
  "metadata": {
    "colab": {
      "name": "Scikit_learn_Exercises_part_1_inclass.ipynb",
      "provenance": [],
      "collapsed_sections": []
    },
    "kernelspec": {
      "name": "python3",
      "display_name": "Python 3"
    }
  },
  "cells": [
    {
      "cell_type": "markdown",
      "metadata": {
        "id": "b36xEEI9o6nb"
      },
      "source": [
        "#### For the exercises we will use **Iris flower dataset**\n",
        "\n",
        "#### The data set consists of 50 samples from each of three species of Iris (Iris setosa, Iris virginica and Iris versicolor). Four features were measured from each sample: the length and the width of the sepals and petals, in centimeters. Based on the combination of these four features, Fisher developed a linear discriminant model to distinguish the species from each other."
      ]
    },
    {
      "cell_type": "markdown",
      "metadata": {
        "id": "HoEjyts24zTu"
      },
      "source": [
        "#### Loading libraries"
      ]
    },
    {
      "cell_type": "code",
      "metadata": {
        "id": "x0hMshdz4yZs"
      },
      "source": [
        "# Numpy for numerical analysis\n",
        "import numpy as np\n",
        "\n",
        "# Pandas for reading and exploring dataset\n",
        "import pandas as pd\n",
        "\n",
        "# Matplotlib for data visualization\n",
        "import matplotlib.pyplot as plt\n",
        "\n",
        "# For showing learning metrics  \n",
        "from sklearn import metrics\n",
        "\n",
        "# For all the metrics\n",
        "\n",
        "# MSE\n",
        "from sklearn.metrics import mean_squared_error\n",
        "\n",
        "# For accuracy score\n",
        "from sklearn.metrics import accuracy_score\n",
        "\n",
        "# For splitting input data in to train and test dataset\n",
        "from sklearn.model_selection import train_test_split\n",
        "\n",
        "# For importing methods related to preprocessinng\n",
        "from sklearn import preprocessing\n",
        "\n",
        "# Importing scikit-learn algorithms\n",
        "\n",
        "# Linear regression\n",
        "from sklearn.linear_model import LinearRegression\n",
        "\n",
        "# SVM\n",
        "\n",
        "# Decision tree\n",
        "\n",
        "# Random forest\n",
        "\n",
        "# Logistic regression\n",
        "from sklearn.linear_model import LogisticRegression"
      ],
      "execution_count": null,
      "outputs": []
    },
    {
      "cell_type": "markdown",
      "metadata": {
        "id": "feTTmaiV45rQ"
      },
      "source": [
        "#### Loading data"
      ]
    },
    {
      "cell_type": "code",
      "metadata": {
        "id": "P2DJTOFL4-IZ"
      },
      "source": [
        "iris = pd.read_csv(\"https://raw.githubusercontent.com/vamsivarma/datasets/master/machine_learning/iris/iris_orig.csv\")"
      ],
      "execution_count": null,
      "outputs": []
    },
    {
      "cell_type": "markdown",
      "metadata": {
        "id": "A6HQzgyYpU4q"
      },
      "source": [
        "# Exercises"
      ]
    },
    {
      "cell_type": "markdown",
      "metadata": {
        "id": "kOF3yLAUpbDF"
      },
      "source": [
        "**Exercise 1**: Write a Python program to split the iris dataset into its attributes (X) and labels (y). The X variable contains the first four columns (i.e. attributes) and y contains the labels of the dataset."
      ]
    },
    {
      "cell_type": "code",
      "metadata": {
        "id": "JEdPqDgqfro4"
      },
      "source": [
        ""
      ],
      "execution_count": null,
      "outputs": []
    },
    {
      "cell_type": "markdown",
      "metadata": {
        "id": "aUrDXLRPsxJF"
      },
      "source": [
        "**Exercise 2**: Write a Python program using Scikit-learn to split the iris dataset into 70% train data and 30% test data. Out of total 150 records, the training set will contain 120 records and the test set contains 30 of those records. Print both datasets."
      ]
    },
    {
      "cell_type": "code",
      "metadata": {
        "id": "zX0j8gqms4Gk"
      },
      "source": [
        ""
      ],
      "execution_count": null,
      "outputs": []
    },
    {
      "cell_type": "markdown",
      "metadata": {
        "id": "9FSz4PLn34xR"
      },
      "source": [
        "**Exercise 3**: Write a Python program using Scikit-learn to convert Species columns in a numerical column of the iris dataframe. To encode this data map convert each value to a number. e.g. Iris-setosa:0, Iris-versicolor:1, and Iris-virginica:2. Now print the iris dataset into 80% train data and 20% test data. Out of total 150 records, the training set will contain 120 records and the test set contains 30 of those records. Print both datasets."
      ]
    },
    {
      "cell_type": "code",
      "metadata": {
        "id": "PK-1L2xY35EM"
      },
      "source": [
        ""
      ],
      "execution_count": null,
      "outputs": []
    },
    {
      "cell_type": "markdown",
      "metadata": {
        "id": "g_0i-iukCYk2"
      },
      "source": [
        "Exercises related to Logistic regression"
      ]
    },
    {
      "cell_type": "markdown",
      "metadata": {
        "id": "B1NmDUmCCdb9"
      },
      "source": [
        "**Exercise 8**: Write a Python program to view some basic statistical details like percentile, mean, std etc. of the species of 'Iris-setosa', 'Iris-versicolor' and 'Iris-versicolor'"
      ]
    },
    {
      "cell_type": "code",
      "metadata": {
        "id": "gtakiBdMCgzr"
      },
      "source": [
        ""
      ],
      "execution_count": null,
      "outputs": []
    },
    {
      "cell_type": "markdown",
      "metadata": {
        "id": "of7i7MI1DaYX"
      },
      "source": [
        "**Exercise 9**: Write a Python program to create a scatter plot using sepal length and petal_width to separate the Species classes."
      ]
    },
    {
      "cell_type": "code",
      "metadata": {
        "id": "r7YTNAB7Dq7C"
      },
      "source": [
        ""
      ],
      "execution_count": null,
      "outputs": []
    },
    {
      "cell_type": "markdown",
      "metadata": {
        "id": "JBLtOFyvD1Qz"
      },
      "source": [
        "**Exercise 10**: Write a Python program to get the accuracy of the Logistic Regression."
      ]
    },
    {
      "cell_type": "code",
      "metadata": {
        "id": "BhOSN5LHD1vC"
      },
      "source": [
        ""
      ],
      "execution_count": null,
      "outputs": []
    },
    {
      "cell_type": "markdown",
      "metadata": {
        "id": "K-CKMgDlEjbQ"
      },
      "source": [
        "**Exercise 11**: Apply Linear regression on Iris dataset"
      ]
    },
    {
      "cell_type": "code",
      "metadata": {
        "id": "uVdLjMmzEjum"
      },
      "source": [
        ""
      ],
      "execution_count": null,
      "outputs": []
    },
    {
      "cell_type": "markdown",
      "metadata": {
        "id": "ez8MOaYfExBS"
      },
      "source": [
        "**Exercise 12**: Apply SVM on Iris dataset"
      ]
    },
    {
      "cell_type": "code",
      "metadata": {
        "id": "JZrmYgQZExTF"
      },
      "source": [
        ""
      ],
      "execution_count": null,
      "outputs": []
    },
    {
      "cell_type": "markdown",
      "metadata": {
        "id": "gEos6YOPF1ii"
      },
      "source": [
        "**Exercise 16**: Apply Decision tree on Iris dataset"
      ]
    },
    {
      "cell_type": "code",
      "metadata": {
        "id": "xkwy7SXxF14f"
      },
      "source": [
        ""
      ],
      "execution_count": null,
      "outputs": []
    },
    {
      "cell_type": "markdown",
      "metadata": {
        "id": "JYJ1t8ThGEzi"
      },
      "source": [
        "**Exercise 17**: Apply Random forest on Iris dataset"
      ]
    },
    {
      "cell_type": "code",
      "metadata": {
        "id": "UdHCMCkWGFRE"
      },
      "source": [
        ""
      ],
      "execution_count": null,
      "outputs": []
    },
    {
      "cell_type": "markdown",
      "metadata": {
        "id": "JOpQ9jS4FSSb"
      },
      "source": [
        "**Exercise 20**: Find accuracy score for all the algorithms (Linear regression, Logistic regression, SVM, Decision tree etc..,) mentioned above and compare them"
      ]
    },
    {
      "cell_type": "code",
      "metadata": {
        "id": "JsVW5fFXFSi3"
      },
      "source": [
        ""
      ],
      "execution_count": null,
      "outputs": []
    },
    {
      "cell_type": "markdown",
      "metadata": {
        "id": "GEtjRR0HGrQK"
      },
      "source": [
        "**Exercise 21**: Find classification report score for all the algorithms (Linear regression, Logistic regression, SVM, Decision tree etc..,) mentioned above and compare them"
      ]
    },
    {
      "cell_type": "code",
      "metadata": {
        "id": "eMsbRQzEGrib"
      },
      "source": [
        ""
      ],
      "execution_count": null,
      "outputs": []
    },
    {
      "cell_type": "markdown",
      "metadata": {
        "id": "TZjTzfrvGxaW"
      },
      "source": [
        "**Exercise 22**: Find confusion matrix for all the classification algorithms (Logistic regression, SVM, Decision tree etc..,) mentioned above and compare them"
      ]
    },
    {
      "cell_type": "code",
      "metadata": {
        "id": "vSqSlwhyGx1X"
      },
      "source": [
        ""
      ],
      "execution_count": null,
      "outputs": []
    },
    {
      "cell_type": "markdown",
      "metadata": {
        "id": "UunHMvUOHEli"
      },
      "source": [
        "**Exercise 23**: Find MSE - mean squared error and MAE - mean absolute error, R2 score for the regression algorithms (Linear regression, Random forest etc..,) mentioned above and compare them"
      ]
    },
    {
      "cell_type": "code",
      "metadata": {
        "id": "cFSDqTKVHFCN"
      },
      "source": [
        ""
      ],
      "execution_count": null,
      "outputs": []
    },
    {
      "cell_type": "markdown",
      "metadata": {
        "id": "odijdXmgHyBg"
      },
      "source": [
        "**Exercise 24**: Find adjusted rand index for all the algorithms"
      ]
    },
    {
      "cell_type": "code",
      "metadata": {
        "id": "rKBqUEH3Hz5I"
      },
      "source": [
        ""
      ],
      "execution_count": null,
      "outputs": []
    },
    {
      "cell_type": "markdown",
      "metadata": {
        "id": "mMHYfxFLfxUK"
      },
      "source": [
        "# References\n",
        "https://www.w3resource.com/machine-learning/scikit-learn/iris/index.php"
      ]
    }
  ]
}