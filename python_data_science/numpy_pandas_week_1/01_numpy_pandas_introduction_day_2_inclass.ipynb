{
  "cells": [
    {
      "cell_type": "markdown",
      "metadata": {
        "id": "bgURoG32YYvb"
      },
      "source": [
        "# Introduction to Data Analysis with Python\n",
        "\n",
        "\n",
        "<img src=\"https://www.python.org/static/img/python-logo.png\" alt=\"yogen\" style=\"width: 200px; float: right;\"/>\n",
        "<br>\n",
        "<br>\n",
        "<br>\n"
      ]
    },
    {
      "cell_type": "markdown",
      "metadata": {
        "id": "UoGbkhYwYYvr"
      },
      "source": [
        "## `numpy`\n",
        "\n",
        "Base N-dimensional array package. We can use it to perform array operations. Its arrays are typed and can have any shape and dimension we want."
      ]
    },
    {
      "cell_type": "markdown",
      "metadata": {
        "id": "ifBPbYzSYYv8"
      },
      "source": [
        "### Indexing\n",
        "\n",
        "![Python slicing](https://infohost.nmt.edu/tcc/help/pubs/python/web/fig/slicing.png)"
      ]
    },
    {
      "cell_type": "code",
      "execution_count": null,
      "metadata": {
        "id": "42lrxKAXYYv-",
        "outputId": "a3863b0f-4970-4eec-9346-6dd8f47d9e90"
      },
      "outputs": [
        {
          "name": "stdout",
          "output_type": "stream",
          "text": [
            "[ 1.    2.    3.1   4.2  -1.    8.92]\n",
            "[[ 1  2  3]\n",
            " [ 4  5  6]\n",
            " [ 7  8  9]\n",
            " [10 11 12]]\n"
          ]
        }
      ],
      "source": [
        "print(a)\n",
        "print(a2)"
      ]
    },
    {
      "cell_type": "code",
      "execution_count": null,
      "metadata": {
        "id": "NYzDuTQBYYv-",
        "outputId": "bdc98ebe-f2bc-4209-f10a-08e1a0515de8"
      },
      "outputs": [
        {
          "name": "stdout",
          "output_type": "stream",
          "text": [
            "3.1 [1 2 3]\n"
          ]
        }
      ],
      "source": [
        "print(a[2],a2[0])"
      ]
    },
    {
      "cell_type": "code",
      "execution_count": null,
      "metadata": {
        "id": "7-z0aGdgYYv-",
        "outputId": "60401087-fe9c-4c30-b159-0588bb138865"
      },
      "outputs": [
        {
          "data": {
            "text/plain": [
              "4"
            ]
          },
          "execution_count": 252,
          "metadata": {},
          "output_type": "execute_result"
        }
      ],
      "source": [
        "a2[1][0] "
      ]
    },
    {
      "cell_type": "code",
      "execution_count": null,
      "metadata": {
        "id": "6FE4CUpSYYv_",
        "outputId": "9723b49e-632c-4238-b277-172da868387a"
      },
      "outputs": [
        {
          "data": {
            "text/plain": [
              "4"
            ]
          },
          "execution_count": 253,
          "metadata": {},
          "output_type": "execute_result"
        }
      ],
      "source": [
        "a2[1,0]"
      ]
    },
    {
      "cell_type": "markdown",
      "metadata": {
        "id": "X95fOIGZYYv_"
      },
      "source": [
        "### Slicing"
      ]
    },
    {
      "cell_type": "code",
      "execution_count": null,
      "metadata": {
        "id": "-YijIn-sYYv_",
        "outputId": "1f5fda25-cc51-4855-fe80-82a5eca13aaa"
      },
      "outputs": [
        {
          "data": {
            "text/plain": [
              "array([ 1.  ,  2.  ,  3.1 ,  4.2 , -1.  ,  8.92])"
            ]
          },
          "execution_count": 254,
          "metadata": {},
          "output_type": "execute_result"
        }
      ],
      "source": [
        "a"
      ]
    },
    {
      "cell_type": "code",
      "execution_count": null,
      "metadata": {
        "id": "EJzx9pswYYwA",
        "outputId": "ebc38eff-ed23-4645-b0bd-c151c9a83ed9"
      },
      "outputs": [
        {
          "data": {
            "text/plain": [
              "array([1. , 2. , 3.1, 4.2])"
            ]
          },
          "execution_count": 255,
          "metadata": {},
          "output_type": "execute_result"
        }
      ],
      "source": [
        "a[:4]"
      ]
    },
    {
      "cell_type": "code",
      "execution_count": null,
      "metadata": {
        "id": "LQNOQqnYYYwA",
        "outputId": "09ad3cfa-2b98-4888-afe1-f1cbf47a2eed"
      },
      "outputs": [
        {
          "data": {
            "text/plain": [
              "array([[ 1,  2,  3],\n",
              "       [ 4,  5,  6],\n",
              "       [ 7,  8,  9],\n",
              "       [10, 11, 12]])"
            ]
          },
          "execution_count": 256,
          "metadata": {},
          "output_type": "execute_result"
        }
      ],
      "source": [
        "a2[:]"
      ]
    },
    {
      "cell_type": "code",
      "execution_count": null,
      "metadata": {
        "id": "Fgkm0GAEYYwA",
        "outputId": "3b413bea-8107-45f2-ba17-9ec136ba4c00"
      },
      "outputs": [
        {
          "data": {
            "text/plain": [
              "array([[1, 2],\n",
              "       [4, 5]])"
            ]
          },
          "execution_count": 257,
          "metadata": {},
          "output_type": "execute_result"
        }
      ],
      "source": [
        "a2[:2,:2]"
      ]
    },
    {
      "cell_type": "code",
      "execution_count": null,
      "metadata": {
        "id": "wAsPr9btYYwA",
        "outputId": "e7f58226-3ffb-42a3-d0fd-a52d0f4a2636"
      },
      "outputs": [
        {
          "data": {
            "text/plain": [
              "False"
            ]
          },
          "execution_count": 258,
          "metadata": {},
          "output_type": "execute_result"
        }
      ],
      "source": [
        "1>3"
      ]
    },
    {
      "cell_type": "code",
      "execution_count": null,
      "metadata": {
        "id": "5FmAQgyhYYwA",
        "outputId": "b681a4ad-97ac-48b2-cc5d-82a7124f8bdc"
      },
      "outputs": [
        {
          "data": {
            "text/plain": [
              "array([[False, False, False],\n",
              "       [ True,  True,  True],\n",
              "       [ True,  True,  True],\n",
              "       [ True,  True,  True]])"
            ]
          },
          "execution_count": 259,
          "metadata": {},
          "output_type": "execute_result"
        }
      ],
      "source": [
        "a2 > 3"
      ]
    },
    {
      "cell_type": "code",
      "execution_count": null,
      "metadata": {
        "id": "SjSjmCkmYYwC"
      },
      "outputs": [],
      "source": [
        "cond = a2>3"
      ]
    },
    {
      "cell_type": "code",
      "execution_count": null,
      "metadata": {
        "id": "ju0Jxrs1YYwC",
        "outputId": "75b16304-3942-456b-c564-9c2ba8d5a214"
      },
      "outputs": [
        {
          "data": {
            "text/plain": [
              "array([ 4,  5,  6,  7,  8,  9, 10, 11, 12])"
            ]
          },
          "execution_count": 261,
          "metadata": {},
          "output_type": "execute_result"
        }
      ],
      "source": [
        "a2[cond]"
      ]
    },
    {
      "cell_type": "code",
      "execution_count": null,
      "metadata": {
        "id": "a_WnmYVvYYwC",
        "outputId": "e2befaff-8605-405e-9d5a-d691487d6af0"
      },
      "outputs": [
        {
          "data": {
            "text/plain": [
              "array([ 4,  6,  8, 10, 12])"
            ]
          },
          "execution_count": 262,
          "metadata": {},
          "output_type": "execute_result"
        }
      ],
      "source": [
        "a2[cond & (a2 % 2 == 0)]"
      ]
    },
    {
      "cell_type": "code",
      "execution_count": null,
      "metadata": {
        "id": "nF7jAwdzYYwD"
      },
      "outputs": [],
      "source": [
        "evens = a2 % 2 == 0\n",
        "gt_3 = a2 > 3\n",
        "even_and_gt_3 = evens & gt_3"
      ]
    },
    {
      "cell_type": "code",
      "execution_count": null,
      "metadata": {
        "id": "GzoHsw98YYwD",
        "outputId": "913e9397-4b22-4f0a-9108-4cfc4289dffc"
      },
      "outputs": [
        {
          "data": {
            "text/plain": [
              "array([ 2,  4,  6,  8, 10, 12])"
            ]
          },
          "execution_count": 59,
          "metadata": {},
          "output_type": "execute_result"
        }
      ],
      "source": [
        "a2[evens]"
      ]
    },
    {
      "cell_type": "code",
      "execution_count": null,
      "metadata": {
        "id": "LXU96nrAYYwI",
        "outputId": "6e37e0fc-4076-40af-c943-fbe0e38029cd"
      },
      "outputs": [
        {
          "data": {
            "text/plain": [
              "array([ 4,  5,  6,  7,  8,  9, 10, 11, 12])"
            ]
          },
          "execution_count": 60,
          "metadata": {},
          "output_type": "execute_result"
        }
      ],
      "source": [
        "a2[gt_3]"
      ]
    },
    {
      "cell_type": "code",
      "execution_count": null,
      "metadata": {
        "id": "M3OKrvasYYwJ",
        "outputId": "3e7b6321-9523-4070-d7f9-36f638be7f42"
      },
      "outputs": [
        {
          "data": {
            "text/plain": [
              "array([ 4,  6,  8, 10, 12])"
            ]
          },
          "execution_count": 61,
          "metadata": {},
          "output_type": "execute_result"
        }
      ],
      "source": [
        "a2[even_and_gt_3]"
      ]
    },
    {
      "cell_type": "code",
      "execution_count": null,
      "metadata": {
        "id": "Q30umRgPYYwK",
        "outputId": "143c5a5a-7561-403d-902b-ffae992739b2"
      },
      "outputs": [
        {
          "data": {
            "text/plain": [
              "array([ 1.  ,  2.  ,  3.1 ,  4.2 , -1.  ,  8.92])"
            ]
          },
          "execution_count": 62,
          "metadata": {},
          "output_type": "execute_result"
        }
      ],
      "source": [
        "a"
      ]
    },
    {
      "cell_type": "code",
      "execution_count": null,
      "metadata": {
        "id": "s-tNDiQkYYwK"
      },
      "outputs": [],
      "source": [
        "condA=[True,False,False,True,True,False]"
      ]
    },
    {
      "cell_type": "code",
      "execution_count": null,
      "metadata": {
        "id": "zWAOLY4RYYwL",
        "outputId": "dd1f5d51-0e46-46cf-d197-ff7b34343e9b"
      },
      "outputs": [
        {
          "data": {
            "text/plain": [
              "array([ 1. ,  4.2, -1. ])"
            ]
          },
          "execution_count": 64,
          "metadata": {},
          "output_type": "execute_result"
        }
      ],
      "source": [
        "a[condA]"
      ]
    },
    {
      "cell_type": "markdown",
      "metadata": {
        "id": "Gmcw4XgnYYwL"
      },
      "source": [
        "### Careful with copying!"
      ]
    },
    {
      "cell_type": "code",
      "execution_count": null,
      "metadata": {
        "id": "z6Xh7TJHYYwL"
      },
      "outputs": [],
      "source": [
        "b = a2[1]"
      ]
    },
    {
      "cell_type": "code",
      "execution_count": null,
      "metadata": {
        "id": "cCjQe-9eYYwL",
        "outputId": "bcdd549c-12c9-4400-b6f6-dde9f1ec6751"
      },
      "outputs": [
        {
          "data": {
            "text/plain": [
              "array([4, 5, 6])"
            ]
          },
          "execution_count": 66,
          "metadata": {},
          "output_type": "execute_result"
        }
      ],
      "source": [
        "b"
      ]
    },
    {
      "cell_type": "code",
      "execution_count": null,
      "metadata": {
        "id": "T_NQGqpwYYwM"
      },
      "outputs": [],
      "source": [
        "b[1] = -1"
      ]
    },
    {
      "cell_type": "code",
      "execution_count": null,
      "metadata": {
        "id": "2gniSD2IYYwM",
        "outputId": "bb6346d5-6051-44d7-99d8-1d0bb2dd3f7a"
      },
      "outputs": [
        {
          "data": {
            "text/plain": [
              "array([ 4, -1,  6])"
            ]
          },
          "execution_count": 68,
          "metadata": {},
          "output_type": "execute_result"
        }
      ],
      "source": [
        "b"
      ]
    },
    {
      "cell_type": "code",
      "execution_count": null,
      "metadata": {
        "id": "3gIiKBdfYYwM",
        "outputId": "9af056a3-c344-4381-992a-12bbdad48b1c"
      },
      "outputs": [
        {
          "data": {
            "text/plain": [
              "array([[ 1,  2,  3],\n",
              "       [ 4, -1,  6],\n",
              "       [ 7,  8,  9],\n",
              "       [10, 11, 12]])"
            ]
          },
          "execution_count": 69,
          "metadata": {},
          "output_type": "execute_result"
        }
      ],
      "source": [
        "a2"
      ]
    },
    {
      "cell_type": "code",
      "execution_count": null,
      "metadata": {
        "id": "lR9O4o7uYYwM"
      },
      "outputs": [],
      "source": [
        ""
      ]
    },
    {
      "cell_type": "code",
      "execution_count": null,
      "metadata": {
        "id": "qD-UGRsDYYwN"
      },
      "outputs": [],
      "source": [
        ""
      ]
    },
    {
      "cell_type": "code",
      "execution_count": null,
      "metadata": {
        "id": "dNlGpeM7YYwN"
      },
      "outputs": [],
      "source": [
        ""
      ]
    },
    {
      "cell_type": "code",
      "execution_count": null,
      "metadata": {
        "id": "fs2saJB4YYwO",
        "outputId": "58f0d41c-13f2-462d-acb8-b02b6cbdf104"
      },
      "outputs": [
        {
          "data": {
            "text/plain": [
              "array([[ 1,  2,  3],\n",
              "       [ 4, -1,  6],\n",
              "       [ 7,  8,  9],\n",
              "       [10, 11, 12]])"
            ]
          },
          "execution_count": 70,
          "metadata": {},
          "output_type": "execute_result"
        }
      ],
      "source": [
        "b=a2[1]\n",
        "\n",
        "b[1]=-1\n",
        "a2"
      ]
    },
    {
      "cell_type": "code",
      "execution_count": null,
      "metadata": {
        "id": "UJMbfAspYYwP"
      },
      "outputs": [],
      "source": [
        "b[:]=3"
      ]
    },
    {
      "cell_type": "code",
      "execution_count": null,
      "metadata": {
        "id": "INXPpCh0YYwP",
        "outputId": "3a7f7fb3-bac3-4a30-8333-c0bb47a5fef6"
      },
      "outputs": [
        {
          "data": {
            "text/plain": [
              "array([[ 1,  2,  3],\n",
              "       [ 3,  3,  3],\n",
              "       [ 7,  8,  9],\n",
              "       [10, 11, 12]])"
            ]
          },
          "execution_count": 72,
          "metadata": {},
          "output_type": "execute_result"
        }
      ],
      "source": [
        "a2 "
      ]
    },
    {
      "cell_type": "code",
      "execution_count": null,
      "metadata": {
        "id": "rPxgRxKQYYwQ",
        "outputId": "50bfe5f0-38a4-4db0-a462-d02a6b7eb48d"
      },
      "outputs": [
        {
          "data": {
            "text/plain": [
              "array([3, 3, 3])"
            ]
          },
          "execution_count": 73,
          "metadata": {},
          "output_type": "execute_result"
        }
      ],
      "source": [
        "c=a2[1].copy()\n",
        "c"
      ]
    },
    {
      "cell_type": "code",
      "execution_count": null,
      "metadata": {
        "id": "VCfH06BqYYwQ"
      },
      "outputs": [],
      "source": [
        "c[:]=[-1000,-1000,-1000]"
      ]
    },
    {
      "cell_type": "code",
      "execution_count": null,
      "metadata": {
        "id": "GbAgCqqHYYwQ",
        "outputId": "a105eec6-d7b7-44e6-d636-02c9b6425543"
      },
      "outputs": [
        {
          "name": "stdout",
          "output_type": "stream",
          "text": [
            "[-1000 -1000 -1000]\n",
            "[[ 1  2  3]\n",
            " [ 3  3  3]\n",
            " [ 7  8  9]\n",
            " [10 11 12]]\n"
          ]
        }
      ],
      "source": [
        "print(c)\n",
        "print(a2)"
      ]
    },
    {
      "cell_type": "markdown",
      "metadata": {
        "id": "JChOZh4EYYwR"
      },
      "source": [
        "### Element wise operations"
      ]
    },
    {
      "cell_type": "code",
      "execution_count": null,
      "metadata": {
        "id": "o_pQhQmkYYwR",
        "outputId": "66466746-2b84-48b7-bce4-59df58348b8f"
      },
      "outputs": [
        {
          "name": "stdout",
          "output_type": "stream",
          "text": [
            "[[ 1  2  3]\n",
            " [ 3  3  3]\n",
            " [ 7  8  9]\n",
            " [10 11 12]]\n"
          ]
        },
        {
          "data": {
            "text/plain": [
              "array([[  1,   4,   9],\n",
              "       [  9,   9,   9],\n",
              "       [ 49,  64,  81],\n",
              "       [100, 121, 144]])"
            ]
          },
          "execution_count": 76,
          "metadata": {},
          "output_type": "execute_result"
        }
      ],
      "source": [
        "print(a2)\n",
        "a2*a2 "
      ]
    },
    {
      "cell_type": "code",
      "execution_count": null,
      "metadata": {
        "id": "ixSpxtxDYYwR",
        "outputId": "a094fcb1-2b11-4bd0-c4d1-2fd9fcb040c2"
      },
      "outputs": [
        {
          "data": {
            "text/plain": [
              "array([[0, 0, 0],\n",
              "       [0, 0, 0],\n",
              "       [0, 0, 0],\n",
              "       [0, 0, 0]])"
            ]
          },
          "execution_count": 77,
          "metadata": {},
          "output_type": "execute_result"
        }
      ],
      "source": [
        "a2 -a2"
      ]
    },
    {
      "cell_type": "code",
      "execution_count": null,
      "metadata": {
        "id": "vKM1xeBpYYwS",
        "outputId": "4046d880-fec3-48e4-9416-50406c4b3954"
      },
      "outputs": [
        {
          "data": {
            "text/plain": [
              "array([[1.        , 0.5       , 0.33333333],\n",
              "       [0.33333333, 0.33333333, 0.33333333],\n",
              "       [0.14285714, 0.125     , 0.11111111],\n",
              "       [0.1       , 0.09090909, 0.08333333]])"
            ]
          },
          "execution_count": 78,
          "metadata": {},
          "output_type": "execute_result"
        }
      ],
      "source": [
        "1/a2"
      ]
    },
    {
      "cell_type": "code",
      "execution_count": null,
      "metadata": {
        "id": "zgOqlBC5YYwS",
        "outputId": "36e6e2c7-c227-4fcd-b015-4b6315947295"
      },
      "outputs": [
        {
          "data": {
            "text/plain": [
              "array([[  1,   4,   9],\n",
              "       [  9,   9,   9],\n",
              "       [ 49,  64,  81],\n",
              "       [100, 121, 144]])"
            ]
          },
          "execution_count": 79,
          "metadata": {},
          "output_type": "execute_result"
        }
      ],
      "source": [
        "a2**2"
      ]
    },
    {
      "cell_type": "code",
      "execution_count": null,
      "metadata": {
        "id": "TKRYOlcQYYwS",
        "outputId": "4e82f1ce-7cdc-46ae-fc37-7fd9663f8360"
      },
      "outputs": [
        {
          "data": {
            "text/plain": [
              "array([[ 0.84147098,  0.90929743,  0.14112001],\n",
              "       [ 0.14112001,  0.14112001,  0.14112001],\n",
              "       [ 0.6569866 ,  0.98935825,  0.41211849],\n",
              "       [-0.54402111, -0.99999021, -0.53657292]])"
            ]
          },
          "execution_count": 80,
          "metadata": {},
          "output_type": "execute_result"
        }
      ],
      "source": [
        "np.sin(a2)"
      ]
    },
    {
      "cell_type": "markdown",
      "metadata": {
        "id": "PlzEcZkEYYwT"
      },
      "source": [
        "### Matrix operations"
      ]
    },
    {
      "cell_type": "code",
      "execution_count": null,
      "metadata": {
        "id": "rgkDiPF7YYwT"
      },
      "outputs": [],
      "source": [
        "d = np.array([1.0,1.0,2.0,3.0,0])"
      ]
    },
    {
      "cell_type": "code",
      "execution_count": null,
      "metadata": {
        "id": "5dWyhNuaYYwT",
        "outputId": "91fb1d00-08e8-4e07-b1cd-0c4e4cbe60ad"
      },
      "outputs": [
        {
          "data": {
            "text/plain": [
              "15"
            ]
          },
          "execution_count": 82,
          "metadata": {},
          "output_type": "execute_result"
        }
      ],
      "source": [
        "1+1+4+9"
      ]
    },
    {
      "cell_type": "code",
      "execution_count": null,
      "metadata": {
        "id": "p94kf-MUYYwU",
        "outputId": "f5aa23d7-f834-4e9c-cb89-e283f20267fb"
      },
      "outputs": [
        {
          "data": {
            "text/plain": [
              "15.0"
            ]
          },
          "execution_count": 83,
          "metadata": {},
          "output_type": "execute_result"
        }
      ],
      "source": [
        "d.dot(d)"
      ]
    },
    {
      "cell_type": "code",
      "execution_count": null,
      "metadata": {
        "id": "TifWdEHgYYwU",
        "outputId": "b07081f4-c5a0-4f6f-ac32-6c55047e5504"
      },
      "outputs": [
        {
          "data": {
            "text/plain": [
              "112.8164"
            ]
          },
          "execution_count": 84,
          "metadata": {},
          "output_type": "execute_result"
        }
      ],
      "source": [
        "a.dot(a)"
      ]
    },
    {
      "cell_type": "code",
      "execution_count": null,
      "metadata": {
        "id": "B9oUtchAYYwU",
        "outputId": "a4fc59f8-5647-48dd-fbe2-25e62df5c5e2"
      },
      "outputs": [
        {
          "data": {
            "text/plain": [
              "array([ 8,  9, 26, 35])"
            ]
          },
          "execution_count": 85,
          "metadata": {},
          "output_type": "execute_result"
        }
      ],
      "source": [
        "a2.dot(np.arange(3))"
      ]
    },
    {
      "cell_type": "code",
      "execution_count": null,
      "metadata": {
        "id": "qInixb9tYYwV",
        "outputId": "83dc2034-79eb-48e4-eb39-420e354f4731"
      },
      "outputs": [
        {
          "data": {
            "text/plain": [
              "array([[ 1,  2,  3],\n",
              "       [ 3,  3,  3],\n",
              "       [ 7,  8,  9],\n",
              "       [10, 11, 12]])"
            ]
          },
          "execution_count": 86,
          "metadata": {},
          "output_type": "execute_result"
        }
      ],
      "source": [
        "a2"
      ]
    },
    {
      "cell_type": "code",
      "execution_count": null,
      "metadata": {
        "id": "hojFPzyiYYwV",
        "outputId": "6a414c60-2e4d-4e3b-a08e-7ba59394f5f0"
      },
      "outputs": [
        {
          "data": {
            "text/plain": [
              "array([[ 1,  3,  7, 10],\n",
              "       [ 2,  3,  8, 11],\n",
              "       [ 3,  3,  9, 12]])"
            ]
          },
          "execution_count": 87,
          "metadata": {},
          "output_type": "execute_result"
        }
      ],
      "source": [
        "a2.transpose()"
      ]
    },
    {
      "cell_type": "code",
      "execution_count": null,
      "metadata": {
        "id": "8WhlrXzqYYwW",
        "outputId": "74edd9b6-a9b1-4001-af50-35fcc50b4827"
      },
      "outputs": [
        {
          "data": {
            "text/plain": [
              "array([[ 1,  3,  7, 10],\n",
              "       [ 2,  3,  8, 11],\n",
              "       [ 3,  3,  9, 12]])"
            ]
          },
          "execution_count": 88,
          "metadata": {},
          "output_type": "execute_result"
        }
      ],
      "source": [
        "a2.T"
      ]
    },
    {
      "cell_type": "code",
      "execution_count": null,
      "metadata": {
        "id": "4FYhF1YsYYwW",
        "outputId": "949d003c-5170-4d3a-c5c7-17cb7ffc387b"
      },
      "outputs": [
        {
          "name": "stdout",
          "output_type": "stream",
          "text": [
            "72\n",
            "[ 1  3  6  9 12 15 22 30 39 49 60 72]\n",
            "[        1         2         6        18        54       162      1134\n",
            "      9072     81648    816480   8981280 107775360]\n"
          ]
        }
      ],
      "source": [
        "print(a2.sum())\n",
        "print(a2.cumsum())\n",
        "print(a2.cumprod())"
      ]
    },
    {
      "cell_type": "markdown",
      "metadata": {
        "id": "OPk6g2PvYYwX"
      },
      "source": [
        "### `ndarray` vs matrix"
      ]
    },
    {
      "cell_type": "code",
      "execution_count": null,
      "metadata": {
        "id": "S0dfIZx_YYwX",
        "outputId": "b919bafb-4edf-498c-a032-6519f31cd0ef"
      },
      "outputs": [
        {
          "data": {
            "text/plain": [
              "matrix([[ 1,  2,  3],\n",
              "        [ 3,  3,  3],\n",
              "        [ 7,  8,  9],\n",
              "        [10, 11, 12]])"
            ]
          },
          "execution_count": 90,
          "metadata": {},
          "output_type": "execute_result"
        }
      ],
      "source": [
        "a3 = np.mat(a2)\n",
        "a3"
      ]
    },
    {
      "cell_type": "code",
      "execution_count": null,
      "metadata": {
        "id": "8CqVhSH-YYwX",
        "outputId": "f71223b9-5d8e-4846-e010-c237f0c5c99e"
      },
      "outputs": [
        {
          "data": {
            "text/plain": [
              "matrix([[ 1,  3,  7, 10],\n",
              "        [ 2,  3,  8, 11],\n",
              "        [ 3,  3,  9, 12]])"
            ]
          },
          "execution_count": 91,
          "metadata": {},
          "output_type": "execute_result"
        }
      ],
      "source": [
        "a3.T"
      ]
    },
    {
      "cell_type": "code",
      "execution_count": null,
      "metadata": {
        "id": "5ZegeKRtYYwY",
        "outputId": "8d246f63-5270-4e98-eb8c-26ee946778b5"
      },
      "outputs": [
        {
          "data": {
            "text/plain": [
              "array([[  1,   4,   9],\n",
              "       [  9,   9,   9],\n",
              "       [ 49,  64,  81],\n",
              "       [100, 121, 144]])"
            ]
          },
          "execution_count": 92,
          "metadata": {},
          "output_type": "execute_result"
        }
      ],
      "source": [
        "a2*a2"
      ]
    },
    {
      "cell_type": "code",
      "execution_count": null,
      "metadata": {
        "id": "MnnAOKAzYYwY",
        "outputId": "35f94bee-87db-455d-c7fe-a8859cbb561a"
      },
      "outputs": [
        {
          "data": {
            "text/plain": [
              "matrix([[159, 177, 195],\n",
              "        [177, 198, 219],\n",
              "        [195, 219, 243]])"
            ]
          },
          "execution_count": 93,
          "metadata": {},
          "output_type": "execute_result"
        }
      ],
      "source": [
        "a3.T*a3"
      ]
    },
    {
      "cell_type": "code",
      "execution_count": null,
      "metadata": {
        "id": "ahQk1TXfYYwY",
        "outputId": "64c3417b-7633-4d19-b1aa-3bf761723806"
      },
      "outputs": [
        {
          "data": {
            "text/plain": [
              "matrix([[-1.        ,  0.66666667],\n",
              "        [ 1.        , -0.33333333]])"
            ]
          },
          "execution_count": 94,
          "metadata": {},
          "output_type": "execute_result"
        }
      ],
      "source": [
        "a3[:2,:2].I"
      ]
    },
    {
      "cell_type": "code",
      "execution_count": null,
      "metadata": {
        "id": "cFFuS413YYwY",
        "outputId": "72914adb-f1a4-45bf-eb60-12c78880ab06"
      },
      "outputs": [
        {
          "data": {
            "text/plain": [
              "matrix([[1., 0.],\n",
              "        [0., 1.]])"
            ]
          },
          "execution_count": 95,
          "metadata": {},
          "output_type": "execute_result"
        }
      ],
      "source": [
        "a3[:2,:2].I*a3[:2,:2]"
      ]
    },
    {
      "cell_type": "code",
      "execution_count": null,
      "metadata": {
        "id": "GZ6Q14p1YYwa",
        "outputId": "a07dab79-696d-485f-fbe0-362abbaac423"
      },
      "outputs": [
        {
          "ename": "AttributeError",
          "evalue": "'matrix' object has no attribute 'det'",
          "output_type": "error",
          "traceback": [
            "\u001b[0;31m---------------------------------------------------------------------------\u001b[0m",
            "\u001b[0;31mAttributeError\u001b[0m                            Traceback (most recent call last)",
            "\u001b[0;32m<ipython-input-96-64243d6b8a11>\u001b[0m in \u001b[0;36m<module>\u001b[0;34m\u001b[0m\n\u001b[0;32m----> 1\u001b[0;31m \u001b[0ma3\u001b[0m\u001b[0;34m[\u001b[0m\u001b[0;34m:\u001b[0m\u001b[0;36m2\u001b[0m\u001b[0;34m,\u001b[0m\u001b[0;34m:\u001b[0m\u001b[0;36m2\u001b[0m\u001b[0;34m]\u001b[0m\u001b[0;34m.\u001b[0m\u001b[0mdet\u001b[0m\u001b[0;34m\u001b[0m\u001b[0;34m\u001b[0m\u001b[0m\n\u001b[0m",
            "\u001b[0;31mAttributeError\u001b[0m: 'matrix' object has no attribute 'det'"
          ]
        }
      ],
      "source": [
        "a3[:2,:2].det"
      ]
    },
    {
      "cell_type": "markdown",
      "metadata": {
        "id": "KvEN7gd0YYwa"
      },
      "source": [
        "### Linear Algebra\n",
        "\n",
        "http://docs.scipy.org/doc/numpy-1.10.0/reference/routines.linalg.html"
      ]
    },
    {
      "cell_type": "code",
      "execution_count": null,
      "metadata": {
        "id": "7-os421wYYwa",
        "outputId": "bfaf45fb-af2d-4489-c91b-4769f6f23f31"
      },
      "outputs": [
        {
          "name": "stdout",
          "output_type": "stream",
          "text": [
            "Help on package numpy.linalg in numpy:\n",
            "\n",
            "NAME\n",
            "    numpy.linalg\n",
            "\n",
            "DESCRIPTION\n",
            "    Core Linear Algebra Tools\n",
            "    -------------------------\n",
            "    Linear algebra basics:\n",
            "    \n",
            "    - norm            Vector or matrix norm\n",
            "    - inv             Inverse of a square matrix\n",
            "    - solve           Solve a linear system of equations\n",
            "    - det             Determinant of a square matrix\n",
            "    - lstsq           Solve linear least-squares problem\n",
            "    - pinv            Pseudo-inverse (Moore-Penrose) calculated using a singular\n",
            "                      value decomposition\n",
            "    - matrix_power    Integer power of a square matrix\n",
            "    \n",
            "    Eigenvalues and decompositions:\n",
            "    \n",
            "    - eig             Eigenvalues and vectors of a square matrix\n",
            "    - eigh            Eigenvalues and eigenvectors of a Hermitian matrix\n",
            "    - eigvals         Eigenvalues of a square matrix\n",
            "    - eigvalsh        Eigenvalues of a Hermitian matrix\n",
            "    - qr              QR decomposition of a matrix\n",
            "    - svd             Singular value decomposition of a matrix\n",
            "    - cholesky        Cholesky decomposition of a matrix\n",
            "    \n",
            "    Tensor operations:\n",
            "    \n",
            "    - tensorsolve     Solve a linear tensor equation\n",
            "    - tensorinv       Calculate an inverse of a tensor\n",
            "    \n",
            "    Exceptions:\n",
            "    \n",
            "    - LinAlgError     Indicates a failed linear algebra operation\n",
            "\n",
            "PACKAGE CONTENTS\n",
            "    _umath_linalg\n",
            "    info\n",
            "    lapack_lite\n",
            "    linalg\n",
            "    setup\n",
            "    tests (package)\n",
            "\n",
            "CLASSES\n",
            "    builtins.Exception(builtins.BaseException)\n",
            "        LinAlgError\n",
            "    \n",
            "    class LinAlgError(builtins.Exception)\n",
            "     |  Generic Python-exception-derived object raised by linalg functions.\n",
            "     |  \n",
            "     |  General purpose exception class, derived from Python's exception.Exception\n",
            "     |  class, programmatically raised in linalg functions when a Linear\n",
            "     |  Algebra-related condition would prevent further correct execution of the\n",
            "     |  function.\n",
            "     |  \n",
            "     |  Parameters\n",
            "     |  ----------\n",
            "     |  None\n",
            "     |  \n",
            "     |  Examples\n",
            "     |  --------\n",
            "     |  >>> from numpy import linalg as LA\n",
            "     |  >>> LA.inv(np.zeros((2,2)))\n",
            "     |  Traceback (most recent call last):\n",
            "     |    File \"<stdin>\", line 1, in <module>\n",
            "     |    File \"...linalg.py\", line 350,\n",
            "     |      in inv return wrap(solve(a, identity(a.shape[0], dtype=a.dtype)))\n",
            "     |    File \"...linalg.py\", line 249,\n",
            "     |      in solve\n",
            "     |      raise LinAlgError('Singular matrix')\n",
            "     |  numpy.linalg.LinAlgError: Singular matrix\n",
            "     |  \n",
            "     |  Method resolution order:\n",
            "     |      LinAlgError\n",
            "     |      builtins.Exception\n",
            "     |      builtins.BaseException\n",
            "     |      builtins.object\n",
            "     |  \n",
            "     |  Data descriptors defined here:\n",
            "     |  \n",
            "     |  __weakref__\n",
            "     |      list of weak references to the object (if defined)\n",
            "     |  \n",
            "     |  ----------------------------------------------------------------------\n",
            "     |  Methods inherited from builtins.Exception:\n",
            "     |  \n",
            "     |  __init__(self, /, *args, **kwargs)\n",
            "     |      Initialize self.  See help(type(self)) for accurate signature.\n",
            "     |  \n",
            "     |  __new__(*args, **kwargs) from builtins.type\n",
            "     |      Create and return a new object.  See help(type) for accurate signature.\n",
            "     |  \n",
            "     |  ----------------------------------------------------------------------\n",
            "     |  Methods inherited from builtins.BaseException:\n",
            "     |  \n",
            "     |  __delattr__(self, name, /)\n",
            "     |      Implement delattr(self, name).\n",
            "     |  \n",
            "     |  __getattribute__(self, name, /)\n",
            "     |      Return getattr(self, name).\n",
            "     |  \n",
            "     |  __reduce__(...)\n",
            "     |      helper for pickle\n",
            "     |  \n",
            "     |  __repr__(self, /)\n",
            "     |      Return repr(self).\n",
            "     |  \n",
            "     |  __setattr__(self, name, value, /)\n",
            "     |      Implement setattr(self, name, value).\n",
            "     |  \n",
            "     |  __setstate__(...)\n",
            "     |  \n",
            "     |  __str__(self, /)\n",
            "     |      Return str(self).\n",
            "     |  \n",
            "     |  with_traceback(...)\n",
            "     |      Exception.with_traceback(tb) --\n",
            "     |      set self.__traceback__ to tb and return self.\n",
            "     |  \n",
            "     |  ----------------------------------------------------------------------\n",
            "     |  Data descriptors inherited from builtins.BaseException:\n",
            "     |  \n",
            "     |  __cause__\n",
            "     |      exception cause\n",
            "     |  \n",
            "     |  __context__\n",
            "     |      exception context\n",
            "     |  \n",
            "     |  __dict__\n",
            "     |  \n",
            "     |  __suppress_context__\n",
            "     |  \n",
            "     |  __traceback__\n",
            "     |  \n",
            "     |  args\n",
            "\n",
            "FUNCTIONS\n",
            "    cholesky(a)\n",
            "        Cholesky decomposition.\n",
            "        \n",
            "        Return the Cholesky decomposition, `L * L.H`, of the square matrix `a`,\n",
            "        where `L` is lower-triangular and .H is the conjugate transpose operator\n",
            "        (which is the ordinary transpose if `a` is real-valued).  `a` must be\n",
            "        Hermitian (symmetric if real-valued) and positive-definite.  Only `L` is\n",
            "        actually returned.\n",
            "        \n",
            "        Parameters\n",
            "        ----------\n",
            "        a : (..., M, M) array_like\n",
            "            Hermitian (symmetric if all elements are real), positive-definite\n",
            "            input matrix.\n",
            "        \n",
            "        Returns\n",
            "        -------\n",
            "        L : (..., M, M) array_like\n",
            "            Upper or lower-triangular Cholesky factor of `a`.  Returns a\n",
            "            matrix object if `a` is a matrix object.\n",
            "        \n",
            "        Raises\n",
            "        ------\n",
            "        LinAlgError\n",
            "           If the decomposition fails, for example, if `a` is not\n",
            "           positive-definite.\n",
            "        \n",
            "        Notes\n",
            "        -----\n",
            "        \n",
            "        .. versionadded:: 1.8.0\n",
            "        \n",
            "        Broadcasting rules apply, see the `numpy.linalg` documentation for\n",
            "        details.\n",
            "        \n",
            "        The Cholesky decomposition is often used as a fast way of solving\n",
            "        \n",
            "        .. math:: A \\mathbf{x} = \\mathbf{b}\n",
            "        \n",
            "        (when `A` is both Hermitian/symmetric and positive-definite).\n",
            "        \n",
            "        First, we solve for :math:`\\mathbf{y}` in\n",
            "        \n",
            "        .. math:: L \\mathbf{y} = \\mathbf{b},\n",
            "        \n",
            "        and then for :math:`\\mathbf{x}` in\n",
            "        \n",
            "        .. math:: L.H \\mathbf{x} = \\mathbf{y}.\n",
            "        \n",
            "        Examples\n",
            "        --------\n",
            "        >>> A = np.array([[1,-2j],[2j,5]])\n",
            "        >>> A\n",
            "        array([[ 1.+0.j,  0.-2.j],\n",
            "               [ 0.+2.j,  5.+0.j]])\n",
            "        >>> L = np.linalg.cholesky(A)\n",
            "        >>> L\n",
            "        array([[ 1.+0.j,  0.+0.j],\n",
            "               [ 0.+2.j,  1.+0.j]])\n",
            "        >>> np.dot(L, L.T.conj()) # verify that L * L.H = A\n",
            "        array([[ 1.+0.j,  0.-2.j],\n",
            "               [ 0.+2.j,  5.+0.j]])\n",
            "        >>> A = [[1,-2j],[2j,5]] # what happens if A is only array_like?\n",
            "        >>> np.linalg.cholesky(A) # an ndarray object is returned\n",
            "        array([[ 1.+0.j,  0.+0.j],\n",
            "               [ 0.+2.j,  1.+0.j]])\n",
            "        >>> # But a matrix object is returned if A is a matrix object\n",
            "        >>> LA.cholesky(np.matrix(A))\n",
            "        matrix([[ 1.+0.j,  0.+0.j],\n",
            "                [ 0.+2.j,  1.+0.j]])\n",
            "    \n",
            "    cond(x, p=None)\n",
            "        Compute the condition number of a matrix.\n",
            "        \n",
            "        This function is capable of returning the condition number using\n",
            "        one of seven different norms, depending on the value of `p` (see\n",
            "        Parameters below).\n",
            "        \n",
            "        Parameters\n",
            "        ----------\n",
            "        x : (..., M, N) array_like\n",
            "            The matrix whose condition number is sought.\n",
            "        p : {None, 1, -1, 2, -2, inf, -inf, 'fro'}, optional\n",
            "            Order of the norm:\n",
            "        \n",
            "            =====  ============================\n",
            "            p      norm for matrices\n",
            "            =====  ============================\n",
            "            None   2-norm, computed directly using the ``SVD``\n",
            "            'fro'  Frobenius norm\n",
            "            inf    max(sum(abs(x), axis=1))\n",
            "            -inf   min(sum(abs(x), axis=1))\n",
            "            1      max(sum(abs(x), axis=0))\n",
            "            -1     min(sum(abs(x), axis=0))\n",
            "            2      2-norm (largest sing. value)\n",
            "            -2     smallest singular value\n",
            "            =====  ============================\n",
            "        \n",
            "            inf means the numpy.inf object, and the Frobenius norm is\n",
            "            the root-of-sum-of-squares norm.\n",
            "        \n",
            "        Returns\n",
            "        -------\n",
            "        c : {float, inf}\n",
            "            The condition number of the matrix. May be infinite.\n",
            "        \n",
            "        See Also\n",
            "        --------\n",
            "        numpy.linalg.norm\n",
            "        \n",
            "        Notes\n",
            "        -----\n",
            "        The condition number of `x` is defined as the norm of `x` times the\n",
            "        norm of the inverse of `x` [1]_; the norm can be the usual L2-norm\n",
            "        (root-of-sum-of-squares) or one of a number of other matrix norms.\n",
            "        \n",
            "        References\n",
            "        ----------\n",
            "        .. [1] G. Strang, *Linear Algebra and Its Applications*, Orlando, FL,\n",
            "               Academic Press, Inc., 1980, pg. 285.\n",
            "        \n",
            "        Examples\n",
            "        --------\n",
            "        >>> from numpy import linalg as LA\n",
            "        >>> a = np.array([[1, 0, -1], [0, 1, 0], [1, 0, 1]])\n",
            "        >>> a\n",
            "        array([[ 1,  0, -1],\n",
            "               [ 0,  1,  0],\n",
            "               [ 1,  0,  1]])\n",
            "        >>> LA.cond(a)\n",
            "        1.4142135623730951\n",
            "        >>> LA.cond(a, 'fro')\n",
            "        3.1622776601683795\n",
            "        >>> LA.cond(a, np.inf)\n",
            "        2.0\n",
            "        >>> LA.cond(a, -np.inf)\n",
            "        1.0\n",
            "        >>> LA.cond(a, 1)\n",
            "        2.0\n",
            "        >>> LA.cond(a, -1)\n",
            "        1.0\n",
            "        >>> LA.cond(a, 2)\n",
            "        1.4142135623730951\n",
            "        >>> LA.cond(a, -2)\n",
            "        0.70710678118654746\n",
            "        >>> min(LA.svd(a, compute_uv=0))*min(LA.svd(LA.inv(a), compute_uv=0))\n",
            "        0.70710678118654746\n",
            "    \n",
            "    det(a)\n",
            "        Compute the determinant of an array.\n",
            "        \n",
            "        Parameters\n",
            "        ----------\n",
            "        a : (..., M, M) array_like\n",
            "            Input array to compute determinants for.\n",
            "        \n",
            "        Returns\n",
            "        -------\n",
            "        det : (...) array_like\n",
            "            Determinant of `a`.\n",
            "        \n",
            "        See Also\n",
            "        --------\n",
            "        slogdet : Another way to represent the determinant, more suitable\n",
            "          for large matrices where underflow/overflow may occur.\n",
            "        \n",
            "        Notes\n",
            "        -----\n",
            "        \n",
            "        .. versionadded:: 1.8.0\n",
            "        \n",
            "        Broadcasting rules apply, see the `numpy.linalg` documentation for\n",
            "        details.\n",
            "        \n",
            "        The determinant is computed via LU factorization using the LAPACK\n",
            "        routine z/dgetrf.\n",
            "        \n",
            "        Examples\n",
            "        --------\n",
            "        The determinant of a 2-D array [[a, b], [c, d]] is ad - bc:\n",
            "        \n",
            "        >>> a = np.array([[1, 2], [3, 4]])\n",
            "        >>> np.linalg.det(a)\n",
            "        -2.0\n",
            "        \n",
            "        Computing determinants for a stack of matrices:\n",
            "        \n",
            "        >>> a = np.array([ [[1, 2], [3, 4]], [[1, 2], [2, 1]], [[1, 3], [3, 1]] ])\n",
            "        >>> a.shape\n",
            "        (3, 2, 2)\n",
            "        >>> np.linalg.det(a)\n",
            "        array([-2., -3., -8.])\n",
            "    \n",
            "    eig(a)\n",
            "        Compute the eigenvalues and right eigenvectors of a square array.\n",
            "        \n",
            "        Parameters\n",
            "        ----------\n",
            "        a : (..., M, M) array\n",
            "            Matrices for which the eigenvalues and right eigenvectors will\n",
            "            be computed\n",
            "        \n",
            "        Returns\n",
            "        -------\n",
            "        w : (..., M) array\n",
            "            The eigenvalues, each repeated according to its multiplicity.\n",
            "            The eigenvalues are not necessarily ordered. The resulting\n",
            "            array will be of complex type, unless the imaginary part is\n",
            "            zero in which case it will be cast to a real type. When `a`\n",
            "            is real the resulting eigenvalues will be real (0 imaginary\n",
            "            part) or occur in conjugate pairs\n",
            "        \n",
            "        v : (..., M, M) array\n",
            "            The normalized (unit \"length\") eigenvectors, such that the\n",
            "            column ``v[:,i]`` is the eigenvector corresponding to the\n",
            "            eigenvalue ``w[i]``.\n",
            "        \n",
            "        Raises\n",
            "        ------\n",
            "        LinAlgError\n",
            "            If the eigenvalue computation does not converge.\n",
            "        \n",
            "        See Also\n",
            "        --------\n",
            "        eigvals : eigenvalues of a non-symmetric array.\n",
            "        \n",
            "        eigh : eigenvalues and eigenvectors of a real symmetric or complex \n",
            "               Hermitian (conjugate symmetric) array.\n",
            "        \n",
            "        eigvalsh : eigenvalues of a real symmetric or complex Hermitian\n",
            "                   (conjugate symmetric) array.\n",
            "        \n",
            "        Notes\n",
            "        -----\n",
            "        \n",
            "        .. versionadded:: 1.8.0\n",
            "        \n",
            "        Broadcasting rules apply, see the `numpy.linalg` documentation for\n",
            "        details.\n",
            "        \n",
            "        This is implemented using the _geev LAPACK routines which compute\n",
            "        the eigenvalues and eigenvectors of general square arrays.\n",
            "        \n",
            "        The number `w` is an eigenvalue of `a` if there exists a vector\n",
            "        `v` such that ``dot(a,v) = w * v``. Thus, the arrays `a`, `w`, and\n",
            "        `v` satisfy the equations ``dot(a[:,:], v[:,i]) = w[i] * v[:,i]``\n",
            "        for :math:`i \\in \\{0,...,M-1\\}`.\n",
            "        \n",
            "        The array `v` of eigenvectors may not be of maximum rank, that is, some\n",
            "        of the columns may be linearly dependent, although round-off error may\n",
            "        obscure that fact. If the eigenvalues are all different, then theoretically\n",
            "        the eigenvectors are linearly independent. Likewise, the (complex-valued)\n",
            "        matrix of eigenvectors `v` is unitary if the matrix `a` is normal, i.e.,\n",
            "        if ``dot(a, a.H) = dot(a.H, a)``, where `a.H` denotes the conjugate\n",
            "        transpose of `a`.\n",
            "        \n",
            "        Finally, it is emphasized that `v` consists of the *right* (as in\n",
            "        right-hand side) eigenvectors of `a`.  A vector `y` satisfying\n",
            "        ``dot(y.T, a) = z * y.T`` for some number `z` is called a *left*\n",
            "        eigenvector of `a`, and, in general, the left and right eigenvectors\n",
            "        of a matrix are not necessarily the (perhaps conjugate) transposes\n",
            "        of each other.\n",
            "        \n",
            "        References\n",
            "        ----------\n",
            "        G. Strang, *Linear Algebra and Its Applications*, 2nd Ed., Orlando, FL,\n",
            "        Academic Press, Inc., 1980, Various pp.\n",
            "        \n",
            "        Examples\n",
            "        --------\n",
            "        >>> from numpy import linalg as LA\n",
            "        \n",
            "        (Almost) trivial example with real e-values and e-vectors.\n",
            "        \n",
            "        >>> w, v = LA.eig(np.diag((1, 2, 3)))\n",
            "        >>> w; v\n",
            "        array([ 1.,  2.,  3.])\n",
            "        array([[ 1.,  0.,  0.],\n",
            "               [ 0.,  1.,  0.],\n",
            "               [ 0.,  0.,  1.]])\n",
            "        \n",
            "        Real matrix possessing complex e-values and e-vectors; note that the\n",
            "        e-values are complex conjugates of each other.\n",
            "        \n",
            "        >>> w, v = LA.eig(np.array([[1, -1], [1, 1]]))\n",
            "        >>> w; v\n",
            "        array([ 1. + 1.j,  1. - 1.j])\n",
            "        array([[ 0.70710678+0.j        ,  0.70710678+0.j        ],\n",
            "               [ 0.00000000-0.70710678j,  0.00000000+0.70710678j]])\n",
            "        \n",
            "        Complex-valued matrix with real e-values (but complex-valued e-vectors);\n",
            "        note that a.conj().T = a, i.e., a is Hermitian.\n",
            "        \n",
            "        >>> a = np.array([[1, 1j], [-1j, 1]])\n",
            "        >>> w, v = LA.eig(a)\n",
            "        >>> w; v\n",
            "        array([  2.00000000e+00+0.j,   5.98651912e-36+0.j]) # i.e., {2, 0}\n",
            "        array([[ 0.00000000+0.70710678j,  0.70710678+0.j        ],\n",
            "               [ 0.70710678+0.j        ,  0.00000000+0.70710678j]])\n",
            "        \n",
            "        Be careful about round-off error!\n",
            "        \n",
            "        >>> a = np.array([[1 + 1e-9, 0], [0, 1 - 1e-9]])\n",
            "        >>> # Theor. e-values are 1 +/- 1e-9\n",
            "        >>> w, v = LA.eig(a)\n",
            "        >>> w; v\n",
            "        array([ 1.,  1.])\n",
            "        array([[ 1.,  0.],\n",
            "               [ 0.,  1.]])\n",
            "    \n",
            "    eigh(a, UPLO='L')\n",
            "        Return the eigenvalues and eigenvectors of a complex Hermitian\n",
            "        (conjugate symmetric) or a real symmetric matrix.\n",
            "        \n",
            "        Returns two objects, a 1-D array containing the eigenvalues of `a`, and\n",
            "        a 2-D square array or matrix (depending on the input type) of the\n",
            "        corresponding eigenvectors (in columns).\n",
            "        \n",
            "        Parameters\n",
            "        ----------\n",
            "        a : (..., M, M) array\n",
            "            Hermitian or real symmetric matrices whose eigenvalues and\n",
            "            eigenvectors are to be computed.\n",
            "        UPLO : {'L', 'U'}, optional\n",
            "            Specifies whether the calculation is done with the lower triangular\n",
            "            part of `a` ('L', default) or the upper triangular part ('U').\n",
            "            Irrespective of this value only the real parts of the diagonal will\n",
            "            be considered in the computation to preserve the notion of a Hermitian\n",
            "            matrix. It therefore follows that the imaginary part of the diagonal\n",
            "            will always be treated as zero.\n",
            "        \n",
            "        Returns\n",
            "        -------\n",
            "        w : (..., M) ndarray\n",
            "            The eigenvalues in ascending order, each repeated according to\n",
            "            its multiplicity.\n",
            "        v : {(..., M, M) ndarray, (..., M, M) matrix}\n",
            "            The column ``v[:, i]`` is the normalized eigenvector corresponding\n",
            "            to the eigenvalue ``w[i]``.  Will return a matrix object if `a` is\n",
            "            a matrix object.\n",
            "        \n",
            "        Raises\n",
            "        ------\n",
            "        LinAlgError\n",
            "            If the eigenvalue computation does not converge.\n",
            "        \n",
            "        See Also\n",
            "        --------\n",
            "        eigvalsh : eigenvalues of real symmetric or complex Hermitian\n",
            "                   (conjugate symmetric) arrays.\n",
            "        eig : eigenvalues and right eigenvectors for non-symmetric arrays.\n",
            "        eigvals : eigenvalues of non-symmetric arrays.\n",
            "        \n",
            "        Notes\n",
            "        -----\n",
            "        \n",
            "        .. versionadded:: 1.8.0\n",
            "        \n",
            "        Broadcasting rules apply, see the `numpy.linalg` documentation for\n",
            "        details.\n",
            "        \n",
            "        The eigenvalues/eigenvectors are computed using LAPACK routines _syevd,\n",
            "        _heevd\n",
            "        \n",
            "        The eigenvalues of real symmetric or complex Hermitian matrices are\n",
            "        always real. [1]_ The array `v` of (column) eigenvectors is unitary\n",
            "        and `a`, `w`, and `v` satisfy the equations\n",
            "        ``dot(a, v[:, i]) = w[i] * v[:, i]``.\n",
            "        \n",
            "        References\n",
            "        ----------\n",
            "        .. [1] G. Strang, *Linear Algebra and Its Applications*, 2nd Ed., Orlando,\n",
            "               FL, Academic Press, Inc., 1980, pg. 222.\n",
            "        \n",
            "        Examples\n",
            "        --------\n",
            "        >>> from numpy import linalg as LA\n",
            "        >>> a = np.array([[1, -2j], [2j, 5]])\n",
            "        >>> a\n",
            "        array([[ 1.+0.j,  0.-2.j],\n",
            "               [ 0.+2.j,  5.+0.j]])\n",
            "        >>> w, v = LA.eigh(a)\n",
            "        >>> w; v\n",
            "        array([ 0.17157288,  5.82842712])\n",
            "        array([[-0.92387953+0.j        , -0.38268343+0.j        ],\n",
            "               [ 0.00000000+0.38268343j,  0.00000000-0.92387953j]])\n",
            "        \n",
            "        >>> np.dot(a, v[:, 0]) - w[0] * v[:, 0] # verify 1st e-val/vec pair\n",
            "        array([2.77555756e-17 + 0.j, 0. + 1.38777878e-16j])\n",
            "        >>> np.dot(a, v[:, 1]) - w[1] * v[:, 1] # verify 2nd e-val/vec pair\n",
            "        array([ 0.+0.j,  0.+0.j])\n",
            "        \n",
            "        >>> A = np.matrix(a) # what happens if input is a matrix object\n",
            "        >>> A\n",
            "        matrix([[ 1.+0.j,  0.-2.j],\n",
            "                [ 0.+2.j,  5.+0.j]])\n",
            "        >>> w, v = LA.eigh(A)\n",
            "        >>> w; v\n",
            "        array([ 0.17157288,  5.82842712])\n",
            "        matrix([[-0.92387953+0.j        , -0.38268343+0.j        ],\n",
            "                [ 0.00000000+0.38268343j,  0.00000000-0.92387953j]])\n",
            "        \n",
            "        >>> # demonstrate the treatment of the imaginary part of the diagonal\n",
            "        >>> a = np.array([[5+2j, 9-2j], [0+2j, 2-1j]])\n",
            "        >>> a\n",
            "        array([[ 5.+2.j,  9.-2.j],\n",
            "               [ 0.+2.j,  2.-1.j]])\n",
            "        >>> # with UPLO='L' this is numerically equivalent to using LA.eig() with:\n",
            "        >>> b = np.array([[5.+0.j, 0.-2.j], [0.+2.j, 2.-0.j]])\n",
            "        >>> b\n",
            "        array([[ 5.+0.j,  0.-2.j],\n",
            "               [ 0.+2.j,  2.+0.j]])\n",
            "        >>> wa, va = LA.eigh(a)\n",
            "        >>> wb, vb = LA.eig(b)\n",
            "        >>> wa; wb\n",
            "        array([ 1.,  6.])\n",
            "        array([ 6.+0.j,  1.+0.j])\n",
            "        >>> va; vb\n",
            "        array([[-0.44721360-0.j        , -0.89442719+0.j        ],\n",
            "               [ 0.00000000+0.89442719j,  0.00000000-0.4472136j ]])\n",
            "        array([[ 0.89442719+0.j       ,  0.00000000-0.4472136j],\n",
            "               [ 0.00000000-0.4472136j,  0.89442719+0.j       ]])\n",
            "    \n",
            "    eigvals(a)\n",
            "        Compute the eigenvalues of a general matrix.\n",
            "        \n",
            "        Main difference between `eigvals` and `eig`: the eigenvectors aren't\n",
            "        returned.\n",
            "        \n",
            "        Parameters\n",
            "        ----------\n",
            "        a : (..., M, M) array_like\n",
            "            A complex- or real-valued matrix whose eigenvalues will be computed.\n",
            "        \n",
            "        Returns\n",
            "        -------\n",
            "        w : (..., M,) ndarray\n",
            "            The eigenvalues, each repeated according to its multiplicity.\n",
            "            They are not necessarily ordered, nor are they necessarily\n",
            "            real for real matrices.\n",
            "        \n",
            "        Raises\n",
            "        ------\n",
            "        LinAlgError\n",
            "            If the eigenvalue computation does not converge.\n",
            "        \n",
            "        See Also\n",
            "        --------\n",
            "        eig : eigenvalues and right eigenvectors of general arrays\n",
            "        eigvalsh : eigenvalues of real symmetric or complex Hermitian \n",
            "                   (conjugate symmetric) arrays.\n",
            "        eigh : eigenvalues and eigenvectors of real symmetric or complex\n",
            "               Hermitian (conjugate symmetric) arrays.\n",
            "        \n",
            "        Notes\n",
            "        -----\n",
            "        \n",
            "        .. versionadded:: 1.8.0\n",
            "        \n",
            "        Broadcasting rules apply, see the `numpy.linalg` documentation for\n",
            "        details.\n",
            "        \n",
            "        This is implemented using the _geev LAPACK routines which compute\n",
            "        the eigenvalues and eigenvectors of general square arrays.\n",
            "        \n",
            "        Examples\n",
            "        --------\n",
            "        Illustration, using the fact that the eigenvalues of a diagonal matrix\n",
            "        are its diagonal elements, that multiplying a matrix on the left\n",
            "        by an orthogonal matrix, `Q`, and on the right by `Q.T` (the transpose\n",
            "        of `Q`), preserves the eigenvalues of the \"middle\" matrix.  In other words,\n",
            "        if `Q` is orthogonal, then ``Q * A * Q.T`` has the same eigenvalues as\n",
            "        ``A``:\n",
            "        \n",
            "        >>> from numpy import linalg as LA\n",
            "        >>> x = np.random.random()\n",
            "        >>> Q = np.array([[np.cos(x), -np.sin(x)], [np.sin(x), np.cos(x)]])\n",
            "        >>> LA.norm(Q[0, :]), LA.norm(Q[1, :]), np.dot(Q[0, :],Q[1, :])\n",
            "        (1.0, 1.0, 0.0)\n",
            "        \n",
            "        Now multiply a diagonal matrix by Q on one side and by Q.T on the other:\n",
            "        \n",
            "        >>> D = np.diag((-1,1))\n",
            "        >>> LA.eigvals(D)\n",
            "        array([-1.,  1.])\n",
            "        >>> A = np.dot(Q, D)\n",
            "        >>> A = np.dot(A, Q.T)\n",
            "        >>> LA.eigvals(A)\n",
            "        array([ 1., -1.])\n",
            "    \n",
            "    eigvalsh(a, UPLO='L')\n",
            "        Compute the eigenvalues of a complex Hermitian or real symmetric matrix.\n",
            "        \n",
            "        Main difference from eigh: the eigenvectors are not computed.\n",
            "        \n",
            "        Parameters\n",
            "        ----------\n",
            "        a : (..., M, M) array_like\n",
            "            A complex- or real-valued matrix whose eigenvalues are to be\n",
            "            computed.\n",
            "        UPLO : {'L', 'U'}, optional\n",
            "            Specifies whether the calculation is done with the lower triangular\n",
            "            part of `a` ('L', default) or the upper triangular part ('U').\n",
            "            Irrespective of this value only the real parts of the diagonal will\n",
            "            be considered in the computation to preserve the notion of a Hermitian\n",
            "            matrix. It therefore follows that the imaginary part of the diagonal\n",
            "            will always be treated as zero.\n",
            "        \n",
            "        Returns\n",
            "        -------\n",
            "        w : (..., M,) ndarray\n",
            "            The eigenvalues in ascending order, each repeated according to\n",
            "            its multiplicity.\n",
            "        \n",
            "        Raises\n",
            "        ------\n",
            "        LinAlgError\n",
            "            If the eigenvalue computation does not converge.\n",
            "        \n",
            "        See Also\n",
            "        --------\n",
            "        eigh : eigenvalues and eigenvectors of real symmetric or complex Hermitian\n",
            "               (conjugate symmetric) arrays.\n",
            "        eigvals : eigenvalues of general real or complex arrays.\n",
            "        eig : eigenvalues and right eigenvectors of general real or complex\n",
            "              arrays.\n",
            "        \n",
            "        Notes\n",
            "        -----\n",
            "        \n",
            "        .. versionadded:: 1.8.0\n",
            "        \n",
            "        Broadcasting rules apply, see the `numpy.linalg` documentation for\n",
            "        details.\n",
            "        \n",
            "        The eigenvalues are computed using LAPACK routines _syevd, _heevd\n",
            "        \n",
            "        Examples\n",
            "        --------\n",
            "        >>> from numpy import linalg as LA\n",
            "        >>> a = np.array([[1, -2j], [2j, 5]])\n",
            "        >>> LA.eigvalsh(a)\n",
            "        array([ 0.17157288,  5.82842712])\n",
            "        \n",
            "        >>> # demonstrate the treatment of the imaginary part of the diagonal\n",
            "        >>> a = np.array([[5+2j, 9-2j], [0+2j, 2-1j]])\n",
            "        >>> a\n",
            "        array([[ 5.+2.j,  9.-2.j],\n",
            "               [ 0.+2.j,  2.-1.j]])\n",
            "        >>> # with UPLO='L' this is numerically equivalent to using LA.eigvals()\n",
            "        >>> # with:\n",
            "        >>> b = np.array([[5.+0.j, 0.-2.j], [0.+2.j, 2.-0.j]])\n",
            "        >>> b\n",
            "        array([[ 5.+0.j,  0.-2.j],\n",
            "               [ 0.+2.j,  2.+0.j]])\n",
            "        >>> wa = LA.eigvalsh(a)\n",
            "        >>> wb = LA.eigvals(b)\n",
            "        >>> wa; wb\n",
            "        array([ 1.,  6.])\n",
            "        array([ 6.+0.j,  1.+0.j])\n",
            "    \n",
            "    inv(a)\n",
            "        Compute the (multiplicative) inverse of a matrix.\n",
            "        \n",
            "        Given a square matrix `a`, return the matrix `ainv` satisfying\n",
            "        ``dot(a, ainv) = dot(ainv, a) = eye(a.shape[0])``.\n",
            "        \n",
            "        Parameters\n",
            "        ----------\n",
            "        a : (..., M, M) array_like\n",
            "            Matrix to be inverted.\n",
            "        \n",
            "        Returns\n",
            "        -------\n",
            "        ainv : (..., M, M) ndarray or matrix\n",
            "            (Multiplicative) inverse of the matrix `a`.\n",
            "        \n",
            "        Raises\n",
            "        ------\n",
            "        LinAlgError\n",
            "            If `a` is not square or inversion fails.\n",
            "        \n",
            "        Notes\n",
            "        -----\n",
            "        \n",
            "        .. versionadded:: 1.8.0\n",
            "        \n",
            "        Broadcasting rules apply, see the `numpy.linalg` documentation for\n",
            "        details.\n",
            "        \n",
            "        Examples\n",
            "        --------\n",
            "        >>> from numpy.linalg import inv\n",
            "        >>> a = np.array([[1., 2.], [3., 4.]])\n",
            "        >>> ainv = inv(a)\n",
            "        >>> np.allclose(np.dot(a, ainv), np.eye(2))\n",
            "        True\n",
            "        >>> np.allclose(np.dot(ainv, a), np.eye(2))\n",
            "        True\n",
            "        \n",
            "        If a is a matrix object, then the return value is a matrix as well:\n",
            "        \n",
            "        >>> ainv = inv(np.matrix(a))\n",
            "        >>> ainv\n",
            "        matrix([[-2. ,  1. ],\n",
            "                [ 1.5, -0.5]])\n",
            "        \n",
            "        Inverses of several matrices can be computed at once:\n",
            "        \n",
            "        >>> a = np.array([[[1., 2.], [3., 4.]], [[1, 3], [3, 5]]])\n",
            "        >>> inv(a)\n",
            "        array([[[-2. ,  1. ],\n",
            "                [ 1.5, -0.5]],\n",
            "               [[-5. ,  2. ],\n",
            "                [ 3. , -1. ]]])\n",
            "    \n",
            "    lstsq(a, b, rcond='warn')\n",
            "        Return the least-squares solution to a linear matrix equation.\n",
            "        \n",
            "        Solves the equation `a x = b` by computing a vector `x` that\n",
            "        minimizes the Euclidean 2-norm `|| b - a x ||^2`.  The equation may\n",
            "        be under-, well-, or over- determined (i.e., the number of\n",
            "        linearly independent rows of `a` can be less than, equal to, or\n",
            "        greater than its number of linearly independent columns).  If `a`\n",
            "        is square and of full rank, then `x` (but for round-off error) is\n",
            "        the \"exact\" solution of the equation.\n",
            "        \n",
            "        Parameters\n",
            "        ----------\n",
            "        a : (M, N) array_like\n",
            "            \"Coefficient\" matrix.\n",
            "        b : {(M,), (M, K)} array_like\n",
            "            Ordinate or \"dependent variable\" values. If `b` is two-dimensional,\n",
            "            the least-squares solution is calculated for each of the `K` columns\n",
            "            of `b`.\n",
            "        rcond : float, optional\n",
            "            Cut-off ratio for small singular values of `a`.\n",
            "            For the purposes of rank determination, singular values are treated\n",
            "            as zero if they are smaller than `rcond` times the largest singular\n",
            "            value of `a`.\n",
            "        \n",
            "            .. versionchanged:: 1.14.0\n",
            "               If not set, a FutureWarning is given. The previous default\n",
            "               of ``-1`` will use the machine precision as `rcond` parameter,\n",
            "               the new default will use the machine precision times `max(M, N)`.\n",
            "               To silence the warning and use the new default, use ``rcond=None``,\n",
            "               to keep using the old behavior, use ``rcond=-1``.\n",
            "        \n",
            "        Returns\n",
            "        -------\n",
            "        x : {(N,), (N, K)} ndarray\n",
            "            Least-squares solution. If `b` is two-dimensional,\n",
            "            the solutions are in the `K` columns of `x`.\n",
            "        residuals : {(1,), (K,), (0,)} ndarray\n",
            "            Sums of residuals; squared Euclidean 2-norm for each column in\n",
            "            ``b - a*x``.\n",
            "            If the rank of `a` is < N or M <= N, this is an empty array.\n",
            "            If `b` is 1-dimensional, this is a (1,) shape array.\n",
            "            Otherwise the shape is (K,).\n",
            "        rank : int\n",
            "            Rank of matrix `a`.\n",
            "        s : (min(M, N),) ndarray\n",
            "            Singular values of `a`.\n",
            "        \n",
            "        Raises\n",
            "        ------\n",
            "        LinAlgError\n",
            "            If computation does not converge.\n",
            "        \n",
            "        Notes\n",
            "        -----\n",
            "        If `b` is a matrix, then all array results are returned as matrices.\n",
            "        \n",
            "        Examples\n",
            "        --------\n",
            "        Fit a line, ``y = mx + c``, through some noisy data-points:\n",
            "        \n",
            "        >>> x = np.array([0, 1, 2, 3])\n",
            "        >>> y = np.array([-1, 0.2, 0.9, 2.1])\n",
            "        \n",
            "        By examining the coefficients, we see that the line should have a\n",
            "        gradient of roughly 1 and cut the y-axis at, more or less, -1.\n",
            "        \n",
            "        We can rewrite the line equation as ``y = Ap``, where ``A = [[x 1]]``\n",
            "        and ``p = [[m], [c]]``.  Now use `lstsq` to solve for `p`:\n",
            "        \n",
            "        >>> A = np.vstack([x, np.ones(len(x))]).T\n",
            "        >>> A\n",
            "        array([[ 0.,  1.],\n",
            "               [ 1.,  1.],\n",
            "               [ 2.,  1.],\n",
            "               [ 3.,  1.]])\n",
            "        \n",
            "        >>> m, c = np.linalg.lstsq(A, y, rcond=None)[0]\n",
            "        >>> print(m, c)\n",
            "        1.0 -0.95\n",
            "        \n",
            "        Plot the data along with the fitted line:\n",
            "        \n",
            "        >>> import matplotlib.pyplot as plt\n",
            "        >>> plt.plot(x, y, 'o', label='Original data', markersize=10)\n",
            "        >>> plt.plot(x, m*x + c, 'r', label='Fitted line')\n",
            "        >>> plt.legend()\n",
            "        >>> plt.show()\n",
            "    \n",
            "    matrix_power(a, n)\n",
            "        Raise a square matrix to the (integer) power `n`.\n",
            "        \n",
            "        For positive integers `n`, the power is computed by repeated matrix\n",
            "        squarings and matrix multiplications. If ``n == 0``, the identity matrix\n",
            "        of the same shape as M is returned. If ``n < 0``, the inverse\n",
            "        is computed and then raised to the ``abs(n)``.\n",
            "        \n",
            "        .. note:: Stacks of object matrices are not currently supported.\n",
            "        \n",
            "        Parameters\n",
            "        ----------\n",
            "        a : (..., M, M) array_like\n",
            "            Matrix to be \"powered.\"\n",
            "        n : int\n",
            "            The exponent can be any integer or long integer, positive,\n",
            "            negative, or zero.\n",
            "        \n",
            "        Returns\n",
            "        -------\n",
            "        a**n : (..., M, M) ndarray or matrix object\n",
            "            The return value is the same shape and type as `M`;\n",
            "            if the exponent is positive or zero then the type of the\n",
            "            elements is the same as those of `M`. If the exponent is\n",
            "            negative the elements are floating-point.\n",
            "        \n",
            "        Raises\n",
            "        ------\n",
            "        LinAlgError\n",
            "            For matrices that are not square or that (for negative powers) cannot\n",
            "            be inverted numerically.\n",
            "        \n",
            "        Examples\n",
            "        --------\n",
            "        >>> from numpy.linalg import matrix_power\n",
            "        >>> i = np.array([[0, 1], [-1, 0]]) # matrix equiv. of the imaginary unit\n",
            "        >>> matrix_power(i, 3) # should = -i\n",
            "        array([[ 0, -1],\n",
            "               [ 1,  0]])\n",
            "        >>> matrix_power(i, 0)\n",
            "        array([[1, 0],\n",
            "               [0, 1]])\n",
            "        >>> matrix_power(i, -3) # should = 1/(-i) = i, but w/ f.p. elements\n",
            "        array([[ 0.,  1.],\n",
            "               [-1.,  0.]])\n",
            "        \n",
            "        Somewhat more sophisticated example\n",
            "        \n",
            "        >>> q = np.zeros((4, 4))\n",
            "        >>> q[0:2, 0:2] = -i\n",
            "        >>> q[2:4, 2:4] = i\n",
            "        >>> q # one of the three quaternion units not equal to 1\n",
            "        array([[ 0., -1.,  0.,  0.],\n",
            "               [ 1.,  0.,  0.,  0.],\n",
            "               [ 0.,  0.,  0.,  1.],\n",
            "               [ 0.,  0., -1.,  0.]])\n",
            "        >>> matrix_power(q, 2) # = -np.eye(4)\n",
            "        array([[-1.,  0.,  0.,  0.],\n",
            "               [ 0., -1.,  0.,  0.],\n",
            "               [ 0.,  0., -1.,  0.],\n",
            "               [ 0.,  0.,  0., -1.]])\n",
            "    \n",
            "    matrix_rank(M, tol=None, hermitian=False)\n",
            "        Return matrix rank of array using SVD method\n",
            "        \n",
            "        Rank of the array is the number of singular values of the array that are\n",
            "        greater than `tol`.\n",
            "        \n",
            "        .. versionchanged:: 1.14\n",
            "           Can now operate on stacks of matrices\n",
            "        \n",
            "        Parameters\n",
            "        ----------\n",
            "        M : {(M,), (..., M, N)} array_like\n",
            "            input vector or stack of matrices\n",
            "        tol : (...) array_like, float, optional\n",
            "            threshold below which SVD values are considered zero. If `tol` is\n",
            "            None, and ``S`` is an array with singular values for `M`, and\n",
            "            ``eps`` is the epsilon value for datatype of ``S``, then `tol` is\n",
            "            set to ``S.max() * max(M.shape) * eps``.\n",
            "        \n",
            "            .. versionchanged:: 1.14\n",
            "               Broadcasted against the stack of matrices\n",
            "        hermitian : bool, optional\n",
            "            If True, `M` is assumed to be Hermitian (symmetric if real-valued),\n",
            "            enabling a more efficient method for finding singular values.\n",
            "            Defaults to False.\n",
            "        \n",
            "            .. versionadded:: 1.14\n",
            "        \n",
            "        Notes\n",
            "        -----\n",
            "        The default threshold to detect rank deficiency is a test on the magnitude\n",
            "        of the singular values of `M`.  By default, we identify singular values less\n",
            "        than ``S.max() * max(M.shape) * eps`` as indicating rank deficiency (with\n",
            "        the symbols defined above). This is the algorithm MATLAB uses [1].  It also\n",
            "        appears in *Numerical recipes* in the discussion of SVD solutions for linear\n",
            "        least squares [2].\n",
            "        \n",
            "        This default threshold is designed to detect rank deficiency accounting for\n",
            "        the numerical errors of the SVD computation.  Imagine that there is a column\n",
            "        in `M` that is an exact (in floating point) linear combination of other\n",
            "        columns in `M`. Computing the SVD on `M` will not produce a singular value\n",
            "        exactly equal to 0 in general: any difference of the smallest SVD value from\n",
            "        0 will be caused by numerical imprecision in the calculation of the SVD.\n",
            "        Our threshold for small SVD values takes this numerical imprecision into\n",
            "        account, and the default threshold will detect such numerical rank\n",
            "        deficiency.  The threshold may declare a matrix `M` rank deficient even if\n",
            "        the linear combination of some columns of `M` is not exactly equal to\n",
            "        another column of `M` but only numerically very close to another column of\n",
            "        `M`.\n",
            "        \n",
            "        We chose our default threshold because it is in wide use.  Other thresholds\n",
            "        are possible.  For example, elsewhere in the 2007 edition of *Numerical\n",
            "        recipes* there is an alternative threshold of ``S.max() *\n",
            "        np.finfo(M.dtype).eps / 2. * np.sqrt(m + n + 1.)``. The authors describe\n",
            "        this threshold as being based on \"expected roundoff error\" (p 71).\n",
            "        \n",
            "        The thresholds above deal with floating point roundoff error in the\n",
            "        calculation of the SVD.  However, you may have more information about the\n",
            "        sources of error in `M` that would make you consider other tolerance values\n",
            "        to detect *effective* rank deficiency.  The most useful measure of the\n",
            "        tolerance depends on the operations you intend to use on your matrix.  For\n",
            "        example, if your data come from uncertain measurements with uncertainties\n",
            "        greater than floating point epsilon, choosing a tolerance near that\n",
            "        uncertainty may be preferable.  The tolerance may be absolute if the\n",
            "        uncertainties are absolute rather than relative.\n",
            "        \n",
            "        References\n",
            "        ----------\n",
            "        .. [1] MATLAB reference documention, \"Rank\"\n",
            "               https://www.mathworks.com/help/techdoc/ref/rank.html\n",
            "        .. [2] W. H. Press, S. A. Teukolsky, W. T. Vetterling and B. P. Flannery,\n",
            "               \"Numerical Recipes (3rd edition)\", Cambridge University Press, 2007,\n",
            "               page 795.\n",
            "        \n",
            "        Examples\n",
            "        --------\n",
            "        >>> from numpy.linalg import matrix_rank\n",
            "        >>> matrix_rank(np.eye(4)) # Full rank matrix\n",
            "        4\n",
            "        >>> I=np.eye(4); I[-1,-1] = 0. # rank deficient matrix\n",
            "        >>> matrix_rank(I)\n",
            "        3\n",
            "        >>> matrix_rank(np.ones((4,))) # 1 dimension - rank 1 unless all 0\n",
            "        1\n",
            "        >>> matrix_rank(np.zeros((4,)))\n",
            "        0\n",
            "    \n",
            "    multi_dot(arrays)\n",
            "        Compute the dot product of two or more arrays in a single function call,\n",
            "        while automatically selecting the fastest evaluation order.\n",
            "        \n",
            "        `multi_dot` chains `numpy.dot` and uses optimal parenthesization\n",
            "        of the matrices [1]_ [2]_. Depending on the shapes of the matrices,\n",
            "        this can speed up the multiplication a lot.\n",
            "        \n",
            "        If the first argument is 1-D it is treated as a row vector.\n",
            "        If the last argument is 1-D it is treated as a column vector.\n",
            "        The other arguments must be 2-D.\n",
            "        \n",
            "        Think of `multi_dot` as::\n",
            "        \n",
            "            def multi_dot(arrays): return functools.reduce(np.dot, arrays)\n",
            "        \n",
            "        \n",
            "        Parameters\n",
            "        ----------\n",
            "        arrays : sequence of array_like\n",
            "            If the first argument is 1-D it is treated as row vector.\n",
            "            If the last argument is 1-D it is treated as column vector.\n",
            "            The other arguments must be 2-D.\n",
            "        \n",
            "        Returns\n",
            "        -------\n",
            "        output : ndarray\n",
            "            Returns the dot product of the supplied arrays.\n",
            "        \n",
            "        See Also\n",
            "        --------\n",
            "        dot : dot multiplication with two arguments.\n",
            "        \n",
            "        References\n",
            "        ----------\n",
            "        \n",
            "        .. [1] Cormen, \"Introduction to Algorithms\", Chapter 15.2, p. 370-378\n",
            "        .. [2] https://en.wikipedia.org/wiki/Matrix_chain_multiplication\n",
            "        \n",
            "        Examples\n",
            "        --------\n",
            "        `multi_dot` allows you to write::\n",
            "        \n",
            "        >>> from numpy.linalg import multi_dot\n",
            "        >>> # Prepare some data\n",
            "        >>> A = np.random.random(10000, 100)\n",
            "        >>> B = np.random.random(100, 1000)\n",
            "        >>> C = np.random.random(1000, 5)\n",
            "        >>> D = np.random.random(5, 333)\n",
            "        >>> # the actual dot multiplication\n",
            "        >>> multi_dot([A, B, C, D])\n",
            "        \n",
            "        instead of::\n",
            "        \n",
            "        >>> np.dot(np.dot(np.dot(A, B), C), D)\n",
            "        >>> # or\n",
            "        >>> A.dot(B).dot(C).dot(D)\n",
            "        \n",
            "        Notes\n",
            "        -----\n",
            "        The cost for a matrix multiplication can be calculated with the\n",
            "        following function::\n",
            "        \n",
            "            def cost(A, B):\n",
            "                return A.shape[0] * A.shape[1] * B.shape[1]\n",
            "        \n",
            "        Let's assume we have three matrices\n",
            "        :math:`A_{10x100}, B_{100x5}, C_{5x50}`.\n",
            "        \n",
            "        The costs for the two different parenthesizations are as follows::\n",
            "        \n",
            "            cost((AB)C) = 10*100*5 + 10*5*50   = 5000 + 2500   = 7500\n",
            "            cost(A(BC)) = 10*100*50 + 100*5*50 = 50000 + 25000 = 75000\n",
            "    \n",
            "    norm(x, ord=None, axis=None, keepdims=False)\n",
            "        Matrix or vector norm.\n",
            "        \n",
            "        This function is able to return one of eight different matrix norms,\n",
            "        or one of an infinite number of vector norms (described below), depending\n",
            "        on the value of the ``ord`` parameter.\n",
            "        \n",
            "        Parameters\n",
            "        ----------\n",
            "        x : array_like\n",
            "            Input array.  If `axis` is None, `x` must be 1-D or 2-D.\n",
            "        ord : {non-zero int, inf, -inf, 'fro', 'nuc'}, optional\n",
            "            Order of the norm (see table under ``Notes``). inf means numpy's\n",
            "            `inf` object.\n",
            "        axis : {int, 2-tuple of ints, None}, optional\n",
            "            If `axis` is an integer, it specifies the axis of `x` along which to\n",
            "            compute the vector norms.  If `axis` is a 2-tuple, it specifies the\n",
            "            axes that hold 2-D matrices, and the matrix norms of these matrices\n",
            "            are computed.  If `axis` is None then either a vector norm (when `x`\n",
            "            is 1-D) or a matrix norm (when `x` is 2-D) is returned.\n",
            "        \n",
            "            .. versionadded:: 1.8.0\n",
            "        \n",
            "        keepdims : bool, optional\n",
            "            If this is set to True, the axes which are normed over are left in the\n",
            "            result as dimensions with size one.  With this option the result will\n",
            "            broadcast correctly against the original `x`.\n",
            "        \n",
            "            .. versionadded:: 1.10.0\n",
            "        \n",
            "        Returns\n",
            "        -------\n",
            "        n : float or ndarray\n",
            "            Norm of the matrix or vector(s).\n",
            "        \n",
            "        Notes\n",
            "        -----\n",
            "        For values of ``ord <= 0``, the result is, strictly speaking, not a\n",
            "        mathematical 'norm', but it may still be useful for various numerical\n",
            "        purposes.\n",
            "        \n",
            "        The following norms can be calculated:\n",
            "        \n",
            "        =====  ============================  ==========================\n",
            "        ord    norm for matrices             norm for vectors\n",
            "        =====  ============================  ==========================\n",
            "        None   Frobenius norm                2-norm\n",
            "        'fro'  Frobenius norm                --\n",
            "        'nuc'  nuclear norm                  --\n",
            "        inf    max(sum(abs(x), axis=1))      max(abs(x))\n",
            "        -inf   min(sum(abs(x), axis=1))      min(abs(x))\n",
            "        0      --                            sum(x != 0)\n",
            "        1      max(sum(abs(x), axis=0))      as below\n",
            "        -1     min(sum(abs(x), axis=0))      as below\n",
            "        2      2-norm (largest sing. value)  as below\n",
            "        -2     smallest singular value       as below\n",
            "        other  --                            sum(abs(x)**ord)**(1./ord)\n",
            "        =====  ============================  ==========================\n",
            "        \n",
            "        The Frobenius norm is given by [1]_:\n",
            "        \n",
            "            :math:`||A||_F = [\\sum_{i,j} abs(a_{i,j})^2]^{1/2}`\n",
            "        \n",
            "        The nuclear norm is the sum of the singular values.\n",
            "        \n",
            "        References\n",
            "        ----------\n",
            "        .. [1] G. H. Golub and C. F. Van Loan, *Matrix Computations*,\n",
            "               Baltimore, MD, Johns Hopkins University Press, 1985, pg. 15\n",
            "        \n",
            "        Examples\n",
            "        --------\n",
            "        >>> from numpy import linalg as LA\n",
            "        >>> a = np.arange(9) - 4\n",
            "        >>> a\n",
            "        array([-4, -3, -2, -1,  0,  1,  2,  3,  4])\n",
            "        >>> b = a.reshape((3, 3))\n",
            "        >>> b\n",
            "        array([[-4, -3, -2],\n",
            "               [-1,  0,  1],\n",
            "               [ 2,  3,  4]])\n",
            "        \n",
            "        >>> LA.norm(a)\n",
            "        7.745966692414834\n",
            "        >>> LA.norm(b)\n",
            "        7.745966692414834\n",
            "        >>> LA.norm(b, 'fro')\n",
            "        7.745966692414834\n",
            "        >>> LA.norm(a, np.inf)\n",
            "        4.0\n",
            "        >>> LA.norm(b, np.inf)\n",
            "        9.0\n",
            "        >>> LA.norm(a, -np.inf)\n",
            "        0.0\n",
            "        >>> LA.norm(b, -np.inf)\n",
            "        2.0\n",
            "        \n",
            "        >>> LA.norm(a, 1)\n",
            "        20.0\n",
            "        >>> LA.norm(b, 1)\n",
            "        7.0\n",
            "        >>> LA.norm(a, -1)\n",
            "        -4.6566128774142013e-010\n",
            "        >>> LA.norm(b, -1)\n",
            "        6.0\n",
            "        >>> LA.norm(a, 2)\n",
            "        7.745966692414834\n",
            "        >>> LA.norm(b, 2)\n",
            "        7.3484692283495345\n",
            "        \n",
            "        >>> LA.norm(a, -2)\n",
            "        nan\n",
            "        >>> LA.norm(b, -2)\n",
            "        1.8570331885190563e-016\n",
            "        >>> LA.norm(a, 3)\n",
            "        5.8480354764257312\n",
            "        >>> LA.norm(a, -3)\n",
            "        nan\n",
            "        \n",
            "        Using the `axis` argument to compute vector norms:\n",
            "        \n",
            "        >>> c = np.array([[ 1, 2, 3],\n",
            "        ...               [-1, 1, 4]])\n",
            "        >>> LA.norm(c, axis=0)\n",
            "        array([ 1.41421356,  2.23606798,  5.        ])\n",
            "        >>> LA.norm(c, axis=1)\n",
            "        array([ 3.74165739,  4.24264069])\n",
            "        >>> LA.norm(c, ord=1, axis=1)\n",
            "        array([ 6.,  6.])\n",
            "        \n",
            "        Using the `axis` argument to compute matrix norms:\n",
            "        \n",
            "        >>> m = np.arange(8).reshape(2,2,2)\n",
            "        >>> LA.norm(m, axis=(1,2))\n",
            "        array([  3.74165739,  11.22497216])\n",
            "        >>> LA.norm(m[0, :, :]), LA.norm(m[1, :, :])\n",
            "        (3.7416573867739413, 11.224972160321824)\n",
            "    \n",
            "    pinv(a, rcond=1e-15)\n",
            "        Compute the (Moore-Penrose) pseudo-inverse of a matrix.\n",
            "        \n",
            "        Calculate the generalized inverse of a matrix using its\n",
            "        singular-value decomposition (SVD) and including all\n",
            "        *large* singular values.\n",
            "        \n",
            "        .. versionchanged:: 1.14\n",
            "           Can now operate on stacks of matrices\n",
            "        \n",
            "        Parameters\n",
            "        ----------\n",
            "        a : (..., M, N) array_like\n",
            "            Matrix or stack of matrices to be pseudo-inverted.\n",
            "        rcond : (...) array_like of float\n",
            "            Cutoff for small singular values.\n",
            "            Singular values smaller (in modulus) than\n",
            "            `rcond` * largest_singular_value (again, in modulus)\n",
            "            are set to zero. Broadcasts against the stack of matrices\n",
            "        \n",
            "        Returns\n",
            "        -------\n",
            "        B : (..., N, M) ndarray\n",
            "            The pseudo-inverse of `a`. If `a` is a `matrix` instance, then so\n",
            "            is `B`.\n",
            "        \n",
            "        Raises\n",
            "        ------\n",
            "        LinAlgError\n",
            "            If the SVD computation does not converge.\n",
            "        \n",
            "        Notes\n",
            "        -----\n",
            "        The pseudo-inverse of a matrix A, denoted :math:`A^+`, is\n",
            "        defined as: \"the matrix that 'solves' [the least-squares problem]\n",
            "        :math:`Ax = b`,\" i.e., if :math:`\\bar{x}` is said solution, then\n",
            "        :math:`A^+` is that matrix such that :math:`\\bar{x} = A^+b`.\n",
            "        \n",
            "        It can be shown that if :math:`Q_1 \\Sigma Q_2^T = A` is the singular\n",
            "        value decomposition of A, then\n",
            "        :math:`A^+ = Q_2 \\Sigma^+ Q_1^T`, where :math:`Q_{1,2}` are\n",
            "        orthogonal matrices, :math:`\\Sigma` is a diagonal matrix consisting\n",
            "        of A's so-called singular values, (followed, typically, by\n",
            "        zeros), and then :math:`\\Sigma^+` is simply the diagonal matrix\n",
            "        consisting of the reciprocals of A's singular values\n",
            "        (again, followed by zeros). [1]_\n",
            "        \n",
            "        References\n",
            "        ----------\n",
            "        .. [1] G. Strang, *Linear Algebra and Its Applications*, 2nd Ed., Orlando,\n",
            "               FL, Academic Press, Inc., 1980, pp. 139-142.\n",
            "        \n",
            "        Examples\n",
            "        --------\n",
            "        The following example checks that ``a * a+ * a == a`` and\n",
            "        ``a+ * a * a+ == a+``:\n",
            "        \n",
            "        >>> a = np.random.randn(9, 6)\n",
            "        >>> B = np.linalg.pinv(a)\n",
            "        >>> np.allclose(a, np.dot(a, np.dot(B, a)))\n",
            "        True\n",
            "        >>> np.allclose(B, np.dot(B, np.dot(a, B)))\n",
            "        True\n",
            "    \n",
            "    qr(a, mode='reduced')\n",
            "        Compute the qr factorization of a matrix.\n",
            "        \n",
            "        Factor the matrix `a` as *qr*, where `q` is orthonormal and `r` is\n",
            "        upper-triangular.\n",
            "        \n",
            "        Parameters\n",
            "        ----------\n",
            "        a : array_like, shape (M, N)\n",
            "            Matrix to be factored.\n",
            "        mode : {'reduced', 'complete', 'r', 'raw', 'full', 'economic'}, optional\n",
            "            If K = min(M, N), then\n",
            "        \n",
            "            * 'reduced'  : returns q, r with dimensions (M, K), (K, N) (default)\n",
            "            * 'complete' : returns q, r with dimensions (M, M), (M, N)\n",
            "            * 'r'        : returns r only with dimensions (K, N)\n",
            "            * 'raw'      : returns h, tau with dimensions (N, M), (K,)\n",
            "            * 'full'     : alias of 'reduced', deprecated\n",
            "            * 'economic' : returns h from 'raw', deprecated.\n",
            "        \n",
            "            The options 'reduced', 'complete, and 'raw' are new in numpy 1.8,\n",
            "            see the notes for more information. The default is 'reduced', and to\n",
            "            maintain backward compatibility with earlier versions of numpy both\n",
            "            it and the old default 'full' can be omitted. Note that array h\n",
            "            returned in 'raw' mode is transposed for calling Fortran. The\n",
            "            'economic' mode is deprecated.  The modes 'full' and 'economic' may\n",
            "            be passed using only the first letter for backwards compatibility,\n",
            "            but all others must be spelled out. See the Notes for more\n",
            "            explanation.\n",
            "        \n",
            "        \n",
            "        Returns\n",
            "        -------\n",
            "        q : ndarray of float or complex, optional\n",
            "            A matrix with orthonormal columns. When mode = 'complete' the\n",
            "            result is an orthogonal/unitary matrix depending on whether or not\n",
            "            a is real/complex. The determinant may be either +/- 1 in that\n",
            "            case.\n",
            "        r : ndarray of float or complex, optional\n",
            "            The upper-triangular matrix.\n",
            "        (h, tau) : ndarrays of np.double or np.cdouble, optional\n",
            "            The array h contains the Householder reflectors that generate q\n",
            "            along with r. The tau array contains scaling factors for the\n",
            "            reflectors. In the deprecated  'economic' mode only h is returned.\n",
            "        \n",
            "        Raises\n",
            "        ------\n",
            "        LinAlgError\n",
            "            If factoring fails.\n",
            "        \n",
            "        Notes\n",
            "        -----\n",
            "        This is an interface to the LAPACK routines dgeqrf, zgeqrf,\n",
            "        dorgqr, and zungqr.\n",
            "        \n",
            "        For more information on the qr factorization, see for example:\n",
            "        https://en.wikipedia.org/wiki/QR_factorization\n",
            "        \n",
            "        Subclasses of `ndarray` are preserved except for the 'raw' mode. So if\n",
            "        `a` is of type `matrix`, all the return values will be matrices too.\n",
            "        \n",
            "        New 'reduced', 'complete', and 'raw' options for mode were added in\n",
            "        NumPy 1.8.0 and the old option 'full' was made an alias of 'reduced'.  In\n",
            "        addition the options 'full' and 'economic' were deprecated.  Because\n",
            "        'full' was the previous default and 'reduced' is the new default,\n",
            "        backward compatibility can be maintained by letting `mode` default.\n",
            "        The 'raw' option was added so that LAPACK routines that can multiply\n",
            "        arrays by q using the Householder reflectors can be used. Note that in\n",
            "        this case the returned arrays are of type np.double or np.cdouble and\n",
            "        the h array is transposed to be FORTRAN compatible.  No routines using\n",
            "        the 'raw' return are currently exposed by numpy, but some are available\n",
            "        in lapack_lite and just await the necessary work.\n",
            "        \n",
            "        Examples\n",
            "        --------\n",
            "        >>> a = np.random.randn(9, 6)\n",
            "        >>> q, r = np.linalg.qr(a)\n",
            "        >>> np.allclose(a, np.dot(q, r))  # a does equal qr\n",
            "        True\n",
            "        >>> r2 = np.linalg.qr(a, mode='r')\n",
            "        >>> r3 = np.linalg.qr(a, mode='economic')\n",
            "        >>> np.allclose(r, r2)  # mode='r' returns the same r as mode='full'\n",
            "        True\n",
            "        >>> # But only triu parts are guaranteed equal when mode='economic'\n",
            "        >>> np.allclose(r, np.triu(r3[:6,:6], k=0))\n",
            "        True\n",
            "        \n",
            "        Example illustrating a common use of `qr`: solving of least squares\n",
            "        problems\n",
            "        \n",
            "        What are the least-squares-best `m` and `y0` in ``y = y0 + mx`` for\n",
            "        the following data: {(0,1), (1,0), (1,2), (2,1)}. (Graph the points\n",
            "        and you'll see that it should be y0 = 0, m = 1.)  The answer is provided\n",
            "        by solving the over-determined matrix equation ``Ax = b``, where::\n",
            "        \n",
            "          A = array([[0, 1], [1, 1], [1, 1], [2, 1]])\n",
            "          x = array([[y0], [m]])\n",
            "          b = array([[1], [0], [2], [1]])\n",
            "        \n",
            "        If A = qr such that q is orthonormal (which is always possible via\n",
            "        Gram-Schmidt), then ``x = inv(r) * (q.T) * b``.  (In numpy practice,\n",
            "        however, we simply use `lstsq`.)\n",
            "        \n",
            "        >>> A = np.array([[0, 1], [1, 1], [1, 1], [2, 1]])\n",
            "        >>> A\n",
            "        array([[0, 1],\n",
            "               [1, 1],\n",
            "               [1, 1],\n",
            "               [2, 1]])\n",
            "        >>> b = np.array([1, 0, 2, 1])\n",
            "        >>> q, r = LA.qr(A)\n",
            "        >>> p = np.dot(q.T, b)\n",
            "        >>> np.dot(LA.inv(r), p)\n",
            "        array([  1.1e-16,   1.0e+00])\n",
            "    \n",
            "    slogdet(a)\n",
            "        Compute the sign and (natural) logarithm of the determinant of an array.\n",
            "        \n",
            "        If an array has a very small or very large determinant, then a call to\n",
            "        `det` may overflow or underflow. This routine is more robust against such\n",
            "        issues, because it computes the logarithm of the determinant rather than\n",
            "        the determinant itself.\n",
            "        \n",
            "        Parameters\n",
            "        ----------\n",
            "        a : (..., M, M) array_like\n",
            "            Input array, has to be a square 2-D array.\n",
            "        \n",
            "        Returns\n",
            "        -------\n",
            "        sign : (...) array_like\n",
            "            A number representing the sign of the determinant. For a real matrix,\n",
            "            this is 1, 0, or -1. For a complex matrix, this is a complex number\n",
            "            with absolute value 1 (i.e., it is on the unit circle), or else 0.\n",
            "        logdet : (...) array_like\n",
            "            The natural log of the absolute value of the determinant.\n",
            "        \n",
            "        If the determinant is zero, then `sign` will be 0 and `logdet` will be\n",
            "        -Inf. In all cases, the determinant is equal to ``sign * np.exp(logdet)``.\n",
            "        \n",
            "        See Also\n",
            "        --------\n",
            "        det\n",
            "        \n",
            "        Notes\n",
            "        -----\n",
            "        \n",
            "        .. versionadded:: 1.8.0\n",
            "        \n",
            "        Broadcasting rules apply, see the `numpy.linalg` documentation for\n",
            "        details.\n",
            "        \n",
            "        .. versionadded:: 1.6.0\n",
            "        \n",
            "        The determinant is computed via LU factorization using the LAPACK\n",
            "        routine z/dgetrf.\n",
            "        \n",
            "        \n",
            "        Examples\n",
            "        --------\n",
            "        The determinant of a 2-D array ``[[a, b], [c, d]]`` is ``ad - bc``:\n",
            "        \n",
            "        >>> a = np.array([[1, 2], [3, 4]])\n",
            "        >>> (sign, logdet) = np.linalg.slogdet(a)\n",
            "        >>> (sign, logdet)\n",
            "        (-1, 0.69314718055994529)\n",
            "        >>> sign * np.exp(logdet)\n",
            "        -2.0\n",
            "        \n",
            "        Computing log-determinants for a stack of matrices:\n",
            "        \n",
            "        >>> a = np.array([ [[1, 2], [3, 4]], [[1, 2], [2, 1]], [[1, 3], [3, 1]] ])\n",
            "        >>> a.shape\n",
            "        (3, 2, 2)\n",
            "        >>> sign, logdet = np.linalg.slogdet(a)\n",
            "        >>> (sign, logdet)\n",
            "        (array([-1., -1., -1.]), array([ 0.69314718,  1.09861229,  2.07944154]))\n",
            "        >>> sign * np.exp(logdet)\n",
            "        array([-2., -3., -8.])\n",
            "        \n",
            "        This routine succeeds where ordinary `det` does not:\n",
            "        \n",
            "        >>> np.linalg.det(np.eye(500) * 0.1)\n",
            "        0.0\n",
            "        >>> np.linalg.slogdet(np.eye(500) * 0.1)\n",
            "        (1, -1151.2925464970228)\n",
            "    \n",
            "    solve(a, b)\n",
            "        Solve a linear matrix equation, or system of linear scalar equations.\n",
            "        \n",
            "        Computes the \"exact\" solution, `x`, of the well-determined, i.e., full\n",
            "        rank, linear matrix equation `ax = b`.\n",
            "        \n",
            "        Parameters\n",
            "        ----------\n",
            "        a : (..., M, M) array_like\n",
            "            Coefficient matrix.\n",
            "        b : {(..., M,), (..., M, K)}, array_like\n",
            "            Ordinate or \"dependent variable\" values.\n",
            "        \n",
            "        Returns\n",
            "        -------\n",
            "        x : {(..., M,), (..., M, K)} ndarray\n",
            "            Solution to the system a x = b.  Returned shape is identical to `b`.\n",
            "        \n",
            "        Raises\n",
            "        ------\n",
            "        LinAlgError\n",
            "            If `a` is singular or not square.\n",
            "        \n",
            "        Notes\n",
            "        -----\n",
            "        \n",
            "        .. versionadded:: 1.8.0\n",
            "        \n",
            "        Broadcasting rules apply, see the `numpy.linalg` documentation for\n",
            "        details.\n",
            "        \n",
            "        The solutions are computed using LAPACK routine _gesv\n",
            "        \n",
            "        `a` must be square and of full-rank, i.e., all rows (or, equivalently,\n",
            "        columns) must be linearly independent; if either is not true, use\n",
            "        `lstsq` for the least-squares best \"solution\" of the\n",
            "        system/equation.\n",
            "        \n",
            "        References\n",
            "        ----------\n",
            "        .. [1] G. Strang, *Linear Algebra and Its Applications*, 2nd Ed., Orlando,\n",
            "               FL, Academic Press, Inc., 1980, pg. 22.\n",
            "        \n",
            "        Examples\n",
            "        --------\n",
            "        Solve the system of equations ``3 * x0 + x1 = 9`` and ``x0 + 2 * x1 = 8``:\n",
            "        \n",
            "        >>> a = np.array([[3,1], [1,2]])\n",
            "        >>> b = np.array([9,8])\n",
            "        >>> x = np.linalg.solve(a, b)\n",
            "        >>> x\n",
            "        array([ 2.,  3.])\n",
            "        \n",
            "        Check that the solution is correct:\n",
            "        \n",
            "        >>> np.allclose(np.dot(a, x), b)\n",
            "        True\n",
            "    \n",
            "    svd(a, full_matrices=True, compute_uv=True)\n",
            "        Singular Value Decomposition.\n",
            "        \n",
            "        When `a` is a 2D array, it is factorized as ``u @ np.diag(s) @ vh\n",
            "        = (u * s) @ vh``, where `u` and `vh` are 2D unitary arrays and `s` is a 1D\n",
            "        array of `a`'s singular values. When `a` is higher-dimensional, SVD is\n",
            "        applied in stacked mode as explained below.\n",
            "        \n",
            "        Parameters\n",
            "        ----------\n",
            "        a : (..., M, N) array_like\n",
            "            A real or complex array with ``a.ndim >= 2``.\n",
            "        full_matrices : bool, optional\n",
            "            If True (default), `u` and `vh` have the shapes ``(..., M, M)`` and\n",
            "            ``(..., N, N)``, respectively.  Otherwise, the shapes are\n",
            "            ``(..., M, K)`` and ``(..., K, N)``, respectively, where\n",
            "            ``K = min(M, N)``.\n",
            "        compute_uv : bool, optional\n",
            "            Whether or not to compute `u` and `vh` in addition to `s`.  True\n",
            "            by default.\n",
            "        \n",
            "        Returns\n",
            "        -------\n",
            "        u : { (..., M, M), (..., M, K) } array\n",
            "            Unitary array(s). The first ``a.ndim - 2`` dimensions have the same\n",
            "            size as those of the input `a`. The size of the last two dimensions\n",
            "            depends on the value of `full_matrices`. Only returned when\n",
            "            `compute_uv` is True.\n",
            "        s : (..., K) array\n",
            "            Vector(s) with the singular values, within each vector sorted in\n",
            "            descending order. The first ``a.ndim - 2`` dimensions have the same\n",
            "            size as those of the input `a`.\n",
            "        vh : { (..., N, N), (..., K, N) } array\n",
            "            Unitary array(s). The first ``a.ndim - 2`` dimensions have the same\n",
            "            size as those of the input `a`. The size of the last two dimensions\n",
            "            depends on the value of `full_matrices`. Only returned when\n",
            "            `compute_uv` is True.\n",
            "        \n",
            "        Raises\n",
            "        ------\n",
            "        LinAlgError\n",
            "            If SVD computation does not converge.\n",
            "        \n",
            "        Notes\n",
            "        -----\n",
            "        \n",
            "        .. versionchanged:: 1.8.0\n",
            "           Broadcasting rules apply, see the `numpy.linalg` documentation for\n",
            "           details.\n",
            "        \n",
            "        The decomposition is performed using LAPACK routine ``_gesdd``.\n",
            "        \n",
            "        SVD is usually described for the factorization of a 2D matrix :math:`A`.\n",
            "        The higher-dimensional case will be discussed below. In the 2D case, SVD is\n",
            "        written as :math:`A = U S V^H`, where :math:`A = a`, :math:`U= u`,\n",
            "        :math:`S= \\mathtt{np.diag}(s)` and :math:`V^H = vh`. The 1D array `s`\n",
            "        contains the singular values of `a` and `u` and `vh` are unitary. The rows\n",
            "        of `vh` are the eigenvectors of :math:`A^H A` and the columns of `u` are\n",
            "        the eigenvectors of :math:`A A^H`. In both cases the corresponding\n",
            "        (possibly non-zero) eigenvalues are given by ``s**2``.\n",
            "        \n",
            "        If `a` has more than two dimensions, then broadcasting rules apply, as\n",
            "        explained in :ref:`routines.linalg-broadcasting`. This means that SVD is\n",
            "        working in \"stacked\" mode: it iterates over all indices of the first\n",
            "        ``a.ndim - 2`` dimensions and for each combination SVD is applied to the\n",
            "        last two indices. The matrix `a` can be reconstructed from the\n",
            "        decomposition with either ``(u * s[..., None, :]) @ vh`` or\n",
            "        ``u @ (s[..., None] * vh)``. (The ``@`` operator can be replaced by the\n",
            "        function ``np.matmul`` for python versions below 3.5.)\n",
            "        \n",
            "        If `a` is a ``matrix`` object (as opposed to an ``ndarray``), then so are\n",
            "        all the return values.\n",
            "        \n",
            "        Examples\n",
            "        --------\n",
            "        >>> a = np.random.randn(9, 6) + 1j*np.random.randn(9, 6)\n",
            "        >>> b = np.random.randn(2, 7, 8, 3) + 1j*np.random.randn(2, 7, 8, 3)\n",
            "        \n",
            "        Reconstruction based on full SVD, 2D case:\n",
            "        \n",
            "        >>> u, s, vh = np.linalg.svd(a, full_matrices=True)\n",
            "        >>> u.shape, s.shape, vh.shape\n",
            "        ((9, 9), (6,), (6, 6))\n",
            "        >>> np.allclose(a, np.dot(u[:, :6] * s, vh))\n",
            "        True\n",
            "        >>> smat = np.zeros((9, 6), dtype=complex)\n",
            "        >>> smat[:6, :6] = np.diag(s)\n",
            "        >>> np.allclose(a, np.dot(u, np.dot(smat, vh)))\n",
            "        True\n",
            "        \n",
            "        Reconstruction based on reduced SVD, 2D case:\n",
            "        \n",
            "        >>> u, s, vh = np.linalg.svd(a, full_matrices=False)\n",
            "        >>> u.shape, s.shape, vh.shape\n",
            "        ((9, 6), (6,), (6, 6))\n",
            "        >>> np.allclose(a, np.dot(u * s, vh))\n",
            "        True\n",
            "        >>> smat = np.diag(s)\n",
            "        >>> np.allclose(a, np.dot(u, np.dot(smat, vh)))\n",
            "        True\n",
            "        \n",
            "        Reconstruction based on full SVD, 4D case:\n",
            "        \n",
            "        >>> u, s, vh = np.linalg.svd(b, full_matrices=True)\n",
            "        >>> u.shape, s.shape, vh.shape\n",
            "        ((2, 7, 8, 8), (2, 7, 3), (2, 7, 3, 3))\n",
            "        >>> np.allclose(b, np.matmul(u[..., :3] * s[..., None, :], vh))\n",
            "        True\n",
            "        >>> np.allclose(b, np.matmul(u[..., :3], s[..., None] * vh))\n",
            "        True\n",
            "        \n",
            "        Reconstruction based on reduced SVD, 4D case:\n",
            "        \n",
            "        >>> u, s, vh = np.linalg.svd(b, full_matrices=False)\n",
            "        >>> u.shape, s.shape, vh.shape\n",
            "        ((2, 7, 8, 3), (2, 7, 3), (2, 7, 3, 3))\n",
            "        >>> np.allclose(b, np.matmul(u * s[..., None, :], vh))\n",
            "        True\n",
            "        >>> np.allclose(b, np.matmul(u, s[..., None] * vh))\n",
            "        True\n",
            "    \n",
            "    tensorinv(a, ind=2)\n",
            "        Compute the 'inverse' of an N-dimensional array.\n",
            "        \n",
            "        The result is an inverse for `a` relative to the tensordot operation\n",
            "        ``tensordot(a, b, ind)``, i. e., up to floating-point accuracy,\n",
            "        ``tensordot(tensorinv(a), a, ind)`` is the \"identity\" tensor for the\n",
            "        tensordot operation.\n",
            "        \n",
            "        Parameters\n",
            "        ----------\n",
            "        a : array_like\n",
            "            Tensor to 'invert'. Its shape must be 'square', i. e.,\n",
            "            ``prod(a.shape[:ind]) == prod(a.shape[ind:])``.\n",
            "        ind : int, optional\n",
            "            Number of first indices that are involved in the inverse sum.\n",
            "            Must be a positive integer, default is 2.\n",
            "        \n",
            "        Returns\n",
            "        -------\n",
            "        b : ndarray\n",
            "            `a`'s tensordot inverse, shape ``a.shape[ind:] + a.shape[:ind]``.\n",
            "        \n",
            "        Raises\n",
            "        ------\n",
            "        LinAlgError\n",
            "            If `a` is singular or not 'square' (in the above sense).\n",
            "        \n",
            "        See Also\n",
            "        --------\n",
            "        numpy.tensordot, tensorsolve\n",
            "        \n",
            "        Examples\n",
            "        --------\n",
            "        >>> a = np.eye(4*6)\n",
            "        >>> a.shape = (4, 6, 8, 3)\n",
            "        >>> ainv = np.linalg.tensorinv(a, ind=2)\n",
            "        >>> ainv.shape\n",
            "        (8, 3, 4, 6)\n",
            "        >>> b = np.random.randn(4, 6)\n",
            "        >>> np.allclose(np.tensordot(ainv, b), np.linalg.tensorsolve(a, b))\n",
            "        True\n",
            "        \n",
            "        >>> a = np.eye(4*6)\n",
            "        >>> a.shape = (24, 8, 3)\n",
            "        >>> ainv = np.linalg.tensorinv(a, ind=1)\n",
            "        >>> ainv.shape\n",
            "        (8, 3, 24)\n",
            "        >>> b = np.random.randn(24)\n",
            "        >>> np.allclose(np.tensordot(ainv, b, 1), np.linalg.tensorsolve(a, b))\n",
            "        True\n",
            "    \n",
            "    tensorsolve(a, b, axes=None)\n",
            "        Solve the tensor equation ``a x = b`` for x.\n",
            "        \n",
            "        It is assumed that all indices of `x` are summed over in the product,\n",
            "        together with the rightmost indices of `a`, as is done in, for example,\n",
            "        ``tensordot(a, x, axes=b.ndim)``.\n",
            "        \n",
            "        Parameters\n",
            "        ----------\n",
            "        a : array_like\n",
            "            Coefficient tensor, of shape ``b.shape + Q``. `Q`, a tuple, equals\n",
            "            the shape of that sub-tensor of `a` consisting of the appropriate\n",
            "            number of its rightmost indices, and must be such that\n",
            "            ``prod(Q) == prod(b.shape)`` (in which sense `a` is said to be\n",
            "            'square').\n",
            "        b : array_like\n",
            "            Right-hand tensor, which can be of any shape.\n",
            "        axes : tuple of ints, optional\n",
            "            Axes in `a` to reorder to the right, before inversion.\n",
            "            If None (default), no reordering is done.\n",
            "        \n",
            "        Returns\n",
            "        -------\n",
            "        x : ndarray, shape Q\n",
            "        \n",
            "        Raises\n",
            "        ------\n",
            "        LinAlgError\n",
            "            If `a` is singular or not 'square' (in the above sense).\n",
            "        \n",
            "        See Also\n",
            "        --------\n",
            "        numpy.tensordot, tensorinv, numpy.einsum\n",
            "        \n",
            "        Examples\n",
            "        --------\n",
            "        >>> a = np.eye(2*3*4)\n",
            "        >>> a.shape = (2*3, 4, 2, 3, 4)\n",
            "        >>> b = np.random.randn(2*3, 4)\n",
            "        >>> x = np.linalg.tensorsolve(a, b)\n",
            "        >>> x.shape\n",
            "        (2, 3, 4)\n",
            "        >>> np.allclose(np.tensordot(a, x, axes=3), b)\n",
            "        True\n",
            "\n",
            "DATA\n",
            "    absolute_import = _Feature((2, 5, 0, 'alpha', 1), (3, 0, 0, 'alpha', 0...\n",
            "    division = _Feature((2, 2, 0, 'alpha', 2), (3, 0, 0, 'alpha', 0), 8192...\n",
            "    print_function = _Feature((2, 6, 0, 'alpha', 2), (3, 0, 0, 'alpha', 0)...\n",
            "    test = <numpy._pytesttester.PytestTester object>\n",
            "\n",
            "FILE\n",
            "    /home/dani/anaconda3/envs/master2019/lib/python3.6/site-packages/numpy/linalg/__init__.py\n",
            "\n",
            "\n"
          ]
        }
      ],
      "source": [
        "from numpy import linalg as la\n",
        "\n",
        "help(la)"
      ]
    },
    {
      "cell_type": "code",
      "execution_count": null,
      "metadata": {
        "id": "AziJNHVsYYwa",
        "outputId": "1e7b7a1d-836f-49b6-94a6-5dfc1cf2f332"
      },
      "outputs": [
        {
          "data": {
            "text/plain": [
              "-3.0000000000000004"
            ]
          },
          "execution_count": 98,
          "metadata": {},
          "output_type": "execute_result"
        }
      ],
      "source": [
        "la.det(a3[:2,:2])"
      ]
    },
    {
      "cell_type": "code",
      "execution_count": null,
      "metadata": {
        "id": "AuQwrf0PYYwb",
        "outputId": "b6ddc9e5-f74b-4c3e-c345-88ad7daea8e1"
      },
      "outputs": [
        {
          "data": {
            "text/plain": [
              "-3.0000000000000004"
            ]
          },
          "execution_count": 99,
          "metadata": {},
          "output_type": "execute_result"
        }
      ],
      "source": [
        "np.linalg.det(a3[:2,:2])"
      ]
    },
    {
      "cell_type": "markdown",
      "metadata": {
        "id": "xtGMCm8aYYwb"
      },
      "source": [
        "### Trace, determinant and inverse"
      ]
    },
    {
      "cell_type": "code",
      "execution_count": null,
      "metadata": {
        "id": "n8xx4SEJYYwb",
        "outputId": "c066c32f-b582-4e20-e054-d8d7c2e686ea"
      },
      "outputs": [
        {
          "data": {
            "text/plain": [
              "3.0"
            ]
          },
          "execution_count": 100,
          "metadata": {},
          "output_type": "execute_result"
        }
      ],
      "source": [
        "np.trace(np.eye(3))"
      ]
    },
    {
      "cell_type": "code",
      "execution_count": null,
      "metadata": {
        "id": "2KdJz4AvYYwb",
        "outputId": "67689c45-c7dd-439a-bb98-9149167990ec"
      },
      "outputs": [
        {
          "name": "stdout",
          "output_type": "stream",
          "text": [
            "[[ 1  2  3]\n",
            " [ 3  3  3]\n",
            " [ 7  8  9]\n",
            " [10 11 12]]\n",
            "13\n",
            "5\n",
            "23\n"
          ]
        }
      ],
      "source": [
        "print(a2)\n",
        "print(np.trace(a2))\n",
        "print(np.trace(a2,offset=1))\n",
        "print(np.trace(a2,offset=-1))"
      ]
    },
    {
      "cell_type": "code",
      "execution_count": null,
      "metadata": {
        "id": "yy9GsxyrYYwb",
        "outputId": "87a75b1d-7b43-46b7-90cc-131aa19bc10f"
      },
      "outputs": [
        {
          "name": "stdout",
          "output_type": "stream",
          "text": [
            "[[1 2]\n",
            " [3 4]]\n",
            "(2, 2)\n"
          ]
        },
        {
          "data": {
            "text/plain": [
              "-2.0000000000000004"
            ]
          },
          "execution_count": 102,
          "metadata": {},
          "output_type": "execute_result"
        }
      ],
      "source": [
        "a = np.array([[1, 2], [3, 4]])\n",
        "print(a)\n",
        "print(a.shape)\n",
        "la.det(a)"
      ]
    },
    {
      "cell_type": "code",
      "execution_count": null,
      "metadata": {
        "id": "THXbpwt1YYwb",
        "outputId": "475691e2-b612-4af4-d273-f8e857bf2709"
      },
      "outputs": [
        {
          "data": {
            "text/plain": [
              "array([[[1, 2],\n",
              "        [3, 4]],\n",
              "\n",
              "       [[1, 2],\n",
              "        [2, 1]],\n",
              "\n",
              "       [[1, 3],\n",
              "        [3, 1]]])"
            ]
          },
          "execution_count": 103,
          "metadata": {},
          "output_type": "execute_result"
        }
      ],
      "source": [
        "a = np.array([ [[1, 2], [3, 4]], [[1, 2], [2, 1]], [[1, 3], [3, 1]] ])\n",
        "a"
      ]
    },
    {
      "cell_type": "code",
      "execution_count": null,
      "metadata": {
        "id": "zixMA1cOYYwc",
        "outputId": "9e7004f5-12c6-40ee-e848-09480aec8825"
      },
      "outputs": [
        {
          "name": "stdout",
          "output_type": "stream",
          "text": [
            "(3, 2, 2)\n",
            "[-2. -3. -8.]\n"
          ]
        }
      ],
      "source": [
        "print(a.shape)\n",
        "print(la.det(a))"
      ]
    },
    {
      "cell_type": "code",
      "execution_count": null,
      "metadata": {
        "id": "h_bPnu_CYYwc",
        "outputId": "c3c9dfaa-fdc4-477f-f5de-43e8486f27b4"
      },
      "outputs": [
        {
          "data": {
            "text/plain": [
              "array([[-2. ,  1. ],\n",
              "       [ 1.5, -0.5]])"
            ]
          },
          "execution_count": 105,
          "metadata": {},
          "output_type": "execute_result"
        }
      ],
      "source": [
        "la.inv(np.array([[1,2],[3,4]]))"
      ]
    },
    {
      "cell_type": "code",
      "execution_count": null,
      "metadata": {
        "id": "UstvDhbuYYwc",
        "outputId": "3b6fc2d0-da80-43c6-e1ac-b1b900b0eed3"
      },
      "outputs": [
        {
          "data": {
            "text/plain": [
              "array([[1.0000000e+00, 4.4408921e-16],\n",
              "       [0.0000000e+00, 1.0000000e+00]])"
            ]
          },
          "execution_count": 106,
          "metadata": {},
          "output_type": "execute_result"
        }
      ],
      "source": [
        "la.inv(np.array([[1,2],[3,4]])).dot(np.array([[1,2],[3,4]]))"
      ]
    },
    {
      "cell_type": "markdown",
      "metadata": {
        "collapsed": true,
        "id": "2U4Sh5LUYYwc"
      },
      "source": [
        "#### Exercise\n",
        "\n",
        "In a chicken and rabbit farm, there are 35 heads and 94 legs. How many chickens and how many rabbits do we have?\n",
        "\n"
      ]
    },
    {
      "cell_type": "markdown",
      "metadata": {
        "id": "0vf4Iu8zYYwd"
      },
      "source": [
        "Remember:\n",
        "\n",
        "$$A \\cdot X = b$$\n",
        "\n",
        "$$A^{-1} \\cdot A \\cdot X = I \\cdot X = A^{-1} \\cdot b$$\n",
        "\n",
        "$$X = A^{-1} \\cdot b$$"
      ]
    },
    {
      "cell_type": "markdown",
      "metadata": {
        "id": "8UdGzjh0YYwe"
      },
      "source": [
        "### Norm of a vector and a matrix\n",
        "\n",
        "We can also calculate norms- the order 2 norm is the Euclidean distance, ie the length of a vector"
      ]
    },
    {
      "cell_type": "code",
      "execution_count": null,
      "metadata": {
        "id": "bIYHBsynYYwf",
        "outputId": "5b856814-54ea-41d8-9181-b89f8bfa4382"
      },
      "outputs": [
        {
          "data": {
            "text/plain": [
              "2.23606797749979"
            ]
          },
          "execution_count": 112,
          "metadata": {},
          "output_type": "execute_result"
        }
      ],
      "source": [
        "la.norm(np.arange(3))"
      ]
    },
    {
      "cell_type": "code",
      "execution_count": null,
      "metadata": {
        "id": "M9F5g2VwYYwf",
        "outputId": "93eb5da7-2bf7-4e77-ea38-f3053b3bc03d"
      },
      "outputs": [
        {
          "data": {
            "text/plain": [
              "2.23606797749979"
            ]
          },
          "execution_count": 113,
          "metadata": {},
          "output_type": "execute_result"
        }
      ],
      "source": [
        "math.sqrt(0**2 + 1 ** 2 + 2 ** 2)"
      ]
    },
    {
      "cell_type": "code",
      "execution_count": null,
      "metadata": {
        "id": "o8lfESKpYYwf",
        "outputId": "23569bb7-a443-4b26-f63d-e60151571217"
      },
      "outputs": [
        {
          "name": "stdout",
          "output_type": "stream",
          "text": [
            "Help on function norm in module numpy.linalg:\n",
            "\n",
            "norm(x, ord=None, axis=None, keepdims=False)\n",
            "    Matrix or vector norm.\n",
            "    \n",
            "    This function is able to return one of eight different matrix norms,\n",
            "    or one of an infinite number of vector norms (described below), depending\n",
            "    on the value of the ``ord`` parameter.\n",
            "    \n",
            "    Parameters\n",
            "    ----------\n",
            "    x : array_like\n",
            "        Input array.  If `axis` is None, `x` must be 1-D or 2-D.\n",
            "    ord : {non-zero int, inf, -inf, 'fro', 'nuc'}, optional\n",
            "        Order of the norm (see table under ``Notes``). inf means numpy's\n",
            "        `inf` object.\n",
            "    axis : {int, 2-tuple of ints, None}, optional\n",
            "        If `axis` is an integer, it specifies the axis of `x` along which to\n",
            "        compute the vector norms.  If `axis` is a 2-tuple, it specifies the\n",
            "        axes that hold 2-D matrices, and the matrix norms of these matrices\n",
            "        are computed.  If `axis` is None then either a vector norm (when `x`\n",
            "        is 1-D) or a matrix norm (when `x` is 2-D) is returned.\n",
            "    \n",
            "        .. versionadded:: 1.8.0\n",
            "    \n",
            "    keepdims : bool, optional\n",
            "        If this is set to True, the axes which are normed over are left in the\n",
            "        result as dimensions with size one.  With this option the result will\n",
            "        broadcast correctly against the original `x`.\n",
            "    \n",
            "        .. versionadded:: 1.10.0\n",
            "    \n",
            "    Returns\n",
            "    -------\n",
            "    n : float or ndarray\n",
            "        Norm of the matrix or vector(s).\n",
            "    \n",
            "    Notes\n",
            "    -----\n",
            "    For values of ``ord <= 0``, the result is, strictly speaking, not a\n",
            "    mathematical 'norm', but it may still be useful for various numerical\n",
            "    purposes.\n",
            "    \n",
            "    The following norms can be calculated:\n",
            "    \n",
            "    =====  ============================  ==========================\n",
            "    ord    norm for matrices             norm for vectors\n",
            "    =====  ============================  ==========================\n",
            "    None   Frobenius norm                2-norm\n",
            "    'fro'  Frobenius norm                --\n",
            "    'nuc'  nuclear norm                  --\n",
            "    inf    max(sum(abs(x), axis=1))      max(abs(x))\n",
            "    -inf   min(sum(abs(x), axis=1))      min(abs(x))\n",
            "    0      --                            sum(x != 0)\n",
            "    1      max(sum(abs(x), axis=0))      as below\n",
            "    -1     min(sum(abs(x), axis=0))      as below\n",
            "    2      2-norm (largest sing. value)  as below\n",
            "    -2     smallest singular value       as below\n",
            "    other  --                            sum(abs(x)**ord)**(1./ord)\n",
            "    =====  ============================  ==========================\n",
            "    \n",
            "    The Frobenius norm is given by [1]_:\n",
            "    \n",
            "        :math:`||A||_F = [\\sum_{i,j} abs(a_{i,j})^2]^{1/2}`\n",
            "    \n",
            "    The nuclear norm is the sum of the singular values.\n",
            "    \n",
            "    References\n",
            "    ----------\n",
            "    .. [1] G. H. Golub and C. F. Van Loan, *Matrix Computations*,\n",
            "           Baltimore, MD, Johns Hopkins University Press, 1985, pg. 15\n",
            "    \n",
            "    Examples\n",
            "    --------\n",
            "    >>> from numpy import linalg as LA\n",
            "    >>> a = np.arange(9) - 4\n",
            "    >>> a\n",
            "    array([-4, -3, -2, -1,  0,  1,  2,  3,  4])\n",
            "    >>> b = a.reshape((3, 3))\n",
            "    >>> b\n",
            "    array([[-4, -3, -2],\n",
            "           [-1,  0,  1],\n",
            "           [ 2,  3,  4]])\n",
            "    \n",
            "    >>> LA.norm(a)\n",
            "    7.745966692414834\n",
            "    >>> LA.norm(b)\n",
            "    7.745966692414834\n",
            "    >>> LA.norm(b, 'fro')\n",
            "    7.745966692414834\n",
            "    >>> LA.norm(a, np.inf)\n",
            "    4.0\n",
            "    >>> LA.norm(b, np.inf)\n",
            "    9.0\n",
            "    >>> LA.norm(a, -np.inf)\n",
            "    0.0\n",
            "    >>> LA.norm(b, -np.inf)\n",
            "    2.0\n",
            "    \n",
            "    >>> LA.norm(a, 1)\n",
            "    20.0\n",
            "    >>> LA.norm(b, 1)\n",
            "    7.0\n",
            "    >>> LA.norm(a, -1)\n",
            "    -4.6566128774142013e-010\n",
            "    >>> LA.norm(b, -1)\n",
            "    6.0\n",
            "    >>> LA.norm(a, 2)\n",
            "    7.745966692414834\n",
            "    >>> LA.norm(b, 2)\n",
            "    7.3484692283495345\n",
            "    \n",
            "    >>> LA.norm(a, -2)\n",
            "    nan\n",
            "    >>> LA.norm(b, -2)\n",
            "    1.8570331885190563e-016\n",
            "    >>> LA.norm(a, 3)\n",
            "    5.8480354764257312\n",
            "    >>> LA.norm(a, -3)\n",
            "    nan\n",
            "    \n",
            "    Using the `axis` argument to compute vector norms:\n",
            "    \n",
            "    >>> c = np.array([[ 1, 2, 3],\n",
            "    ...               [-1, 1, 4]])\n",
            "    >>> LA.norm(c, axis=0)\n",
            "    array([ 1.41421356,  2.23606798,  5.        ])\n",
            "    >>> LA.norm(c, axis=1)\n",
            "    array([ 3.74165739,  4.24264069])\n",
            "    >>> LA.norm(c, ord=1, axis=1)\n",
            "    array([ 6.,  6.])\n",
            "    \n",
            "    Using the `axis` argument to compute matrix norms:\n",
            "    \n",
            "    >>> m = np.arange(8).reshape(2,2,2)\n",
            "    >>> LA.norm(m, axis=(1,2))\n",
            "    array([  3.74165739,  11.22497216])\n",
            "    >>> LA.norm(m[0, :, :]), LA.norm(m[1, :, :])\n",
            "    (3.7416573867739413, 11.224972160321824)\n",
            "\n"
          ]
        }
      ],
      "source": [
        "a = np.array([[1, 2], [3, 4]])\n",
        "help(la.norm)"
      ]
    },
    {
      "cell_type": "code",
      "execution_count": null,
      "metadata": {
        "id": "Ywm1DYXRYYwf",
        "outputId": "cc489ad0-c35a-4691-c531-74cdf7921c50"
      },
      "outputs": [
        {
          "name": "stdout",
          "output_type": "stream",
          "text": [
            "[[1 2]\n",
            " [3 4]]\n",
            "5.477225575051661\n",
            "5.464985704219043\n",
            "5.477225575051661\n",
            "5.477225575051661\n",
            "6.0\n",
            "7.0\n"
          ]
        }
      ],
      "source": [
        "print(a)\n",
        "print(la.norm(a))\n",
        "print(la.norm(a,2))\n",
        "print(la.norm(a,'fro'))\n",
        "print(la.norm(a.reshape(4),2))\n",
        "print(la.norm(a,1))\n",
        "print(la.norm(a,np.inf))"
      ]
    },
    {
      "cell_type": "code",
      "execution_count": null,
      "metadata": {
        "id": "jYzJvPjhYYwg",
        "outputId": "3502e3ad-11dd-4766-be53-ac4b05e27646"
      },
      "outputs": [
        {
          "name": "stdout",
          "output_type": "stream",
          "text": [
            "[1 2 3]\n",
            "3.7416573867739413\n",
            "3.7416573867739413\n",
            "6.0\n",
            "3.0\n"
          ]
        }
      ],
      "source": [
        "b = np.arange(1,4)\n",
        "print(b)\n",
        "print(la.norm(b))\n",
        "print(la.norm(b,2))\n",
        "print(la.norm(b,1))\n",
        "print(la.norm(b,np.inf))"
      ]
    },
    {
      "cell_type": "markdown",
      "metadata": {
        "collapsed": true,
        "id": "_D-_gn1DYYwg"
      },
      "source": [
        "#### Exercise\n",
        "\n",
        "In a chicken and rabbit farm, there are 35 heads and 94 legs. How many chickens and how many rabbits do we have?\n",
        "\n"
      ]
    },
    {
      "cell_type": "markdown",
      "metadata": {
        "id": "TuBueM_HYYwg"
      },
      "source": [
        "Remember: for every number $n$\n",
        "\n",
        "$$A \\cdot X = B$$\n",
        "\n",
        "$$A^{-1} \\cdot A \\cdot X = I \\cdot X = A^{-1} \\cdot B$$\n",
        "\n",
        "$$X = A^{-1} \\cdot B$$\n",
        "\n",
        "\\* The language I've used to represent this formula is [$\\LaTeX$](https://www.latex-project.org/). It's used to typeset all kinds of things from cvs to scientific articles to books. You can find a quick introduction [here](https://www.cs.princeton.edu/courses/archive/spr10/cos433/Latex/latex-guide.pdf). Almost everything you need to know to write equations in the notebook is on pages 4,5 and 6 of that pdf."
      ]
    },
    {
      "cell_type": "markdown",
      "metadata": {
        "id": "QCs5wdAlYYwg"
      },
      "source": [
        "Example:\n",
        "\n",
        "$A^x A_i A^-1$"
      ]
    },
    {
      "cell_type": "markdown",
      "metadata": {
        "id": "etk1HH-6YYwh"
      },
      "source": [
        "## A Linear Regression example with numpy\n",
        "\n",
        "Now, we are ready to implement our own linear regression example. "
      ]
    },
    {
      "cell_type": "markdown",
      "metadata": {
        "id": "bRd9l3t7YYwh"
      },
      "source": [
        "In linear regression, our hypothesis function $h_\\theta$ is:\n",
        "\n",
        "$$h_\\theta(x) = \\theta_0 + \\theta_1x$$"
      ]
    },
    {
      "cell_type": "markdown",
      "metadata": {
        "id": "xHs94-VQYYwh"
      },
      "source": [
        "And, as we are doing regression, our cost function is: \n",
        "\n",
        "$$J(\\theta_0,\\theta_1) = \\frac{1}{m}\\sum_{i=1}^m(\\hat{y}_i-y_i)^2 = \\frac{1}{m}\\sum_{i=1}^m(h_\\theta(x_i)-y_i)^2 $$"
      ]
    },
    {
      "cell_type": "markdown",
      "metadata": {
        "id": "RP282PPhYYwi"
      },
      "source": [
        "### Generate dummy data"
      ]
    },
    {
      "cell_type": "code",
      "execution_count": null,
      "metadata": {
        "id": "1qXrTVSlYYwi",
        "outputId": "d3c5b388-f016-4e20-bf02-2527f168b928"
      },
      "outputs": [
        {
          "data": {
            "text/plain": [
              "<matplotlib.collections.PathCollection at 0x7f3dd8b11e10>"
            ]
          },
          "execution_count": 118,
          "metadata": {},
          "output_type": "execute_result"
        },
        {
          "data": {
            "image/png": "[encoded data removed]",
            "text/plain": [
              "<Figure size 432x288 with 1 Axes>"
            ]
          },
          "metadata": {
            "needs_background": "light"
          },
          "output_type": "display_data"
        }
      ],
      "source": [
        "import numpy as np\n",
        "import matplotlib.pyplot as plt\n",
        "%matplotlib inline\n",
        "\n",
        "theta_0 = 2\n",
        "theta_1 = 5\n",
        "\n",
        "X = (np.random.randn(100) + 1) * 50\n",
        "jitter = 50 * np.random.randn(100)\n",
        "Y = theta_0 + theta_1 * X + jitter\n",
        "\n",
        "plt.scatter (X, Y)"
      ]
    },
    {
      "cell_type": "markdown",
      "metadata": {
        "id": "MZl9LcGQYYwi"
      },
      "source": [
        "That is the spread that we will try to aproximate with our line."
      ]
    },
    {
      "cell_type": "markdown",
      "metadata": {
        "id": "sDd6fgrDYYwi"
      },
      "source": [
        "### Write the cost function"
      ]
    },
    {
      "cell_type": "code",
      "execution_count": null,
      "metadata": {
        "id": "Ln4YQJk4YYwi",
        "outputId": "9c64c09b-77e0-4807-fe24-0030f7840846"
      },
      "outputs": [
        {
          "data": {
            "text/plain": [
              "2076.568378748083"
            ]
          },
          "execution_count": 119,
          "metadata": {},
          "output_type": "execute_result"
        }
      ],
      "source": [
        "def cost_function(X, Y):\n",
        "    \n",
        "    return lambda thetas: sum((thetas[0] + thetas[1] * X - Y) ** 2) / len(X)\n",
        "\n",
        "J = cost_function(X, Y)\n",
        "J([theta_0,theta_1])"
      ]
    },
    {
      "cell_type": "code",
      "execution_count": null,
      "metadata": {
        "id": "hxljONmSYYwj",
        "outputId": "1bbd8134-e002-4bc0-ab8d-49e3526ddbc6"
      },
      "outputs": [
        {
          "name": "stdout",
          "output_type": "stream",
          "text": [
            "Optimization terminated successfully.\n",
            "         Current function value: 2076.718291\n",
            "         Iterations: 48\n",
            "         Function evaluations: 93\n"
          ]
        },
        {
          "data": {
            "text/plain": [
              "array([0.93161245, 5.00760401])"
            ]
          },
          "execution_count": 120,
          "metadata": {},
          "output_type": "execute_result"
        }
      ],
      "source": [
        "from scipy.optimize import fmin\n",
        "\n",
        "fmin(J, [0,0])"
      ]
    },
    {
      "cell_type": "markdown",
      "metadata": {
        "id": "xInwSlJKYYwj"
      },
      "source": [
        "### Gradient descent"
      ]
    },
    {
      "cell_type": "markdown",
      "metadata": {
        "id": "IykpyG1vYYwj"
      },
      "source": [
        "Remember, we have to descend in the direction of the steepest gradient. For that, we need to now what direction the gradient points!"
      ]
    },
    {
      "cell_type": "markdown",
      "metadata": {
        "id": "otUvgqvVYYwj"
      },
      "source": [
        "### Partial differentials of the cost function\n",
        "\n",
        "$$\\frac{\\partial}{\\partial\\theta_0} = \\frac{1}{m}\\sum_{i=1}^m(h_\\theta(x_i)-y_i)$$\n",
        "\n",
        "$$\\frac{\\partial}{\\partial\\theta_1} = \\frac{1}{m}\\sum_{i=1}^m(h_\\theta(x_i)-y_i) \\cdot x_i$$"
      ]
    },
    {
      "cell_type": "code",
      "execution_count": null,
      "metadata": {
        "id": "D-UkWrkIYYwk"
      },
      "outputs": [],
      "source": [
        "def derivative_theta_0(X, Y):\n",
        "    return lambda theta_0, theta_1: sum(theta_0 + theta_1 * X - Y) / len(X)\n",
        "\n",
        "def derivative_theta_1(X, Y):\n",
        "    return lambda theta_0, theta_1: sum((theta_0 + theta_1 * X - Y) * X) / len(X)"
      ]
    },
    {
      "cell_type": "code",
      "execution_count": null,
      "metadata": {
        "id": "QIohAiVQYYwk"
      },
      "outputs": [],
      "source": [
        "J_prime_0 = derivative_theta_0(X, Y)\n",
        "J_prime_1 = derivative_theta_1(X, Y)"
      ]
    },
    {
      "cell_type": "markdown",
      "metadata": {
        "id": "EvZZNAQOYYwk"
      },
      "source": [
        "### Implementing gradient descent\n",
        "\n",
        "Now we are ready to implement the actual gradient descent. Remember, the algorithm is:\n",
        "\n",
        "- Initialize variables\n",
        "\n",
        "- Compute cost function\n",
        "\n",
        "- Compute gradients\n",
        "\n",
        "- Update variables: gradient times learning rate (alpha)\n",
        "\n",
        "- Repeat until convergence: cost at iteration n-1 $\\sim$ cost at iteration n"
      ]
    },
    {
      "cell_type": "code",
      "execution_count": null,
      "metadata": {
        "id": "9252zgItYYwk"
      },
      "outputs": [],
      "source": [
        "theta_0 = np.random.randn()\n",
        "theta_1 = np.random.randn()\n",
        "J_prime_0 = derivative_theta_0(X, Y)\n",
        "J_prime_1 = derivative_theta_1(X, Y)\n",
        "convergence_criterion = 1e-1\n",
        "converged = False\n",
        "alpha = 10e-5\n",
        "trace = []\n",
        "\n",
        "for _ in range(100):\n",
        "    trace.append([theta_0, theta_1])\n",
        "    \n",
        "    J_0 = J([theta_0, theta_1])\n",
        "\n",
        "    diff_theta_0 = J_prime_0(theta_0, theta_1)\n",
        "    diff_theta_1 = J_prime_1(theta_0, theta_1)\n",
        "    \n",
        "    theta_0 = theta_0 - alpha * diff_theta_0\n",
        "    theta_1 = theta_1 - alpha * diff_theta_1\n",
        "    \n",
        "    J_1 = J([theta_0, theta_1])\n",
        "    \n",
        "    \n",
        "    \n",
        "    converged = abs(J_0 - J_1) < convergence_criterion"
      ]
    },
    {
      "cell_type": "code",
      "execution_count": null,
      "metadata": {
        "id": "y7bqPUU0YYwk",
        "outputId": "35a3aaca-43da-41dc-892f-7310ff672645"
      },
      "outputs": [
        {
          "data": {
            "text/plain": [
              "100"
            ]
          },
          "execution_count": 124,
          "metadata": {},
          "output_type": "execute_result"
        }
      ],
      "source": [
        "len(trace)"
      ]
    },
    {
      "cell_type": "code",
      "execution_count": null,
      "metadata": {
        "id": "yXQJcgAVYYwl",
        "outputId": "8d57601e-8401-475a-c47e-5b23cc2506fb"
      },
      "outputs": [
        {
          "data": {
            "text/plain": [
              "[[0.954758370746395, 5.007312945371503],\n",
              " [0.95479063744234, 5.007312603600269],\n",
              " [0.9548229027565839, 5.007312261843671],\n",
              " [0.9548551666891857, 5.007311920101707],\n",
              " [0.9548874292402046, 5.007311578374377],\n",
              " [0.9549196904096999, 5.007311236661681],\n",
              " [0.9549519501977307, 5.0073108949636165],\n",
              " [0.9549842086043562, 5.007310553280185],\n",
              " [0.9550164656296354, 5.007310211611384],\n",
              " [0.9550487212736275, 5.007309869957213]]"
            ]
          },
          "execution_count": 125,
          "metadata": {},
          "output_type": "execute_result"
        }
      ],
      "source": [
        "trace[-10:]"
      ]
    },
    {
      "cell_type": "code",
      "execution_count": null,
      "metadata": {
        "id": "3UXQVBFwYYwl",
        "outputId": "cc929958-6fc1-4f85-d157-91bba76da2af"
      },
      "outputs": [
        {
          "data": {
            "text/plain": [
              "[<matplotlib.lines.Line2D at 0x7f3dd1fe9588>,\n",
              " <matplotlib.lines.Line2D at 0x7f3dd1fe96d8>]"
            ]
          },
          "execution_count": 126,
          "metadata": {},
          "output_type": "execute_result"
        },
        {
          "data": {
            "image/png": "[encoded data removed]",
            "text/plain": [
              "<Figure size 432x288 with 1 Axes>"
            ]
          },
          "metadata": {
            "needs_background": "light"
          },
          "output_type": "display_data"
        }
      ],
      "source": [
        "plt.plot(trace)"
      ]
    },
    {
      "cell_type": "code",
      "execution_count": null,
      "metadata": {
        "id": "raj_0zvlYYwm",
        "outputId": "e01641f4-ea05-44a2-fb7c-fcdb40dfe652"
      },
      "outputs": [
        {
          "data": {
            "text/plain": [
              "<a list of 12 text.Text objects>"
            ]
          },
          "execution_count": 127,
          "metadata": {},
          "output_type": "execute_result"
        },
        {
          "data": {
            "image/png": "[encoded data removed]",
            "text/plain": [
              "<Figure size 432x288 with 1 Axes>"
            ]
          },
          "metadata": {
            "needs_background": "light"
          },
          "output_type": "display_data"
        }
      ],
      "source": [
        "delta = 10\n",
        "xs = np.arange(-1000, 1000, delta)\n",
        "ys = np.arange(-1000, 1000, delta)\n",
        "\n",
        "x, y = np.meshgrid(xs, ys)\n",
        "zs =  np.array([J([t0, t1]) for t0 in xs for t1 in ys]).reshape(len(xs), len(ys)).T\n",
        "\n",
        "m = plt.contour(x, y, zs)\n",
        "plt.clabel(m, inline=1, fontsize=10)\n"
      ]
    },
    {
      "cell_type": "code",
      "execution_count": null,
      "metadata": {
        "id": "eaAhK4AWYYwm",
        "outputId": "b8bbe420-9ada-4663-f945-42ec3692afc3"
      },
      "outputs": [
        {
          "data": {
            "text/plain": [
              "<matplotlib.collections.PathCollection at 0x7f3dd8cc5a20>"
            ]
          },
          "execution_count": 128,
          "metadata": {},
          "output_type": "execute_result"
        },
        {
          "data": {
            "image/png": "[encoded data removed]",
            "text/plain": [
              "<Figure size 432x288 with 1 Axes>"
            ]
          },
          "metadata": {
            "needs_background": "light"
          },
          "output_type": "display_data"
        }
      ],
      "source": [
        "delta = 1\n",
        "xs = np.arange(-10, 10, delta)\n",
        "ys = np.arange(-10, 10, delta)\n",
        "\n",
        "x, y = np.meshgrid(xs, ys)\n",
        "zs =  np.array([J([t0, t1]) for t0 in xs for t1 in ys]).reshape(len(xs), len(ys)).T\n",
        "\n",
        "m = plt.contour(x, y, zs)\n",
        "plt.clabel(m, inline=1, fontsize=10)\n",
        "\n",
        "x_steps = [step[0] for step in trace]\n",
        "y_steps = [step[1] for step in trace]\n",
        "plt.scatter(x_steps, y_steps)"
      ]
    },
    {
      "cell_type": "code",
      "execution_count": null,
      "metadata": {
        "id": "k4Hu-8JCYYwm",
        "outputId": "28a3932a-f297-4ffd-edf6-788e969dfeb9"
      },
      "outputs": [
        {
          "data": {
            "text/plain": [
              "<matplotlib.collections.PathCollection at 0x7f3dd8cbf748>"
            ]
          },
          "execution_count": 129,
          "metadata": {},
          "output_type": "execute_result"
        },
        {
          "data": {
            "image/png": "[encoded data removed]",
            "text/plain": [
              "<Figure size 432x288 with 1 Axes>"
            ]
          },
          "metadata": {
            "needs_background": "light"
          },
          "output_type": "display_data"
        }
      ],
      "source": [
        "def make_line(theta_0, theta_1):\n",
        "    xs = np.linspace(-100, 250)\n",
        "    ys = theta_0 + theta_1 * xs\n",
        "    return xs, ys\n",
        "\n",
        "lines = [plt.plot(*make_line(*thetas), zorder = 1) for thetas in trace]\n",
        "plt.scatter (X, Y, zorder = 2)"
      ]
    },
    {
      "cell_type": "markdown",
      "metadata": {
        "id": "Yj56VEInYYwn"
      },
      "source": [
        "#### Exercise for home\n",
        "\n",
        "Fix our linear regression so that it can find $\\theta_0$ in a reasonable length of time. What can be the problem?"
      ]
    },
    {
      "cell_type": "code",
      "execution_count": null,
      "metadata": {
        "id": "NBBJimpUYYwn"
      },
      "outputs": [],
      "source": [
        ""
      ]
    },
    {
      "cell_type": "markdown",
      "metadata": {
        "id": "O_hLqxrQYYwn"
      },
      "source": [
        "  "
      ]
    },
    {
      "cell_type": "markdown",
      "metadata": {
        "id": "CyKkZj31YYwn"
      },
      "source": [
        "## `pandas`"
      ]
    },
    {
      "cell_type": "markdown",
      "metadata": {
        "id": "274yQlddYYwn"
      },
      "source": [
        "### Getting started with pandas"
      ]
    },
    {
      "cell_type": "code",
      "execution_count": null,
      "metadata": {
        "id": "lnuSENcmYYwo"
      },
      "outputs": [],
      "source": [
        "import pandas as pd\n",
        "import numpy as np"
      ]
    },
    {
      "cell_type": "markdown",
      "metadata": {
        "id": "VzjUJzO0YYwo"
      },
      "source": [
        "### `pandas` data structures"
      ]
    },
    {
      "cell_type": "markdown",
      "metadata": {
        "id": "hJ4IA41EYYwo"
      },
      "source": [
        "### Series\n",
        "\n",
        "The base pandas abstraction. You can thing of it as the love child of a numpy array and a dictionary."
      ]
    },
    {
      "cell_type": "code",
      "execution_count": null,
      "metadata": {
        "id": "ENFc_4ABYYwo",
        "outputId": "83d3504c-879b-4ee5-e798-4d8f8c0a63c7"
      },
      "outputs": [
        {
          "data": {
            "text/plain": [
              "0    4\n",
              "1    7\n",
              "2   -5\n",
              "3    3\n",
              "dtype: int64"
            ]
          },
          "execution_count": 131,
          "metadata": {},
          "output_type": "execute_result"
        }
      ],
      "source": [
        "s = pd.Series([4, 7, -5, 3])\n",
        "s"
      ]
    },
    {
      "cell_type": "markdown",
      "metadata": {
        "id": "wO82HmpLYYwo"
      },
      "source": [
        "If we provide an index, pandas will use it. If not, it will automatically create one."
      ]
    },
    {
      "cell_type": "code",
      "execution_count": null,
      "metadata": {
        "id": "65EajhdUYYwp",
        "outputId": "71f63af6-a162-40d7-f940-7f8de1333499"
      },
      "outputs": [
        {
          "name": "stdout",
          "output_type": "stream",
          "text": [
            "RangeIndex(start=0, stop=4, step=1)\n",
            "[ 4  7 -5  3]\n"
          ]
        }
      ],
      "source": [
        "print(s.index)\n",
        "print(s.values)"
      ]
    },
    {
      "cell_type": "code",
      "execution_count": null,
      "metadata": {
        "id": "owhSRbGCYYwp",
        "outputId": "ed7bf636-6328-482a-ea37-eb7281130698"
      },
      "outputs": [
        {
          "data": {
            "text/plain": [
              "['i', 'f', 'n', 'e', 'u', 'r', 'h']"
            ]
          },
          "execution_count": 133,
          "metadata": {},
          "output_type": "execute_result"
        }
      ],
      "source": [
        "list('ifneurh')"
      ]
    },
    {
      "cell_type": "code",
      "execution_count": null,
      "metadata": {
        "id": "Hz8dfoYAYYwp",
        "outputId": "ddccf804-827a-4a44-8fd6-779af12a762e"
      },
      "outputs": [
        {
          "data": {
            "text/plain": [
              "i     1.0\n",
              "f     2.0\n",
              "n     4.5\n",
              "e     7.0\n",
              "u     2.0\n",
              "r    23.0\n",
              "h    15.0\n",
              "dtype: float64"
            ]
          },
          "execution_count": 134,
          "metadata": {},
          "output_type": "execute_result"
        }
      ],
      "source": [
        "s2 = pd.Series([1, 2, 4.5, 7, 2, 23, 15], index=['i', 'f', 'n', 'e', 'u', 'r', 'h'])\n",
        "s2"
      ]
    },
    {
      "cell_type": "code",
      "execution_count": null,
      "metadata": {
        "id": "WXX0wB_zYYwp",
        "outputId": "60998891-1bbd-4daf-fc6a-b272c2e78ae7"
      },
      "outputs": [
        {
          "data": {
            "text/plain": [
              "23.0"
            ]
          },
          "execution_count": 135,
          "metadata": {},
          "output_type": "execute_result"
        }
      ],
      "source": [
        "s2['r']"
      ]
    },
    {
      "cell_type": "code",
      "execution_count": null,
      "metadata": {
        "id": "-7FbhyY2YYwq",
        "outputId": "22e4bcca-306c-4509-f8ff-4df5f48b6963"
      },
      "outputs": [
        {
          "data": {
            "text/plain": [
              "i    False\n",
              "f    False\n",
              "n     True\n",
              "e     True\n",
              "u    False\n",
              "r     True\n",
              "h     True\n",
              "dtype: bool"
            ]
          },
          "execution_count": 136,
          "metadata": {},
          "output_type": "execute_result"
        }
      ],
      "source": [
        "s2 > 3"
      ]
    },
    {
      "cell_type": "code",
      "execution_count": null,
      "metadata": {
        "id": "W8mnZW0gYYwq",
        "outputId": "dcc8cbe6-fdd1-4247-f2e7-d82aae81c9ca"
      },
      "outputs": [
        {
          "data": {
            "text/plain": [
              "n     4.5\n",
              "e     7.0\n",
              "r    23.0\n",
              "h    15.0\n",
              "dtype: float64"
            ]
          },
          "execution_count": 137,
          "metadata": {},
          "output_type": "execute_result"
        }
      ],
      "source": [
        "s2[s2>3]"
      ]
    },
    {
      "cell_type": "code",
      "execution_count": null,
      "metadata": {
        "id": "vjDoqYNZYYwq"
      },
      "outputs": [],
      "source": [
        ""
      ]
    },
    {
      "cell_type": "code",
      "execution_count": null,
      "metadata": {
        "id": "PI0eRBzdYYwq"
      },
      "outputs": [],
      "source": [
        ""
      ]
    },
    {
      "cell_type": "code",
      "execution_count": null,
      "metadata": {
        "id": "9FAQwuf9YYwq"
      },
      "outputs": [],
      "source": [
        ""
      ]
    },
    {
      "cell_type": "code",
      "execution_count": null,
      "metadata": {
        "id": "PV2YmWcUYYwq"
      },
      "outputs": [],
      "source": [
        ""
      ]
    },
    {
      "cell_type": "code",
      "execution_count": null,
      "metadata": {
        "id": "bVoq0FmzYYwq"
      },
      "outputs": [],
      "source": [
        "evens = s2 % 2 == 0"
      ]
    },
    {
      "cell_type": "code",
      "execution_count": null,
      "metadata": {
        "id": "KpR4BT5sYYwr",
        "outputId": "4e3f88a3-d1d8-4c1b-b468-9df2b2db9827"
      },
      "outputs": [
        {
          "data": {
            "text/plain": [
              "f    2.0\n",
              "u    2.0\n",
              "dtype: float64"
            ]
          },
          "execution_count": 139,
          "metadata": {},
          "output_type": "execute_result"
        }
      ],
      "source": [
        "s2[evens]"
      ]
    },
    {
      "cell_type": "code",
      "execution_count": null,
      "metadata": {
        "id": "91xdOAqSYYwr",
        "outputId": "6fe5c048-23d9-4c31-db27-f2a87d5a5d37"
      },
      "outputs": [
        {
          "data": {
            "text/plain": [
              "i     2.0\n",
              "f     4.0\n",
              "n     9.0\n",
              "e    14.0\n",
              "u     4.0\n",
              "r    46.0\n",
              "h    30.0\n",
              "dtype: float64"
            ]
          },
          "execution_count": 140,
          "metadata": {},
          "output_type": "execute_result"
        }
      ],
      "source": [
        "s2 * 2"
      ]
    },
    {
      "cell_type": "code",
      "execution_count": null,
      "metadata": {
        "id": "w7gsKusaYYwr",
        "outputId": "b2b5c4fb-3167-46c8-e7d2-048285403e2b"
      },
      "outputs": [
        {
          "data": {
            "text/plain": [
              "i    2.718282e+00\n",
              "f    7.389056e+00\n",
              "n    9.001713e+01\n",
              "e    1.096633e+03\n",
              "u    7.389056e+00\n",
              "r    9.744803e+09\n",
              "h    3.269017e+06\n",
              "dtype: float64"
            ]
          },
          "execution_count": 141,
          "metadata": {},
          "output_type": "execute_result"
        }
      ],
      "source": [
        "np.exp(s2)"
      ]
    },
    {
      "cell_type": "code",
      "execution_count": null,
      "metadata": {
        "id": "wnF18CO1YYwr",
        "outputId": "78fa64eb-c0cb-4f44-ca49-6afef84ecd04"
      },
      "outputs": [
        {
          "data": {
            "text/plain": [
              "True"
            ]
          },
          "execution_count": 142,
          "metadata": {},
          "output_type": "execute_result"
        }
      ],
      "source": [
        "'f' in s2"
      ]
    },
    {
      "cell_type": "code",
      "execution_count": null,
      "metadata": {
        "id": "z0_zBGyWYYwr"
      },
      "outputs": [],
      "source": [
        "clase = pd.Series([34, 22, 45, 72], index=['Toni', 'Fulanito', 'Menganito', 'Victor'])"
      ]
    },
    {
      "cell_type": "code",
      "execution_count": null,
      "metadata": {
        "id": "DvT_tpovYYwr",
        "outputId": "7cc7e12e-90c1-4723-bbbc-03246452e369"
      },
      "outputs": [
        {
          "data": {
            "text/plain": [
              "Index(['Fulanito'], dtype='object')"
            ]
          },
          "execution_count": 144,
          "metadata": {},
          "output_type": "execute_result"
        }
      ],
      "source": [
        "clase[clase==22].index"
      ]
    },
    {
      "cell_type": "markdown",
      "metadata": {
        "id": "XjWwog58YYws"
      },
      "source": [
        "We can create Series from dictionaries:"
      ]
    },
    {
      "cell_type": "code",
      "execution_count": null,
      "metadata": {
        "id": "izJHUNoVYYws",
        "outputId": "aeb0ab44-312f-4794-a27f-e92ff01a7337"
      },
      "outputs": [
        {
          "data": {
            "text/plain": [
              "B    3000000.0\n",
              "M    6000000.0\n",
              "P     120000.0\n",
              "V     700000.0\n",
              "dtype: float64"
            ]
          },
          "execution_count": 145,
          "metadata": {},
          "output_type": "execute_result"
        }
      ],
      "source": [
        "sdata = {'B' : 3e6, 'M': 6e6, 'P': 1.2e5, 'V': 7e5}\n",
        "\n",
        "s3 = pd.Series(sdata)\n",
        "s3"
      ]
    },
    {
      "cell_type": "code",
      "execution_count": null,
      "metadata": {
        "id": "EH43fBxwYYws"
      },
      "outputs": [],
      "source": [
        "increase = {'M': 4e5, 'B' : 2e5, 'Z': -2e4}\n",
        "\n",
        "s4 = pd.Series(increase)"
      ]
    },
    {
      "cell_type": "markdown",
      "metadata": {
        "id": "NjmfFHjUYYws"
      },
      "source": [
        "And here is where the magic happens: numpy arrays only identify their contents by position. In contrast, pandas knows their \"name\" and will align them based on their indexes:"
      ]
    },
    {
      "cell_type": "code",
      "execution_count": null,
      "metadata": {
        "id": "msmwiyU2YYws",
        "outputId": "b1f9864b-3914-49a4-a3c9-db7ca6b97f49"
      },
      "outputs": [
        {
          "data": {
            "text/plain": [
              "array([3000000., 6000000.,  120000.,  700000.])"
            ]
          },
          "execution_count": 147,
          "metadata": {},
          "output_type": "execute_result"
        }
      ],
      "source": [
        "s3.values"
      ]
    },
    {
      "cell_type": "code",
      "execution_count": null,
      "metadata": {
        "id": "wNt-8XS-YYwt",
        "outputId": "03f9167d-457e-4b83-adc8-e2ffdc2d80a9"
      },
      "outputs": [
        {
          "data": {
            "text/plain": [
              "array([400000., 200000., -20000.])"
            ]
          },
          "execution_count": 148,
          "metadata": {},
          "output_type": "execute_result"
        }
      ],
      "source": [
        "s4.values"
      ]
    },
    {
      "cell_type": "code",
      "execution_count": null,
      "metadata": {
        "id": "c2GRbaSyYYwt",
        "outputId": "8c6af856-21cf-4401-dd92-0770ddd37c0b"
      },
      "outputs": [
        {
          "ename": "ValueError",
          "evalue": "operands could not be broadcast together with shapes (4,) (3,) ",
          "output_type": "error",
          "traceback": [
            "\u001b[0;31m---------------------------------------------------------------------------\u001b[0m",
            "\u001b[0;31mValueError\u001b[0m                                Traceback (most recent call last)",
            "\u001b[0;32m<ipython-input-149-666344160b2e>\u001b[0m in \u001b[0;36m<module>\u001b[0;34m\u001b[0m\n\u001b[0;32m----> 1\u001b[0;31m \u001b[0ms3\u001b[0m\u001b[0;34m.\u001b[0m\u001b[0mvalues\u001b[0m \u001b[0;34m+\u001b[0m \u001b[0ms4\u001b[0m\u001b[0;34m.\u001b[0m\u001b[0mvalues\u001b[0m\u001b[0;34m\u001b[0m\u001b[0;34m\u001b[0m\u001b[0m\n\u001b[0m",
            "\u001b[0;31mValueError\u001b[0m: operands could not be broadcast together with shapes (4,) (3,) "
          ]
        }
      ],
      "source": [
        "s3.values + s4.values"
      ]
    },
    {
      "cell_type": "code",
      "execution_count": null,
      "metadata": {
        "id": "7cjR57M7YYwt",
        "outputId": "a0326c10-0303-4a60-9750-adbfcb94e1b0"
      },
      "outputs": [
        {
          "data": {
            "text/plain": [
              "B    3200000.0\n",
              "M    6400000.0\n",
              "P          NaN\n",
              "V          NaN\n",
              "Z          NaN\n",
              "dtype: float64"
            ]
          },
          "execution_count": 150,
          "metadata": {},
          "output_type": "execute_result"
        }
      ],
      "source": [
        "s3 + s4"
      ]
    },
    {
      "cell_type": "code",
      "execution_count": null,
      "metadata": {
        "id": "6WsuQEFAYYwt"
      },
      "outputs": [],
      "source": [
        "s3.name = 'population_2000'\n",
        "s3.index.name = 'province'"
      ]
    },
    {
      "cell_type": "code",
      "execution_count": null,
      "metadata": {
        "id": "BrsaC1fiYYwu",
        "outputId": "063bdff7-508e-44f0-9cdb-40cd85d901dc"
      },
      "outputs": [
        {
          "data": {
            "text/plain": [
              "province\n",
              "B    3000000.0\n",
              "M    6000000.0\n",
              "P     120000.0\n",
              "V     700000.0\n",
              "Name: population_2000, dtype: float64"
            ]
          },
          "execution_count": 152,
          "metadata": {},
          "output_type": "execute_result"
        }
      ],
      "source": [
        "s3"
      ]
    },
    {
      "cell_type": "code",
      "execution_count": null,
      "metadata": {
        "id": "HL2G8itAYYwu"
      },
      "outputs": [],
      "source": [
        ""
      ]
    },
    {
      "cell_type": "code",
      "execution_count": null,
      "metadata": {
        "id": "8toO7bCoYYwv"
      },
      "outputs": [],
      "source": [
        ""
      ]
    },
    {
      "cell_type": "code",
      "execution_count": null,
      "metadata": {
        "id": "wD9-SZuxYYwv"
      },
      "outputs": [],
      "source": [
        ""
      ]
    },
    {
      "cell_type": "markdown",
      "metadata": {
        "id": "QqFP6NjBYYwv"
      },
      "source": [
        "### DataFrame\n",
        "\n",
        "This is the object you'll work most of the time with. It represents a table of _m_ observations x _n_ variables. Each variable, or column, is a Series."
      ]
    },
    {
      "cell_type": "code",
      "execution_count": null,
      "metadata": {
        "id": "OwYOtz2pYYww",
        "outputId": "81ea6b58-be7a-4d32-8dca-d9b90b64b868"
      },
      "outputs": [
        {
          "data": {
            "text/html": [
              "<div>\n",
              "<style scoped>\n",
              "    .dataframe tbody tr th:only-of-type {\n",
              "        vertical-align: middle;\n",
              "    }\n",
              "\n",
              "    .dataframe tbody tr th {\n",
              "        vertical-align: top;\n",
              "    }\n",
              "\n",
              "    .dataframe thead th {\n",
              "        text-align: right;\n",
              "    }\n",
              "</style>\n",
              "<table border=\"1\" class=\"dataframe\">\n",
              "  <thead>\n",
              "    <tr style=\"text-align: right;\">\n",
              "      <th></th>\n",
              "      <th>province</th>\n",
              "      <th>population</th>\n",
              "      <th>year</th>\n",
              "    </tr>\n",
              "  </thead>\n",
              "  <tbody>\n",
              "    <tr>\n",
              "      <th>0</th>\n",
              "      <td>M</td>\n",
              "      <td>1500000.0</td>\n",
              "      <td>1900</td>\n",
              "    </tr>\n",
              "    <tr>\n",
              "      <th>1</th>\n",
              "      <td>M</td>\n",
              "      <td>2000000.0</td>\n",
              "      <td>1950</td>\n",
              "    </tr>\n",
              "    <tr>\n",
              "      <th>2</th>\n",
              "      <td>M</td>\n",
              "      <td>3000000.0</td>\n",
              "      <td>2000</td>\n",
              "    </tr>\n",
              "    <tr>\n",
              "      <th>3</th>\n",
              "      <td>B</td>\n",
              "      <td>500000.0</td>\n",
              "      <td>1900</td>\n",
              "    </tr>\n",
              "    <tr>\n",
              "      <th>4</th>\n",
              "      <td>B</td>\n",
              "      <td>1500000.0</td>\n",
              "      <td>2000</td>\n",
              "    </tr>\n",
              "  </tbody>\n",
              "</table>\n",
              "</div>"
            ],
            "text/plain": [
              "  province  population  year\n",
              "0        M   1500000.0  1900\n",
              "1        M   2000000.0  1950\n",
              "2        M   3000000.0  2000\n",
              "3        B    500000.0  1900\n",
              "4        B   1500000.0  2000"
            ]
          },
          "execution_count": 264,
          "metadata": {},
          "output_type": "execute_result"
        }
      ],
      "source": [
        "dfdata = {\n",
        "    'province' : ['M', 'M', 'M', 'B', 'B'],\n",
        "    'population': [1.5e6, 2e6, 3e6, 5e5, 1.5e6],\n",
        "    'year' : [1900, 1950, 2000, 1900, 2000]   \n",
        "}\n",
        "\n",
        "df = pd.DataFrame(dfdata)\n",
        "df"
      ]
    },
    {
      "cell_type": "code",
      "execution_count": null,
      "metadata": {
        "id": "XLo_T7uZYYww",
        "outputId": "0d2b3732-ed41-4302-99f0-b03a4803be9b"
      },
      "outputs": [
        {
          "data": {
            "text/html": [
              "<div>\n",
              "<style scoped>\n",
              "    .dataframe tbody tr th:only-of-type {\n",
              "        vertical-align: middle;\n",
              "    }\n",
              "\n",
              "    .dataframe tbody tr th {\n",
              "        vertical-align: top;\n",
              "    }\n",
              "\n",
              "    .dataframe thead th {\n",
              "        text-align: right;\n",
              "    }\n",
              "</style>\n",
              "<table border=\"1\" class=\"dataframe\">\n",
              "  <thead>\n",
              "    <tr style=\"text-align: right;\">\n",
              "      <th></th>\n",
              "      <th>province</th>\n",
              "      <th>population</th>\n",
              "      <th>year</th>\n",
              "      <th>debt</th>\n",
              "    </tr>\n",
              "  </thead>\n",
              "  <tbody>\n",
              "    <tr>\n",
              "      <th>0</th>\n",
              "      <td>M</td>\n",
              "      <td>1500000.0</td>\n",
              "      <td>1900</td>\n",
              "      <td>NaN</td>\n",
              "    </tr>\n",
              "    <tr>\n",
              "      <th>1</th>\n",
              "      <td>M</td>\n",
              "      <td>2000000.0</td>\n",
              "      <td>1950</td>\n",
              "      <td>NaN</td>\n",
              "    </tr>\n",
              "    <tr>\n",
              "      <th>2</th>\n",
              "      <td>M</td>\n",
              "      <td>3000000.0</td>\n",
              "      <td>2000</td>\n",
              "      <td>NaN</td>\n",
              "    </tr>\n",
              "    <tr>\n",
              "      <th>3</th>\n",
              "      <td>B</td>\n",
              "      <td>500000.0</td>\n",
              "      <td>1900</td>\n",
              "      <td>NaN</td>\n",
              "    </tr>\n",
              "    <tr>\n",
              "      <th>4</th>\n",
              "      <td>B</td>\n",
              "      <td>1500000.0</td>\n",
              "      <td>2000</td>\n",
              "      <td>NaN</td>\n",
              "    </tr>\n",
              "  </tbody>\n",
              "</table>\n",
              "</div>"
            ],
            "text/plain": [
              "  province  population  year debt\n",
              "0        M   1500000.0  1900  NaN\n",
              "1        M   2000000.0  1950  NaN\n",
              "2        M   3000000.0  2000  NaN\n",
              "3        B    500000.0  1900  NaN\n",
              "4        B   1500000.0  2000  NaN"
            ]
          },
          "execution_count": 265,
          "metadata": {},
          "output_type": "execute_result"
        }
      ],
      "source": [
        "df2 = pd.DataFrame(dfdata, columns=['province','population', 'year', 'debt'])\n",
        "df2"
      ]
    },
    {
      "cell_type": "code",
      "execution_count": null,
      "metadata": {
        "id": "FdwqVVxdYYww",
        "outputId": "85e37b9c-097f-47a8-93d2-cb7f50f18ae2"
      },
      "outputs": [
        {
          "data": {
            "text/plain": [
              "RangeIndex(start=0, stop=5, step=1)"
            ]
          },
          "execution_count": 267,
          "metadata": {},
          "output_type": "execute_result"
        }
      ],
      "source": [
        "df2.index"
      ]
    },
    {
      "cell_type": "code",
      "execution_count": null,
      "metadata": {
        "id": "vb0PoOzhYYwx",
        "outputId": "4a1828c8-314f-452c-a948-b2dba37564c8"
      },
      "outputs": [
        {
          "data": {
            "text/plain": [
              "Index(['province', 'population', 'year', 'debt'], dtype='object')"
            ]
          },
          "execution_count": 266,
          "metadata": {},
          "output_type": "execute_result"
        }
      ],
      "source": [
        "df2.columns"
      ]
    },
    {
      "cell_type": "code",
      "execution_count": null,
      "metadata": {
        "id": "t71AzVL8YYwx",
        "outputId": "b349e98c-7e38-416e-e67f-a198a731349b"
      },
      "outputs": [
        {
          "data": {
            "text/html": [
              "<div>\n",
              "<style scoped>\n",
              "    .dataframe tbody tr th:only-of-type {\n",
              "        vertical-align: middle;\n",
              "    }\n",
              "\n",
              "    .dataframe tbody tr th {\n",
              "        vertical-align: top;\n",
              "    }\n",
              "\n",
              "    .dataframe thead th {\n",
              "        text-align: right;\n",
              "    }\n",
              "</style>\n",
              "<table border=\"1\" class=\"dataframe\">\n",
              "  <thead>\n",
              "    <tr style=\"text-align: right;\">\n",
              "      <th></th>\n",
              "      <th>population</th>\n",
              "      <th>province</th>\n",
              "    </tr>\n",
              "  </thead>\n",
              "  <tbody>\n",
              "    <tr>\n",
              "      <th>0</th>\n",
              "      <td>1500000.0</td>\n",
              "      <td>M</td>\n",
              "    </tr>\n",
              "    <tr>\n",
              "      <th>1</th>\n",
              "      <td>2000000.0</td>\n",
              "      <td>M</td>\n",
              "    </tr>\n",
              "    <tr>\n",
              "      <th>2</th>\n",
              "      <td>3000000.0</td>\n",
              "      <td>M</td>\n",
              "    </tr>\n",
              "    <tr>\n",
              "      <th>3</th>\n",
              "      <td>500000.0</td>\n",
              "      <td>B</td>\n",
              "    </tr>\n",
              "    <tr>\n",
              "      <th>4</th>\n",
              "      <td>1500000.0</td>\n",
              "      <td>B</td>\n",
              "    </tr>\n",
              "  </tbody>\n",
              "</table>\n",
              "</div>"
            ],
            "text/plain": [
              "   population province\n",
              "0   1500000.0        M\n",
              "1   2000000.0        M\n",
              "2   3000000.0        M\n",
              "3    500000.0        B\n",
              "4   1500000.0        B"
            ]
          },
          "execution_count": 268,
          "metadata": {},
          "output_type": "execute_result"
        }
      ],
      "source": [
        "df2[['population','province']]"
      ]
    },
    {
      "cell_type": "code",
      "execution_count": null,
      "metadata": {
        "id": "UVf-ixkHYYwx",
        "outputId": "406345df-0ad4-4df5-93f4-ca19f7171793"
      },
      "outputs": [
        {
          "data": {
            "text/plain": [
              "0    1500000.0\n",
              "1    2000000.0\n",
              "2    3000000.0\n",
              "3     500000.0\n",
              "4    1500000.0\n",
              "Name: population, dtype: float64"
            ]
          },
          "execution_count": 270,
          "metadata": {},
          "output_type": "execute_result"
        }
      ],
      "source": [
        "df2['population']"
      ]
    },
    {
      "cell_type": "code",
      "execution_count": null,
      "metadata": {
        "id": "XIdCeJH8YYwy",
        "outputId": "d8b51337-ed7e-4495-cb61-86353fcbe774"
      },
      "outputs": [
        {
          "data": {
            "text/plain": [
              "0    1500000.0\n",
              "1    2000000.0\n",
              "2    3000000.0\n",
              "3     500000.0\n",
              "4    1500000.0\n",
              "Name: population, dtype: float64"
            ]
          },
          "execution_count": 269,
          "metadata": {},
          "output_type": "execute_result"
        }
      ],
      "source": [
        "df2.population"
      ]
    },
    {
      "cell_type": "code",
      "execution_count": null,
      "metadata": {
        "id": "wT9kVr6DYYwy"
      },
      "outputs": [],
      "source": [
        "df2['2nd_language']=list('EEFFG')"
      ]
    },
    {
      "cell_type": "code",
      "execution_count": null,
      "metadata": {
        "id": "IjghTKwrYYwy",
        "outputId": "b10ed8a6-2157-4272-96a5-f81b75f40dc1"
      },
      "outputs": [
        {
          "ename": "SyntaxError",
          "evalue": "invalid syntax (<ipython-input-272-666b3aa4bfba>, line 1)",
          "output_type": "error",
          "traceback": [
            "\u001b[0;36m  File \u001b[0;32m\"<ipython-input-272-666b3aa4bfba>\"\u001b[0;36m, line \u001b[0;32m1\u001b[0m\n\u001b[0;31m    df2.2nd_language\u001b[0m\n\u001b[0m        ^\u001b[0m\n\u001b[0;31mSyntaxError\u001b[0m\u001b[0;31m:\u001b[0m invalid syntax\n"
          ]
        }
      ],
      "source": [
        "df2.2nd_language"
      ]
    },
    {
      "cell_type": "code",
      "execution_count": null,
      "metadata": {
        "id": "pcBKk_xgYYwy",
        "outputId": "10b31eeb-8e41-46fe-b495-4127f154624b"
      },
      "outputs": [
        {
          "data": {
            "text/plain": [
              "province          MMMBB\n",
              "population      8.5e+06\n",
              "year               9750\n",
              "debt                  0\n",
              "2nd_language      EEFFG\n",
              "dtype: object"
            ]
          },
          "execution_count": 273,
          "metadata": {},
          "output_type": "execute_result"
        }
      ],
      "source": [
        "df2.sum()"
      ]
    },
    {
      "cell_type": "code",
      "execution_count": null,
      "metadata": {
        "id": "ug256l9SYYwz"
      },
      "outputs": [],
      "source": [
        "df2['sum'] = [1,2,3,5,6]"
      ]
    },
    {
      "cell_type": "code",
      "execution_count": null,
      "metadata": {
        "id": "x42NrUVTYYwz",
        "outputId": "4a779372-5c65-4ff9-f06e-aeff1c13a3b1"
      },
      "outputs": [
        {
          "data": {
            "text/plain": [
              "<bound method DataFrame.sum of   province  population  year debt 2nd_language  sum\n",
              "0        M   1500000.0  1900  NaN            E    1\n",
              "1        M   2000000.0  1950  NaN            E    2\n",
              "2        M   3000000.0  2000  NaN            F    3\n",
              "3        B    500000.0  1900  NaN            F    5\n",
              "4        B   1500000.0  2000  NaN            G    6>"
            ]
          },
          "execution_count": 275,
          "metadata": {},
          "output_type": "execute_result"
        }
      ],
      "source": [
        "df2.sum"
      ]
    },
    {
      "cell_type": "code",
      "execution_count": null,
      "metadata": {
        "id": "9LyZ5QLxYYwz"
      },
      "outputs": [],
      "source": [
        "df2['2nd_language'] = np.nan"
      ]
    },
    {
      "cell_type": "code",
      "execution_count": null,
      "metadata": {
        "id": "Klgqq4pgYYwz"
      },
      "outputs": [],
      "source": [
        "df2.index = [list('EEFFG')]"
      ]
    },
    {
      "cell_type": "code",
      "execution_count": null,
      "metadata": {
        "id": "ol4WvL-vYYwz",
        "outputId": "02322fe0-c549-434e-b2c5-476f389ea157"
      },
      "outputs": [
        {
          "data": {
            "text/html": [
              "<div>\n",
              "<style scoped>\n",
              "    .dataframe tbody tr th:only-of-type {\n",
              "        vertical-align: middle;\n",
              "    }\n",
              "\n",
              "    .dataframe tbody tr th {\n",
              "        vertical-align: top;\n",
              "    }\n",
              "\n",
              "    .dataframe thead th {\n",
              "        text-align: right;\n",
              "    }\n",
              "</style>\n",
              "<table border=\"1\" class=\"dataframe\">\n",
              "  <thead>\n",
              "    <tr style=\"text-align: right;\">\n",
              "      <th></th>\n",
              "      <th>province</th>\n",
              "      <th>population</th>\n",
              "      <th>year</th>\n",
              "      <th>debt</th>\n",
              "      <th>2nd_language</th>\n",
              "      <th>sum</th>\n",
              "    </tr>\n",
              "  </thead>\n",
              "  <tbody>\n",
              "    <tr>\n",
              "      <th>E</th>\n",
              "      <td>M</td>\n",
              "      <td>1500000.0</td>\n",
              "      <td>1900</td>\n",
              "      <td>NaN</td>\n",
              "      <td>NaN</td>\n",
              "      <td>1</td>\n",
              "    </tr>\n",
              "    <tr>\n",
              "      <th>E</th>\n",
              "      <td>M</td>\n",
              "      <td>2000000.0</td>\n",
              "      <td>1950</td>\n",
              "      <td>NaN</td>\n",
              "      <td>NaN</td>\n",
              "      <td>2</td>\n",
              "    </tr>\n",
              "    <tr>\n",
              "      <th>F</th>\n",
              "      <td>M</td>\n",
              "      <td>3000000.0</td>\n",
              "      <td>2000</td>\n",
              "      <td>NaN</td>\n",
              "      <td>NaN</td>\n",
              "      <td>3</td>\n",
              "    </tr>\n",
              "    <tr>\n",
              "      <th>F</th>\n",
              "      <td>B</td>\n",
              "      <td>500000.0</td>\n",
              "      <td>1900</td>\n",
              "      <td>NaN</td>\n",
              "      <td>NaN</td>\n",
              "      <td>5</td>\n",
              "    </tr>\n",
              "    <tr>\n",
              "      <th>G</th>\n",
              "      <td>B</td>\n",
              "      <td>1500000.0</td>\n",
              "      <td>2000</td>\n",
              "      <td>NaN</td>\n",
              "      <td>NaN</td>\n",
              "      <td>6</td>\n",
              "    </tr>\n",
              "  </tbody>\n",
              "</table>\n",
              "</div>"
            ],
            "text/plain": [
              "  province  population  year debt  2nd_language  sum\n",
              "E        M   1500000.0  1900  NaN           NaN    1\n",
              "E        M   2000000.0  1950  NaN           NaN    2\n",
              "F        M   3000000.0  2000  NaN           NaN    3\n",
              "F        B    500000.0  1900  NaN           NaN    5\n",
              "G        B   1500000.0  2000  NaN           NaN    6"
            ]
          },
          "execution_count": 278,
          "metadata": {},
          "output_type": "execute_result"
        }
      ],
      "source": [
        "df2"
      ]
    },
    {
      "cell_type": "code",
      "execution_count": null,
      "metadata": {
        "id": "IuBxj7ifYYw0"
      },
      "outputs": [],
      "source": [
        ""
      ]
    },
    {
      "cell_type": "code",
      "execution_count": null,
      "metadata": {
        "id": "vJ3-5bgdYYw0",
        "outputId": "166a16af-c807-44fd-8deb-215de2424faa"
      },
      "outputs": [
        {
          "data": {
            "text/plain": [
              "E   NaN\n",
              "E   NaN\n",
              "F   NaN\n",
              "F   NaN\n",
              "G   NaN\n",
              "Name: 2nd_language, dtype: float64"
            ]
          },
          "execution_count": 279,
          "metadata": {},
          "output_type": "execute_result"
        }
      ],
      "source": [
        "df2['2nd_language']"
      ]
    },
    {
      "cell_type": "code",
      "execution_count": null,
      "metadata": {
        "id": "HhpbqEU2YYw0",
        "outputId": "de1face9-a4c4-4851-f47f-abc297fbc162"
      },
      "outputs": [
        {
          "ename": "SyntaxError",
          "evalue": "invalid syntax (<ipython-input-280-666b3aa4bfba>, line 1)",
          "output_type": "error",
          "traceback": [
            "\u001b[0;36m  File \u001b[0;32m\"<ipython-input-280-666b3aa4bfba>\"\u001b[0;36m, line \u001b[0;32m1\u001b[0m\n\u001b[0;31m    df2.2nd_language\u001b[0m\n\u001b[0m        ^\u001b[0m\n\u001b[0;31mSyntaxError\u001b[0m\u001b[0;31m:\u001b[0m invalid syntax\n"
          ]
        }
      ],
      "source": [
        "df2.2nd_language"
      ]
    },
    {
      "cell_type": "code",
      "execution_count": null,
      "metadata": {
        "id": "fYzqwOi9YYw0"
      },
      "outputs": [],
      "source": [
        "# df2['abs']"
      ]
    },
    {
      "cell_type": "code",
      "execution_count": null,
      "metadata": {
        "id": "Lzc6tGIOYYw0"
      },
      "outputs": [],
      "source": [
        "df2.index = list('abcde')"
      ]
    },
    {
      "cell_type": "code",
      "execution_count": null,
      "metadata": {
        "id": "35uStl0lYYw1",
        "outputId": "1961cb34-b01e-46ef-821c-02e8c11291bc"
      },
      "outputs": [
        {
          "data": {
            "text/html": [
              "<div>\n",
              "<style scoped>\n",
              "    .dataframe tbody tr th:only-of-type {\n",
              "        vertical-align: middle;\n",
              "    }\n",
              "\n",
              "    .dataframe tbody tr th {\n",
              "        vertical-align: top;\n",
              "    }\n",
              "\n",
              "    .dataframe thead th {\n",
              "        text-align: right;\n",
              "    }\n",
              "</style>\n",
              "<table border=\"1\" class=\"dataframe\">\n",
              "  <thead>\n",
              "    <tr style=\"text-align: right;\">\n",
              "      <th></th>\n",
              "      <th>province</th>\n",
              "      <th>population</th>\n",
              "      <th>year</th>\n",
              "      <th>debt</th>\n",
              "      <th>2nd_language</th>\n",
              "      <th>sum</th>\n",
              "    </tr>\n",
              "  </thead>\n",
              "  <tbody>\n",
              "    <tr>\n",
              "      <th>a</th>\n",
              "      <td>M</td>\n",
              "      <td>1500000.0</td>\n",
              "      <td>1900</td>\n",
              "      <td>NaN</td>\n",
              "      <td>NaN</td>\n",
              "      <td>1</td>\n",
              "    </tr>\n",
              "    <tr>\n",
              "      <th>b</th>\n",
              "      <td>M</td>\n",
              "      <td>2000000.0</td>\n",
              "      <td>1950</td>\n",
              "      <td>NaN</td>\n",
              "      <td>NaN</td>\n",
              "      <td>2</td>\n",
              "    </tr>\n",
              "    <tr>\n",
              "      <th>c</th>\n",
              "      <td>M</td>\n",
              "      <td>3000000.0</td>\n",
              "      <td>2000</td>\n",
              "      <td>NaN</td>\n",
              "      <td>NaN</td>\n",
              "      <td>3</td>\n",
              "    </tr>\n",
              "    <tr>\n",
              "      <th>d</th>\n",
              "      <td>B</td>\n",
              "      <td>500000.0</td>\n",
              "      <td>1900</td>\n",
              "      <td>NaN</td>\n",
              "      <td>NaN</td>\n",
              "      <td>5</td>\n",
              "    </tr>\n",
              "    <tr>\n",
              "      <th>e</th>\n",
              "      <td>B</td>\n",
              "      <td>1500000.0</td>\n",
              "      <td>2000</td>\n",
              "      <td>NaN</td>\n",
              "      <td>NaN</td>\n",
              "      <td>6</td>\n",
              "    </tr>\n",
              "  </tbody>\n",
              "</table>\n",
              "</div>"
            ],
            "text/plain": [
              "  province  population  year debt  2nd_language  sum\n",
              "a        M   1500000.0  1900  NaN           NaN    1\n",
              "b        M   2000000.0  1950  NaN           NaN    2\n",
              "c        M   3000000.0  2000  NaN           NaN    3\n",
              "d        B    500000.0  1900  NaN           NaN    5\n",
              "e        B   1500000.0  2000  NaN           NaN    6"
            ]
          },
          "execution_count": 282,
          "metadata": {},
          "output_type": "execute_result"
        }
      ],
      "source": [
        "df2"
      ]
    },
    {
      "cell_type": "code",
      "execution_count": null,
      "metadata": {
        "id": "9GcmOhV7YYw1",
        "outputId": "f59f1c17-eb28-48db-9b15-54d675016f05"
      },
      "outputs": [
        {
          "data": {
            "text/plain": [
              "province              M\n",
              "population      1.5e+06\n",
              "year               1900\n",
              "debt                NaN\n",
              "2nd_language        NaN\n",
              "sum                   1\n",
              "Name: a, dtype: object"
            ]
          },
          "execution_count": 283,
          "metadata": {},
          "output_type": "execute_result"
        }
      ],
      "source": [
        "df2.loc['a']"
      ]
    },
    {
      "cell_type": "code",
      "execution_count": null,
      "metadata": {
        "id": "uGI1Vzl0YYw1",
        "outputId": "4dd58862-ccd5-40ea-d189-b734f4a17c37"
      },
      "outputs": [
        {
          "data": {
            "text/html": [
              "<div>\n",
              "<style scoped>\n",
              "    .dataframe tbody tr th:only-of-type {\n",
              "        vertical-align: middle;\n",
              "    }\n",
              "\n",
              "    .dataframe tbody tr th {\n",
              "        vertical-align: top;\n",
              "    }\n",
              "\n",
              "    .dataframe thead th {\n",
              "        text-align: right;\n",
              "    }\n",
              "</style>\n",
              "<table border=\"1\" class=\"dataframe\">\n",
              "  <thead>\n",
              "    <tr style=\"text-align: right;\">\n",
              "      <th></th>\n",
              "      <th>province</th>\n",
              "      <th>population</th>\n",
              "      <th>year</th>\n",
              "      <th>debt</th>\n",
              "      <th>2nd_language</th>\n",
              "      <th>sum</th>\n",
              "    </tr>\n",
              "  </thead>\n",
              "  <tbody>\n",
              "    <tr>\n",
              "      <th>a</th>\n",
              "      <td>M</td>\n",
              "      <td>1500000.0</td>\n",
              "      <td>1900</td>\n",
              "      <td>10</td>\n",
              "      <td>NaN</td>\n",
              "      <td>1</td>\n",
              "    </tr>\n",
              "    <tr>\n",
              "      <th>b</th>\n",
              "      <td>M</td>\n",
              "      <td>2000000.0</td>\n",
              "      <td>1950</td>\n",
              "      <td>10</td>\n",
              "      <td>NaN</td>\n",
              "      <td>2</td>\n",
              "    </tr>\n",
              "    <tr>\n",
              "      <th>c</th>\n",
              "      <td>M</td>\n",
              "      <td>3000000.0</td>\n",
              "      <td>2000</td>\n",
              "      <td>10</td>\n",
              "      <td>NaN</td>\n",
              "      <td>3</td>\n",
              "    </tr>\n",
              "    <tr>\n",
              "      <th>d</th>\n",
              "      <td>B</td>\n",
              "      <td>500000.0</td>\n",
              "      <td>1900</td>\n",
              "      <td>10</td>\n",
              "      <td>NaN</td>\n",
              "      <td>5</td>\n",
              "    </tr>\n",
              "    <tr>\n",
              "      <th>e</th>\n",
              "      <td>B</td>\n",
              "      <td>1500000.0</td>\n",
              "      <td>2000</td>\n",
              "      <td>10</td>\n",
              "      <td>NaN</td>\n",
              "      <td>6</td>\n",
              "    </tr>\n",
              "  </tbody>\n",
              "</table>\n",
              "</div>"
            ],
            "text/plain": [
              "  province  population  year  debt  2nd_language  sum\n",
              "a        M   1500000.0  1900    10           NaN    1\n",
              "b        M   2000000.0  1950    10           NaN    2\n",
              "c        M   3000000.0  2000    10           NaN    3\n",
              "d        B    500000.0  1900    10           NaN    5\n",
              "e        B   1500000.0  2000    10           NaN    6"
            ]
          },
          "execution_count": 285,
          "metadata": {},
          "output_type": "execute_result"
        }
      ],
      "source": [
        "df2['debt'] = 10\n",
        "df2"
      ]
    },
    {
      "cell_type": "code",
      "execution_count": null,
      "metadata": {
        "id": "L69Jk7o0YYw1",
        "outputId": "5b058d72-39a1-4d90-81fd-90da0bcb2901"
      },
      "outputs": [
        {
          "data": {
            "text/html": [
              "<div>\n",
              "<style scoped>\n",
              "    .dataframe tbody tr th:only-of-type {\n",
              "        vertical-align: middle;\n",
              "    }\n",
              "\n",
              "    .dataframe tbody tr th {\n",
              "        vertical-align: top;\n",
              "    }\n",
              "\n",
              "    .dataframe thead th {\n",
              "        text-align: right;\n",
              "    }\n",
              "</style>\n",
              "<table border=\"1\" class=\"dataframe\">\n",
              "  <thead>\n",
              "    <tr style=\"text-align: right;\">\n",
              "      <th></th>\n",
              "      <th>province</th>\n",
              "      <th>population</th>\n",
              "      <th>year</th>\n",
              "      <th>debt</th>\n",
              "      <th>2nd_language</th>\n",
              "      <th>sum</th>\n",
              "    </tr>\n",
              "  </thead>\n",
              "  <tbody>\n",
              "    <tr>\n",
              "      <th>a</th>\n",
              "      <td>M</td>\n",
              "      <td>1500000.0</td>\n",
              "      <td>1900</td>\n",
              "      <td>1.0</td>\n",
              "      <td>NaN</td>\n",
              "      <td>1</td>\n",
              "    </tr>\n",
              "    <tr>\n",
              "      <th>b</th>\n",
              "      <td>M</td>\n",
              "      <td>2000000.0</td>\n",
              "      <td>1950</td>\n",
              "      <td>0.0</td>\n",
              "      <td>NaN</td>\n",
              "      <td>2</td>\n",
              "    </tr>\n",
              "    <tr>\n",
              "      <th>c</th>\n",
              "      <td>M</td>\n",
              "      <td>3000000.0</td>\n",
              "      <td>2000</td>\n",
              "      <td>2.0</td>\n",
              "      <td>NaN</td>\n",
              "      <td>3</td>\n",
              "    </tr>\n",
              "    <tr>\n",
              "      <th>d</th>\n",
              "      <td>B</td>\n",
              "      <td>500000.0</td>\n",
              "      <td>1900</td>\n",
              "      <td>0.5</td>\n",
              "      <td>NaN</td>\n",
              "      <td>5</td>\n",
              "    </tr>\n",
              "    <tr>\n",
              "      <th>e</th>\n",
              "      <td>B</td>\n",
              "      <td>1500000.0</td>\n",
              "      <td>2000</td>\n",
              "      <td>0.7</td>\n",
              "      <td>NaN</td>\n",
              "      <td>6</td>\n",
              "    </tr>\n",
              "  </tbody>\n",
              "</table>\n",
              "</div>"
            ],
            "text/plain": [
              "  province  population  year  debt  2nd_language  sum\n",
              "a        M   1500000.0  1900   1.0           NaN    1\n",
              "b        M   2000000.0  1950   0.0           NaN    2\n",
              "c        M   3000000.0  2000   2.0           NaN    3\n",
              "d        B    500000.0  1900   0.5           NaN    5\n",
              "e        B   1500000.0  2000   0.7           NaN    6"
            ]
          },
          "execution_count": 286,
          "metadata": {},
          "output_type": "execute_result"
        }
      ],
      "source": [
        "df2['debt'] = [1,0,2,.5,.7]\n",
        "df2"
      ]
    },
    {
      "cell_type": "code",
      "execution_count": null,
      "metadata": {
        "scrolled": true,
        "id": "BrqDFS2xYYw2",
        "outputId": "7239567a-d3d6-4238-e2b4-f171f7c0ba22"
      },
      "outputs": [
        {
          "data": {
            "text/html": [
              "<div>\n",
              "<style scoped>\n",
              "    .dataframe tbody tr th:only-of-type {\n",
              "        vertical-align: middle;\n",
              "    }\n",
              "\n",
              "    .dataframe tbody tr th {\n",
              "        vertical-align: top;\n",
              "    }\n",
              "\n",
              "    .dataframe thead th {\n",
              "        text-align: right;\n",
              "    }\n",
              "</style>\n",
              "<table border=\"1\" class=\"dataframe\">\n",
              "  <thead>\n",
              "    <tr style=\"text-align: right;\">\n",
              "      <th></th>\n",
              "      <th>province</th>\n",
              "      <th>population</th>\n",
              "      <th>year</th>\n",
              "      <th>debt</th>\n",
              "      <th>2nd_language</th>\n",
              "      <th>sum</th>\n",
              "      <th>capital</th>\n",
              "    </tr>\n",
              "  </thead>\n",
              "  <tbody>\n",
              "    <tr>\n",
              "      <th>a</th>\n",
              "      <td>M</td>\n",
              "      <td>1500000.0</td>\n",
              "      <td>1900</td>\n",
              "      <td>1.0</td>\n",
              "      <td>NaN</td>\n",
              "      <td>1</td>\n",
              "      <td>True</td>\n",
              "    </tr>\n",
              "    <tr>\n",
              "      <th>b</th>\n",
              "      <td>M</td>\n",
              "      <td>2000000.0</td>\n",
              "      <td>1950</td>\n",
              "      <td>0.0</td>\n",
              "      <td>NaN</td>\n",
              "      <td>2</td>\n",
              "      <td>True</td>\n",
              "    </tr>\n",
              "    <tr>\n",
              "      <th>c</th>\n",
              "      <td>M</td>\n",
              "      <td>3000000.0</td>\n",
              "      <td>2000</td>\n",
              "      <td>2.0</td>\n",
              "      <td>NaN</td>\n",
              "      <td>3</td>\n",
              "      <td>True</td>\n",
              "    </tr>\n",
              "    <tr>\n",
              "      <th>d</th>\n",
              "      <td>B</td>\n",
              "      <td>500000.0</td>\n",
              "      <td>1900</td>\n",
              "      <td>0.5</td>\n",
              "      <td>NaN</td>\n",
              "      <td>5</td>\n",
              "      <td>False</td>\n",
              "    </tr>\n",
              "    <tr>\n",
              "      <th>e</th>\n",
              "      <td>B</td>\n",
              "      <td>1500000.0</td>\n",
              "      <td>2000</td>\n",
              "      <td>0.7</td>\n",
              "      <td>NaN</td>\n",
              "      <td>6</td>\n",
              "      <td>False</td>\n",
              "    </tr>\n",
              "  </tbody>\n",
              "</table>\n",
              "</div>"
            ],
            "text/plain": [
              "  province  population  year  debt  2nd_language  sum  capital\n",
              "a        M   1500000.0  1900   1.0           NaN    1     True\n",
              "b        M   2000000.0  1950   0.0           NaN    2     True\n",
              "c        M   3000000.0  2000   2.0           NaN    3     True\n",
              "d        B    500000.0  1900   0.5           NaN    5    False\n",
              "e        B   1500000.0  2000   0.7           NaN    6    False"
            ]
          },
          "execution_count": 287,
          "metadata": {},
          "output_type": "execute_result"
        }
      ],
      "source": [
        "df2['capital'] = df2['province'] == 'M'\n",
        "df2"
      ]
    },
    {
      "cell_type": "code",
      "execution_count": null,
      "metadata": {
        "scrolled": true,
        "id": "t_BbYWC3YYw2",
        "outputId": "64c590a9-5e66-4076-81f0-4abce855110b"
      },
      "outputs": [
        {
          "data": {
            "text/html": [
              "<div>\n",
              "<style scoped>\n",
              "    .dataframe tbody tr th:only-of-type {\n",
              "        vertical-align: middle;\n",
              "    }\n",
              "\n",
              "    .dataframe tbody tr th {\n",
              "        vertical-align: top;\n",
              "    }\n",
              "\n",
              "    .dataframe thead th {\n",
              "        text-align: right;\n",
              "    }\n",
              "</style>\n",
              "<table border=\"1\" class=\"dataframe\">\n",
              "  <thead>\n",
              "    <tr style=\"text-align: right;\">\n",
              "      <th></th>\n",
              "      <th>a</th>\n",
              "      <th>b</th>\n",
              "      <th>c</th>\n",
              "      <th>d</th>\n",
              "      <th>e</th>\n",
              "    </tr>\n",
              "  </thead>\n",
              "  <tbody>\n",
              "    <tr>\n",
              "      <th>province</th>\n",
              "      <td>M</td>\n",
              "      <td>M</td>\n",
              "      <td>M</td>\n",
              "      <td>B</td>\n",
              "      <td>B</td>\n",
              "    </tr>\n",
              "    <tr>\n",
              "      <th>population</th>\n",
              "      <td>1.5e+06</td>\n",
              "      <td>2e+06</td>\n",
              "      <td>3e+06</td>\n",
              "      <td>500000</td>\n",
              "      <td>1.5e+06</td>\n",
              "    </tr>\n",
              "    <tr>\n",
              "      <th>year</th>\n",
              "      <td>1900</td>\n",
              "      <td>1950</td>\n",
              "      <td>2000</td>\n",
              "      <td>1900</td>\n",
              "      <td>2000</td>\n",
              "    </tr>\n",
              "    <tr>\n",
              "      <th>debt</th>\n",
              "      <td>1</td>\n",
              "      <td>0</td>\n",
              "      <td>2</td>\n",
              "      <td>0.5</td>\n",
              "      <td>0.7</td>\n",
              "    </tr>\n",
              "    <tr>\n",
              "      <th>2nd_language</th>\n",
              "      <td>NaN</td>\n",
              "      <td>NaN</td>\n",
              "      <td>NaN</td>\n",
              "      <td>NaN</td>\n",
              "      <td>NaN</td>\n",
              "    </tr>\n",
              "    <tr>\n",
              "      <th>sum</th>\n",
              "      <td>1</td>\n",
              "      <td>2</td>\n",
              "      <td>3</td>\n",
              "      <td>5</td>\n",
              "      <td>6</td>\n",
              "    </tr>\n",
              "    <tr>\n",
              "      <th>capital</th>\n",
              "      <td>True</td>\n",
              "      <td>True</td>\n",
              "      <td>True</td>\n",
              "      <td>False</td>\n",
              "      <td>False</td>\n",
              "    </tr>\n",
              "  </tbody>\n",
              "</table>\n",
              "</div>"
            ],
            "text/plain": [
              "                    a      b      c       d        e\n",
              "province            M      M      M       B        B\n",
              "population    1.5e+06  2e+06  3e+06  500000  1.5e+06\n",
              "year             1900   1950   2000    1900     2000\n",
              "debt                1      0      2     0.5      0.7\n",
              "2nd_language      NaN    NaN    NaN     NaN      NaN\n",
              "sum                 1      2      3       5        6\n",
              "capital          True   True   True   False    False"
            ]
          },
          "execution_count": 288,
          "metadata": {},
          "output_type": "execute_result"
        }
      ],
      "source": [
        "df2.T"
      ]
    },
    {
      "cell_type": "code",
      "execution_count": null,
      "metadata": {
        "id": "ZWi0v_4zYYw2",
        "outputId": "aba0faf5-ed34-47f5-cb76-80f5643be8a0"
      },
      "outputs": [
        {
          "data": {
            "text/html": [
              "<div>\n",
              "<style scoped>\n",
              "    .dataframe tbody tr th:only-of-type {\n",
              "        vertical-align: middle;\n",
              "    }\n",
              "\n",
              "    .dataframe tbody tr th {\n",
              "        vertical-align: top;\n",
              "    }\n",
              "\n",
              "    .dataframe thead th {\n",
              "        text-align: right;\n",
              "    }\n",
              "</style>\n",
              "<table border=\"1\" class=\"dataframe\">\n",
              "  <thead>\n",
              "    <tr style=\"text-align: right;\">\n",
              "      <th></th>\n",
              "      <th>province</th>\n",
              "      <th>population</th>\n",
              "      <th>year</th>\n",
              "      <th>debt</th>\n",
              "      <th>2nd_language</th>\n",
              "      <th>sum</th>\n",
              "      <th>capital</th>\n",
              "    </tr>\n",
              "  </thead>\n",
              "  <tbody>\n",
              "    <tr>\n",
              "      <th>a</th>\n",
              "      <td>M</td>\n",
              "      <td>1500000.0</td>\n",
              "      <td>1900</td>\n",
              "      <td>1.0</td>\n",
              "      <td>NaN</td>\n",
              "      <td>1</td>\n",
              "      <td>True</td>\n",
              "    </tr>\n",
              "    <tr>\n",
              "      <th>b</th>\n",
              "      <td>M</td>\n",
              "      <td>2000000.0</td>\n",
              "      <td>1950</td>\n",
              "      <td>0.0</td>\n",
              "      <td>NaN</td>\n",
              "      <td>2</td>\n",
              "      <td>True</td>\n",
              "    </tr>\n",
              "    <tr>\n",
              "      <th>c</th>\n",
              "      <td>M</td>\n",
              "      <td>3000000.0</td>\n",
              "      <td>2000</td>\n",
              "      <td>2.0</td>\n",
              "      <td>NaN</td>\n",
              "      <td>3</td>\n",
              "      <td>True</td>\n",
              "    </tr>\n",
              "    <tr>\n",
              "      <th>d</th>\n",
              "      <td>B</td>\n",
              "      <td>500000.0</td>\n",
              "      <td>1900</td>\n",
              "      <td>0.5</td>\n",
              "      <td>NaN</td>\n",
              "      <td>5</td>\n",
              "      <td>False</td>\n",
              "    </tr>\n",
              "    <tr>\n",
              "      <th>e</th>\n",
              "      <td>B</td>\n",
              "      <td>1500000.0</td>\n",
              "      <td>2000</td>\n",
              "      <td>0.7</td>\n",
              "      <td>NaN</td>\n",
              "      <td>6</td>\n",
              "      <td>False</td>\n",
              "    </tr>\n",
              "  </tbody>\n",
              "</table>\n",
              "</div>"
            ],
            "text/plain": [
              "  province  population  year  debt  2nd_language  sum  capital\n",
              "a        M   1500000.0  1900   1.0           NaN    1     True\n",
              "b        M   2000000.0  1950   0.0           NaN    2     True\n",
              "c        M   3000000.0  2000   2.0           NaN    3     True\n",
              "d        B    500000.0  1900   0.5           NaN    5    False\n",
              "e        B   1500000.0  2000   0.7           NaN    6    False"
            ]
          },
          "execution_count": 289,
          "metadata": {},
          "output_type": "execute_result"
        }
      ],
      "source": [
        "df2"
      ]
    },
    {
      "cell_type": "code",
      "execution_count": null,
      "metadata": {
        "id": "EYzNdy6EYYw3",
        "outputId": "691f0930-85e7-440f-cb66-6b9742bcd5e9"
      },
      "outputs": [
        {
          "data": {
            "text/html": [
              "<div>\n",
              "<style scoped>\n",
              "    .dataframe tbody tr th:only-of-type {\n",
              "        vertical-align: middle;\n",
              "    }\n",
              "\n",
              "    .dataframe tbody tr th {\n",
              "        vertical-align: top;\n",
              "    }\n",
              "\n",
              "    .dataframe thead th {\n",
              "        text-align: right;\n",
              "    }\n",
              "</style>\n",
              "<table border=\"1\" class=\"dataframe\">\n",
              "  <thead>\n",
              "    <tr style=\"text-align: right;\">\n",
              "      <th></th>\n",
              "      <th>population</th>\n",
              "      <th>year</th>\n",
              "      <th>debt</th>\n",
              "      <th>2nd_language</th>\n",
              "      <th>sum</th>\n",
              "    </tr>\n",
              "  </thead>\n",
              "  <tbody>\n",
              "    <tr>\n",
              "      <th>count</th>\n",
              "      <td>5.000000e+00</td>\n",
              "      <td>5.0</td>\n",
              "      <td>5.00000</td>\n",
              "      <td>0.0</td>\n",
              "      <td>5.000000</td>\n",
              "    </tr>\n",
              "    <tr>\n",
              "      <th>mean</th>\n",
              "      <td>1.700000e+06</td>\n",
              "      <td>1950.0</td>\n",
              "      <td>0.84000</td>\n",
              "      <td>NaN</td>\n",
              "      <td>3.400000</td>\n",
              "    </tr>\n",
              "    <tr>\n",
              "      <th>std</th>\n",
              "      <td>9.082951e+05</td>\n",
              "      <td>50.0</td>\n",
              "      <td>0.74364</td>\n",
              "      <td>NaN</td>\n",
              "      <td>2.073644</td>\n",
              "    </tr>\n",
              "    <tr>\n",
              "      <th>min</th>\n",
              "      <td>5.000000e+05</td>\n",
              "      <td>1900.0</td>\n",
              "      <td>0.00000</td>\n",
              "      <td>NaN</td>\n",
              "      <td>1.000000</td>\n",
              "    </tr>\n",
              "    <tr>\n",
              "      <th>25%</th>\n",
              "      <td>1.500000e+06</td>\n",
              "      <td>1900.0</td>\n",
              "      <td>0.50000</td>\n",
              "      <td>NaN</td>\n",
              "      <td>2.000000</td>\n",
              "    </tr>\n",
              "    <tr>\n",
              "      <th>50%</th>\n",
              "      <td>1.500000e+06</td>\n",
              "      <td>1950.0</td>\n",
              "      <td>0.70000</td>\n",
              "      <td>NaN</td>\n",
              "      <td>3.000000</td>\n",
              "    </tr>\n",
              "    <tr>\n",
              "      <th>75%</th>\n",
              "      <td>2.000000e+06</td>\n",
              "      <td>2000.0</td>\n",
              "      <td>1.00000</td>\n",
              "      <td>NaN</td>\n",
              "      <td>5.000000</td>\n",
              "    </tr>\n",
              "    <tr>\n",
              "      <th>max</th>\n",
              "      <td>3.000000e+06</td>\n",
              "      <td>2000.0</td>\n",
              "      <td>2.00000</td>\n",
              "      <td>NaN</td>\n",
              "      <td>6.000000</td>\n",
              "    </tr>\n",
              "  </tbody>\n",
              "</table>\n",
              "</div>"
            ],
            "text/plain": [
              "         population    year     debt  2nd_language       sum\n",
              "count  5.000000e+00     5.0  5.00000           0.0  5.000000\n",
              "mean   1.700000e+06  1950.0  0.84000           NaN  3.400000\n",
              "std    9.082951e+05    50.0  0.74364           NaN  2.073644\n",
              "min    5.000000e+05  1900.0  0.00000           NaN  1.000000\n",
              "25%    1.500000e+06  1900.0  0.50000           NaN  2.000000\n",
              "50%    1.500000e+06  1950.0  0.70000           NaN  3.000000\n",
              "75%    2.000000e+06  2000.0  1.00000           NaN  5.000000\n",
              "max    3.000000e+06  2000.0  2.00000           NaN  6.000000"
            ]
          },
          "execution_count": 290,
          "metadata": {},
          "output_type": "execute_result"
        }
      ],
      "source": [
        "df2.describe()"
      ]
    },
    {
      "cell_type": "code",
      "execution_count": null,
      "metadata": {
        "id": "wywR6RHDYYw3",
        "outputId": "2e4c7a91-0e0b-4d2b-a55d-3ef8abf15803"
      },
      "outputs": [
        {
          "data": {
            "text/html": [
              "<div>\n",
              "<style scoped>\n",
              "    .dataframe tbody tr th:only-of-type {\n",
              "        vertical-align: middle;\n",
              "    }\n",
              "\n",
              "    .dataframe tbody tr th {\n",
              "        vertical-align: top;\n",
              "    }\n",
              "\n",
              "    .dataframe thead th {\n",
              "        text-align: right;\n",
              "    }\n",
              "</style>\n",
              "<table border=\"1\" class=\"dataframe\">\n",
              "  <thead>\n",
              "    <tr style=\"text-align: right;\">\n",
              "      <th></th>\n",
              "      <th>count</th>\n",
              "      <th>mean</th>\n",
              "      <th>std</th>\n",
              "      <th>min</th>\n",
              "      <th>25%</th>\n",
              "      <th>50%</th>\n",
              "      <th>75%</th>\n",
              "      <th>max</th>\n",
              "    </tr>\n",
              "  </thead>\n",
              "  <tbody>\n",
              "    <tr>\n",
              "      <th>population</th>\n",
              "      <td>5.0</td>\n",
              "      <td>1700000.00</td>\n",
              "      <td>908295.106229</td>\n",
              "      <td>500000.0</td>\n",
              "      <td>1500000.0</td>\n",
              "      <td>1500000.0</td>\n",
              "      <td>2000000.0</td>\n",
              "      <td>3000000.0</td>\n",
              "    </tr>\n",
              "    <tr>\n",
              "      <th>year</th>\n",
              "      <td>5.0</td>\n",
              "      <td>1950.00</td>\n",
              "      <td>50.000000</td>\n",
              "      <td>1900.0</td>\n",
              "      <td>1900.0</td>\n",
              "      <td>1950.0</td>\n",
              "      <td>2000.0</td>\n",
              "      <td>2000.0</td>\n",
              "    </tr>\n",
              "    <tr>\n",
              "      <th>debt</th>\n",
              "      <td>5.0</td>\n",
              "      <td>0.84</td>\n",
              "      <td>0.743640</td>\n",
              "      <td>0.0</td>\n",
              "      <td>0.5</td>\n",
              "      <td>0.7</td>\n",
              "      <td>1.0</td>\n",
              "      <td>2.0</td>\n",
              "    </tr>\n",
              "    <tr>\n",
              "      <th>2nd_language</th>\n",
              "      <td>0.0</td>\n",
              "      <td>NaN</td>\n",
              "      <td>NaN</td>\n",
              "      <td>NaN</td>\n",
              "      <td>NaN</td>\n",
              "      <td>NaN</td>\n",
              "      <td>NaN</td>\n",
              "      <td>NaN</td>\n",
              "    </tr>\n",
              "  </tbody>\n",
              "</table>\n",
              "</div>"
            ],
            "text/plain": [
              "              count        mean            std       min        25%  \\\n",
              "population      5.0  1700000.00  908295.106229  500000.0  1500000.0   \n",
              "year            5.0     1950.00      50.000000    1900.0     1900.0   \n",
              "debt            5.0        0.84       0.743640       0.0        0.5   \n",
              "2nd_language    0.0         NaN            NaN       NaN        NaN   \n",
              "\n",
              "                    50%        75%        max  \n",
              "population    1500000.0  2000000.0  3000000.0  \n",
              "year             1950.0     2000.0     2000.0  \n",
              "debt                0.7        1.0        2.0  \n",
              "2nd_language        NaN        NaN        NaN  "
            ]
          },
          "execution_count": 175,
          "metadata": {},
          "output_type": "execute_result"
        }
      ],
      "source": [
        "df2.describe().T"
      ]
    },
    {
      "cell_type": "markdown",
      "metadata": {
        "id": "TeZgJiHKYYw3"
      },
      "source": [
        "### Index objects\n",
        "\n",
        "Indexes are immutable."
      ]
    },
    {
      "cell_type": "code",
      "execution_count": null,
      "metadata": {
        "id": "8-nwM_fBYYw4",
        "outputId": "0226d8b4-7bc5-4dc6-8e79-cbaef0dbef15"
      },
      "outputs": [
        {
          "ename": "TypeError",
          "evalue": "Index does not support mutable operations",
          "output_type": "error",
          "traceback": [
            "\u001b[0;31m---------------------------------------------------------------------------\u001b[0m",
            "\u001b[0;31mTypeError\u001b[0m                                 Traceback (most recent call last)",
            "\u001b[0;32m<ipython-input-291-32edd7626686>\u001b[0m in \u001b[0;36m<module>\u001b[0;34m\u001b[0m\n\u001b[0;32m----> 1\u001b[0;31m \u001b[0mdf2\u001b[0m\u001b[0;34m.\u001b[0m\u001b[0mindex\u001b[0m\u001b[0;34m[\u001b[0m\u001b[0;36m1\u001b[0m\u001b[0;34m]\u001b[0m \u001b[0;34m=\u001b[0m \u001b[0;34m'x'\u001b[0m\u001b[0;34m\u001b[0m\u001b[0;34m\u001b[0m\u001b[0m\n\u001b[0m",
            "\u001b[0;32m~/anaconda3/envs/master2019/lib/python3.6/site-packages/pandas/core/indexes/base.py\u001b[0m in \u001b[0;36m__setitem__\u001b[0;34m(self, key, value)\u001b[0m\n\u001b[1;32m   3935\u001b[0m \u001b[0;34m\u001b[0m\u001b[0m\n\u001b[1;32m   3936\u001b[0m     \u001b[0;32mdef\u001b[0m \u001b[0m__setitem__\u001b[0m\u001b[0;34m(\u001b[0m\u001b[0mself\u001b[0m\u001b[0;34m,\u001b[0m \u001b[0mkey\u001b[0m\u001b[0;34m,\u001b[0m \u001b[0mvalue\u001b[0m\u001b[0;34m)\u001b[0m\u001b[0;34m:\u001b[0m\u001b[0;34m\u001b[0m\u001b[0;34m\u001b[0m\u001b[0m\n\u001b[0;32m-> 3937\u001b[0;31m         \u001b[0;32mraise\u001b[0m \u001b[0mTypeError\u001b[0m\u001b[0;34m(\u001b[0m\u001b[0;34m\"Index does not support mutable operations\"\u001b[0m\u001b[0;34m)\u001b[0m\u001b[0;34m\u001b[0m\u001b[0;34m\u001b[0m\u001b[0m\n\u001b[0m\u001b[1;32m   3938\u001b[0m \u001b[0;34m\u001b[0m\u001b[0m\n\u001b[1;32m   3939\u001b[0m     \u001b[0;32mdef\u001b[0m \u001b[0m__getitem__\u001b[0m\u001b[0;34m(\u001b[0m\u001b[0mself\u001b[0m\u001b[0;34m,\u001b[0m \u001b[0mkey\u001b[0m\u001b[0;34m)\u001b[0m\u001b[0;34m:\u001b[0m\u001b[0;34m\u001b[0m\u001b[0;34m\u001b[0m\u001b[0m\n",
            "\u001b[0;31mTypeError\u001b[0m: Index does not support mutable operations"
          ]
        }
      ],
      "source": [
        "df2.index[1] = 'x'"
      ]
    },
    {
      "cell_type": "code",
      "execution_count": null,
      "metadata": {
        "id": "Cut3eh55YYw4",
        "outputId": "dfcac6ae-37e6-4d83-b0c6-55ebb8e6747b"
      },
      "outputs": [
        {
          "data": {
            "text/plain": [
              "'b'"
            ]
          },
          "execution_count": 292,
          "metadata": {},
          "output_type": "execute_result"
        }
      ],
      "source": [
        "df2.index[1]"
      ]
    },
    {
      "cell_type": "code",
      "execution_count": null,
      "metadata": {
        "id": "-MKjUhccYYw5",
        "outputId": "7c29b8c9-2f3f-4129-efef-50d0e4fe502f"
      },
      "outputs": [
        {
          "data": {
            "text/html": [
              "<div>\n",
              "<style scoped>\n",
              "    .dataframe tbody tr th:only-of-type {\n",
              "        vertical-align: middle;\n",
              "    }\n",
              "\n",
              "    .dataframe tbody tr th {\n",
              "        vertical-align: top;\n",
              "    }\n",
              "\n",
              "    .dataframe thead th {\n",
              "        text-align: right;\n",
              "    }\n",
              "</style>\n",
              "<table border=\"1\" class=\"dataframe\">\n",
              "  <thead>\n",
              "    <tr style=\"text-align: right;\">\n",
              "      <th></th>\n",
              "      <th>province</th>\n",
              "      <th>population</th>\n",
              "      <th>year</th>\n",
              "      <th>debt</th>\n",
              "      <th>2nd_language</th>\n",
              "      <th>sum</th>\n",
              "      <th>capital</th>\n",
              "    </tr>\n",
              "  </thead>\n",
              "  <tbody>\n",
              "    <tr>\n",
              "      <th>c</th>\n",
              "      <td>M</td>\n",
              "      <td>3000000.0</td>\n",
              "      <td>2000</td>\n",
              "      <td>2.0</td>\n",
              "      <td>NaN</td>\n",
              "      <td>3</td>\n",
              "      <td>True</td>\n",
              "    </tr>\n",
              "    <tr>\n",
              "      <th>d</th>\n",
              "      <td>B</td>\n",
              "      <td>500000.0</td>\n",
              "      <td>1900</td>\n",
              "      <td>0.5</td>\n",
              "      <td>NaN</td>\n",
              "      <td>5</td>\n",
              "      <td>False</td>\n",
              "    </tr>\n",
              "    <tr>\n",
              "      <th>e</th>\n",
              "      <td>B</td>\n",
              "      <td>1500000.0</td>\n",
              "      <td>2000</td>\n",
              "      <td>0.7</td>\n",
              "      <td>NaN</td>\n",
              "      <td>6</td>\n",
              "      <td>False</td>\n",
              "    </tr>\n",
              "  </tbody>\n",
              "</table>\n",
              "</div>"
            ],
            "text/plain": [
              "  province  population  year  debt  2nd_language  sum  capital\n",
              "c        M   3000000.0  2000   2.0           NaN    3     True\n",
              "d        B    500000.0  1900   0.5           NaN    5    False\n",
              "e        B   1500000.0  2000   0.7           NaN    6    False"
            ]
          },
          "execution_count": 293,
          "metadata": {},
          "output_type": "execute_result"
        }
      ],
      "source": [
        "df2.iloc[2:]"
      ]
    },
    {
      "cell_type": "code",
      "execution_count": null,
      "metadata": {
        "id": "sRSjwi52YYw5"
      },
      "outputs": [],
      "source": [
        ""
      ]
    },
    {
      "cell_type": "markdown",
      "metadata": {
        "id": "yWrt9gE5YYw5"
      },
      "source": [
        "### Dropping entries from an axis"
      ]
    },
    {
      "cell_type": "code",
      "execution_count": null,
      "metadata": {
        "id": "jpq1ep7lYYw5",
        "outputId": "a73e727c-47f9-4224-d966-931693f415e6"
      },
      "outputs": [
        {
          "data": {
            "text/plain": [
              "j    0\n",
              "d    1\n",
              "u    2\n",
              "v    3\n",
              "k    4\n",
              "dtype: int64"
            ]
          },
          "execution_count": 294,
          "metadata": {},
          "output_type": "execute_result"
        }
      ],
      "source": [
        "s5 = pd.Series(np.arange(5), list('jduvk'))\n",
        "s5"
      ]
    },
    {
      "cell_type": "code",
      "execution_count": null,
      "metadata": {
        "id": "F8Krcm_MYYw5",
        "outputId": "bc16dc55-d545-4efc-a1bc-aef67a633b85"
      },
      "outputs": [
        {
          "data": {
            "text/plain": [
              "j    0\n",
              "u    2\n",
              "v    3\n",
              "dtype: int64"
            ]
          },
          "execution_count": 295,
          "metadata": {},
          "output_type": "execute_result"
        }
      ],
      "source": [
        "s6 = s5.drop(['d','k'])\n",
        "s6"
      ]
    },
    {
      "cell_type": "code",
      "execution_count": null,
      "metadata": {
        "id": "uAcfo4GEYYw6",
        "outputId": "a0ec2a74-dd9b-40eb-e311-d0fc32577d77"
      },
      "outputs": [
        {
          "data": {
            "text/plain": [
              "j    0\n",
              "d    1\n",
              "u    2\n",
              "v    3\n",
              "k    4\n",
              "dtype: int64"
            ]
          },
          "execution_count": 296,
          "metadata": {},
          "output_type": "execute_result"
        }
      ],
      "source": [
        "s5"
      ]
    },
    {
      "cell_type": "code",
      "execution_count": null,
      "metadata": {
        "id": "Nqda5cJ8YYw6",
        "outputId": "17629cf6-afc7-417c-c8eb-0a964a8aa749"
      },
      "outputs": [
        {
          "data": {
            "text/plain": [
              "j    0\n",
              "u    2\n",
              "v    3\n",
              "dtype: int64"
            ]
          },
          "execution_count": 297,
          "metadata": {},
          "output_type": "execute_result"
        }
      ],
      "source": [
        "s5.drop(['d','k'],inplace=False)"
      ]
    },
    {
      "cell_type": "code",
      "execution_count": null,
      "metadata": {
        "id": "k6tlsZB6YYw6",
        "outputId": "6d350d9a-8d24-49e9-b1d1-e96046f577ee"
      },
      "outputs": [
        {
          "data": {
            "text/plain": [
              "j    0\n",
              "d    1\n",
              "u    2\n",
              "v    3\n",
              "k    4\n",
              "dtype: int64"
            ]
          },
          "execution_count": 298,
          "metadata": {},
          "output_type": "execute_result"
        }
      ],
      "source": [
        "s5"
      ]
    },
    {
      "cell_type": "markdown",
      "metadata": {
        "id": "i6M7HFABYYw6"
      },
      "source": [
        "By default, `drop()` doesn't modify the original Series- it creates a copy. We can change that with the argument `inplace`."
      ]
    },
    {
      "cell_type": "code",
      "execution_count": null,
      "metadata": {
        "id": "OSpkdTvQYYw6",
        "outputId": "ca39eed9-0273-4622-dfb1-96507fa8857d"
      },
      "outputs": [
        {
          "data": {
            "text/plain": [
              "j    0\n",
              "d    1\n",
              "u    2\n",
              "v    3\n",
              "k    4\n",
              "dtype: int64"
            ]
          },
          "execution_count": 299,
          "metadata": {},
          "output_type": "execute_result"
        }
      ],
      "source": [
        "s5"
      ]
    },
    {
      "cell_type": "code",
      "execution_count": null,
      "metadata": {
        "id": "9sKJWsTkYYw7",
        "outputId": "5b27774d-f4a8-45ce-a932-b2b32866b4d1"
      },
      "outputs": [
        {
          "data": {
            "text/plain": [
              "j    0\n",
              "d    1\n",
              "u    2\n",
              "v    3\n",
              "k    4\n",
              "dtype: int64"
            ]
          },
          "execution_count": 300,
          "metadata": {},
          "output_type": "execute_result"
        }
      ],
      "source": [
        "s6['u'] = 7\n",
        "s5"
      ]
    },
    {
      "cell_type": "code",
      "execution_count": null,
      "metadata": {
        "id": "UXccflLvYYw7",
        "outputId": "25024fcc-18cc-4e74-b39a-33ad2a251dbc"
      },
      "outputs": [
        {
          "data": {
            "text/html": [
              "<div>\n",
              "<style scoped>\n",
              "    .dataframe tbody tr th:only-of-type {\n",
              "        vertical-align: middle;\n",
              "    }\n",
              "\n",
              "    .dataframe tbody tr th {\n",
              "        vertical-align: top;\n",
              "    }\n",
              "\n",
              "    .dataframe thead th {\n",
              "        text-align: right;\n",
              "    }\n",
              "</style>\n",
              "<table border=\"1\" class=\"dataframe\">\n",
              "  <thead>\n",
              "    <tr style=\"text-align: right;\">\n",
              "      <th></th>\n",
              "      <th>province</th>\n",
              "      <th>population</th>\n",
              "      <th>year</th>\n",
              "      <th>debt</th>\n",
              "      <th>2nd_language</th>\n",
              "      <th>sum</th>\n",
              "      <th>capital</th>\n",
              "    </tr>\n",
              "  </thead>\n",
              "  <tbody>\n",
              "    <tr>\n",
              "      <th>a</th>\n",
              "      <td>M</td>\n",
              "      <td>1500000.0</td>\n",
              "      <td>1900</td>\n",
              "      <td>1.0</td>\n",
              "      <td>NaN</td>\n",
              "      <td>1</td>\n",
              "      <td>True</td>\n",
              "    </tr>\n",
              "    <tr>\n",
              "      <th>b</th>\n",
              "      <td>M</td>\n",
              "      <td>2000000.0</td>\n",
              "      <td>1950</td>\n",
              "      <td>0.0</td>\n",
              "      <td>NaN</td>\n",
              "      <td>2</td>\n",
              "      <td>True</td>\n",
              "    </tr>\n",
              "    <tr>\n",
              "      <th>c</th>\n",
              "      <td>M</td>\n",
              "      <td>3000000.0</td>\n",
              "      <td>2000</td>\n",
              "      <td>2.0</td>\n",
              "      <td>NaN</td>\n",
              "      <td>3</td>\n",
              "      <td>True</td>\n",
              "    </tr>\n",
              "    <tr>\n",
              "      <th>d</th>\n",
              "      <td>B</td>\n",
              "      <td>500000.0</td>\n",
              "      <td>1900</td>\n",
              "      <td>0.5</td>\n",
              "      <td>NaN</td>\n",
              "      <td>5</td>\n",
              "      <td>False</td>\n",
              "    </tr>\n",
              "    <tr>\n",
              "      <th>e</th>\n",
              "      <td>B</td>\n",
              "      <td>1500000.0</td>\n",
              "      <td>2000</td>\n",
              "      <td>0.7</td>\n",
              "      <td>NaN</td>\n",
              "      <td>6</td>\n",
              "      <td>False</td>\n",
              "    </tr>\n",
              "  </tbody>\n",
              "</table>\n",
              "</div>"
            ],
            "text/plain": [
              "  province  population  year  debt  2nd_language  sum  capital\n",
              "a        M   1500000.0  1900   1.0           NaN    1     True\n",
              "b        M   2000000.0  1950   0.0           NaN    2     True\n",
              "c        M   3000000.0  2000   2.0           NaN    3     True\n",
              "d        B    500000.0  1900   0.5           NaN    5    False\n",
              "e        B   1500000.0  2000   0.7           NaN    6    False"
            ]
          },
          "execution_count": 301,
          "metadata": {},
          "output_type": "execute_result"
        }
      ],
      "source": [
        "df2"
      ]
    },
    {
      "cell_type": "code",
      "execution_count": null,
      "metadata": {
        "id": "iKMX6eT8YYw8",
        "outputId": "ce45c91e-90df-4d5d-f0a4-dce7d97dfc07"
      },
      "outputs": [
        {
          "data": {
            "text/html": [
              "<div>\n",
              "<style scoped>\n",
              "    .dataframe tbody tr th:only-of-type {\n",
              "        vertical-align: middle;\n",
              "    }\n",
              "\n",
              "    .dataframe tbody tr th {\n",
              "        vertical-align: top;\n",
              "    }\n",
              "\n",
              "    .dataframe thead th {\n",
              "        text-align: right;\n",
              "    }\n",
              "</style>\n",
              "<table border=\"1\" class=\"dataframe\">\n",
              "  <thead>\n",
              "    <tr style=\"text-align: right;\">\n",
              "      <th></th>\n",
              "      <th>province</th>\n",
              "      <th>population</th>\n",
              "      <th>year</th>\n",
              "      <th>debt</th>\n",
              "      <th>2nd_language</th>\n",
              "      <th>sum</th>\n",
              "      <th>capital</th>\n",
              "    </tr>\n",
              "  </thead>\n",
              "  <tbody>\n",
              "    <tr>\n",
              "      <th>a</th>\n",
              "      <td>M</td>\n",
              "      <td>1500000.0</td>\n",
              "      <td>1900</td>\n",
              "      <td>1.0</td>\n",
              "      <td>NaN</td>\n",
              "      <td>1</td>\n",
              "      <td>True</td>\n",
              "    </tr>\n",
              "    <tr>\n",
              "      <th>b</th>\n",
              "      <td>M</td>\n",
              "      <td>2000000.0</td>\n",
              "      <td>1950</td>\n",
              "      <td>0.0</td>\n",
              "      <td>NaN</td>\n",
              "      <td>2</td>\n",
              "      <td>True</td>\n",
              "    </tr>\n",
              "    <tr>\n",
              "      <th>d</th>\n",
              "      <td>B</td>\n",
              "      <td>500000.0</td>\n",
              "      <td>1900</td>\n",
              "      <td>0.5</td>\n",
              "      <td>NaN</td>\n",
              "      <td>5</td>\n",
              "      <td>False</td>\n",
              "    </tr>\n",
              "    <tr>\n",
              "      <th>e</th>\n",
              "      <td>B</td>\n",
              "      <td>1500000.0</td>\n",
              "      <td>2000</td>\n",
              "      <td>0.7</td>\n",
              "      <td>NaN</td>\n",
              "      <td>6</td>\n",
              "      <td>False</td>\n",
              "    </tr>\n",
              "  </tbody>\n",
              "</table>\n",
              "</div>"
            ],
            "text/plain": [
              "  province  population  year  debt  2nd_language  sum  capital\n",
              "a        M   1500000.0  1900   1.0           NaN    1     True\n",
              "b        M   2000000.0  1950   0.0           NaN    2     True\n",
              "d        B    500000.0  1900   0.5           NaN    5    False\n",
              "e        B   1500000.0  2000   0.7           NaN    6    False"
            ]
          },
          "execution_count": 302,
          "metadata": {},
          "output_type": "execute_result"
        }
      ],
      "source": [
        "df2.drop('c')"
      ]
    },
    {
      "cell_type": "code",
      "execution_count": null,
      "metadata": {
        "id": "hGasp7_yYYw8",
        "outputId": "526a2542-1797-4210-ee2a-175cf7dcb7cb"
      },
      "outputs": [
        {
          "data": {
            "text/html": [
              "<div>\n",
              "<style scoped>\n",
              "    .dataframe tbody tr th:only-of-type {\n",
              "        vertical-align: middle;\n",
              "    }\n",
              "\n",
              "    .dataframe tbody tr th {\n",
              "        vertical-align: top;\n",
              "    }\n",
              "\n",
              "    .dataframe thead th {\n",
              "        text-align: right;\n",
              "    }\n",
              "</style>\n",
              "<table border=\"1\" class=\"dataframe\">\n",
              "  <thead>\n",
              "    <tr style=\"text-align: right;\">\n",
              "      <th></th>\n",
              "      <th>province</th>\n",
              "      <th>population</th>\n",
              "      <th>year</th>\n",
              "      <th>debt</th>\n",
              "      <th>2nd_language</th>\n",
              "      <th>sum</th>\n",
              "      <th>capital</th>\n",
              "    </tr>\n",
              "  </thead>\n",
              "  <tbody>\n",
              "    <tr>\n",
              "      <th>a</th>\n",
              "      <td>M</td>\n",
              "      <td>1500000.0</td>\n",
              "      <td>1900</td>\n",
              "      <td>1.0</td>\n",
              "      <td>NaN</td>\n",
              "      <td>1</td>\n",
              "      <td>True</td>\n",
              "    </tr>\n",
              "    <tr>\n",
              "      <th>b</th>\n",
              "      <td>M</td>\n",
              "      <td>2000000.0</td>\n",
              "      <td>1950</td>\n",
              "      <td>0.0</td>\n",
              "      <td>NaN</td>\n",
              "      <td>2</td>\n",
              "      <td>True</td>\n",
              "    </tr>\n",
              "    <tr>\n",
              "      <th>c</th>\n",
              "      <td>M</td>\n",
              "      <td>3000000.0</td>\n",
              "      <td>2000</td>\n",
              "      <td>2.0</td>\n",
              "      <td>NaN</td>\n",
              "      <td>3</td>\n",
              "      <td>True</td>\n",
              "    </tr>\n",
              "    <tr>\n",
              "      <th>d</th>\n",
              "      <td>B</td>\n",
              "      <td>500000.0</td>\n",
              "      <td>1900</td>\n",
              "      <td>0.5</td>\n",
              "      <td>NaN</td>\n",
              "      <td>5</td>\n",
              "      <td>False</td>\n",
              "    </tr>\n",
              "    <tr>\n",
              "      <th>e</th>\n",
              "      <td>B</td>\n",
              "      <td>1500000.0</td>\n",
              "      <td>2000</td>\n",
              "      <td>0.7</td>\n",
              "      <td>NaN</td>\n",
              "      <td>6</td>\n",
              "      <td>False</td>\n",
              "    </tr>\n",
              "  </tbody>\n",
              "</table>\n",
              "</div>"
            ],
            "text/plain": [
              "  province  population  year  debt  2nd_language  sum  capital\n",
              "a        M   1500000.0  1900   1.0           NaN    1     True\n",
              "b        M   2000000.0  1950   0.0           NaN    2     True\n",
              "c        M   3000000.0  2000   2.0           NaN    3     True\n",
              "d        B    500000.0  1900   0.5           NaN    5    False\n",
              "e        B   1500000.0  2000   0.7           NaN    6    False"
            ]
          },
          "execution_count": 303,
          "metadata": {},
          "output_type": "execute_result"
        }
      ],
      "source": [
        "df2"
      ]
    },
    {
      "cell_type": "code",
      "execution_count": null,
      "metadata": {
        "id": "0Shg4DTcYYw8",
        "outputId": "3dca44e9-1e8e-42ff-9e96-5ecc273e554d"
      },
      "outputs": [
        {
          "data": {
            "text/html": [
              "<div>\n",
              "<style scoped>\n",
              "    .dataframe tbody tr th:only-of-type {\n",
              "        vertical-align: middle;\n",
              "    }\n",
              "\n",
              "    .dataframe tbody tr th {\n",
              "        vertical-align: top;\n",
              "    }\n",
              "\n",
              "    .dataframe thead th {\n",
              "        text-align: right;\n",
              "    }\n",
              "</style>\n",
              "<table border=\"1\" class=\"dataframe\">\n",
              "  <thead>\n",
              "    <tr style=\"text-align: right;\">\n",
              "      <th></th>\n",
              "      <th>province</th>\n",
              "      <th>population</th>\n",
              "      <th>year</th>\n",
              "      <th>debt</th>\n",
              "      <th>2nd_language</th>\n",
              "      <th>sum</th>\n",
              "      <th>capital</th>\n",
              "    </tr>\n",
              "  </thead>\n",
              "  <tbody>\n",
              "    <tr>\n",
              "      <th>a</th>\n",
              "      <td>M</td>\n",
              "      <td>1500000.0</td>\n",
              "      <td>1900</td>\n",
              "      <td>1.0</td>\n",
              "      <td>NaN</td>\n",
              "      <td>1</td>\n",
              "      <td>True</td>\n",
              "    </tr>\n",
              "    <tr>\n",
              "      <th>b</th>\n",
              "      <td>M</td>\n",
              "      <td>2000000.0</td>\n",
              "      <td>1950</td>\n",
              "      <td>0.0</td>\n",
              "      <td>NaN</td>\n",
              "      <td>2</td>\n",
              "      <td>True</td>\n",
              "    </tr>\n",
              "    <tr>\n",
              "      <th>d</th>\n",
              "      <td>B</td>\n",
              "      <td>500000.0</td>\n",
              "      <td>1900</td>\n",
              "      <td>0.5</td>\n",
              "      <td>NaN</td>\n",
              "      <td>5</td>\n",
              "      <td>False</td>\n",
              "    </tr>\n",
              "    <tr>\n",
              "      <th>e</th>\n",
              "      <td>B</td>\n",
              "      <td>1500000.0</td>\n",
              "      <td>2000</td>\n",
              "      <td>0.7</td>\n",
              "      <td>NaN</td>\n",
              "      <td>6</td>\n",
              "      <td>False</td>\n",
              "    </tr>\n",
              "  </tbody>\n",
              "</table>\n",
              "</div>"
            ],
            "text/plain": [
              "  province  population  year  debt  2nd_language  sum  capital\n",
              "a        M   1500000.0  1900   1.0           NaN    1     True\n",
              "b        M   2000000.0  1950   0.0           NaN    2     True\n",
              "d        B    500000.0  1900   0.5           NaN    5    False\n",
              "e        B   1500000.0  2000   0.7           NaN    6    False"
            ]
          },
          "execution_count": 304,
          "metadata": {},
          "output_type": "execute_result"
        }
      ],
      "source": [
        "df2.drop('c')"
      ]
    },
    {
      "cell_type": "code",
      "execution_count": null,
      "metadata": {
        "id": "GFAUfKR6YYw9",
        "outputId": "f58f8f19-dcc6-40a4-fa4a-fd5ff9620866"
      },
      "outputs": [
        {
          "data": {
            "text/plain": [
              "province          MMMBB\n",
              "population      8.5e+06\n",
              "year               9750\n",
              "debt                4.2\n",
              "2nd_language          0\n",
              "sum                  17\n",
              "capital               3\n",
              "dtype: object"
            ]
          },
          "execution_count": 305,
          "metadata": {},
          "output_type": "execute_result"
        }
      ],
      "source": [
        "df2.sum()"
      ]
    },
    {
      "cell_type": "code",
      "execution_count": null,
      "metadata": {
        "id": "LT5SULaQYYw9",
        "outputId": "287d9145-155d-4fcd-ef3d-76f9403ddbf6"
      },
      "outputs": [
        {
          "data": {
            "text/html": [
              "<div>\n",
              "<style scoped>\n",
              "    .dataframe tbody tr th:only-of-type {\n",
              "        vertical-align: middle;\n",
              "    }\n",
              "\n",
              "    .dataframe tbody tr th {\n",
              "        vertical-align: top;\n",
              "    }\n",
              "\n",
              "    .dataframe thead th {\n",
              "        text-align: right;\n",
              "    }\n",
              "</style>\n",
              "<table border=\"1\" class=\"dataframe\">\n",
              "  <thead>\n",
              "    <tr style=\"text-align: right;\">\n",
              "      <th></th>\n",
              "      <th>province</th>\n",
              "      <th>population</th>\n",
              "      <th>year</th>\n",
              "      <th>debt</th>\n",
              "      <th>capital</th>\n",
              "    </tr>\n",
              "  </thead>\n",
              "  <tbody>\n",
              "    <tr>\n",
              "      <th>a</th>\n",
              "      <td>M</td>\n",
              "      <td>1500000.0</td>\n",
              "      <td>1900</td>\n",
              "      <td>1.0</td>\n",
              "      <td>True</td>\n",
              "    </tr>\n",
              "    <tr>\n",
              "      <th>b</th>\n",
              "      <td>M</td>\n",
              "      <td>2000000.0</td>\n",
              "      <td>1950</td>\n",
              "      <td>0.0</td>\n",
              "      <td>True</td>\n",
              "    </tr>\n",
              "    <tr>\n",
              "      <th>c</th>\n",
              "      <td>M</td>\n",
              "      <td>3000000.0</td>\n",
              "      <td>2000</td>\n",
              "      <td>2.0</td>\n",
              "      <td>True</td>\n",
              "    </tr>\n",
              "    <tr>\n",
              "      <th>d</th>\n",
              "      <td>B</td>\n",
              "      <td>500000.0</td>\n",
              "      <td>1900</td>\n",
              "      <td>0.5</td>\n",
              "      <td>False</td>\n",
              "    </tr>\n",
              "    <tr>\n",
              "      <th>e</th>\n",
              "      <td>B</td>\n",
              "      <td>1500000.0</td>\n",
              "      <td>2000</td>\n",
              "      <td>0.7</td>\n",
              "      <td>False</td>\n",
              "    </tr>\n",
              "  </tbody>\n",
              "</table>\n",
              "</div>"
            ],
            "text/plain": [
              "  province  population  year  debt  capital\n",
              "a        M   1500000.0  1900   1.0     True\n",
              "b        M   2000000.0  1950   0.0     True\n",
              "c        M   3000000.0  2000   2.0     True\n",
              "d        B    500000.0  1900   0.5    False\n",
              "e        B   1500000.0  2000   0.7    False"
            ]
          },
          "execution_count": 190,
          "metadata": {},
          "output_type": "execute_result"
        }
      ],
      "source": [
        "df2.drop('2nd_language', axis=1)"
      ]
    },
    {
      "cell_type": "code",
      "execution_count": null,
      "metadata": {
        "id": "-Gf7mc_QYYw9"
      },
      "outputs": [],
      "source": [
        "df3 = df2.drop('2nd_language', axis=1)"
      ]
    },
    {
      "cell_type": "code",
      "execution_count": null,
      "metadata": {
        "id": "ZHfSHSz6YYw9",
        "outputId": "783edad7-f90b-468b-e162-80bca86eea84"
      },
      "outputs": [
        {
          "data": {
            "text/html": [
              "<div>\n",
              "<style scoped>\n",
              "    .dataframe tbody tr th:only-of-type {\n",
              "        vertical-align: middle;\n",
              "    }\n",
              "\n",
              "    .dataframe tbody tr th {\n",
              "        vertical-align: top;\n",
              "    }\n",
              "\n",
              "    .dataframe thead th {\n",
              "        text-align: right;\n",
              "    }\n",
              "</style>\n",
              "<table border=\"1\" class=\"dataframe\">\n",
              "  <thead>\n",
              "    <tr style=\"text-align: right;\">\n",
              "      <th></th>\n",
              "      <th>province</th>\n",
              "      <th>population</th>\n",
              "      <th>year</th>\n",
              "      <th>debt</th>\n",
              "      <th>sum</th>\n",
              "      <th>capital</th>\n",
              "    </tr>\n",
              "  </thead>\n",
              "  <tbody>\n",
              "    <tr>\n",
              "      <th>a</th>\n",
              "      <td>M</td>\n",
              "      <td>1500000.0</td>\n",
              "      <td>1900</td>\n",
              "      <td>1.0</td>\n",
              "      <td>1</td>\n",
              "      <td>True</td>\n",
              "    </tr>\n",
              "    <tr>\n",
              "      <th>b</th>\n",
              "      <td>M</td>\n",
              "      <td>2000000.0</td>\n",
              "      <td>1950</td>\n",
              "      <td>0.0</td>\n",
              "      <td>2</td>\n",
              "      <td>True</td>\n",
              "    </tr>\n",
              "    <tr>\n",
              "      <th>c</th>\n",
              "      <td>M</td>\n",
              "      <td>3000000.0</td>\n",
              "      <td>2000</td>\n",
              "      <td>2.0</td>\n",
              "      <td>3</td>\n",
              "      <td>True</td>\n",
              "    </tr>\n",
              "    <tr>\n",
              "      <th>d</th>\n",
              "      <td>B</td>\n",
              "      <td>500000.0</td>\n",
              "      <td>1900</td>\n",
              "      <td>0.5</td>\n",
              "      <td>5</td>\n",
              "      <td>False</td>\n",
              "    </tr>\n",
              "    <tr>\n",
              "      <th>e</th>\n",
              "      <td>B</td>\n",
              "      <td>1500000.0</td>\n",
              "      <td>2000</td>\n",
              "      <td>0.7</td>\n",
              "      <td>6</td>\n",
              "      <td>False</td>\n",
              "    </tr>\n",
              "  </tbody>\n",
              "</table>\n",
              "</div>"
            ],
            "text/plain": [
              "  province  population  year  debt  sum  capital\n",
              "a        M   1500000.0  1900   1.0    1     True\n",
              "b        M   2000000.0  1950   0.0    2     True\n",
              "c        M   3000000.0  2000   2.0    3     True\n",
              "d        B    500000.0  1900   0.5    5    False\n",
              "e        B   1500000.0  2000   0.7    6    False"
            ]
          },
          "execution_count": 309,
          "metadata": {},
          "output_type": "execute_result"
        }
      ],
      "source": [
        "df3"
      ]
    },
    {
      "cell_type": "code",
      "execution_count": null,
      "metadata": {
        "id": "CPMq9nkrYYw-"
      },
      "outputs": [],
      "source": [
        "df4 = df3"
      ]
    },
    {
      "cell_type": "code",
      "execution_count": null,
      "metadata": {
        "id": "nmjJb1uRYYw_"
      },
      "outputs": [],
      "source": [
        "df4.drop(['a','b'],inplace=True)"
      ]
    },
    {
      "cell_type": "code",
      "execution_count": null,
      "metadata": {
        "id": "uMbxn5qUYYw_",
        "outputId": "c3e609af-9596-40c9-9b95-9824dcd4d13f"
      },
      "outputs": [
        {
          "data": {
            "text/html": [
              "<div>\n",
              "<style scoped>\n",
              "    .dataframe tbody tr th:only-of-type {\n",
              "        vertical-align: middle;\n",
              "    }\n",
              "\n",
              "    .dataframe tbody tr th {\n",
              "        vertical-align: top;\n",
              "    }\n",
              "\n",
              "    .dataframe thead th {\n",
              "        text-align: right;\n",
              "    }\n",
              "</style>\n",
              "<table border=\"1\" class=\"dataframe\">\n",
              "  <thead>\n",
              "    <tr style=\"text-align: right;\">\n",
              "      <th></th>\n",
              "      <th>province</th>\n",
              "      <th>population</th>\n",
              "      <th>year</th>\n",
              "      <th>debt</th>\n",
              "      <th>sum</th>\n",
              "      <th>capital</th>\n",
              "    </tr>\n",
              "  </thead>\n",
              "  <tbody>\n",
              "    <tr>\n",
              "      <th>c</th>\n",
              "      <td>M</td>\n",
              "      <td>3000000.0</td>\n",
              "      <td>2000</td>\n",
              "      <td>2.0</td>\n",
              "      <td>3</td>\n",
              "      <td>True</td>\n",
              "    </tr>\n",
              "    <tr>\n",
              "      <th>d</th>\n",
              "      <td>B</td>\n",
              "      <td>500000.0</td>\n",
              "      <td>1900</td>\n",
              "      <td>0.5</td>\n",
              "      <td>5</td>\n",
              "      <td>False</td>\n",
              "    </tr>\n",
              "    <tr>\n",
              "      <th>e</th>\n",
              "      <td>B</td>\n",
              "      <td>1500000.0</td>\n",
              "      <td>2000</td>\n",
              "      <td>0.7</td>\n",
              "      <td>6</td>\n",
              "      <td>False</td>\n",
              "    </tr>\n",
              "  </tbody>\n",
              "</table>\n",
              "</div>"
            ],
            "text/plain": [
              "  province  population  year  debt  sum  capital\n",
              "c        M   3000000.0  2000   2.0    3     True\n",
              "d        B    500000.0  1900   0.5    5    False\n",
              "e        B   1500000.0  2000   0.7    6    False"
            ]
          },
          "execution_count": 312,
          "metadata": {},
          "output_type": "execute_result"
        }
      ],
      "source": [
        "df4"
      ]
    },
    {
      "cell_type": "code",
      "execution_count": null,
      "metadata": {
        "id": "AlpAodyOYYw_",
        "outputId": "f9ac87c8-55cd-4e56-86eb-cd123586d9a4"
      },
      "outputs": [
        {
          "data": {
            "text/html": [
              "<div>\n",
              "<style scoped>\n",
              "    .dataframe tbody tr th:only-of-type {\n",
              "        vertical-align: middle;\n",
              "    }\n",
              "\n",
              "    .dataframe tbody tr th {\n",
              "        vertical-align: top;\n",
              "    }\n",
              "\n",
              "    .dataframe thead th {\n",
              "        text-align: right;\n",
              "    }\n",
              "</style>\n",
              "<table border=\"1\" class=\"dataframe\">\n",
              "  <thead>\n",
              "    <tr style=\"text-align: right;\">\n",
              "      <th></th>\n",
              "      <th>province</th>\n",
              "      <th>population</th>\n",
              "      <th>year</th>\n",
              "      <th>debt</th>\n",
              "      <th>sum</th>\n",
              "      <th>capital</th>\n",
              "    </tr>\n",
              "  </thead>\n",
              "  <tbody>\n",
              "    <tr>\n",
              "      <th>c</th>\n",
              "      <td>M</td>\n",
              "      <td>3000000.0</td>\n",
              "      <td>2000</td>\n",
              "      <td>2.0</td>\n",
              "      <td>3</td>\n",
              "      <td>True</td>\n",
              "    </tr>\n",
              "    <tr>\n",
              "      <th>d</th>\n",
              "      <td>B</td>\n",
              "      <td>500000.0</td>\n",
              "      <td>1900</td>\n",
              "      <td>0.5</td>\n",
              "      <td>5</td>\n",
              "      <td>False</td>\n",
              "    </tr>\n",
              "    <tr>\n",
              "      <th>e</th>\n",
              "      <td>B</td>\n",
              "      <td>1500000.0</td>\n",
              "      <td>2000</td>\n",
              "      <td>0.7</td>\n",
              "      <td>6</td>\n",
              "      <td>False</td>\n",
              "    </tr>\n",
              "  </tbody>\n",
              "</table>\n",
              "</div>"
            ],
            "text/plain": [
              "  province  population  year  debt  sum  capital\n",
              "c        M   3000000.0  2000   2.0    3     True\n",
              "d        B    500000.0  1900   0.5    5    False\n",
              "e        B   1500000.0  2000   0.7    6    False"
            ]
          },
          "execution_count": 313,
          "metadata": {},
          "output_type": "execute_result"
        }
      ],
      "source": [
        "df3"
      ]
    },
    {
      "cell_type": "code",
      "execution_count": null,
      "metadata": {
        "id": "flXCSCSxYYw_"
      },
      "outputs": [],
      "source": [
        ""
      ]
    },
    {
      "cell_type": "code",
      "execution_count": null,
      "metadata": {
        "id": "wGU-TB_XYYw_"
      },
      "outputs": [],
      "source": [
        ""
      ]
    },
    {
      "cell_type": "code",
      "execution_count": null,
      "metadata": {
        "id": "jDWWj9_2YYw_"
      },
      "outputs": [],
      "source": [
        ""
      ]
    },
    {
      "cell_type": "code",
      "execution_count": null,
      "metadata": {
        "id": "ZFBwCzJ7YYxA",
        "outputId": "06eda883-814e-4788-8a1f-60c788052e67"
      },
      "outputs": [
        {
          "data": {
            "text/html": [
              "<div>\n",
              "<style scoped>\n",
              "    .dataframe tbody tr th:only-of-type {\n",
              "        vertical-align: middle;\n",
              "    }\n",
              "\n",
              "    .dataframe tbody tr th {\n",
              "        vertical-align: top;\n",
              "    }\n",
              "\n",
              "    .dataframe thead th {\n",
              "        text-align: right;\n",
              "    }\n",
              "</style>\n",
              "<table border=\"1\" class=\"dataframe\">\n",
              "  <thead>\n",
              "    <tr style=\"text-align: right;\">\n",
              "      <th></th>\n",
              "      <th>province</th>\n",
              "      <th>population</th>\n",
              "      <th>year</th>\n",
              "      <th>debt</th>\n",
              "      <th>2nd_language</th>\n",
              "      <th>sum</th>\n",
              "      <th>capital</th>\n",
              "    </tr>\n",
              "  </thead>\n",
              "  <tbody>\n",
              "    <tr>\n",
              "      <th>a</th>\n",
              "      <td>M</td>\n",
              "      <td>1500000.0</td>\n",
              "      <td>1900</td>\n",
              "      <td>1.0</td>\n",
              "      <td>NaN</td>\n",
              "      <td>1</td>\n",
              "      <td>True</td>\n",
              "    </tr>\n",
              "    <tr>\n",
              "      <th>b</th>\n",
              "      <td>M</td>\n",
              "      <td>2000000.0</td>\n",
              "      <td>1950</td>\n",
              "      <td>0.0</td>\n",
              "      <td>NaN</td>\n",
              "      <td>2</td>\n",
              "      <td>True</td>\n",
              "    </tr>\n",
              "    <tr>\n",
              "      <th>c</th>\n",
              "      <td>M</td>\n",
              "      <td>3000000.0</td>\n",
              "      <td>2000</td>\n",
              "      <td>2.0</td>\n",
              "      <td>NaN</td>\n",
              "      <td>3</td>\n",
              "      <td>True</td>\n",
              "    </tr>\n",
              "    <tr>\n",
              "      <th>d</th>\n",
              "      <td>B</td>\n",
              "      <td>500000.0</td>\n",
              "      <td>1900</td>\n",
              "      <td>0.5</td>\n",
              "      <td>NaN</td>\n",
              "      <td>5</td>\n",
              "      <td>False</td>\n",
              "    </tr>\n",
              "    <tr>\n",
              "      <th>e</th>\n",
              "      <td>B</td>\n",
              "      <td>1500000.0</td>\n",
              "      <td>2000</td>\n",
              "      <td>0.7</td>\n",
              "      <td>NaN</td>\n",
              "      <td>6</td>\n",
              "      <td>False</td>\n",
              "    </tr>\n",
              "  </tbody>\n",
              "</table>\n",
              "</div>"
            ],
            "text/plain": [
              "  province  population  year  debt  2nd_language  sum  capital\n",
              "a        M   1500000.0  1900   1.0           NaN    1     True\n",
              "b        M   2000000.0  1950   0.0           NaN    2     True\n",
              "c        M   3000000.0  2000   2.0           NaN    3     True\n",
              "d        B    500000.0  1900   0.5           NaN    5    False\n",
              "e        B   1500000.0  2000   0.7           NaN    6    False"
            ]
          },
          "execution_count": 314,
          "metadata": {},
          "output_type": "execute_result"
        }
      ],
      "source": [
        "df3 = df2.copy()\n",
        "df3"
      ]
    },
    {
      "cell_type": "code",
      "execution_count": null,
      "metadata": {
        "id": "CS5VGSHBYYxA",
        "outputId": "978dabc9-7f6d-4507-dcff-c856796ec214"
      },
      "outputs": [
        {
          "data": {
            "text/html": [
              "<div>\n",
              "<style scoped>\n",
              "    .dataframe tbody tr th:only-of-type {\n",
              "        vertical-align: middle;\n",
              "    }\n",
              "\n",
              "    .dataframe tbody tr th {\n",
              "        vertical-align: top;\n",
              "    }\n",
              "\n",
              "    .dataframe thead th {\n",
              "        text-align: right;\n",
              "    }\n",
              "</style>\n",
              "<table border=\"1\" class=\"dataframe\">\n",
              "  <thead>\n",
              "    <tr style=\"text-align: right;\">\n",
              "      <th></th>\n",
              "      <th>province</th>\n",
              "      <th>population</th>\n",
              "      <th>year</th>\n",
              "      <th>debt</th>\n",
              "      <th>2nd_language</th>\n",
              "      <th>sum</th>\n",
              "    </tr>\n",
              "  </thead>\n",
              "  <tbody>\n",
              "    <tr>\n",
              "      <th>a</th>\n",
              "      <td>M</td>\n",
              "      <td>1500000.0</td>\n",
              "      <td>1900</td>\n",
              "      <td>1.0</td>\n",
              "      <td>NaN</td>\n",
              "      <td>1</td>\n",
              "    </tr>\n",
              "    <tr>\n",
              "      <th>b</th>\n",
              "      <td>M</td>\n",
              "      <td>2000000.0</td>\n",
              "      <td>1950</td>\n",
              "      <td>0.0</td>\n",
              "      <td>NaN</td>\n",
              "      <td>2</td>\n",
              "    </tr>\n",
              "    <tr>\n",
              "      <th>c</th>\n",
              "      <td>M</td>\n",
              "      <td>3000000.0</td>\n",
              "      <td>2000</td>\n",
              "      <td>2.0</td>\n",
              "      <td>NaN</td>\n",
              "      <td>3</td>\n",
              "    </tr>\n",
              "    <tr>\n",
              "      <th>d</th>\n",
              "      <td>B</td>\n",
              "      <td>500000.0</td>\n",
              "      <td>1900</td>\n",
              "      <td>0.5</td>\n",
              "      <td>NaN</td>\n",
              "      <td>5</td>\n",
              "    </tr>\n",
              "    <tr>\n",
              "      <th>e</th>\n",
              "      <td>B</td>\n",
              "      <td>1500000.0</td>\n",
              "      <td>2000</td>\n",
              "      <td>0.7</td>\n",
              "      <td>NaN</td>\n",
              "      <td>6</td>\n",
              "    </tr>\n",
              "  </tbody>\n",
              "</table>\n",
              "</div>"
            ],
            "text/plain": [
              "  province  population  year  debt  2nd_language  sum\n",
              "a        M   1500000.0  1900   1.0           NaN    1\n",
              "b        M   2000000.0  1950   0.0           NaN    2\n",
              "c        M   3000000.0  2000   2.0           NaN    3\n",
              "d        B    500000.0  1900   0.5           NaN    5\n",
              "e        B   1500000.0  2000   0.7           NaN    6"
            ]
          },
          "execution_count": 315,
          "metadata": {},
          "output_type": "execute_result"
        }
      ],
      "source": [
        "df3.drop('capital', axis=1, inplace=True)\n",
        "df3"
      ]
    },
    {
      "cell_type": "code",
      "execution_count": null,
      "metadata": {
        "id": "kFklE97HYYxA",
        "outputId": "df621907-1c10-4cb3-f717-c05d5dc913a5"
      },
      "outputs": [
        {
          "data": {
            "text/html": [
              "<div>\n",
              "<style scoped>\n",
              "    .dataframe tbody tr th:only-of-type {\n",
              "        vertical-align: middle;\n",
              "    }\n",
              "\n",
              "    .dataframe tbody tr th {\n",
              "        vertical-align: top;\n",
              "    }\n",
              "\n",
              "    .dataframe thead th {\n",
              "        text-align: right;\n",
              "    }\n",
              "</style>\n",
              "<table border=\"1\" class=\"dataframe\">\n",
              "  <thead>\n",
              "    <tr style=\"text-align: right;\">\n",
              "      <th></th>\n",
              "      <th>province</th>\n",
              "      <th>population</th>\n",
              "      <th>year</th>\n",
              "      <th>debt</th>\n",
              "      <th>2nd_language</th>\n",
              "      <th>sum</th>\n",
              "      <th>capital</th>\n",
              "    </tr>\n",
              "  </thead>\n",
              "  <tbody>\n",
              "    <tr>\n",
              "      <th>a</th>\n",
              "      <td>M</td>\n",
              "      <td>1500000.0</td>\n",
              "      <td>1900</td>\n",
              "      <td>1.0</td>\n",
              "      <td>NaN</td>\n",
              "      <td>1</td>\n",
              "      <td>True</td>\n",
              "    </tr>\n",
              "    <tr>\n",
              "      <th>b</th>\n",
              "      <td>M</td>\n",
              "      <td>2000000.0</td>\n",
              "      <td>1950</td>\n",
              "      <td>0.0</td>\n",
              "      <td>NaN</td>\n",
              "      <td>2</td>\n",
              "      <td>True</td>\n",
              "    </tr>\n",
              "    <tr>\n",
              "      <th>c</th>\n",
              "      <td>M</td>\n",
              "      <td>3000000.0</td>\n",
              "      <td>2000</td>\n",
              "      <td>2.0</td>\n",
              "      <td>NaN</td>\n",
              "      <td>3</td>\n",
              "      <td>True</td>\n",
              "    </tr>\n",
              "    <tr>\n",
              "      <th>d</th>\n",
              "      <td>B</td>\n",
              "      <td>500000.0</td>\n",
              "      <td>1900</td>\n",
              "      <td>0.5</td>\n",
              "      <td>NaN</td>\n",
              "      <td>5</td>\n",
              "      <td>False</td>\n",
              "    </tr>\n",
              "    <tr>\n",
              "      <th>e</th>\n",
              "      <td>B</td>\n",
              "      <td>1500000.0</td>\n",
              "      <td>2000</td>\n",
              "      <td>0.7</td>\n",
              "      <td>NaN</td>\n",
              "      <td>6</td>\n",
              "      <td>False</td>\n",
              "    </tr>\n",
              "  </tbody>\n",
              "</table>\n",
              "</div>"
            ],
            "text/plain": [
              "  province  population  year  debt  2nd_language  sum  capital\n",
              "a        M   1500000.0  1900   1.0           NaN    1     True\n",
              "b        M   2000000.0  1950   0.0           NaN    2     True\n",
              "c        M   3000000.0  2000   2.0           NaN    3     True\n",
              "d        B    500000.0  1900   0.5           NaN    5    False\n",
              "e        B   1500000.0  2000   0.7           NaN    6    False"
            ]
          },
          "execution_count": 316,
          "metadata": {},
          "output_type": "execute_result"
        }
      ],
      "source": [
        "df2"
      ]
    },
    {
      "cell_type": "code",
      "execution_count": null,
      "metadata": {
        "id": "juqtCxfhYYxA"
      },
      "outputs": [],
      "source": [
        ""
      ]
    },
    {
      "cell_type": "code",
      "execution_count": null,
      "metadata": {
        "id": "bwQDlAzcYYxA"
      },
      "outputs": [],
      "source": [
        ""
      ]
    },
    {
      "cell_type": "markdown",
      "metadata": {
        "id": "uO_XIDNoYYxB"
      },
      "source": [
        "### Indexing, selection, and filtering\n",
        "\n",
        "The key here is that we can build boolean Series that we can use to index the original Series or DataFrame. Those booleans can be combined with bitwise boolean operators (&, |, ~) to get filters that are as complex as we need. "
      ]
    },
    {
      "cell_type": "code",
      "execution_count": null,
      "metadata": {
        "id": "-lhiWg_uYYxB",
        "outputId": "ec0aebc2-1337-4073-d4da-0c171f875a78"
      },
      "outputs": [
        {
          "data": {
            "text/plain": [
              "j    0\n",
              "d    1\n",
              "u    2\n",
              "dtype: int64"
            ]
          },
          "execution_count": 322,
          "metadata": {},
          "output_type": "execute_result"
        }
      ],
      "source": [
        "s5[:3]"
      ]
    },
    {
      "cell_type": "code",
      "execution_count": null,
      "metadata": {
        "id": "BxCVBAerYYxB",
        "outputId": "4ace6485-14a6-4478-dc34-6f1d77e3e2ba"
      },
      "outputs": [
        {
          "data": {
            "text/plain": [
              "j    0\n",
              "d    1\n",
              "u    2\n",
              "v    3\n",
              "dtype: int64"
            ]
          },
          "execution_count": 321,
          "metadata": {},
          "output_type": "execute_result"
        }
      ],
      "source": [
        "s5[:'v']"
      ]
    },
    {
      "cell_type": "code",
      "execution_count": null,
      "metadata": {
        "id": "q21K2jC9YYxB",
        "outputId": "4d2f56db-f75e-4662-e65a-7f7fbfefc565"
      },
      "outputs": [
        {
          "data": {
            "text/plain": [
              "d    1\n",
              "u    2\n",
              "v    3\n",
              "dtype: int64"
            ]
          },
          "execution_count": 324,
          "metadata": {},
          "output_type": "execute_result"
        }
      ],
      "source": [
        "s5['d':'v']"
      ]
    },
    {
      "cell_type": "code",
      "execution_count": null,
      "metadata": {
        "id": "wIZrQJGAYYxB",
        "outputId": "4675575e-d1fe-44c3-f77a-da84f3b98492"
      },
      "outputs": [
        {
          "data": {
            "text/plain": [
              "j    0\n",
              "u    2\n",
              "k    4\n",
              "dtype: int64"
            ]
          },
          "execution_count": 328,
          "metadata": {},
          "output_type": "execute_result"
        }
      ],
      "source": [
        "s5[s5 % 2 == 0]"
      ]
    },
    {
      "cell_type": "code",
      "execution_count": null,
      "metadata": {
        "id": "jMMhVtEpYYxB",
        "outputId": "068e3889-408b-4f54-c9d8-d5363fe690f7"
      },
      "outputs": [
        {
          "data": {
            "text/html": [
              "<div>\n",
              "<style scoped>\n",
              "    .dataframe tbody tr th:only-of-type {\n",
              "        vertical-align: middle;\n",
              "    }\n",
              "\n",
              "    .dataframe tbody tr th {\n",
              "        vertical-align: top;\n",
              "    }\n",
              "\n",
              "    .dataframe thead th {\n",
              "        text-align: right;\n",
              "    }\n",
              "</style>\n",
              "<table border=\"1\" class=\"dataframe\">\n",
              "  <thead>\n",
              "    <tr style=\"text-align: right;\">\n",
              "      <th></th>\n",
              "      <th>province</th>\n",
              "      <th>population</th>\n",
              "      <th>year</th>\n",
              "      <th>debt</th>\n",
              "      <th>2nd_language</th>\n",
              "      <th>sum</th>\n",
              "    </tr>\n",
              "  </thead>\n",
              "  <tbody>\n",
              "    <tr>\n",
              "      <th>a</th>\n",
              "      <td>M</td>\n",
              "      <td>1500000.0</td>\n",
              "      <td>1900</td>\n",
              "      <td>1.0</td>\n",
              "      <td>NaN</td>\n",
              "      <td>1</td>\n",
              "    </tr>\n",
              "    <tr>\n",
              "      <th>b</th>\n",
              "      <td>M</td>\n",
              "      <td>2000000.0</td>\n",
              "      <td>1950</td>\n",
              "      <td>0.0</td>\n",
              "      <td>NaN</td>\n",
              "      <td>2</td>\n",
              "    </tr>\n",
              "    <tr>\n",
              "      <th>c</th>\n",
              "      <td>M</td>\n",
              "      <td>3000000.0</td>\n",
              "      <td>2000</td>\n",
              "      <td>2.0</td>\n",
              "      <td>NaN</td>\n",
              "      <td>3</td>\n",
              "    </tr>\n",
              "    <tr>\n",
              "      <th>d</th>\n",
              "      <td>B</td>\n",
              "      <td>500000.0</td>\n",
              "      <td>1900</td>\n",
              "      <td>0.5</td>\n",
              "      <td>NaN</td>\n",
              "      <td>5</td>\n",
              "    </tr>\n",
              "    <tr>\n",
              "      <th>e</th>\n",
              "      <td>B</td>\n",
              "      <td>1500000.0</td>\n",
              "      <td>2000</td>\n",
              "      <td>0.7</td>\n",
              "      <td>NaN</td>\n",
              "      <td>6</td>\n",
              "    </tr>\n",
              "  </tbody>\n",
              "</table>\n",
              "</div>"
            ],
            "text/plain": [
              "  province  population  year  debt  2nd_language  sum\n",
              "a        M   1500000.0  1900   1.0           NaN    1\n",
              "b        M   2000000.0  1950   0.0           NaN    2\n",
              "c        M   3000000.0  2000   2.0           NaN    3\n",
              "d        B    500000.0  1900   0.5           NaN    5\n",
              "e        B   1500000.0  2000   0.7           NaN    6"
            ]
          },
          "execution_count": 335,
          "metadata": {},
          "output_type": "execute_result"
        }
      ],
      "source": [
        "df3"
      ]
    },
    {
      "cell_type": "code",
      "execution_count": null,
      "metadata": {
        "id": "_WJ0pve1YYxC",
        "outputId": "7cfb4425-5096-4405-cffc-750794318644"
      },
      "outputs": [
        {
          "data": {
            "text/plain": [
              "a     True\n",
              "b     True\n",
              "c     True\n",
              "d    False\n",
              "e     True\n",
              "Name: population, dtype: bool"
            ]
          },
          "execution_count": 337,
          "metadata": {},
          "output_type": "execute_result"
        }
      ],
      "source": [
        "df3['population'] > 1e6"
      ]
    },
    {
      "cell_type": "code",
      "execution_count": null,
      "metadata": {
        "id": "2XrEXLGjYYxC",
        "outputId": "db8fc535-d471-499e-bd9e-21b7b3188f13"
      },
      "outputs": [
        {
          "data": {
            "text/html": [
              "<div>\n",
              "<style scoped>\n",
              "    .dataframe tbody tr th:only-of-type {\n",
              "        vertical-align: middle;\n",
              "    }\n",
              "\n",
              "    .dataframe tbody tr th {\n",
              "        vertical-align: top;\n",
              "    }\n",
              "\n",
              "    .dataframe thead th {\n",
              "        text-align: right;\n",
              "    }\n",
              "</style>\n",
              "<table border=\"1\" class=\"dataframe\">\n",
              "  <thead>\n",
              "    <tr style=\"text-align: right;\">\n",
              "      <th></th>\n",
              "      <th>province</th>\n",
              "      <th>population</th>\n",
              "      <th>year</th>\n",
              "      <th>debt</th>\n",
              "      <th>2nd_language</th>\n",
              "      <th>sum</th>\n",
              "    </tr>\n",
              "  </thead>\n",
              "  <tbody>\n",
              "    <tr>\n",
              "      <th>a</th>\n",
              "      <td>M</td>\n",
              "      <td>1500000.0</td>\n",
              "      <td>1900</td>\n",
              "      <td>1.0</td>\n",
              "      <td>NaN</td>\n",
              "      <td>1</td>\n",
              "    </tr>\n",
              "    <tr>\n",
              "      <th>b</th>\n",
              "      <td>M</td>\n",
              "      <td>2000000.0</td>\n",
              "      <td>1950</td>\n",
              "      <td>0.0</td>\n",
              "      <td>NaN</td>\n",
              "      <td>2</td>\n",
              "    </tr>\n",
              "    <tr>\n",
              "      <th>c</th>\n",
              "      <td>M</td>\n",
              "      <td>3000000.0</td>\n",
              "      <td>2000</td>\n",
              "      <td>2.0</td>\n",
              "      <td>NaN</td>\n",
              "      <td>3</td>\n",
              "    </tr>\n",
              "    <tr>\n",
              "      <th>e</th>\n",
              "      <td>B</td>\n",
              "      <td>1500000.0</td>\n",
              "      <td>2000</td>\n",
              "      <td>0.7</td>\n",
              "      <td>NaN</td>\n",
              "      <td>6</td>\n",
              "    </tr>\n",
              "  </tbody>\n",
              "</table>\n",
              "</div>"
            ],
            "text/plain": [
              "  province  population  year  debt  2nd_language  sum\n",
              "a        M   1500000.0  1900   1.0           NaN    1\n",
              "b        M   2000000.0  1950   0.0           NaN    2\n",
              "c        M   3000000.0  2000   2.0           NaN    3\n",
              "e        B   1500000.0  2000   0.7           NaN    6"
            ]
          },
          "execution_count": 336,
          "metadata": {},
          "output_type": "execute_result"
        }
      ],
      "source": [
        "df3[df3['population'] > 1e6]"
      ]
    },
    {
      "cell_type": "code",
      "execution_count": null,
      "metadata": {
        "id": "4toFoHEDYYxC",
        "outputId": "15cc89b4-c574-4ef4-bf8c-cf07123e45be"
      },
      "outputs": [
        {
          "data": {
            "text/plain": [
              "True"
            ]
          },
          "execution_count": 341,
          "metadata": {},
          "output_type": "execute_result"
        }
      ],
      "source": [
        "'o' in 'tocoto' and 5 > 3"
      ]
    },
    {
      "cell_type": "code",
      "execution_count": null,
      "metadata": {
        "id": "PtFF0cI6YYxC",
        "outputId": "433e2d48-817b-4c9c-947c-1ba28a84802e"
      },
      "outputs": [
        {
          "data": {
            "text/plain": [
              "a    False\n",
              "b    False\n",
              "c     True\n",
              "d    False\n",
              "e     True\n",
              "dtype: bool"
            ]
          },
          "execution_count": 342,
          "metadata": {},
          "output_type": "execute_result"
        }
      ],
      "source": [
        "(df3['debt'] > .5) & (df3['year'] > 1950)"
      ]
    },
    {
      "cell_type": "code",
      "execution_count": null,
      "metadata": {
        "id": "fvgNJ9lJYYxD",
        "outputId": "d44d2584-a596-498a-d3f9-af41ae856c3b"
      },
      "outputs": [
        {
          "data": {
            "text/html": [
              "<div>\n",
              "<style scoped>\n",
              "    .dataframe tbody tr th:only-of-type {\n",
              "        vertical-align: middle;\n",
              "    }\n",
              "\n",
              "    .dataframe tbody tr th {\n",
              "        vertical-align: top;\n",
              "    }\n",
              "\n",
              "    .dataframe thead th {\n",
              "        text-align: right;\n",
              "    }\n",
              "</style>\n",
              "<table border=\"1\" class=\"dataframe\">\n",
              "  <thead>\n",
              "    <tr style=\"text-align: right;\">\n",
              "      <th></th>\n",
              "      <th>province</th>\n",
              "      <th>population</th>\n",
              "      <th>year</th>\n",
              "      <th>debt</th>\n",
              "      <th>2nd_language</th>\n",
              "      <th>sum</th>\n",
              "    </tr>\n",
              "  </thead>\n",
              "  <tbody>\n",
              "    <tr>\n",
              "      <th>c</th>\n",
              "      <td>M</td>\n",
              "      <td>3000000.0</td>\n",
              "      <td>2000</td>\n",
              "      <td>2.0</td>\n",
              "      <td>NaN</td>\n",
              "      <td>3</td>\n",
              "    </tr>\n",
              "    <tr>\n",
              "      <th>e</th>\n",
              "      <td>B</td>\n",
              "      <td>1500000.0</td>\n",
              "      <td>2000</td>\n",
              "      <td>0.7</td>\n",
              "      <td>NaN</td>\n",
              "      <td>6</td>\n",
              "    </tr>\n",
              "  </tbody>\n",
              "</table>\n",
              "</div>"
            ],
            "text/plain": [
              "  province  population  year  debt  2nd_language  sum\n",
              "c        M   3000000.0  2000   2.0           NaN    3\n",
              "e        B   1500000.0  2000   0.7           NaN    6"
            ]
          },
          "execution_count": 343,
          "metadata": {},
          "output_type": "execute_result"
        }
      ],
      "source": [
        "df3[(df3['debt'] > .5) & (df3['year'] > 1950)]"
      ]
    },
    {
      "cell_type": "markdown",
      "metadata": {
        "id": "Ny2Jr3utYYxD"
      },
      "source": [
        "### Function application and mapping\n",
        "\n",
        "Function application and mapping allows us to modify the elements of a DataFrame (columns with apply or elements with applymap) without for loops. This way we are not constrained to the functions already implemented by pandas or numpy."
      ]
    },
    {
      "cell_type": "code",
      "execution_count": null,
      "metadata": {
        "id": "iR3DiqPWYYxD",
        "outputId": "984c6909-d07e-4f45-fa89-f93bc92ca921"
      },
      "outputs": [
        {
          "data": {
            "text/html": [
              "<div>\n",
              "<style scoped>\n",
              "    .dataframe tbody tr th:only-of-type {\n",
              "        vertical-align: middle;\n",
              "    }\n",
              "\n",
              "    .dataframe tbody tr th {\n",
              "        vertical-align: top;\n",
              "    }\n",
              "\n",
              "    .dataframe thead th {\n",
              "        text-align: right;\n",
              "    }\n",
              "</style>\n",
              "<table border=\"1\" class=\"dataframe\">\n",
              "  <thead>\n",
              "    <tr style=\"text-align: right;\">\n",
              "      <th></th>\n",
              "      <th>province</th>\n",
              "      <th>population</th>\n",
              "      <th>year</th>\n",
              "      <th>debt</th>\n",
              "      <th>2nd_language</th>\n",
              "      <th>sum</th>\n",
              "    </tr>\n",
              "  </thead>\n",
              "  <tbody>\n",
              "    <tr>\n",
              "      <th>a</th>\n",
              "      <td>MMM</td>\n",
              "      <td>4500000.0</td>\n",
              "      <td>5700</td>\n",
              "      <td>3.0</td>\n",
              "      <td>NaN</td>\n",
              "      <td>3</td>\n",
              "    </tr>\n",
              "    <tr>\n",
              "      <th>b</th>\n",
              "      <td>MMM</td>\n",
              "      <td>6000000.0</td>\n",
              "      <td>5850</td>\n",
              "      <td>0.0</td>\n",
              "      <td>NaN</td>\n",
              "      <td>6</td>\n",
              "    </tr>\n",
              "    <tr>\n",
              "      <th>c</th>\n",
              "      <td>MMM</td>\n",
              "      <td>9000000.0</td>\n",
              "      <td>6000</td>\n",
              "      <td>6.0</td>\n",
              "      <td>NaN</td>\n",
              "      <td>9</td>\n",
              "    </tr>\n",
              "    <tr>\n",
              "      <th>d</th>\n",
              "      <td>BBB</td>\n",
              "      <td>1500000.0</td>\n",
              "      <td>5700</td>\n",
              "      <td>1.5</td>\n",
              "      <td>NaN</td>\n",
              "      <td>15</td>\n",
              "    </tr>\n",
              "    <tr>\n",
              "      <th>e</th>\n",
              "      <td>BBB</td>\n",
              "      <td>4500000.0</td>\n",
              "      <td>6000</td>\n",
              "      <td>2.1</td>\n",
              "      <td>NaN</td>\n",
              "      <td>18</td>\n",
              "    </tr>\n",
              "  </tbody>\n",
              "</table>\n",
              "</div>"
            ],
            "text/plain": [
              "  province  population  year  debt  2nd_language  sum\n",
              "a      MMM   4500000.0  5700   3.0           NaN    3\n",
              "b      MMM   6000000.0  5850   0.0           NaN    6\n",
              "c      MMM   9000000.0  6000   6.0           NaN    9\n",
              "d      BBB   1500000.0  5700   1.5           NaN   15\n",
              "e      BBB   4500000.0  6000   2.1           NaN   18"
            ]
          },
          "execution_count": 345,
          "metadata": {},
          "output_type": "execute_result"
        }
      ],
      "source": [
        "df3 * 3"
      ]
    },
    {
      "cell_type": "code",
      "execution_count": null,
      "metadata": {
        "id": "mHM4eFToYYxD",
        "outputId": "631b9b96-9965-4970-bfab-c41f17bf2f65"
      },
      "outputs": [
        {
          "ename": "AttributeError",
          "evalue": "'str' object has no attribute 'sqrt'",
          "output_type": "error",
          "traceback": [
            "\u001b[0;31m---------------------------------------------------------------------------\u001b[0m",
            "\u001b[0;31mAttributeError\u001b[0m                            Traceback (most recent call last)",
            "\u001b[0;32m<ipython-input-349-01586b8dcb06>\u001b[0m in \u001b[0;36m<module>\u001b[0;34m\u001b[0m\n\u001b[0;32m----> 1\u001b[0;31m \u001b[0mnp\u001b[0m\u001b[0;34m.\u001b[0m\u001b[0msqrt\u001b[0m\u001b[0;34m(\u001b[0m\u001b[0mdf3\u001b[0m\u001b[0;34m)\u001b[0m\u001b[0;34m\u001b[0m\u001b[0;34m\u001b[0m\u001b[0m\n\u001b[0m",
            "\u001b[0;31mAttributeError\u001b[0m: 'str' object has no attribute 'sqrt'"
          ]
        }
      ],
      "source": [
        "np.sqrt(df3)"
      ]
    },
    {
      "cell_type": "code",
      "execution_count": null,
      "metadata": {
        "id": "_jlCB2e8YYxE",
        "outputId": "1a9af948-19ee-4ee1-8d42-e959996d3639"
      },
      "outputs": [
        {
          "data": {
            "text/html": [
              "<div>\n",
              "<style scoped>\n",
              "    .dataframe tbody tr th:only-of-type {\n",
              "        vertical-align: middle;\n",
              "    }\n",
              "\n",
              "    .dataframe tbody tr th {\n",
              "        vertical-align: top;\n",
              "    }\n",
              "\n",
              "    .dataframe thead th {\n",
              "        text-align: right;\n",
              "    }\n",
              "</style>\n",
              "<table border=\"1\" class=\"dataframe\">\n",
              "  <thead>\n",
              "    <tr style=\"text-align: right;\">\n",
              "      <th></th>\n",
              "      <th>population</th>\n",
              "      <th>year</th>\n",
              "    </tr>\n",
              "  </thead>\n",
              "  <tbody>\n",
              "    <tr>\n",
              "      <th>a</th>\n",
              "      <td>1224.744871</td>\n",
              "      <td>43.588989</td>\n",
              "    </tr>\n",
              "    <tr>\n",
              "      <th>b</th>\n",
              "      <td>1414.213562</td>\n",
              "      <td>44.158804</td>\n",
              "    </tr>\n",
              "    <tr>\n",
              "      <th>c</th>\n",
              "      <td>1732.050808</td>\n",
              "      <td>44.721360</td>\n",
              "    </tr>\n",
              "    <tr>\n",
              "      <th>d</th>\n",
              "      <td>707.106781</td>\n",
              "      <td>43.588989</td>\n",
              "    </tr>\n",
              "    <tr>\n",
              "      <th>e</th>\n",
              "      <td>1224.744871</td>\n",
              "      <td>44.721360</td>\n",
              "    </tr>\n",
              "  </tbody>\n",
              "</table>\n",
              "</div>"
            ],
            "text/plain": [
              "    population       year\n",
              "a  1224.744871  43.588989\n",
              "b  1414.213562  44.158804\n",
              "c  1732.050808  44.721360\n",
              "d   707.106781  43.588989\n",
              "e  1224.744871  44.721360"
            ]
          },
          "execution_count": 348,
          "metadata": {},
          "output_type": "execute_result"
        }
      ],
      "source": [
        "np.sqrt(df3[['population', 'year']])"
      ]
    },
    {
      "cell_type": "code",
      "execution_count": null,
      "metadata": {
        "id": "qA54cZi3YYxE",
        "outputId": "e1c9f8a6-caea-42a9-bbc2-2bbd1a4c76cf"
      },
      "outputs": [
        {
          "ename": "TypeError",
          "evalue": "must be real number, not DataFrame",
          "output_type": "error",
          "traceback": [
            "\u001b[0;31m---------------------------------------------------------------------------\u001b[0m",
            "\u001b[0;31mTypeError\u001b[0m                                 Traceback (most recent call last)",
            "\u001b[0;32m<ipython-input-350-98d03a794d3d>\u001b[0m in \u001b[0;36m<module>\u001b[0;34m\u001b[0m\n\u001b[1;32m      1\u001b[0m \u001b[0;32mimport\u001b[0m \u001b[0mmath\u001b[0m\u001b[0;34m\u001b[0m\u001b[0;34m\u001b[0m\u001b[0m\n\u001b[1;32m      2\u001b[0m \u001b[0;34m\u001b[0m\u001b[0m\n\u001b[0;32m----> 3\u001b[0;31m \u001b[0mmath\u001b[0m\u001b[0;34m.\u001b[0m\u001b[0msqrt\u001b[0m\u001b[0;34m(\u001b[0m\u001b[0mdf3\u001b[0m\u001b[0;34m)\u001b[0m\u001b[0;34m\u001b[0m\u001b[0;34m\u001b[0m\u001b[0m\n\u001b[0m",
            "\u001b[0;31mTypeError\u001b[0m: must be real number, not DataFrame"
          ]
        }
      ],
      "source": [
        "import math \n",
        "\n",
        "math.sqrt(df3)"
      ]
    },
    {
      "cell_type": "code",
      "execution_count": null,
      "metadata": {
        "id": "p2t7kGEuYYxE",
        "outputId": "334d6947-0ccc-49ea-b7ee-0afc195406de"
      },
      "outputs": [
        {
          "data": {
            "text/plain": [
              "year              100.0\n",
              "population    2500000.0\n",
              "dtype: float64"
            ]
          },
          "execution_count": 355,
          "metadata": {},
          "output_type": "execute_result"
        }
      ],
      "source": [
        "def minimax(col):\n",
        "    return col.max() - col.min()\n",
        "\n",
        "df3[['year', 'population']].apply(minimax)"
      ]
    },
    {
      "cell_type": "code",
      "execution_count": null,
      "metadata": {
        "id": "xSJWZLj4YYxE",
        "outputId": "a9a07d05-780e-4fec-9de8-07beb2221cb8"
      },
      "outputs": [
        {
          "data": {
            "text/plain": [
              "year              100.0\n",
              "population    2500000.0\n",
              "dtype: float64"
            ]
          },
          "execution_count": 357,
          "metadata": {},
          "output_type": "execute_result"
        }
      ],
      "source": [
        "minimax(df3[['year', 'population']])"
      ]
    },
    {
      "cell_type": "code",
      "execution_count": null,
      "metadata": {
        "id": "pqC-qHX-YYxF",
        "outputId": "7f645358-0942-4c7a-d44f-9fcadde9bf00"
      },
      "outputs": [
        {
          "data": {
            "text/plain": [
              "province            M\n",
              "population      3e+06\n",
              "year             2000\n",
              "debt                2\n",
              "2nd_language     None\n",
              "sum                 6\n",
              "dtype: object"
            ]
          },
          "execution_count": 361,
          "metadata": {},
          "output_type": "execute_result"
        }
      ],
      "source": [
        "df3.max()"
      ]
    },
    {
      "cell_type": "code",
      "execution_count": null,
      "metadata": {
        "id": "qDMBqxx2YYxF",
        "outputId": "13a0e36a-92bb-4fe6-c7ee-f56fba5fa6b3"
      },
      "outputs": [
        {
          "data": {
            "text/plain": [
              "province        object\n",
              "population      object\n",
              "year            object\n",
              "debt            object\n",
              "2nd_language    object\n",
              "sum             object\n",
              "dtype: object"
            ]
          },
          "execution_count": 365,
          "metadata": {},
          "output_type": "execute_result"
        }
      ],
      "source": [
        "df3.applymap(str).dtypes"
      ]
    },
    {
      "cell_type": "markdown",
      "metadata": {
        "id": "wib_spG7YYxF"
      },
      "source": [
        "This is a typical use case for lambdas (anonymous functions)"
      ]
    },
    {
      "cell_type": "code",
      "execution_count": null,
      "metadata": {
        "id": "mGNiTwFJYYxF",
        "outputId": "79d48589-e063-4ea9-878a-b1f9e5547f4f"
      },
      "outputs": [
        {
          "data": {
            "text/html": [
              "<div>\n",
              "<style scoped>\n",
              "    .dataframe tbody tr th:only-of-type {\n",
              "        vertical-align: middle;\n",
              "    }\n",
              "\n",
              "    .dataframe tbody tr th {\n",
              "        vertical-align: top;\n",
              "    }\n",
              "\n",
              "    .dataframe thead th {\n",
              "        text-align: right;\n",
              "    }\n",
              "</style>\n",
              "<table border=\"1\" class=\"dataframe\">\n",
              "  <thead>\n",
              "    <tr style=\"text-align: right;\">\n",
              "      <th></th>\n",
              "      <th>province</th>\n",
              "      <th>population</th>\n",
              "      <th>year</th>\n",
              "      <th>debt</th>\n",
              "      <th>2nd_language</th>\n",
              "      <th>sum</th>\n",
              "    </tr>\n",
              "  </thead>\n",
              "  <tbody>\n",
              "    <tr>\n",
              "      <th>a</th>\n",
              "      <td>M</td>\n",
              "      <td>15</td>\n",
              "      <td>19</td>\n",
              "      <td>1.</td>\n",
              "      <td>na</td>\n",
              "      <td>1</td>\n",
              "    </tr>\n",
              "    <tr>\n",
              "      <th>b</th>\n",
              "      <td>M</td>\n",
              "      <td>20</td>\n",
              "      <td>19</td>\n",
              "      <td>0.</td>\n",
              "      <td>na</td>\n",
              "      <td>2</td>\n",
              "    </tr>\n",
              "    <tr>\n",
              "      <th>c</th>\n",
              "      <td>M</td>\n",
              "      <td>30</td>\n",
              "      <td>20</td>\n",
              "      <td>2.</td>\n",
              "      <td>na</td>\n",
              "      <td>3</td>\n",
              "    </tr>\n",
              "    <tr>\n",
              "      <th>d</th>\n",
              "      <td>B</td>\n",
              "      <td>50</td>\n",
              "      <td>19</td>\n",
              "      <td>0.</td>\n",
              "      <td>na</td>\n",
              "      <td>5</td>\n",
              "    </tr>\n",
              "    <tr>\n",
              "      <th>e</th>\n",
              "      <td>B</td>\n",
              "      <td>15</td>\n",
              "      <td>20</td>\n",
              "      <td>0.</td>\n",
              "      <td>na</td>\n",
              "      <td>6</td>\n",
              "    </tr>\n",
              "  </tbody>\n",
              "</table>\n",
              "</div>"
            ],
            "text/plain": [
              "  province population year debt 2nd_language sum\n",
              "a        M         15   19   1.           na   1\n",
              "b        M         20   19   0.           na   2\n",
              "c        M         30   20   2.           na   3\n",
              "d        B         50   19   0.           na   5\n",
              "e        B         15   20   0.           na   6"
            ]
          },
          "execution_count": 367,
          "metadata": {},
          "output_type": "execute_result"
        }
      ],
      "source": [
        "df3.applymap(lambda cell: str(cell)[:2])"
      ]
    },
    {
      "cell_type": "code",
      "execution_count": null,
      "metadata": {
        "id": "0lHwhtDJYYxG",
        "outputId": "675bd5a4-e6ba-4f14-a98f-3412fe35ea9c"
      },
      "outputs": [
        {
          "data": {
            "text/html": [
              "<div>\n",
              "<style scoped>\n",
              "    .dataframe tbody tr th:only-of-type {\n",
              "        vertical-align: middle;\n",
              "    }\n",
              "\n",
              "    .dataframe tbody tr th {\n",
              "        vertical-align: top;\n",
              "    }\n",
              "\n",
              "    .dataframe thead th {\n",
              "        text-align: right;\n",
              "    }\n",
              "</style>\n",
              "<table border=\"1\" class=\"dataframe\">\n",
              "  <thead>\n",
              "    <tr style=\"text-align: right;\">\n",
              "      <th></th>\n",
              "      <th>population</th>\n",
              "      <th>year</th>\n",
              "      <th>debt</th>\n",
              "    </tr>\n",
              "  </thead>\n",
              "  <tbody>\n",
              "    <tr>\n",
              "      <th>a</th>\n",
              "      <td>1500000.00</td>\n",
              "      <td>1900.00</td>\n",
              "      <td>1.00</td>\n",
              "    </tr>\n",
              "    <tr>\n",
              "      <th>b</th>\n",
              "      <td>2000000.00</td>\n",
              "      <td>1950.00</td>\n",
              "      <td>0.00</td>\n",
              "    </tr>\n",
              "    <tr>\n",
              "      <th>c</th>\n",
              "      <td>3000000.00</td>\n",
              "      <td>2000.00</td>\n",
              "      <td>2.00</td>\n",
              "    </tr>\n",
              "    <tr>\n",
              "      <th>d</th>\n",
              "      <td>500000.00</td>\n",
              "      <td>1900.00</td>\n",
              "      <td>0.50</td>\n",
              "    </tr>\n",
              "    <tr>\n",
              "      <th>e</th>\n",
              "      <td>1500000.00</td>\n",
              "      <td>2000.00</td>\n",
              "      <td>0.70</td>\n",
              "    </tr>\n",
              "  </tbody>\n",
              "</table>\n",
              "</div>"
            ],
            "text/plain": [
              "   population     year  debt\n",
              "a  1500000.00  1900.00  1.00\n",
              "b  2000000.00  1950.00  0.00\n",
              "c  3000000.00  2000.00  2.00\n",
              "d   500000.00  1900.00  0.50\n",
              "e  1500000.00  2000.00  0.70"
            ]
          },
          "execution_count": 369,
          "metadata": {},
          "output_type": "execute_result"
        }
      ],
      "source": [
        "df3[['population', 'year', 'debt']].applymap(lambda cell: '%.2f' % cell)"
      ]
    },
    {
      "cell_type": "markdown",
      "metadata": {
        "id": "kYrFCApNYYxG"
      },
      "source": [
        "### Sorting and ranking"
      ]
    },
    {
      "cell_type": "code",
      "execution_count": null,
      "metadata": {
        "id": "F9HImeQWYYxG",
        "outputId": "ad83d23f-a40a-4da0-9021-62f8e0211b40"
      },
      "outputs": [
        {
          "data": {
            "text/plain": [
              "d    1\n",
              "j    0\n",
              "k    4\n",
              "u    2\n",
              "v    3\n",
              "dtype: int64"
            ]
          },
          "execution_count": 372,
          "metadata": {},
          "output_type": "execute_result"
        }
      ],
      "source": [
        "s5.sort_index()"
      ]
    },
    {
      "cell_type": "code",
      "execution_count": null,
      "metadata": {
        "id": "5vahNJpdYYxG",
        "outputId": "16c546a7-ca99-425e-d8b9-4e4614d34784"
      },
      "outputs": [
        {
          "data": {
            "text/plain": [
              "k    4\n",
              "v    3\n",
              "u    2\n",
              "d    1\n",
              "j    0\n",
              "dtype: int64"
            ]
          },
          "execution_count": 374,
          "metadata": {},
          "output_type": "execute_result"
        }
      ],
      "source": [
        "s5.sort_values(ascending=False)"
      ]
    },
    {
      "cell_type": "code",
      "execution_count": null,
      "metadata": {
        "id": "jC8-Qx01YYxG",
        "outputId": "bd04000d-add8-449f-910f-eb0ab043a5fc"
      },
      "outputs": [
        {
          "data": {
            "text/html": [
              "<div>\n",
              "<style scoped>\n",
              "    .dataframe tbody tr th:only-of-type {\n",
              "        vertical-align: middle;\n",
              "    }\n",
              "\n",
              "    .dataframe tbody tr th {\n",
              "        vertical-align: top;\n",
              "    }\n",
              "\n",
              "    .dataframe thead th {\n",
              "        text-align: right;\n",
              "    }\n",
              "</style>\n",
              "<table border=\"1\" class=\"dataframe\">\n",
              "  <thead>\n",
              "    <tr style=\"text-align: right;\">\n",
              "      <th></th>\n",
              "      <th>province</th>\n",
              "      <th>population</th>\n",
              "      <th>year</th>\n",
              "      <th>debt</th>\n",
              "      <th>2nd_language</th>\n",
              "      <th>sum</th>\n",
              "    </tr>\n",
              "  </thead>\n",
              "  <tbody>\n",
              "    <tr>\n",
              "      <th>e</th>\n",
              "      <td>B</td>\n",
              "      <td>1500000.0</td>\n",
              "      <td>2000</td>\n",
              "      <td>0.7</td>\n",
              "      <td>NaN</td>\n",
              "      <td>6</td>\n",
              "    </tr>\n",
              "    <tr>\n",
              "      <th>d</th>\n",
              "      <td>B</td>\n",
              "      <td>500000.0</td>\n",
              "      <td>1900</td>\n",
              "      <td>0.5</td>\n",
              "      <td>NaN</td>\n",
              "      <td>5</td>\n",
              "    </tr>\n",
              "    <tr>\n",
              "      <th>c</th>\n",
              "      <td>M</td>\n",
              "      <td>3000000.0</td>\n",
              "      <td>2000</td>\n",
              "      <td>2.0</td>\n",
              "      <td>NaN</td>\n",
              "      <td>3</td>\n",
              "    </tr>\n",
              "    <tr>\n",
              "      <th>b</th>\n",
              "      <td>M</td>\n",
              "      <td>2000000.0</td>\n",
              "      <td>1950</td>\n",
              "      <td>0.0</td>\n",
              "      <td>NaN</td>\n",
              "      <td>2</td>\n",
              "    </tr>\n",
              "    <tr>\n",
              "      <th>a</th>\n",
              "      <td>M</td>\n",
              "      <td>1500000.0</td>\n",
              "      <td>1900</td>\n",
              "      <td>1.0</td>\n",
              "      <td>NaN</td>\n",
              "      <td>1</td>\n",
              "    </tr>\n",
              "  </tbody>\n",
              "</table>\n",
              "</div>"
            ],
            "text/plain": [
              "  province  population  year  debt  2nd_language  sum\n",
              "e        B   1500000.0  2000   0.7           NaN    6\n",
              "d        B    500000.0  1900   0.5           NaN    5\n",
              "c        M   3000000.0  2000   2.0           NaN    3\n",
              "b        M   2000000.0  1950   0.0           NaN    2\n",
              "a        M   1500000.0  1900   1.0           NaN    1"
            ]
          },
          "execution_count": 377,
          "metadata": {},
          "output_type": "execute_result"
        }
      ],
      "source": [
        "df3.sort_index(ascending=False)"
      ]
    },
    {
      "cell_type": "code",
      "execution_count": null,
      "metadata": {
        "id": "_KCOXdhZYYxG",
        "outputId": "19d32e94-afd4-4f8f-eeba-1e2eeba2c431"
      },
      "outputs": [
        {
          "data": {
            "text/html": [
              "<div>\n",
              "<style scoped>\n",
              "    .dataframe tbody tr th:only-of-type {\n",
              "        vertical-align: middle;\n",
              "    }\n",
              "\n",
              "    .dataframe tbody tr th {\n",
              "        vertical-align: top;\n",
              "    }\n",
              "\n",
              "    .dataframe thead th {\n",
              "        text-align: right;\n",
              "    }\n",
              "</style>\n",
              "<table border=\"1\" class=\"dataframe\">\n",
              "  <thead>\n",
              "    <tr style=\"text-align: right;\">\n",
              "      <th></th>\n",
              "      <th>province</th>\n",
              "      <th>population</th>\n",
              "      <th>year</th>\n",
              "      <th>debt</th>\n",
              "      <th>2nd_language</th>\n",
              "      <th>sum</th>\n",
              "    </tr>\n",
              "  </thead>\n",
              "  <tbody>\n",
              "    <tr>\n",
              "      <th>d</th>\n",
              "      <td>B</td>\n",
              "      <td>500000.0</td>\n",
              "      <td>1900</td>\n",
              "      <td>0.5</td>\n",
              "      <td>NaN</td>\n",
              "      <td>5</td>\n",
              "    </tr>\n",
              "    <tr>\n",
              "      <th>a</th>\n",
              "      <td>M</td>\n",
              "      <td>1500000.0</td>\n",
              "      <td>1900</td>\n",
              "      <td>1.0</td>\n",
              "      <td>NaN</td>\n",
              "      <td>1</td>\n",
              "    </tr>\n",
              "    <tr>\n",
              "      <th>e</th>\n",
              "      <td>B</td>\n",
              "      <td>1500000.0</td>\n",
              "      <td>2000</td>\n",
              "      <td>0.7</td>\n",
              "      <td>NaN</td>\n",
              "      <td>6</td>\n",
              "    </tr>\n",
              "    <tr>\n",
              "      <th>b</th>\n",
              "      <td>M</td>\n",
              "      <td>2000000.0</td>\n",
              "      <td>1950</td>\n",
              "      <td>0.0</td>\n",
              "      <td>NaN</td>\n",
              "      <td>2</td>\n",
              "    </tr>\n",
              "    <tr>\n",
              "      <th>c</th>\n",
              "      <td>M</td>\n",
              "      <td>3000000.0</td>\n",
              "      <td>2000</td>\n",
              "      <td>2.0</td>\n",
              "      <td>NaN</td>\n",
              "      <td>3</td>\n",
              "    </tr>\n",
              "  </tbody>\n",
              "</table>\n",
              "</div>"
            ],
            "text/plain": [
              "  province  population  year  debt  2nd_language  sum\n",
              "d        B    500000.0  1900   0.5           NaN    5\n",
              "a        M   1500000.0  1900   1.0           NaN    1\n",
              "e        B   1500000.0  2000   0.7           NaN    6\n",
              "b        M   2000000.0  1950   0.0           NaN    2\n",
              "c        M   3000000.0  2000   2.0           NaN    3"
            ]
          },
          "execution_count": 379,
          "metadata": {},
          "output_type": "execute_result"
        }
      ],
      "source": [
        "df3.sort_values(by='population')"
      ]
    },
    {
      "cell_type": "code",
      "execution_count": null,
      "metadata": {
        "id": "rjhkvR4pYYxH",
        "outputId": "a75b4799-e116-4f97-bf94-c1eb81533f79"
      },
      "outputs": [
        {
          "data": {
            "text/html": [
              "<div>\n",
              "<style scoped>\n",
              "    .dataframe tbody tr th:only-of-type {\n",
              "        vertical-align: middle;\n",
              "    }\n",
              "\n",
              "    .dataframe tbody tr th {\n",
              "        vertical-align: top;\n",
              "    }\n",
              "\n",
              "    .dataframe thead th {\n",
              "        text-align: right;\n",
              "    }\n",
              "</style>\n",
              "<table border=\"1\" class=\"dataframe\">\n",
              "  <thead>\n",
              "    <tr style=\"text-align: right;\">\n",
              "      <th></th>\n",
              "      <th>province</th>\n",
              "      <th>population</th>\n",
              "      <th>year</th>\n",
              "      <th>debt</th>\n",
              "      <th>2nd_language</th>\n",
              "      <th>sum</th>\n",
              "    </tr>\n",
              "  </thead>\n",
              "  <tbody>\n",
              "    <tr>\n",
              "      <th>a</th>\n",
              "      <td>M</td>\n",
              "      <td>1500000.0</td>\n",
              "      <td>1900</td>\n",
              "      <td>1.0</td>\n",
              "      <td>NaN</td>\n",
              "      <td>1</td>\n",
              "    </tr>\n",
              "    <tr>\n",
              "      <th>d</th>\n",
              "      <td>B</td>\n",
              "      <td>500000.0</td>\n",
              "      <td>1900</td>\n",
              "      <td>0.5</td>\n",
              "      <td>NaN</td>\n",
              "      <td>5</td>\n",
              "    </tr>\n",
              "    <tr>\n",
              "      <th>b</th>\n",
              "      <td>M</td>\n",
              "      <td>2000000.0</td>\n",
              "      <td>1950</td>\n",
              "      <td>0.0</td>\n",
              "      <td>NaN</td>\n",
              "      <td>2</td>\n",
              "    </tr>\n",
              "    <tr>\n",
              "      <th>c</th>\n",
              "      <td>M</td>\n",
              "      <td>3000000.0</td>\n",
              "      <td>2000</td>\n",
              "      <td>2.0</td>\n",
              "      <td>NaN</td>\n",
              "      <td>3</td>\n",
              "    </tr>\n",
              "    <tr>\n",
              "      <th>e</th>\n",
              "      <td>B</td>\n",
              "      <td>1500000.0</td>\n",
              "      <td>2000</td>\n",
              "      <td>0.7</td>\n",
              "      <td>NaN</td>\n",
              "      <td>6</td>\n",
              "    </tr>\n",
              "  </tbody>\n",
              "</table>\n",
              "</div>"
            ],
            "text/plain": [
              "  province  population  year  debt  2nd_language  sum\n",
              "a        M   1500000.0  1900   1.0           NaN    1\n",
              "d        B    500000.0  1900   0.5           NaN    5\n",
              "b        M   2000000.0  1950   0.0           NaN    2\n",
              "c        M   3000000.0  2000   2.0           NaN    3\n",
              "e        B   1500000.0  2000   0.7           NaN    6"
            ]
          },
          "execution_count": 380,
          "metadata": {},
          "output_type": "execute_result"
        }
      ],
      "source": [
        "df3.sort_values(by='year')"
      ]
    },
    {
      "cell_type": "code",
      "execution_count": null,
      "metadata": {
        "id": "56aHNBpOYYxH",
        "outputId": "1c3a53dd-edca-4c9b-f67e-4d69067bbe76"
      },
      "outputs": [
        {
          "data": {
            "text/html": [
              "<div>\n",
              "<style scoped>\n",
              "    .dataframe tbody tr th:only-of-type {\n",
              "        vertical-align: middle;\n",
              "    }\n",
              "\n",
              "    .dataframe tbody tr th {\n",
              "        vertical-align: top;\n",
              "    }\n",
              "\n",
              "    .dataframe thead th {\n",
              "        text-align: right;\n",
              "    }\n",
              "</style>\n",
              "<table border=\"1\" class=\"dataframe\">\n",
              "  <thead>\n",
              "    <tr style=\"text-align: right;\">\n",
              "      <th></th>\n",
              "      <th>province</th>\n",
              "      <th>population</th>\n",
              "      <th>year</th>\n",
              "      <th>debt</th>\n",
              "      <th>2nd_language</th>\n",
              "      <th>sum</th>\n",
              "    </tr>\n",
              "  </thead>\n",
              "  <tbody>\n",
              "    <tr>\n",
              "      <th>d</th>\n",
              "      <td>B</td>\n",
              "      <td>500000.0</td>\n",
              "      <td>1900</td>\n",
              "      <td>0.5</td>\n",
              "      <td>NaN</td>\n",
              "      <td>5</td>\n",
              "    </tr>\n",
              "    <tr>\n",
              "      <th>a</th>\n",
              "      <td>M</td>\n",
              "      <td>1500000.0</td>\n",
              "      <td>1900</td>\n",
              "      <td>1.0</td>\n",
              "      <td>NaN</td>\n",
              "      <td>1</td>\n",
              "    </tr>\n",
              "    <tr>\n",
              "      <th>b</th>\n",
              "      <td>M</td>\n",
              "      <td>2000000.0</td>\n",
              "      <td>1950</td>\n",
              "      <td>0.0</td>\n",
              "      <td>NaN</td>\n",
              "      <td>2</td>\n",
              "    </tr>\n",
              "    <tr>\n",
              "      <th>e</th>\n",
              "      <td>B</td>\n",
              "      <td>1500000.0</td>\n",
              "      <td>2000</td>\n",
              "      <td>0.7</td>\n",
              "      <td>NaN</td>\n",
              "      <td>6</td>\n",
              "    </tr>\n",
              "    <tr>\n",
              "      <th>c</th>\n",
              "      <td>M</td>\n",
              "      <td>3000000.0</td>\n",
              "      <td>2000</td>\n",
              "      <td>2.0</td>\n",
              "      <td>NaN</td>\n",
              "      <td>3</td>\n",
              "    </tr>\n",
              "  </tbody>\n",
              "</table>\n",
              "</div>"
            ],
            "text/plain": [
              "  province  population  year  debt  2nd_language  sum\n",
              "d        B    500000.0  1900   0.5           NaN    5\n",
              "a        M   1500000.0  1900   1.0           NaN    1\n",
              "b        M   2000000.0  1950   0.0           NaN    2\n",
              "e        B   1500000.0  2000   0.7           NaN    6\n",
              "c        M   3000000.0  2000   2.0           NaN    3"
            ]
          },
          "execution_count": 381,
          "metadata": {},
          "output_type": "execute_result"
        }
      ],
      "source": [
        "df3.sort_values(by=['year', 'population'])"
      ]
    },
    {
      "cell_type": "code",
      "execution_count": null,
      "metadata": {
        "id": "uI201NCuYYxH",
        "outputId": "f4ee3472-ebd1-4d50-fffd-66d4281e3ef9"
      },
      "outputs": [
        {
          "data": {
            "text/html": [
              "<div>\n",
              "<style scoped>\n",
              "    .dataframe tbody tr th:only-of-type {\n",
              "        vertical-align: middle;\n",
              "    }\n",
              "\n",
              "    .dataframe tbody tr th {\n",
              "        vertical-align: top;\n",
              "    }\n",
              "\n",
              "    .dataframe thead th {\n",
              "        text-align: right;\n",
              "    }\n",
              "</style>\n",
              "<table border=\"1\" class=\"dataframe\">\n",
              "  <thead>\n",
              "    <tr style=\"text-align: right;\">\n",
              "      <th></th>\n",
              "      <th>province</th>\n",
              "      <th>population</th>\n",
              "      <th>year</th>\n",
              "      <th>debt</th>\n",
              "      <th>2nd_language</th>\n",
              "      <th>sum</th>\n",
              "    </tr>\n",
              "  </thead>\n",
              "  <tbody>\n",
              "    <tr>\n",
              "      <th>a</th>\n",
              "      <td>M</td>\n",
              "      <td>1500000.0</td>\n",
              "      <td>1900</td>\n",
              "      <td>1.0</td>\n",
              "      <td>NaN</td>\n",
              "      <td>1</td>\n",
              "    </tr>\n",
              "    <tr>\n",
              "      <th>d</th>\n",
              "      <td>B</td>\n",
              "      <td>500000.0</td>\n",
              "      <td>1900</td>\n",
              "      <td>0.5</td>\n",
              "      <td>NaN</td>\n",
              "      <td>5</td>\n",
              "    </tr>\n",
              "    <tr>\n",
              "      <th>b</th>\n",
              "      <td>M</td>\n",
              "      <td>2000000.0</td>\n",
              "      <td>1950</td>\n",
              "      <td>0.0</td>\n",
              "      <td>NaN</td>\n",
              "      <td>2</td>\n",
              "    </tr>\n",
              "    <tr>\n",
              "      <th>c</th>\n",
              "      <td>M</td>\n",
              "      <td>3000000.0</td>\n",
              "      <td>2000</td>\n",
              "      <td>2.0</td>\n",
              "      <td>NaN</td>\n",
              "      <td>3</td>\n",
              "    </tr>\n",
              "    <tr>\n",
              "      <th>e</th>\n",
              "      <td>B</td>\n",
              "      <td>1500000.0</td>\n",
              "      <td>2000</td>\n",
              "      <td>0.7</td>\n",
              "      <td>NaN</td>\n",
              "      <td>6</td>\n",
              "    </tr>\n",
              "  </tbody>\n",
              "</table>\n",
              "</div>"
            ],
            "text/plain": [
              "  province  population  year  debt  2nd_language  sum\n",
              "a        M   1500000.0  1900   1.0           NaN    1\n",
              "d        B    500000.0  1900   0.5           NaN    5\n",
              "b        M   2000000.0  1950   0.0           NaN    2\n",
              "c        M   3000000.0  2000   2.0           NaN    3\n",
              "e        B   1500000.0  2000   0.7           NaN    6"
            ]
          },
          "execution_count": 382,
          "metadata": {},
          "output_type": "execute_result"
        }
      ],
      "source": [
        "df3.sort_values(by=['year', 'population'], ascending=[True, False])"
      ]
    },
    {
      "cell_type": "markdown",
      "metadata": {
        "id": "6S0_sGf7YYxH"
      },
      "source": [
        "rank() returns the positions of the elements of the Series in its sorted version. If there are ties, it will take averages."
      ]
    },
    {
      "cell_type": "code",
      "execution_count": null,
      "metadata": {
        "id": "Npl_3o61YYxH",
        "outputId": "401cad64-b54d-491b-deb8-91114a4293e4"
      },
      "outputs": [
        {
          "data": {
            "text/plain": [
              "province\n",
              "B    3000000.0\n",
              "M    6000000.0\n",
              "P     120000.0\n",
              "V     700000.0\n",
              "Name: population_2000, dtype: float64"
            ]
          },
          "execution_count": 388,
          "metadata": {},
          "output_type": "execute_result"
        }
      ],
      "source": [
        "s3"
      ]
    },
    {
      "cell_type": "code",
      "execution_count": null,
      "metadata": {
        "id": "fWNWUDRGYYxI",
        "outputId": "3e3760ae-d9c3-4a46-b52c-d0c1e8452785"
      },
      "outputs": [
        {
          "data": {
            "text/plain": [
              "province\n",
              "P     120000.0\n",
              "V     700000.0\n",
              "B    3000000.0\n",
              "M    6000000.0\n",
              "Name: population_2000, dtype: float64"
            ]
          },
          "execution_count": 387,
          "metadata": {},
          "output_type": "execute_result"
        }
      ],
      "source": [
        "s3.sort_values()"
      ]
    },
    {
      "cell_type": "code",
      "execution_count": null,
      "metadata": {
        "id": "iyQY_G2ZYYxI",
        "outputId": "87a80cf8-d7e5-4bb1-e178-054ee8526fe9"
      },
      "outputs": [
        {
          "data": {
            "text/plain": [
              "province\n",
              "B    3.0\n",
              "M    4.0\n",
              "P    1.0\n",
              "V    2.0\n",
              "Name: population_2000, dtype: float64"
            ]
          },
          "execution_count": 389,
          "metadata": {},
          "output_type": "execute_result"
        }
      ],
      "source": [
        "s3.rank()"
      ]
    },
    {
      "cell_type": "code",
      "execution_count": null,
      "metadata": {
        "id": "Q3V64uKyYYxI",
        "outputId": "9f848870-58e6-403d-b325-935725ff562b"
      },
      "outputs": [
        {
          "data": {
            "text/plain": [
              "province\n",
              "B    2.0\n",
              "M    1.0\n",
              "P    4.0\n",
              "V    3.0\n",
              "Name: population_2000, dtype: float64"
            ]
          },
          "execution_count": 391,
          "metadata": {},
          "output_type": "execute_result"
        }
      ],
      "source": [
        "s3.rank(ascending=False)"
      ]
    },
    {
      "cell_type": "code",
      "execution_count": null,
      "metadata": {
        "id": "TQq33J9sYYxI",
        "outputId": "d26088a7-9a09-41ee-8689-5822b7f2bfed"
      },
      "outputs": [
        {
          "data": {
            "text/plain": [
              "province\n",
              "B    0.75\n",
              "M    1.00\n",
              "P    0.25\n",
              "V    0.50\n",
              "Name: population_2000, dtype: float64"
            ]
          },
          "execution_count": 392,
          "metadata": {},
          "output_type": "execute_result"
        }
      ],
      "source": [
        "s3.rank(pct=True)"
      ]
    },
    {
      "cell_type": "code",
      "execution_count": null,
      "metadata": {
        "id": "BjPgy8fIYYxI",
        "outputId": "2dee672e-0277-480d-a69a-c3ced0641436"
      },
      "outputs": [
        {
          "data": {
            "text/plain": [
              "0    a\n",
              "1    b\n",
              "2    d\n",
              "3    f\n",
              "4    h\n",
              "5    e\n",
              "6    g\n",
              "7    a\n",
              "8    h\n",
              "9    h\n",
              "dtype: object"
            ]
          },
          "execution_count": 394,
          "metadata": {},
          "output_type": "execute_result"
        }
      ],
      "source": [
        "s7 = pd.Series(list('abdfhegahh'))\n",
        "s7"
      ]
    },
    {
      "cell_type": "code",
      "execution_count": null,
      "metadata": {
        "id": "g6v3fqm0YYxJ",
        "outputId": "97e73c74-f3ff-4fa1-c9ec-e9a2ed9a27db"
      },
      "outputs": [
        {
          "data": {
            "text/plain": [
              "0    1.5\n",
              "1    3.0\n",
              "2    4.0\n",
              "3    6.0\n",
              "4    9.0\n",
              "5    5.0\n",
              "6    7.0\n",
              "7    1.5\n",
              "8    9.0\n",
              "9    9.0\n",
              "dtype: float64"
            ]
          },
          "execution_count": 395,
          "metadata": {},
          "output_type": "execute_result"
        }
      ],
      "source": [
        "s7.rank()"
      ]
    },
    {
      "cell_type": "code",
      "execution_count": null,
      "metadata": {
        "id": "l2RMdnDTYYxJ",
        "outputId": "c8afbe31-164a-4a2f-c172-6701d5353e14"
      },
      "outputs": [
        {
          "data": {
            "text/plain": [
              "0    1.0\n",
              "1    3.0\n",
              "2    4.0\n",
              "3    6.0\n",
              "4    8.0\n",
              "5    5.0\n",
              "6    7.0\n",
              "7    1.0\n",
              "8    8.0\n",
              "9    8.0\n",
              "dtype: float64"
            ]
          },
          "execution_count": 398,
          "metadata": {},
          "output_type": "execute_result"
        }
      ],
      "source": [
        "s7.rank(method='min')"
      ]
    },
    {
      "cell_type": "code",
      "execution_count": null,
      "metadata": {
        "id": "_r57jGdRYYxJ",
        "outputId": "d7bff4e0-0e34-4b8a-95fc-cc0cc3de9fe0"
      },
      "outputs": [
        {
          "data": {
            "text/plain": [
              "0    1.0\n",
              "1    2.0\n",
              "2    3.0\n",
              "3    5.0\n",
              "4    7.0\n",
              "5    4.0\n",
              "6    6.0\n",
              "7    1.0\n",
              "8    7.0\n",
              "9    7.0\n",
              "dtype: float64"
            ]
          },
          "execution_count": 399,
          "metadata": {},
          "output_type": "execute_result"
        }
      ],
      "source": [
        "s7.rank(method='dense')"
      ]
    },
    {
      "cell_type": "markdown",
      "metadata": {
        "id": "c1sdiKOLYYxJ"
      },
      "source": [
        "#### Exercise\n",
        "\n",
        "Write a function that takes a Series and returns the top 10% registers. In this case, earners. Test it with this Series:\n",
        "\n",
        "```python\n",
        "salaries = pd.Series([150000, 90000, 120000,30000,10000,5000,40000, 50000, 80000, 35000, 27000,14000, 28000, 22000,25000])\n",
        "```"
      ]
    },
    {
      "cell_type": "code",
      "execution_count": null,
      "metadata": {
        "id": "PhFAYI_2YYxK",
        "outputId": "5ab16a52-15da-4ee1-d9ea-b5357e3e0490"
      },
      "outputs": [
        {
          "data": {
            "text/plain": [
              "0     150000\n",
              "1      90000\n",
              "2     120000\n",
              "3      30000\n",
              "4      10000\n",
              "5       5000\n",
              "6      40000\n",
              "7      50000\n",
              "8      80000\n",
              "9      35000\n",
              "10     27000\n",
              "11     14000\n",
              "12     28000\n",
              "13     22000\n",
              "14     25000\n",
              "dtype: int64"
            ]
          },
          "execution_count": 401,
          "metadata": {},
          "output_type": "execute_result"
        }
      ],
      "source": [
        "salaries = pd.Series([150000, 90000, 120000,30000,10000,5000,40000, 50000, 80000, 35000, 27000,14000, 28000, 22000,25000])\n",
        "salaries"
      ]
    },
    {
      "cell_type": "code",
      "execution_count": null,
      "metadata": {
        "id": "q3zpToZ4YYxL",
        "outputId": "e35ac6c1-022f-4e0d-992b-d21850a1c165"
      },
      "outputs": [
        {
          "data": {
            "text/plain": [
              "0    150000\n",
              "dtype: int64"
            ]
          },
          "execution_count": 409,
          "metadata": {},
          "output_type": "execute_result"
        }
      ],
      "source": [
        "def top_ten(series):\n",
        "    records_to_return = int(len(series) / 10)\n",
        "    return series.sort_values(ascending=False)[:records_to_return]\n",
        "\n",
        "top_ten(salaries)"
      ]
    },
    {
      "cell_type": "code",
      "execution_count": null,
      "metadata": {
        "id": "jZ64j3ZvYYxL",
        "outputId": "94df92b2-ec2a-4452-9197-2ddc982f1ea5"
      },
      "outputs": [
        {
          "data": {
            "text/plain": [
              "0    150000\n",
              "2    120000\n",
              "dtype: int64"
            ]
          },
          "execution_count": 415,
          "metadata": {},
          "output_type": "execute_result"
        }
      ],
      "source": [
        "salaries[salaries.rank(pct=True) > .9]"
      ]
    },
    {
      "cell_type": "code",
      "execution_count": null,
      "metadata": {
        "id": "AUBxrcoSYYxL",
        "outputId": "8e28747b-a510-4b90-fe93-6e6d47af4627"
      },
      "outputs": [
        {
          "data": {
            "text/plain": [
              "0    1.000000\n",
              "1    0.866667\n",
              "2    0.933333\n",
              "dtype: float64"
            ]
          },
          "execution_count": 418,
          "metadata": {},
          "output_type": "execute_result"
        }
      ],
      "source": [
        "salaries.rank(pct=True)[:3]"
      ]
    },
    {
      "cell_type": "code",
      "execution_count": null,
      "metadata": {
        "id": "b56z-iVBYYxL",
        "outputId": "c0f953ed-33c4-40b1-98ed-413ff70745d3"
      },
      "outputs": [
        {
          "data": {
            "text/plain": [
              "0    0.066667\n",
              "1    0.200000\n",
              "2    0.133333\n",
              "dtype: float64"
            ]
          },
          "execution_count": 419,
          "metadata": {},
          "output_type": "execute_result"
        }
      ],
      "source": [
        "salaries.rank(pct=True, ascending=False)[:3]"
      ]
    },
    {
      "cell_type": "markdown",
      "metadata": {
        "id": "uKna0U8DYYxL"
      },
      "source": [
        "## Summarizing and computing descriptive statistics"
      ]
    },
    {
      "cell_type": "code",
      "execution_count": null,
      "metadata": {
        "id": "TYjLqr4rYYxL",
        "outputId": "649145cd-9680-4ffc-a2ba-e05442880008"
      },
      "outputs": [
        {
          "data": {
            "text/html": [
              "<div>\n",
              "<style scoped>\n",
              "    .dataframe tbody tr th:only-of-type {\n",
              "        vertical-align: middle;\n",
              "    }\n",
              "\n",
              "    .dataframe tbody tr th {\n",
              "        vertical-align: top;\n",
              "    }\n",
              "\n",
              "    .dataframe thead th {\n",
              "        text-align: right;\n",
              "    }\n",
              "</style>\n",
              "<table border=\"1\" class=\"dataframe\">\n",
              "  <thead>\n",
              "    <tr style=\"text-align: right;\">\n",
              "      <th></th>\n",
              "      <th>x</th>\n",
              "      <th>y</th>\n",
              "    </tr>\n",
              "  </thead>\n",
              "  <tbody>\n",
              "    <tr>\n",
              "      <th>0</th>\n",
              "      <td>5.0</td>\n",
              "      <td>11.0</td>\n",
              "    </tr>\n",
              "    <tr>\n",
              "      <th>1</th>\n",
              "      <td>NaN</td>\n",
              "      <td>NaN</td>\n",
              "    </tr>\n",
              "    <tr>\n",
              "      <th>2</th>\n",
              "      <td>7.0</td>\n",
              "      <td>22.0</td>\n",
              "    </tr>\n",
              "    <tr>\n",
              "      <th>3</th>\n",
              "      <td>NaN</td>\n",
              "      <td>3.0</td>\n",
              "    </tr>\n",
              "    <tr>\n",
              "      <th>4</th>\n",
              "      <td>NaN</td>\n",
              "      <td>3.0</td>\n",
              "    </tr>\n",
              "    <tr>\n",
              "      <th>5</th>\n",
              "      <td>2.0</td>\n",
              "      <td>17.0</td>\n",
              "    </tr>\n",
              "    <tr>\n",
              "      <th>6</th>\n",
              "      <td>7.0</td>\n",
              "      <td>17.0</td>\n",
              "    </tr>\n",
              "    <tr>\n",
              "      <th>7</th>\n",
              "      <td>7.0</td>\n",
              "      <td>11.0</td>\n",
              "    </tr>\n",
              "    <tr>\n",
              "      <th>8</th>\n",
              "      <td>7.0</td>\n",
              "      <td>22.0</td>\n",
              "    </tr>\n",
              "    <tr>\n",
              "      <th>9</th>\n",
              "      <td>NaN</td>\n",
              "      <td>22.0</td>\n",
              "    </tr>\n",
              "    <tr>\n",
              "      <th>10</th>\n",
              "      <td>5.0</td>\n",
              "      <td>17.0</td>\n",
              "    </tr>\n",
              "    <tr>\n",
              "      <th>11</th>\n",
              "      <td>7.0</td>\n",
              "      <td>22.0</td>\n",
              "    </tr>\n",
              "    <tr>\n",
              "      <th>12</th>\n",
              "      <td>NaN</td>\n",
              "      <td>22.0</td>\n",
              "    </tr>\n",
              "    <tr>\n",
              "      <th>13</th>\n",
              "      <td>2.0</td>\n",
              "      <td>3.0</td>\n",
              "    </tr>\n",
              "    <tr>\n",
              "      <th>14</th>\n",
              "      <td>5.0</td>\n",
              "      <td>17.0</td>\n",
              "    </tr>\n",
              "    <tr>\n",
              "      <th>15</th>\n",
              "      <td>2.0</td>\n",
              "      <td>NaN</td>\n",
              "    </tr>\n",
              "    <tr>\n",
              "      <th>16</th>\n",
              "      <td>5.0</td>\n",
              "      <td>17.0</td>\n",
              "    </tr>\n",
              "    <tr>\n",
              "      <th>17</th>\n",
              "      <td>NaN</td>\n",
              "      <td>NaN</td>\n",
              "    </tr>\n",
              "    <tr>\n",
              "      <th>18</th>\n",
              "      <td>1.0</td>\n",
              "      <td>3.0</td>\n",
              "    </tr>\n",
              "    <tr>\n",
              "      <th>19</th>\n",
              "      <td>5.0</td>\n",
              "      <td>11.0</td>\n",
              "    </tr>\n",
              "  </tbody>\n",
              "</table>\n",
              "</div>"
            ],
            "text/plain": [
              "      x     y\n",
              "0   5.0  11.0\n",
              "1   NaN   NaN\n",
              "2   7.0  22.0\n",
              "3   NaN   3.0\n",
              "4   NaN   3.0\n",
              "5   2.0  17.0\n",
              "6   7.0  17.0\n",
              "7   7.0  11.0\n",
              "8   7.0  22.0\n",
              "9   NaN  22.0\n",
              "10  5.0  17.0\n",
              "11  7.0  22.0\n",
              "12  NaN  22.0\n",
              "13  2.0   3.0\n",
              "14  5.0  17.0\n",
              "15  2.0   NaN\n",
              "16  5.0  17.0\n",
              "17  NaN   NaN\n",
              "18  1.0   3.0\n",
              "19  5.0  11.0"
            ]
          },
          "execution_count": 443,
          "metadata": {},
          "output_type": "execute_result"
        }
      ],
      "source": [
        "np.random.seed(42)\n",
        "\n",
        "x = pd.Series(np.random.choice([1.,2.,7.,5., np.nan], size = 20))\n",
        "y = pd.Series(np.random.choice([3., 11, 17, 22, np.nan], size = 20))\n",
        "\n",
        "df = pd.DataFrame([x,y], index=['x', 'y']).T\n",
        "df"
      ]
    },
    {
      "cell_type": "code",
      "execution_count": null,
      "metadata": {
        "id": "y6GbnYy8YYxM",
        "outputId": "c1b76780-49c7-44df-a68e-db18e763d626"
      },
      "outputs": [
        {
          "data": {
            "text/plain": [
              "x     67.0\n",
              "y    240.0\n",
              "dtype: float64"
            ]
          },
          "execution_count": 444,
          "metadata": {},
          "output_type": "execute_result"
        }
      ],
      "source": [
        "df.sum()"
      ]
    },
    {
      "cell_type": "code",
      "execution_count": null,
      "metadata": {
        "id": "bvlamWYUYYxM",
        "outputId": "77e79e2f-ebfb-4442-9483-b4720bbc69d6"
      },
      "outputs": [
        {
          "data": {
            "text/plain": [
              "x     4.785714\n",
              "y    14.117647\n",
              "dtype: float64"
            ]
          },
          "execution_count": 445,
          "metadata": {},
          "output_type": "execute_result"
        }
      ],
      "source": [
        "df.mean()"
      ]
    },
    {
      "cell_type": "code",
      "execution_count": null,
      "metadata": {
        "id": "CaWbYXedYYxM",
        "outputId": "2f943a84-c51d-4bf5-ad31-812da6a7ce0a"
      },
      "outputs": [
        {
          "data": {
            "text/plain": [
              "x     5.0\n",
              "y    17.0\n",
              "dtype: float64"
            ]
          },
          "execution_count": 446,
          "metadata": {},
          "output_type": "execute_result"
        }
      ],
      "source": [
        "df.median()"
      ]
    },
    {
      "cell_type": "code",
      "execution_count": null,
      "metadata": {
        "id": "PfNriwGTYYxM",
        "outputId": "350e3ddc-db04-43de-dcec-a54015a6a5cb"
      },
      "outputs": [
        {
          "data": {
            "text/plain": [
              "x    2.190138\n",
              "y    7.398330\n",
              "dtype: float64"
            ]
          },
          "execution_count": 447,
          "metadata": {},
          "output_type": "execute_result"
        }
      ],
      "source": [
        "df.std()"
      ]
    },
    {
      "cell_type": "code",
      "execution_count": null,
      "metadata": {
        "id": "Me9XcD2wYYxM",
        "outputId": "96c6a726-8b73-4f5e-9334-046923745286"
      },
      "outputs": [
        {
          "data": {
            "text/html": [
              "<div>\n",
              "<style scoped>\n",
              "    .dataframe tbody tr th:only-of-type {\n",
              "        vertical-align: middle;\n",
              "    }\n",
              "\n",
              "    .dataframe tbody tr th {\n",
              "        vertical-align: top;\n",
              "    }\n",
              "\n",
              "    .dataframe thead th {\n",
              "        text-align: right;\n",
              "    }\n",
              "</style>\n",
              "<table border=\"1\" class=\"dataframe\">\n",
              "  <thead>\n",
              "    <tr style=\"text-align: right;\">\n",
              "      <th></th>\n",
              "      <th>x</th>\n",
              "      <th>y</th>\n",
              "    </tr>\n",
              "  </thead>\n",
              "  <tbody>\n",
              "    <tr>\n",
              "      <th>count</th>\n",
              "      <td>14.000000</td>\n",
              "      <td>17.000000</td>\n",
              "    </tr>\n",
              "    <tr>\n",
              "      <th>mean</th>\n",
              "      <td>4.785714</td>\n",
              "      <td>14.117647</td>\n",
              "    </tr>\n",
              "    <tr>\n",
              "      <th>std</th>\n",
              "      <td>2.190138</td>\n",
              "      <td>7.398330</td>\n",
              "    </tr>\n",
              "    <tr>\n",
              "      <th>min</th>\n",
              "      <td>1.000000</td>\n",
              "      <td>3.000000</td>\n",
              "    </tr>\n",
              "    <tr>\n",
              "      <th>25%</th>\n",
              "      <td>2.750000</td>\n",
              "      <td>11.000000</td>\n",
              "    </tr>\n",
              "    <tr>\n",
              "      <th>50%</th>\n",
              "      <td>5.000000</td>\n",
              "      <td>17.000000</td>\n",
              "    </tr>\n",
              "    <tr>\n",
              "      <th>75%</th>\n",
              "      <td>7.000000</td>\n",
              "      <td>22.000000</td>\n",
              "    </tr>\n",
              "    <tr>\n",
              "      <th>max</th>\n",
              "      <td>7.000000</td>\n",
              "      <td>22.000000</td>\n",
              "    </tr>\n",
              "  </tbody>\n",
              "</table>\n",
              "</div>"
            ],
            "text/plain": [
              "               x          y\n",
              "count  14.000000  17.000000\n",
              "mean    4.785714  14.117647\n",
              "std     2.190138   7.398330\n",
              "min     1.000000   3.000000\n",
              "25%     2.750000  11.000000\n",
              "50%     5.000000  17.000000\n",
              "75%     7.000000  22.000000\n",
              "max     7.000000  22.000000"
            ]
          },
          "execution_count": 448,
          "metadata": {},
          "output_type": "execute_result"
        }
      ],
      "source": [
        "df.describe()"
      ]
    },
    {
      "cell_type": "markdown",
      "metadata": {
        "id": "dCffwGY_YYxN"
      },
      "source": [
        "As with many methods, we can use them in the direction perpendicular to their default."
      ]
    },
    {
      "cell_type": "code",
      "execution_count": null,
      "metadata": {
        "id": "bxOC33-gYYxN",
        "outputId": "e818e83f-5775-4707-83e9-519d19e29c99"
      },
      "outputs": [
        {
          "data": {
            "text/plain": [
              "0     16.0\n",
              "1      0.0\n",
              "2     29.0\n",
              "3      3.0\n",
              "4      3.0\n",
              "5     19.0\n",
              "6     24.0\n",
              "7     18.0\n",
              "8     29.0\n",
              "9     22.0\n",
              "10    22.0\n",
              "11    29.0\n",
              "12    22.0\n",
              "13     5.0\n",
              "14    22.0\n",
              "15     2.0\n",
              "16    22.0\n",
              "17     0.0\n",
              "18     4.0\n",
              "19    16.0\n",
              "dtype: float64"
            ]
          },
          "execution_count": 450,
          "metadata": {},
          "output_type": "execute_result"
        }
      ],
      "source": [
        "df.sum(axis=1)"
      ]
    },
    {
      "cell_type": "code",
      "execution_count": null,
      "metadata": {
        "id": "Fhn6-f8PYYxN",
        "outputId": "1de8cde7-1e40-4dfa-eed6-bce0ddbac633"
      },
      "outputs": [
        {
          "data": {
            "text/plain": [
              "0     16.0\n",
              "1      NaN\n",
              "2     29.0\n",
              "3      NaN\n",
              "4      NaN\n",
              "5     19.0\n",
              "6     24.0\n",
              "7     18.0\n",
              "8     29.0\n",
              "9      NaN\n",
              "10    22.0\n",
              "11    29.0\n",
              "12     NaN\n",
              "13     5.0\n",
              "14    22.0\n",
              "15     NaN\n",
              "16    22.0\n",
              "17     NaN\n",
              "18     4.0\n",
              "19    16.0\n",
              "dtype: float64"
            ]
          },
          "execution_count": 451,
          "metadata": {},
          "output_type": "execute_result"
        }
      ],
      "source": [
        "df.sum(axis=1, skipna=False)"
      ]
    },
    {
      "cell_type": "code",
      "execution_count": null,
      "metadata": {
        "id": "2UfruNEUYYxN",
        "outputId": "f727774f-926d-4b47-de71-c48dcddfc984"
      },
      "outputs": [
        {
          "data": {
            "text/html": [
              "<div>\n",
              "<style scoped>\n",
              "    .dataframe tbody tr th:only-of-type {\n",
              "        vertical-align: middle;\n",
              "    }\n",
              "\n",
              "    .dataframe tbody tr th {\n",
              "        vertical-align: top;\n",
              "    }\n",
              "\n",
              "    .dataframe thead th {\n",
              "        text-align: right;\n",
              "    }\n",
              "</style>\n",
              "<table border=\"1\" class=\"dataframe\">\n",
              "  <thead>\n",
              "    <tr style=\"text-align: right;\">\n",
              "      <th></th>\n",
              "      <th>x</th>\n",
              "      <th>y</th>\n",
              "    </tr>\n",
              "  </thead>\n",
              "  <tbody>\n",
              "    <tr>\n",
              "      <th>0</th>\n",
              "      <td>5.0</td>\n",
              "      <td>11.0</td>\n",
              "    </tr>\n",
              "    <tr>\n",
              "      <th>1</th>\n",
              "      <td>NaN</td>\n",
              "      <td>NaN</td>\n",
              "    </tr>\n",
              "    <tr>\n",
              "      <th>2</th>\n",
              "      <td>12.0</td>\n",
              "      <td>33.0</td>\n",
              "    </tr>\n",
              "    <tr>\n",
              "      <th>3</th>\n",
              "      <td>NaN</td>\n",
              "      <td>36.0</td>\n",
              "    </tr>\n",
              "    <tr>\n",
              "      <th>4</th>\n",
              "      <td>NaN</td>\n",
              "      <td>39.0</td>\n",
              "    </tr>\n",
              "    <tr>\n",
              "      <th>5</th>\n",
              "      <td>14.0</td>\n",
              "      <td>56.0</td>\n",
              "    </tr>\n",
              "    <tr>\n",
              "      <th>6</th>\n",
              "      <td>21.0</td>\n",
              "      <td>73.0</td>\n",
              "    </tr>\n",
              "    <tr>\n",
              "      <th>7</th>\n",
              "      <td>28.0</td>\n",
              "      <td>84.0</td>\n",
              "    </tr>\n",
              "    <tr>\n",
              "      <th>8</th>\n",
              "      <td>35.0</td>\n",
              "      <td>106.0</td>\n",
              "    </tr>\n",
              "    <tr>\n",
              "      <th>9</th>\n",
              "      <td>NaN</td>\n",
              "      <td>128.0</td>\n",
              "    </tr>\n",
              "    <tr>\n",
              "      <th>10</th>\n",
              "      <td>40.0</td>\n",
              "      <td>145.0</td>\n",
              "    </tr>\n",
              "    <tr>\n",
              "      <th>11</th>\n",
              "      <td>47.0</td>\n",
              "      <td>167.0</td>\n",
              "    </tr>\n",
              "    <tr>\n",
              "      <th>12</th>\n",
              "      <td>NaN</td>\n",
              "      <td>189.0</td>\n",
              "    </tr>\n",
              "    <tr>\n",
              "      <th>13</th>\n",
              "      <td>49.0</td>\n",
              "      <td>192.0</td>\n",
              "    </tr>\n",
              "    <tr>\n",
              "      <th>14</th>\n",
              "      <td>54.0</td>\n",
              "      <td>209.0</td>\n",
              "    </tr>\n",
              "    <tr>\n",
              "      <th>15</th>\n",
              "      <td>56.0</td>\n",
              "      <td>NaN</td>\n",
              "    </tr>\n",
              "    <tr>\n",
              "      <th>16</th>\n",
              "      <td>61.0</td>\n",
              "      <td>226.0</td>\n",
              "    </tr>\n",
              "    <tr>\n",
              "      <th>17</th>\n",
              "      <td>NaN</td>\n",
              "      <td>NaN</td>\n",
              "    </tr>\n",
              "    <tr>\n",
              "      <th>18</th>\n",
              "      <td>62.0</td>\n",
              "      <td>229.0</td>\n",
              "    </tr>\n",
              "    <tr>\n",
              "      <th>19</th>\n",
              "      <td>67.0</td>\n",
              "      <td>240.0</td>\n",
              "    </tr>\n",
              "  </tbody>\n",
              "</table>\n",
              "</div>"
            ],
            "text/plain": [
              "       x      y\n",
              "0    5.0   11.0\n",
              "1    NaN    NaN\n",
              "2   12.0   33.0\n",
              "3    NaN   36.0\n",
              "4    NaN   39.0\n",
              "5   14.0   56.0\n",
              "6   21.0   73.0\n",
              "7   28.0   84.0\n",
              "8   35.0  106.0\n",
              "9    NaN  128.0\n",
              "10  40.0  145.0\n",
              "11  47.0  167.0\n",
              "12   NaN  189.0\n",
              "13  49.0  192.0\n",
              "14  54.0  209.0\n",
              "15  56.0    NaN\n",
              "16  61.0  226.0\n",
              "17   NaN    NaN\n",
              "18  62.0  229.0\n",
              "19  67.0  240.0"
            ]
          },
          "execution_count": 452,
          "metadata": {},
          "output_type": "execute_result"
        }
      ],
      "source": [
        "df.cumsum()"
      ]
    },
    {
      "cell_type": "code",
      "execution_count": null,
      "metadata": {
        "collapsed": true,
        "id": "2oifYsLMYYxN",
        "outputId": "27ecabf1-5013-495e-c532-2d6a6e784e2c"
      },
      "outputs": [
        {
          "data": {
            "text/html": [
              "<div>\n",
              "<style scoped>\n",
              "    .dataframe tbody tr th:only-of-type {\n",
              "        vertical-align: middle;\n",
              "    }\n",
              "\n",
              "    .dataframe tbody tr th {\n",
              "        vertical-align: top;\n",
              "    }\n",
              "\n",
              "    .dataframe thead th {\n",
              "        text-align: right;\n",
              "    }\n",
              "</style>\n",
              "<table border=\"1\" class=\"dataframe\">\n",
              "  <thead>\n",
              "    <tr style=\"text-align: right;\">\n",
              "      <th></th>\n",
              "      <th>x</th>\n",
              "      <th>y</th>\n",
              "    </tr>\n",
              "  </thead>\n",
              "  <tbody>\n",
              "    <tr>\n",
              "      <th>0</th>\n",
              "      <td>5.0</td>\n",
              "      <td>11.0</td>\n",
              "    </tr>\n",
              "    <tr>\n",
              "      <th>1</th>\n",
              "      <td>NaN</td>\n",
              "      <td>NaN</td>\n",
              "    </tr>\n",
              "    <tr>\n",
              "      <th>2</th>\n",
              "      <td>5.0</td>\n",
              "      <td>11.0</td>\n",
              "    </tr>\n",
              "    <tr>\n",
              "      <th>3</th>\n",
              "      <td>NaN</td>\n",
              "      <td>3.0</td>\n",
              "    </tr>\n",
              "    <tr>\n",
              "      <th>4</th>\n",
              "      <td>NaN</td>\n",
              "      <td>3.0</td>\n",
              "    </tr>\n",
              "    <tr>\n",
              "      <th>5</th>\n",
              "      <td>2.0</td>\n",
              "      <td>3.0</td>\n",
              "    </tr>\n",
              "    <tr>\n",
              "      <th>6</th>\n",
              "      <td>2.0</td>\n",
              "      <td>3.0</td>\n",
              "    </tr>\n",
              "    <tr>\n",
              "      <th>7</th>\n",
              "      <td>2.0</td>\n",
              "      <td>3.0</td>\n",
              "    </tr>\n",
              "    <tr>\n",
              "      <th>8</th>\n",
              "      <td>2.0</td>\n",
              "      <td>3.0</td>\n",
              "    </tr>\n",
              "    <tr>\n",
              "      <th>9</th>\n",
              "      <td>NaN</td>\n",
              "      <td>3.0</td>\n",
              "    </tr>\n",
              "    <tr>\n",
              "      <th>10</th>\n",
              "      <td>2.0</td>\n",
              "      <td>3.0</td>\n",
              "    </tr>\n",
              "    <tr>\n",
              "      <th>11</th>\n",
              "      <td>2.0</td>\n",
              "      <td>3.0</td>\n",
              "    </tr>\n",
              "    <tr>\n",
              "      <th>12</th>\n",
              "      <td>NaN</td>\n",
              "      <td>3.0</td>\n",
              "    </tr>\n",
              "    <tr>\n",
              "      <th>13</th>\n",
              "      <td>2.0</td>\n",
              "      <td>3.0</td>\n",
              "    </tr>\n",
              "    <tr>\n",
              "      <th>14</th>\n",
              "      <td>2.0</td>\n",
              "      <td>3.0</td>\n",
              "    </tr>\n",
              "    <tr>\n",
              "      <th>15</th>\n",
              "      <td>2.0</td>\n",
              "      <td>NaN</td>\n",
              "    </tr>\n",
              "    <tr>\n",
              "      <th>16</th>\n",
              "      <td>2.0</td>\n",
              "      <td>3.0</td>\n",
              "    </tr>\n",
              "    <tr>\n",
              "      <th>17</th>\n",
              "      <td>NaN</td>\n",
              "      <td>NaN</td>\n",
              "    </tr>\n",
              "    <tr>\n",
              "      <th>18</th>\n",
              "      <td>1.0</td>\n",
              "      <td>3.0</td>\n",
              "    </tr>\n",
              "    <tr>\n",
              "      <th>19</th>\n",
              "      <td>1.0</td>\n",
              "      <td>3.0</td>\n",
              "    </tr>\n",
              "  </tbody>\n",
              "</table>\n",
              "</div>"
            ],
            "text/plain": [
              "      x     y\n",
              "0   5.0  11.0\n",
              "1   NaN   NaN\n",
              "2   5.0  11.0\n",
              "3   NaN   3.0\n",
              "4   NaN   3.0\n",
              "5   2.0   3.0\n",
              "6   2.0   3.0\n",
              "7   2.0   3.0\n",
              "8   2.0   3.0\n",
              "9   NaN   3.0\n",
              "10  2.0   3.0\n",
              "11  2.0   3.0\n",
              "12  NaN   3.0\n",
              "13  2.0   3.0\n",
              "14  2.0   3.0\n",
              "15  2.0   NaN\n",
              "16  2.0   3.0\n",
              "17  NaN   NaN\n",
              "18  1.0   3.0\n",
              "19  1.0   3.0"
            ]
          },
          "execution_count": 454,
          "metadata": {},
          "output_type": "execute_result"
        }
      ],
      "source": [
        "df.cummin()"
      ]
    },
    {
      "cell_type": "markdown",
      "metadata": {
        "id": "JnKT2ZqEYYxO"
      },
      "source": [
        "### Unique values, value counts, and membership"
      ]
    },
    {
      "cell_type": "code",
      "execution_count": null,
      "metadata": {
        "collapsed": true,
        "id": "jRf0L-QfYYxO",
        "outputId": "a7ce266d-b5f1-4a8e-df08-5807ed0efb0c"
      },
      "outputs": [
        {
          "data": {
            "text/plain": [
              "0     a\n",
              "1     g\n",
              "2     c\n",
              "3     t\n",
              "4     c\n",
              "5     g\n",
              "6     a\n",
              "7     g\n",
              "8     t\n",
              "9     c\n",
              "10    g\n",
              "11    a\n",
              "12    g\n",
              "13    a\n",
              "14    g\n",
              "15    g\n",
              "16    a\n",
              "17    a\n",
              "18    t\n",
              "19    c\n",
              "20    t\n",
              "21    t\n",
              "dtype: object"
            ]
          },
          "execution_count": 456,
          "metadata": {},
          "output_type": "execute_result"
        }
      ],
      "source": [
        "s8 = pd.Series(list('agctcgagtcgagaggaatctt'))\n",
        "s8"
      ]
    },
    {
      "cell_type": "code",
      "execution_count": null,
      "metadata": {
        "id": "arzSWz-7YYxO",
        "outputId": "fed99101-e0d0-4af3-f0c1-137ffd1fdb38"
      },
      "outputs": [
        {
          "data": {
            "text/plain": [
              "array(['a', 'g', 'c', 't'], dtype=object)"
            ]
          },
          "execution_count": 457,
          "metadata": {},
          "output_type": "execute_result"
        }
      ],
      "source": [
        "s8.unique()"
      ]
    },
    {
      "cell_type": "code",
      "execution_count": null,
      "metadata": {
        "id": "MTHM6AbrYYxO",
        "outputId": "e2eebe2c-c2f8-4472-fe71-50de4553051c"
      },
      "outputs": [
        {
          "data": {
            "text/plain": [
              "g    7\n",
              "a    6\n",
              "t    5\n",
              "c    4\n",
              "dtype: int64"
            ]
          },
          "execution_count": 458,
          "metadata": {},
          "output_type": "execute_result"
        }
      ],
      "source": [
        "s8.value_counts()"
      ]
    },
    {
      "cell_type": "code",
      "execution_count": null,
      "metadata": {
        "id": "W3cOE6M2YYxP",
        "outputId": "d18e6239-8625-440d-9563-d16a40897851"
      },
      "outputs": [
        {
          "data": {
            "text/plain": [
              "0     False\n",
              "1      True\n",
              "2      True\n",
              "3     False\n",
              "4      True\n",
              "5      True\n",
              "6     False\n",
              "7      True\n",
              "8     False\n",
              "9      True\n",
              "10     True\n",
              "11    False\n",
              "12     True\n",
              "13    False\n",
              "14     True\n",
              "15     True\n",
              "16    False\n",
              "17    False\n",
              "18    False\n",
              "19     True\n",
              "20    False\n",
              "21    False\n",
              "dtype: bool"
            ]
          },
          "execution_count": 459,
          "metadata": {},
          "output_type": "execute_result"
        }
      ],
      "source": [
        "s8.isin(['g', 'c'])"
      ]
    },
    {
      "cell_type": "code",
      "execution_count": null,
      "metadata": {
        "id": "ncyFuWN7YYxP",
        "outputId": "b8ceb53b-b893-4bc0-f096-e3834ad8c477"
      },
      "outputs": [
        {
          "data": {
            "text/plain": [
              "0.5"
            ]
          },
          "execution_count": 460,
          "metadata": {},
          "output_type": "execute_result"
        }
      ],
      "source": [
        "s8.isin(['g', 'c']).mean()"
      ]
    },
    {
      "cell_type": "markdown",
      "metadata": {
        "id": "YaXv5c8KYYxP"
      },
      "source": [
        "## Handling missing data"
      ]
    },
    {
      "cell_type": "code",
      "execution_count": null,
      "metadata": {
        "id": "W8cGmIqAYYxP",
        "outputId": "62d0c2aa-4c24-4c18-d1fa-5712cd3e1ae1"
      },
      "outputs": [
        {
          "data": {
            "text/plain": [
              "0     5.0\n",
              "1     NaN\n",
              "2     7.0\n",
              "3     NaN\n",
              "4     NaN\n",
              "5     2.0\n",
              "6     7.0\n",
              "7     7.0\n",
              "8     7.0\n",
              "9     NaN\n",
              "10    5.0\n",
              "11    7.0\n",
              "12    NaN\n",
              "13    2.0\n",
              "14    5.0\n",
              "15    2.0\n",
              "16    5.0\n",
              "17    NaN\n",
              "18    1.0\n",
              "19    5.0\n",
              "dtype: float64"
            ]
          },
          "execution_count": 466,
          "metadata": {},
          "output_type": "execute_result"
        }
      ],
      "source": [
        "x[x != np.nan]"
      ]
    },
    {
      "cell_type": "code",
      "execution_count": null,
      "metadata": {
        "id": "3voShliQYYxP",
        "outputId": "0c4f0c42-8e20-4430-f535-845e840a4717"
      },
      "outputs": [
        {
          "data": {
            "text/plain": [
              "False"
            ]
          },
          "execution_count": 467,
          "metadata": {},
          "output_type": "execute_result"
        }
      ],
      "source": [
        "np.nan == np.nan"
      ]
    },
    {
      "cell_type": "markdown",
      "metadata": {
        "id": "31bjXKcNYYxQ"
      },
      "source": [
        "This is weird... but it has some really good reasons. You can find explanations [here](https://stackoverflow.com/questions/10034149/why-is-nan-not-equal-to-nan) and [here](https://stackoverflow.com/questions/1565164/what-is-the-rationale-for-all-comparisons-returning-false-for-ieee754-nan-values)"
      ]
    },
    {
      "cell_type": "code",
      "execution_count": null,
      "metadata": {
        "id": "NsLeaQ6PYYxQ",
        "outputId": "4aaa5956-bc65-4b3f-8a84-3a692b6d959c"
      },
      "outputs": [
        {
          "data": {
            "text/plain": [
              "0      True\n",
              "1     False\n",
              "2      True\n",
              "3     False\n",
              "4     False\n",
              "5      True\n",
              "6      True\n",
              "7      True\n",
              "8      True\n",
              "9     False\n",
              "10     True\n",
              "11     True\n",
              "12    False\n",
              "13     True\n",
              "14     True\n",
              "15     True\n",
              "16     True\n",
              "17    False\n",
              "18     True\n",
              "19     True\n",
              "dtype: bool"
            ]
          },
          "execution_count": 472,
          "metadata": {},
          "output_type": "execute_result"
        }
      ],
      "source": [
        "~x.isna()"
      ]
    },
    {
      "cell_type": "code",
      "execution_count": null,
      "metadata": {
        "id": "zeyuWhcVYYxQ",
        "outputId": "42792225-fb00-4768-9d40-bfe09a334794"
      },
      "outputs": [
        {
          "data": {
            "text/plain": [
              "0     5.0\n",
              "2     7.0\n",
              "5     2.0\n",
              "6     7.0\n",
              "7     7.0\n",
              "8     7.0\n",
              "10    5.0\n",
              "11    7.0\n",
              "13    2.0\n",
              "14    5.0\n",
              "15    2.0\n",
              "16    5.0\n",
              "18    1.0\n",
              "19    5.0\n",
              "dtype: float64"
            ]
          },
          "execution_count": 470,
          "metadata": {},
          "output_type": "execute_result"
        }
      ],
      "source": [
        "x[~x.isna()]"
      ]
    },
    {
      "cell_type": "code",
      "execution_count": null,
      "metadata": {
        "id": "atyyqkVlYYxQ",
        "outputId": "04728692-db68-4245-f49d-128e337976c9"
      },
      "outputs": [
        {
          "data": {
            "text/plain": [
              "0     5.0\n",
              "2     7.0\n",
              "5     2.0\n",
              "6     7.0\n",
              "7     7.0\n",
              "8     7.0\n",
              "10    5.0\n",
              "11    7.0\n",
              "13    2.0\n",
              "14    5.0\n",
              "15    2.0\n",
              "16    5.0\n",
              "18    1.0\n",
              "19    5.0\n",
              "dtype: float64"
            ]
          },
          "execution_count": 474,
          "metadata": {},
          "output_type": "execute_result"
        }
      ],
      "source": [
        "x[x.notna()]"
      ]
    },
    {
      "cell_type": "code",
      "execution_count": null,
      "metadata": {
        "id": "EZVgSPReYYxQ",
        "outputId": "980027b8-5055-4756-ee85-341c1aac8d6d"
      },
      "outputs": [
        {
          "data": {
            "text/plain": [
              "0      True\n",
              "1     False\n",
              "2      True\n",
              "3     False\n",
              "4     False\n",
              "5      True\n",
              "6      True\n",
              "7      True\n",
              "8      True\n",
              "9     False\n",
              "10     True\n",
              "11     True\n",
              "12    False\n",
              "13     True\n",
              "14     True\n",
              "15     True\n",
              "16     True\n",
              "17    False\n",
              "18     True\n",
              "19     True\n",
              "dtype: bool"
            ]
          },
          "execution_count": 475,
          "metadata": {},
          "output_type": "execute_result"
        }
      ],
      "source": [
        "x.notnull()"
      ]
    },
    {
      "cell_type": "markdown",
      "metadata": {
        "id": "kx_5BH1tYYxR"
      },
      "source": [
        "### Filtering out missing data"
      ]
    },
    {
      "cell_type": "code",
      "execution_count": null,
      "metadata": {
        "id": "_QmZXgKSYYxR",
        "outputId": "d73bf97a-d14e-4198-d647-feed8919f817"
      },
      "outputs": [
        {
          "data": {
            "text/plain": [
              "0     5.0\n",
              "2     7.0\n",
              "5     2.0\n",
              "6     7.0\n",
              "7     7.0\n",
              "8     7.0\n",
              "10    5.0\n",
              "11    7.0\n",
              "13    2.0\n",
              "14    5.0\n",
              "15    2.0\n",
              "16    5.0\n",
              "18    1.0\n",
              "19    5.0\n",
              "dtype: float64"
            ]
          },
          "execution_count": 477,
          "metadata": {},
          "output_type": "execute_result"
        }
      ],
      "source": [
        "x.dropna()"
      ]
    },
    {
      "cell_type": "code",
      "execution_count": null,
      "metadata": {
        "collapsed": true,
        "id": "yLo2QT-PYYxR",
        "outputId": "3702541d-dce5-4d53-8fa0-d8e600e6dabc"
      },
      "outputs": [
        {
          "data": {
            "text/plain": [
              "0     5.0\n",
              "1     NaN\n",
              "2     7.0\n",
              "3     NaN\n",
              "4     NaN\n",
              "5     2.0\n",
              "6     7.0\n",
              "7     7.0\n",
              "8     7.0\n",
              "9     NaN\n",
              "10    5.0\n",
              "11    7.0\n",
              "12    NaN\n",
              "13    2.0\n",
              "14    5.0\n",
              "15    2.0\n",
              "16    5.0\n",
              "17    NaN\n",
              "18    1.0\n",
              "19    5.0\n",
              "dtype: float64"
            ]
          },
          "execution_count": 478,
          "metadata": {},
          "output_type": "execute_result"
        }
      ],
      "source": [
        "x"
      ]
    },
    {
      "cell_type": "code",
      "execution_count": null,
      "metadata": {
        "id": "fsULmrUBYYxS",
        "outputId": "5c07db1c-14fb-44ce-e97f-d60ffad82d4c"
      },
      "outputs": [
        {
          "data": {
            "text/html": [
              "<div>\n",
              "<style scoped>\n",
              "    .dataframe tbody tr th:only-of-type {\n",
              "        vertical-align: middle;\n",
              "    }\n",
              "\n",
              "    .dataframe tbody tr th {\n",
              "        vertical-align: top;\n",
              "    }\n",
              "\n",
              "    .dataframe thead th {\n",
              "        text-align: right;\n",
              "    }\n",
              "</style>\n",
              "<table border=\"1\" class=\"dataframe\">\n",
              "  <thead>\n",
              "    <tr style=\"text-align: right;\">\n",
              "      <th></th>\n",
              "      <th>x</th>\n",
              "      <th>y</th>\n",
              "    </tr>\n",
              "  </thead>\n",
              "  <tbody>\n",
              "    <tr>\n",
              "      <th>0</th>\n",
              "      <td>5.0</td>\n",
              "      <td>11.0</td>\n",
              "    </tr>\n",
              "    <tr>\n",
              "      <th>1</th>\n",
              "      <td>NaN</td>\n",
              "      <td>NaN</td>\n",
              "    </tr>\n",
              "    <tr>\n",
              "      <th>2</th>\n",
              "      <td>7.0</td>\n",
              "      <td>22.0</td>\n",
              "    </tr>\n",
              "    <tr>\n",
              "      <th>3</th>\n",
              "      <td>NaN</td>\n",
              "      <td>3.0</td>\n",
              "    </tr>\n",
              "    <tr>\n",
              "      <th>4</th>\n",
              "      <td>NaN</td>\n",
              "      <td>3.0</td>\n",
              "    </tr>\n",
              "    <tr>\n",
              "      <th>5</th>\n",
              "      <td>2.0</td>\n",
              "      <td>17.0</td>\n",
              "    </tr>\n",
              "    <tr>\n",
              "      <th>6</th>\n",
              "      <td>7.0</td>\n",
              "      <td>17.0</td>\n",
              "    </tr>\n",
              "    <tr>\n",
              "      <th>7</th>\n",
              "      <td>7.0</td>\n",
              "      <td>11.0</td>\n",
              "    </tr>\n",
              "    <tr>\n",
              "      <th>8</th>\n",
              "      <td>7.0</td>\n",
              "      <td>22.0</td>\n",
              "    </tr>\n",
              "    <tr>\n",
              "      <th>9</th>\n",
              "      <td>NaN</td>\n",
              "      <td>22.0</td>\n",
              "    </tr>\n",
              "    <tr>\n",
              "      <th>10</th>\n",
              "      <td>5.0</td>\n",
              "      <td>17.0</td>\n",
              "    </tr>\n",
              "    <tr>\n",
              "      <th>11</th>\n",
              "      <td>7.0</td>\n",
              "      <td>22.0</td>\n",
              "    </tr>\n",
              "    <tr>\n",
              "      <th>12</th>\n",
              "      <td>NaN</td>\n",
              "      <td>22.0</td>\n",
              "    </tr>\n",
              "    <tr>\n",
              "      <th>13</th>\n",
              "      <td>2.0</td>\n",
              "      <td>3.0</td>\n",
              "    </tr>\n",
              "    <tr>\n",
              "      <th>14</th>\n",
              "      <td>5.0</td>\n",
              "      <td>17.0</td>\n",
              "    </tr>\n",
              "    <tr>\n",
              "      <th>15</th>\n",
              "      <td>2.0</td>\n",
              "      <td>NaN</td>\n",
              "    </tr>\n",
              "    <tr>\n",
              "      <th>16</th>\n",
              "      <td>5.0</td>\n",
              "      <td>17.0</td>\n",
              "    </tr>\n",
              "    <tr>\n",
              "      <th>17</th>\n",
              "      <td>NaN</td>\n",
              "      <td>NaN</td>\n",
              "    </tr>\n",
              "    <tr>\n",
              "      <th>18</th>\n",
              "      <td>1.0</td>\n",
              "      <td>3.0</td>\n",
              "    </tr>\n",
              "    <tr>\n",
              "      <th>19</th>\n",
              "      <td>5.0</td>\n",
              "      <td>11.0</td>\n",
              "    </tr>\n",
              "  </tbody>\n",
              "</table>\n",
              "</div>"
            ],
            "text/plain": [
              "      x     y\n",
              "0   5.0  11.0\n",
              "1   NaN   NaN\n",
              "2   7.0  22.0\n",
              "3   NaN   3.0\n",
              "4   NaN   3.0\n",
              "5   2.0  17.0\n",
              "6   7.0  17.0\n",
              "7   7.0  11.0\n",
              "8   7.0  22.0\n",
              "9   NaN  22.0\n",
              "10  5.0  17.0\n",
              "11  7.0  22.0\n",
              "12  NaN  22.0\n",
              "13  2.0   3.0\n",
              "14  5.0  17.0\n",
              "15  2.0   NaN\n",
              "16  5.0  17.0\n",
              "17  NaN   NaN\n",
              "18  1.0   3.0\n",
              "19  5.0  11.0"
            ]
          },
          "execution_count": 479,
          "metadata": {},
          "output_type": "execute_result"
        }
      ],
      "source": [
        "df"
      ]
    },
    {
      "cell_type": "code",
      "execution_count": null,
      "metadata": {
        "id": "jO6X9PD-YYxS",
        "outputId": "94cdfb6f-f382-474a-97ca-bed0fa2a4dd4"
      },
      "outputs": [
        {
          "data": {
            "text/html": [
              "<div>\n",
              "<style scoped>\n",
              "    .dataframe tbody tr th:only-of-type {\n",
              "        vertical-align: middle;\n",
              "    }\n",
              "\n",
              "    .dataframe tbody tr th {\n",
              "        vertical-align: top;\n",
              "    }\n",
              "\n",
              "    .dataframe thead th {\n",
              "        text-align: right;\n",
              "    }\n",
              "</style>\n",
              "<table border=\"1\" class=\"dataframe\">\n",
              "  <thead>\n",
              "    <tr style=\"text-align: right;\">\n",
              "      <th></th>\n",
              "      <th>w</th>\n",
              "      <th>x</th>\n",
              "      <th>y</th>\n",
              "      <th>z</th>\n",
              "    </tr>\n",
              "  </thead>\n",
              "  <tbody>\n",
              "    <tr>\n",
              "      <th>0</th>\n",
              "      <td>5.0</td>\n",
              "      <td>5.0</td>\n",
              "      <td>11.0</td>\n",
              "      <td>17.0</td>\n",
              "    </tr>\n",
              "    <tr>\n",
              "      <th>1</th>\n",
              "      <td>NaN</td>\n",
              "      <td>7.0</td>\n",
              "      <td>NaN</td>\n",
              "      <td>22.0</td>\n",
              "    </tr>\n",
              "    <tr>\n",
              "      <th>2</th>\n",
              "      <td>7.0</td>\n",
              "      <td>NaN</td>\n",
              "      <td>22.0</td>\n",
              "      <td>22.0</td>\n",
              "    </tr>\n",
              "    <tr>\n",
              "      <th>3</th>\n",
              "      <td>NaN</td>\n",
              "      <td>2.0</td>\n",
              "      <td>3.0</td>\n",
              "      <td>3.0</td>\n",
              "    </tr>\n",
              "    <tr>\n",
              "      <th>4</th>\n",
              "      <td>NaN</td>\n",
              "      <td>5.0</td>\n",
              "      <td>3.0</td>\n",
              "      <td>17.0</td>\n",
              "    </tr>\n",
              "    <tr>\n",
              "      <th>5</th>\n",
              "      <td>2.0</td>\n",
              "      <td>2.0</td>\n",
              "      <td>17.0</td>\n",
              "      <td>NaN</td>\n",
              "    </tr>\n",
              "    <tr>\n",
              "      <th>6</th>\n",
              "      <td>7.0</td>\n",
              "      <td>5.0</td>\n",
              "      <td>17.0</td>\n",
              "      <td>17.0</td>\n",
              "    </tr>\n",
              "    <tr>\n",
              "      <th>7</th>\n",
              "      <td>7.0</td>\n",
              "      <td>NaN</td>\n",
              "      <td>11.0</td>\n",
              "      <td>NaN</td>\n",
              "    </tr>\n",
              "    <tr>\n",
              "      <th>8</th>\n",
              "      <td>7.0</td>\n",
              "      <td>1.0</td>\n",
              "      <td>22.0</td>\n",
              "      <td>3.0</td>\n",
              "    </tr>\n",
              "    <tr>\n",
              "      <th>9</th>\n",
              "      <td>NaN</td>\n",
              "      <td>5.0</td>\n",
              "      <td>22.0</td>\n",
              "      <td>11.0</td>\n",
              "    </tr>\n",
              "  </tbody>\n",
              "</table>\n",
              "</div>"
            ],
            "text/plain": [
              "     w    x     y     z\n",
              "0  5.0  5.0  11.0  17.0\n",
              "1  NaN  7.0   NaN  22.0\n",
              "2  7.0  NaN  22.0  22.0\n",
              "3  NaN  2.0   3.0   3.0\n",
              "4  NaN  5.0   3.0  17.0\n",
              "5  2.0  2.0  17.0   NaN\n",
              "6  7.0  5.0  17.0  17.0\n",
              "7  7.0  NaN  11.0   NaN\n",
              "8  7.0  1.0  22.0   3.0\n",
              "9  NaN  5.0  22.0  11.0"
            ]
          },
          "execution_count": 480,
          "metadata": {},
          "output_type": "execute_result"
        }
      ],
      "source": [
        "np.random.seed(42)\n",
        "nrows=10\n",
        "w = pd.Series(np.random.choice([1.,2.,7.,5., np.nan], size = nrows))\n",
        "x = pd.Series(np.random.choice([1.,2.,7.,5., np.nan], size = nrows))\n",
        "y = pd.Series(np.random.choice([3., 11, 17, 22, np.nan], size = nrows))\n",
        "z = pd.Series(np.random.choice([3., 11, 17, 22, np.nan], size = nrows))\n",
        "\n",
        "df = pd.DataFrame([w,x,y,z], index=['w','x', 'y', 'z']).T\n",
        "df"
      ]
    },
    {
      "cell_type": "code",
      "execution_count": null,
      "metadata": {
        "id": "o1pDM828YYxS",
        "outputId": "c3af4e22-c23c-4eaf-f395-6d99ba4ad301"
      },
      "outputs": [
        {
          "data": {
            "text/html": [
              "<div>\n",
              "<style scoped>\n",
              "    .dataframe tbody tr th:only-of-type {\n",
              "        vertical-align: middle;\n",
              "    }\n",
              "\n",
              "    .dataframe tbody tr th {\n",
              "        vertical-align: top;\n",
              "    }\n",
              "\n",
              "    .dataframe thead th {\n",
              "        text-align: right;\n",
              "    }\n",
              "</style>\n",
              "<table border=\"1\" class=\"dataframe\">\n",
              "  <thead>\n",
              "    <tr style=\"text-align: right;\">\n",
              "      <th></th>\n",
              "      <th>w</th>\n",
              "      <th>x</th>\n",
              "      <th>y</th>\n",
              "      <th>z</th>\n",
              "    </tr>\n",
              "  </thead>\n",
              "  <tbody>\n",
              "    <tr>\n",
              "      <th>0</th>\n",
              "      <td>5.0</td>\n",
              "      <td>5.0</td>\n",
              "      <td>11.0</td>\n",
              "      <td>17.0</td>\n",
              "    </tr>\n",
              "    <tr>\n",
              "      <th>6</th>\n",
              "      <td>7.0</td>\n",
              "      <td>5.0</td>\n",
              "      <td>17.0</td>\n",
              "      <td>17.0</td>\n",
              "    </tr>\n",
              "    <tr>\n",
              "      <th>8</th>\n",
              "      <td>7.0</td>\n",
              "      <td>1.0</td>\n",
              "      <td>22.0</td>\n",
              "      <td>3.0</td>\n",
              "    </tr>\n",
              "  </tbody>\n",
              "</table>\n",
              "</div>"
            ],
            "text/plain": [
              "     w    x     y     z\n",
              "0  5.0  5.0  11.0  17.0\n",
              "6  7.0  5.0  17.0  17.0\n",
              "8  7.0  1.0  22.0   3.0"
            ]
          },
          "execution_count": 482,
          "metadata": {},
          "output_type": "execute_result"
        }
      ],
      "source": [
        "df.dropna()"
      ]
    },
    {
      "cell_type": "code",
      "execution_count": null,
      "metadata": {
        "id": "JDZj0NjvYYxS",
        "outputId": "ed571093-bf74-408a-f652-288b2d5c67e7"
      },
      "outputs": [
        {
          "data": {
            "text/html": [
              "<div>\n",
              "<style scoped>\n",
              "    .dataframe tbody tr th:only-of-type {\n",
              "        vertical-align: middle;\n",
              "    }\n",
              "\n",
              "    .dataframe tbody tr th {\n",
              "        vertical-align: top;\n",
              "    }\n",
              "\n",
              "    .dataframe thead th {\n",
              "        text-align: right;\n",
              "    }\n",
              "</style>\n",
              "<table border=\"1\" class=\"dataframe\">\n",
              "  <thead>\n",
              "    <tr style=\"text-align: right;\">\n",
              "      <th></th>\n",
              "      <th>w</th>\n",
              "      <th>x</th>\n",
              "      <th>y</th>\n",
              "      <th>z</th>\n",
              "    </tr>\n",
              "  </thead>\n",
              "  <tbody>\n",
              "    <tr>\n",
              "      <th>0</th>\n",
              "      <td>5.0</td>\n",
              "      <td>5.0</td>\n",
              "      <td>11.0</td>\n",
              "      <td>17.0</td>\n",
              "    </tr>\n",
              "    <tr>\n",
              "      <th>5</th>\n",
              "      <td>2.0</td>\n",
              "      <td>2.0</td>\n",
              "      <td>17.0</td>\n",
              "      <td>NaN</td>\n",
              "    </tr>\n",
              "    <tr>\n",
              "      <th>6</th>\n",
              "      <td>7.0</td>\n",
              "      <td>5.0</td>\n",
              "      <td>17.0</td>\n",
              "      <td>17.0</td>\n",
              "    </tr>\n",
              "    <tr>\n",
              "      <th>8</th>\n",
              "      <td>7.0</td>\n",
              "      <td>1.0</td>\n",
              "      <td>22.0</td>\n",
              "      <td>3.0</td>\n",
              "    </tr>\n",
              "  </tbody>\n",
              "</table>\n",
              "</div>"
            ],
            "text/plain": [
              "     w    x     y     z\n",
              "0  5.0  5.0  11.0  17.0\n",
              "5  2.0  2.0  17.0   NaN\n",
              "6  7.0  5.0  17.0  17.0\n",
              "8  7.0  1.0  22.0   3.0"
            ]
          },
          "execution_count": 483,
          "metadata": {},
          "output_type": "execute_result"
        }
      ],
      "source": [
        "df.dropna(subset=['w', 'x'])"
      ]
    },
    {
      "cell_type": "code",
      "execution_count": null,
      "metadata": {
        "id": "DBS39ktYYYxS",
        "outputId": "c5217826-69e7-4356-c368-de81a2576d77"
      },
      "outputs": [
        {
          "data": {
            "text/html": [
              "<div>\n",
              "<style scoped>\n",
              "    .dataframe tbody tr th:only-of-type {\n",
              "        vertical-align: middle;\n",
              "    }\n",
              "\n",
              "    .dataframe tbody tr th {\n",
              "        vertical-align: top;\n",
              "    }\n",
              "\n",
              "    .dataframe thead th {\n",
              "        text-align: right;\n",
              "    }\n",
              "</style>\n",
              "<table border=\"1\" class=\"dataframe\">\n",
              "  <thead>\n",
              "    <tr style=\"text-align: right;\">\n",
              "      <th></th>\n",
              "      <th>w</th>\n",
              "      <th>x</th>\n",
              "      <th>y</th>\n",
              "      <th>z</th>\n",
              "    </tr>\n",
              "  </thead>\n",
              "  <tbody>\n",
              "    <tr>\n",
              "      <th>0</th>\n",
              "      <td>5.0</td>\n",
              "      <td>5.0</td>\n",
              "      <td>11.0</td>\n",
              "      <td>17.0</td>\n",
              "    </tr>\n",
              "    <tr>\n",
              "      <th>1</th>\n",
              "      <td>NaN</td>\n",
              "      <td>7.0</td>\n",
              "      <td>NaN</td>\n",
              "      <td>22.0</td>\n",
              "    </tr>\n",
              "    <tr>\n",
              "      <th>2</th>\n",
              "      <td>7.0</td>\n",
              "      <td>NaN</td>\n",
              "      <td>22.0</td>\n",
              "      <td>22.0</td>\n",
              "    </tr>\n",
              "    <tr>\n",
              "      <th>3</th>\n",
              "      <td>NaN</td>\n",
              "      <td>2.0</td>\n",
              "      <td>3.0</td>\n",
              "      <td>3.0</td>\n",
              "    </tr>\n",
              "    <tr>\n",
              "      <th>4</th>\n",
              "      <td>NaN</td>\n",
              "      <td>5.0</td>\n",
              "      <td>3.0</td>\n",
              "      <td>17.0</td>\n",
              "    </tr>\n",
              "    <tr>\n",
              "      <th>5</th>\n",
              "      <td>2.0</td>\n",
              "      <td>2.0</td>\n",
              "      <td>17.0</td>\n",
              "      <td>NaN</td>\n",
              "    </tr>\n",
              "    <tr>\n",
              "      <th>6</th>\n",
              "      <td>7.0</td>\n",
              "      <td>5.0</td>\n",
              "      <td>17.0</td>\n",
              "      <td>17.0</td>\n",
              "    </tr>\n",
              "    <tr>\n",
              "      <th>7</th>\n",
              "      <td>7.0</td>\n",
              "      <td>NaN</td>\n",
              "      <td>11.0</td>\n",
              "      <td>NaN</td>\n",
              "    </tr>\n",
              "    <tr>\n",
              "      <th>8</th>\n",
              "      <td>7.0</td>\n",
              "      <td>1.0</td>\n",
              "      <td>22.0</td>\n",
              "      <td>3.0</td>\n",
              "    </tr>\n",
              "    <tr>\n",
              "      <th>9</th>\n",
              "      <td>NaN</td>\n",
              "      <td>5.0</td>\n",
              "      <td>22.0</td>\n",
              "      <td>11.0</td>\n",
              "    </tr>\n",
              "  </tbody>\n",
              "</table>\n",
              "</div>"
            ],
            "text/plain": [
              "     w    x     y     z\n",
              "0  5.0  5.0  11.0  17.0\n",
              "1  NaN  7.0   NaN  22.0\n",
              "2  7.0  NaN  22.0  22.0\n",
              "3  NaN  2.0   3.0   3.0\n",
              "4  NaN  5.0   3.0  17.0\n",
              "5  2.0  2.0  17.0   NaN\n",
              "6  7.0  5.0  17.0  17.0\n",
              "7  7.0  NaN  11.0   NaN\n",
              "8  7.0  1.0  22.0   3.0\n",
              "9  NaN  5.0  22.0  11.0"
            ]
          },
          "execution_count": 485,
          "metadata": {},
          "output_type": "execute_result"
        }
      ],
      "source": [
        "df.dropna(subset=['w', 'z'], how='all')"
      ]
    },
    {
      "cell_type": "markdown",
      "metadata": {
        "id": "DpfGXhvkYYxS"
      },
      "source": [
        "The thresh argument specifies the minimum number of non-null values required to keep a column (or row, with axis=1)"
      ]
    },
    {
      "cell_type": "code",
      "execution_count": null,
      "metadata": {
        "id": "WXWutD1RYYxS",
        "outputId": "508707d5-79c1-491e-d246-d6732b97878f"
      },
      "outputs": [
        {
          "data": {
            "text/html": [
              "<div>\n",
              "<style scoped>\n",
              "    .dataframe tbody tr th:only-of-type {\n",
              "        vertical-align: middle;\n",
              "    }\n",
              "\n",
              "    .dataframe tbody tr th {\n",
              "        vertical-align: top;\n",
              "    }\n",
              "\n",
              "    .dataframe thead th {\n",
              "        text-align: right;\n",
              "    }\n",
              "</style>\n",
              "<table border=\"1\" class=\"dataframe\">\n",
              "  <thead>\n",
              "    <tr style=\"text-align: right;\">\n",
              "      <th></th>\n",
              "      <th>w</th>\n",
              "      <th>x</th>\n",
              "      <th>y</th>\n",
              "      <th>z</th>\n",
              "    </tr>\n",
              "  </thead>\n",
              "  <tbody>\n",
              "    <tr>\n",
              "      <th>0</th>\n",
              "      <td>5.0</td>\n",
              "      <td>5.0</td>\n",
              "      <td>11.0</td>\n",
              "      <td>17.0</td>\n",
              "    </tr>\n",
              "    <tr>\n",
              "      <th>6</th>\n",
              "      <td>7.0</td>\n",
              "      <td>5.0</td>\n",
              "      <td>17.0</td>\n",
              "      <td>17.0</td>\n",
              "    </tr>\n",
              "    <tr>\n",
              "      <th>8</th>\n",
              "      <td>7.0</td>\n",
              "      <td>1.0</td>\n",
              "      <td>22.0</td>\n",
              "      <td>3.0</td>\n",
              "    </tr>\n",
              "  </tbody>\n",
              "</table>\n",
              "</div>"
            ],
            "text/plain": [
              "     w    x     y     z\n",
              "0  5.0  5.0  11.0  17.0\n",
              "6  7.0  5.0  17.0  17.0\n",
              "8  7.0  1.0  22.0   3.0"
            ]
          },
          "execution_count": 491,
          "metadata": {},
          "output_type": "execute_result"
        }
      ],
      "source": [
        "df.dropna(thresh=4)"
      ]
    },
    {
      "cell_type": "markdown",
      "metadata": {
        "id": "QVLLp2nrYYxS"
      },
      "source": [
        "### Filling in missing data"
      ]
    },
    {
      "cell_type": "code",
      "execution_count": null,
      "metadata": {
        "id": "h6oVCPVBYYxS",
        "outputId": "1172ddb3-97c1-4587-f433-d4b7476de820"
      },
      "outputs": [
        {
          "data": {
            "text/html": [
              "<div>\n",
              "<style scoped>\n",
              "    .dataframe tbody tr th:only-of-type {\n",
              "        vertical-align: middle;\n",
              "    }\n",
              "\n",
              "    .dataframe tbody tr th {\n",
              "        vertical-align: top;\n",
              "    }\n",
              "\n",
              "    .dataframe thead th {\n",
              "        text-align: right;\n",
              "    }\n",
              "</style>\n",
              "<table border=\"1\" class=\"dataframe\">\n",
              "  <thead>\n",
              "    <tr style=\"text-align: right;\">\n",
              "      <th></th>\n",
              "      <th>w</th>\n",
              "      <th>x</th>\n",
              "      <th>y</th>\n",
              "      <th>z</th>\n",
              "    </tr>\n",
              "  </thead>\n",
              "  <tbody>\n",
              "    <tr>\n",
              "      <th>0</th>\n",
              "      <td>5.0</td>\n",
              "      <td>5.0</td>\n",
              "      <td>11.0</td>\n",
              "      <td>17.0</td>\n",
              "    </tr>\n",
              "    <tr>\n",
              "      <th>1</th>\n",
              "      <td>0.0</td>\n",
              "      <td>7.0</td>\n",
              "      <td>0.0</td>\n",
              "      <td>22.0</td>\n",
              "    </tr>\n",
              "    <tr>\n",
              "      <th>2</th>\n",
              "      <td>7.0</td>\n",
              "      <td>0.0</td>\n",
              "      <td>22.0</td>\n",
              "      <td>22.0</td>\n",
              "    </tr>\n",
              "    <tr>\n",
              "      <th>3</th>\n",
              "      <td>0.0</td>\n",
              "      <td>2.0</td>\n",
              "      <td>3.0</td>\n",
              "      <td>3.0</td>\n",
              "    </tr>\n",
              "    <tr>\n",
              "      <th>4</th>\n",
              "      <td>0.0</td>\n",
              "      <td>5.0</td>\n",
              "      <td>3.0</td>\n",
              "      <td>17.0</td>\n",
              "    </tr>\n",
              "    <tr>\n",
              "      <th>5</th>\n",
              "      <td>2.0</td>\n",
              "      <td>2.0</td>\n",
              "      <td>17.0</td>\n",
              "      <td>0.0</td>\n",
              "    </tr>\n",
              "    <tr>\n",
              "      <th>6</th>\n",
              "      <td>7.0</td>\n",
              "      <td>5.0</td>\n",
              "      <td>17.0</td>\n",
              "      <td>17.0</td>\n",
              "    </tr>\n",
              "    <tr>\n",
              "      <th>7</th>\n",
              "      <td>7.0</td>\n",
              "      <td>0.0</td>\n",
              "      <td>11.0</td>\n",
              "      <td>0.0</td>\n",
              "    </tr>\n",
              "    <tr>\n",
              "      <th>8</th>\n",
              "      <td>7.0</td>\n",
              "      <td>1.0</td>\n",
              "      <td>22.0</td>\n",
              "      <td>3.0</td>\n",
              "    </tr>\n",
              "    <tr>\n",
              "      <th>9</th>\n",
              "      <td>0.0</td>\n",
              "      <td>5.0</td>\n",
              "      <td>22.0</td>\n",
              "      <td>11.0</td>\n",
              "    </tr>\n",
              "  </tbody>\n",
              "</table>\n",
              "</div>"
            ],
            "text/plain": [
              "     w    x     y     z\n",
              "0  5.0  5.0  11.0  17.0\n",
              "1  0.0  7.0   0.0  22.0\n",
              "2  7.0  0.0  22.0  22.0\n",
              "3  0.0  2.0   3.0   3.0\n",
              "4  0.0  5.0   3.0  17.0\n",
              "5  2.0  2.0  17.0   0.0\n",
              "6  7.0  5.0  17.0  17.0\n",
              "7  7.0  0.0  11.0   0.0\n",
              "8  7.0  1.0  22.0   3.0\n",
              "9  0.0  5.0  22.0  11.0"
            ]
          },
          "execution_count": 492,
          "metadata": {},
          "output_type": "execute_result"
        }
      ],
      "source": [
        "df.fillna(0)"
      ]
    },
    {
      "cell_type": "code",
      "execution_count": null,
      "metadata": {
        "id": "y-D-hKMMYYxT",
        "outputId": "cf3b4a1b-27c8-4049-80d8-7b26119d1f3f"
      },
      "outputs": [
        {
          "data": {
            "text/html": [
              "<div>\n",
              "<style scoped>\n",
              "    .dataframe tbody tr th:only-of-type {\n",
              "        vertical-align: middle;\n",
              "    }\n",
              "\n",
              "    .dataframe tbody tr th {\n",
              "        vertical-align: top;\n",
              "    }\n",
              "\n",
              "    .dataframe thead th {\n",
              "        text-align: right;\n",
              "    }\n",
              "</style>\n",
              "<table border=\"1\" class=\"dataframe\">\n",
              "  <thead>\n",
              "    <tr style=\"text-align: right;\">\n",
              "      <th></th>\n",
              "      <th>w</th>\n",
              "      <th>x</th>\n",
              "      <th>y</th>\n",
              "      <th>z</th>\n",
              "    </tr>\n",
              "  </thead>\n",
              "  <tbody>\n",
              "    <tr>\n",
              "      <th>0</th>\n",
              "      <td>5.0</td>\n",
              "      <td>5.0</td>\n",
              "      <td>11.0</td>\n",
              "      <td>17.0</td>\n",
              "    </tr>\n",
              "    <tr>\n",
              "      <th>1</th>\n",
              "      <td>NaN</td>\n",
              "      <td>7.0</td>\n",
              "      <td>5.0</td>\n",
              "      <td>22.0</td>\n",
              "    </tr>\n",
              "    <tr>\n",
              "      <th>2</th>\n",
              "      <td>7.0</td>\n",
              "      <td>0.0</td>\n",
              "      <td>22.0</td>\n",
              "      <td>22.0</td>\n",
              "    </tr>\n",
              "    <tr>\n",
              "      <th>3</th>\n",
              "      <td>NaN</td>\n",
              "      <td>2.0</td>\n",
              "      <td>3.0</td>\n",
              "      <td>3.0</td>\n",
              "    </tr>\n",
              "    <tr>\n",
              "      <th>4</th>\n",
              "      <td>NaN</td>\n",
              "      <td>5.0</td>\n",
              "      <td>3.0</td>\n",
              "      <td>17.0</td>\n",
              "    </tr>\n",
              "    <tr>\n",
              "      <th>5</th>\n",
              "      <td>2.0</td>\n",
              "      <td>2.0</td>\n",
              "      <td>17.0</td>\n",
              "      <td>NaN</td>\n",
              "    </tr>\n",
              "    <tr>\n",
              "      <th>6</th>\n",
              "      <td>7.0</td>\n",
              "      <td>5.0</td>\n",
              "      <td>17.0</td>\n",
              "      <td>17.0</td>\n",
              "    </tr>\n",
              "    <tr>\n",
              "      <th>7</th>\n",
              "      <td>7.0</td>\n",
              "      <td>0.0</td>\n",
              "      <td>11.0</td>\n",
              "      <td>NaN</td>\n",
              "    </tr>\n",
              "    <tr>\n",
              "      <th>8</th>\n",
              "      <td>7.0</td>\n",
              "      <td>1.0</td>\n",
              "      <td>22.0</td>\n",
              "      <td>3.0</td>\n",
              "    </tr>\n",
              "    <tr>\n",
              "      <th>9</th>\n",
              "      <td>NaN</td>\n",
              "      <td>5.0</td>\n",
              "      <td>22.0</td>\n",
              "      <td>11.0</td>\n",
              "    </tr>\n",
              "  </tbody>\n",
              "</table>\n",
              "</div>"
            ],
            "text/plain": [
              "     w    x     y     z\n",
              "0  5.0  5.0  11.0  17.0\n",
              "1  NaN  7.0   5.0  22.0\n",
              "2  7.0  0.0  22.0  22.0\n",
              "3  NaN  2.0   3.0   3.0\n",
              "4  NaN  5.0   3.0  17.0\n",
              "5  2.0  2.0  17.0   NaN\n",
              "6  7.0  5.0  17.0  17.0\n",
              "7  7.0  0.0  11.0   NaN\n",
              "8  7.0  1.0  22.0   3.0\n",
              "9  NaN  5.0  22.0  11.0"
            ]
          },
          "execution_count": 494,
          "metadata": {},
          "output_type": "execute_result"
        }
      ],
      "source": [
        "df.fillna({'x' : 0, 'y': 5})"
      ]
    },
    {
      "cell_type": "code",
      "execution_count": null,
      "metadata": {
        "id": "F7-2oWuUYYxT",
        "outputId": "22f0a444-cef2-459d-bb51-9e595b6232db"
      },
      "outputs": [
        {
          "data": {
            "text/plain": [
              "w     7.0\n",
              "x     5.0\n",
              "y    17.0\n",
              "z    17.0\n",
              "dtype: float64"
            ]
          },
          "execution_count": 495,
          "metadata": {},
          "output_type": "execute_result"
        }
      ],
      "source": [
        "df.median()"
      ]
    },
    {
      "cell_type": "code",
      "execution_count": null,
      "metadata": {
        "id": "bv54X6SPYYxT",
        "outputId": "83a37ff5-9cf1-4443-cb7d-a504d6009810"
      },
      "outputs": [
        {
          "data": {
            "text/html": [
              "<div>\n",
              "<style scoped>\n",
              "    .dataframe tbody tr th:only-of-type {\n",
              "        vertical-align: middle;\n",
              "    }\n",
              "\n",
              "    .dataframe tbody tr th {\n",
              "        vertical-align: top;\n",
              "    }\n",
              "\n",
              "    .dataframe thead th {\n",
              "        text-align: right;\n",
              "    }\n",
              "</style>\n",
              "<table border=\"1\" class=\"dataframe\">\n",
              "  <thead>\n",
              "    <tr style=\"text-align: right;\">\n",
              "      <th></th>\n",
              "      <th>w</th>\n",
              "      <th>x</th>\n",
              "      <th>y</th>\n",
              "      <th>z</th>\n",
              "    </tr>\n",
              "  </thead>\n",
              "  <tbody>\n",
              "    <tr>\n",
              "      <th>0</th>\n",
              "      <td>5.0</td>\n",
              "      <td>5.0</td>\n",
              "      <td>11.0</td>\n",
              "      <td>17.0</td>\n",
              "    </tr>\n",
              "    <tr>\n",
              "      <th>1</th>\n",
              "      <td>7.0</td>\n",
              "      <td>7.0</td>\n",
              "      <td>17.0</td>\n",
              "      <td>22.0</td>\n",
              "    </tr>\n",
              "    <tr>\n",
              "      <th>2</th>\n",
              "      <td>7.0</td>\n",
              "      <td>5.0</td>\n",
              "      <td>22.0</td>\n",
              "      <td>22.0</td>\n",
              "    </tr>\n",
              "    <tr>\n",
              "      <th>3</th>\n",
              "      <td>7.0</td>\n",
              "      <td>2.0</td>\n",
              "      <td>3.0</td>\n",
              "      <td>3.0</td>\n",
              "    </tr>\n",
              "    <tr>\n",
              "      <th>4</th>\n",
              "      <td>7.0</td>\n",
              "      <td>5.0</td>\n",
              "      <td>3.0</td>\n",
              "      <td>17.0</td>\n",
              "    </tr>\n",
              "    <tr>\n",
              "      <th>5</th>\n",
              "      <td>2.0</td>\n",
              "      <td>2.0</td>\n",
              "      <td>17.0</td>\n",
              "      <td>17.0</td>\n",
              "    </tr>\n",
              "    <tr>\n",
              "      <th>6</th>\n",
              "      <td>7.0</td>\n",
              "      <td>5.0</td>\n",
              "      <td>17.0</td>\n",
              "      <td>17.0</td>\n",
              "    </tr>\n",
              "    <tr>\n",
              "      <th>7</th>\n",
              "      <td>7.0</td>\n",
              "      <td>5.0</td>\n",
              "      <td>11.0</td>\n",
              "      <td>17.0</td>\n",
              "    </tr>\n",
              "    <tr>\n",
              "      <th>8</th>\n",
              "      <td>7.0</td>\n",
              "      <td>1.0</td>\n",
              "      <td>22.0</td>\n",
              "      <td>3.0</td>\n",
              "    </tr>\n",
              "    <tr>\n",
              "      <th>9</th>\n",
              "      <td>7.0</td>\n",
              "      <td>5.0</td>\n",
              "      <td>22.0</td>\n",
              "      <td>11.0</td>\n",
              "    </tr>\n",
              "  </tbody>\n",
              "</table>\n",
              "</div>"
            ],
            "text/plain": [
              "     w    x     y     z\n",
              "0  5.0  5.0  11.0  17.0\n",
              "1  7.0  7.0  17.0  22.0\n",
              "2  7.0  5.0  22.0  22.0\n",
              "3  7.0  2.0   3.0   3.0\n",
              "4  7.0  5.0   3.0  17.0\n",
              "5  2.0  2.0  17.0  17.0\n",
              "6  7.0  5.0  17.0  17.0\n",
              "7  7.0  5.0  11.0  17.0\n",
              "8  7.0  1.0  22.0   3.0\n",
              "9  7.0  5.0  22.0  11.0"
            ]
          },
          "execution_count": 496,
          "metadata": {},
          "output_type": "execute_result"
        }
      ],
      "source": [
        "df.fillna(df.median())"
      ]
    },
    {
      "cell_type": "code",
      "execution_count": null,
      "metadata": {
        "id": "zcpqTaNkYYxU",
        "outputId": "5a8cfcc4-20e0-465c-a5d1-ceb1f02a577b"
      },
      "outputs": [
        {
          "data": {
            "text/html": [
              "<div>\n",
              "<style scoped>\n",
              "    .dataframe tbody tr th:only-of-type {\n",
              "        vertical-align: middle;\n",
              "    }\n",
              "\n",
              "    .dataframe tbody tr th {\n",
              "        vertical-align: top;\n",
              "    }\n",
              "\n",
              "    .dataframe thead th {\n",
              "        text-align: right;\n",
              "    }\n",
              "</style>\n",
              "<table border=\"1\" class=\"dataframe\">\n",
              "  <thead>\n",
              "    <tr style=\"text-align: right;\">\n",
              "      <th></th>\n",
              "      <th>w</th>\n",
              "      <th>x</th>\n",
              "      <th>y</th>\n",
              "      <th>z</th>\n",
              "    </tr>\n",
              "  </thead>\n",
              "  <tbody>\n",
              "    <tr>\n",
              "      <th>0</th>\n",
              "      <td>5.0</td>\n",
              "      <td>5.0</td>\n",
              "      <td>11.0</td>\n",
              "      <td>17.0</td>\n",
              "    </tr>\n",
              "    <tr>\n",
              "      <th>1</th>\n",
              "      <td>5.0</td>\n",
              "      <td>7.0</td>\n",
              "      <td>11.0</td>\n",
              "      <td>22.0</td>\n",
              "    </tr>\n",
              "    <tr>\n",
              "      <th>2</th>\n",
              "      <td>7.0</td>\n",
              "      <td>7.0</td>\n",
              "      <td>22.0</td>\n",
              "      <td>22.0</td>\n",
              "    </tr>\n",
              "    <tr>\n",
              "      <th>3</th>\n",
              "      <td>7.0</td>\n",
              "      <td>2.0</td>\n",
              "      <td>3.0</td>\n",
              "      <td>3.0</td>\n",
              "    </tr>\n",
              "    <tr>\n",
              "      <th>4</th>\n",
              "      <td>7.0</td>\n",
              "      <td>5.0</td>\n",
              "      <td>3.0</td>\n",
              "      <td>17.0</td>\n",
              "    </tr>\n",
              "    <tr>\n",
              "      <th>5</th>\n",
              "      <td>2.0</td>\n",
              "      <td>2.0</td>\n",
              "      <td>17.0</td>\n",
              "      <td>17.0</td>\n",
              "    </tr>\n",
              "    <tr>\n",
              "      <th>6</th>\n",
              "      <td>7.0</td>\n",
              "      <td>5.0</td>\n",
              "      <td>17.0</td>\n",
              "      <td>17.0</td>\n",
              "    </tr>\n",
              "    <tr>\n",
              "      <th>7</th>\n",
              "      <td>7.0</td>\n",
              "      <td>5.0</td>\n",
              "      <td>11.0</td>\n",
              "      <td>17.0</td>\n",
              "    </tr>\n",
              "    <tr>\n",
              "      <th>8</th>\n",
              "      <td>7.0</td>\n",
              "      <td>1.0</td>\n",
              "      <td>22.0</td>\n",
              "      <td>3.0</td>\n",
              "    </tr>\n",
              "    <tr>\n",
              "      <th>9</th>\n",
              "      <td>7.0</td>\n",
              "      <td>5.0</td>\n",
              "      <td>22.0</td>\n",
              "      <td>11.0</td>\n",
              "    </tr>\n",
              "  </tbody>\n",
              "</table>\n",
              "</div>"
            ],
            "text/plain": [
              "     w    x     y     z\n",
              "0  5.0  5.0  11.0  17.0\n",
              "1  5.0  7.0  11.0  22.0\n",
              "2  7.0  7.0  22.0  22.0\n",
              "3  7.0  2.0   3.0   3.0\n",
              "4  7.0  5.0   3.0  17.0\n",
              "5  2.0  2.0  17.0  17.0\n",
              "6  7.0  5.0  17.0  17.0\n",
              "7  7.0  5.0  11.0  17.0\n",
              "8  7.0  1.0  22.0   3.0\n",
              "9  7.0  5.0  22.0  11.0"
            ]
          },
          "execution_count": 497,
          "metadata": {},
          "output_type": "execute_result"
        }
      ],
      "source": [
        "df.ffill()"
      ]
    },
    {
      "cell_type": "code",
      "execution_count": null,
      "metadata": {
        "id": "l-PTGNxgYYxU",
        "outputId": "36900fdc-8705-438d-f9c6-9c8b41dbaf61"
      },
      "outputs": [
        {
          "data": {
            "text/html": [
              "<div>\n",
              "<style scoped>\n",
              "    .dataframe tbody tr th:only-of-type {\n",
              "        vertical-align: middle;\n",
              "    }\n",
              "\n",
              "    .dataframe tbody tr th {\n",
              "        vertical-align: top;\n",
              "    }\n",
              "\n",
              "    .dataframe thead th {\n",
              "        text-align: right;\n",
              "    }\n",
              "</style>\n",
              "<table border=\"1\" class=\"dataframe\">\n",
              "  <thead>\n",
              "    <tr style=\"text-align: right;\">\n",
              "      <th></th>\n",
              "      <th>w</th>\n",
              "      <th>x</th>\n",
              "      <th>y</th>\n",
              "      <th>z</th>\n",
              "    </tr>\n",
              "  </thead>\n",
              "  <tbody>\n",
              "    <tr>\n",
              "      <th>0</th>\n",
              "      <td>5.0</td>\n",
              "      <td>5.0</td>\n",
              "      <td>11.0</td>\n",
              "      <td>17.0</td>\n",
              "    </tr>\n",
              "    <tr>\n",
              "      <th>1</th>\n",
              "      <td>7.0</td>\n",
              "      <td>7.0</td>\n",
              "      <td>22.0</td>\n",
              "      <td>22.0</td>\n",
              "    </tr>\n",
              "    <tr>\n",
              "      <th>2</th>\n",
              "      <td>7.0</td>\n",
              "      <td>2.0</td>\n",
              "      <td>22.0</td>\n",
              "      <td>22.0</td>\n",
              "    </tr>\n",
              "    <tr>\n",
              "      <th>3</th>\n",
              "      <td>2.0</td>\n",
              "      <td>2.0</td>\n",
              "      <td>3.0</td>\n",
              "      <td>3.0</td>\n",
              "    </tr>\n",
              "    <tr>\n",
              "      <th>4</th>\n",
              "      <td>2.0</td>\n",
              "      <td>5.0</td>\n",
              "      <td>3.0</td>\n",
              "      <td>17.0</td>\n",
              "    </tr>\n",
              "    <tr>\n",
              "      <th>5</th>\n",
              "      <td>2.0</td>\n",
              "      <td>2.0</td>\n",
              "      <td>17.0</td>\n",
              "      <td>17.0</td>\n",
              "    </tr>\n",
              "    <tr>\n",
              "      <th>6</th>\n",
              "      <td>7.0</td>\n",
              "      <td>5.0</td>\n",
              "      <td>17.0</td>\n",
              "      <td>17.0</td>\n",
              "    </tr>\n",
              "    <tr>\n",
              "      <th>7</th>\n",
              "      <td>7.0</td>\n",
              "      <td>1.0</td>\n",
              "      <td>11.0</td>\n",
              "      <td>3.0</td>\n",
              "    </tr>\n",
              "    <tr>\n",
              "      <th>8</th>\n",
              "      <td>7.0</td>\n",
              "      <td>1.0</td>\n",
              "      <td>22.0</td>\n",
              "      <td>3.0</td>\n",
              "    </tr>\n",
              "    <tr>\n",
              "      <th>9</th>\n",
              "      <td>NaN</td>\n",
              "      <td>5.0</td>\n",
              "      <td>22.0</td>\n",
              "      <td>11.0</td>\n",
              "    </tr>\n",
              "  </tbody>\n",
              "</table>\n",
              "</div>"
            ],
            "text/plain": [
              "     w    x     y     z\n",
              "0  5.0  5.0  11.0  17.0\n",
              "1  7.0  7.0  22.0  22.0\n",
              "2  7.0  2.0  22.0  22.0\n",
              "3  2.0  2.0   3.0   3.0\n",
              "4  2.0  5.0   3.0  17.0\n",
              "5  2.0  2.0  17.0  17.0\n",
              "6  7.0  5.0  17.0  17.0\n",
              "7  7.0  1.0  11.0   3.0\n",
              "8  7.0  1.0  22.0   3.0\n",
              "9  NaN  5.0  22.0  11.0"
            ]
          },
          "execution_count": 499,
          "metadata": {},
          "output_type": "execute_result"
        }
      ],
      "source": [
        "df.bfill()"
      ]
    },
    {
      "cell_type": "markdown",
      "metadata": {
        "id": "XG_bCtcaYYxU"
      },
      "source": [
        "# Additional References\n",
        "\n",
        "[Python for Data Analysis](http://shop.oreilly.com/product/0636920023784.do)\n",
        "\n",
        "[What is SciPy?](https://www.scipy.org/)\n",
        "\n",
        "[How can SciPy be fast if it is written in an interpreted language like Python?](https://www.scipy.org/scipylib/faq.html#how-can-scipy-be-fast-if-it-is-written-in-an-interpreted-language-like-python)\n",
        "\n",
        "[What is the difference between NumPy and SciPy?](https://www.scipy.org/scipylib/faq.html#what-is-the-difference-between-numpy-and-scipy)\n",
        "\n",
        "[Linear Algebra for AI](https://github.com/fastai/fastai/blob/master/tutorials/linalg_pytorch.ipynb)"
      ]
    }
  ],
  "metadata": {
    "kernelspec": {
      "display_name": "Python 3",
      "language": "python",
      "name": "python3"
    },
    "language_info": {
      "codemirror_mode": {
        "name": "ipython",
        "version": 3
      },
      "file_extension": ".py",
      "mimetype": "text/x-python",
      "name": "python",
      "nbconvert_exporter": "python",
      "pygments_lexer": "ipython3",
      "version": "3.8.10"
    },
    "livereveal": {
      "scroll": true,
      "start_slideshow_at": "selected"
    },
    "colab": {
      "name": "01_numpy_pandas_introduction_day_2_inclass.ipynb",
      "provenance": [],
      "collapsed_sections": [
        "Gmcw4XgnYYwL",
        "RP282PPhYYwi",
        "sDd6fgrDYYwi",
        "xInwSlJKYYwj",
        "otUvgqvVYYwj",
        "EvZZNAQOYYwk",
        "Yj56VEInYYwn",
        "274yQlddYYwn",
        "VzjUJzO0YYwo",
        "hJ4IA41EYYwo",
        "QqFP6NjBYYwv",
        "TeZgJiHKYYw3",
        "yWrt9gE5YYw5",
        "uO_XIDNoYYxB",
        "Ny2Jr3utYYxD",
        "kYrFCApNYYxG",
        "c1sdiKOLYYxJ",
        "JnKT2ZqEYYxO",
        "kx_5BH1tYYxR",
        "QVLLp2nrYYxS"
      ]
    }
  },
  "nbformat": 4,
  "nbformat_minor": 0
}