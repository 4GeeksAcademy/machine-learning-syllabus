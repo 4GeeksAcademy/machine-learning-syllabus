{
  "nbformat": 4,
  "nbformat_minor": 0,
  "metadata": {
    "colab": {
      "name": "deep_learning_keras_exercise.ipynb",
      "provenance": []
    },
    "kernelspec": {
      "name": "python3",
      "display_name": "Python 3"
    },
    "language_info": {
      "name": "python"
    }
  },
  "cells": [
    {
      "cell_type": "markdown",
      "source": [
        "**Anomaly Detection** is the identification of rare items, events or suspicious observations, since they are far from common operations over the data. Tipically, anomaly detection may regard bank frauds, a structural defect, medical issues or text errors. Apply here Deep Learning by exploiting some anomaly detection datasets. The first is, a credit card frauds dataset: https://www.kaggle.com/mlg-ulb/creditcardfraud. Make and Exploratory Analysis and a Supervised Anomaly Detection with Deep Neural Netoworks. If needed, make use of other public datasets. Make all necessary plots and panels. "
      ],
      "metadata": {
        "id": "lBeFiopkG6P4"
      }
    },
    {
      "cell_type": "code",
      "execution_count": null,
      "metadata": {
        "id": "yVaNPQ0iGxpd"
      },
      "outputs": [],
      "source": [
        ""
      ]
    }
  ]
}