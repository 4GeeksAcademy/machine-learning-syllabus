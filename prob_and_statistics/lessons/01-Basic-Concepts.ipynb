{
 "cells": [
  {
   "cell_type": "markdown",
   "id": "bdfbcacc",
   "metadata": {},
   "source": [
    "# Basic Statistics"
   ]
  },
  {
   "cell_type": "markdown",
   "id": "35d85859",
   "metadata": {},
   "source": [
    "As right now, you are familliar with numpy and how it serves as a great tool for cleaning up your datasets.\n",
    "\n",
    "But today, we are going to be learning the use of numpay for creating basic predictions, statistics and probabilities.\n",
    "\n",
    "First, lets create an array of `20` elements distributed normally (Gaussian):"
   ]
  },
  {
   "cell_type": "markdown",
   "id": "cb16c32e",
   "metadata": {},
   "source": [
    "We are creating this array of values because we want to use them as examples while explaining the statistical concepts.\n",
    "\n",
    "You can use the `np.random.normal` function to create an idea datasate, we are passing `0,1,20` as parameters because we want a one dimentional array of 20 numbers distributed normally (Gaussian)"
   ]
  },
  {
   "cell_type": "code",
   "execution_count": 3,
   "id": "4b93d9c8",
   "metadata": {},
   "outputs": [
    {
     "name": "stdout",
     "output_type": "stream",
     "text": [
      "[-1.0856306   0.99734545  0.2829785  -1.50629471 -0.57860025  1.65143654\n",
      " -2.42667924 -0.42891263  1.26593626 -0.8667404  -0.67888615 -0.09470897\n",
      "  1.49138963 -0.638902   -0.44398196 -0.43435128  2.20593008  2.18678609\n",
      "  1.0040539   0.3861864 ]\n"
     ]
    }
   ],
   "source": [
    "import numpy as np\n",
    "np.random.seed(123) # Set seed in order to get similar results\n",
    "x = np.random.normal(0,1,20)\n",
    "print(x)"
   ]
  },
  {
   "cell_type": "markdown",
   "id": "dd97255d",
   "metadata": {},
   "source": [
    "## Mean, Variance and Standard Deviation\n",
    "\n",
    "The follwoing are 3 very important meassueres in statistics, we should master them:"
   ]
  },
  {
   "cell_type": "markdown",
   "id": "22edeed2",
   "metadata": {},
   "source": [
    "### Mean\n",
    "\n",
    "Is the sum of all the values divided by the total amount of values (length)"
   ]
  },
  {
   "cell_type": "code",
   "execution_count": 4,
   "id": "92c1a456",
   "metadata": {},
   "outputs": [
    {
     "data": {
      "text/plain": [
       "0.11441773195529023"
      ]
     },
     "execution_count": 4,
     "metadata": {},
     "output_type": "execute_result"
    }
   ],
   "source": [
    "# Mean\n",
    "np.mean(x)"
   ]
  },
  {
   "cell_type": "markdown",
   "id": "c865abcd",
   "metadata": {},
   "source": [
    "### Variance\n",
    "\n",
    "It represents the average variation between each of the values, its just a representation and it is not scaled the same way as the original values, ergo, it is recomended to use in a general way."
   ]
  },
  {
   "cell_type": "code",
   "execution_count": 5,
   "id": "d6206327",
   "metadata": {},
   "outputs": [
    {
     "data": {
      "text/plain": [
       "1.5021278845126171"
      ]
     },
     "execution_count": 5,
     "metadata": {},
     "output_type": "execute_result"
    }
   ],
   "source": [
    "# Variance\n",
    "np.var(x)"
   ]
  },
  {
   "cell_type": "markdown",
   "id": "c1b5f217",
   "metadata": {},
   "source": [
    "### Standard Deviation\n",
    "\n",
    "Is the square root ($$std = \\sqrt[]{variance} $$) of the variance, it better represents the variation of the data in terms of values:"
   ]
  },
  {
   "cell_type": "code",
   "execution_count": 4,
   "id": "4260b0e1",
   "metadata": {},
   "outputs": [
    {
     "data": {
      "text/plain": [
       "9.805129453266291"
      ]
     },
     "execution_count": 4,
     "metadata": {},
     "output_type": "execute_result"
    }
   ],
   "source": [
    "# Standard deviation\n",
    "np.std(x)"
   ]
  },
  {
   "cell_type": "markdown",
   "id": "305478bf",
   "metadata": {},
   "source": [
    "### The mode\n",
    "\n",
    "Is the most repread value in a dataset:"
   ]
  },
  {
   "cell_type": "code",
   "execution_count": 9,
   "id": "499f0474",
   "metadata": {},
   "outputs": [
    {
     "name": "stdout",
     "output_type": "stream",
     "text": [
      "ModeResult(mode=array([-2.42667924]), count=array([1]))\n",
      "ModeResult(mode=array([2]), count=array([4]))\n"
     ]
    }
   ],
   "source": [
    "# Mode\n",
    "from scipy import stats\n",
    "print(stats.mode(x)) # Mode for continuous array\n",
    "\n",
    "\n",
    "v = np.array([2,1,2,3,1,2,3,4,1,5,5,3,2,3])\n",
    "print(stats.mode(v)) # another example in a different array"
   ]
  },
  {
   "cell_type": "markdown",
   "id": "ff8a828a",
   "metadata": {},
   "source": [
    "### The median\n",
    "\n",
    "Is the middle value in a dataset, it there is no exact middle (because the number of elements is multiple of 2) it will be the average between the 2 closest to the middle."
   ]
  },
  {
   "cell_type": "code",
   "execution_count": 12,
   "id": "9dad8d4c",
   "metadata": {},
   "outputs": [
    {
     "name": "stdout",
     "output_type": "stream",
     "text": [
      "-0.2618107988965342\n",
      "2.5\n"
     ]
    }
   ],
   "source": [
    "# The median is the value in the middle\n",
    "print(np.median(x))\n",
    "\n",
    "# again but now for the second array we just created above\n",
    "print(np.median(v))"
   ]
  },
  {
   "cell_type": "markdown",
   "id": "bce61640",
   "metadata": {},
   "source": [
    "> 📹 Great video explaining the mode, median and mean: https://www.youtube.com/watch?v=B1HEzNTGeZ4"
   ]
  },
  {
   "cell_type": "markdown",
   "id": "672a758f",
   "metadata": {},
   "source": [
    "### Quantiles\n",
    "\n",
    "Quantiles are values that divide the data in equal parts, the most common quantile is use to divide in half (0.5 or 50%). Another very common is the 0.25 quantile that devides the data in  equal parts."
   ]
  },
  {
   "cell_type": "code",
   "execution_count": 11,
   "id": "41e91c09",
   "metadata": {},
   "outputs": [
    {
     "name": "stdout",
     "output_type": "stream",
     "text": [
      "-0.2618107988965342\n"
     ]
    },
    {
     "data": {
      "text/plain": [
       "array([-1.02434135, -0.54225331,  0.71621228,  1.26819079])"
      ]
     },
     "execution_count": 11,
     "metadata": {},
     "output_type": "execute_result"
    }
   ],
   "source": [
    "# Quantiles\n",
    "print(np.quantile(x, 0.5)) # This match with np.median, why?\n",
    "np.quantile(x, [0.12,0.33,0.66,0.79])"
   ]
  }
 ],
 "metadata": {
  "kernelspec": {
   "display_name": "Python 3",
   "language": "python",
   "name": "python3"
  },
  "language_info": {
   "codemirror_mode": {
    "name": "ipython",
    "version": 3
   },
   "file_extension": ".py",
   "mimetype": "text/x-python",
   "name": "python",
   "nbconvert_exporter": "python",
   "pygments_lexer": "ipython3",
   "version": "3.8.12"
  }
 },
 "nbformat": 4,
 "nbformat_minor": 5
}
