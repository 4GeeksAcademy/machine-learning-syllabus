{
  "cells": [
    {
      "cell_type": "markdown",
      "metadata": {
        "id": "7Sb5Jdd2y7OL"
      },
      "source": [
        "# All General Imports"
      ]
    },
    {
      "cell_type": "code",
      "execution_count": 2,
      "metadata": {
        "id": "pIt-wlxWzGHS"
      },
      "outputs": [],
      "source": [
        "import warnings\n",
        "import numpy as np\n",
        "import os\n",
        "import platform\n",
        "import timeit"
      ]
    },
    {
      "cell_type": "markdown",
      "metadata": {
        "id": "vMiPUuwd973c"
      },
      "source": [
        "# All Functions Definitions"
      ]
    },
    {
      "cell_type": "code",
      "execution_count": 3,
      "metadata": {
        "id": "6oaB1h2396xL"
      },
      "outputs": [],
      "source": [
        "def data_download(file_to_download, gdrive_code, OS):\n",
        "  if not os.path.exists(file_to_download):\n",
        "    os.system('gdown --id \"'+gdrive_code+'\" --output '+file_to_download)\n",
        "    if OS == \"Linux\":\n",
        "        os.system('unzip -o -n \"./'+file_to_download+'\" -d \"./\"')"
      ]
    },
    {
      "cell_type": "markdown",
      "metadata": {
        "id": "tcpsoSldzYsC"
      },
      "source": [
        "# All Downloads"
      ]
    },
    {
      "cell_type": "code",
      "execution_count": 4,
      "metadata": {
        "colab": {
          "base_uri": "https://localhost:8080/"
        },
        "id": "N2ZAWwrGRMp3",
        "outputId": "91a5774c-1e46-437d-ad15-0684c39e719c"
      },
      "outputs": [
        {
          "output_type": "stream",
          "name": "stdout",
          "text": [
            "Elapsed Time:  3.16042739500017\n"
          ]
        }
      ],
      "source": [
        "start_time = timeit.default_timer()\n",
        "# Operating System\n",
        "OS = platform.system()                           # returns 'Windows', 'Linux', etc\n",
        "\n",
        "os.system('pip install --upgrade --no-cache-dir gdown')\n",
        "\n",
        "data_download(\"./Garbage_Data_Set.zip\", \"1e0RJH5HLdRVmPnDaamQLn0WVYFz4gOrE\", OS)\n",
        "\n",
        "data_download(\"./Garbage_Libs.zip\", \"1ZoMU2QGYLKhIaGZS8y4IYvmHofeqvAMz\", OS)\n",
        "\n",
        "print(\"Elapsed Time: \", timeit.default_timer() - start_time)"
      ]
    },
    {
      "cell_type": "markdown",
      "metadata": {
        "id": "RGaa_NINPzar"
      },
      "source": [
        "# All Imports"
      ]
    },
    {
      "cell_type": "markdown",
      "source": [
        "Keras imports and Program Imports"
      ],
      "metadata": {
        "id": "WsmEQvqwK6Kk"
      }
    },
    {
      "cell_type": "code",
      "execution_count": 5,
      "metadata": {
        "id": "zYtZjbXtPul-"
      },
      "outputs": [],
      "source": [
        "from tensorflow.keras.datasets import cifar10\n",
        "from tensorflow.keras.optimizers import SGD, Adam \n",
        "from tensorflow.keras.losses import categorical_crossentropy\n",
        "from tensorflow.keras.utils import to_categorical\n",
        "from tensorflow.keras.callbacks import ModelCheckpoint, EarlyStopping, CSVLogger, ReduceLROnPlateau\n",
        "\n",
        "from Preprocessing.preprocessing import LoadData\n",
        "from Models.convnet import Lenet5\n",
        "from Utils.view import View"
      ]
    },
    {
      "cell_type": "markdown",
      "metadata": {
        "id": "FlMBjPGMSh0S"
      },
      "source": [
        "# Initializations"
      ]
    },
    {
      "cell_type": "markdown",
      "source": [
        "Initialization of Globals, Hyperparameters, Dataset Parameters and Normalization\n"
      ],
      "metadata": {
        "id": "hMYfF7nAKgdo"
      }
    },
    {
      "cell_type": "code",
      "execution_count": 6,
      "metadata": {
        "id": "wEp5smThP6M_",
        "colab": {
          "base_uri": "https://localhost:8080/"
        },
        "outputId": "0407afcf-e768-4743-bab0-446ea09abc77"
      },
      "outputs": [
        {
          "output_type": "stream",
          "name": "stdout",
          "text": [
            "\n",
            "\n",
            "Loading time: 0.10 minutes\n",
            "\n"
          ]
        }
      ],
      "source": [
        "with warnings.catch_warnings():\n",
        "    warnings.filterwarnings(\"ignore\", category=Warning)\n",
        "\n",
        "default_callbacks = []\n",
        "\n",
        "labels_garbage_list = [\"glass\", \"metal\", \"paper\", \"plastic\", \"trash\"]\n",
        "\n",
        "learning_rate = 0.001\n",
        "epochs = 100\n",
        "limit = None\n",
        "batch_size = 32\n",
        "normalization = True\n",
        "data_augmentation = False\n",
        "save_best_model = True\n",
        "early_stopping = False\n",
        "log = True\n",
        "R_LR_P = False\n",
        "\n",
        "cifar10_ds = False\n",
        "garbage_ds = True\n",
        "develop = False\n",
        "dest_input_size = 32\n",
        "\n",
        "if develop: \n",
        "    limit = 1000\n",
        "    epochs = 10\n",
        "\n",
        "if cifar10_ds: \n",
        "    (x_train, y_train), (x_test, y_test) = cifar10.load_data()\n",
        "    input_size = x_train.shape[1]\n",
        "    depth = x_train.shape[3]\n",
        "    classes = len(np.unique(y_train))\n",
        "    \n",
        "if garbage_ds:\n",
        "    [x_train, y_train, x_val, y_val, x_test, y_test] = LoadData.load_dataset_cv('./Garbage_Data_Set', labels_garbage_list, 0.1, 0.1, True, limit, dest_input_size, True)\n",
        "    input_size = x_train.shape[1]\n",
        "    depth = x_train.shape[3]\n",
        "    classes = len(np.unique(y_train))\n",
        "\n",
        "if cifar10_ds and limit is not None: \n",
        "    x_train = x_train[0:limit]\n",
        "    y_train = y_train[0:limit]\n",
        "    x_test = x_test[0:limit]\n",
        "    y_test = y_test[0:limit]\n",
        "    \n",
        "if normalization: \n",
        "    x_train = x_train / 255.0\n",
        "    x_test = x_test / 255.0 "
      ]
    },
    {
      "cell_type": "code",
      "source": [
        "print(x_train.shape)\n",
        "print(y_train.shape)\n",
        "print(x_val.shape)\n",
        "print(y_val.shape)\n",
        "print(x_test.shape)\n",
        "print(y_test.shape)\n",
        "\n"
      ],
      "metadata": {
        "colab": {
          "base_uri": "https://localhost:8080/"
        },
        "id": "NoWwwb38rR6x",
        "outputId": "f5f16b9c-fe9a-4ef2-aa81-cf2d2429cad2"
      },
      "execution_count": 7,
      "outputs": [
        {
          "output_type": "stream",
          "name": "stdout",
          "text": [
            "(1700, 32, 32, 3)\n",
            "(1700,)\n",
            "(212, 32, 32, 3)\n",
            "(212,)\n",
            "(212, 32, 32, 3)\n",
            "(212,)\n"
          ]
        }
      ]
    },
    {
      "cell_type": "markdown",
      "source": [
        "# Model Compiling"
      ],
      "metadata": {
        "id": "ML9Bf_ERGbkk"
      }
    },
    {
      "cell_type": "markdown",
      "source": [
        "One-hot encoding of the output\n"
      ],
      "metadata": {
        "id": "Ga-8o-0dJ5Jj"
      }
    },
    {
      "cell_type": "code",
      "source": [
        "if cifar10_ds or garbage_ds: \n",
        "    y_train = to_categorical(y_train, num_classes = classes)\n",
        "    y_val = to_categorical(y_val, num_classes = classes)\n",
        "    y_test = to_categorical(y_test, num_classes = classes)\n",
        "\n",
        "model = Lenet5.build(depth, input_size, input_size, classes, True)\n",
        "#sgd = SGD(lr = learning_rate)\n",
        "sgd = Adam(lr = learning_rate)\n",
        "\n",
        "model.compile(optimizer = sgd, loss = \"categorical_crossentropy\", metrics = [\"accuracy\"])"
      ],
      "metadata": {
        "colab": {
          "base_uri": "https://localhost:8080/"
        },
        "id": "JLhDl-uPGFk6",
        "outputId": "93c57a66-cc01-4265-cc65-a071d145ff40"
      },
      "execution_count": 8,
      "outputs": [
        {
          "output_type": "stream",
          "name": "stdout",
          "text": [
            "Model: \"sequential\"\n",
            "_________________________________________________________________\n",
            " Layer (type)                Output Shape              Param #   \n",
            "=================================================================\n",
            " conv2d (Conv2D)             (None, 32, 32, 20)        1520      \n",
            "                                                                 \n",
            " activation (Activation)     (None, 32, 32, 20)        0         \n",
            "                                                                 \n",
            " max_pooling2d (MaxPooling2D  (None, 16, 16, 20)       0         \n",
            " )                                                               \n",
            "                                                                 \n",
            " conv2d_1 (Conv2D)           (None, 16, 16, 50)        25050     \n",
            "                                                                 \n",
            " activation_1 (Activation)   (None, 16, 16, 50)        0         \n",
            "                                                                 \n",
            " max_pooling2d_1 (MaxPooling  (None, 8, 8, 50)         0         \n",
            " 2D)                                                             \n",
            "                                                                 \n",
            " flatten (Flatten)           (None, 3200)              0         \n",
            "                                                                 \n",
            " dense (Dense)               (None, 512)               1638912   \n",
            "                                                                 \n",
            " activation_2 (Activation)   (None, 512)               0         \n",
            "                                                                 \n",
            " dropout (Dropout)           (None, 512)               0         \n",
            "                                                                 \n",
            " dense_1 (Dense)             (None, 256)               131328    \n",
            "                                                                 \n",
            " activation_3 (Activation)   (None, 256)               0         \n",
            "                                                                 \n",
            " dropout_1 (Dropout)         (None, 256)               0         \n",
            "                                                                 \n",
            " dense_2 (Dense)             (None, 5)                 1285      \n",
            "                                                                 \n",
            " activation_4 (Activation)   (None, 5)                 0         \n",
            "                                                                 \n",
            "=================================================================\n",
            "Total params: 1,798,095\n",
            "Trainable params: 1,798,095\n",
            "Non-trainable params: 0\n",
            "_________________________________________________________________\n"
          ]
        },
        {
          "output_type": "stream",
          "name": "stderr",
          "text": [
            "/usr/local/lib/python3.7/dist-packages/keras/optimizer_v2/adam.py:105: UserWarning: The `lr` argument is deprecated, use `learning_rate` instead.\n",
            "  super(Adam, self).__init__(name, **kwargs)\n"
          ]
        }
      ]
    },
    {
      "cell_type": "markdown",
      "source": [
        "# Callback Definitions"
      ],
      "metadata": {
        "id": "4Kt65ShpGSzh"
      }
    },
    {
      "cell_type": "markdown",
      "source": [
        "Save Best Model, Early Stopping, Csv Logger and Reduce On Plateau"
      ],
      "metadata": {
        "id": "jTcbfmupLEb3"
      }
    },
    {
      "cell_type": "code",
      "source": [
        "if save_best_model: \n",
        "  check_point = ModelCheckpoint(\"best_epoch_model.hdf5\", save_weights_only = True, monitor = \"val_accuracy\", verbose = 1, save_best_only = True, mode = \"max\")\n",
        "  default_callbacks = default_callbacks + [check_point]\n",
        "\n",
        "if early_stopping: \n",
        "  earlyStopping = EarlyStopping(monitor = 'val_loss', min_delta = 0.001, patience = 10, verbose = 0, mode = 'min') \n",
        "  default_callbacks = default_callbacks + [earlyStopping]\n",
        "\n",
        "if log: \n",
        "  csv_logger = CSVLogger('history.log')\n",
        "  default_callbacks = default_callbacks + [csv_logger]\n",
        "\n",
        "if R_LR_P: \n",
        "  reduce_lr_plateau = ReduceLROnPlateau(factor=0.1, patience=3, verbose=1, min_lr=1e-06, min_delta=0.01)\n",
        "  default_callbacks = default_callbacks + [reduce_lr_plateau]\n"
      ],
      "metadata": {
        "id": "9gEnfuMYGRxv"
      },
      "execution_count": 9,
      "outputs": []
    },
    {
      "cell_type": "markdown",
      "source": [
        "# Model Training"
      ],
      "metadata": {
        "id": "kCVeSAk2Gng0"
      }
    },
    {
      "cell_type": "markdown",
      "source": [
        "Train the model, iterating on the data in batches"
      ],
      "metadata": {
        "id": "T-JXHQ4HJyCu"
      }
    },
    {
      "cell_type": "code",
      "source": [
        "if data_augmentation == False: \n",
        "\thistory = model.fit(x_train, y_train, batch_size = batch_size, epochs = epochs, validation_data = (x_val, y_val), callbacks = default_callbacks, verbose = 2)\n",
        "else:\n",
        "\tdatagen = ImageDataGenerator(zoom_range = 0.2, horizontal_flip = True, vertical_flip = True, rotation_range = 30)                                   \n",
        "\n",
        "\thistory = model.fit_generator(datagen.flow(x_train, y_train, batch_size = batch_size), steps_per_epoch = x_train.shape[0]/batch_size, epochs = epochs, validation_data = (x_val, y_val), callbacks = default_callbacks, verbose = 2)\n",
        "\n",
        "score = model.evaluate(x_test, y_test, batch_size=64)\n",
        "print(score)\n",
        "\n",
        "model.save_weights('last_epoch_model.hdf5')\n",
        "    \n",
        "View.plot_loss(history)\n",
        "View.plot_acc(history)"
      ],
      "metadata": {
        "colab": {
          "base_uri": "https://localhost:8080/",
          "height": 1000
        },
        "id": "nCVeuj4vGqSs",
        "outputId": "a791aca8-43df-4729-9259-b2ebf5c65c50"
      },
      "execution_count": 10,
      "outputs": [
        {
          "output_type": "stream",
          "name": "stdout",
          "text": [
            "Epoch 1/100\n",
            "\n",
            "Epoch 1: val_accuracy improved from -inf to 0.28774, saving model to best_epoch_model.hdf5\n",
            "54/54 - 3s - loss: 1.5125 - accuracy: 0.3047 - val_loss: 59.5284 - val_accuracy: 0.2877 - 3s/epoch - 47ms/step\n",
            "Epoch 2/100\n",
            "\n",
            "Epoch 2: val_accuracy improved from 0.28774 to 0.43396, saving model to best_epoch_model.hdf5\n",
            "54/54 - 0s - loss: 1.3998 - accuracy: 0.3724 - val_loss: 86.2607 - val_accuracy: 0.4340 - 464ms/epoch - 9ms/step\n",
            "Epoch 3/100\n",
            "\n",
            "Epoch 3: val_accuracy did not improve from 0.43396\n",
            "54/54 - 0s - loss: 1.3316 - accuracy: 0.4094 - val_loss: 111.8888 - val_accuracy: 0.4151 - 388ms/epoch - 7ms/step\n",
            "Epoch 4/100\n",
            "\n",
            "Epoch 4: val_accuracy improved from 0.43396 to 0.54717, saving model to best_epoch_model.hdf5\n",
            "54/54 - 0s - loss: 1.2408 - accuracy: 0.4606 - val_loss: 101.5667 - val_accuracy: 0.5472 - 425ms/epoch - 8ms/step\n",
            "Epoch 5/100\n",
            "\n",
            "Epoch 5: val_accuracy did not improve from 0.54717\n",
            "54/54 - 0s - loss: 1.2013 - accuracy: 0.4918 - val_loss: 133.6302 - val_accuracy: 0.5094 - 380ms/epoch - 7ms/step\n",
            "Epoch 6/100\n",
            "\n",
            "Epoch 6: val_accuracy did not improve from 0.54717\n",
            "54/54 - 0s - loss: 1.1853 - accuracy: 0.5029 - val_loss: 118.0973 - val_accuracy: 0.5047 - 398ms/epoch - 7ms/step\n",
            "Epoch 7/100\n",
            "\n",
            "Epoch 7: val_accuracy improved from 0.54717 to 0.58019, saving model to best_epoch_model.hdf5\n",
            "54/54 - 0s - loss: 1.0630 - accuracy: 0.5606 - val_loss: 90.8626 - val_accuracy: 0.5802 - 427ms/epoch - 8ms/step\n",
            "Epoch 8/100\n",
            "\n",
            "Epoch 8: val_accuracy improved from 0.58019 to 0.62264, saving model to best_epoch_model.hdf5\n",
            "54/54 - 0s - loss: 0.9833 - accuracy: 0.6041 - val_loss: 95.9222 - val_accuracy: 0.6226 - 422ms/epoch - 8ms/step\n",
            "Epoch 9/100\n",
            "\n",
            "Epoch 9: val_accuracy did not improve from 0.62264\n",
            "54/54 - 0s - loss: 0.9146 - accuracy: 0.6476 - val_loss: 141.8432 - val_accuracy: 0.5660 - 388ms/epoch - 7ms/step\n",
            "Epoch 10/100\n",
            "\n",
            "Epoch 10: val_accuracy did not improve from 0.62264\n",
            "54/54 - 0s - loss: 0.8389 - accuracy: 0.6735 - val_loss: 162.7171 - val_accuracy: 0.5991 - 388ms/epoch - 7ms/step\n",
            "Epoch 11/100\n",
            "\n",
            "Epoch 11: val_accuracy did not improve from 0.62264\n",
            "54/54 - 0s - loss: 0.7954 - accuracy: 0.6712 - val_loss: 138.2469 - val_accuracy: 0.6085 - 400ms/epoch - 7ms/step\n",
            "Epoch 12/100\n",
            "\n",
            "Epoch 12: val_accuracy did not improve from 0.62264\n",
            "54/54 - 0s - loss: 0.6949 - accuracy: 0.7171 - val_loss: 144.8046 - val_accuracy: 0.6132 - 383ms/epoch - 7ms/step\n",
            "Epoch 13/100\n",
            "\n",
            "Epoch 13: val_accuracy did not improve from 0.62264\n",
            "54/54 - 0s - loss: 0.6421 - accuracy: 0.7600 - val_loss: 255.1641 - val_accuracy: 0.5566 - 386ms/epoch - 7ms/step\n",
            "Epoch 14/100\n",
            "\n",
            "Epoch 14: val_accuracy did not improve from 0.62264\n",
            "54/54 - 0s - loss: 0.6084 - accuracy: 0.7612 - val_loss: 283.4091 - val_accuracy: 0.5519 - 392ms/epoch - 7ms/step\n",
            "Epoch 15/100\n",
            "\n",
            "Epoch 15: val_accuracy did not improve from 0.62264\n",
            "54/54 - 0s - loss: 0.5602 - accuracy: 0.7912 - val_loss: 249.7383 - val_accuracy: 0.5896 - 397ms/epoch - 7ms/step\n",
            "Epoch 16/100\n",
            "\n",
            "Epoch 16: val_accuracy did not improve from 0.62264\n",
            "54/54 - 0s - loss: 0.4525 - accuracy: 0.8324 - val_loss: 250.2273 - val_accuracy: 0.6038 - 395ms/epoch - 7ms/step\n",
            "Epoch 17/100\n",
            "\n",
            "Epoch 17: val_accuracy did not improve from 0.62264\n",
            "54/54 - 0s - loss: 0.4382 - accuracy: 0.8429 - val_loss: 369.7471 - val_accuracy: 0.5708 - 395ms/epoch - 7ms/step\n",
            "Epoch 18/100\n",
            "\n",
            "Epoch 18: val_accuracy did not improve from 0.62264\n",
            "54/54 - 0s - loss: 0.5049 - accuracy: 0.8088 - val_loss: 289.1145 - val_accuracy: 0.5896 - 424ms/epoch - 8ms/step\n",
            "Epoch 19/100\n",
            "\n",
            "Epoch 19: val_accuracy did not improve from 0.62264\n",
            "54/54 - 0s - loss: 0.3589 - accuracy: 0.8753 - val_loss: 354.2088 - val_accuracy: 0.6085 - 425ms/epoch - 8ms/step\n",
            "Epoch 20/100\n",
            "\n",
            "Epoch 20: val_accuracy did not improve from 0.62264\n",
            "54/54 - 0s - loss: 0.3268 - accuracy: 0.8865 - val_loss: 367.1225 - val_accuracy: 0.5708 - 381ms/epoch - 7ms/step\n",
            "Epoch 21/100\n",
            "\n",
            "Epoch 21: val_accuracy did not improve from 0.62264\n",
            "54/54 - 0s - loss: 0.2825 - accuracy: 0.8976 - val_loss: 388.4702 - val_accuracy: 0.6085 - 399ms/epoch - 7ms/step\n",
            "Epoch 22/100\n",
            "\n",
            "Epoch 22: val_accuracy did not improve from 0.62264\n",
            "54/54 - 0s - loss: 0.2781 - accuracy: 0.9035 - val_loss: 370.0300 - val_accuracy: 0.6085 - 395ms/epoch - 7ms/step\n",
            "Epoch 23/100\n",
            "\n",
            "Epoch 23: val_accuracy did not improve from 0.62264\n",
            "54/54 - 0s - loss: 0.2216 - accuracy: 0.9182 - val_loss: 389.2964 - val_accuracy: 0.5708 - 422ms/epoch - 8ms/step\n",
            "Epoch 24/100\n",
            "\n",
            "Epoch 24: val_accuracy did not improve from 0.62264\n",
            "54/54 - 0s - loss: 0.1909 - accuracy: 0.9335 - val_loss: 373.3876 - val_accuracy: 0.5849 - 392ms/epoch - 7ms/step\n",
            "Epoch 25/100\n",
            "\n",
            "Epoch 25: val_accuracy did not improve from 0.62264\n",
            "54/54 - 0s - loss: 0.2299 - accuracy: 0.9171 - val_loss: 409.8547 - val_accuracy: 0.5991 - 392ms/epoch - 7ms/step\n",
            "Epoch 26/100\n",
            "\n",
            "Epoch 26: val_accuracy did not improve from 0.62264\n",
            "54/54 - 0s - loss: 0.1798 - accuracy: 0.9400 - val_loss: 400.8804 - val_accuracy: 0.5708 - 397ms/epoch - 7ms/step\n",
            "Epoch 27/100\n",
            "\n",
            "Epoch 27: val_accuracy did not improve from 0.62264\n",
            "54/54 - 0s - loss: 0.2640 - accuracy: 0.9071 - val_loss: 504.1833 - val_accuracy: 0.5472 - 378ms/epoch - 7ms/step\n",
            "Epoch 28/100\n",
            "\n",
            "Epoch 28: val_accuracy did not improve from 0.62264\n",
            "54/54 - 0s - loss: 0.1522 - accuracy: 0.9482 - val_loss: 392.1068 - val_accuracy: 0.5896 - 428ms/epoch - 8ms/step\n",
            "Epoch 29/100\n",
            "\n",
            "Epoch 29: val_accuracy did not improve from 0.62264\n",
            "54/54 - 0s - loss: 0.1824 - accuracy: 0.9341 - val_loss: 433.7899 - val_accuracy: 0.5849 - 425ms/epoch - 8ms/step\n",
            "Epoch 30/100\n",
            "\n",
            "Epoch 30: val_accuracy did not improve from 0.62264\n",
            "54/54 - 0s - loss: 0.1705 - accuracy: 0.9447 - val_loss: 499.3810 - val_accuracy: 0.5802 - 385ms/epoch - 7ms/step\n",
            "Epoch 31/100\n",
            "\n",
            "Epoch 31: val_accuracy did not improve from 0.62264\n",
            "54/54 - 0s - loss: 0.1504 - accuracy: 0.9506 - val_loss: 597.3432 - val_accuracy: 0.5802 - 390ms/epoch - 7ms/step\n",
            "Epoch 32/100\n",
            "\n",
            "Epoch 32: val_accuracy did not improve from 0.62264\n",
            "54/54 - 0s - loss: 0.1102 - accuracy: 0.9665 - val_loss: 447.7015 - val_accuracy: 0.5849 - 380ms/epoch - 7ms/step\n",
            "Epoch 33/100\n",
            "\n",
            "Epoch 33: val_accuracy did not improve from 0.62264\n",
            "54/54 - 0s - loss: 0.1000 - accuracy: 0.9706 - val_loss: 480.7548 - val_accuracy: 0.6038 - 425ms/epoch - 8ms/step\n",
            "Epoch 34/100\n",
            "\n",
            "Epoch 34: val_accuracy did not improve from 0.62264\n",
            "54/54 - 0s - loss: 0.0692 - accuracy: 0.9788 - val_loss: 497.0326 - val_accuracy: 0.5943 - 397ms/epoch - 7ms/step\n",
            "Epoch 35/100\n",
            "\n",
            "Epoch 35: val_accuracy did not improve from 0.62264\n",
            "54/54 - 0s - loss: 0.1475 - accuracy: 0.9512 - val_loss: 507.1331 - val_accuracy: 0.5660 - 380ms/epoch - 7ms/step\n",
            "Epoch 36/100\n",
            "\n",
            "Epoch 36: val_accuracy improved from 0.62264 to 0.63208, saving model to best_epoch_model.hdf5\n",
            "54/54 - 0s - loss: 0.1030 - accuracy: 0.9688 - val_loss: 569.4333 - val_accuracy: 0.6321 - 418ms/epoch - 8ms/step\n",
            "Epoch 37/100\n",
            "\n",
            "Epoch 37: val_accuracy did not improve from 0.63208\n",
            "54/54 - 0s - loss: 0.0852 - accuracy: 0.9718 - val_loss: 501.7842 - val_accuracy: 0.6038 - 418ms/epoch - 8ms/step\n",
            "Epoch 38/100\n",
            "\n",
            "Epoch 38: val_accuracy did not improve from 0.63208\n",
            "54/54 - 0s - loss: 0.1411 - accuracy: 0.9524 - val_loss: 439.2902 - val_accuracy: 0.6085 - 391ms/epoch - 7ms/step\n",
            "Epoch 39/100\n",
            "\n",
            "Epoch 39: val_accuracy did not improve from 0.63208\n",
            "54/54 - 0s - loss: 0.1116 - accuracy: 0.9618 - val_loss: 529.5766 - val_accuracy: 0.5943 - 427ms/epoch - 8ms/step\n",
            "Epoch 40/100\n",
            "\n",
            "Epoch 40: val_accuracy did not improve from 0.63208\n",
            "54/54 - 0s - loss: 0.0687 - accuracy: 0.9782 - val_loss: 611.2784 - val_accuracy: 0.5802 - 397ms/epoch - 7ms/step\n",
            "Epoch 41/100\n",
            "\n",
            "Epoch 41: val_accuracy did not improve from 0.63208\n",
            "54/54 - 0s - loss: 0.0696 - accuracy: 0.9776 - val_loss: 547.0775 - val_accuracy: 0.5991 - 421ms/epoch - 8ms/step\n",
            "Epoch 42/100\n",
            "\n",
            "Epoch 42: val_accuracy did not improve from 0.63208\n",
            "54/54 - 0s - loss: 0.0856 - accuracy: 0.9712 - val_loss: 481.3017 - val_accuracy: 0.5896 - 377ms/epoch - 7ms/step\n",
            "Epoch 43/100\n",
            "\n",
            "Epoch 43: val_accuracy did not improve from 0.63208\n",
            "54/54 - 0s - loss: 0.0789 - accuracy: 0.9741 - val_loss: 477.7146 - val_accuracy: 0.6038 - 392ms/epoch - 7ms/step\n",
            "Epoch 44/100\n",
            "\n",
            "Epoch 44: val_accuracy did not improve from 0.63208\n",
            "54/54 - 0s - loss: 0.0889 - accuracy: 0.9712 - val_loss: 488.1418 - val_accuracy: 0.6226 - 422ms/epoch - 8ms/step\n",
            "Epoch 45/100\n",
            "\n",
            "Epoch 45: val_accuracy improved from 0.63208 to 0.64151, saving model to best_epoch_model.hdf5\n",
            "54/54 - 0s - loss: 0.0623 - accuracy: 0.9788 - val_loss: 440.1273 - val_accuracy: 0.6415 - 486ms/epoch - 9ms/step\n",
            "Epoch 46/100\n",
            "\n",
            "Epoch 46: val_accuracy did not improve from 0.64151\n",
            "54/54 - 0s - loss: 0.0545 - accuracy: 0.9794 - val_loss: 568.1934 - val_accuracy: 0.5943 - 395ms/epoch - 7ms/step\n",
            "Epoch 47/100\n",
            "\n",
            "Epoch 47: val_accuracy did not improve from 0.64151\n",
            "54/54 - 0s - loss: 0.0714 - accuracy: 0.9741 - val_loss: 504.9732 - val_accuracy: 0.6085 - 394ms/epoch - 7ms/step\n",
            "Epoch 48/100\n",
            "\n",
            "Epoch 48: val_accuracy did not improve from 0.64151\n",
            "54/54 - 0s - loss: 0.0817 - accuracy: 0.9735 - val_loss: 488.6904 - val_accuracy: 0.6085 - 387ms/epoch - 7ms/step\n",
            "Epoch 49/100\n",
            "\n",
            "Epoch 49: val_accuracy did not improve from 0.64151\n",
            "54/54 - 0s - loss: 0.0543 - accuracy: 0.9859 - val_loss: 542.3026 - val_accuracy: 0.6226 - 421ms/epoch - 8ms/step\n",
            "Epoch 50/100\n",
            "\n",
            "Epoch 50: val_accuracy did not improve from 0.64151\n",
            "54/54 - 0s - loss: 0.0411 - accuracy: 0.9871 - val_loss: 498.6543 - val_accuracy: 0.6368 - 428ms/epoch - 8ms/step\n",
            "Epoch 51/100\n",
            "\n",
            "Epoch 51: val_accuracy did not improve from 0.64151\n",
            "54/54 - 0s - loss: 0.0354 - accuracy: 0.9865 - val_loss: 578.4612 - val_accuracy: 0.6226 - 387ms/epoch - 7ms/step\n",
            "Epoch 52/100\n",
            "\n",
            "Epoch 52: val_accuracy did not improve from 0.64151\n",
            "54/54 - 0s - loss: 0.1203 - accuracy: 0.9624 - val_loss: 505.9558 - val_accuracy: 0.6132 - 424ms/epoch - 8ms/step\n",
            "Epoch 53/100\n",
            "\n",
            "Epoch 53: val_accuracy did not improve from 0.64151\n",
            "54/54 - 0s - loss: 0.1038 - accuracy: 0.9635 - val_loss: 553.6001 - val_accuracy: 0.6132 - 432ms/epoch - 8ms/step\n",
            "Epoch 54/100\n",
            "\n",
            "Epoch 54: val_accuracy did not improve from 0.64151\n",
            "54/54 - 0s - loss: 0.0529 - accuracy: 0.9818 - val_loss: 552.7109 - val_accuracy: 0.6085 - 394ms/epoch - 7ms/step\n",
            "Epoch 55/100\n",
            "\n",
            "Epoch 55: val_accuracy did not improve from 0.64151\n",
            "54/54 - 0s - loss: 0.0972 - accuracy: 0.9688 - val_loss: 480.2264 - val_accuracy: 0.6226 - 383ms/epoch - 7ms/step\n",
            "Epoch 56/100\n",
            "\n",
            "Epoch 56: val_accuracy did not improve from 0.64151\n",
            "54/54 - 0s - loss: 0.0892 - accuracy: 0.9747 - val_loss: 482.4496 - val_accuracy: 0.6226 - 431ms/epoch - 8ms/step\n",
            "Epoch 57/100\n",
            "\n",
            "Epoch 57: val_accuracy did not improve from 0.64151\n",
            "54/54 - 0s - loss: 0.0728 - accuracy: 0.9735 - val_loss: 532.0159 - val_accuracy: 0.6179 - 380ms/epoch - 7ms/step\n",
            "Epoch 58/100\n",
            "\n",
            "Epoch 58: val_accuracy did not improve from 0.64151\n",
            "54/54 - 0s - loss: 0.0517 - accuracy: 0.9859 - val_loss: 529.2070 - val_accuracy: 0.5943 - 404ms/epoch - 7ms/step\n",
            "Epoch 59/100\n",
            "\n",
            "Epoch 59: val_accuracy did not improve from 0.64151\n",
            "54/54 - 0s - loss: 0.0404 - accuracy: 0.9876 - val_loss: 580.7880 - val_accuracy: 0.6085 - 389ms/epoch - 7ms/step\n",
            "Epoch 60/100\n",
            "\n",
            "Epoch 60: val_accuracy did not improve from 0.64151\n",
            "54/54 - 0s - loss: 0.0300 - accuracy: 0.9906 - val_loss: 618.8628 - val_accuracy: 0.5896 - 432ms/epoch - 8ms/step\n",
            "Epoch 61/100\n",
            "\n",
            "Epoch 61: val_accuracy did not improve from 0.64151\n",
            "54/54 - 0s - loss: 0.0336 - accuracy: 0.9912 - val_loss: 667.8188 - val_accuracy: 0.5943 - 391ms/epoch - 7ms/step\n",
            "Epoch 62/100\n",
            "\n",
            "Epoch 62: val_accuracy did not improve from 0.64151\n",
            "54/54 - 0s - loss: 0.0346 - accuracy: 0.9900 - val_loss: 640.0638 - val_accuracy: 0.5755 - 381ms/epoch - 7ms/step\n",
            "Epoch 63/100\n",
            "\n",
            "Epoch 63: val_accuracy did not improve from 0.64151\n",
            "54/54 - 0s - loss: 0.0552 - accuracy: 0.9818 - val_loss: 641.4418 - val_accuracy: 0.6085 - 394ms/epoch - 7ms/step\n",
            "Epoch 64/100\n",
            "\n",
            "Epoch 64: val_accuracy did not improve from 0.64151\n",
            "54/54 - 0s - loss: 0.0734 - accuracy: 0.9741 - val_loss: 798.6839 - val_accuracy: 0.5519 - 419ms/epoch - 8ms/step\n",
            "Epoch 65/100\n",
            "\n",
            "Epoch 65: val_accuracy did not improve from 0.64151\n",
            "54/54 - 0s - loss: 0.0366 - accuracy: 0.9882 - val_loss: 598.3628 - val_accuracy: 0.6085 - 389ms/epoch - 7ms/step\n",
            "Epoch 66/100\n",
            "\n",
            "Epoch 66: val_accuracy did not improve from 0.64151\n",
            "54/54 - 0s - loss: 0.0482 - accuracy: 0.9824 - val_loss: 722.4470 - val_accuracy: 0.5660 - 382ms/epoch - 7ms/step\n",
            "Epoch 67/100\n",
            "\n",
            "Epoch 67: val_accuracy did not improve from 0.64151\n",
            "54/54 - 0s - loss: 0.0297 - accuracy: 0.9918 - val_loss: 693.8612 - val_accuracy: 0.5991 - 395ms/epoch - 7ms/step\n",
            "Epoch 68/100\n",
            "\n",
            "Epoch 68: val_accuracy did not improve from 0.64151\n",
            "54/54 - 0s - loss: 0.0302 - accuracy: 0.9888 - val_loss: 803.5797 - val_accuracy: 0.6085 - 416ms/epoch - 8ms/step\n",
            "Epoch 69/100\n",
            "\n",
            "Epoch 69: val_accuracy did not improve from 0.64151\n",
            "54/54 - 0s - loss: 0.0326 - accuracy: 0.9906 - val_loss: 624.3609 - val_accuracy: 0.6226 - 430ms/epoch - 8ms/step\n",
            "Epoch 70/100\n",
            "\n",
            "Epoch 70: val_accuracy did not improve from 0.64151\n",
            "54/54 - 0s - loss: 0.0457 - accuracy: 0.9882 - val_loss: 759.3813 - val_accuracy: 0.6085 - 417ms/epoch - 8ms/step\n",
            "Epoch 71/100\n",
            "\n",
            "Epoch 71: val_accuracy did not improve from 0.64151\n",
            "54/54 - 0s - loss: 0.0663 - accuracy: 0.9782 - val_loss: 721.4658 - val_accuracy: 0.5189 - 432ms/epoch - 8ms/step\n",
            "Epoch 72/100\n",
            "\n",
            "Epoch 72: val_accuracy did not improve from 0.64151\n",
            "54/54 - 0s - loss: 0.0888 - accuracy: 0.9676 - val_loss: 566.4957 - val_accuracy: 0.5613 - 397ms/epoch - 7ms/step\n",
            "Epoch 73/100\n",
            "\n",
            "Epoch 73: val_accuracy did not improve from 0.64151\n",
            "54/54 - 0s - loss: 0.1495 - accuracy: 0.9541 - val_loss: 648.6118 - val_accuracy: 0.5425 - 411ms/epoch - 8ms/step\n",
            "Epoch 74/100\n",
            "\n",
            "Epoch 74: val_accuracy did not improve from 0.64151\n",
            "54/54 - 0s - loss: 0.1811 - accuracy: 0.9471 - val_loss: 524.2654 - val_accuracy: 0.5708 - 421ms/epoch - 8ms/step\n",
            "Epoch 75/100\n",
            "\n",
            "Epoch 75: val_accuracy did not improve from 0.64151\n",
            "54/54 - 0s - loss: 0.0828 - accuracy: 0.9753 - val_loss: 663.4487 - val_accuracy: 0.5566 - 385ms/epoch - 7ms/step\n",
            "Epoch 76/100\n",
            "\n",
            "Epoch 76: val_accuracy did not improve from 0.64151\n",
            "54/54 - 0s - loss: 0.0555 - accuracy: 0.9806 - val_loss: 547.2805 - val_accuracy: 0.6226 - 383ms/epoch - 7ms/step\n",
            "Epoch 77/100\n",
            "\n",
            "Epoch 77: val_accuracy did not improve from 0.64151\n",
            "54/54 - 0s - loss: 0.0407 - accuracy: 0.9871 - val_loss: 875.2258 - val_accuracy: 0.5519 - 381ms/epoch - 7ms/step\n",
            "Epoch 78/100\n",
            "\n",
            "Epoch 78: val_accuracy did not improve from 0.64151\n",
            "54/54 - 0s - loss: 0.0613 - accuracy: 0.9806 - val_loss: 662.2278 - val_accuracy: 0.5660 - 430ms/epoch - 8ms/step\n",
            "Epoch 79/100\n",
            "\n",
            "Epoch 79: val_accuracy did not improve from 0.64151\n",
            "54/54 - 0s - loss: 0.0478 - accuracy: 0.9824 - val_loss: 701.2637 - val_accuracy: 0.5849 - 390ms/epoch - 7ms/step\n",
            "Epoch 80/100\n",
            "\n",
            "Epoch 80: val_accuracy did not improve from 0.64151\n",
            "54/54 - 0s - loss: 0.0321 - accuracy: 0.9894 - val_loss: 618.0564 - val_accuracy: 0.5755 - 419ms/epoch - 8ms/step\n",
            "Epoch 81/100\n",
            "\n",
            "Epoch 81: val_accuracy did not improve from 0.64151\n",
            "54/54 - 0s - loss: 0.0356 - accuracy: 0.9882 - val_loss: 749.5460 - val_accuracy: 0.5708 - 392ms/epoch - 7ms/step\n",
            "Epoch 82/100\n",
            "\n",
            "Epoch 82: val_accuracy did not improve from 0.64151\n",
            "54/54 - 0s - loss: 0.0415 - accuracy: 0.9859 - val_loss: 615.6327 - val_accuracy: 0.6085 - 380ms/epoch - 7ms/step\n",
            "Epoch 83/100\n",
            "\n",
            "Epoch 83: val_accuracy did not improve from 0.64151\n",
            "54/54 - 0s - loss: 0.1937 - accuracy: 0.9459 - val_loss: 649.8618 - val_accuracy: 0.5802 - 429ms/epoch - 8ms/step\n",
            "Epoch 84/100\n",
            "\n",
            "Epoch 84: val_accuracy did not improve from 0.64151\n",
            "54/54 - 0s - loss: 0.0526 - accuracy: 0.9812 - val_loss: 635.4468 - val_accuracy: 0.5613 - 383ms/epoch - 7ms/step\n",
            "Epoch 85/100\n",
            "\n",
            "Epoch 85: val_accuracy did not improve from 0.64151\n",
            "54/54 - 0s - loss: 0.0288 - accuracy: 0.9912 - val_loss: 772.3757 - val_accuracy: 0.5896 - 381ms/epoch - 7ms/step\n",
            "Epoch 86/100\n",
            "\n",
            "Epoch 86: val_accuracy did not improve from 0.64151\n",
            "54/54 - 0s - loss: 0.0363 - accuracy: 0.9865 - val_loss: 836.4684 - val_accuracy: 0.5896 - 394ms/epoch - 7ms/step\n",
            "Epoch 87/100\n",
            "\n",
            "Epoch 87: val_accuracy did not improve from 0.64151\n",
            "54/54 - 0s - loss: 0.0189 - accuracy: 0.9941 - val_loss: 696.2430 - val_accuracy: 0.6179 - 396ms/epoch - 7ms/step\n",
            "Epoch 88/100\n",
            "\n",
            "Epoch 88: val_accuracy did not improve from 0.64151\n",
            "54/54 - 0s - loss: 0.0180 - accuracy: 0.9947 - val_loss: 847.4982 - val_accuracy: 0.5708 - 388ms/epoch - 7ms/step\n",
            "Epoch 89/100\n",
            "\n",
            "Epoch 89: val_accuracy did not improve from 0.64151\n",
            "54/54 - 0s - loss: 0.0558 - accuracy: 0.9871 - val_loss: 638.7927 - val_accuracy: 0.5896 - 384ms/epoch - 7ms/step\n",
            "Epoch 90/100\n",
            "\n",
            "Epoch 90: val_accuracy did not improve from 0.64151\n",
            "54/54 - 0s - loss: 0.0383 - accuracy: 0.9847 - val_loss: 505.7823 - val_accuracy: 0.5896 - 383ms/epoch - 7ms/step\n",
            "Epoch 91/100\n",
            "\n",
            "Epoch 91: val_accuracy did not improve from 0.64151\n",
            "54/54 - 0s - loss: 0.0277 - accuracy: 0.9912 - val_loss: 647.8962 - val_accuracy: 0.6038 - 430ms/epoch - 8ms/step\n",
            "Epoch 92/100\n",
            "\n",
            "Epoch 92: val_accuracy did not improve from 0.64151\n",
            "54/54 - 0s - loss: 0.1732 - accuracy: 0.9447 - val_loss: 607.2124 - val_accuracy: 0.6321 - 382ms/epoch - 7ms/step\n",
            "Epoch 93/100\n",
            "\n",
            "Epoch 93: val_accuracy did not improve from 0.64151\n",
            "54/54 - 0s - loss: 0.0707 - accuracy: 0.9794 - val_loss: 627.1061 - val_accuracy: 0.5566 - 407ms/epoch - 8ms/step\n",
            "Epoch 94/100\n",
            "\n",
            "Epoch 94: val_accuracy did not improve from 0.64151\n",
            "54/54 - 0s - loss: 0.0241 - accuracy: 0.9953 - val_loss: 762.1623 - val_accuracy: 0.5943 - 385ms/epoch - 7ms/step\n",
            "Epoch 95/100\n",
            "\n",
            "Epoch 95: val_accuracy did not improve from 0.64151\n",
            "54/54 - 0s - loss: 0.0243 - accuracy: 0.9929 - val_loss: 812.9670 - val_accuracy: 0.5755 - 383ms/epoch - 7ms/step\n",
            "Epoch 96/100\n",
            "\n",
            "Epoch 96: val_accuracy did not improve from 0.64151\n",
            "54/54 - 0s - loss: 0.0829 - accuracy: 0.9759 - val_loss: 665.0500 - val_accuracy: 0.5660 - 389ms/epoch - 7ms/step\n",
            "Epoch 97/100\n",
            "\n",
            "Epoch 97: val_accuracy did not improve from 0.64151\n",
            "54/54 - 0s - loss: 0.0454 - accuracy: 0.9865 - val_loss: 570.9380 - val_accuracy: 0.6226 - 380ms/epoch - 7ms/step\n",
            "Epoch 98/100\n",
            "\n",
            "Epoch 98: val_accuracy did not improve from 0.64151\n",
            "54/54 - 0s - loss: 0.0300 - accuracy: 0.9918 - val_loss: 902.8467 - val_accuracy: 0.5425 - 405ms/epoch - 7ms/step\n",
            "Epoch 99/100\n",
            "\n",
            "Epoch 99: val_accuracy did not improve from 0.64151\n",
            "54/54 - 0s - loss: 0.0704 - accuracy: 0.9771 - val_loss: 579.0864 - val_accuracy: 0.5943 - 385ms/epoch - 7ms/step\n",
            "Epoch 100/100\n",
            "\n",
            "Epoch 100: val_accuracy did not improve from 0.64151\n",
            "54/54 - 0s - loss: 0.0335 - accuracy: 0.9859 - val_loss: 581.1902 - val_accuracy: 0.5991 - 420ms/epoch - 8ms/step\n",
            "4/4 [==============================] - 0s 7ms/step - loss: 2.6104 - accuracy: 0.6274\n",
            "[2.6104414463043213, 0.6273584961891174]\n"
          ]
        },
        {
          "output_type": "display_data",
          "data": {
            "text/plain": [
              "<Figure size 432x288 with 1 Axes>"
            ],
            "image/png": "[encoded data removed]"
          },
          "metadata": {
            "needs_background": "light"
          }
        },
        {
          "output_type": "display_data",
          "data": {
            "text/plain": [
              "<Figure size 432x288 with 1 Axes>"
            ],
            "image/png": "[encoded data removed]"
          },
          "metadata": {
            "needs_background": "light"
          }
        }
      ]
    },
    {
      "cell_type": "markdown",
      "source": [
        "# Homeworks"
      ],
      "metadata": {
        "id": "JNXI7sse4rsC"
      }
    },
    {
      "cell_type": "markdown",
      "source": [
        "1) Implement the Garbage Classifier with advanced models that we saw last time and make practice in order to find the best model.\n",
        "\n",
        "2) Make some exploratory analysis on Input Data.\n",
        "\n",
        "3) Make some exploratory analysis on Output Data.\n",
        "\n",
        "4) Find the best hyperparameters for Data Augmentation.\n",
        "\n",
        "5) Try to manually fine-tune all hyper-parameters in order to achieve the best accuracy on validation set\n",
        "\n",
        "6) Save the best model and write an Inference code, where you give one external garbage image (downloaded from google, etc.) and classify it with the best model."
      ],
      "metadata": {
        "id": "4n4Gvm5v4t7D"
      }
    },
    {
      "cell_type": "code",
      "source": [
        ""
      ],
      "metadata": {
        "id": "bJjRI4GC6QWV"
      },
      "execution_count": 8,
      "outputs": []
    }
  ],
  "metadata": {
    "accelerator": "GPU",
    "colab": {
      "collapsed_sections": [],
      "name": "garbage_classifier_cv_train.ipynb",
      "provenance": []
    },
    "kernelspec": {
      "display_name": "Python 3",
      "name": "python3"
    },
    "language_info": {
      "name": "python"
    }
  },
  "nbformat": 4,
  "nbformat_minor": 0
}