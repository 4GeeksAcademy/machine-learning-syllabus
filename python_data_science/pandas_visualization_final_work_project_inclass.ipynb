{
  "nbformat": 4,
  "nbformat_minor": 0,
  "metadata": {
    "colab": {
      "name": "pandas_visualization_final_work_project.ipynb",
      "provenance": []
    },
    "kernelspec": {
      "name": "python3",
      "display_name": "Python 3"
    },
    "language_info": {
      "name": "python"
    }
  },
  "cells": [
    {
      "cell_type": "code",
      "source": [
        ""
      ],
      "metadata": {
        "id": "Y-VsFphOz3Y6"
      },
      "execution_count": null,
      "outputs": []
    },
    {
      "cell_type": "markdown",
      "source": [
        "# Data Exploration and Visualization of Predictive Manintenance Data"
      ],
      "metadata": {
        "id": "WXftuWy9z4BC"
      }
    },
    {
      "cell_type": "markdown",
      "source": [
        "Download and read predictive maintenance data. Make Data Exploration by Pandas with all the techniques you know. Make inputation of null values. Plot all data distributions. Make scatterplots of some attributes and all the possible visualizations you know by Matplotlib and Seaborn. \n",
        "\n",
        "https://archive.ics.uci.edu/ml/datasets/AI4I+2020+Predictive+Maintenance+Dataset"
      ],
      "metadata": {
        "id": "S8PldCPzzt5c"
      }
    },
    {
      "cell_type": "code",
      "execution_count": null,
      "metadata": {
        "id": "D2dRSL8NztAe"
      },
      "outputs": [],
      "source": [
        ""
      ]
    }
  ]
}