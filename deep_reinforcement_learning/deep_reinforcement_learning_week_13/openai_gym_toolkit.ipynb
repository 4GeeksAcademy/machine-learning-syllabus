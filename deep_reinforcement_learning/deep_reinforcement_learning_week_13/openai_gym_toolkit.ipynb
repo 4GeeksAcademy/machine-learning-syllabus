{
  "nbformat": 4,
  "nbformat_minor": 0,
  "metadata": {
    "colab": {
      "name": "openai_gym_toolkit.ipynb",
      "provenance": [],
      "collapsed_sections": []
    },
    "kernelspec": {
      "name": "python3",
      "display_name": "Python 3"
    },
    "language_info": {
      "name": "python"
    },
    "accelerator": "GPU"
  },
  "cells": [
    {
      "cell_type": "markdown",
      "source": [
        "#**Open AI Gym Toolkit**"
      ],
      "metadata": {
        "id": "-4vKoSo3FQZh"
      }
    },
    {
      "cell_type": "code",
      "source": [
        "import sys\n",
        "colab_active = 'google.colab' in sys.modules\n",
        "print(\"Colab Active: \", colab_active)"
      ],
      "metadata": {
        "colab": {
          "base_uri": "https://localhost:8080/"
        },
        "id": "BgFXpdYwuuxB",
        "outputId": "8f7a7ee7-c485-4a04-b2da-5f5c04e2dfd1"
      },
      "execution_count": null,
      "outputs": [
        {
          "output_type": "stream",
          "name": "stdout",
          "text": [
            "Colab Active:  True\n"
          ]
        }
      ]
    },
    {
      "cell_type": "markdown",
      "source": [
        "#**Gym Update**"
      ],
      "metadata": {
        "id": "givjNQTEFdNP"
      }
    },
    {
      "cell_type": "code",
      "source": [
        "import os\n",
        "os.system(\"pip install gym==0.17.3\")\n",
        "if colab_active is True: \n",
        "  os.system(\"apt-get install python-opengl -y\")\n",
        "  os.system(\"apt install xvfb -y\")\n",
        "  os.system(\"pip install pyvirtualdisplay\")\n",
        "  os.system(\"pip install piglet\")"
      ],
      "metadata": {
        "id": "bp_0jbT0vZL5"
      },
      "execution_count": null,
      "outputs": []
    },
    {
      "cell_type": "markdown",
      "source": [
        "#**All Imports**"
      ],
      "metadata": {
        "id": "EaIaKoFSvo4z"
      }
    },
    {
      "cell_type": "code",
      "execution_count": null,
      "metadata": {
        "id": "7Y381kmZEfdY"
      },
      "outputs": [],
      "source": [
        "import gym\n",
        "\n",
        "if colab_active is True: \n",
        "  from pyvirtualdisplay import Display\n",
        "  Display().start()\n",
        "\n",
        "  from IPython import display\n",
        "  import matplotlib.pyplot as plt\n",
        "  %matplotlib inline"
      ]
    },
    {
      "cell_type": "markdown",
      "source": [
        "#**All Globals**"
      ],
      "metadata": {
        "id": "gErFHFhkz3_L"
      }
    },
    {
      "cell_type": "code",
      "source": [
        "num_episodes = 10\n",
        "num_timesteps = 50\n",
        "verbose = True"
      ],
      "metadata": {
        "id": "jRjQopXCz6lS"
      },
      "execution_count": null,
      "outputs": []
    },
    {
      "cell_type": "markdown",
      "source": [
        "#**Initialization for Some Visual Environments like Cart Pole**"
      ],
      "metadata": {
        "id": "TMlwve31svkz"
      }
    },
    {
      "cell_type": "code",
      "source": [
        "gym.__version__"
      ],
      "metadata": {
        "colab": {
          "base_uri": "https://localhost:8080/",
          "height": 36
        },
        "id": "dVTb7UnDFM22",
        "outputId": "ca398ec2-b9a0-45ea-ed4c-b80ec578111c"
      },
      "execution_count": null,
      "outputs": [
        {
          "output_type": "execute_result",
          "data": {
            "text/plain": [
              "'0.17.3'"
            ],
            "application/vnd.google.colaboratory.intrinsic+json": {
              "type": "string"
            }
          },
          "metadata": {},
          "execution_count": 5
        }
      ]
    },
    {
      "cell_type": "markdown",
      "source": [
        "#**Frozen Lake Environment**"
      ],
      "metadata": {
        "id": "gMqfOfoLc3Vs"
      }
    },
    {
      "cell_type": "markdown",
      "source": [
        "#**Environment Creation**"
      ],
      "metadata": {
        "id": "ZoER92QrLcg2"
      }
    },
    {
      "cell_type": "markdown",
      "source": [
        "We can recall and create the desired gym environment by the **make** function"
      ],
      "metadata": {
        "id": "nZwCNoF5LhZ3"
      }
    },
    {
      "cell_type": "markdown",
      "source": [
        "In the frozen lake environment, the goal of the agent is to start from the initial state **S** and achieve the goal state **G**. **S** denotes the starting state, **F** denotes the frozen state, **H** denotes the hole state and **G** denotes the goal state. "
      ],
      "metadata": {
        "id": "kazNtEDcXXwA"
      }
    },
    {
      "cell_type": "markdown",
      "source": [
        "![image.png](data:image/png;base64,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)"
      ],
      "metadata": {
        "id": "Hkc5JMFtX3ov"
      }
    },
    {
      "cell_type": "markdown",
      "source": [
        "![image.png](data:image/png;base64,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)"
      ],
      "metadata": {
        "id": "ub9SqHcDYc_v"
      }
    },
    {
      "cell_type": "code",
      "source": [
        "env = gym.make(\"FrozenLake-v0\")"
      ],
      "metadata": {
        "id": "hBeU4AAfLPRN"
      },
      "execution_count": null,
      "outputs": []
    },
    {
      "cell_type": "markdown",
      "source": [
        "#**Environment Rendering**"
      ],
      "metadata": {
        "id": "l1fqoWtYPGno"
      }
    },
    {
      "cell_type": "markdown",
      "source": [
        "After the environment creation we need to depict it by the  render function:"
      ],
      "metadata": {
        "id": "2wSM37RZO9bS"
      }
    },
    {
      "cell_type": "code",
      "source": [
        "env.render()"
      ],
      "metadata": {
        "colab": {
          "base_uri": "https://localhost:8080/"
        },
        "id": "LAxlyzgRO6mJ",
        "outputId": "601c069f-550d-44ba-cb96-23518689a116"
      },
      "execution_count": null,
      "outputs": [
        {
          "output_type": "stream",
          "name": "stdout",
          "text": [
            "\n",
            "\u001b[41mS\u001b[0mFFF\n",
            "FHFH\n",
            "FFFH\n",
            "HFFG\n"
          ]
        }
      ]
    },
    {
      "cell_type": "markdown",
      "source": [
        "#**State Space**"
      ],
      "metadata": {
        "id": "mTyztC_bTCyX"
      }
    },
    {
      "cell_type": "markdown",
      "source": [
        "A state space consists of all of our states. We can obtain the number of states in our environment by just typing ***env.observation_space***"
      ],
      "metadata": {
        "id": "C2qyqDhsYtFG"
      }
    },
    {
      "cell_type": "code",
      "source": [
        "print(env.observation_space)"
      ],
      "metadata": {
        "colab": {
          "base_uri": "https://localhost:8080/"
        },
        "id": "VN0ibdclTFCm",
        "outputId": "65da322e-0333-4483-eab8-87817637ec28"
      },
      "execution_count": null,
      "outputs": [
        {
          "output_type": "stream",
          "name": "stdout",
          "text": [
            "Discrete(16)\n"
          ]
        }
      ]
    },
    {
      "cell_type": "markdown",
      "source": [
        "#**Action Space**"
      ],
      "metadata": {
        "id": "sJZve_qHTROf"
      }
    },
    {
      "cell_type": "code",
      "source": [
        "print(env.action_space)"
      ],
      "metadata": {
        "colab": {
          "base_uri": "https://localhost:8080/"
        },
        "id": "xggD-Jm5TTzf",
        "outputId": "0faafc00-d772-4b66-cc2f-bfadd2ebb3e8"
      },
      "execution_count": null,
      "outputs": [
        {
          "output_type": "stream",
          "name": "stdout",
          "text": [
            "Discrete(4)\n"
          ]
        }
      ]
    },
    {
      "cell_type": "markdown",
      "source": [
        "#**Transition Probabilities**"
      ],
      "metadata": {
        "id": "OZT5-GP-cjUB"
      }
    },
    {
      "cell_type": "code",
      "source": [
        "print(env.P[0][2])"
      ],
      "metadata": {
        "colab": {
          "base_uri": "https://localhost:8080/"
        },
        "id": "QRU-OnG5cWwN",
        "outputId": "d58e2516-f458-4485-abaf-62e53b67025d"
      },
      "execution_count": null,
      "outputs": [
        {
          "output_type": "stream",
          "name": "stdout",
          "text": [
            "[(0.3333333333333333, 4, 0.0, False), (0.3333333333333333, 1, 0.0, False), (0.3333333333333333, 0, 0.0, False)]\n"
          ]
        }
      ]
    },
    {
      "cell_type": "code",
      "source": [
        "print(env.P[3][1])"
      ],
      "metadata": {
        "colab": {
          "base_uri": "https://localhost:8080/"
        },
        "id": "PkWg_F2ScYYT",
        "outputId": "6889e896-ac84-4e2d-9688-5b101f72273e"
      },
      "execution_count": null,
      "outputs": [
        {
          "output_type": "stream",
          "name": "stdout",
          "text": [
            "[(0.3333333333333333, 2, 0.0, False), (0.3333333333333333, 7, 0.0, True), (0.3333333333333333, 3, 0.0, False)]\n"
          ]
        }
      ]
    },
    {
      "cell_type": "markdown",
      "source": [
        "#**Rendering Environment Closing**"
      ],
      "metadata": {
        "id": "GS_oXKI2lalN"
      }
    },
    {
      "cell_type": "code",
      "source": [
        "env.close()"
      ],
      "metadata": {
        "id": "YDPtCW2klalQ"
      },
      "execution_count": null,
      "outputs": []
    },
    {
      "cell_type": "markdown",
      "source": [
        "#**Cart Pole Environment**"
      ],
      "metadata": {
        "id": "oUCA7xDjc9up"
      }
    },
    {
      "cell_type": "code",
      "source": [
        "env = gym.make(\"CartPole-v0\")"
      ],
      "metadata": {
        "id": "d0x1qE_UdD4F"
      },
      "execution_count": null,
      "outputs": []
    },
    {
      "cell_type": "markdown",
      "source": [
        "#**Environment Rendering**"
      ],
      "metadata": {
        "id": "_NX39THadeUC"
      }
    },
    {
      "cell_type": "markdown",
      "source": [
        "Since Colab cannot display Graphic Environments we adopt a trick, we make use of Matplotlib to display the environment in it"
      ],
      "metadata": {
        "id": "iPaLNkwL1RzE"
      }
    },
    {
      "cell_type": "code",
      "source": [
        "env.reset()\n",
        "if colab_active is True: \n",
        "  img = plt.imshow(env.render('rgb_array')) \n",
        "else: \n",
        "  env.render()"
      ],
      "metadata": {
        "colab": {
          "base_uri": "https://localhost:8080/",
          "height": 269
        },
        "id": "CcCGa8LodwEr",
        "outputId": "e8176c6e-2bb9-4a03-adeb-2617c49c4247"
      },
      "execution_count": null,
      "outputs": [
        {
          "output_type": "display_data",
          "data": {
            "text/plain": [
              "<Figure size 432x288 with 1 Axes>"
            ],
            "image/png": "[encoded data removed]"
          },
          "metadata": {
            "needs_background": "light"
          }
        }
      ]
    },
    {
      "cell_type": "code",
      "source": [
        "print(env.observation_space)"
      ],
      "metadata": {
        "colab": {
          "base_uri": "https://localhost:8080/"
        },
        "id": "bnFoef3OxeKx",
        "outputId": "e621d5d0-9462-46bb-bdcc-912e0f08117c"
      },
      "execution_count": null,
      "outputs": [
        {
          "output_type": "stream",
          "name": "stdout",
          "text": [
            "Box(-3.4028234663852886e+38, 3.4028234663852886e+38, (4,), float32)\n"
          ]
        }
      ]
    },
    {
      "cell_type": "code",
      "source": [
        "print(env.observation_space.high)"
      ],
      "metadata": {
        "colab": {
          "base_uri": "https://localhost:8080/"
        },
        "id": "I2ZrBMIpxoAx",
        "outputId": "0c5dcc57-127f-41ea-946f-94b18bd27c54"
      },
      "execution_count": null,
      "outputs": [
        {
          "output_type": "stream",
          "name": "stdout",
          "text": [
            "[4.8000002e+00 3.4028235e+38 4.1887903e-01 3.4028235e+38]\n"
          ]
        }
      ]
    },
    {
      "cell_type": "code",
      "source": [
        "print(env.observation_space.low)"
      ],
      "metadata": {
        "colab": {
          "base_uri": "https://localhost:8080/"
        },
        "id": "F-yyX49lxriL",
        "outputId": "9acdf891-3d9c-4afb-ca16-18f856e579ad"
      },
      "execution_count": null,
      "outputs": [
        {
          "output_type": "stream",
          "name": "stdout",
          "text": [
            "[-4.8000002e+00 -3.4028235e+38 -4.1887903e-01 -3.4028235e+38]\n"
          ]
        }
      ]
    },
    {
      "cell_type": "code",
      "source": [
        "print(env.action_space)"
      ],
      "metadata": {
        "colab": {
          "base_uri": "https://localhost:8080/"
        },
        "id": "qmZrUVkjx3Fc",
        "outputId": "0e83f032-a491-4ab3-9bdb-c0bcbe1a6970"
      },
      "execution_count": null,
      "outputs": [
        {
          "output_type": "stream",
          "name": "stdout",
          "text": [
            "Discrete(2)\n"
          ]
        }
      ]
    },
    {
      "cell_type": "markdown",
      "source": [
        "#**Cart Pole Balancing with Random Policy**"
      ],
      "metadata": {
        "id": "g4rWj3TyyNdL"
      }
    },
    {
      "cell_type": "markdown",
      "source": [
        "The **agent** that selects a **random** action in the environment and tries to balance the pole. The agent receives +1 reward every time the pole stands straight up on the cart. We will generate over 100 episodes and we will see the return (sum of rewards) obtained over each episode. "
      ],
      "metadata": {
        "id": "s-hPi8R21PZ7"
      }
    },
    {
      "cell_type": "markdown",
      "source": [
        "The algorithm is made of the following steps: \n",
        "\n",
        "Set the **return** to 0. Initialize the state by resetting the environment for each step in the episode. Then, randomly select an action by sampling from the actions space of the **environment**. Perform the randomly selected **action** and update the return. If the next state is a **terminal** state then end the episode for every 10 episodes, print the return (sum of rewards)."
      ],
      "metadata": {
        "id": "8_ZTy7Xo1vVy"
      }
    },
    {
      "cell_type": "code",
      "source": [
        "returns = []\n",
        "for i in range(num_episodes):\n",
        "  Return = 0\n",
        "  state = env.reset()\n",
        "  if colab_active is True: \n",
        "    img = plt.imshow(env.render('rgb_array')) # only call this once\n",
        "  for t in range(num_timesteps):\n",
        "    if colab_active is True: \n",
        "      img.set_data(env.render('rgb_array')) \n",
        "      display.display(plt.gcf())\n",
        "      display.clear_output(wait=True)\n",
        "    else: \n",
        "      env.render()\n",
        "\n",
        "    random_action = env.action_space.sample()\n",
        "    next_state, reward, done, info = env.step(random_action)\n",
        "    if verbose is True: \n",
        "      print(next_state, reward, done, info)\n",
        "\n",
        "    Return = Return + reward\n",
        "\n",
        "    returns.append(Return)"
      ],
      "metadata": {
        "colab": {
          "base_uri": "https://localhost:8080/",
          "height": 286
        },
        "id": "x9W671bYyJXF",
        "outputId": "11ffafc4-e26a-462a-8450-386a48e969b5"
      },
      "execution_count": null,
      "outputs": [
        {
          "output_type": "stream",
          "name": "stdout",
          "text": [
            "[-0.09423113  0.80500473 -0.76576081 -3.81067604] 0.0 True {}\n"
          ]
        },
        {
          "output_type": "display_data",
          "data": {
            "text/plain": [
              "<Figure size 432x288 with 1 Axes>"
            ],
            "image/png": "[encoded data removed]"
          },
          "metadata": {
            "needs_background": "light"
          }
        }
      ]
    },
    {
      "cell_type": "code",
      "source": [
        "print(\"Rewards: \")\n",
        "print(returns)"
      ],
      "metadata": {
        "id": "1uYfPCRv4lfk",
        "colab": {
          "base_uri": "https://localhost:8080/"
        },
        "outputId": "65251381-18a0-4dd2-d208-37d1d8892c1a"
      },
      "execution_count": null,
      "outputs": [
        {
          "output_type": "stream",
          "name": "stdout",
          "text": [
            "Rewards: \n",
            "[1.0, 2.0, 3.0, 4.0, 5.0, 6.0, 7.0, 8.0, 9.0, 10.0, 11.0, 12.0, 13.0, 14.0, 15.0, 16.0, 17.0, 18.0, 19.0, 20.0, 21.0, 22.0, 23.0, 24.0, 24.0, 24.0, 24.0, 24.0, 24.0, 24.0, 24.0, 24.0, 24.0, 24.0, 24.0, 24.0, 24.0, 24.0, 24.0, 24.0, 24.0, 24.0, 24.0, 24.0, 24.0, 24.0, 24.0, 24.0, 24.0, 24.0, 1.0, 2.0, 3.0, 4.0, 5.0, 6.0, 7.0, 8.0, 9.0, 10.0, 11.0, 12.0, 13.0, 14.0, 15.0, 16.0, 17.0, 18.0, 19.0, 20.0, 20.0, 20.0, 20.0, 20.0, 20.0, 20.0, 20.0, 20.0, 20.0, 20.0, 20.0, 20.0, 20.0, 20.0, 20.0, 20.0, 20.0, 20.0, 20.0, 20.0, 20.0, 20.0, 20.0, 20.0, 20.0, 20.0, 20.0, 20.0, 20.0, 20.0, 1.0, 2.0, 3.0, 4.0, 5.0, 6.0, 7.0, 8.0, 9.0, 10.0, 10.0, 10.0, 10.0, 10.0, 10.0, 10.0, 10.0, 10.0, 10.0, 10.0, 10.0, 10.0, 10.0, 10.0, 10.0, 10.0, 10.0, 10.0, 10.0, 10.0, 10.0, 10.0, 10.0, 10.0, 10.0, 10.0, 10.0, 10.0, 10.0, 10.0, 10.0, 10.0, 10.0, 10.0, 10.0, 10.0, 10.0, 10.0, 10.0, 10.0, 1.0, 2.0, 3.0, 4.0, 5.0, 6.0, 7.0, 8.0, 9.0, 10.0, 11.0, 12.0, 13.0, 14.0, 15.0, 16.0, 16.0, 16.0, 16.0, 16.0, 16.0, 16.0, 16.0, 16.0, 16.0, 16.0, 16.0, 16.0, 16.0, 16.0, 16.0, 16.0, 16.0, 16.0, 16.0, 16.0, 16.0, 16.0, 16.0, 16.0, 16.0, 16.0, 16.0, 16.0, 16.0, 16.0, 16.0, 16.0, 16.0, 16.0, 1.0, 2.0, 3.0, 4.0, 5.0, 6.0, 7.0, 8.0, 9.0, 10.0, 11.0, 12.0, 13.0, 14.0, 15.0, 16.0, 17.0, 18.0, 19.0, 20.0, 21.0, 22.0, 23.0, 23.0, 23.0, 23.0, 23.0, 23.0, 23.0, 23.0, 23.0, 23.0, 23.0, 23.0, 23.0, 23.0, 23.0, 23.0, 23.0, 23.0, 23.0, 23.0, 23.0, 23.0, 23.0, 23.0, 23.0, 23.0, 23.0, 23.0, 1.0, 2.0, 3.0, 4.0, 5.0, 6.0, 7.0, 8.0, 9.0, 10.0, 11.0, 12.0, 13.0, 14.0, 15.0, 15.0, 15.0, 15.0, 15.0, 15.0, 15.0, 15.0, 15.0, 15.0, 15.0, 15.0, 15.0, 15.0, 15.0, 15.0, 15.0, 15.0, 15.0, 15.0, 15.0, 15.0, 15.0, 15.0, 15.0, 15.0, 15.0, 15.0, 15.0, 15.0, 15.0, 15.0, 15.0, 15.0, 15.0, 15.0, 1.0, 2.0, 3.0, 4.0, 5.0, 6.0, 7.0, 8.0, 9.0, 10.0, 11.0, 12.0, 12.0, 12.0, 12.0, 12.0, 12.0, 12.0, 12.0, 12.0, 12.0, 12.0, 12.0, 12.0, 12.0, 12.0, 12.0, 12.0, 12.0, 12.0, 12.0, 12.0, 12.0, 12.0, 12.0, 12.0, 12.0, 12.0, 12.0, 12.0, 12.0, 12.0, 12.0, 12.0, 12.0, 12.0, 12.0, 12.0, 12.0, 12.0, 1.0, 2.0, 3.0, 4.0, 5.0, 6.0, 7.0, 8.0, 9.0, 10.0, 11.0, 12.0, 13.0, 14.0, 15.0, 16.0, 17.0, 18.0, 19.0, 20.0, 21.0, 22.0, 22.0, 22.0, 22.0, 22.0, 22.0, 22.0, 22.0, 22.0, 22.0, 22.0, 22.0, 22.0, 22.0, 22.0, 22.0, 22.0, 22.0, 22.0, 22.0, 22.0, 22.0, 22.0, 22.0, 22.0, 22.0, 22.0, 22.0, 22.0, 1.0, 2.0, 3.0, 4.0, 5.0, 6.0, 7.0, 8.0, 9.0, 10.0, 11.0, 12.0, 13.0, 14.0, 15.0, 16.0, 17.0, 18.0, 19.0, 19.0, 19.0, 19.0, 19.0, 19.0, 19.0, 19.0, 19.0, 19.0, 19.0, 19.0, 19.0, 19.0, 19.0, 19.0, 19.0, 19.0, 19.0, 19.0, 19.0, 19.0, 19.0, 19.0, 19.0, 19.0, 19.0, 19.0, 19.0, 19.0, 19.0, 19.0, 1.0, 2.0, 3.0, 4.0, 5.0, 6.0, 7.0, 8.0, 9.0, 10.0, 11.0, 12.0, 13.0, 14.0, 15.0, 16.0, 17.0, 18.0, 19.0, 20.0, 21.0, 22.0, 23.0, 24.0, 25.0, 26.0, 27.0, 28.0, 29.0, 30.0, 31.0, 32.0, 33.0, 34.0, 34.0, 34.0, 34.0, 34.0, 34.0, 34.0, 34.0, 34.0, 34.0, 34.0, 34.0, 34.0, 34.0, 34.0, 34.0, 34.0]\n"
          ]
        }
      ]
    },
    {
      "cell_type": "markdown",
      "source": [
        "#**Rendering Environment Closing**"
      ],
      "metadata": {
        "id": "kVZwcth4lG0I"
      }
    },
    {
      "cell_type": "code",
      "source": [
        "env.close()"
      ],
      "metadata": {
        "id": "SzKqwz0nlAOK"
      },
      "execution_count": null,
      "outputs": []
    },
    {
      "cell_type": "markdown",
      "source": [
        "#**Homeworks**"
      ],
      "metadata": {
        "id": "FBZvWveTaXLs"
      }
    },
    {
      "cell_type": "markdown",
      "source": [
        "1) Try to import other Gym environments and render them, inspect action and state spaces and other env features. You can try to use the following code to list all the available gym envs: "
      ],
      "metadata": {
        "id": "wFylkpG3aZ69"
      }
    },
    {
      "cell_type": "code",
      "source": [
        "for i in gym.envs.registry.all():\n",
        "  print(i.id)"
      ],
      "metadata": {
        "id": "N0XmhEYDawZ2"
      },
      "execution_count": null,
      "outputs": []
    },
    {
      "cell_type": "code",
      "source": [
        ""
      ],
      "metadata": {
        "id": "sSYV4amhaZWk"
      },
      "execution_count": null,
      "outputs": []
    }
  ]
}