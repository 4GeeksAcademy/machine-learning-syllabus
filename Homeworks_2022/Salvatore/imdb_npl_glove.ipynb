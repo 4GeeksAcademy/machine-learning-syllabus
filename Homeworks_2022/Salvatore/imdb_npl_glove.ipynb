{
  "nbformat": 4,
  "nbformat_minor": 0,
  "metadata": {
    "colab": {
      "name": "imdb-npl-glove.ipynb",
      "provenance": [],
      "collapsed_sections": []
    },
    "kernelspec": {
      "name": "python3",
      "display_name": "Python 3"
    },
    "language_info": {
      "name": "python"
    },
    "accelerator": "GPU"
  },
  "cells": [
    {
      "cell_type": "code",
      "source": [
        "batch_size = 32"
      ],
      "metadata": {
        "id": "l7XgcwBvolnc"
      },
      "execution_count": null,
      "outputs": []
    },
    {
      "cell_type": "code",
      "source": [
        "!wget http://nlp.stanford.edu/data/glove.6B.zip\n",
        "!unzip -q glove.6B.zip"
      ],
      "metadata": {
        "colab": {
          "base_uri": "https://localhost:8080/"
        },
        "id": "-ATyuood3MuG",
        "outputId": "491a7881-608c-4617-8e4d-3dfe9b7b10fa"
      },
      "execution_count": null,
      "outputs": [
        {
          "output_type": "stream",
          "name": "stdout",
          "text": [
            "--2022-04-12 22:20:10--  http://nlp.stanford.edu/data/glove.6B.zip\n",
            "Resolving nlp.stanford.edu (nlp.stanford.edu)... 171.64.67.140\n",
            "Connecting to nlp.stanford.edu (nlp.stanford.edu)|171.64.67.140|:80... connected.\n",
            "HTTP request sent, awaiting response... 302 Found\n",
            "Location: https://nlp.stanford.edu/data/glove.6B.zip [following]\n",
            "--2022-04-12 22:20:10--  https://nlp.stanford.edu/data/glove.6B.zip\n",
            "Connecting to nlp.stanford.edu (nlp.stanford.edu)|171.64.67.140|:443... connected.\n",
            "HTTP request sent, awaiting response... 301 Moved Permanently\n",
            "Location: http://downloads.cs.stanford.edu/nlp/data/glove.6B.zip [following]\n",
            "--2022-04-12 22:20:10--  http://downloads.cs.stanford.edu/nlp/data/glove.6B.zip\n",
            "Resolving downloads.cs.stanford.edu (downloads.cs.stanford.edu)... 171.64.64.22\n",
            "Connecting to downloads.cs.stanford.edu (downloads.cs.stanford.edu)|171.64.64.22|:80... connected.\n",
            "HTTP request sent, awaiting response... 200 OK\n",
            "Length: 862182613 (822M) [application/zip]\n",
            "Saving to: ‘glove.6B.zip’\n",
            "\n",
            "glove.6B.zip        100%[===================>] 822.24M  5.06MB/s    in 2m 40s  \n",
            "\n",
            "2022-04-12 22:22:51 (5.12 MB/s) - ‘glove.6B.zip’ saved [862182613/862182613]\n",
            "\n"
          ]
        }
      ]
    },
    {
      "cell_type": "code",
      "execution_count": null,
      "metadata": {
        "colab": {
          "base_uri": "https://localhost:8080/"
        },
        "id": "vMKi6W8S-qV0",
        "outputId": "15a81e20-64ea-4f9e-e153-39c7399bc004"
      },
      "outputs": [
        {
          "output_type": "stream",
          "name": "stdout",
          "text": [
            "  % Total    % Received % Xferd  Average Speed   Time    Time     Time  Current\n",
            "                                 Dload  Upload   Total   Spent    Left  Speed\n",
            "100 80.2M  100 80.2M    0     0  19.8M      0  0:00:04  0:00:04 --:--:-- 19.8M\n"
          ]
        }
      ],
      "source": [
        "!curl -O https://ai.stanford.edu/~amaas/data/sentiment/aclImdb_v1.tar.gz\n",
        "!tar -xf aclImdb_v1.tar.gz"
      ]
    },
    {
      "cell_type": "code",
      "source": [
        "!cat aclImdb/train/pos/0_9.txt"
      ],
      "metadata": {
        "colab": {
          "base_uri": "https://localhost:8080/"
        },
        "id": "K4Z2LTjf-yyC",
        "outputId": "52394cec-5b72-4d41-f15e-a492fd687244"
      },
      "execution_count": null,
      "outputs": [
        {
          "output_type": "stream",
          "name": "stdout",
          "text": [
            "Bromwell High is a cartoon comedy. It ran at the same time as some other programs about school life, such as \"Teachers\". My 35 years in the teaching profession lead me to believe that Bromwell High's satire is much closer to reality than is \"Teachers\". The scramble to survive financially, the insightful students who can see right through their pathetic teachers' pomp, the pettiness of the whole situation, all remind me of the schools I knew and their students. When I saw the episode in which a student repeatedly tried to burn down the school, I immediately recalled ......... at .......... High. A classic line: INSPECTOR: I'm here to sack one of your teachers. STUDENT: Welcome to Bromwell High. I expect that many adults of my age think that Bromwell High is far fetched. What a pity that it isn't!"
          ]
        }
      ]
    },
    {
      "cell_type": "code",
      "source": [
        "!rm -r aclImdb/train/unsup"
      ],
      "metadata": {
        "id": "rH7ap3JZ_PKM"
      },
      "execution_count": null,
      "outputs": []
    },
    {
      "cell_type": "code",
      "source": [
        "import tensorflow as tf\n",
        "\n",
        "raw_train_ds = tf.keras.preprocessing.text_dataset_from_directory(\n",
        "    \"aclImdb/train\",\n",
        "    batch_size=batch_size,\n",
        "    validation_split=0.2,\n",
        "    subset=\"training\",\n",
        "    seed=1337,\n",
        ")\n",
        "raw_val_ds = tf.keras.preprocessing.text_dataset_from_directory(\n",
        "    \"aclImdb/train\",\n",
        "    batch_size=batch_size,\n",
        "    validation_split=0.2,\n",
        "    subset=\"validation\",\n",
        "    seed=1337,\n",
        ")\n",
        "raw_test_ds = tf.keras.preprocessing.text_dataset_from_directory(\n",
        "    \"aclImdb/test\", batch_size=batch_size\n",
        ")\n"
      ],
      "metadata": {
        "colab": {
          "base_uri": "https://localhost:8080/"
        },
        "id": "JlPNZS-W_jUE",
        "outputId": "5c940a80-53f8-4e5e-fd40-26d539793ceb"
      },
      "execution_count": null,
      "outputs": [
        {
          "output_type": "stream",
          "name": "stdout",
          "text": [
            "Found 25000 files belonging to 2 classes.\n",
            "Using 20000 files for training.\n",
            "Found 25000 files belonging to 2 classes.\n",
            "Using 5000 files for validation.\n",
            "Found 25000 files belonging to 2 classes.\n"
          ]
        }
      ]
    },
    {
      "cell_type": "code",
      "source": [
        "print(f\"Number of batches in raw_train_ds: {raw_train_ds.cardinality()}\")\n",
        "print(f\"Number of batches in raw_val_ds: {raw_val_ds.cardinality()}\")\n",
        "print(f\"Number of batches in raw_test_ds: {raw_test_ds.cardinality()}\")"
      ],
      "metadata": {
        "colab": {
          "base_uri": "https://localhost:8080/"
        },
        "id": "toj5n8Ov_6yR",
        "outputId": "cee968de-6038-4065-cfc4-09f0d975115e"
      },
      "execution_count": null,
      "outputs": [
        {
          "output_type": "stream",
          "name": "stdout",
          "text": [
            "Number of batches in raw_train_ds: 625\n",
            "Number of batches in raw_val_ds: 157\n",
            "Number of batches in raw_test_ds: 782\n"
          ]
        }
      ]
    },
    {
      "cell_type": "code",
      "source": [
        "raw_train_ds.cardinality().numpy()\n",
        "# len(list(raw_train_ds))"
      ],
      "metadata": {
        "colab": {
          "base_uri": "https://localhost:8080/"
        },
        "id": "Hyd_yK1_As3O",
        "outputId": "bffb1311-60dd-4bd6-9cde-e558e91a4798"
      },
      "execution_count": null,
      "outputs": [
        {
          "output_type": "execute_result",
          "data": {
            "text/plain": [
              "625"
            ]
          },
          "metadata": {},
          "execution_count": 7
        }
      ]
    },
    {
      "cell_type": "code",
      "source": [
        "txt1 = ''\n",
        "lbl1 = ''\n",
        "for text_batch, label_batch in raw_train_ds.take(1):\n",
        "    for i in range(1):\n",
        "        txt1 = text_batch.numpy()[i]\n",
        "        lbl1 = label_batch.numpy()[i]\n",
        "\n",
        "print(txt1)\n",
        "print(lbl1)"
      ],
      "metadata": {
        "colab": {
          "base_uri": "https://localhost:8080/"
        },
        "id": "OL3VwrhYBHvb",
        "outputId": "2e9a1d01-5111-4d60-e87c-ce95392122af"
      },
      "execution_count": null,
      "outputs": [
        {
          "output_type": "stream",
          "name": "stdout",
          "text": [
            "b'I\\'ve seen tons of science fiction from the 70s; some horrendously bad, and others thought provoking and truly frightening. Soylent Green fits into the latter category. Yes, at times it\\'s a little campy, and yes, the furniture is good for a giggle or two, but some of the film seems awfully prescient. Here we have a film, 9 years before Blade Runner, that dares to imagine the future as somthing dark, scary, and nihilistic. Both Charlton Heston and Edward G. Robinson fare far better in this than The Ten Commandments, and Robinson\\'s assisted-suicide scene is creepily prescient of Kevorkian and his ilk. Some of the attitudes are dated (can you imagine a filmmaker getting away with the \"women as furniture\" concept in our oh-so-politically-correct-90s?), but it\\'s rare to find a film from the Me Decade that actually can make you think. This is one I\\'d love to see on the big screen, because even in a widescreen presentation, I don\\'t think the overall scope of this film would receive its due. Check it out.'\n",
            "1\n"
          ]
        }
      ]
    },
    {
      "cell_type": "code",
      "source": [
        "import re\n",
        "import string\n",
        "def basic_standardization(input_data):\n",
        "    lowercase = tf.strings.lower(input_data)\n",
        "    stripped_html = tf.strings.regex_replace(lowercase, \"<br />\", \" \")\n",
        "    return tf.strings.regex_replace(\n",
        "        stripped_html, f\"[{re.escape(string.punctuation)}]\", \"\"\n",
        "    )\n",
        "\n",
        "x = basic_standardization(txt1)\n",
        "\n",
        "print(string.punctuation)\n",
        "print(re.escape(string.punctuation))\n",
        "print(txt1)\n",
        "print(x.numpy())\n",
        "       "
      ],
      "metadata": {
        "colab": {
          "base_uri": "https://localhost:8080/"
        },
        "id": "-WHtWyE2C3oZ",
        "outputId": "14ba0ee7-73d8-4330-b5aa-69daf987d35f"
      },
      "execution_count": null,
      "outputs": [
        {
          "output_type": "stream",
          "name": "stdout",
          "text": [
            "!\"#$%&'()*+,-./:;<=>?@[\\]^_`{|}~\n",
            "!\"\\#\\$%\\&'\\(\\)\\*\\+,\\-\\./:;<=>\\?@\\[\\\\\\]\\^_`\\{\\|\\}\\~\n",
            "b'I\\'ve seen tons of science fiction from the 70s; some horrendously bad, and others thought provoking and truly frightening. Soylent Green fits into the latter category. Yes, at times it\\'s a little campy, and yes, the furniture is good for a giggle or two, but some of the film seems awfully prescient. Here we have a film, 9 years before Blade Runner, that dares to imagine the future as somthing dark, scary, and nihilistic. Both Charlton Heston and Edward G. Robinson fare far better in this than The Ten Commandments, and Robinson\\'s assisted-suicide scene is creepily prescient of Kevorkian and his ilk. Some of the attitudes are dated (can you imagine a filmmaker getting away with the \"women as furniture\" concept in our oh-so-politically-correct-90s?), but it\\'s rare to find a film from the Me Decade that actually can make you think. This is one I\\'d love to see on the big screen, because even in a widescreen presentation, I don\\'t think the overall scope of this film would receive its due. Check it out.'\n",
            "b'ive seen tons of science fiction from the 70s some horrendously bad and others thought provoking and truly frightening soylent green fits into the latter category yes at times its a little campy and yes the furniture is good for a giggle or two but some of the film seems awfully prescient here we have a film 9 years before blade runner that dares to imagine the future as somthing dark scary and nihilistic both charlton heston and edward g robinson fare far better in this than the ten commandments and robinsons assistedsuicide scene is creepily prescient of kevorkian and his ilk some of the attitudes are dated can you imagine a filmmaker getting away with the women as furniture concept in our ohsopoliticallycorrect90s but its rare to find a film from the me decade that actually can make you think this is one id love to see on the big screen because even in a widescreen presentation i dont think the overall scope of this film would receive its due check it out'\n"
          ]
        }
      ]
    },
    {
      "cell_type": "code",
      "source": [
        "from tensorflow.keras.layers import TextVectorization\n",
        "\n",
        "max_features = 20000\n",
        "embedding_dim = 128\n",
        "sequence_length = 500\n",
        "\n",
        "vectorize_layer = TextVectorization(\n",
        "    standardize=basic_standardization,\n",
        "    max_tokens=max_features,\n",
        "    output_mode=\"int\",\n",
        "    output_sequence_length=sequence_length,\n",
        ")\n",
        "\n"
      ],
      "metadata": {
        "id": "f0w3_Zf1GRKr"
      },
      "execution_count": null,
      "outputs": []
    },
    {
      "cell_type": "code",
      "source": [
        "text_ds = raw_train_ds.map(lambda x, y: x)\n",
        "vectorize_layer.adapt(text_ds)\n"
      ],
      "metadata": {
        "id": "74aGGI5cHeDD"
      },
      "execution_count": null,
      "outputs": []
    },
    {
      "cell_type": "code",
      "source": [
        "path_to_glove_file =  \"./glove.6B.100d.txt\""
      ],
      "metadata": {
        "id": "ivuSwGh3335F"
      },
      "execution_count": null,
      "outputs": []
    },
    {
      "cell_type": "code",
      "source": [
        "vocabulary =vectorize_layer.get_vocabulary()\n",
        "print(len(vocabulary))\n",
        "print(vocabulary[0:10])\n"
      ],
      "metadata": {
        "colab": {
          "base_uri": "https://localhost:8080/"
        },
        "id": "GinfatYdKCFX",
        "outputId": "ecc4d94a-fa66-4dea-af03-920e5b4dce3d"
      },
      "execution_count": null,
      "outputs": [
        {
          "output_type": "stream",
          "name": "stdout",
          "text": [
            "20000\n",
            "['', '[UNK]', 'the', 'and', 'a', 'of', 'to', 'is', 'in', 'it']\n"
          ]
        }
      ]
    },
    {
      "cell_type": "code",
      "source": [
        "voc_test = vectorize_layer([\"the cat is on the table\"])\n",
        "print(voc_test.numpy()[0, :10])\n",
        "print(voc_test.numpy().shape)"
      ],
      "metadata": {
        "colab": {
          "base_uri": "https://localhost:8080/"
        },
        "id": "tyu07wr-wHHe",
        "outputId": "ce6384b0-9997-45c7-d62b-c0d2d294d353"
      },
      "execution_count": null,
      "outputs": [
        {
          "output_type": "stream",
          "name": "stdout",
          "text": [
            "[   2 1127    7   20    2 2972    0    0    0    0]\n",
            "(1, 500)\n"
          ]
        }
      ]
    },
    {
      "cell_type": "code",
      "source": [
        "import pathlib\n",
        "embeddings_index = {}\n",
        "with open(path_to_glove_file) as f:\n",
        "    for line in f:\n",
        "        word, coefs = line.split(maxsplit=1)\n",
        "        coefs = np.fromstring(coefs, \"f\", sep=\" \")\n",
        "        embeddings_index[word] = coefs\n",
        "\n",
        "print(\"Found %s word vectors.\" % len(embeddings_index))"
      ],
      "metadata": {
        "colab": {
          "base_uri": "https://localhost:8080/"
        },
        "id": "A2PkXXzh34m1",
        "outputId": "eedd2ddd-6559-44ce-c411-975c765ad43b"
      },
      "execution_count": null,
      "outputs": [
        {
          "output_type": "stream",
          "name": "stdout",
          "text": [
            "Found 400000 word vectors.\n"
          ]
        }
      ]
    },
    {
      "cell_type": "code",
      "source": [
        "word_index = dict(zip(vocabulary, range(len(vocabulary))))"
      ],
      "metadata": {
        "id": "OwY0KDZg0gri"
      },
      "execution_count": null,
      "outputs": []
    },
    {
      "cell_type": "code",
      "source": [
        "embeddings_index.get('hello')"
      ],
      "metadata": {
        "colab": {
          "base_uri": "https://localhost:8080/"
        },
        "id": "rS0aDdOwAOlh",
        "outputId": "d3406324-8b8c-42aa-82b5-254d1fcfe951"
      },
      "execution_count": 158,
      "outputs": [
        {
          "output_type": "execute_result",
          "data": {
            "text/plain": [
              "array([ 0.26688  ,  0.39632  ,  0.6169   , -0.77451  , -0.1039   ,\n",
              "        0.26697  ,  0.2788   ,  0.30992  ,  0.0054685, -0.085256 ,\n",
              "        0.73602  , -0.098432 ,  0.5479   , -0.030305 ,  0.33479  ,\n",
              "        0.14094  , -0.0070003,  0.32569  ,  0.22902  ,  0.46557  ,\n",
              "       -0.19531  ,  0.37491  , -0.7139   , -0.51775  ,  0.77039  ,\n",
              "        1.0881   , -0.66011  , -0.16234  ,  0.9119   ,  0.21046  ,\n",
              "        0.047494 ,  1.0019   ,  1.1133   ,  0.70094  , -0.08696  ,\n",
              "        0.47571  ,  0.1636   , -0.44469  ,  0.4469   , -0.93817  ,\n",
              "        0.013101 ,  0.085964 , -0.67456  ,  0.49662  , -0.037827 ,\n",
              "       -0.11038  , -0.28612  ,  0.074606 , -0.31527  , -0.093774 ,\n",
              "       -0.57069  ,  0.66865  ,  0.45307  , -0.34154  , -0.7166   ,\n",
              "       -0.75273  ,  0.075212 ,  0.57903  , -0.1191   , -0.11379  ,\n",
              "       -0.10026  ,  0.71341  , -1.1574   , -0.74026  ,  0.40452  ,\n",
              "        0.18023  ,  0.21449  ,  0.37638  ,  0.11239  , -0.53639  ,\n",
              "       -0.025092 ,  0.31886  , -0.25013  , -0.63283  , -0.011843 ,\n",
              "        1.377    ,  0.86013  ,  0.20476  , -0.36815  , -0.68874  ,\n",
              "        0.53512  , -0.46556  ,  0.27389  ,  0.4118   , -0.854    ,\n",
              "       -0.046288 ,  0.11304  , -0.27326  ,  0.15636  , -0.20334  ,\n",
              "        0.53586  ,  0.59784  ,  0.60469  ,  0.13735  ,  0.42232  ,\n",
              "       -0.61279  , -0.38486  ,  0.35842  , -0.48464  ,  0.30728  ],\n",
              "      dtype=float32)"
            ]
          },
          "metadata": {},
          "execution_count": 158
        }
      ]
    },
    {
      "cell_type": "code",
      "source": [
        "import pandas as pd\n",
        "\n",
        "df = pd.DataFrame(vocabulary)\n",
        "\n",
        "df = df.rename(columns={0:\"word\"})\n",
        "\n",
        "df.sample(5)\n"
      ],
      "metadata": {
        "colab": {
          "base_uri": "https://localhost:8080/",
          "height": 206
        },
        "id": "YOT7TApLK4MO",
        "outputId": "247c3208-d655-46d1-9233-5aa7673c8d3d"
      },
      "execution_count": null,
      "outputs": [
        {
          "output_type": "execute_result",
          "data": {
            "text/plain": [
              "              word\n",
              "4088      adorable\n",
              "3519       samurai\n",
              "12059     rockwell\n",
              "7002   contributed\n",
              "13178       harper"
            ],
            "text/html": [
              "\n",
              "  <div id=\"df-5fe9793f-f098-4fd0-9d9c-062504047a00\">\n",
              "    <div class=\"colab-df-container\">\n",
              "      <div>\n",
              "<style scoped>\n",
              "    .dataframe tbody tr th:only-of-type {\n",
              "        vertical-align: middle;\n",
              "    }\n",
              "\n",
              "    .dataframe tbody tr th {\n",
              "        vertical-align: top;\n",
              "    }\n",
              "\n",
              "    .dataframe thead th {\n",
              "        text-align: right;\n",
              "    }\n",
              "</style>\n",
              "<table border=\"1\" class=\"dataframe\">\n",
              "  <thead>\n",
              "    <tr style=\"text-align: right;\">\n",
              "      <th></th>\n",
              "      <th>word</th>\n",
              "    </tr>\n",
              "  </thead>\n",
              "  <tbody>\n",
              "    <tr>\n",
              "      <th>4088</th>\n",
              "      <td>adorable</td>\n",
              "    </tr>\n",
              "    <tr>\n",
              "      <th>3519</th>\n",
              "      <td>samurai</td>\n",
              "    </tr>\n",
              "    <tr>\n",
              "      <th>12059</th>\n",
              "      <td>rockwell</td>\n",
              "    </tr>\n",
              "    <tr>\n",
              "      <th>7002</th>\n",
              "      <td>contributed</td>\n",
              "    </tr>\n",
              "    <tr>\n",
              "      <th>13178</th>\n",
              "      <td>harper</td>\n",
              "    </tr>\n",
              "  </tbody>\n",
              "</table>\n",
              "</div>\n",
              "      <button class=\"colab-df-convert\" onclick=\"convertToInteractive('df-5fe9793f-f098-4fd0-9d9c-062504047a00')\"\n",
              "              title=\"Convert this dataframe to an interactive table.\"\n",
              "              style=\"display:none;\">\n",
              "        \n",
              "  <svg xmlns=\"http://www.w3.org/2000/svg\" height=\"24px\"viewBox=\"0 0 24 24\"\n",
              "       width=\"24px\">\n",
              "    <path d=\"M0 0h24v24H0V0z\" fill=\"none\"/>\n",
              "    <path d=\"M18.56 5.44l.94 2.06.94-2.06 2.06-.94-2.06-.94-.94-2.06-.94 2.06-2.06.94zm-11 1L8.5 8.5l.94-2.06 2.06-.94-2.06-.94L8.5 2.5l-.94 2.06-2.06.94zm10 10l.94 2.06.94-2.06 2.06-.94-2.06-.94-.94-2.06-.94 2.06-2.06.94z\"/><path d=\"M17.41 7.96l-1.37-1.37c-.4-.4-.92-.59-1.43-.59-.52 0-1.04.2-1.43.59L10.3 9.45l-7.72 7.72c-.78.78-.78 2.05 0 2.83L4 21.41c.39.39.9.59 1.41.59.51 0 1.02-.2 1.41-.59l7.78-7.78 2.81-2.81c.8-.78.8-2.07 0-2.86zM5.41 20L4 18.59l7.72-7.72 1.47 1.35L5.41 20z\"/>\n",
              "  </svg>\n",
              "      </button>\n",
              "      \n",
              "  <style>\n",
              "    .colab-df-container {\n",
              "      display:flex;\n",
              "      flex-wrap:wrap;\n",
              "      gap: 12px;\n",
              "    }\n",
              "\n",
              "    .colab-df-convert {\n",
              "      background-color: #E8F0FE;\n",
              "      border: none;\n",
              "      border-radius: 50%;\n",
              "      cursor: pointer;\n",
              "      display: none;\n",
              "      fill: #1967D2;\n",
              "      height: 32px;\n",
              "      padding: 0 0 0 0;\n",
              "      width: 32px;\n",
              "    }\n",
              "\n",
              "    .colab-df-convert:hover {\n",
              "      background-color: #E2EBFA;\n",
              "      box-shadow: 0px 1px 2px rgba(60, 64, 67, 0.3), 0px 1px 3px 1px rgba(60, 64, 67, 0.15);\n",
              "      fill: #174EA6;\n",
              "    }\n",
              "\n",
              "    [theme=dark] .colab-df-convert {\n",
              "      background-color: #3B4455;\n",
              "      fill: #D2E3FC;\n",
              "    }\n",
              "\n",
              "    [theme=dark] .colab-df-convert:hover {\n",
              "      background-color: #434B5C;\n",
              "      box-shadow: 0px 1px 3px 1px rgba(0, 0, 0, 0.15);\n",
              "      filter: drop-shadow(0px 1px 2px rgba(0, 0, 0, 0.3));\n",
              "      fill: #FFFFFF;\n",
              "    }\n",
              "  </style>\n",
              "\n",
              "      <script>\n",
              "        const buttonEl =\n",
              "          document.querySelector('#df-5fe9793f-f098-4fd0-9d9c-062504047a00 button.colab-df-convert');\n",
              "        buttonEl.style.display =\n",
              "          google.colab.kernel.accessAllowed ? 'block' : 'none';\n",
              "\n",
              "        async function convertToInteractive(key) {\n",
              "          const element = document.querySelector('#df-5fe9793f-f098-4fd0-9d9c-062504047a00');\n",
              "          const dataTable =\n",
              "            await google.colab.kernel.invokeFunction('convertToInteractive',\n",
              "                                                     [key], {});\n",
              "          if (!dataTable) return;\n",
              "\n",
              "          const docLinkHtml = 'Like what you see? Visit the ' +\n",
              "            '<a target=\"_blank\" href=https://colab.research.google.com/notebooks/data_table.ipynb>data table notebook</a>'\n",
              "            + ' to learn more about interactive tables.';\n",
              "          element.innerHTML = '';\n",
              "          dataTable['output_type'] = 'display_data';\n",
              "          await google.colab.output.renderOutput(dataTable, element);\n",
              "          const docLink = document.createElement('div');\n",
              "          docLink.innerHTML = docLinkHtml;\n",
              "          element.appendChild(docLink);\n",
              "        }\n",
              "      </script>\n",
              "    </div>\n",
              "  </div>\n",
              "  "
            ]
          },
          "metadata": {},
          "execution_count": 88
        }
      ]
    },
    {
      "cell_type": "code",
      "source": [
        "rnd_word = df.sample(1).word\n",
        "print(word_index[rnd_word.iloc[0]]==rnd_word.index[0])\n",
        "display(rnd_word)"
      ],
      "metadata": {
        "colab": {
          "base_uri": "https://localhost:8080/",
          "height": 70
        },
        "id": "kMk93F7-01cu",
        "outputId": "5d66e9e5-13de-43e0-82fd-61b0be18a65e"
      },
      "execution_count": null,
      "outputs": [
        {
          "output_type": "stream",
          "name": "stdout",
          "text": [
            "True\n"
          ]
        },
        {
          "output_type": "display_data",
          "data": {
            "text/plain": [
              "784    somehow\n",
              "Name: word, dtype: object"
            ]
          },
          "metadata": {}
        }
      ]
    },
    {
      "cell_type": "code",
      "source": [
        "tmp = df.sample(5)\n",
        "\n",
        "tmp['vectorized'] = tmp['word'].apply(lambda w: vectorize_layer([w]).numpy()[0,:5])\n",
        "tmp['word to vec'] = tmp['word'].apply(lambda w:embeddings_index[w][:5])\n",
        "tmp.head()"
      ],
      "metadata": {
        "colab": {
          "base_uri": "https://localhost:8080/",
          "height": 206
        },
        "id": "b4DYEG22xaUk",
        "outputId": "b3184358-7364-473f-8fb1-1db81a31c543"
      },
      "execution_count": null,
      "outputs": [
        {
          "output_type": "execute_result",
          "data": {
            "text/plain": [
              "         word          vectorized  \\\n",
              "7948       je  [7948, 0, 0, 0, 0]   \n",
              "6250   stroke  [6250, 0, 0, 0, 0]   \n",
              "6195    glued  [6195, 0, 0, 0, 0]   \n",
              "4020    thick  [4020, 0, 0, 0, 0]   \n",
              "426   problem   [426, 0, 0, 0, 0]   \n",
              "\n",
              "                                               word to vec  \n",
              "7948      [-0.28514, -0.55368, 0.46489, 0.52158, -0.17299]  \n",
              "6250      [-0.54625, -0.09081, 0.054067, 0.44759, -0.3746]  \n",
              "6195  [-0.76447, -0.089345, -0.0027581, -0.29247, 0.14992]  \n",
              "4020       [-1.213, 0.37629, 0.037394, -0.07846, -0.29342]  \n",
              "426      [-0.29581, 0.30855, 0.82131, 0.0085845, -0.66401]  "
            ],
            "text/html": [
              "\n",
              "  <div id=\"df-b1027dc8-4026-4c8b-82ae-05449286419c\">\n",
              "    <div class=\"colab-df-container\">\n",
              "      <div>\n",
              "<style scoped>\n",
              "    .dataframe tbody tr th:only-of-type {\n",
              "        vertical-align: middle;\n",
              "    }\n",
              "\n",
              "    .dataframe tbody tr th {\n",
              "        vertical-align: top;\n",
              "    }\n",
              "\n",
              "    .dataframe thead th {\n",
              "        text-align: right;\n",
              "    }\n",
              "</style>\n",
              "<table border=\"1\" class=\"dataframe\">\n",
              "  <thead>\n",
              "    <tr style=\"text-align: right;\">\n",
              "      <th></th>\n",
              "      <th>word</th>\n",
              "      <th>vectorized</th>\n",
              "      <th>word to vec</th>\n",
              "    </tr>\n",
              "  </thead>\n",
              "  <tbody>\n",
              "    <tr>\n",
              "      <th>7948</th>\n",
              "      <td>je</td>\n",
              "      <td>[7948, 0, 0, 0, 0]</td>\n",
              "      <td>[-0.28514, -0.55368, 0.46489, 0.52158, -0.17299]</td>\n",
              "    </tr>\n",
              "    <tr>\n",
              "      <th>6250</th>\n",
              "      <td>stroke</td>\n",
              "      <td>[6250, 0, 0, 0, 0]</td>\n",
              "      <td>[-0.54625, -0.09081, 0.054067, 0.44759, -0.3746]</td>\n",
              "    </tr>\n",
              "    <tr>\n",
              "      <th>6195</th>\n",
              "      <td>glued</td>\n",
              "      <td>[6195, 0, 0, 0, 0]</td>\n",
              "      <td>[-0.76447, -0.089345, -0.0027581, -0.29247, 0.14992]</td>\n",
              "    </tr>\n",
              "    <tr>\n",
              "      <th>4020</th>\n",
              "      <td>thick</td>\n",
              "      <td>[4020, 0, 0, 0, 0]</td>\n",
              "      <td>[-1.213, 0.37629, 0.037394, -0.07846, -0.29342]</td>\n",
              "    </tr>\n",
              "    <tr>\n",
              "      <th>426</th>\n",
              "      <td>problem</td>\n",
              "      <td>[426, 0, 0, 0, 0]</td>\n",
              "      <td>[-0.29581, 0.30855, 0.82131, 0.0085845, -0.66401]</td>\n",
              "    </tr>\n",
              "  </tbody>\n",
              "</table>\n",
              "</div>\n",
              "      <button class=\"colab-df-convert\" onclick=\"convertToInteractive('df-b1027dc8-4026-4c8b-82ae-05449286419c')\"\n",
              "              title=\"Convert this dataframe to an interactive table.\"\n",
              "              style=\"display:none;\">\n",
              "        \n",
              "  <svg xmlns=\"http://www.w3.org/2000/svg\" height=\"24px\"viewBox=\"0 0 24 24\"\n",
              "       width=\"24px\">\n",
              "    <path d=\"M0 0h24v24H0V0z\" fill=\"none\"/>\n",
              "    <path d=\"M18.56 5.44l.94 2.06.94-2.06 2.06-.94-2.06-.94-.94-2.06-.94 2.06-2.06.94zm-11 1L8.5 8.5l.94-2.06 2.06-.94-2.06-.94L8.5 2.5l-.94 2.06-2.06.94zm10 10l.94 2.06.94-2.06 2.06-.94-2.06-.94-.94-2.06-.94 2.06-2.06.94z\"/><path d=\"M17.41 7.96l-1.37-1.37c-.4-.4-.92-.59-1.43-.59-.52 0-1.04.2-1.43.59L10.3 9.45l-7.72 7.72c-.78.78-.78 2.05 0 2.83L4 21.41c.39.39.9.59 1.41.59.51 0 1.02-.2 1.41-.59l7.78-7.78 2.81-2.81c.8-.78.8-2.07 0-2.86zM5.41 20L4 18.59l7.72-7.72 1.47 1.35L5.41 20z\"/>\n",
              "  </svg>\n",
              "      </button>\n",
              "      \n",
              "  <style>\n",
              "    .colab-df-container {\n",
              "      display:flex;\n",
              "      flex-wrap:wrap;\n",
              "      gap: 12px;\n",
              "    }\n",
              "\n",
              "    .colab-df-convert {\n",
              "      background-color: #E8F0FE;\n",
              "      border: none;\n",
              "      border-radius: 50%;\n",
              "      cursor: pointer;\n",
              "      display: none;\n",
              "      fill: #1967D2;\n",
              "      height: 32px;\n",
              "      padding: 0 0 0 0;\n",
              "      width: 32px;\n",
              "    }\n",
              "\n",
              "    .colab-df-convert:hover {\n",
              "      background-color: #E2EBFA;\n",
              "      box-shadow: 0px 1px 2px rgba(60, 64, 67, 0.3), 0px 1px 3px 1px rgba(60, 64, 67, 0.15);\n",
              "      fill: #174EA6;\n",
              "    }\n",
              "\n",
              "    [theme=dark] .colab-df-convert {\n",
              "      background-color: #3B4455;\n",
              "      fill: #D2E3FC;\n",
              "    }\n",
              "\n",
              "    [theme=dark] .colab-df-convert:hover {\n",
              "      background-color: #434B5C;\n",
              "      box-shadow: 0px 1px 3px 1px rgba(0, 0, 0, 0.15);\n",
              "      filter: drop-shadow(0px 1px 2px rgba(0, 0, 0, 0.3));\n",
              "      fill: #FFFFFF;\n",
              "    }\n",
              "  </style>\n",
              "\n",
              "      <script>\n",
              "        const buttonEl =\n",
              "          document.querySelector('#df-b1027dc8-4026-4c8b-82ae-05449286419c button.colab-df-convert');\n",
              "        buttonEl.style.display =\n",
              "          google.colab.kernel.accessAllowed ? 'block' : 'none';\n",
              "\n",
              "        async function convertToInteractive(key) {\n",
              "          const element = document.querySelector('#df-b1027dc8-4026-4c8b-82ae-05449286419c');\n",
              "          const dataTable =\n",
              "            await google.colab.kernel.invokeFunction('convertToInteractive',\n",
              "                                                     [key], {});\n",
              "          if (!dataTable) return;\n",
              "\n",
              "          const docLinkHtml = 'Like what you see? Visit the ' +\n",
              "            '<a target=\"_blank\" href=https://colab.research.google.com/notebooks/data_table.ipynb>data table notebook</a>'\n",
              "            + ' to learn more about interactive tables.';\n",
              "          element.innerHTML = '';\n",
              "          dataTable['output_type'] = 'display_data';\n",
              "          await google.colab.output.renderOutput(dataTable, element);\n",
              "          const docLink = document.createElement('div');\n",
              "          docLink.innerHTML = docLinkHtml;\n",
              "          element.appendChild(docLink);\n",
              "        }\n",
              "      </script>\n",
              "    </div>\n",
              "  </div>\n",
              "  "
            ]
          },
          "metadata": {},
          "execution_count": 121
        }
      ]
    },
    {
      "cell_type": "code",
      "source": [
        "num_tokens = len(vocabulary) + 2\n",
        "embedding_dim = 100\n",
        "hits = 0\n",
        "misses = 0\n",
        "\n",
        "# Prepare embedding matrix\n",
        "embedding_matrix = np.zeros((num_tokens, embedding_dim))\n",
        "for word, i in word_index.items():\n",
        "    embedding_vector = embeddings_index.get(word)\n",
        "    if embedding_vector is not None:\n",
        "        # Words not found in embedding index will be all-zeros.\n",
        "        # This includes the representation for \"padding\" and \"OOV\"\n",
        "        embedding_matrix[i] = embedding_vector\n",
        "        hits += 1\n",
        "    else:\n",
        "        misses += 1\n",
        "print(\"Converted %d words (%d misses)\" % (hits, misses))"
      ],
      "metadata": {
        "colab": {
          "base_uri": "https://localhost:8080/"
        },
        "id": "yawY_OvA_uJ9",
        "outputId": "380845bf-ee74-486a-de45-8987a03a971e"
      },
      "execution_count": 152,
      "outputs": [
        {
          "output_type": "stream",
          "name": "stdout",
          "text": [
            "Converted 19349 words (651 misses)\n"
          ]
        }
      ]
    },
    {
      "cell_type": "code",
      "source": [
        "def vectorize_text(text, label):\n",
        "    text = tf.expand_dims(text, -1)\n",
        "    return vectorize_layer(text), label"
      ],
      "metadata": {
        "id": "7BQXiFteMdGv"
      },
      "execution_count": null,
      "outputs": []
    },
    {
      "cell_type": "code",
      "source": [
        "train_ds = raw_train_ds.map(vectorize_text)\n",
        "val_ds = raw_val_ds.map(vectorize_text)\n",
        "test_ds = raw_test_ds.map(vectorize_text)\n"
      ],
      "metadata": {
        "id": "kGCF5zy2MvXL"
      },
      "execution_count": null,
      "outputs": []
    },
    {
      "cell_type": "code",
      "source": [
        "train_ds = train_ds.cache().prefetch(buffer_size=10)\n",
        "val_ds = val_ds.cache().prefetch(buffer_size=10)\n",
        "test_ds = test_ds.cache().prefetch(buffer_size=10)"
      ],
      "metadata": {
        "id": "nCyGaOv0PbjZ"
      },
      "execution_count": null,
      "outputs": []
    },
    {
      "cell_type": "code",
      "source": [
        "x,y = tuple(train_ds)[0]\n"
      ],
      "metadata": {
        "id": "A6O1mq3LNgad"
      },
      "execution_count": null,
      "outputs": []
    },
    {
      "cell_type": "code",
      "source": [
        "print(x[0].numpy())\n",
        "print(y[0].numpy())"
      ],
      "metadata": {
        "colab": {
          "base_uri": "https://localhost:8080/"
        },
        "id": "z8XZQOk8Pg58",
        "outputId": "29b5f223-5e83-4b69-a16e-73f948609f19"
      },
      "execution_count": null,
      "outputs": [
        {
          "output_type": "stream",
          "name": "stdout",
          "text": [
            "[   10     7   240   157     1 15001 13365    19    11   235    21   241\n",
            "   133    26    43    10  2924     6   119   511     1     3     1  5617\n",
            "     6     2  1398     1   304    18    11   161    46     5   143   135\n",
            "    63  2206   704   158     9     7     4   318   402   265   291    32\n",
            " 13365   115    26   262     2    62     5    33   701  2476   250    32\n",
            "   975   721     8     2   789    19   444  2079     1    48   155    10\n",
            "    17   269     7    12     9    80  3167     2   527     5    78    12\n",
            "    10  2476     1    16    40     7   345    16   136    14    39     1\n",
            "    39  6017    19   377  4148   992    78     3   379  2394     8     2\n",
            "   701     1     8    39  3807  7222     9     7   157    49   232    36\n",
            "  2079     1    54     7  1274     6    27  1905    15    10   207    54\n",
            "   120 14815   533    18  3103     8    93    54     7 10683     1     3\n",
            "   326   299     8    10    19    18    91   701 10641    24    21   405\n",
            "     6 19997     2    78    34  1111   201  6908 15001    43   206    56\n",
            "    16   157    49    17    12   919  1031  1261     6     2 18855    52\n",
            "  1762   187    10    17  1942  1120     3    28     7    21   241    48\n",
            "     2   172     7   256     6  2808     7    26   256     6   119   168\n",
            "     2 14394     3 12673     5     2   992    78    40     7    26   256\n",
            "     6   119   168     2   117     5    33   701  2476     3  9900    12\n",
            "    16     2   117     5     2   144   835  2476     7    26   256     6\n",
            "   361   168    88     2  1350     3   992  1532  2415     2  3558    40\n",
            "     7    26   256     6  9094     2  1261    16   511  2625     3     1\n",
            "  3893     2    81  5617   802  2542  1425     2     1  2415    12   180\n",
            "   364    25     6  1663    16   668    40  5229    44    34   607     6\n",
            "  2503  2954     8  1471    26  2226    42    88  3051 11187    76  1202\n",
            "     3  1383     5    64  2603   100     4   132     3  4500     6  1545\n",
            " 10067    32  8262    72  8907    78   520    26    80  2226    42  4403\n",
            "   364     3 11654   328     8   992  2043    10    13    31   851    15\n",
            "    69    18   228    27    99  1279    15    33   869 13077    35    41\n",
            "   474     6 13545    46  4062    36   255     6   255   156     0     0\n",
            "     0     0     0     0     0     0     0     0     0     0     0     0\n",
            "     0     0     0     0     0     0     0     0     0     0     0     0\n",
            "     0     0     0     0     0     0     0     0     0     0     0     0\n",
            "     0     0     0     0     0     0     0     0     0     0     0     0\n",
            "     0     0     0     0     0     0     0     0     0     0     0     0\n",
            "     0     0     0     0     0     0     0     0     0     0     0     0\n",
            "     0     0     0     0     0     0     0     0     0     0     0     0\n",
            "     0     0     0     0     0     0     0     0     0     0     0     0\n",
            "     0     0     0     0     0     0     0     0     0     0     0     0\n",
            "     0     0     0     0     0     0     0     0     0     0     0     0\n",
            "     0     0     0     0     0     0     0     0     0     0     0     0\n",
            "     0     0     0     0     0     0     0     0]\n",
            "1\n"
          ]
        }
      ]
    },
    {
      "cell_type": "code",
      "source": [
        "import tensorflow as tf\n",
        "from tensorflow.keras import layers\n",
        "\n",
        "def basic_model():\n",
        "  inputs = tf.keras.Input(shape=(None,), dtype=\"int64\")\n",
        "  x = layers.Embedding(\n",
        "        num_tokens,\n",
        "        embedding_dim,\n",
        "        embeddings_initializer = tf.keras.initializers.Constant(embedding_matrix),\n",
        "        trainable=False\n",
        "      )(inputs)\n",
        "  # x = layers.Embedding(max_features, embedding_dim)(inputs)\n",
        "  x = layers.Dropout(0.25)(x)\n",
        "\n",
        "  x = layers.Conv1D(128, 7, padding=\"same\", activation=\"relu\", strides=3)(x)\n",
        "  x = layers.Conv1D(128, 7, padding=\"same\", activation=\"relu\", strides=3)(x)\n",
        "  x = layers.GlobalMaxPooling1D()(x)\n",
        "\n",
        "  x = layers.Dense(128, activation=\"relu\")(x)\n",
        "  x = layers.Dropout(0.5)(x)\n",
        "  output = layers.Dense(2, activation = \"softmax\")(x)\n",
        "  # output = layers.Dense(1, activation=\"sigmoid\", name=\"output\")(x)\n",
        "  model = tf.keras.Model(inputs, output)\n",
        "  return model\n",
        "\n"
      ],
      "metadata": {
        "id": "FMlKmJ0VPktU"
      },
      "execution_count": 208,
      "outputs": []
    },
    {
      "cell_type": "code",
      "source": [
        "import tensorflow as tf\n",
        "def bidirectional_model():\n",
        "  inputs = tf.keras.Input(shape=(None,), dtype=\"int64\")\n",
        "  x = layers.Embedding(\n",
        "        num_tokens,\n",
        "        embedding_dim,\n",
        "        embeddings_initializer = tf.keras.initializers.Constant(embedding_matrix),\n",
        "        trainable=False\n",
        "      )(inputs)\n",
        "      \n",
        "  # x = layers.Embedding(max_features, embedding_dim)(inputs)\n",
        "  # x = layers.Dropout(0.25)(x)\n",
        "\n",
        "  # Add 2 bidirectional LSTMs\n",
        "  x = layers.Bidirectional(layers.LSTM(128, dropout=0.2, return_sequences=True))(x)\n",
        "  x = layers.Bidirectional(layers.LSTM(128, dropout=0.2))(x)\n",
        "  # Add a classifier\n",
        "  # output = layers.Dense(1, activation=\"sigmoid\", name=\"output\")(x)\n",
        "  output = layers.Dense(2, activation = \"softmax\")(x)\n",
        "  model = tf.keras.Model(inputs, output)\n",
        "  return model"
      ],
      "metadata": {
        "id": "lKSUo2W1hlDz"
      },
      "execution_count": 264,
      "outputs": []
    },
    {
      "cell_type": "code",
      "source": [
        "import tensorflow as tf\n",
        "def recurrent_model():\n",
        "  inputs = tf.keras.Input(shape=(None,), dtype=\"int64\")\n",
        "  x = layers.Embedding(\n",
        "        num_tokens,\n",
        "        embedding_dim,\n",
        "        embeddings_initializer = tf.keras.initializers.Constant(embedding_matrix),\n",
        "        trainable=False\n",
        "      )(inputs)\n",
        "      \n",
        "  x = layers.LSTM(64, dropout=0.1)(x)\n",
        "\n",
        "  output = layers.Dense(2, activation = \"softmax\")(x)\n",
        "  model = tf.keras.Model(inputs, output)\n",
        "  return model"
      ],
      "metadata": {
        "id": "u9Dwm1BDjxuO"
      },
      "execution_count": 324,
      "outputs": []
    },
    {
      "cell_type": "code",
      "source": [
        "m_type = 2"
      ],
      "metadata": {
        "id": "76Qho62Wha2L"
      },
      "execution_count": 342,
      "outputs": []
    },
    {
      "cell_type": "code",
      "source": [
        "if m_type == 0:\n",
        "  model = basic_model()\n",
        "if m_type == 1:\n",
        "  model = bidirectional_model()\n",
        "if m_type == 2:\n",
        "  model = recurrent_model()\n",
        "model.compile(\n",
        "    loss=\"sparse_categorical_crossentropy\", optimizer=\"rmsprop\", metrics=[\"accuracy\"]\n",
        ")\n",
        "# model.compile(loss=\"binary_crossentropy\", optimizer=\"adam\", metrics=[\"accuracy\"])"
      ],
      "metadata": {
        "id": "Iyw9yaUEZbwr"
      },
      "execution_count": 343,
      "outputs": []
    },
    {
      "cell_type": "code",
      "source": [
        "model.summary()"
      ],
      "metadata": {
        "colab": {
          "base_uri": "https://localhost:8080/"
        },
        "id": "44lEW69SR-PL",
        "outputId": "fff30939-5561-4315-9326-b14a88efc7d4"
      },
      "execution_count": 326,
      "outputs": [
        {
          "output_type": "stream",
          "name": "stdout",
          "text": [
            "Model: \"model_14\"\n",
            "_________________________________________________________________\n",
            " Layer (type)                Output Shape              Param #   \n",
            "=================================================================\n",
            " input_15 (InputLayer)       [(None, None)]            0         \n",
            "                                                                 \n",
            " embedding_9 (Embedding)     (None, None, 100)         2000200   \n",
            "                                                                 \n",
            " lstm_6 (LSTM)               (None, 64)                42240     \n",
            "                                                                 \n",
            " dense_10 (Dense)            (None, 2)                 130       \n",
            "                                                                 \n",
            "=================================================================\n",
            "Total params: 2,042,570\n",
            "Trainable params: 42,370\n",
            "Non-trainable params: 2,000,200\n",
            "_________________________________________________________________\n"
          ]
        }
      ]
    },
    {
      "cell_type": "code",
      "source": [
        "from tensorflow.keras.callbacks import ModelCheckpoint, EarlyStopping, ReduceLROnPlateau, CSVLogger\n",
        "\n",
        "checkPoint=ModelCheckpoint(\"model.h5\", save_weights_only=False, monitor='val_accuracy', verbose=1, save_best_only=True, mode='max')\n",
        "earlyStopping=EarlyStopping(monitor='val_loss', min_delta = 0.01, patience=10, verbose=0, mode='min') \n",
        "lrr = ReduceLROnPlateau(monitor='val_accuracy', patience=3, verbose=1, factor=0.5, min_lr=2.5e-5)\n"
      ],
      "metadata": {
        "id": "aG96HLhuT2Xn"
      },
      "execution_count": 344,
      "outputs": []
    },
    {
      "cell_type": "code",
      "source": [
        "history = model.fit(\n",
        "    train_ds, \n",
        "    validation_data=val_ds, \n",
        "    epochs=50, \n",
        "    batch_size=128,\n",
        "    callbacks = [lrr,checkPoint,earlyStopping],\n",
        "    verbose=2)\n"
      ],
      "metadata": {
        "colab": {
          "base_uri": "https://localhost:8080/"
        },
        "id": "tyeUL8v2RC3S",
        "outputId": "6eb277df-67e3-45ea-ecfa-a533ed9789b1"
      },
      "execution_count": 345,
      "outputs": [
        {
          "output_type": "stream",
          "name": "stdout",
          "text": [
            "Epoch 1/50\n",
            "\n",
            "Epoch 1: val_accuracy improved from -inf to 0.50980, saving model to model.h5\n",
            "625/625 - 16s - loss: 0.6928 - accuracy: 0.5117 - val_loss: 0.6908 - val_accuracy: 0.5098 - lr: 0.0010 - 16s/epoch - 26ms/step\n",
            "Epoch 2/50\n",
            "\n",
            "Epoch 2: val_accuracy improved from 0.50980 to 0.51940, saving model to model.h5\n",
            "625/625 - 14s - loss: 0.6877 - accuracy: 0.5215 - val_loss: 0.6892 - val_accuracy: 0.5194 - lr: 0.0010 - 14s/epoch - 22ms/step\n",
            "Epoch 3/50\n",
            "\n",
            "Epoch 3: val_accuracy improved from 0.51940 to 0.71780, saving model to model.h5\n",
            "625/625 - 14s - loss: 0.6653 - accuracy: 0.5774 - val_loss: 0.5962 - val_accuracy: 0.7178 - lr: 0.0010 - 14s/epoch - 23ms/step\n",
            "Epoch 4/50\n",
            "\n",
            "Epoch 4: val_accuracy did not improve from 0.71780\n",
            "625/625 - 13s - loss: 0.6133 - accuracy: 0.6844 - val_loss: 0.6059 - val_accuracy: 0.6946 - lr: 0.0010 - 13s/epoch - 21ms/step\n",
            "Epoch 5/50\n",
            "\n",
            "Epoch 5: val_accuracy improved from 0.71780 to 0.72140, saving model to model.h5\n",
            "625/625 - 14s - loss: 0.6050 - accuracy: 0.6948 - val_loss: 0.5862 - val_accuracy: 0.7214 - lr: 0.0010 - 14s/epoch - 22ms/step\n",
            "Epoch 6/50\n",
            "\n",
            "Epoch 6: val_accuracy improved from 0.72140 to 0.72400, saving model to model.h5\n",
            "625/625 - 15s - loss: 0.6076 - accuracy: 0.6839 - val_loss: 0.5930 - val_accuracy: 0.7240 - lr: 0.0010 - 15s/epoch - 24ms/step\n",
            "Epoch 7/50\n",
            "\n",
            "Epoch 7: val_accuracy did not improve from 0.72400\n",
            "625/625 - 12s - loss: 0.5849 - accuracy: 0.7174 - val_loss: 0.5885 - val_accuracy: 0.7216 - lr: 0.0010 - 12s/epoch - 19ms/step\n",
            "Epoch 8/50\n",
            "\n",
            "Epoch 8: val_accuracy did not improve from 0.72400\n",
            "625/625 - 12s - loss: 0.5693 - accuracy: 0.7311 - val_loss: 0.5943 - val_accuracy: 0.7130 - lr: 0.0010 - 12s/epoch - 20ms/step\n",
            "Epoch 9/50\n",
            "\n",
            "Epoch 9: val_accuracy improved from 0.72400 to 0.72980, saving model to model.h5\n",
            "625/625 - 14s - loss: 0.5593 - accuracy: 0.7430 - val_loss: 0.5683 - val_accuracy: 0.7298 - lr: 0.0010 - 14s/epoch - 23ms/step\n",
            "Epoch 10/50\n",
            "\n",
            "Epoch 10: val_accuracy improved from 0.72980 to 0.73460, saving model to model.h5\n",
            "625/625 - 15s - loss: 0.5647 - accuracy: 0.7297 - val_loss: 0.5650 - val_accuracy: 0.7346 - lr: 0.0010 - 15s/epoch - 23ms/step\n",
            "Epoch 11/50\n",
            "\n",
            "Epoch 11: val_accuracy did not improve from 0.73460\n",
            "625/625 - 12s - loss: 0.5574 - accuracy: 0.7338 - val_loss: 0.5939 - val_accuracy: 0.7322 - lr: 0.0010 - 12s/epoch - 19ms/step\n",
            "Epoch 12/50\n",
            "\n",
            "Epoch 12: val_accuracy improved from 0.73460 to 0.74200, saving model to model.h5\n",
            "625/625 - 14s - loss: 0.5473 - accuracy: 0.7455 - val_loss: 0.5665 - val_accuracy: 0.7420 - lr: 0.0010 - 14s/epoch - 22ms/step\n",
            "Epoch 13/50\n",
            "\n",
            "Epoch 13: val_accuracy improved from 0.74200 to 0.75800, saving model to model.h5\n",
            "625/625 - 14s - loss: 0.5380 - accuracy: 0.7567 - val_loss: 0.5569 - val_accuracy: 0.7580 - lr: 0.0010 - 14s/epoch - 23ms/step\n",
            "Epoch 14/50\n",
            "\n",
            "Epoch 14: val_accuracy did not improve from 0.75800\n",
            "625/625 - 12s - loss: 0.5371 - accuracy: 0.7553 - val_loss: 0.5293 - val_accuracy: 0.7486 - lr: 0.0010 - 12s/epoch - 19ms/step\n",
            "Epoch 15/50\n",
            "\n",
            "Epoch 15: val_accuracy improved from 0.75800 to 0.76560, saving model to model.h5\n",
            "625/625 - 14s - loss: 0.5044 - accuracy: 0.7743 - val_loss: 0.5587 - val_accuracy: 0.7656 - lr: 0.0010 - 14s/epoch - 23ms/step\n",
            "Epoch 16/50\n",
            "\n",
            "Epoch 16: val_accuracy improved from 0.76560 to 0.77000, saving model to model.h5\n",
            "625/625 - 14s - loss: 0.4871 - accuracy: 0.7854 - val_loss: 0.5380 - val_accuracy: 0.7700 - lr: 0.0010 - 14s/epoch - 23ms/step\n",
            "Epoch 17/50\n",
            "\n",
            "Epoch 17: val_accuracy improved from 0.77000 to 0.77140, saving model to model.h5\n",
            "625/625 - 15s - loss: 0.4947 - accuracy: 0.7914 - val_loss: 0.5423 - val_accuracy: 0.7714 - lr: 0.0010 - 15s/epoch - 23ms/step\n",
            "Epoch 18/50\n",
            "\n",
            "Epoch 18: val_accuracy did not improve from 0.77140\n",
            "625/625 - 12s - loss: 0.4910 - accuracy: 0.7891 - val_loss: 0.5677 - val_accuracy: 0.7560 - lr: 0.0010 - 12s/epoch - 20ms/step\n",
            "Epoch 19/50\n",
            "\n",
            "Epoch 19: val_accuracy improved from 0.77140 to 0.77220, saving model to model.h5\n",
            "625/625 - 14s - loss: 0.4865 - accuracy: 0.7939 - val_loss: 0.5530 - val_accuracy: 0.7722 - lr: 0.0010 - 14s/epoch - 22ms/step\n",
            "Epoch 20/50\n",
            "\n",
            "Epoch 20: val_accuracy did not improve from 0.77220\n",
            "625/625 - 12s - loss: 0.4720 - accuracy: 0.8009 - val_loss: 0.5361 - val_accuracy: 0.7684 - lr: 0.0010 - 12s/epoch - 20ms/step\n",
            "Epoch 21/50\n",
            "\n",
            "Epoch 21: val_accuracy improved from 0.77220 to 0.77440, saving model to model.h5\n",
            "625/625 - 14s - loss: 0.4707 - accuracy: 0.7974 - val_loss: 0.5405 - val_accuracy: 0.7744 - lr: 0.0010 - 14s/epoch - 23ms/step\n",
            "Epoch 22/50\n",
            "\n",
            "Epoch 22: val_accuracy improved from 0.77440 to 0.78260, saving model to model.h5\n",
            "625/625 - 15s - loss: 0.4619 - accuracy: 0.8053 - val_loss: 0.5348 - val_accuracy: 0.7826 - lr: 0.0010 - 15s/epoch - 23ms/step\n",
            "Epoch 23/50\n",
            "\n",
            "Epoch 23: val_accuracy did not improve from 0.78260\n",
            "625/625 - 13s - loss: 0.4639 - accuracy: 0.8038 - val_loss: 0.5535 - val_accuracy: 0.7782 - lr: 0.0010 - 13s/epoch - 20ms/step\n",
            "Epoch 24/50\n",
            "\n",
            "Epoch 24: val_accuracy did not improve from 0.78260\n",
            "625/625 - 13s - loss: 0.4680 - accuracy: 0.8094 - val_loss: 0.5627 - val_accuracy: 0.7798 - lr: 0.0010 - 13s/epoch - 20ms/step\n"
          ]
        }
      ]
    },
    {
      "cell_type": "code",
      "source": [
        "model =  K.models.load_model('model.h5')"
      ],
      "metadata": {
        "id": "kZvCBXSJ8_Fj"
      },
      "execution_count": 346,
      "outputs": []
    },
    {
      "cell_type": "code",
      "source": [
        "import matplotlib.pyplot as plt\n",
        "import numpy as np\n",
        "\n",
        "\n",
        "plt.plot(history.history['accuracy'])\n",
        "plt.plot(history.history['val_accuracy'])\n",
        "plt.title('model accuracy')\n",
        "plt.ylabel('accuracy')\n",
        "plt.xlabel('epoch')\n",
        "plt.legend(['train', 'val'], loc='upper left')\n",
        "plt.show()\n",
        "# summarize history for loss\n",
        "plt.plot(history.history['loss'])\n",
        "plt.plot(history.history['val_loss'])\n",
        "plt.title('model loss')\n",
        "plt.ylabel('loss')\n",
        "plt.xlabel('epoch')\n",
        "plt.legend(['train', 'val'], loc='upper left')\n",
        "plt.show()\n",
        "\n",
        "index = np.argmax(history.history['val_accuracy'])\n",
        "\n",
        "print('last model accuracy',history.history['val_accuracy'][-1])\n",
        "print('best model accuracy',history.history['val_accuracy'][index])"
      ],
      "metadata": {
        "id": "rUtqpPJQUoCb",
        "colab": {
          "base_uri": "https://localhost:8080/",
          "height": 608
        },
        "outputId": "16111874-9db5-4a46-bef1-76c3c894a741"
      },
      "execution_count": 347,
      "outputs": [
        {
          "output_type": "display_data",
          "data": {
            "text/plain": [
              "<Figure size 432x288 with 1 Axes>"
            ],
            "image/png": "[encoded data removed]"
          },
          "metadata": {
            "needs_background": "light"
          }
        },
        {
          "output_type": "display_data",
          "data": {
            "text/plain": [
              "<Figure size 432x288 with 1 Axes>"
            ],
            "image/png": "[encoded data removed]"
          },
          "metadata": {
            "needs_background": "light"
          }
        },
        {
          "output_type": "stream",
          "name": "stdout",
          "text": [
            "last model accuracy 0.7797999978065491\n",
            "best model accuracy 0.7825999855995178\n"
          ]
        }
      ]
    },
    {
      "cell_type": "code",
      "source": [
        "model.evaluate(test_ds)"
      ],
      "metadata": {
        "id": "4RtOEo7-VHxG",
        "colab": {
          "base_uri": "https://localhost:8080/"
        },
        "outputId": "0ae11eee-9717-4daf-a910-07656b5f963f"
      },
      "execution_count": 348,
      "outputs": [
        {
          "output_type": "stream",
          "name": "stdout",
          "text": [
            "782/782 [==============================] - 9s 10ms/step - loss: 0.5138 - accuracy: 0.7951\n"
          ]
        },
        {
          "output_type": "execute_result",
          "data": {
            "text/plain": [
              "[0.5138289928436279, 0.7950800061225891]"
            ]
          },
          "metadata": {},
          "execution_count": 348
        }
      ]
    },
    {
      "cell_type": "code",
      "source": [
        "X_test = []\n",
        "y_test = []\n",
        "for inputs, outputs in raw_test_ds.as_numpy_iterator():\n",
        "  for i in range(len(inputs)):\n",
        "    X_test.append(inputs[i])\n",
        "    y_test.append(outputs[i])\n",
        "\n",
        "print(len(X_test))\n",
        "X_test = np.asarray(X_test)\n",
        "print(X_test.shape)\n",
        "\n",
        "y_test = np.asarray(y_test)\n",
        "print(len(y_test))\n"
      ],
      "metadata": {
        "id": "vP9xbDH9kWEL",
        "colab": {
          "base_uri": "https://localhost:8080/"
        },
        "outputId": "582b112f-8bfb-4b25-8dc0-d8eec21940a6"
      },
      "execution_count": 349,
      "outputs": [
        {
          "output_type": "stream",
          "name": "stdout",
          "text": [
            "25000\n",
            "(25000,)\n",
            "25000\n"
          ]
        }
      ]
    },
    {
      "cell_type": "code",
      "source": [
        "from sklearn.metrics import confusion_matrix,classification_report\n",
        "import pandas as pd\n",
        "import seaborn as sns\n",
        "import tensorflow.keras as K\n",
        "\n",
        "\n",
        "pred = model.predict(test_ds)\n",
        "\n"
      ],
      "metadata": {
        "id": "CWNrPWMKU6Lj"
      },
      "execution_count": 350,
      "outputs": []
    },
    {
      "cell_type": "code",
      "source": [
        "pred[:20]"
      ],
      "metadata": {
        "colab": {
          "base_uri": "https://localhost:8080/"
        },
        "id": "niVQr40y92V8",
        "outputId": "ff836e68-15f0-4162-bc9e-7502983fcd0b"
      },
      "execution_count": 351,
      "outputs": [
        {
          "output_type": "execute_result",
          "data": {
            "text/plain": [
              "array([[5.2274907e-01, 4.7725093e-01],\n",
              "       [1.6407502e-01, 8.3592492e-01],\n",
              "       [7.9378754e-01, 2.0621246e-01],\n",
              "       [7.9378754e-01, 2.0621246e-01],\n",
              "       [7.9378754e-01, 2.0621242e-01],\n",
              "       [7.9378718e-01, 2.0621277e-01],\n",
              "       [5.2274907e-01, 4.7725093e-01],\n",
              "       [1.6407531e-01, 8.3592469e-01],\n",
              "       [7.9378754e-01, 2.0621245e-01],\n",
              "       [5.2274907e-01, 4.7725093e-01],\n",
              "       [1.6407529e-01, 8.3592469e-01],\n",
              "       [7.9378754e-01, 2.0621242e-01],\n",
              "       [1.6407531e-01, 8.3592469e-01],\n",
              "       [7.9378754e-01, 2.0621245e-01],\n",
              "       [9.9946815e-01, 5.3190673e-04],\n",
              "       [7.9378754e-01, 2.0621245e-01],\n",
              "       [7.9378754e-01, 2.0621245e-01],\n",
              "       [1.6407531e-01, 8.3592469e-01],\n",
              "       [1.6407529e-01, 8.3592469e-01],\n",
              "       [1.3541420e-01, 8.6458576e-01]], dtype=float32)"
            ]
          },
          "metadata": {},
          "execution_count": 351
        }
      ]
    },
    {
      "cell_type": "code",
      "source": [
        "predictions = np.argmax(pred,axis=1)\n",
        "labels= ['neg','pos']\n",
        "\n",
        "print(len(predictions))\n",
        "print(predictions[:5])\n",
        "print(y_test[:5])"
      ],
      "metadata": {
        "id": "tr3ac7FBm-_u",
        "colab": {
          "base_uri": "https://localhost:8080/"
        },
        "outputId": "b75ce2a9-9c9f-4036-da28-78903a99c081"
      },
      "execution_count": 352,
      "outputs": [
        {
          "output_type": "stream",
          "name": "stdout",
          "text": [
            "25000\n",
            "[0 1 0 0 0]\n",
            "[1 1 1 1 1]\n"
          ]
        }
      ]
    },
    {
      "cell_type": "code",
      "source": [
        "pd.set_option('display.max_colwidth', None)\n",
        "df = pd.DataFrame({\n",
        "          'txt':X_test,\n",
        "          'predictions':predictions,\n",
        "          'actual_values':y_test\n",
        "          })\n",
        "\n",
        "df['predictions']=df['predictions'].apply(lambda x: labels[int(x)] )\n",
        "df['actual_values']=df['actual_values'].apply(lambda x: labels[x] ) \n",
        "\n",
        "# df['actual_values']=df['actual_values'].apply(lambda x:int(x) ) \n",
        "\n",
        "\n",
        "expected = df['predictions'].to_numpy()\n",
        "actual = df['actual_values'].to_numpy()\n",
        "\n",
        "# # print(expected[:10])\n",
        "# # print(actual[:10])\n",
        "\n",
        "cm=confusion_matrix(actual,expected)\n",
        "\n",
        "plt.figure(figsize=[15, 10])\n",
        "sns.heatmap(data=cm, annot=True, cmap='Blues', square=True, xticklabels=labels, yticklabels=labels)\n",
        "plt.xlabel('Actual label')\n",
        "plt.ylabel('Expected label')\n",
        "plt.show()\n",
        "\n",
        "print( classification_report(actual,expected))\n",
        "\n",
        "display(df.head())\n",
        "\n",
        "failings = df[df['predictions']!=df['actual_values']]\n",
        "corrects = df[df['predictions']==df['actual_values']]\n",
        "\n",
        "display(failings.head())\n",
        "\n",
        "\n",
        "failing_predictions = len(failings)\n",
        "\n",
        "print('n° of failing predictions:',failing_predictions)\n",
        "# print(failings.index[0])\n",
        "total_data = len(df)\n",
        "\n",
        "print('accuracy:',1 - failing_predictions / total_data)\n",
        "# print('accuracy:',model.evaluate(X_test, y_test, batch_size=256))\n",
        "\n",
        "\n"
      ],
      "metadata": {
        "id": "tA35yWmum6Wq",
        "colab": {
          "base_uri": "https://localhost:8080/",
          "height": 1000
        },
        "outputId": "cae3f126-7d0f-4536-f4c7-246739339029"
      },
      "execution_count": 353,
      "outputs": [
        {
          "output_type": "display_data",
          "data": {
            "text/plain": [
              "<Figure size 1080x720 with 2 Axes>"
            ],
            "image/png": "[encoded data removed]"
          },
          "metadata": {
            "needs_background": "light"
          }
        },
        {
          "output_type": "stream",
          "name": "stdout",
          "text": [
            "              precision    recall  f1-score   support\n",
            "\n",
            "         neg       0.50      0.52      0.51     12500\n",
            "         pos       0.50      0.47      0.48     12500\n",
            "\n",
            "    accuracy                           0.50     25000\n",
            "   macro avg       0.50      0.50      0.49     25000\n",
            "weighted avg       0.50      0.50      0.49     25000\n",
            "\n"
          ]
        },
        {
          "output_type": "display_data",
          "data": {
            "text/plain": [
              "                                                                                                                                                                                                                                                                                                                                                                                                                                                                                                                                                                                                                                                                                                                                                                                                                                                                                                                                                                                                                                                                                                                                                                                                                                                                                                                                                                                                                                                                                                                                                                                                                                                                                                                                                                                                                                                                                                                                                                                                                                                                                                                                                                                                                                                                                                                                                                                                                                                                                                                                                                                                                                                                                                                                                                                                                                                                                                                                                                                                                                                                                                                                                                                                                                                                                                                                                                                                                                                                                                                                                                                                                                                                                                                                                                                                                                                                                                                                                                                                                                                                                                                                                                                                                                                                                                                                                                                                                                                                                                                                                                                                                                                                                                                                                    txt  \\\n",
              "0                                                                                                                                                                                                                                                                                                                                                                                                                                                                                                                                                                                                                                                                                                                                                                                                                                                                                                                                                                                                                                                                                                                                                                                                                                                                                                                                                                                                                                                                                                                                                                                                                                                                                                                                                                                            b\"BONJOUR, MONSIEUR SHLOMI is simply a wonderful film! Writer/Director Shemi Zarhin has created a story unlike any other and cast it with such consistently fine actors that it remains a puzzle to me that this film has not become an audience favorite throughout the world. It is intelligent, emotional, edifying, and warm, entertaining, and in all categories it is a winner.Shlomi (Oshri Cohen, in a brilliantly understated performance) is a 16-year-old lad who takes care of his highly dysfunctional family: his mother (Esti Zakheim) is about as distasteful a shrew as ever concocted and in a constant state of ill temper because of her husband cheated on her, and because she is stuck working double shifts to support her ailing father-in-law (Ariek Elias, who as Shlomi's grandfather is a bright, funny, wise, loving old man who deeply cares for Shlomi); a married sister Ziva (Rotem Abuhab)who periodically moves back in to the house because of constant spats with her husband who doesn't help her care for their infant twin sons; his brother Sasi (Assi Cohen) whose life is loud electric guitars, braggadocio about female conquests, and the favorite son of his mother. Stir this mixture and the result is the penultimate dysfunctional family unit. Shlomi cooks gourmet meals for them, shops, cleans house, runs errands, bathes and cares for this grandfather and in general leads a life of submission to a family that views him as a 'retard'.Shlomi longs for a girlfriend and practically fails his school because of his lack of time devoted to caring for his family and a lack of concentration. Serendipitously his math teacher Begin (Nisso Keavia) notes his natural mathematic genius on a discarded test, and with the aid of the headmaster (Yigal Nair) the two encourage him to be tested and discover that he is a genius (?with dyslexia?) and arrange for him to try for a special school in Haifa. Shlomi's mother will hear none of it but between fights with Shlomi's absentee father (Albert Iluz) and confrontations with the teacher and headmaster they finally consent to his testing for the school.Meanwhile Shlomi discovers a girl his age Rona (Aya Koren) who has moved in next door and gradually the two become intertwined in a physical and intellectual relationship. Always in the background is the support of Shlomi's grandfather, and when the grandfather dies, Shlomi sets off on the journey to live his life for himself, to realize his gifts, to find his happiness. The manner in which the family comes to grips with this is the peak of the movie and need not be revealed for the sake of loosing the power of the message.The film is beautifully photographed, the musical score is creatively lovely, and the final result is one of exaltation of the human spirit. Highly recommended on every level. In Hebrew with English subtitles.\"   \n",
              "1                                                                                                                                                                                                                                                                                                                                                                                                                                                                                                                                                                                                                                                                                                                                                                                                                                                                                                                                                                                                                                                                                                                                                                                                                                                                                                                                                                                                                                                                                                                                                                                                                                                                                                                                                                                                                                                                                                                                                                                                                                                                                                                                                                                                                                                                                                                                                                                                                                                                                                                                                                                                                                                                                                                                                                                                                                                                                                                                                                                                                                                                                                                                                                                                                                                                                                                                                                                                                                                                                                                                                                                                                                                                                                  b\"This film was really a breath of fresh air from the load of Hollywood crap I've seen recently. The acting is superb and the characters are engaging and oddly endearing. There really isn't much to the story, it's simple and it works well. An easy film to just sit down and enjoy. The mood was fantastic and the sets really helped push the movie along and offered some nice visuals. The film obviously has aspects of horror, yet is geared a little more towards the humorous side of things. You won't be laughing out loud hysterically with this one, but you'll be smiling the whole way through. The humor works very well with the characters and the superb acting doesn't hurt. I really watched this movie based on the fact that Ron Perlman was in it. His role is a bit smaller than I expected, but it doesn't matter; the rest of the cast does more than enough to keep you engaged. If you like horror, watch this. If you like comedies, watch this. Just go ahead and watch this anyway, it's really quite excellent.\"   \n",
              "2                                                                                                                                                                                                                                                                                                                                                                                                                                                                                                                                                                                                                                                                                                                                                                                                                                                                                                                                                                                                                                                                                                                                                                                                                                                                                                                                                                                                                                                                                                                                                                                                                                                                                                                                                                                                                                                                                                                                                                                                                                                                                                                                                                                                                                                                                                                                                                                                                                                                                                                                                                                                                                                                                                                                                                                                                                                                                                                                                                                                                                                                                                                                                                                                                                                                                                                                                                                                                                                                                                                                                                                                                                                                                                                                                                                                                                                                                                                                                                                                                                                                                                                                                                                                                                                                                                                                                         b'An interesting and involved film about a \"lifer\" just trying to live out his days peacefully. Elements of the main character appear in Michael Mann\\'s later films, like Thief (1981), Heat (1995), and so on. You can see this one at the UCLA Instructional Media Laboratory-- one of the only places in the country that has copies readily available to the public. It\\'s a great one!'   \n",
              "3                                                                                                                                                                                                                                                                                                                                                                                                                                                                                                                                                                                                                                                                                                                                                                                                                                                                                                                                                                                                                                                                                                                                                                                                                                                                                                                                                                                                                                                                                                                                                                                                                                                                                                                                                                                                                                                                                                                                                                                                                                                                                                                                                                                                                                                                                                                                                                                                                                                                                                                                                                                                                                                                                                                                                                                                                                                                                                                                                                                                                                                                                                                                                                                                                                                                                                                                                                                                                                                                                                                                                                                                                                                                                                                                                                                         b'I saw the short titled \"The Reader\" recently and found that the movie was well planned and executed. I really felt for both characters that Morgan Hallett and Elizabeth Franz portray in this film. Elizabeth was able to show great range with her blind character and left me feeling emotionally connected. Morgan was able to sell to me that she was totally committed in keeping \"Sissy\" or Franz protected from the grief of losing her sister who had been living in Copenhagen. The great thing about the film was in the short running time and budget of only ten thousand dollars, Duncan Rodgers was able to make a very well made film that kept the interest of the viewer. Rodgers has a great insight into the actor\\'s ability and transition great camera angles to showcase their talent. I always feel if a director can make a great film with a small budget then what can he or she do with a much larger one. Great job Duncan!!'   \n",
              "4  b'I had the privilege to watch Mar Adentro last Friday, and I am still shocked by its beauty, the powerful work of every single actor and actress and Amenabar\\'s unbelievable ability to narrate the story of Ram\\xc3\\xb3n Sampedro, who was well known in Spain for asking for a legal euthanasia, lost the court cause, and eventually died in front of a camera drinking a glass with poison, freezing all our hearts with his determination not to go on living forever immobilized because of an accident. <br /><br />Before watching the movie I was already mesmerized by the strong symbology in its title, which I would translate as \"Into the Sea\" and not as some suggest \"Out to sea\", and which is taken from an original poem written by the man this story is about. Then I watched the movie. Oh my friends. This is Cinema with a capital C. The narration flows to take you to the heart of every single character: Sampedro, reincarnated in a Bardem that you forget from the very beginning, is in the center as a man full of sense of humour and full of hope, and his hope is to die, because for him, the life he is living is not worthy to be lived. The rest of the characters but one dance around him and respect his decision because they see him as a human independent being (forgetting he depends on the others for everything), even though they do love him so much. And this is what the movie is about: love. You can feel it, you can breathe it in the skin of every character. You witness the growing of the feeling within three women who meet him in the movie: Gen\\xc3\\xa9, the member of the association that defend his right to die with dignity, his friend, her story in the movie is the hope for us the lucky ones that can live a normal life in this world; Rosa, the woman who meets a good man in the middle of her list of broken relationships and pain in the hands of all the men who used her and despised her; Julia, the woman who shares a tragic destiny with Ram\\xc3\\xb3n, and eventually acts in a way we cannot but only understand.<br /><br />However, before meeting these women Ram\\xc3\\xb3n knew what was love like, because you cannot meet him without loving him, and he is deeply loved by his abnegated family: Four characters unique in their humbleness and bravery, each with their own thoughts about his decision, each thought respectable in its own way, because the terrible thing about this story is that nobody is to blame for what happened. That, sadly, life sometimes is that terrible. From this familiar quartet I specially liked Mabel Rivera\\'s work as Ram\\xc3\\xb3n\\'s sister in law, Manuela: a terrific performance.<br /><br />I would like to draw attention to three episodes that are for me the best climax points I have seen in a long time, and if you haven\\'t seen the movie don\\'t read this, pass over this paragraph and read again from the next one starting \"Mar adentro\", let the movie show its secrets to you. The episodes I loved were: 3. The best love scene I have seen in a movie, when I really felt love invading the screen, is when Ram\\xc3\\xb3n dreams awake that he is flying to meet Julia in the beach and they kiss each other. 2. Gen\\xc3\\xa9 speaking by phone with Ram\\xc3\\xb3n, the day before he is going to do it, and he tells her it is better they say goodbye at that very moment, not to put her in trouble with the authorities. And then she knows it is the last time they are going to talk, and she has fought for his right to die... but she does not want to lose him, because she loves him as a true friend, and even though she is respecting his decision at all cost. 1. The best. A young Ram\\xc3\\xb3n in the beach, looking at his girlfriend under the sun, jumping to the water from the rocks to a sea that is retreating. We see the crash, we hear his voice recalling what happened and claiming he should have died that very moment. The face of Bardem, face downward, shown to us from the bottom. And the hand of a friend who pulls him from the forehead and brings him back to a life that will be a hell for him in the next 30 years. There are many others, like the impressive ending, in spite of the fact that in Spain we know too well what Ramon did.<br /><br />Mar adentro did not deceive me, Amenabar never does, but this time he has to thank the actors that took part in the project, and who maybe took it personally, because this is not just a movie, it is an elegy to a man who died alone when he was asking to die \"legally\", which meant for him, as Bardem pointed out, dying with the people he loved and who loved him around.'   \n",
              "\n",
              "  predictions actual_values  \n",
              "0         neg           pos  \n",
              "1         pos           pos  \n",
              "2         neg           pos  \n",
              "3         neg           pos  \n",
              "4         neg           pos  "
            ],
            "text/html": [
              "\n",
              "  <div id=\"df-1c91027b-e8ea-49e0-b0fa-3d7bbd99f829\">\n",
              "    <div class=\"colab-df-container\">\n",
              "      <div>\n",
              "<style scoped>\n",
              "    .dataframe tbody tr th:only-of-type {\n",
              "        vertical-align: middle;\n",
              "    }\n",
              "\n",
              "    .dataframe tbody tr th {\n",
              "        vertical-align: top;\n",
              "    }\n",
              "\n",
              "    .dataframe thead th {\n",
              "        text-align: right;\n",
              "    }\n",
              "</style>\n",
              "<table border=\"1\" class=\"dataframe\">\n",
              "  <thead>\n",
              "    <tr style=\"text-align: right;\">\n",
              "      <th></th>\n",
              "      <th>txt</th>\n",
              "      <th>predictions</th>\n",
              "      <th>actual_values</th>\n",
              "    </tr>\n",
              "  </thead>\n",
              "  <tbody>\n",
              "    <tr>\n",
              "      <th>0</th>\n",
              "      <td>b\"BONJOUR, MONSIEUR SHLOMI is simply a wonderful film! Writer/Director Shemi Zarhin has created a story unlike any other and cast it with such consistently fine actors that it remains a puzzle to me that this film has not become an audience favorite throughout the world. It is intelligent, emotional, edifying, and warm, entertaining, and in all categories it is a winner.Shlomi (Oshri Cohen, in a brilliantly understated performance) is a 16-year-old lad who takes care of his highly dysfunctional family: his mother (Esti Zakheim) is about as distasteful a shrew as ever concocted and in a constant state of ill temper because of her husband cheated on her, and because she is stuck working double shifts to support her ailing father-in-law (Ariek Elias, who as Shlomi's grandfather is a bright, funny, wise, loving old man who deeply cares for Shlomi); a married sister Ziva (Rotem Abuhab)who periodically moves back in to the house because of constant spats with her husband who doesn't help her care for their infant twin sons; his brother Sasi (Assi Cohen) whose life is loud electric guitars, braggadocio about female conquests, and the favorite son of his mother. Stir this mixture and the result is the penultimate dysfunctional family unit. Shlomi cooks gourmet meals for them, shops, cleans house, runs errands, bathes and cares for this grandfather and in general leads a life of submission to a family that views him as a 'retard'.Shlomi longs for a girlfriend and practically fails his school because of his lack of time devoted to caring for his family and a lack of concentration. Serendipitously his math teacher Begin (Nisso Keavia) notes his natural mathematic genius on a discarded test, and with the aid of the headmaster (Yigal Nair) the two encourage him to be tested and discover that he is a genius (?with dyslexia?) and arrange for him to try for a special school in Haifa. Shlomi's mother will hear none of it but between fights with Shlomi's absentee father (Albert Iluz) and confrontations with the teacher and headmaster they finally consent to his testing for the school.Meanwhile Shlomi discovers a girl his age Rona (Aya Koren) who has moved in next door and gradually the two become intertwined in a physical and intellectual relationship. Always in the background is the support of Shlomi's grandfather, and when the grandfather dies, Shlomi sets off on the journey to live his life for himself, to realize his gifts, to find his happiness. The manner in which the family comes to grips with this is the peak of the movie and need not be revealed for the sake of loosing the power of the message.The film is beautifully photographed, the musical score is creatively lovely, and the final result is one of exaltation of the human spirit. Highly recommended on every level. In Hebrew with English subtitles.\"</td>\n",
              "      <td>neg</td>\n",
              "      <td>pos</td>\n",
              "    </tr>\n",
              "    <tr>\n",
              "      <th>1</th>\n",
              "      <td>b\"This film was really a breath of fresh air from the load of Hollywood crap I've seen recently. The acting is superb and the characters are engaging and oddly endearing. There really isn't much to the story, it's simple and it works well. An easy film to just sit down and enjoy. The mood was fantastic and the sets really helped push the movie along and offered some nice visuals. The film obviously has aspects of horror, yet is geared a little more towards the humorous side of things. You won't be laughing out loud hysterically with this one, but you'll be smiling the whole way through. The humor works very well with the characters and the superb acting doesn't hurt. I really watched this movie based on the fact that Ron Perlman was in it. His role is a bit smaller than I expected, but it doesn't matter; the rest of the cast does more than enough to keep you engaged. If you like horror, watch this. If you like comedies, watch this. Just go ahead and watch this anyway, it's really quite excellent.\"</td>\n",
              "      <td>pos</td>\n",
              "      <td>pos</td>\n",
              "    </tr>\n",
              "    <tr>\n",
              "      <th>2</th>\n",
              "      <td>b'An interesting and involved film about a \"lifer\" just trying to live out his days peacefully. Elements of the main character appear in Michael Mann\\'s later films, like Thief (1981), Heat (1995), and so on. You can see this one at the UCLA Instructional Media Laboratory-- one of the only places in the country that has copies readily available to the public. It\\'s a great one!'</td>\n",
              "      <td>neg</td>\n",
              "      <td>pos</td>\n",
              "    </tr>\n",
              "    <tr>\n",
              "      <th>3</th>\n",
              "      <td>b'I saw the short titled \"The Reader\" recently and found that the movie was well planned and executed. I really felt for both characters that Morgan Hallett and Elizabeth Franz portray in this film. Elizabeth was able to show great range with her blind character and left me feeling emotionally connected. Morgan was able to sell to me that she was totally committed in keeping \"Sissy\" or Franz protected from the grief of losing her sister who had been living in Copenhagen. The great thing about the film was in the short running time and budget of only ten thousand dollars, Duncan Rodgers was able to make a very well made film that kept the interest of the viewer. Rodgers has a great insight into the actor\\'s ability and transition great camera angles to showcase their talent. I always feel if a director can make a great film with a small budget then what can he or she do with a much larger one. Great job Duncan!!'</td>\n",
              "      <td>neg</td>\n",
              "      <td>pos</td>\n",
              "    </tr>\n",
              "    <tr>\n",
              "      <th>4</th>\n",
              "      <td>b'I had the privilege to watch Mar Adentro last Friday, and I am still shocked by its beauty, the powerful work of every single actor and actress and Amenabar\\'s unbelievable ability to narrate the story of Ram\\xc3\\xb3n Sampedro, who was well known in Spain for asking for a legal euthanasia, lost the court cause, and eventually died in front of a camera drinking a glass with poison, freezing all our hearts with his determination not to go on living forever immobilized because of an accident. &lt;br /&gt;&lt;br /&gt;Before watching the movie I was already mesmerized by the strong symbology in its title, which I would translate as \"Into the Sea\" and not as some suggest \"Out to sea\", and which is taken from an original poem written by the man this story is about. Then I watched the movie. Oh my friends. This is Cinema with a capital C. The narration flows to take you to the heart of every single character: Sampedro, reincarnated in a Bardem that you forget from the very beginning, is in the center as a man full of sense of humour and full of hope, and his hope is to die, because for him, the life he is living is not worthy to be lived. The rest of the characters but one dance around him and respect his decision because they see him as a human independent being (forgetting he depends on the others for everything), even though they do love him so much. And this is what the movie is about: love. You can feel it, you can breathe it in the skin of every character. You witness the growing of the feeling within three women who meet him in the movie: Gen\\xc3\\xa9, the member of the association that defend his right to die with dignity, his friend, her story in the movie is the hope for us the lucky ones that can live a normal life in this world; Rosa, the woman who meets a good man in the middle of her list of broken relationships and pain in the hands of all the men who used her and despised her; Julia, the woman who shares a tragic destiny with Ram\\xc3\\xb3n, and eventually acts in a way we cannot but only understand.&lt;br /&gt;&lt;br /&gt;However, before meeting these women Ram\\xc3\\xb3n knew what was love like, because you cannot meet him without loving him, and he is deeply loved by his abnegated family: Four characters unique in their humbleness and bravery, each with their own thoughts about his decision, each thought respectable in its own way, because the terrible thing about this story is that nobody is to blame for what happened. That, sadly, life sometimes is that terrible. From this familiar quartet I specially liked Mabel Rivera\\'s work as Ram\\xc3\\xb3n\\'s sister in law, Manuela: a terrific performance.&lt;br /&gt;&lt;br /&gt;I would like to draw attention to three episodes that are for me the best climax points I have seen in a long time, and if you haven\\'t seen the movie don\\'t read this, pass over this paragraph and read again from the next one starting \"Mar adentro\", let the movie show its secrets to you. The episodes I loved were: 3. The best love scene I have seen in a movie, when I really felt love invading the screen, is when Ram\\xc3\\xb3n dreams awake that he is flying to meet Julia in the beach and they kiss each other. 2. Gen\\xc3\\xa9 speaking by phone with Ram\\xc3\\xb3n, the day before he is going to do it, and he tells her it is better they say goodbye at that very moment, not to put her in trouble with the authorities. And then she knows it is the last time they are going to talk, and she has fought for his right to die... but she does not want to lose him, because she loves him as a true friend, and even though she is respecting his decision at all cost. 1. The best. A young Ram\\xc3\\xb3n in the beach, looking at his girlfriend under the sun, jumping to the water from the rocks to a sea that is retreating. We see the crash, we hear his voice recalling what happened and claiming he should have died that very moment. The face of Bardem, face downward, shown to us from the bottom. And the hand of a friend who pulls him from the forehead and brings him back to a life that will be a hell for him in the next 30 years. There are many others, like the impressive ending, in spite of the fact that in Spain we know too well what Ramon did.&lt;br /&gt;&lt;br /&gt;Mar adentro did not deceive me, Amenabar never does, but this time he has to thank the actors that took part in the project, and who maybe took it personally, because this is not just a movie, it is an elegy to a man who died alone when he was asking to die \"legally\", which meant for him, as Bardem pointed out, dying with the people he loved and who loved him around.'</td>\n",
              "      <td>neg</td>\n",
              "      <td>pos</td>\n",
              "    </tr>\n",
              "  </tbody>\n",
              "</table>\n",
              "</div>\n",
              "      <button class=\"colab-df-convert\" onclick=\"convertToInteractive('df-1c91027b-e8ea-49e0-b0fa-3d7bbd99f829')\"\n",
              "              title=\"Convert this dataframe to an interactive table.\"\n",
              "              style=\"display:none;\">\n",
              "        \n",
              "  <svg xmlns=\"http://www.w3.org/2000/svg\" height=\"24px\"viewBox=\"0 0 24 24\"\n",
              "       width=\"24px\">\n",
              "    <path d=\"M0 0h24v24H0V0z\" fill=\"none\"/>\n",
              "    <path d=\"M18.56 5.44l.94 2.06.94-2.06 2.06-.94-2.06-.94-.94-2.06-.94 2.06-2.06.94zm-11 1L8.5 8.5l.94-2.06 2.06-.94-2.06-.94L8.5 2.5l-.94 2.06-2.06.94zm10 10l.94 2.06.94-2.06 2.06-.94-2.06-.94-.94-2.06-.94 2.06-2.06.94z\"/><path d=\"M17.41 7.96l-1.37-1.37c-.4-.4-.92-.59-1.43-.59-.52 0-1.04.2-1.43.59L10.3 9.45l-7.72 7.72c-.78.78-.78 2.05 0 2.83L4 21.41c.39.39.9.59 1.41.59.51 0 1.02-.2 1.41-.59l7.78-7.78 2.81-2.81c.8-.78.8-2.07 0-2.86zM5.41 20L4 18.59l7.72-7.72 1.47 1.35L5.41 20z\"/>\n",
              "  </svg>\n",
              "      </button>\n",
              "      \n",
              "  <style>\n",
              "    .colab-df-container {\n",
              "      display:flex;\n",
              "      flex-wrap:wrap;\n",
              "      gap: 12px;\n",
              "    }\n",
              "\n",
              "    .colab-df-convert {\n",
              "      background-color: #E8F0FE;\n",
              "      border: none;\n",
              "      border-radius: 50%;\n",
              "      cursor: pointer;\n",
              "      display: none;\n",
              "      fill: #1967D2;\n",
              "      height: 32px;\n",
              "      padding: 0 0 0 0;\n",
              "      width: 32px;\n",
              "    }\n",
              "\n",
              "    .colab-df-convert:hover {\n",
              "      background-color: #E2EBFA;\n",
              "      box-shadow: 0px 1px 2px rgba(60, 64, 67, 0.3), 0px 1px 3px 1px rgba(60, 64, 67, 0.15);\n",
              "      fill: #174EA6;\n",
              "    }\n",
              "\n",
              "    [theme=dark] .colab-df-convert {\n",
              "      background-color: #3B4455;\n",
              "      fill: #D2E3FC;\n",
              "    }\n",
              "\n",
              "    [theme=dark] .colab-df-convert:hover {\n",
              "      background-color: #434B5C;\n",
              "      box-shadow: 0px 1px 3px 1px rgba(0, 0, 0, 0.15);\n",
              "      filter: drop-shadow(0px 1px 2px rgba(0, 0, 0, 0.3));\n",
              "      fill: #FFFFFF;\n",
              "    }\n",
              "  </style>\n",
              "\n",
              "      <script>\n",
              "        const buttonEl =\n",
              "          document.querySelector('#df-1c91027b-e8ea-49e0-b0fa-3d7bbd99f829 button.colab-df-convert');\n",
              "        buttonEl.style.display =\n",
              "          google.colab.kernel.accessAllowed ? 'block' : 'none';\n",
              "\n",
              "        async function convertToInteractive(key) {\n",
              "          const element = document.querySelector('#df-1c91027b-e8ea-49e0-b0fa-3d7bbd99f829');\n",
              "          const dataTable =\n",
              "            await google.colab.kernel.invokeFunction('convertToInteractive',\n",
              "                                                     [key], {});\n",
              "          if (!dataTable) return;\n",
              "\n",
              "          const docLinkHtml = 'Like what you see? Visit the ' +\n",
              "            '<a target=\"_blank\" href=https://colab.research.google.com/notebooks/data_table.ipynb>data table notebook</a>'\n",
              "            + ' to learn more about interactive tables.';\n",
              "          element.innerHTML = '';\n",
              "          dataTable['output_type'] = 'display_data';\n",
              "          await google.colab.output.renderOutput(dataTable, element);\n",
              "          const docLink = document.createElement('div');\n",
              "          docLink.innerHTML = docLinkHtml;\n",
              "          element.appendChild(docLink);\n",
              "        }\n",
              "      </script>\n",
              "    </div>\n",
              "  </div>\n",
              "  "
            ]
          },
          "metadata": {}
        },
        {
          "output_type": "display_data",
          "data": {
            "text/plain": [
              "                                                                                                                                                                                                                                                                                                                                                                                                                                                                                                                                                                                                                                                                                                                                                                                                                                                                                                                                                                                                                                                                                                                                                                                                                                                                                                                                                                                                                                                                                                                                                                                                                                                                                                                                                                                                                                                                                                                                                                                                                                                                                                                                                                                                                                                                                                                                                                                                                                                                                                                                                                                                                                                                                                                                                                                                                                                                                                                                                                                                                                                                                                                                                                                                                                                                                                                                                                                                                                                                                                                                                                                                                                                                                                                                                                                                                                                                                                                                                                                                                                                                                                                                                                                                                                                                                                                                                                                                                                                                                                                                                                                                                                                                                                                                                    txt  \\\n",
              "0                                                                                                                                                                                                                                                                                                                                                                                                                                                                                                                                                                                                                                                                                                                                                                                                                                                                                                                                                                                                                                                                                                                                                                                                                                                                                                                                                                                                                                                                                                                                                                                                                                                                                                                                                                                            b\"BONJOUR, MONSIEUR SHLOMI is simply a wonderful film! Writer/Director Shemi Zarhin has created a story unlike any other and cast it with such consistently fine actors that it remains a puzzle to me that this film has not become an audience favorite throughout the world. It is intelligent, emotional, edifying, and warm, entertaining, and in all categories it is a winner.Shlomi (Oshri Cohen, in a brilliantly understated performance) is a 16-year-old lad who takes care of his highly dysfunctional family: his mother (Esti Zakheim) is about as distasteful a shrew as ever concocted and in a constant state of ill temper because of her husband cheated on her, and because she is stuck working double shifts to support her ailing father-in-law (Ariek Elias, who as Shlomi's grandfather is a bright, funny, wise, loving old man who deeply cares for Shlomi); a married sister Ziva (Rotem Abuhab)who periodically moves back in to the house because of constant spats with her husband who doesn't help her care for their infant twin sons; his brother Sasi (Assi Cohen) whose life is loud electric guitars, braggadocio about female conquests, and the favorite son of his mother. Stir this mixture and the result is the penultimate dysfunctional family unit. Shlomi cooks gourmet meals for them, shops, cleans house, runs errands, bathes and cares for this grandfather and in general leads a life of submission to a family that views him as a 'retard'.Shlomi longs for a girlfriend and practically fails his school because of his lack of time devoted to caring for his family and a lack of concentration. Serendipitously his math teacher Begin (Nisso Keavia) notes his natural mathematic genius on a discarded test, and with the aid of the headmaster (Yigal Nair) the two encourage him to be tested and discover that he is a genius (?with dyslexia?) and arrange for him to try for a special school in Haifa. Shlomi's mother will hear none of it but between fights with Shlomi's absentee father (Albert Iluz) and confrontations with the teacher and headmaster they finally consent to his testing for the school.Meanwhile Shlomi discovers a girl his age Rona (Aya Koren) who has moved in next door and gradually the two become intertwined in a physical and intellectual relationship. Always in the background is the support of Shlomi's grandfather, and when the grandfather dies, Shlomi sets off on the journey to live his life for himself, to realize his gifts, to find his happiness. The manner in which the family comes to grips with this is the peak of the movie and need not be revealed for the sake of loosing the power of the message.The film is beautifully photographed, the musical score is creatively lovely, and the final result is one of exaltation of the human spirit. Highly recommended on every level. In Hebrew with English subtitles.\"   \n",
              "2                                                                                                                                                                                                                                                                                                                                                                                                                                                                                                                                                                                                                                                                                                                                                                                                                                                                                                                                                                                                                                                                                                                                                                                                                                                                                                                                                                                                                                                                                                                                                                                                                                                                                                                                                                                                                                                                                                                                                                                                                                                                                                                                                                                                                                                                                                                                                                                                                                                                                                                                                                                                                                                                                                                                                                                                                                                                                                                                                                                                                                                                                                                                                                                                                                                                                                                                                                                                                                                                                                                                                                                                                                                                                                                                                                                                                                                                                                                                                                                                                                                                                                                                                                                                                                                                                                                                                         b'An interesting and involved film about a \"lifer\" just trying to live out his days peacefully. Elements of the main character appear in Michael Mann\\'s later films, like Thief (1981), Heat (1995), and so on. You can see this one at the UCLA Instructional Media Laboratory-- one of the only places in the country that has copies readily available to the public. It\\'s a great one!'   \n",
              "3                                                                                                                                                                                                                                                                                                                                                                                                                                                                                                                                                                                                                                                                                                                                                                                                                                                                                                                                                                                                                                                                                                                                                                                                                                                                                                                                                                                                                                                                                                                                                                                                                                                                                                                                                                                                                                                                                                                                                                                                                                                                                                                                                                                                                                                                                                                                                                                                                                                                                                                                                                                                                                                                                                                                                                                                                                                                                                                                                                                                                                                                                                                                                                                                                                                                                                                                                                                                                                                                                                                                                                                                                                                                                                                                                                                         b'I saw the short titled \"The Reader\" recently and found that the movie was well planned and executed. I really felt for both characters that Morgan Hallett and Elizabeth Franz portray in this film. Elizabeth was able to show great range with her blind character and left me feeling emotionally connected. Morgan was able to sell to me that she was totally committed in keeping \"Sissy\" or Franz protected from the grief of losing her sister who had been living in Copenhagen. The great thing about the film was in the short running time and budget of only ten thousand dollars, Duncan Rodgers was able to make a very well made film that kept the interest of the viewer. Rodgers has a great insight into the actor\\'s ability and transition great camera angles to showcase their talent. I always feel if a director can make a great film with a small budget then what can he or she do with a much larger one. Great job Duncan!!'   \n",
              "4  b'I had the privilege to watch Mar Adentro last Friday, and I am still shocked by its beauty, the powerful work of every single actor and actress and Amenabar\\'s unbelievable ability to narrate the story of Ram\\xc3\\xb3n Sampedro, who was well known in Spain for asking for a legal euthanasia, lost the court cause, and eventually died in front of a camera drinking a glass with poison, freezing all our hearts with his determination not to go on living forever immobilized because of an accident. <br /><br />Before watching the movie I was already mesmerized by the strong symbology in its title, which I would translate as \"Into the Sea\" and not as some suggest \"Out to sea\", and which is taken from an original poem written by the man this story is about. Then I watched the movie. Oh my friends. This is Cinema with a capital C. The narration flows to take you to the heart of every single character: Sampedro, reincarnated in a Bardem that you forget from the very beginning, is in the center as a man full of sense of humour and full of hope, and his hope is to die, because for him, the life he is living is not worthy to be lived. The rest of the characters but one dance around him and respect his decision because they see him as a human independent being (forgetting he depends on the others for everything), even though they do love him so much. And this is what the movie is about: love. You can feel it, you can breathe it in the skin of every character. You witness the growing of the feeling within three women who meet him in the movie: Gen\\xc3\\xa9, the member of the association that defend his right to die with dignity, his friend, her story in the movie is the hope for us the lucky ones that can live a normal life in this world; Rosa, the woman who meets a good man in the middle of her list of broken relationships and pain in the hands of all the men who used her and despised her; Julia, the woman who shares a tragic destiny with Ram\\xc3\\xb3n, and eventually acts in a way we cannot but only understand.<br /><br />However, before meeting these women Ram\\xc3\\xb3n knew what was love like, because you cannot meet him without loving him, and he is deeply loved by his abnegated family: Four characters unique in their humbleness and bravery, each with their own thoughts about his decision, each thought respectable in its own way, because the terrible thing about this story is that nobody is to blame for what happened. That, sadly, life sometimes is that terrible. From this familiar quartet I specially liked Mabel Rivera\\'s work as Ram\\xc3\\xb3n\\'s sister in law, Manuela: a terrific performance.<br /><br />I would like to draw attention to three episodes that are for me the best climax points I have seen in a long time, and if you haven\\'t seen the movie don\\'t read this, pass over this paragraph and read again from the next one starting \"Mar adentro\", let the movie show its secrets to you. The episodes I loved were: 3. The best love scene I have seen in a movie, when I really felt love invading the screen, is when Ram\\xc3\\xb3n dreams awake that he is flying to meet Julia in the beach and they kiss each other. 2. Gen\\xc3\\xa9 speaking by phone with Ram\\xc3\\xb3n, the day before he is going to do it, and he tells her it is better they say goodbye at that very moment, not to put her in trouble with the authorities. And then she knows it is the last time they are going to talk, and she has fought for his right to die... but she does not want to lose him, because she loves him as a true friend, and even though she is respecting his decision at all cost. 1. The best. A young Ram\\xc3\\xb3n in the beach, looking at his girlfriend under the sun, jumping to the water from the rocks to a sea that is retreating. We see the crash, we hear his voice recalling what happened and claiming he should have died that very moment. The face of Bardem, face downward, shown to us from the bottom. And the hand of a friend who pulls him from the forehead and brings him back to a life that will be a hell for him in the next 30 years. There are many others, like the impressive ending, in spite of the fact that in Spain we know too well what Ramon did.<br /><br />Mar adentro did not deceive me, Amenabar never does, but this time he has to thank the actors that took part in the project, and who maybe took it personally, because this is not just a movie, it is an elegy to a man who died alone when he was asking to die \"legally\", which meant for him, as Bardem pointed out, dying with the people he loved and who loved him around.'   \n",
              "9                                                                                                                                                                                                                                                                                                                                                                                                                                                                                                                                                                                                                                                                                                                                                                                                                                                                                                                                                                                                                                                                                                                                                                                                                                                                                                                                                                                                                                                                                                                                                                                                                                                                                                                                                                                                                                                                                                                                                                                                                                                                                                                                                                                                                                                                                                                                                                                                                                                                                                                                                                                                                                                                                                                                                                                                                                                                                                                                                                                                                                                                                                                                                                                                                                                                                                                                                                                                                                                                                                                                                                                                                                                                                                                                                                                                                                                                                                                                                                                               b\"GZSZ is the longest running daily soap in Germany and it's cult! I started watching it from the first day on and I got hooked on it right from the start. Over the years so much has changed, the old characters like Heiko, Elke, Tina, Saskia etc. left, and new ones appeared like Marie, Kai, Cora or John. I have to say that I liked GZSZ better in the years 1995-2000 because today the show focuses too much on the younger characters. My favorite character is Sonja Wiebe because she is the most scheming person that has ever been on that soap and she is also one of the most interesting characters on the show. Tina Bordihn was great as the first Sonja but as Tokessa became the recast of Sonja the character got even better.\"   \n",
              "\n",
              "  predictions actual_values  \n",
              "0         neg           pos  \n",
              "2         neg           pos  \n",
              "3         neg           pos  \n",
              "4         neg           pos  \n",
              "9         neg           pos  "
            ],
            "text/html": [
              "\n",
              "  <div id=\"df-29c46090-eeb3-41c8-8bc1-3d82c08e74fd\">\n",
              "    <div class=\"colab-df-container\">\n",
              "      <div>\n",
              "<style scoped>\n",
              "    .dataframe tbody tr th:only-of-type {\n",
              "        vertical-align: middle;\n",
              "    }\n",
              "\n",
              "    .dataframe tbody tr th {\n",
              "        vertical-align: top;\n",
              "    }\n",
              "\n",
              "    .dataframe thead th {\n",
              "        text-align: right;\n",
              "    }\n",
              "</style>\n",
              "<table border=\"1\" class=\"dataframe\">\n",
              "  <thead>\n",
              "    <tr style=\"text-align: right;\">\n",
              "      <th></th>\n",
              "      <th>txt</th>\n",
              "      <th>predictions</th>\n",
              "      <th>actual_values</th>\n",
              "    </tr>\n",
              "  </thead>\n",
              "  <tbody>\n",
              "    <tr>\n",
              "      <th>0</th>\n",
              "      <td>b\"BONJOUR, MONSIEUR SHLOMI is simply a wonderful film! Writer/Director Shemi Zarhin has created a story unlike any other and cast it with such consistently fine actors that it remains a puzzle to me that this film has not become an audience favorite throughout the world. It is intelligent, emotional, edifying, and warm, entertaining, and in all categories it is a winner.Shlomi (Oshri Cohen, in a brilliantly understated performance) is a 16-year-old lad who takes care of his highly dysfunctional family: his mother (Esti Zakheim) is about as distasteful a shrew as ever concocted and in a constant state of ill temper because of her husband cheated on her, and because she is stuck working double shifts to support her ailing father-in-law (Ariek Elias, who as Shlomi's grandfather is a bright, funny, wise, loving old man who deeply cares for Shlomi); a married sister Ziva (Rotem Abuhab)who periodically moves back in to the house because of constant spats with her husband who doesn't help her care for their infant twin sons; his brother Sasi (Assi Cohen) whose life is loud electric guitars, braggadocio about female conquests, and the favorite son of his mother. Stir this mixture and the result is the penultimate dysfunctional family unit. Shlomi cooks gourmet meals for them, shops, cleans house, runs errands, bathes and cares for this grandfather and in general leads a life of submission to a family that views him as a 'retard'.Shlomi longs for a girlfriend and practically fails his school because of his lack of time devoted to caring for his family and a lack of concentration. Serendipitously his math teacher Begin (Nisso Keavia) notes his natural mathematic genius on a discarded test, and with the aid of the headmaster (Yigal Nair) the two encourage him to be tested and discover that he is a genius (?with dyslexia?) and arrange for him to try for a special school in Haifa. Shlomi's mother will hear none of it but between fights with Shlomi's absentee father (Albert Iluz) and confrontations with the teacher and headmaster they finally consent to his testing for the school.Meanwhile Shlomi discovers a girl his age Rona (Aya Koren) who has moved in next door and gradually the two become intertwined in a physical and intellectual relationship. Always in the background is the support of Shlomi's grandfather, and when the grandfather dies, Shlomi sets off on the journey to live his life for himself, to realize his gifts, to find his happiness. The manner in which the family comes to grips with this is the peak of the movie and need not be revealed for the sake of loosing the power of the message.The film is beautifully photographed, the musical score is creatively lovely, and the final result is one of exaltation of the human spirit. Highly recommended on every level. In Hebrew with English subtitles.\"</td>\n",
              "      <td>neg</td>\n",
              "      <td>pos</td>\n",
              "    </tr>\n",
              "    <tr>\n",
              "      <th>2</th>\n",
              "      <td>b'An interesting and involved film about a \"lifer\" just trying to live out his days peacefully. Elements of the main character appear in Michael Mann\\'s later films, like Thief (1981), Heat (1995), and so on. You can see this one at the UCLA Instructional Media Laboratory-- one of the only places in the country that has copies readily available to the public. It\\'s a great one!'</td>\n",
              "      <td>neg</td>\n",
              "      <td>pos</td>\n",
              "    </tr>\n",
              "    <tr>\n",
              "      <th>3</th>\n",
              "      <td>b'I saw the short titled \"The Reader\" recently and found that the movie was well planned and executed. I really felt for both characters that Morgan Hallett and Elizabeth Franz portray in this film. Elizabeth was able to show great range with her blind character and left me feeling emotionally connected. Morgan was able to sell to me that she was totally committed in keeping \"Sissy\" or Franz protected from the grief of losing her sister who had been living in Copenhagen. The great thing about the film was in the short running time and budget of only ten thousand dollars, Duncan Rodgers was able to make a very well made film that kept the interest of the viewer. Rodgers has a great insight into the actor\\'s ability and transition great camera angles to showcase their talent. I always feel if a director can make a great film with a small budget then what can he or she do with a much larger one. Great job Duncan!!'</td>\n",
              "      <td>neg</td>\n",
              "      <td>pos</td>\n",
              "    </tr>\n",
              "    <tr>\n",
              "      <th>4</th>\n",
              "      <td>b'I had the privilege to watch Mar Adentro last Friday, and I am still shocked by its beauty, the powerful work of every single actor and actress and Amenabar\\'s unbelievable ability to narrate the story of Ram\\xc3\\xb3n Sampedro, who was well known in Spain for asking for a legal euthanasia, lost the court cause, and eventually died in front of a camera drinking a glass with poison, freezing all our hearts with his determination not to go on living forever immobilized because of an accident. &lt;br /&gt;&lt;br /&gt;Before watching the movie I was already mesmerized by the strong symbology in its title, which I would translate as \"Into the Sea\" and not as some suggest \"Out to sea\", and which is taken from an original poem written by the man this story is about. Then I watched the movie. Oh my friends. This is Cinema with a capital C. The narration flows to take you to the heart of every single character: Sampedro, reincarnated in a Bardem that you forget from the very beginning, is in the center as a man full of sense of humour and full of hope, and his hope is to die, because for him, the life he is living is not worthy to be lived. The rest of the characters but one dance around him and respect his decision because they see him as a human independent being (forgetting he depends on the others for everything), even though they do love him so much. And this is what the movie is about: love. You can feel it, you can breathe it in the skin of every character. You witness the growing of the feeling within three women who meet him in the movie: Gen\\xc3\\xa9, the member of the association that defend his right to die with dignity, his friend, her story in the movie is the hope for us the lucky ones that can live a normal life in this world; Rosa, the woman who meets a good man in the middle of her list of broken relationships and pain in the hands of all the men who used her and despised her; Julia, the woman who shares a tragic destiny with Ram\\xc3\\xb3n, and eventually acts in a way we cannot but only understand.&lt;br /&gt;&lt;br /&gt;However, before meeting these women Ram\\xc3\\xb3n knew what was love like, because you cannot meet him without loving him, and he is deeply loved by his abnegated family: Four characters unique in their humbleness and bravery, each with their own thoughts about his decision, each thought respectable in its own way, because the terrible thing about this story is that nobody is to blame for what happened. That, sadly, life sometimes is that terrible. From this familiar quartet I specially liked Mabel Rivera\\'s work as Ram\\xc3\\xb3n\\'s sister in law, Manuela: a terrific performance.&lt;br /&gt;&lt;br /&gt;I would like to draw attention to three episodes that are for me the best climax points I have seen in a long time, and if you haven\\'t seen the movie don\\'t read this, pass over this paragraph and read again from the next one starting \"Mar adentro\", let the movie show its secrets to you. The episodes I loved were: 3. The best love scene I have seen in a movie, when I really felt love invading the screen, is when Ram\\xc3\\xb3n dreams awake that he is flying to meet Julia in the beach and they kiss each other. 2. Gen\\xc3\\xa9 speaking by phone with Ram\\xc3\\xb3n, the day before he is going to do it, and he tells her it is better they say goodbye at that very moment, not to put her in trouble with the authorities. And then she knows it is the last time they are going to talk, and she has fought for his right to die... but she does not want to lose him, because she loves him as a true friend, and even though she is respecting his decision at all cost. 1. The best. A young Ram\\xc3\\xb3n in the beach, looking at his girlfriend under the sun, jumping to the water from the rocks to a sea that is retreating. We see the crash, we hear his voice recalling what happened and claiming he should have died that very moment. The face of Bardem, face downward, shown to us from the bottom. And the hand of a friend who pulls him from the forehead and brings him back to a life that will be a hell for him in the next 30 years. There are many others, like the impressive ending, in spite of the fact that in Spain we know too well what Ramon did.&lt;br /&gt;&lt;br /&gt;Mar adentro did not deceive me, Amenabar never does, but this time he has to thank the actors that took part in the project, and who maybe took it personally, because this is not just a movie, it is an elegy to a man who died alone when he was asking to die \"legally\", which meant for him, as Bardem pointed out, dying with the people he loved and who loved him around.'</td>\n",
              "      <td>neg</td>\n",
              "      <td>pos</td>\n",
              "    </tr>\n",
              "    <tr>\n",
              "      <th>9</th>\n",
              "      <td>b\"GZSZ is the longest running daily soap in Germany and it's cult! I started watching it from the first day on and I got hooked on it right from the start. Over the years so much has changed, the old characters like Heiko, Elke, Tina, Saskia etc. left, and new ones appeared like Marie, Kai, Cora or John. I have to say that I liked GZSZ better in the years 1995-2000 because today the show focuses too much on the younger characters. My favorite character is Sonja Wiebe because she is the most scheming person that has ever been on that soap and she is also one of the most interesting characters on the show. Tina Bordihn was great as the first Sonja but as Tokessa became the recast of Sonja the character got even better.\"</td>\n",
              "      <td>neg</td>\n",
              "      <td>pos</td>\n",
              "    </tr>\n",
              "  </tbody>\n",
              "</table>\n",
              "</div>\n",
              "      <button class=\"colab-df-convert\" onclick=\"convertToInteractive('df-29c46090-eeb3-41c8-8bc1-3d82c08e74fd')\"\n",
              "              title=\"Convert this dataframe to an interactive table.\"\n",
              "              style=\"display:none;\">\n",
              "        \n",
              "  <svg xmlns=\"http://www.w3.org/2000/svg\" height=\"24px\"viewBox=\"0 0 24 24\"\n",
              "       width=\"24px\">\n",
              "    <path d=\"M0 0h24v24H0V0z\" fill=\"none\"/>\n",
              "    <path d=\"M18.56 5.44l.94 2.06.94-2.06 2.06-.94-2.06-.94-.94-2.06-.94 2.06-2.06.94zm-11 1L8.5 8.5l.94-2.06 2.06-.94-2.06-.94L8.5 2.5l-.94 2.06-2.06.94zm10 10l.94 2.06.94-2.06 2.06-.94-2.06-.94-.94-2.06-.94 2.06-2.06.94z\"/><path d=\"M17.41 7.96l-1.37-1.37c-.4-.4-.92-.59-1.43-.59-.52 0-1.04.2-1.43.59L10.3 9.45l-7.72 7.72c-.78.78-.78 2.05 0 2.83L4 21.41c.39.39.9.59 1.41.59.51 0 1.02-.2 1.41-.59l7.78-7.78 2.81-2.81c.8-.78.8-2.07 0-2.86zM5.41 20L4 18.59l7.72-7.72 1.47 1.35L5.41 20z\"/>\n",
              "  </svg>\n",
              "      </button>\n",
              "      \n",
              "  <style>\n",
              "    .colab-df-container {\n",
              "      display:flex;\n",
              "      flex-wrap:wrap;\n",
              "      gap: 12px;\n",
              "    }\n",
              "\n",
              "    .colab-df-convert {\n",
              "      background-color: #E8F0FE;\n",
              "      border: none;\n",
              "      border-radius: 50%;\n",
              "      cursor: pointer;\n",
              "      display: none;\n",
              "      fill: #1967D2;\n",
              "      height: 32px;\n",
              "      padding: 0 0 0 0;\n",
              "      width: 32px;\n",
              "    }\n",
              "\n",
              "    .colab-df-convert:hover {\n",
              "      background-color: #E2EBFA;\n",
              "      box-shadow: 0px 1px 2px rgba(60, 64, 67, 0.3), 0px 1px 3px 1px rgba(60, 64, 67, 0.15);\n",
              "      fill: #174EA6;\n",
              "    }\n",
              "\n",
              "    [theme=dark] .colab-df-convert {\n",
              "      background-color: #3B4455;\n",
              "      fill: #D2E3FC;\n",
              "    }\n",
              "\n",
              "    [theme=dark] .colab-df-convert:hover {\n",
              "      background-color: #434B5C;\n",
              "      box-shadow: 0px 1px 3px 1px rgba(0, 0, 0, 0.15);\n",
              "      filter: drop-shadow(0px 1px 2px rgba(0, 0, 0, 0.3));\n",
              "      fill: #FFFFFF;\n",
              "    }\n",
              "  </style>\n",
              "\n",
              "      <script>\n",
              "        const buttonEl =\n",
              "          document.querySelector('#df-29c46090-eeb3-41c8-8bc1-3d82c08e74fd button.colab-df-convert');\n",
              "        buttonEl.style.display =\n",
              "          google.colab.kernel.accessAllowed ? 'block' : 'none';\n",
              "\n",
              "        async function convertToInteractive(key) {\n",
              "          const element = document.querySelector('#df-29c46090-eeb3-41c8-8bc1-3d82c08e74fd');\n",
              "          const dataTable =\n",
              "            await google.colab.kernel.invokeFunction('convertToInteractive',\n",
              "                                                     [key], {});\n",
              "          if (!dataTable) return;\n",
              "\n",
              "          const docLinkHtml = 'Like what you see? Visit the ' +\n",
              "            '<a target=\"_blank\" href=https://colab.research.google.com/notebooks/data_table.ipynb>data table notebook</a>'\n",
              "            + ' to learn more about interactive tables.';\n",
              "          element.innerHTML = '';\n",
              "          dataTable['output_type'] = 'display_data';\n",
              "          await google.colab.output.renderOutput(dataTable, element);\n",
              "          const docLink = document.createElement('div');\n",
              "          docLink.innerHTML = docLinkHtml;\n",
              "          element.appendChild(docLink);\n",
              "        }\n",
              "      </script>\n",
              "    </div>\n",
              "  </div>\n",
              "  "
            ]
          },
          "metadata": {}
        },
        {
          "output_type": "stream",
          "name": "stdout",
          "text": [
            "n° of failing predictions: 12619\n",
            "accuracy: 0.49524\n"
          ]
        }
      ]
    },
    {
      "cell_type": "code",
      "source": [
        "inputs = tf.keras.Input(shape=(1,), dtype=\"string\")\n",
        "# Turn strings into vocab indices\n",
        "indices = vectorize_layer(inputs)\n",
        "# Turn vocab indices into predictions\n",
        "outputs = model(indices)\n",
        "\n",
        "# Our end to end model\n",
        "end_to_end_model = tf.keras.Model(inputs, outputs)\n",
        "end_to_end_model.compile(\n",
        "    loss=\"sparse_categorical_crossentropy\", optimizer=\"rmsprop\", metrics=[\"accuracy\"]\n",
        "    # loss=\"binary_crossentropy\", optimizer=\"adam\", metrics=[\"accuracy\"]\n",
        ")\n",
        "\n",
        "# Test it with `raw_test_ds`, which yields raw strings\n",
        "end_to_end_model.evaluate(raw_test_ds)"
      ],
      "metadata": {
        "colab": {
          "base_uri": "https://localhost:8080/"
        },
        "id": "31BQF3vj-hPr",
        "outputId": "8386a99d-6015-4c6e-9359-982ec3b150e6"
      },
      "execution_count": 354,
      "outputs": [
        {
          "output_type": "stream",
          "name": "stdout",
          "text": [
            "782/782 [==============================] - 15s 18ms/step - loss: 0.5138 - accuracy: 0.7951\n"
          ]
        },
        {
          "output_type": "execute_result",
          "data": {
            "text/plain": [
              "[0.5138289332389832, 0.7950800061225891]"
            ]
          },
          "metadata": {},
          "execution_count": 354
        }
      ]
    },
    {
      "cell_type": "code",
      "source": [
        "x1 = 'this movie is very good, I liked a lot, it is a masterpiece'\n",
        "x2 = 'it was unwatchable'\n",
        "x3 = \"This is the worst movie of ALL TIME! It's one of those that is so ridiculous and the acting so bad that you turn off the video 1/3 into it so that you can use your time for better purposes like cleaning the toilet. If you actually watch the whole thing, GOD help you\"\n",
        "# pred_raw = end_to_end_model.predict([x1,x2,x3])\n",
        "\n",
        "batches = len(raw_test_ds) // batch_size\n",
        "print(batches)\n",
        "\n",
        "txt_test = []\n",
        "pred_test = []\n",
        "actual_test = []\n",
        "\n",
        "for j in range(len(raw_test_ds)):\n",
        "  # print('batch n: ',j+1)\n",
        "  tmp = raw_test_ds.take(1)\n",
        "  pred_raw = end_to_end_model.predict(tmp)\n",
        "  for text_batch, label_batch in tmp:\n",
        "      for i in range(len(pred_raw)):\n",
        "          txt1 = text_batch.numpy()[i]\n",
        "          lbl1 = label_batch.numpy()[i]\n",
        "          \n",
        "          txt_test.append(txt1)\n",
        "          actual_test.append(labels[lbl1])\n",
        "          pred_test.append(labels[np.argmax(pred_raw[i])])\n",
        "\n",
        "          # print(txt1)\n",
        "          # print(labels[lbl1],labels[np.argmax(pred_raw[i])])\n",
        "\n",
        "\n",
        "\n"
      ],
      "metadata": {
        "colab": {
          "base_uri": "https://localhost:8080/"
        },
        "id": "6Pvdcvdd-q_U",
        "outputId": "2eb35207-8008-4925-e021-e4fb1f6a5c88"
      },
      "execution_count": 355,
      "outputs": [
        {
          "output_type": "stream",
          "name": "stdout",
          "text": [
            "24\n"
          ]
        }
      ]
    },
    {
      "cell_type": "code",
      "source": [
        "txt_test = np.asarray(txt_test)\n",
        "actual_test = np.asarray(actual_test)\n",
        "pred_test = np.asarray(pred_test)"
      ],
      "metadata": {
        "id": "kw5SiU1HhSSJ"
      },
      "execution_count": 356,
      "outputs": []
    },
    {
      "cell_type": "code",
      "source": [
        "df = pd.DataFrame({'text':txt_test,'actual':actual_test,'predicted':pred_test})\n",
        "df.head()"
      ],
      "metadata": {
        "colab": {
          "base_uri": "https://localhost:8080/",
          "height": 805
        },
        "id": "YUKxFWpHeMe8",
        "outputId": "24ac8209-06e9-431d-b616-f9562c417d47"
      },
      "execution_count": 357,
      "outputs": [
        {
          "output_type": "execute_result",
          "data": {
            "text/plain": [
              "                                                                                                                                                                                                                                                                                                                                                                                                                                                                                                                                                                                                                                                                                                                                                                                                                                                                                                                                                                                                                                                                                                                                                                                                                                                                                                                                                              text  \\\n",
              "0  b'I saw and have the original 1959 black and white that stars Shelley Winters and Millie Perkins and no matter how many times I watch it, I can\\'t help but not to cry.<br /><br />This version was (obviously) a set, like the 1959 was, but there were so many mistakes in layout. Spiral staircase? Items that did not exist in that time period existed in the film. Doris Roberts, sad to say CANNOT play drama, she a comedic actress and that will not change. James Coco was a horrible Mr. Van Daan and Mr. Dussel resembled a college professor of mine rather then the dentist he was supposed to play. In the original film, Anne walked the \"gauntlet\" to go to Peter\\'s room, that seemed to take her more then a minute. In this crappy remake, it took her under 10 seconds. The first reviewer was correct... This remake is just that, a remake. What was the director thinking casting comedic actors in a drama role like that. I\\'m sorry but James Coco cannot play drama. Max.. Schell was better in Deep Impact then this movie. The cranky Mrs. Frank was just that cranky, I couldn\\'t stand her. Referencing and comparing to the 1959 version, I like her better, she did a better job of being the overwhelming mother. Out of 10 stars, I give this remake 3. Don\\'t waste your time, get the 1959 version and a box of Kleenex.'   \n",
              "1                                                                                                                                                                                                                                                                                                                                                                                                                                                                                                                                                                                                                                                                                                                 b\"This is a well-crafted piece from everyone's favorite master of suspense. As usual, the technical elements such as camera work and lighting are outstanding (especially for the film's time). I did not find the first part of the film very exciting, but the latter one certainly made up for it with one thrilling scene after another.<br /><br />The only thing I did not like about this movie was the choice of Farley Granger for the part of Guy Haines. Somehow, I didn't find him very believable. On the other hand, Robert Walker shines as sinister 'bad guy' Bruno Anthony.<br /><br />Overall, I would highly recommend this.\"   \n",
              "2                                          b'an excellent, thoughtfully produced historical drama--well played, artfully written, shot in ways that convey accurate visual images of the congo, and with more than a few moving moments, especially for those who care about the history of Africa and imperialism. however, a fair amount of worthwhile content gets lost in translation, and because names, acronyms, and so forth are hard to follow. so i would strongly recommend checking a neutral source such as wikipedia to get a basic sense of the story being depicted (and the subsequent history) before enjoying the film. if you have the DVD version, there is also some useful historical background. there is a point towards the end of the film where the name of a character who then speaks with an American accent is actually beeped out--a simple google search of \"lumumba film censor\" or something similar will reveal a truly fascinating (and perhaps disturbing) twist regarding the production of this important film. this film, if coupled with a little outside research, helps contextualize dozens of other films relating to central/east Africa and/or imperialism, e.g. hotel rwanda, shake hands with the devil, various adaptations of conrad\\'s heart of darkness, and even \"ali\" when mohammed ali visits kinshasa.'   \n",
              "3                                                                                                                                                                                                                                                                                                                                                                                                                                                                                                                                                                                                                                                                                                                                                                                                                                                                                                                                                                                                                  b'Even as a big fan of the low to no budget horror genre, I couldnt find this disaster mildly amusing. With horrible acting, a painfully generic \"plot\" and no dimensional characters, no matter how bored and drunk you are, this one is not worth your 81 minutes. Don\\'t make the same mistake I did. Rent something else. ANYTHING else!!!'   \n",
              "4                                                                                                                                                                                                                                                                                                                                                                                                                                                                                                                                                                                                                                                                                                 b'How pointless, hideous characters and boring film. Saved by brief sex scenes, mad witch, gorgeous desert island and Brooks body. The plot is tenuous, the characters are shallow and unlikeable. Having said that I did manage to watch it all, mainly because I was totally transfixed by the jiggling and kind of hoping that her character would come good in the end. The film was well shot, well directed but perhaps the casting let it down in some ways. Disappointing. Really summed the review up in the first line but this website dictates that you need to write 10 lines minimum. It would be better to spend the time watching another film.'   \n",
              "\n",
              "  actual predicted  \n",
              "0    neg       neg  \n",
              "1    pos       neg  \n",
              "2    pos       neg  \n",
              "3    neg       neg  \n",
              "4    neg       pos  "
            ],
            "text/html": [
              "\n",
              "  <div id=\"df-d87de2ca-24c7-46da-8a6f-320b05fc9de1\">\n",
              "    <div class=\"colab-df-container\">\n",
              "      <div>\n",
              "<style scoped>\n",
              "    .dataframe tbody tr th:only-of-type {\n",
              "        vertical-align: middle;\n",
              "    }\n",
              "\n",
              "    .dataframe tbody tr th {\n",
              "        vertical-align: top;\n",
              "    }\n",
              "\n",
              "    .dataframe thead th {\n",
              "        text-align: right;\n",
              "    }\n",
              "</style>\n",
              "<table border=\"1\" class=\"dataframe\">\n",
              "  <thead>\n",
              "    <tr style=\"text-align: right;\">\n",
              "      <th></th>\n",
              "      <th>text</th>\n",
              "      <th>actual</th>\n",
              "      <th>predicted</th>\n",
              "    </tr>\n",
              "  </thead>\n",
              "  <tbody>\n",
              "    <tr>\n",
              "      <th>0</th>\n",
              "      <td>b'I saw and have the original 1959 black and white that stars Shelley Winters and Millie Perkins and no matter how many times I watch it, I can\\'t help but not to cry.&lt;br /&gt;&lt;br /&gt;This version was (obviously) a set, like the 1959 was, but there were so many mistakes in layout. Spiral staircase? Items that did not exist in that time period existed in the film. Doris Roberts, sad to say CANNOT play drama, she a comedic actress and that will not change. James Coco was a horrible Mr. Van Daan and Mr. Dussel resembled a college professor of mine rather then the dentist he was supposed to play. In the original film, Anne walked the \"gauntlet\" to go to Peter\\'s room, that seemed to take her more then a minute. In this crappy remake, it took her under 10 seconds. The first reviewer was correct... This remake is just that, a remake. What was the director thinking casting comedic actors in a drama role like that. I\\'m sorry but James Coco cannot play drama. Max.. Schell was better in Deep Impact then this movie. The cranky Mrs. Frank was just that cranky, I couldn\\'t stand her. Referencing and comparing to the 1959 version, I like her better, she did a better job of being the overwhelming mother. Out of 10 stars, I give this remake 3. Don\\'t waste your time, get the 1959 version and a box of Kleenex.'</td>\n",
              "      <td>neg</td>\n",
              "      <td>neg</td>\n",
              "    </tr>\n",
              "    <tr>\n",
              "      <th>1</th>\n",
              "      <td>b\"This is a well-crafted piece from everyone's favorite master of suspense. As usual, the technical elements such as camera work and lighting are outstanding (especially for the film's time). I did not find the first part of the film very exciting, but the latter one certainly made up for it with one thrilling scene after another.&lt;br /&gt;&lt;br /&gt;The only thing I did not like about this movie was the choice of Farley Granger for the part of Guy Haines. Somehow, I didn't find him very believable. On the other hand, Robert Walker shines as sinister 'bad guy' Bruno Anthony.&lt;br /&gt;&lt;br /&gt;Overall, I would highly recommend this.\"</td>\n",
              "      <td>pos</td>\n",
              "      <td>neg</td>\n",
              "    </tr>\n",
              "    <tr>\n",
              "      <th>2</th>\n",
              "      <td>b'an excellent, thoughtfully produced historical drama--well played, artfully written, shot in ways that convey accurate visual images of the congo, and with more than a few moving moments, especially for those who care about the history of Africa and imperialism. however, a fair amount of worthwhile content gets lost in translation, and because names, acronyms, and so forth are hard to follow. so i would strongly recommend checking a neutral source such as wikipedia to get a basic sense of the story being depicted (and the subsequent history) before enjoying the film. if you have the DVD version, there is also some useful historical background. there is a point towards the end of the film where the name of a character who then speaks with an American accent is actually beeped out--a simple google search of \"lumumba film censor\" or something similar will reveal a truly fascinating (and perhaps disturbing) twist regarding the production of this important film. this film, if coupled with a little outside research, helps contextualize dozens of other films relating to central/east Africa and/or imperialism, e.g. hotel rwanda, shake hands with the devil, various adaptations of conrad\\'s heart of darkness, and even \"ali\" when mohammed ali visits kinshasa.'</td>\n",
              "      <td>pos</td>\n",
              "      <td>neg</td>\n",
              "    </tr>\n",
              "    <tr>\n",
              "      <th>3</th>\n",
              "      <td>b'Even as a big fan of the low to no budget horror genre, I couldnt find this disaster mildly amusing. With horrible acting, a painfully generic \"plot\" and no dimensional characters, no matter how bored and drunk you are, this one is not worth your 81 minutes. Don\\'t make the same mistake I did. Rent something else. ANYTHING else!!!'</td>\n",
              "      <td>neg</td>\n",
              "      <td>neg</td>\n",
              "    </tr>\n",
              "    <tr>\n",
              "      <th>4</th>\n",
              "      <td>b'How pointless, hideous characters and boring film. Saved by brief sex scenes, mad witch, gorgeous desert island and Brooks body. The plot is tenuous, the characters are shallow and unlikeable. Having said that I did manage to watch it all, mainly because I was totally transfixed by the jiggling and kind of hoping that her character would come good in the end. The film was well shot, well directed but perhaps the casting let it down in some ways. Disappointing. Really summed the review up in the first line but this website dictates that you need to write 10 lines minimum. It would be better to spend the time watching another film.'</td>\n",
              "      <td>neg</td>\n",
              "      <td>pos</td>\n",
              "    </tr>\n",
              "  </tbody>\n",
              "</table>\n",
              "</div>\n",
              "      <button class=\"colab-df-convert\" onclick=\"convertToInteractive('df-d87de2ca-24c7-46da-8a6f-320b05fc9de1')\"\n",
              "              title=\"Convert this dataframe to an interactive table.\"\n",
              "              style=\"display:none;\">\n",
              "        \n",
              "  <svg xmlns=\"http://www.w3.org/2000/svg\" height=\"24px\"viewBox=\"0 0 24 24\"\n",
              "       width=\"24px\">\n",
              "    <path d=\"M0 0h24v24H0V0z\" fill=\"none\"/>\n",
              "    <path d=\"M18.56 5.44l.94 2.06.94-2.06 2.06-.94-2.06-.94-.94-2.06-.94 2.06-2.06.94zm-11 1L8.5 8.5l.94-2.06 2.06-.94-2.06-.94L8.5 2.5l-.94 2.06-2.06.94zm10 10l.94 2.06.94-2.06 2.06-.94-2.06-.94-.94-2.06-.94 2.06-2.06.94z\"/><path d=\"M17.41 7.96l-1.37-1.37c-.4-.4-.92-.59-1.43-.59-.52 0-1.04.2-1.43.59L10.3 9.45l-7.72 7.72c-.78.78-.78 2.05 0 2.83L4 21.41c.39.39.9.59 1.41.59.51 0 1.02-.2 1.41-.59l7.78-7.78 2.81-2.81c.8-.78.8-2.07 0-2.86zM5.41 20L4 18.59l7.72-7.72 1.47 1.35L5.41 20z\"/>\n",
              "  </svg>\n",
              "      </button>\n",
              "      \n",
              "  <style>\n",
              "    .colab-df-container {\n",
              "      display:flex;\n",
              "      flex-wrap:wrap;\n",
              "      gap: 12px;\n",
              "    }\n",
              "\n",
              "    .colab-df-convert {\n",
              "      background-color: #E8F0FE;\n",
              "      border: none;\n",
              "      border-radius: 50%;\n",
              "      cursor: pointer;\n",
              "      display: none;\n",
              "      fill: #1967D2;\n",
              "      height: 32px;\n",
              "      padding: 0 0 0 0;\n",
              "      width: 32px;\n",
              "    }\n",
              "\n",
              "    .colab-df-convert:hover {\n",
              "      background-color: #E2EBFA;\n",
              "      box-shadow: 0px 1px 2px rgba(60, 64, 67, 0.3), 0px 1px 3px 1px rgba(60, 64, 67, 0.15);\n",
              "      fill: #174EA6;\n",
              "    }\n",
              "\n",
              "    [theme=dark] .colab-df-convert {\n",
              "      background-color: #3B4455;\n",
              "      fill: #D2E3FC;\n",
              "    }\n",
              "\n",
              "    [theme=dark] .colab-df-convert:hover {\n",
              "      background-color: #434B5C;\n",
              "      box-shadow: 0px 1px 3px 1px rgba(0, 0, 0, 0.15);\n",
              "      filter: drop-shadow(0px 1px 2px rgba(0, 0, 0, 0.3));\n",
              "      fill: #FFFFFF;\n",
              "    }\n",
              "  </style>\n",
              "\n",
              "      <script>\n",
              "        const buttonEl =\n",
              "          document.querySelector('#df-d87de2ca-24c7-46da-8a6f-320b05fc9de1 button.colab-df-convert');\n",
              "        buttonEl.style.display =\n",
              "          google.colab.kernel.accessAllowed ? 'block' : 'none';\n",
              "\n",
              "        async function convertToInteractive(key) {\n",
              "          const element = document.querySelector('#df-d87de2ca-24c7-46da-8a6f-320b05fc9de1');\n",
              "          const dataTable =\n",
              "            await google.colab.kernel.invokeFunction('convertToInteractive',\n",
              "                                                     [key], {});\n",
              "          if (!dataTable) return;\n",
              "\n",
              "          const docLinkHtml = 'Like what you see? Visit the ' +\n",
              "            '<a target=\"_blank\" href=https://colab.research.google.com/notebooks/data_table.ipynb>data table notebook</a>'\n",
              "            + ' to learn more about interactive tables.';\n",
              "          element.innerHTML = '';\n",
              "          dataTable['output_type'] = 'display_data';\n",
              "          await google.colab.output.renderOutput(dataTable, element);\n",
              "          const docLink = document.createElement('div');\n",
              "          docLink.innerHTML = docLinkHtml;\n",
              "          element.appendChild(docLink);\n",
              "        }\n",
              "      </script>\n",
              "    </div>\n",
              "  </div>\n",
              "  "
            ]
          },
          "metadata": {},
          "execution_count": 357
        }
      ]
    },
    {
      "cell_type": "code",
      "source": [
        "expected = df['predicted'].to_numpy()\n",
        "actual = df['actual'].to_numpy()\n"
      ],
      "metadata": {
        "id": "mbZkGE43hiB6"
      },
      "execution_count": 358,
      "outputs": []
    },
    {
      "cell_type": "code",
      "source": [
        "cm=confusion_matrix(actual,expected)\n",
        "\n",
        "plt.figure(figsize=[15, 10])\n",
        "sns.heatmap(data=cm, annot=True, cmap='Blues', square=True, xticklabels=labels, yticklabels=labels)\n",
        "plt.xlabel('Actual label')\n",
        "plt.ylabel('Expected label')\n",
        "plt.show()"
      ],
      "metadata": {
        "colab": {
          "base_uri": "https://localhost:8080/",
          "height": 606
        },
        "id": "KTRM--IXiLBq",
        "outputId": "3d9fe33f-c9cc-4077-f3ef-3e4edb462714"
      },
      "execution_count": 359,
      "outputs": [
        {
          "output_type": "display_data",
          "data": {
            "text/plain": [
              "<Figure size 1080x720 with 2 Axes>"
            ],
            "image/png": "[encoded data removed]"
          },
          "metadata": {
            "needs_background": "light"
          }
        }
      ]
    },
    {
      "cell_type": "code",
      "source": [
        "print( classification_report(actual,expected))\n"
      ],
      "metadata": {
        "colab": {
          "base_uri": "https://localhost:8080/"
        },
        "id": "n8Lmi9HyiW2q",
        "outputId": "e207847b-7a5f-42b9-834d-ce382893ea70"
      },
      "execution_count": 360,
      "outputs": [
        {
          "output_type": "stream",
          "name": "stdout",
          "text": [
            "              precision    recall  f1-score   support\n",
            "\n",
            "         neg       0.51      0.56      0.53     12784\n",
            "         pos       0.49      0.44      0.46     12240\n",
            "\n",
            "    accuracy                           0.50     25024\n",
            "   macro avg       0.50      0.50      0.50     25024\n",
            "weighted avg       0.50      0.50      0.50     25024\n",
            "\n"
          ]
        }
      ]
    },
    {
      "cell_type": "code",
      "source": [
        "failings = df[df['predicted']!= df['actual']]\n",
        "corrects = df[df['predicted']== df['actual']]\n",
        "\n",
        "display(failings.head())\n",
        "\n",
        "\n",
        "failing_predictions = len(failings)\n",
        "\n",
        "print('n° of failing predictions:',failing_predictions)\n",
        "# print(failings.index[0])\n",
        "total_data = len(df)\n",
        "\n",
        "print('accuracy:',1 - failing_predictions / total_data)"
      ],
      "metadata": {
        "colab": {
          "base_uri": "https://localhost:8080/",
          "height": 1000
        },
        "id": "ChKoLPnKil63",
        "outputId": "b6b62d32-ec0e-43a2-e7a1-045230cbb4e6"
      },
      "execution_count": 361,
      "outputs": [
        {
          "output_type": "display_data",
          "data": {
            "text/plain": [
              "                                                                                                                                                                                                                                                                                                                                                                                                                                                                                                                                                                                                                                                                                                                                                                                                                                                                                                                                                                                                                                                                                                                                                                                                                                                                                                                                                                                                                                                                                                                                                                                                                                                                                                                                                                                                                                                                                                                                                                                                                                                                                                                                                                                                                                                                                                                                                                                                                                                                                                                                                                                                                                                                                                                                             text  \\\n",
              "1                                                                                                                                                                                                                                                                                                                                                                                                                                                                                                                                                                                                                                                                                                                                                                                                                                                                                                                                                                                                                                                                                                                                                                                                                                                                                                                                                                                                                                                                                                                                                                                                                                                                                                                                                                                                                                                                                                                                                                                                                                                                                                b\"This is a well-crafted piece from everyone's favorite master of suspense. As usual, the technical elements such as camera work and lighting are outstanding (especially for the film's time). I did not find the first part of the film very exciting, but the latter one certainly made up for it with one thrilling scene after another.<br /><br />The only thing I did not like about this movie was the choice of Farley Granger for the part of Guy Haines. Somehow, I didn't find him very believable. On the other hand, Robert Walker shines as sinister 'bad guy' Bruno Anthony.<br /><br />Overall, I would highly recommend this.\"   \n",
              "2                                                                                                                                                                                                                                                                                                                                                                                                                                                                                                                                                                                                                                                                                                                                                                                                                                                                                                                                                                                                                                                                                                                                                                                                                                                                                                                                                                                                                         b'an excellent, thoughtfully produced historical drama--well played, artfully written, shot in ways that convey accurate visual images of the congo, and with more than a few moving moments, especially for those who care about the history of Africa and imperialism. however, a fair amount of worthwhile content gets lost in translation, and because names, acronyms, and so forth are hard to follow. so i would strongly recommend checking a neutral source such as wikipedia to get a basic sense of the story being depicted (and the subsequent history) before enjoying the film. if you have the DVD version, there is also some useful historical background. there is a point towards the end of the film where the name of a character who then speaks with an American accent is actually beeped out--a simple google search of \"lumumba film censor\" or something similar will reveal a truly fascinating (and perhaps disturbing) twist regarding the production of this important film. this film, if coupled with a little outside research, helps contextualize dozens of other films relating to central/east Africa and/or imperialism, e.g. hotel rwanda, shake hands with the devil, various adaptations of conrad\\'s heart of darkness, and even \"ali\" when mohammed ali visits kinshasa.'   \n",
              "4                                                                                                                                                                                                                                                                                                                                                                                                                                                                                                                                                                                                                                                                                                                                                                                                                                                                                                                                                                                                                                                                                                                                                                                                                                                                                                                                                                                                                                                                                                                                                                                                                                                                                                                                                                                                                                                                                                                                                                                                                                                                                b'How pointless, hideous characters and boring film. Saved by brief sex scenes, mad witch, gorgeous desert island and Brooks body. The plot is tenuous, the characters are shallow and unlikeable. Having said that I did manage to watch it all, mainly because I was totally transfixed by the jiggling and kind of hoping that her character would come good in the end. The film was well shot, well directed but perhaps the casting let it down in some ways. Disappointing. Really summed the review up in the first line but this website dictates that you need to write 10 lines minimum. It would be better to spend the time watching another film.'   \n",
              "7   b'Truly appalling waste of space. Me and my friend tried to watch this film to its conclusion but had to switch it off about 30 minutes from the end. And i can count the films I have switched off before the end on one hand.<br /><br />The script and direction are leaden and deeply uninspiring. I wouldn\\'t be surprised if they found the script in a pile of cast off scripts from 1983. For example the irritating scroat threatening the real estate guy from his house phone. I mean seriously. The police would be beating his door down in minutes. The scenes and events just wash by you like turds in a river. It is difficult to understand the actual thrust of the film. The narrative flicks between characters in a seemingly random manner breaking up the pathetic attempts at building the characters. Oh and what \"characters\" they are. The protagonist played by Rourke is dreadful. He could have just sent a cardboard cut out of himself and stayed in bed. After 60 or so minutes of the film I had built absolutely zero attachment to this character. He is neither sympathetic nor hateful. Just a disfigured dummy from a shop window blundering through every single scene. His motivation is impossible to discern from his generally mumbled and emotionless delivery. Is he happy? Is he sad? Angry? No idea. Just those same dead eyes staring out at you from a disfigured chunk of flesh. And the native American theme is just awful and pointless.<br /><br />The good guys are at best unlikeable. A dull white collar stereotype and a simpering neurotic ex-wife stereotype. Cue archetypal wife with shotgun face off with bad guy, \"you aren\\'t going to shoot me\" that is both tiresomely unoriginal and annoying.<br /><br />The richie nix character seems interesting at first but soon descends into an irritating one sided psycho character. Which seems at odds with the seeming intention of making the bad guys in some way sympathetic or at least realistically motivated.<br /><br />Roasario Dawsons character starts with some promise but soon descends into a sickening and childlike parody of the gangsters chick scenes from Jackie Brown. You really want me to believe her character was SO attracted to Rourke\\'s? Or worse she is just a floozy who sleeps with anything that moves? Realistic female characters FTW! <br /><br />In summary a complete mess of a film. Hopeless characterisations and performances. A leaden and hackneyed script along with uninspired direction. And ultimately extremely dull. Its not even comedy bad either. Laughing at Rourkes haggard face gets pretty old after sitting through the first 15 turgid minutes of the film.'   \n",
              "13                                                                                                                                                                                                                                                                                                                                                                                                                                                                                                                                                                                                                                                                                                                                                                                                                                                                                                                                                                                                                                                                                                                                                                                                                                                                                                                                                                                                                                                                                                                                                                                                                                                                                                                                                                                                                                                                                                                                                                                                                     b\"This movie had potential to be a good little high school thriller. Instead, we got a bore fest about a whiny, spoiled brat babysitting. The problem was there were too many unnecessary things. A fight with the boyfriend, random friends coming over to be killed. It was obvious they were just killing time. The main character was bland and uninteresting. Camilla Bell had no emotion during this movie. She was just there. Another problem was the fact that the killer was not a threat. The children survive, so it's obvious they are going to let Jill survive. The only reason this got a four was because the last ten minutes (when the killer FINALLY comes out) is actually exciting.<br /><br />4/10\"   \n",
              "\n",
              "   actual predicted  \n",
              "1     pos       neg  \n",
              "2     pos       neg  \n",
              "4     neg       pos  \n",
              "7     neg       pos  \n",
              "13    neg       pos  "
            ],
            "text/html": [
              "\n",
              "  <div id=\"df-c0906a65-f862-47a0-b66f-22fb5ee97498\">\n",
              "    <div class=\"colab-df-container\">\n",
              "      <div>\n",
              "<style scoped>\n",
              "    .dataframe tbody tr th:only-of-type {\n",
              "        vertical-align: middle;\n",
              "    }\n",
              "\n",
              "    .dataframe tbody tr th {\n",
              "        vertical-align: top;\n",
              "    }\n",
              "\n",
              "    .dataframe thead th {\n",
              "        text-align: right;\n",
              "    }\n",
              "</style>\n",
              "<table border=\"1\" class=\"dataframe\">\n",
              "  <thead>\n",
              "    <tr style=\"text-align: right;\">\n",
              "      <th></th>\n",
              "      <th>text</th>\n",
              "      <th>actual</th>\n",
              "      <th>predicted</th>\n",
              "    </tr>\n",
              "  </thead>\n",
              "  <tbody>\n",
              "    <tr>\n",
              "      <th>1</th>\n",
              "      <td>b\"This is a well-crafted piece from everyone's favorite master of suspense. As usual, the technical elements such as camera work and lighting are outstanding (especially for the film's time). I did not find the first part of the film very exciting, but the latter one certainly made up for it with one thrilling scene after another.&lt;br /&gt;&lt;br /&gt;The only thing I did not like about this movie was the choice of Farley Granger for the part of Guy Haines. Somehow, I didn't find him very believable. On the other hand, Robert Walker shines as sinister 'bad guy' Bruno Anthony.&lt;br /&gt;&lt;br /&gt;Overall, I would highly recommend this.\"</td>\n",
              "      <td>pos</td>\n",
              "      <td>neg</td>\n",
              "    </tr>\n",
              "    <tr>\n",
              "      <th>2</th>\n",
              "      <td>b'an excellent, thoughtfully produced historical drama--well played, artfully written, shot in ways that convey accurate visual images of the congo, and with more than a few moving moments, especially for those who care about the history of Africa and imperialism. however, a fair amount of worthwhile content gets lost in translation, and because names, acronyms, and so forth are hard to follow. so i would strongly recommend checking a neutral source such as wikipedia to get a basic sense of the story being depicted (and the subsequent history) before enjoying the film. if you have the DVD version, there is also some useful historical background. there is a point towards the end of the film where the name of a character who then speaks with an American accent is actually beeped out--a simple google search of \"lumumba film censor\" or something similar will reveal a truly fascinating (and perhaps disturbing) twist regarding the production of this important film. this film, if coupled with a little outside research, helps contextualize dozens of other films relating to central/east Africa and/or imperialism, e.g. hotel rwanda, shake hands with the devil, various adaptations of conrad\\'s heart of darkness, and even \"ali\" when mohammed ali visits kinshasa.'</td>\n",
              "      <td>pos</td>\n",
              "      <td>neg</td>\n",
              "    </tr>\n",
              "    <tr>\n",
              "      <th>4</th>\n",
              "      <td>b'How pointless, hideous characters and boring film. Saved by brief sex scenes, mad witch, gorgeous desert island and Brooks body. The plot is tenuous, the characters are shallow and unlikeable. Having said that I did manage to watch it all, mainly because I was totally transfixed by the jiggling and kind of hoping that her character would come good in the end. The film was well shot, well directed but perhaps the casting let it down in some ways. Disappointing. Really summed the review up in the first line but this website dictates that you need to write 10 lines minimum. It would be better to spend the time watching another film.'</td>\n",
              "      <td>neg</td>\n",
              "      <td>pos</td>\n",
              "    </tr>\n",
              "    <tr>\n",
              "      <th>7</th>\n",
              "      <td>b'Truly appalling waste of space. Me and my friend tried to watch this film to its conclusion but had to switch it off about 30 minutes from the end. And i can count the films I have switched off before the end on one hand.&lt;br /&gt;&lt;br /&gt;The script and direction are leaden and deeply uninspiring. I wouldn\\'t be surprised if they found the script in a pile of cast off scripts from 1983. For example the irritating scroat threatening the real estate guy from his house phone. I mean seriously. The police would be beating his door down in minutes. The scenes and events just wash by you like turds in a river. It is difficult to understand the actual thrust of the film. The narrative flicks between characters in a seemingly random manner breaking up the pathetic attempts at building the characters. Oh and what \"characters\" they are. The protagonist played by Rourke is dreadful. He could have just sent a cardboard cut out of himself and stayed in bed. After 60 or so minutes of the film I had built absolutely zero attachment to this character. He is neither sympathetic nor hateful. Just a disfigured dummy from a shop window blundering through every single scene. His motivation is impossible to discern from his generally mumbled and emotionless delivery. Is he happy? Is he sad? Angry? No idea. Just those same dead eyes staring out at you from a disfigured chunk of flesh. And the native American theme is just awful and pointless.&lt;br /&gt;&lt;br /&gt;The good guys are at best unlikeable. A dull white collar stereotype and a simpering neurotic ex-wife stereotype. Cue archetypal wife with shotgun face off with bad guy, \"you aren\\'t going to shoot me\" that is both tiresomely unoriginal and annoying.&lt;br /&gt;&lt;br /&gt;The richie nix character seems interesting at first but soon descends into an irritating one sided psycho character. Which seems at odds with the seeming intention of making the bad guys in some way sympathetic or at least realistically motivated.&lt;br /&gt;&lt;br /&gt;Roasario Dawsons character starts with some promise but soon descends into a sickening and childlike parody of the gangsters chick scenes from Jackie Brown. You really want me to believe her character was SO attracted to Rourke\\'s? Or worse she is just a floozy who sleeps with anything that moves? Realistic female characters FTW! &lt;br /&gt;&lt;br /&gt;In summary a complete mess of a film. Hopeless characterisations and performances. A leaden and hackneyed script along with uninspired direction. And ultimately extremely dull. Its not even comedy bad either. Laughing at Rourkes haggard face gets pretty old after sitting through the first 15 turgid minutes of the film.'</td>\n",
              "      <td>neg</td>\n",
              "      <td>pos</td>\n",
              "    </tr>\n",
              "    <tr>\n",
              "      <th>13</th>\n",
              "      <td>b\"This movie had potential to be a good little high school thriller. Instead, we got a bore fest about a whiny, spoiled brat babysitting. The problem was there were too many unnecessary things. A fight with the boyfriend, random friends coming over to be killed. It was obvious they were just killing time. The main character was bland and uninteresting. Camilla Bell had no emotion during this movie. She was just there. Another problem was the fact that the killer was not a threat. The children survive, so it's obvious they are going to let Jill survive. The only reason this got a four was because the last ten minutes (when the killer FINALLY comes out) is actually exciting.&lt;br /&gt;&lt;br /&gt;4/10\"</td>\n",
              "      <td>neg</td>\n",
              "      <td>pos</td>\n",
              "    </tr>\n",
              "  </tbody>\n",
              "</table>\n",
              "</div>\n",
              "      <button class=\"colab-df-convert\" onclick=\"convertToInteractive('df-c0906a65-f862-47a0-b66f-22fb5ee97498')\"\n",
              "              title=\"Convert this dataframe to an interactive table.\"\n",
              "              style=\"display:none;\">\n",
              "        \n",
              "  <svg xmlns=\"http://www.w3.org/2000/svg\" height=\"24px\"viewBox=\"0 0 24 24\"\n",
              "       width=\"24px\">\n",
              "    <path d=\"M0 0h24v24H0V0z\" fill=\"none\"/>\n",
              "    <path d=\"M18.56 5.44l.94 2.06.94-2.06 2.06-.94-2.06-.94-.94-2.06-.94 2.06-2.06.94zm-11 1L8.5 8.5l.94-2.06 2.06-.94-2.06-.94L8.5 2.5l-.94 2.06-2.06.94zm10 10l.94 2.06.94-2.06 2.06-.94-2.06-.94-.94-2.06-.94 2.06-2.06.94z\"/><path d=\"M17.41 7.96l-1.37-1.37c-.4-.4-.92-.59-1.43-.59-.52 0-1.04.2-1.43.59L10.3 9.45l-7.72 7.72c-.78.78-.78 2.05 0 2.83L4 21.41c.39.39.9.59 1.41.59.51 0 1.02-.2 1.41-.59l7.78-7.78 2.81-2.81c.8-.78.8-2.07 0-2.86zM5.41 20L4 18.59l7.72-7.72 1.47 1.35L5.41 20z\"/>\n",
              "  </svg>\n",
              "      </button>\n",
              "      \n",
              "  <style>\n",
              "    .colab-df-container {\n",
              "      display:flex;\n",
              "      flex-wrap:wrap;\n",
              "      gap: 12px;\n",
              "    }\n",
              "\n",
              "    .colab-df-convert {\n",
              "      background-color: #E8F0FE;\n",
              "      border: none;\n",
              "      border-radius: 50%;\n",
              "      cursor: pointer;\n",
              "      display: none;\n",
              "      fill: #1967D2;\n",
              "      height: 32px;\n",
              "      padding: 0 0 0 0;\n",
              "      width: 32px;\n",
              "    }\n",
              "\n",
              "    .colab-df-convert:hover {\n",
              "      background-color: #E2EBFA;\n",
              "      box-shadow: 0px 1px 2px rgba(60, 64, 67, 0.3), 0px 1px 3px 1px rgba(60, 64, 67, 0.15);\n",
              "      fill: #174EA6;\n",
              "    }\n",
              "\n",
              "    [theme=dark] .colab-df-convert {\n",
              "      background-color: #3B4455;\n",
              "      fill: #D2E3FC;\n",
              "    }\n",
              "\n",
              "    [theme=dark] .colab-df-convert:hover {\n",
              "      background-color: #434B5C;\n",
              "      box-shadow: 0px 1px 3px 1px rgba(0, 0, 0, 0.15);\n",
              "      filter: drop-shadow(0px 1px 2px rgba(0, 0, 0, 0.3));\n",
              "      fill: #FFFFFF;\n",
              "    }\n",
              "  </style>\n",
              "\n",
              "      <script>\n",
              "        const buttonEl =\n",
              "          document.querySelector('#df-c0906a65-f862-47a0-b66f-22fb5ee97498 button.colab-df-convert');\n",
              "        buttonEl.style.display =\n",
              "          google.colab.kernel.accessAllowed ? 'block' : 'none';\n",
              "\n",
              "        async function convertToInteractive(key) {\n",
              "          const element = document.querySelector('#df-c0906a65-f862-47a0-b66f-22fb5ee97498');\n",
              "          const dataTable =\n",
              "            await google.colab.kernel.invokeFunction('convertToInteractive',\n",
              "                                                     [key], {});\n",
              "          if (!dataTable) return;\n",
              "\n",
              "          const docLinkHtml = 'Like what you see? Visit the ' +\n",
              "            '<a target=\"_blank\" href=https://colab.research.google.com/notebooks/data_table.ipynb>data table notebook</a>'\n",
              "            + ' to learn more about interactive tables.';\n",
              "          element.innerHTML = '';\n",
              "          dataTable['output_type'] = 'display_data';\n",
              "          await google.colab.output.renderOutput(dataTable, element);\n",
              "          const docLink = document.createElement('div');\n",
              "          docLink.innerHTML = docLinkHtml;\n",
              "          element.appendChild(docLink);\n",
              "        }\n",
              "      </script>\n",
              "    </div>\n",
              "  </div>\n",
              "  "
            ]
          },
          "metadata": {}
        },
        {
          "output_type": "stream",
          "name": "stdout",
          "text": [
            "n° of failing predictions: 12507\n",
            "accuracy: 0.5001998081841432\n"
          ]
        }
      ]
    },
    {
      "cell_type": "markdown",
      "source": [
        "* ~~max col width for pandas~~\n",
        "* ~~word embendings layers with supervized corpus with word2vec~~\n",
        "* rying ~~trecurrent cnn~~ and ~~bidirectional cnn~~\n"
      ],
      "metadata": {
        "id": "-wDmf5lZCVRE"
      }
    }
  ]
}